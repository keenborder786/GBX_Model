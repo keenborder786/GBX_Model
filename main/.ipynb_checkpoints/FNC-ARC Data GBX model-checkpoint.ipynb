{
 "cells": [
  {
   "cell_type": "code",
   "execution_count": null,
   "metadata": {},
   "outputs": [],
   "source": [
    "from google.colab import drive\n",
    "drive.mount('/content/drive')"
   ]
  },
  {
   "cell_type": "markdown",
   "metadata": {},
   "source": [
    "# Requirements to Run the Notebook"
   ]
  },
  {
   "cell_type": "code",
   "execution_count": 24,
   "metadata": {
    "colab": {
     "base_uri": "https://localhost:8080/",
     "height": 649
    },
    "colab_type": "code",
    "executionInfo": {
     "elapsed": 11243,
     "status": "ok",
     "timestamp": 1599255359621,
     "user": {
      "displayName": "Ur Tech Guide",
      "photoUrl": "https://lh3.googleusercontent.com/a-/AOh14GhBjMoWnc1KwT73B6hzAbvnSIxnZAl5PY9n_RGJ0w=s64",
      "userId": "03152431167485721857"
     },
     "user_tz": -300
    },
    "id": "DRBiAdouORAy",
    "outputId": "2b037f99-2446-40ff-eed2-bb9117088435"
   },
   "outputs": [
    {
     "name": "stdout",
     "output_type": "stream",
     "text": [
      "Requirement already satisfied: transformers in c:\\users\\mohammad.khan\\anaconda3\\lib\\site-packages (4.7.0)\n",
      "Requirement already satisfied: tqdm>=4.27 in c:\\users\\mohammad.khan\\anaconda3\\lib\\site-packages (from transformers) (4.59.0)\n",
      "Requirement already satisfied: huggingface-hub==0.0.8 in c:\\users\\mohammad.khan\\anaconda3\\lib\\site-packages (from transformers) (0.0.8)\n",
      "Requirement already satisfied: sacremoses in c:\\users\\mohammad.khan\\anaconda3\\lib\\site-packages (from transformers) (0.0.45)\n",
      "Requirement already satisfied: tokenizers<0.11,>=0.10.1 in c:\\users\\mohammad.khan\\anaconda3\\lib\\site-packages (from transformers) (0.10.3)\n",
      "Requirement already satisfied: filelock in c:\\users\\mohammad.khan\\anaconda3\\lib\\site-packages (from transformers) (3.0.12)\n",
      "Requirement already satisfied: regex!=2019.12.17 in c:\\users\\mohammad.khan\\anaconda3\\lib\\site-packages (from transformers) (2021.4.4)\n",
      "Requirement already satisfied: packaging in c:\\users\\mohammad.khan\\anaconda3\\lib\\site-packages (from transformers) (20.9)\n",
      "Requirement already satisfied: pyyaml in c:\\users\\mohammad.khan\\anaconda3\\lib\\site-packages (from transformers) (5.4.1)\n",
      "Requirement already satisfied: numpy>=1.17 in c:\\users\\mohammad.khan\\anaconda3\\lib\\site-packages (from transformers) (1.20.2)\n",
      "Requirement already satisfied: requests in c:\\users\\mohammad.khan\\anaconda3\\lib\\site-packages (from transformers) (2.25.1)\n",
      "Requirement already satisfied: pyparsing>=2.0.2 in c:\\users\\mohammad.khan\\anaconda3\\lib\\site-packages (from packaging->transformers) (2.4.7)\n",
      "Requirement already satisfied: certifi>=2017.4.17 in c:\\users\\mohammad.khan\\anaconda3\\lib\\site-packages (from requests->transformers) (2021.5.30)\n",
      "Requirement already satisfied: idna<3,>=2.5 in c:\\users\\mohammad.khan\\anaconda3\\lib\\site-packages (from requests->transformers) (2.10)\n",
      "Requirement already satisfied: chardet<5,>=3.0.2 in c:\\users\\mohammad.khan\\anaconda3\\lib\\site-packages (from requests->transformers) (4.0.0)\n",
      "Requirement already satisfied: urllib3<1.27,>=1.21.1 in c:\\users\\mohammad.khan\\anaconda3\\lib\\site-packages (from requests->transformers) (1.26.4)\n",
      "Requirement already satisfied: joblib in c:\\users\\mohammad.khan\\anaconda3\\lib\\site-packages (from sacremoses->transformers) (1.0.1)\n",
      "Requirement already satisfied: six in c:\\users\\mohammad.khan\\anaconda3\\lib\\site-packages (from sacremoses->transformers) (1.16.0)\n",
      "Requirement already satisfied: click in c:\\users\\mohammad.khan\\anaconda3\\lib\\site-packages (from sacremoses->transformers) (8.0.1)\n",
      "Requirement already satisfied: colorama in c:\\users\\mohammad.khan\\anaconda3\\lib\\site-packages (from click->sacremoses->transformers) (0.4.4)\n",
      "Requirement already satisfied: nltk in c:\\users\\mohammad.khan\\anaconda3\\lib\\site-packages (3.6.2)\n",
      "Requirement already satisfied: tqdm in c:\\users\\mohammad.khan\\anaconda3\\lib\\site-packages (from nltk) (4.59.0)\n",
      "Requirement already satisfied: joblib in c:\\users\\mohammad.khan\\anaconda3\\lib\\site-packages (from nltk) (1.0.1)\n",
      "Requirement already satisfied: regex in c:\\users\\mohammad.khan\\anaconda3\\lib\\site-packages (from nltk) (2021.4.4)\n",
      "Requirement already satisfied: click in c:\\users\\mohammad.khan\\anaconda3\\lib\\site-packages (from nltk) (8.0.1)\n",
      "Requirement already satisfied: colorama in c:\\users\\mohammad.khan\\anaconda3\\lib\\site-packages (from click->nltk) (0.4.4)\n"
     ]
    }
   ],
   "source": [
    "!pip install transformers\n",
    "!pip install nltk\n",
    "!pip install gdown"
   ]
  },
  {
   "cell_type": "code",
   "execution_count": 2,
   "metadata": {
    "colab": {
     "base_uri": "https://localhost:8080/",
     "height": 105
    },
    "colab_type": "code",
    "executionInfo": {
     "elapsed": 14522,
     "status": "ok",
     "timestamp": 1599255365628,
     "user": {
      "displayName": "Ur Tech Guide",
      "photoUrl": "https://lh3.googleusercontent.com/a-/AOh14GhBjMoWnc1KwT73B6hzAbvnSIxnZAl5PY9n_RGJ0w=s64",
      "userId": "03152431167485721857"
     },
     "user_tz": -300
    },
    "id": "lm5m-plONaVw",
    "outputId": "accefdbf-3ffd-4d17-f2ca-821b516a63af"
   },
   "outputs": [
    {
     "name": "stderr",
     "output_type": "stream",
     "text": [
      "[nltk_data] Downloading package punkt to\n",
      "[nltk_data]     C:\\Users\\Mohammad.Khan\\AppData\\Roaming\\nltk_data...\n",
      "[nltk_data]   Package punkt is already up-to-date!\n"
     ]
    }
   ],
   "source": [
    "# the OG \n",
    "import numpy as np \n",
    "import pandas as pd \n",
    "import seaborn as sns\n",
    "import matplotlib.pyplot as plt\n",
    "import matplotlib as mpl\n",
    "from matplotlib import style\n",
    "\n",
    "\n",
    "# Sklearn\n",
    "from sklearn.model_selection import train_test_split\n",
    "from sklearn.metrics import *\n",
    "from sklearn.utils.class_weight import compute_class_weight\n",
    "\n",
    "#NLP Specifics\n",
    "from nltk import word_tokenize\n",
    "import nltk\n",
    "from tokenizers import BertWordPieceTokenizer\n",
    "from transformers import (AdamW,get_linear_schedule_with_warmup,get_cosine_schedule_with_warmup,RobertaTokenizerFast,DistilBertTokenizerFast,PreTrainedTokenizerFast,AutoModel,\n",
    "                          DistilBertTokenizerFast,GPT2TokenizerFast,AutoTokenizer,BertTokenizer,TFBertModel,TFOpenAIGPTModel,OpenAIGPTTokenizer,DistilBertTokenizer, TFDistilBertModel,XLMTokenizer, TFXLMModel,TFBertForSequenceClassification,TFGPT2Model,TFXLMRobertaModel)\n",
    "\n",
    "#tensorflow\n",
    "import tensorflow as tf\n",
    "import tensorflow_hub as hub\n",
    "from tensorflow.keras.preprocessing.text import Tokenizer\n",
    "from tensorflow.keras.preprocessing.sequence import pad_sequences\n",
    "from tensorflow.keras.models import Sequential\n",
    "from tensorflow.keras.layers import *\n",
    "from tensorflow.keras.initializers import Constant\n",
    "\n",
    "#other imports\n",
    "import urllib\n",
    "import os\n",
    "import gc\n",
    "from tqdm import tqdm\n",
    "import re\n",
    "import random\n",
    "from typing import Callable, List, Optional, Union\n",
    "from google_drive_downloader import GoogleDriveDownloader as gdd\n",
    "\n",
    "nltk.download('punkt')\n",
    "style.use('ggplot')\n",
    "MAX_LEN=256"
   ]
  },
  {
   "cell_type": "code",
   "execution_count": 3,
   "metadata": {},
   "outputs": [
    {
     "name": "stderr",
     "output_type": "stream",
     "text": [
      "Downloading...\n",
      "From: https://drive.google.com/uc?id=1DJ5qzz2d95RWOOnvq_cliuTZmzA6dkq9\n",
      "To: C:\\Users\\Mohammad.Khan\\Anaconda3\\libs\\GBX_Model\\main\\FNC_ARC_data\\data.csv\n",
      "\n",
      "0.00B [00:00, ?B/s]\n",
      "524kB [00:00, 802kB/s]\n",
      "1.05MB [00:00, 1.39MB/s]\n",
      "1.57MB [00:01, 1.86MB/s]\n",
      "2.10MB [00:01, 2.16MB/s]\n",
      "2.62MB [00:01, 1.81MB/s]\n",
      "3.15MB [00:01, 2.09MB/s]\n",
      "3.67MB [00:02, 1.58MB/s]\n",
      "4.19MB [00:02, 1.58MB/s]\n",
      "4.72MB [00:02, 1.93MB/s]\n",
      "5.24MB [00:02, 2.21MB/s]\n",
      "5.77MB [00:03, 1.90MB/s]\n",
      "6.29MB [00:03, 2.01MB/s]\n",
      "6.82MB [00:03, 2.31MB/s]\n",
      "7.34MB [00:03, 2.27MB/s]\n",
      "7.86MB [00:03, 2.64MB/s]\n",
      "8.39MB [00:04, 2.61MB/s]\n",
      "8.91MB [00:04, 2.78MB/s]\n",
      "9.44MB [00:04, 3.02MB/s]\n",
      "9.96MB [00:04, 3.13MB/s]\n",
      "10.5MB [00:04, 3.28MB/s]\n",
      "11.0MB [00:04, 3.31MB/s]\n",
      "11.5MB [00:05, 3.25MB/s]\n",
      "12.1MB [00:06, 801kB/s] \n",
      "12.6MB [00:07, 1.02MB/s]\n",
      "13.1MB [00:07, 1.18MB/s]\n",
      "13.6MB [00:07, 1.07MB/s]\n",
      "14.2MB [00:08, 1.16MB/s]\n",
      "14.7MB [00:08, 1.23MB/s]\n",
      "15.2MB [00:08, 1.52MB/s]\n",
      "15.7MB [00:09, 1.78MB/s]\n",
      "16.3MB [00:09, 2.04MB/s]\n",
      "16.8MB [00:09, 2.11MB/s]\n",
      "17.3MB [00:10, 1.02MB/s]\n",
      "17.8MB [00:10, 1.12MB/s]\n",
      "18.4MB [00:11, 1.41MB/s]\n",
      "18.9MB [00:11, 1.70MB/s]\n",
      "19.4MB [00:11, 1.70MB/s]\n",
      "19.9MB [00:11, 1.57MB/s]\n",
      "20.4MB [00:12, 1.75MB/s]\n",
      "21.0MB [00:12, 2.03MB/s]\n",
      "21.5MB [00:12, 1.93MB/s]\n",
      "22.0MB [00:12, 2.10MB/s]\n",
      "22.5MB [00:12, 2.34MB/s]\n",
      "23.1MB [00:13, 2.31MB/s]\n",
      "23.6MB [00:13, 1.73MB/s]\n",
      "24.1MB [00:13, 2.04MB/s]\n",
      "24.6MB [00:14, 2.28MB/s]\n",
      "25.2MB [00:14, 2.49MB/s]\n",
      "25.7MB [00:14, 2.68MB/s]\n",
      "26.2MB [00:14, 2.80MB/s]\n",
      "26.7MB [00:14, 3.02MB/s]\n",
      "27.3MB [00:14, 3.26MB/s]\n",
      "27.8MB [00:14, 3.37MB/s]\n",
      "28.3MB [00:15, 3.38MB/s]\n",
      "28.8MB [00:15, 3.40MB/s]\n",
      "29.4MB [00:15, 3.29MB/s]\n",
      "29.9MB [00:16, 994kB/s] \n",
      "30.4MB [00:16, 1.27MB/s]\n",
      "30.9MB [00:17, 1.27MB/s]\n",
      "31.5MB [00:18, 763kB/s] \n",
      "32.0MB [00:19, 800kB/s]\n",
      "32.5MB [00:19, 1.05MB/s]\n",
      "33.0MB [00:19, 1.32MB/s]\n",
      "33.6MB [00:19, 1.61MB/s]\n",
      "34.1MB [00:19, 1.83MB/s]\n",
      "34.6MB [00:20, 2.13MB/s]\n",
      "35.1MB [00:20, 1.96MB/s]\n",
      "36.2MB [00:21, 1.21MB/s]\n",
      "36.7MB [00:24, 542kB/s] \n",
      "37.2MB [00:24, 618kB/s]\n",
      "37.7MB [00:25, 743kB/s]\n",
      "38.3MB [00:25, 950kB/s]\n",
      "38.8MB [00:25, 1.04MB/s]\n",
      "39.3MB [00:27, 653kB/s] \n",
      "39.8MB [00:27, 789kB/s]\n",
      "40.9MB [00:27, 1.16MB/s]\n",
      "41.4MB [00:28, 1.22MB/s]\n",
      "41.9MB [00:28, 1.45MB/s]\n",
      "42.5MB [00:28, 1.71MB/s]\n",
      "43.0MB [00:28, 1.99MB/s]\n",
      "43.5MB [00:28, 2.20MB/s]\n",
      "44.0MB [00:29, 2.46MB/s]\n",
      "44.6MB [00:29, 2.77MB/s]\n",
      "45.1MB [00:29, 3.00MB/s]\n",
      "45.6MB [00:29, 3.21MB/s]\n",
      "46.1MB [00:29, 3.40MB/s]\n",
      "46.7MB [00:29, 3.53MB/s]\n",
      "47.2MB [00:29, 3.64MB/s]\n",
      "47.7MB [00:30, 1.43MB/s]\n",
      "48.2MB [00:30, 1.62MB/s]\n",
      "48.8MB [00:31, 1.70MB/s]\n",
      "49.3MB [00:31, 2.09MB/s]\n",
      "49.8MB [00:31, 1.85MB/s]\n",
      "50.3MB [00:31, 2.19MB/s]\n",
      "50.9MB [00:31, 2.52MB/s]\n",
      "51.4MB [00:32, 2.80MB/s]\n",
      "51.9MB [00:32, 2.54MB/s]\n",
      "52.4MB [00:34, 566kB/s] \n",
      "53.5MB [00:35, 960kB/s]\n",
      "54.0MB [00:38, 388kB/s]\n",
      "54.5MB [00:39, 499kB/s]\n",
      "55.1MB [00:39, 641kB/s]\n",
      "55.6MB [00:39, 809kB/s]\n",
      "56.1MB [00:39, 991kB/s]\n",
      "56.6MB [00:40, 1.19MB/s]\n",
      "57.1MB [00:40, 1.22MB/s]\n",
      "57.7MB [00:40, 1.22MB/s]\n",
      "58.2MB [00:41, 1.45MB/s]\n",
      "58.7MB [00:41, 1.54MB/s]\n",
      "59.2MB [00:41, 1.65MB/s]\n",
      "59.8MB [00:42, 912kB/s] \n",
      "60.3MB [00:42, 1.15MB/s]\n",
      "60.8MB [00:43, 1.38MB/s]\n",
      "61.3MB [00:43, 1.56MB/s]\n",
      "61.9MB [00:43, 1.48MB/s]\n",
      "62.4MB [00:43, 1.75MB/s]\n",
      "62.9MB [00:44, 2.01MB/s]\n",
      "63.4MB [00:44, 2.24MB/s]\n",
      "64.0MB [00:44, 2.50MB/s]\n",
      "64.5MB [00:44, 2.60MB/s]\n",
      "65.0MB [00:44, 2.71MB/s]\n",
      "65.5MB [00:44, 2.87MB/s]\n",
      "66.1MB [00:45, 3.04MB/s]\n",
      "66.6MB [00:45, 1.61MB/s]\n",
      "67.1MB [00:46, 1.81MB/s]\n",
      "67.6MB [00:46, 1.69MB/s]\n",
      "68.2MB [00:46, 1.64MB/s]\n",
      "68.7MB [00:47, 1.14MB/s]\n",
      "69.2MB [00:48, 914kB/s] \n",
      "69.7MB [00:48, 1.13MB/s]\n",
      "70.3MB [00:48, 1.15MB/s]\n",
      "70.8MB [00:49, 1.43MB/s]\n",
      "71.3MB [00:50, 644kB/s] \n",
      "71.8MB [00:51, 646kB/s]\n",
      "72.4MB [00:52, 791kB/s]\n",
      "72.9MB [00:52, 1.01MB/s]\n",
      "73.4MB [00:52, 1.28MB/s]\n",
      "73.9MB [00:52, 1.57MB/s]\n",
      "74.4MB [00:52, 1.82MB/s]\n",
      "75.0MB [00:52, 2.14MB/s]\n",
      "75.5MB [00:53, 2.37MB/s]\n",
      "76.0MB [00:53, 2.70MB/s]\n",
      "76.5MB [00:53, 2.99MB/s]\n",
      "77.1MB [00:53, 3.21MB/s]\n",
      "77.6MB [00:53, 3.38MB/s]\n",
      "78.1MB [00:53, 2.49MB/s]\n",
      "78.6MB [00:54, 1.70MB/s]\n",
      "79.2MB [00:54, 1.79MB/s]\n",
      "79.7MB [00:54, 2.17MB/s]\n",
      "80.2MB [00:55, 2.54MB/s]\n",
      "80.7MB [00:55, 2.78MB/s]\n",
      "81.3MB [00:55, 2.21MB/s]\n",
      "81.8MB [00:55, 2.16MB/s]\n",
      "82.3MB [00:55, 2.54MB/s]\n",
      "82.8MB [00:56, 2.77MB/s]\n",
      "83.4MB [00:56, 2.94MB/s]\n",
      "83.9MB [00:56, 3.07MB/s]\n",
      "84.4MB [00:56, 3.12MB/s]\n",
      "84.9MB [00:56, 3.15MB/s]\n",
      "85.5MB [00:56, 3.53MB/s]\n",
      "86.0MB [00:56, 3.61MB/s]\n",
      "86.5MB [00:57, 3.73MB/s]\n",
      "87.0MB [00:57, 3.54MB/s]\n",
      "87.6MB [00:57, 2.85MB/s]\n",
      "88.1MB [01:00, 446kB/s] \n",
      "88.6MB [01:02, 407kB/s]\n",
      "89.7MB [01:02, 682kB/s]\n",
      "90.2MB [01:03, 725kB/s]\n",
      "90.7MB [01:03, 868kB/s]\n",
      "91.2MB [01:04, 990kB/s]\n",
      "91.8MB [01:04, 1.13MB/s]\n",
      "92.3MB [01:04, 1.28MB/s]\n",
      "92.8MB [01:04, 1.46MB/s]\n",
      "93.3MB [01:06, 689kB/s] \n",
      "93.8MB [01:06, 894kB/s]\n",
      "94.4MB [01:06, 1.13MB/s]\n",
      "94.9MB [01:07, 1.34MB/s]\n",
      "95.4MB [01:07, 1.53MB/s]\n",
      "95.9MB [01:07, 1.77MB/s]\n",
      "96.5MB [01:07, 1.96MB/s]\n",
      "97.0MB [01:08, 1.33MB/s]\n",
      "97.5MB [01:08, 1.21MB/s]\n",
      "98.0MB [01:09, 1.39MB/s]\n",
      "98.6MB [01:09, 1.59MB/s]\n",
      "99.1MB [01:10, 1.12MB/s]\n",
      "99.6MB [01:12, 464kB/s] \n",
      "100MB [01:13, 578kB/s] \n",
      "101MB [01:13, 767kB/s]\n",
      "101MB [01:13, 996kB/s]\n",
      "102MB [01:14, 740kB/s]\n",
      "102MB [01:15, 762kB/s]\n",
      "103MB [01:15, 987kB/s]\n",
      "103MB [01:17, 635kB/s]\n",
      "104MB [01:17, 828kB/s]\n",
      "104MB [01:17, 881kB/s]\n",
      "105MB [01:17, 1.11MB/s]\n",
      "105MB [01:18, 1.39MB/s]\n",
      "106MB [01:18, 1.66MB/s]\n",
      "106MB [01:18, 1.64MB/s]\n",
      "107MB [01:18, 1.90MB/s]\n",
      "107MB [01:18, 2.18MB/s]\n",
      "108MB [01:19, 2.28MB/s]\n",
      "109MB [01:19, 2.54MB/s]\n",
      "109MB [01:19, 2.83MB/s]\n",
      "110MB [01:19, 2.88MB/s]\n",
      "110MB [01:19, 3.28MB/s]\n",
      "111MB [01:22, 536kB/s] \n",
      "111MB [01:25, 317kB/s]\n",
      "112MB [01:26, 413kB/s]\n",
      "112MB [01:27, 366kB/s]\n",
      "113MB [01:28, 501kB/s]\n",
      "113MB [01:28, 655kB/s]\n",
      "114MB [01:28, 886kB/s]\n",
      "114MB [01:28, 1.14MB/s]\n",
      "115MB [01:28, 1.43MB/s]\n",
      "115MB [01:28, 1.78MB/s]\n",
      "116MB [01:29, 2.11MB/s]\n",
      "116MB [01:29, 2.40MB/s]\n",
      "117MB [01:29, 2.72MB/s]\n",
      "117MB [01:29, 3.00MB/s]\n",
      "118MB [01:29, 2.59MB/s]\n",
      "118MB [01:31, 735kB/s] \n",
      "120MB [01:32, 828kB/s]\n",
      "120MB [01:34, 635kB/s]\n",
      "121MB [01:34, 791kB/s]\n",
      "121MB [01:34, 952kB/s]\n",
      "122MB [01:34, 1.22MB/s]\n",
      "122MB [01:34, 1.48MB/s]\n",
      "123MB [01:35, 1.00MB/s]\n",
      "123MB [01:35, 1.21MB/s]\n",
      "124MB [01:36, 1.39MB/s]\n",
      "124MB [01:37, 963kB/s] \n",
      "125MB [01:37, 1.65MB/s]\n",
      "126MB [01:37, 1.68MB/s]\n",
      "126MB [01:37, 1.94MB/s]\n",
      "127MB [01:37, 2.00MB/s]\n",
      "127MB [01:38, 2.35MB/s]\n",
      "128MB [01:38, 2.30MB/s]\n",
      "128MB [01:38, 2.55MB/s]\n",
      "129MB [01:38, 2.48MB/s]\n",
      "129MB [01:38, 2.71MB/s]\n",
      "130MB [01:38, 2.96MB/s]\n",
      "131MB [01:39, 2.97MB/s]\n",
      "131MB [01:39, 3.08MB/s]\n",
      "132MB [01:39, 3.20MB/s]\n",
      "132MB [01:41, 723kB/s] \n",
      "133MB [01:41, 877kB/s]\n",
      "133MB [01:48, 227kB/s]\n",
      "134MB [01:48, 306kB/s]\n",
      "134MB [01:48, 412kB/s]\n",
      "135MB [01:48, 558kB/s]\n",
      "135MB [01:49, 718kB/s]\n",
      "136MB [01:49, 903kB/s]\n",
      "136MB [01:49, 977kB/s]\n",
      "137MB [01:49, 1.23MB/s]\n",
      "137MB [01:50, 1.53MB/s]\n",
      "138MB [01:50, 1.68MB/s]\n",
      "138MB [01:51, 1.00MB/s]\n",
      "139MB [01:52, 705kB/s] \n",
      "139MB [01:52, 841kB/s]\n",
      "140MB [01:53, 1.07MB/s]\n",
      "141MB [01:53, 1.37MB/s]\n",
      "141MB [01:53, 1.64MB/s]\n",
      "142MB [01:53, 1.90MB/s]\n",
      "142MB [01:53, 1.99MB/s]\n",
      "143MB [01:54, 2.04MB/s]\n",
      "143MB [01:54, 2.21MB/s]\n",
      "144MB [01:54, 2.49MB/s]\n",
      "144MB [01:55, 1.46MB/s]\n",
      "145MB [01:56, 982kB/s] \n",
      "145MB [01:56, 1.26MB/s]\n",
      "146MB [01:56, 1.43MB/s]\n",
      "146MB [01:57, 1.06MB/s]\n",
      "147MB [01:58, 774kB/s] \n",
      "148MB [01:58, 1.27MB/s]\n",
      "148MB [01:58, 1.53MB/s]\n",
      "149MB [01:58, 1.78MB/s]\n",
      "149MB [01:59, 1.96MB/s]\n",
      "150MB [01:59, 1.86MB/s]\n",
      "150MB [01:59, 2.23MB/s]\n",
      "151MB [01:59, 2.53MB/s]\n",
      "152MB [01:59, 2.76MB/s]\n",
      "152MB [01:59, 2.73MB/s]\n",
      "153MB [02:00, 2.90MB/s]\n",
      "153MB [02:00, 3.24MB/s]\n",
      "154MB [02:00, 2.80MB/s]\n",
      "154MB [02:00, 2.86MB/s]\n",
      "155MB [02:00, 2.63MB/s]\n",
      "155MB [02:01, 2.47MB/s]\n",
      "156MB [02:01, 2.51MB/s]\n",
      "156MB [02:01, 2.54MB/s]\n",
      "157MB [02:01, 2.72MB/s]\n",
      "157MB [02:01, 2.95MB/s]\n",
      "158MB [02:01, 3.17MB/s]\n",
      "158MB [02:02, 3.35MB/s]\n",
      "159MB [02:02, 3.42MB/s]\n",
      "159MB [02:02, 3.45MB/s]\n",
      "160MB [02:02, 3.59MB/s]\n",
      "160MB [02:03, 1.51MB/s]\n",
      "161MB [02:03, 1.85MB/s]\n",
      "161MB [02:03, 1.97MB/s]\n",
      "162MB [02:03, 2.38MB/s]\n",
      "163MB [02:03, 2.74MB/s]\n",
      "163MB [02:04, 3.02MB/s]\n",
      "164MB [02:04, 3.27MB/s]\n",
      "164MB [02:04, 3.15MB/s]\n",
      "165MB [02:04, 2.74MB/s]\n",
      "165MB [02:05, 2.00MB/s]\n",
      "166MB [02:05, 1.92MB/s]\n",
      "166MB [02:05, 2.02MB/s]\n",
      "167MB [02:06, 1.12MB/s]\n",
      "167MB [02:06, 1.39MB/s]\n",
      "168MB [02:07, 1.12MB/s]\n",
      "168MB [02:08, 969kB/s] \n",
      "169MB [02:08, 1.28MB/s]\n",
      "169MB [02:08, 1.17MB/s]\n",
      "170MB [02:08, 1.41MB/s]\n",
      "170MB [02:09, 1.76MB/s]\n",
      "171MB [02:09, 2.09MB/s]\n",
      "171MB [02:09, 2.11MB/s]\n",
      "172MB [02:09, 2.40MB/s]\n",
      "172MB [02:09, 2.14MB/s]\n",
      "173MB [02:10, 2.42MB/s]\n",
      "174MB [02:10, 2.62MB/s]\n",
      "174MB [02:10, 2.53MB/s]\n",
      "175MB [02:10, 1.95MB/s]\n",
      "175MB [02:11, 1.15MB/s]\n",
      "176MB [02:12, 939kB/s] \n",
      "176MB [02:12, 1.18MB/s]\n",
      "177MB [02:13, 1.00MB/s]\n",
      "177MB [02:14, 894kB/s] \n",
      "178MB [02:14, 1.12MB/s]\n",
      "178MB [02:14, 1.35MB/s]\n",
      "179MB [02:14, 1.69MB/s]\n",
      "179MB [02:14, 2.02MB/s]\n",
      "180MB [02:14, 2.37MB/s]\n",
      "180MB [02:15, 2.16MB/s]\n",
      "181MB [02:15, 2.39MB/s]\n",
      "181MB [02:15, 2.35MB/s]\n",
      "182MB [02:15, 2.72MB/s]\n",
      "182MB [02:15, 3.03MB/s]\n",
      "183MB [02:16, 3.26MB/s]\n",
      "184MB [02:16, 3.52MB/s]\n",
      "184MB [02:16, 3.67MB/s]\n",
      "185MB [02:16, 3.82MB/s]\n",
      "185MB [02:17, 1.28MB/s]\n",
      "186MB [02:18, 902kB/s] \n",
      "187MB [02:18, 1.41MB/s]\n",
      "187MB [02:19, 1.34MB/s]\n",
      "188MB [02:19, 1.30MB/s]\n",
      "188MB [02:19, 1.62MB/s]\n",
      "189MB [02:19, 1.77MB/s]\n",
      "189MB [02:20, 2.14MB/s]\n",
      "190MB [02:20, 2.29MB/s]\n",
      "190MB [02:20, 2.45MB/s]\n",
      "191MB [02:20, 1.76MB/s]\n",
      "191MB [02:21, 984kB/s] \n",
      "192MB [02:22, 1.23MB/s]\n",
      "192MB [02:22, 1.49MB/s]\n",
      "193MB [02:22, 1.72MB/s]\n",
      "193MB [02:22, 1.94MB/s]\n",
      "194MB [02:22, 1.97MB/s]\n",
      "195MB [02:23, 2.04MB/s]\n",
      "195MB [02:23, 2.35MB/s]\n",
      "196MB [02:23, 2.33MB/s]\n",
      "196MB [02:23, 1.95MB/s]\n",
      "197MB [02:24, 1.81MB/s]\n",
      "197MB [02:24, 2.10MB/s]\n",
      "198MB [02:24, 2.31MB/s]\n",
      "198MB [02:24, 2.44MB/s]\n",
      "199MB [02:24, 2.68MB/s]\n",
      "199MB [02:25, 2.85MB/s]\n",
      "200MB [02:25, 2.96MB/s]\n",
      "200MB [02:25, 3.23MB/s]\n",
      "201MB [02:25, 3.41MB/s]\n",
      "201MB [02:25, 3.47MB/s]\n",
      "202MB [02:25, 3.20MB/s]\n",
      "202MB [02:26, 2.76MB/s]\n",
      "203MB [02:26, 2.43MB/s]\n",
      "203MB [02:26, 2.34MB/s]\n",
      "204MB [02:26, 2.79MB/s]\n",
      "204MB [02:26, 3.00MB/s]\n",
      "205MB [02:27, 3.29MB/s]\n",
      "206MB [02:27, 3.35MB/s]\n",
      "206MB [02:27, 3.39MB/s]\n",
      "207MB [02:27, 3.56MB/s]\n",
      "207MB [02:27, 3.34MB/s]\n",
      "208MB [02:28, 1.51MB/s]\n",
      "208MB [02:28, 1.41MB/s]\n",
      "209MB [02:29, 1.14MB/s]\n",
      "209MB [02:31, 499kB/s] \n",
      "210MB [02:32, 550kB/s]\n",
      "210MB [02:32, 704kB/s]\n",
      "211MB [02:33, 908kB/s]\n",
      "211MB [02:33, 1.16MB/s]\n",
      "212MB [02:33, 1.28MB/s]\n",
      "212MB [02:33, 1.46MB/s]\n",
      "213MB [02:34, 1.65MB/s]\n",
      "213MB [02:34, 1.87MB/s]\n",
      "214MB [02:34, 2.21MB/s]\n",
      "214MB [02:34, 2.36MB/s]\n",
      "215MB [02:34, 2.07MB/s]\n",
      "215MB [02:35, 2.39MB/s]\n",
      "216MB [02:35, 2.10MB/s]\n",
      "217MB [02:36, 1.22MB/s]\n",
      "217MB [02:36, 1.23MB/s]\n",
      "218MB [02:37, 766kB/s] \n",
      "218MB [02:38, 889kB/s]\n",
      "219MB [02:38, 1.13MB/s]\n",
      "219MB [02:38, 1.31MB/s]\n",
      "220MB [02:38, 1.48MB/s]\n",
      "220MB [02:39, 1.75MB/s]\n",
      "221MB [02:39, 2.04MB/s]\n",
      "221MB [02:39, 2.34MB/s]\n",
      "222MB [02:39, 2.50MB/s]\n",
      "222MB [02:39, 2.55MB/s]\n",
      "223MB [02:39, 2.86MB/s]\n",
      "223MB [02:41, 997kB/s] \n",
      "224MB [02:43, 485kB/s]\n",
      "224MB [02:43, 634kB/s]\n",
      "225MB [02:44, 748kB/s]\n",
      "225MB [02:44, 935kB/s]\n",
      "226MB [02:44, 1.22MB/s]\n",
      "226MB [02:44, 1.48MB/s]\n",
      "227MB [02:44, 1.81MB/s]\n",
      "228MB [02:45, 1.84MB/s]\n",
      "228MB [02:45, 1.94MB/s]\n",
      "229MB [02:45, 2.10MB/s]\n",
      "229MB [02:45, 2.19MB/s]\n",
      "230MB [02:46, 1.82MB/s]\n",
      "230MB [02:46, 2.04MB/s]\n",
      "231MB [02:46, 2.37MB/s]\n",
      "231MB [02:46, 2.70MB/s]\n",
      "232MB [02:46, 2.64MB/s]\n",
      "232MB [02:47, 2.95MB/s]\n",
      "233MB [02:47, 3.14MB/s]\n",
      "233MB [02:47, 3.34MB/s]\n",
      "234MB [02:47, 3.51MB/s]\n",
      "234MB [02:47, 3.51MB/s]\n",
      "235MB [02:48, 2.15MB/s]\n",
      "235MB [02:50, 589kB/s] \n",
      "236MB [02:50, 745kB/s]\n",
      "236MB [02:50, 969kB/s]\n",
      "237MB [02:51, 1.25MB/s]\n",
      "238MB [02:51, 1.59MB/s]\n",
      "238MB [02:51, 1.89MB/s]\n",
      "239MB [02:51, 1.99MB/s]\n",
      "239MB [02:51, 2.15MB/s]\n",
      "240MB [02:52, 1.70MB/s]\n",
      "240MB [02:53, 892kB/s] \n",
      "241MB [02:53, 1.08MB/s]\n",
      "241MB [02:54, 779kB/s] \n",
      "242MB [02:54, 1.01MB/s]\n",
      "242MB [02:58, 407kB/s] \n",
      "243MB [02:58, 548kB/s]\n",
      "243MB [03:00, 372kB/s]\n",
      "244MB [03:00, 653kB/s]\n",
      "245MB [03:01, 815kB/s]\n",
      "245MB [03:01, 1.03MB/s]\n",
      "246MB [03:01, 1.30MB/s]\n",
      "246MB [03:01, 1.55MB/s]\n",
      "247MB [03:01, 1.83MB/s]\n",
      "247MB [03:01, 2.13MB/s]\n",
      "248MB [03:04, 555kB/s] \n",
      "249MB [03:04, 699kB/s]\n",
      "249MB [03:04, 866kB/s]\n",
      "250MB [03:05, 1.13MB/s]\n",
      "250MB [03:05, 1.44MB/s]\n",
      "251MB [03:05, 1.39MB/s]\n",
      "251MB [03:06, 923kB/s] \n",
      "252MB [03:06, 1.52MB/s]\n",
      "253MB [03:07, 1.63MB/s]\n",
      "253MB [03:07, 1.67MB/s]\n",
      "254MB [03:07, 1.95MB/s]\n",
      "254MB [03:07, 2.10MB/s]\n",
      "255MB [03:08, 1.12MB/s]\n",
      "255MB [03:09, 1.21MB/s]\n",
      "256MB [03:09, 1.51MB/s]\n",
      "256MB [03:09, 1.76MB/s]\n",
      "257MB [03:09, 1.82MB/s]\n",
      "257MB [03:10, 1.29MB/s]\n",
      "258MB [03:11, 783kB/s] \n",
      "259MB [03:11, 1.27MB/s]\n",
      "260MB [03:12, 1.45MB/s]\n",
      "260MB [03:12, 1.67MB/s]\n",
      "261MB [03:14, 632kB/s] \n",
      "261MB [03:14, 701kB/s]\n",
      "262MB [03:15, 840kB/s]\n",
      "262MB [03:15, 1.07MB/s]\n",
      "263MB [03:15, 1.25MB/s]\n",
      "263MB [03:16, 1.22MB/s]\n",
      "264MB [03:19, 369kB/s] \n",
      "264MB [03:20, 505kB/s]\n",
      "265MB [03:20, 686kB/s]\n",
      "265MB [03:20, 838kB/s]\n",
      "266MB [03:20, 1.07MB/s]\n",
      "266MB [03:21, 731kB/s] \n",
      "267MB [03:22, 764kB/s]\n",
      "267MB [03:22, 1.01MB/s]\n",
      "268MB [03:22, 1.31MB/s]\n",
      "268MB [03:22, 1.65MB/s]\n",
      "269MB [03:23, 2.02MB/s]\n",
      "269MB [03:23, 2.34MB/s]\n",
      "270MB [03:23, 2.77MB/s]\n",
      "271MB [03:23, 1.96MB/s]\n",
      "271MB [03:25, 705kB/s] \n",
      "272MB [03:25, 952kB/s]\n",
      "272MB [03:25, 1.15MB/s]\n",
      "273MB [03:26, 1.43MB/s]\n",
      "273MB [03:26, 1.77MB/s]\n",
      "274MB [03:26, 1.30MB/s]\n",
      "274MB [03:27, 1.08MB/s]\n",
      "275MB [03:27, 1.38MB/s]\n",
      "275MB [03:27, 1.74MB/s]\n",
      "276MB [03:27, 2.11MB/s]\n",
      "276MB [03:28, 2.46MB/s]\n",
      "277MB [03:28, 2.88MB/s]\n",
      "277MB [03:28, 3.16MB/s]\n",
      "278MB [03:28, 3.14MB/s]\n",
      "278MB [03:28, 3.42MB/s]\n",
      "279MB [03:29, 2.06MB/s]\n",
      "279MB [03:32, 412kB/s] \n",
      "280MB [03:32, 542kB/s]\n",
      "280MB [03:33, 695kB/s]\n",
      "281MB [03:35, 402kB/s]\n",
      "282MB [03:36, 531kB/s]\n",
      "282MB [03:36, 727kB/s]\n",
      "283MB [03:36, 979kB/s]\n",
      "283MB [03:36, 1.29MB/s]\n",
      "284MB [03:36, 1.98MB/s]\n",
      "285MB [03:36, 2.10MB/s]\n",
      "285MB [03:37, 1.25MB/s]\n",
      "287MB [03:37, 2.15MB/s]\n",
      "287MB [03:38, 1.85MB/s]\n",
      "288MB [03:38, 1.67MB/s]\n",
      "288MB [03:39, 1.72MB/s]\n",
      "289MB [03:39, 1.61MB/s]\n",
      "289MB [03:43, 434kB/s] \n",
      "291MB [03:43, 795kB/s]\n",
      "292MB [03:43, 867kB/s]\n",
      "292MB [03:44, 1.00MB/s]\n",
      "293MB [03:44, 1.18MB/s]\n",
      "293MB [03:44, 1.40MB/s]\n",
      "294MB [03:44, 1.69MB/s]\n",
      "294MB [03:44, 1.92MB/s]\n",
      "295MB [03:45, 1.45MB/s]\n",
      "295MB [03:46, 1.20MB/s]\n",
      "296MB [03:46, 1.15MB/s]\n",
      "296MB [03:46, 1.28MB/s]\n",
      "297MB [03:47, 1.48MB/s]\n",
      "297MB [03:47, 1.73MB/s]\n",
      "298MB [03:47, 1.92MB/s]\n",
      "298MB [03:47, 2.30MB/s]\n",
      "299MB [03:48, 1.94MB/s]\n",
      "299MB [03:49, 818kB/s] \n",
      "300MB [03:49, 1.03MB/s]\n",
      "300MB [03:50, 1.13MB/s]\n",
      "301MB [03:50, 1.36MB/s]\n",
      "301MB [03:50, 1.60MB/s]\n",
      "302MB [03:50, 1.86MB/s]\n",
      "303MB [03:50, 2.11MB/s]\n",
      "303MB [03:51, 2.31MB/s]\n",
      "304MB [03:51, 2.25MB/s]\n",
      "304MB [03:51, 2.56MB/s]\n",
      "305MB [03:51, 1.94MB/s]\n",
      "305MB [03:52, 1.54MB/s]\n",
      "306MB [03:53, 892kB/s] \n",
      "306MB [03:53, 1.12MB/s]\n",
      "307MB [03:53, 1.43MB/s]\n",
      "307MB [03:54, 1.21MB/s]\n",
      "308MB [03:54, 1.10MB/s]\n",
      "308MB [03:55, 1.19MB/s]\n",
      "309MB [03:55, 1.15MB/s]\n",
      "309MB [03:56, 1.29MB/s]\n",
      "310MB [03:58, 458kB/s] \n",
      "310MB [04:00, 414kB/s]\n",
      "311MB [04:01, 511kB/s]\n",
      "311MB [04:01, 659kB/s]\n",
      "312MB [04:01, 814kB/s]\n",
      "312MB [04:01, 985kB/s]\n",
      "313MB [04:02, 928kB/s]\n",
      "314MB [04:02, 1.15MB/s]\n",
      "314MB [04:02, 1.35MB/s]\n",
      "315MB [04:03, 1.60MB/s]\n",
      "315MB [04:03, 1.87MB/s]\n",
      "316MB [04:03, 2.05MB/s]\n",
      "316MB [04:03, 2.25MB/s]\n",
      "317MB [04:03, 2.42MB/s]\n",
      "317MB [04:05, 710kB/s] \n",
      "318MB [04:05, 902kB/s]\n",
      "318MB [04:06, 1.08MB/s]\n",
      "319MB [04:06, 1.31MB/s]\n",
      "319MB [04:06, 1.65MB/s]\n",
      "320MB [04:06, 1.83MB/s]\n",
      "320MB [04:06, 2.15MB/s]\n",
      "321MB [04:07, 2.53MB/s]\n",
      "321MB [04:07, 2.81MB/s]\n",
      "322MB [04:07, 2.95MB/s]\n",
      "322MB [04:07, 2.99MB/s]\n",
      "323MB [04:07, 3.16MB/s]\n",
      "323MB [04:07, 3.09MB/s]\n",
      "324MB [04:08, 3.03MB/s]\n",
      "325MB [04:08, 3.16MB/s]\n",
      "325MB [04:08, 3.33MB/s]\n",
      "326MB [04:08, 3.62MB/s]\n",
      "326MB [04:08, 3.83MB/s]\n",
      "327MB [04:08, 3.72MB/s]\n",
      "327MB [04:08, 3.61MB/s]\n",
      "328MB [04:09, 3.37MB/s]\n",
      "328MB [04:09, 3.05MB/s]\n",
      "329MB [04:09, 2.87MB/s]\n",
      "329MB [04:09, 2.71MB/s]\n",
      "330MB [04:09, 2.43MB/s]\n",
      "330MB [04:10, 2.11MB/s]\n",
      "331MB [04:10, 2.01MB/s]\n",
      "331MB [04:10, 2.09MB/s]\n",
      "332MB [04:11, 2.12MB/s]\n",
      "332MB [04:11, 2.09MB/s]\n",
      "333MB [04:12, 1.14MB/s]\n",
      "333MB [04:12, 1.25MB/s]\n",
      "334MB [04:12, 1.31MB/s]\n",
      "334MB [04:13, 1.52MB/s]\n",
      "335MB [04:13, 1.58MB/s]\n",
      "336MB [04:13, 1.55MB/s]\n",
      "336MB [04:14, 1.60MB/s]\n",
      "337MB [04:14, 1.71MB/s]\n",
      "337MB [04:14, 1.97MB/s]\n",
      "338MB [04:14, 2.07MB/s]\n",
      "338MB [04:14, 2.18MB/s]\n",
      "339MB [04:15, 2.35MB/s]\n",
      "339MB [04:15, 2.54MB/s]\n",
      "340MB [04:15, 2.55MB/s]\n",
      "340MB [04:15, 2.22MB/s]\n",
      "341MB [04:16, 1.48MB/s]\n",
      "341MB [04:16, 1.37MB/s]\n",
      "342MB [04:17, 1.52MB/s]\n",
      "342MB [04:17, 1.55MB/s]\n",
      "343MB [04:17, 1.44MB/s]\n",
      "343MB [04:18, 1.69MB/s]\n",
      "344MB [04:18, 2.02MB/s]\n",
      "344MB [04:18, 1.80MB/s]\n",
      "345MB [04:18, 2.11MB/s]\n",
      "346MB [04:18, 2.23MB/s]\n",
      "346MB [04:19, 1.35MB/s]\n",
      "347MB [04:19, 1.43MB/s]\n",
      "347MB [04:20, 1.68MB/s]\n",
      "348MB [04:20, 1.99MB/s]\n",
      "348MB [04:20, 2.34MB/s]\n",
      "349MB [04:20, 2.59MB/s]\n",
      "349MB [04:20, 2.88MB/s]\n",
      "350MB [04:20, 3.15MB/s]\n",
      "350MB [04:20, 3.40MB/s]\n",
      "351MB [04:21, 3.60MB/s]\n",
      "351MB [04:21, 2.66MB/s]\n",
      "352MB [04:22, 1.44MB/s]\n",
      "352MB [04:22, 1.81MB/s]\n",
      "353MB [04:22, 2.25MB/s]\n",
      "353MB [04:22, 2.42MB/s]\n",
      "354MB [04:22, 2.43MB/s]\n",
      "354MB [04:23, 2.32MB/s]\n",
      "355MB [04:23, 1.88MB/s]\n",
      "355MB [04:23, 1.70MB/s]\n",
      "357MB [04:23, 3.26MB/s]\n",
      "358MB [04:24, 3.50MB/s]\n",
      "358MB [04:24, 3.72MB/s]\n",
      "359MB [04:24, 3.79MB/s]\n",
      "359MB [04:24, 3.59MB/s]\n",
      "360MB [04:24, 3.59MB/s]\n",
      "360MB [04:24, 3.67MB/s]\n",
      "361MB [04:24, 3.64MB/s]\n",
      "361MB [04:25, 3.80MB/s]\n",
      "362MB [04:25, 3.53MB/s]\n",
      "362MB [04:25, 2.80MB/s]\n",
      "363MB [04:25, 3.19MB/s]\n",
      "363MB [04:25, 2.56MB/s]\n",
      "364MB [04:26, 2.94MB/s]\n",
      "364MB [04:26, 2.74MB/s]\n",
      "365MB [04:26, 2.97MB/s]\n",
      "365MB [04:26, 3.33MB/s]\n",
      "366MB [04:26, 2.23MB/s]\n",
      "366MB [04:27, 2.30MB/s]\n",
      "367MB [04:27, 2.66MB/s]\n",
      "368MB [04:27, 3.01MB/s]\n",
      "368MB [04:28, 1.32MB/s]\n",
      "369MB [04:28, 1.49MB/s]\n",
      "369MB [04:28, 1.89MB/s]\n",
      "370MB [04:28, 2.31MB/s]\n",
      "370MB [04:28, 2.75MB/s]\n",
      "371MB [04:28, 2.92MB/s]\n",
      "371MB [04:29, 3.13MB/s]\n",
      "372MB [04:29, 3.07MB/s]\n",
      "372MB [04:29, 2.81MB/s]\n",
      "372MB [04:29, 1.38MB/s]\n"
     ]
    },
    {
     "name": "stderr",
     "output_type": "stream",
     "text": [
      "Downloading...\n",
      "From: https://drive.google.com/uc?id=1e0YowZtavsiLnRV2CrzK-s_oc-P7vrYO\n",
      "To: C:\\Users\\Mohammad.Khan\\Anaconda3\\libs\\GBX_Model\\main\\FNC_ARC_data\\training_ids.txt\n",
      "\n",
      "  0%|          | 0.00/27.5k [00:00<?, ?B/s]\n",
      "100%|##########| 27.5k/27.5k [00:00<00:00, 284kB/s]\n",
      "Downloading...\n",
      "From: https://drive.google.com/uc?id=1--tKEAnPz6auqttxTRBnh4Cn83FoM3IN\n",
      "To: C:\\Users\\Mohammad.Khan\\Anaconda3\\libs\\GBX_Model\\main\\FNC_ARC_data\\hold_out_ids.txt\n",
      "\n",
      "  0%|          | 0.00/6.88k [00:00<?, ?B/s]\n",
      "100%|##########| 6.88k/6.88k [00:00<00:00, 6.94MB/s]\n",
      "Downloading...\n",
      "From: https://drive.google.com/uc?id=1Yi-kv_VPoHXzYWDYEsrzmgsLabYRobV8\n",
      "To: C:\\Users\\Mohammad.Khan\\Anaconda3\\libs\\GBX_Model\\main\\FNC_ARC_data\\combined_bodies_test.csv\n",
      "\n",
      "0.00B [00:00, ?B/s]\n",
      "524kB [00:00, 807kB/s]\n",
      "1.05MB [00:00, 1.33MB/s]\n",
      "1.57MB [00:03, 353kB/s] \n",
      "2.10MB [00:07, 231kB/s]\n",
      "2.62MB [00:07, 339kB/s]\n",
      "3.15MB [00:08, 405kB/s]\n",
      "3.67MB [00:10, 335kB/s]\n",
      "4.19MB [00:12, 301kB/s]\n",
      "4.66MB [00:12, 404kB/s]\n",
      "4.66MB [00:12, 370kB/s]\n",
      "Downloading...\n",
      "From: https://drive.google.com/uc?id=1R6ii3erNvkUfr_GAX8lM-BQ00BLsh7cM\n",
      "To: C:\\Users\\Mohammad.Khan\\Anaconda3\\libs\\GBX_Model\\main\\FNC_ARC_data\\combined_stances_test.csv\n",
      "\n",
      "0.00B [00:00, ?B/s]\n",
      "524kB [00:00, 1.04MB/s]\n",
      "1.05MB [00:00, 1.76MB/s]\n",
      "1.57MB [00:05, 232kB/s] \n",
      "2.10MB [00:16, 91.2kB/s]\n",
      "2.40MB [00:16, 147kB/s] \n"
     ]
    }
   ],
   "source": [
    "def download_data():\n",
    "    previous_dir=os.getcwd()\n",
    "    if not os.path.isdir(os.getcwd()+\"\\\\FNC_ARC_data\"):\n",
    "        os.mkdir(\"FNC_ARC_data\")\n",
    "    os.chdir(os.getcwd()+\"\\\\FNC_ARC_data\")\n",
    "    !gdown --id 1DJ5qzz2d95RWOOnvq_cliuTZmzA6dkq9 --output data.csv\n",
    "    !gdown --id 1e0YowZtavsiLnRV2CrzK-s_oc-P7vrYO --output training_ids.txt\n",
    "    !gdown --id 1--tKEAnPz6auqttxTRBnh4Cn83FoM3IN --output hold_out_ids.txt\n",
    "    !gdown --id 1Yi-kv_VPoHXzYWDYEsrzmgsLabYRobV8 --output combined_bodies_test.csv\n",
    "    !gdown --id 1R6ii3erNvkUfr_GAX8lM-BQ00BLsh7cM --output combined_stances_test.csv\n",
    "    os.chdir(previous_dir)\n",
    "    \n",
    "download_data()"
   ]
  },
  {
   "cell_type": "code",
   "execution_count": 4,
   "metadata": {},
   "outputs": [],
   "source": [
    "data=pd.read_csv(os.getcwd()+\"\\\\FNC_ARC_data\\\\data.csv\")"
   ]
  },
  {
   "cell_type": "code",
   "execution_count": 5,
   "metadata": {
    "colab": {},
    "colab_type": "code",
    "id": "xuJzhzwVRTYj"
   },
   "outputs": [],
   "source": [
    "import random\n",
    "import os\n",
    "from collections import defaultdict\n",
    "##code taken from official github to mimic the exact split(https://github.com/FakeNewsChallenge/fnc-1-baseline/blob/master/utils/generate_test_splits.py)\n",
    "def generate_hold_out_split (data, training = 0.8):\n",
    "    r = random.Random()\n",
    "    r.seed(1489215)\n",
    "\n",
    "    article_ids = train_article['Body ID'].tolist()\n",
    "    r.shuffle(article_ids)  # and shuffle that list\n",
    "\n",
    "\n",
    "    training_ids = article_ids[:int(data * len(article_ids))]\n",
    "    hold_out_ids = article_ids[int(data * len(article_ids)):]\n",
    "\n",
    "    # write the split body ids out to files for future use\n",
    "    with open(\"training_ids.txt\", \"w+\") as f:\n",
    "        f.write(\"\\n\".join([str(id) for id in training_ids]))\n",
    "\n",
    "    with open(\"hold_out_ids.txt\", \"w+\") as f:\n",
    "        f.write(\"\\n\".join([str(id) for id in hold_out_ids]))\n",
    "\n",
    "\n",
    "\n",
    "def read_ids(file):\n",
    "    ids = []\n",
    "    with open(file,\"r\") as f:\n",
    "        for line in f:\n",
    "           ids.append(int(line))\n",
    "        return ids\n",
    "\n",
    "\n",
    "def kfold_split(data, training = 0.8, n_folds = 10):\n",
    "    if not (os.path.exists(os.getcwd()+\"\\\\FNC_ARC_data\\\\training_ids.txt\")\n",
    "            and os.path.exists(os.getcwd()+\"\\\\FNC_ARC_data\\\\hold_out_ids.txt\")):\n",
    "        generate_hold_out_split(data, training = 0.8)\n",
    "\n",
    "    training_ids = read_ids(os.getcwd()+\"\\\\FNC_ARC_data\\\\training_ids.txt\")\n",
    "    hold_out_ids = read_ids(os.getcwd()+\"\\\\FNC_ARC_data\\\\hold_out_ids.txt\")\n",
    "\n",
    "    folds = []\n",
    "    for k in range(n_folds):\n",
    "        folds.append(training_ids[int(k*len(training_ids)/n_folds):int((k+1)*len(training_ids)/n_folds)])\n",
    "\n",
    "    return folds,hold_out_ids,training_ids\n",
    "\n",
    "\n",
    "folds,hold_out_ids,training_ids=kfold_split(data, training = 0.8, n_folds = 10)"
   ]
  },
  {
   "cell_type": "code",
   "execution_count": 6,
   "metadata": {
    "colab": {
     "base_uri": "https://localhost:8080/",
     "height": 241
    },
    "colab_type": "code",
    "executionInfo": {
     "elapsed": 8468,
     "status": "ok",
     "timestamp": 1599255373210,
     "user": {
      "displayName": "Ur Tech Guide",
      "photoUrl": "https://lh3.googleusercontent.com/a-/AOh14GhBjMoWnc1KwT73B6hzAbvnSIxnZAl5PY9n_RGJ0w=s64",
      "userId": "03152431167485721857"
     },
     "user_tz": -300
    },
    "id": "GtWrReU1RlIe",
    "outputId": "84fd8f19-5975-41ab-efce-abb84435ae1d"
   },
   "outputs": [
    {
     "name": "stderr",
     "output_type": "stream",
     "text": [
      "<ipython-input-6-d3be3193016b>:3: SettingWithCopyWarning: \n",
      "A value is trying to be set on a copy of a slice from a DataFrame.\n",
      "Try using .loc[row_indexer,col_indexer] = value instead\n",
      "\n",
      "See the caveats in the documentation: https://pandas.pydata.org/pandas-docs/stable/user_guide/indexing.html#returning-a-view-versus-a-copy\n",
      "  train['folds']=0\n",
      "C:\\Users\\Mohammad.Khan\\Anaconda3\\lib\\site-packages\\pandas\\core\\indexing.py:1720: SettingWithCopyWarning: \n",
      "A value is trying to be set on a copy of a slice from a DataFrame.\n",
      "Try using .loc[row_indexer,col_indexer] = value instead\n",
      "\n",
      "See the caveats in the documentation: https://pandas.pydata.org/pandas-docs/stable/user_guide/indexing.html#returning-a-view-versus-a-copy\n",
      "  self._setitem_single_column(loc, value, pi)\n"
     ]
    }
   ],
   "source": [
    "train=data.loc[(data['Body ID'].isin(training_ids)),:]\n",
    "validation=data.loc[(data['Body ID'].isin(hold_out_ids)),:]\n",
    "train['folds']=0\n",
    "for n_fold in range(len(folds)):\n",
    "    train.loc[(train['Body ID'].isin(folds[n_fold])),'folds']=n_fold"
   ]
  },
  {
   "cell_type": "code",
   "execution_count": 7,
   "metadata": {
    "colab": {},
    "colab_type": "code",
    "id": "kaAHBB--RofM"
   },
   "outputs": [],
   "source": [
    "def seed_everything(seed):\n",
    "  random.seed(seed)\n",
    "  tf.compat.v1.set_random_seed(seed)\n",
    "  tf.random.set_seed(seed)\n",
    "seed_everything(123)"
   ]
  },
  {
   "cell_type": "code",
   "execution_count": null,
   "metadata": {
    "colab": {
     "base_uri": "https://localhost:8080/",
     "height": 751
    },
    "colab_type": "code",
    "executionInfo": {
     "elapsed": 32021,
     "status": "ok",
     "timestamp": 1599255647623,
     "user": {
      "displayName": "Ur Tech Guide",
      "photoUrl": "https://lh3.googleusercontent.com/a-/AOh14GhBjMoWnc1KwT73B6hzAbvnSIxnZAl5PY9n_RGJ0w=s64",
      "userId": "03152431167485721857"
     },
     "user_tz": -300
    },
    "id": "i9InEkg_g60s",
    "outputId": "2361c9cd-1895-497b-9c75-68ca2e30080c"
   },
   "outputs": [
    {
     "name": "stderr",
     "output_type": "stream",
     "text": [
      "INFO:absl:Entering into master device scope: /job:worker/replica:0/task:0/device:CPU:0\n"
     ]
    },
    {
     "name": "stdout",
     "output_type": "stream",
     "text": [
      "Running on TPU  grpc://10.25.237.26:8470\n",
      "INFO:tensorflow:Initializing the TPU system: grpc://10.25.237.26:8470\n"
     ]
    },
    {
     "name": "stderr",
     "output_type": "stream",
     "text": [
      "INFO:tensorflow:Initializing the TPU system: grpc://10.25.237.26:8470\n"
     ]
    },
    {
     "name": "stdout",
     "output_type": "stream",
     "text": [
      "INFO:tensorflow:Clearing out eager caches\n"
     ]
    },
    {
     "name": "stderr",
     "output_type": "stream",
     "text": [
      "INFO:tensorflow:Clearing out eager caches\n"
     ]
    },
    {
     "name": "stdout",
     "output_type": "stream",
     "text": [
      "INFO:tensorflow:Finished initializing TPU system.\n"
     ]
    },
    {
     "name": "stderr",
     "output_type": "stream",
     "text": [
      "INFO:tensorflow:Finished initializing TPU system.\n"
     ]
    },
    {
     "name": "stdout",
     "output_type": "stream",
     "text": [
      "INFO:tensorflow:Found TPU system:\n"
     ]
    },
    {
     "name": "stderr",
     "output_type": "stream",
     "text": [
      "INFO:tensorflow:Found TPU system:\n"
     ]
    },
    {
     "name": "stdout",
     "output_type": "stream",
     "text": [
      "INFO:tensorflow:*** Num TPU Cores: 8\n"
     ]
    },
    {
     "name": "stderr",
     "output_type": "stream",
     "text": [
      "INFO:tensorflow:*** Num TPU Cores: 8\n"
     ]
    },
    {
     "name": "stdout",
     "output_type": "stream",
     "text": [
      "INFO:tensorflow:*** Num TPU Workers: 1\n"
     ]
    },
    {
     "name": "stderr",
     "output_type": "stream",
     "text": [
      "INFO:tensorflow:*** Num TPU Workers: 1\n"
     ]
    },
    {
     "name": "stdout",
     "output_type": "stream",
     "text": [
      "INFO:tensorflow:*** Num TPU Cores Per Worker: 8\n"
     ]
    },
    {
     "name": "stderr",
     "output_type": "stream",
     "text": [
      "INFO:tensorflow:*** Num TPU Cores Per Worker: 8\n"
     ]
    },
    {
     "name": "stdout",
     "output_type": "stream",
     "text": [
      "INFO:tensorflow:*** Available Device: _DeviceAttributes(/job:localhost/replica:0/task:0/device:CPU:0, CPU, 0, 0)\n"
     ]
    },
    {
     "name": "stderr",
     "output_type": "stream",
     "text": [
      "INFO:tensorflow:*** Available Device: _DeviceAttributes(/job:localhost/replica:0/task:0/device:CPU:0, CPU, 0, 0)\n"
     ]
    },
    {
     "name": "stdout",
     "output_type": "stream",
     "text": [
      "INFO:tensorflow:*** Available Device: _DeviceAttributes(/job:localhost/replica:0/task:0/device:XLA_CPU:0, XLA_CPU, 0, 0)\n"
     ]
    },
    {
     "name": "stderr",
     "output_type": "stream",
     "text": [
      "INFO:tensorflow:*** Available Device: _DeviceAttributes(/job:localhost/replica:0/task:0/device:XLA_CPU:0, XLA_CPU, 0, 0)\n"
     ]
    },
    {
     "name": "stdout",
     "output_type": "stream",
     "text": [
      "INFO:tensorflow:*** Available Device: _DeviceAttributes(/job:worker/replica:0/task:0/device:CPU:0, CPU, 0, 0)\n"
     ]
    },
    {
     "name": "stderr",
     "output_type": "stream",
     "text": [
      "INFO:tensorflow:*** Available Device: _DeviceAttributes(/job:worker/replica:0/task:0/device:CPU:0, CPU, 0, 0)\n"
     ]
    },
    {
     "name": "stdout",
     "output_type": "stream",
     "text": [
      "INFO:tensorflow:*** Available Device: _DeviceAttributes(/job:worker/replica:0/task:0/device:TPU:0, TPU, 0, 0)\n"
     ]
    },
    {
     "name": "stderr",
     "output_type": "stream",
     "text": [
      "INFO:tensorflow:*** Available Device: _DeviceAttributes(/job:worker/replica:0/task:0/device:TPU:0, TPU, 0, 0)\n"
     ]
    },
    {
     "name": "stdout",
     "output_type": "stream",
     "text": [
      "INFO:tensorflow:*** Available Device: _DeviceAttributes(/job:worker/replica:0/task:0/device:TPU:1, TPU, 0, 0)\n"
     ]
    },
    {
     "name": "stderr",
     "output_type": "stream",
     "text": [
      "INFO:tensorflow:*** Available Device: _DeviceAttributes(/job:worker/replica:0/task:0/device:TPU:1, TPU, 0, 0)\n"
     ]
    },
    {
     "name": "stdout",
     "output_type": "stream",
     "text": [
      "INFO:tensorflow:*** Available Device: _DeviceAttributes(/job:worker/replica:0/task:0/device:TPU:2, TPU, 0, 0)\n"
     ]
    },
    {
     "name": "stderr",
     "output_type": "stream",
     "text": [
      "INFO:tensorflow:*** Available Device: _DeviceAttributes(/job:worker/replica:0/task:0/device:TPU:2, TPU, 0, 0)\n"
     ]
    },
    {
     "name": "stdout",
     "output_type": "stream",
     "text": [
      "INFO:tensorflow:*** Available Device: _DeviceAttributes(/job:worker/replica:0/task:0/device:TPU:3, TPU, 0, 0)\n"
     ]
    },
    {
     "name": "stderr",
     "output_type": "stream",
     "text": [
      "INFO:tensorflow:*** Available Device: _DeviceAttributes(/job:worker/replica:0/task:0/device:TPU:3, TPU, 0, 0)\n"
     ]
    },
    {
     "name": "stdout",
     "output_type": "stream",
     "text": [
      "INFO:tensorflow:*** Available Device: _DeviceAttributes(/job:worker/replica:0/task:0/device:TPU:4, TPU, 0, 0)\n"
     ]
    },
    {
     "name": "stderr",
     "output_type": "stream",
     "text": [
      "INFO:tensorflow:*** Available Device: _DeviceAttributes(/job:worker/replica:0/task:0/device:TPU:4, TPU, 0, 0)\n"
     ]
    },
    {
     "name": "stdout",
     "output_type": "stream",
     "text": [
      "INFO:tensorflow:*** Available Device: _DeviceAttributes(/job:worker/replica:0/task:0/device:TPU:5, TPU, 0, 0)\n"
     ]
    },
    {
     "name": "stderr",
     "output_type": "stream",
     "text": [
      "INFO:tensorflow:*** Available Device: _DeviceAttributes(/job:worker/replica:0/task:0/device:TPU:5, TPU, 0, 0)\n"
     ]
    },
    {
     "name": "stdout",
     "output_type": "stream",
     "text": [
      "INFO:tensorflow:*** Available Device: _DeviceAttributes(/job:worker/replica:0/task:0/device:TPU:6, TPU, 0, 0)\n"
     ]
    },
    {
     "name": "stderr",
     "output_type": "stream",
     "text": [
      "INFO:tensorflow:*** Available Device: _DeviceAttributes(/job:worker/replica:0/task:0/device:TPU:6, TPU, 0, 0)\n"
     ]
    },
    {
     "name": "stdout",
     "output_type": "stream",
     "text": [
      "INFO:tensorflow:*** Available Device: _DeviceAttributes(/job:worker/replica:0/task:0/device:TPU:7, TPU, 0, 0)\n"
     ]
    },
    {
     "name": "stderr",
     "output_type": "stream",
     "text": [
      "INFO:tensorflow:*** Available Device: _DeviceAttributes(/job:worker/replica:0/task:0/device:TPU:7, TPU, 0, 0)\n"
     ]
    },
    {
     "name": "stdout",
     "output_type": "stream",
     "text": [
      "INFO:tensorflow:*** Available Device: _DeviceAttributes(/job:worker/replica:0/task:0/device:TPU_SYSTEM:0, TPU_SYSTEM, 0, 0)\n"
     ]
    },
    {
     "name": "stderr",
     "output_type": "stream",
     "text": [
      "INFO:tensorflow:*** Available Device: _DeviceAttributes(/job:worker/replica:0/task:0/device:TPU_SYSTEM:0, TPU_SYSTEM, 0, 0)\n"
     ]
    },
    {
     "name": "stdout",
     "output_type": "stream",
     "text": [
      "INFO:tensorflow:*** Available Device: _DeviceAttributes(/job:worker/replica:0/task:0/device:XLA_CPU:0, XLA_CPU, 0, 0)\n"
     ]
    },
    {
     "name": "stderr",
     "output_type": "stream",
     "text": [
      "INFO:tensorflow:*** Available Device: _DeviceAttributes(/job:worker/replica:0/task:0/device:XLA_CPU:0, XLA_CPU, 0, 0)\n"
     ]
    }
   ],
   "source": [
    "# Detect hardware, return appropriate distribution strategy\n",
    "try:\n",
    "    # TPU detection. No parameters necessary if TPU_NAME environment variable is\n",
    "    # set: this is always the case on Kaggle.\n",
    "    tpu = tf.distribute.cluster_resolver.TPUClusterResolver()\n",
    "    print('Running on TPU ', tpu.master())\n",
    "except ValueError:\n",
    "    tpu = None\n",
    "\n",
    "if tpu:\n",
    "    tf.config.experimental_connect_to_cluster(tpu)\n",
    "    tf.tpu.experimental.initialize_tpu_system(tpu)\n",
    "    strategy = tf.distribute.TPUStrategy(tpu)\n",
    "else:\n",
    "    # Default distribution strategy in Tensorflow. Works on CPU and single GPU.\n",
    "    strategy = tf.distribute.get_strategy()"
   ]
  },
  {
   "cell_type": "code",
   "execution_count": 8,
   "metadata": {
    "colab": {},
    "colab_type": "code",
    "id": "zkVdQc-dRvw_"
   },
   "outputs": [],
   "source": [
    "def download_vocab_files_for_tokenizer(tokenizer, model_type, output_path):\n",
    "    vocab_files_map = tokenizer.pretrained_vocab_files_map\n",
    "    vocab_files = {}\n",
    "    for resource in vocab_files_map.keys():\n",
    "        download_location = vocab_files_map[resource][model_type]\n",
    "        f_path = os.path.join(output_path, os.path.basename(download_location))\n",
    "        urllib.request.urlretrieve(download_location, f_path)\n",
    "        vocab_files[resource] = f_path\n",
    "    return vocab_files"
   ]
  },
  {
   "cell_type": "code",
   "execution_count": 9,
   "metadata": {
    "colab": {},
    "colab_type": "code",
    "id": "SbKCxoNfSGSi"
   },
   "outputs": [],
   "source": [
    "def fast_tokenization(text,encode_plus=False):\n",
    "  attention_mask=[]\n",
    "  input_ids=[]\n",
    "  for instance in tqdm(text,desc='Tokenization Process'):\n",
    "    if encode_plus:\n",
    "      token_out=fast_tokenizer.encode_plus(instance,return_attention_mask=True,padding='max_length',truncation=True,max_length=MAX_LEN)\n",
    "      input_ids.append(token_out['input_ids'])\n",
    "      attention_mask.append(token_out['attention_mask'])\n",
    "    else:\n",
    "      token_out=fast_tokenizer.encode(instance)\n",
    "      input_ids.append(token_out.ids)\n",
    "      attention_mask.append(token_out.attention_mask)\n",
    "  return input_ids,attention_mask"
   ]
  },
  {
   "cell_type": "markdown",
   "metadata": {
    "colab_type": "text",
    "id": "IhsJlkRDfumW"
   },
   "source": [
    "# GBX Model on FNC-ARC"
   ]
  },
  {
   "cell_type": "code",
   "execution_count": 10,
   "metadata": {
    "colab": {},
    "colab_type": "code",
    "id": "HRDnRqKJZ-z4"
   },
   "outputs": [],
   "source": [
    "X_train={}\n",
    "X_valid={}\n",
    "X_test={}"
   ]
  },
  {
   "cell_type": "markdown",
   "metadata": {
    "colab_type": "text",
    "id": "0rsIdneefxPu"
   },
   "source": [
    "## Learning Rate Schedule function"
   ]
  },
  {
   "cell_type": "code",
   "execution_count": 11,
   "metadata": {
    "colab": {},
    "colab_type": "code",
    "id": "K3HyIxe_XUtZ"
   },
   "outputs": [],
   "source": [
    "class WarmUp(tf.keras.optimizers.schedules.LearningRateSchedule):\n",
    "    \"\"\"\n",
    "    Applies a warmup schedule on a given learning rate decay schedule.\n",
    "\n",
    "    Args:\n",
    "        initial_learning_rate (:obj:`float`):\n",
    "            The initial learning rate for the schedule after the warmup (so this will be the learning rate at the end\n",
    "            of the warmup).\n",
    "        decay_schedule_fn (:obj:`Callable`):\n",
    "            The schedule function to apply after the warmup for the rest of training.\n",
    "        warmup_steps (:obj:`int`):\n",
    "            The number of steps for the warmup part of training.\n",
    "        power (:obj:`float`, `optional`, defaults to 1):\n",
    "            The power to use for the polynomial warmup (defaults is a linear warmup).\n",
    "        name (:obj:`str`, `optional`):\n",
    "            Optional name prefix for the returned tensors during the schedule.\n",
    "    \"\"\"\n",
    "\n",
    "    def __init__(\n",
    "        self,\n",
    "        initial_learning_rate: float,\n",
    "        decay_schedule_fn: Callable,\n",
    "        warmup_steps: int,\n",
    "        power: float = 1.0,\n",
    "        name: str = None,\n",
    "    ):\n",
    "        super().__init__()\n",
    "        self.initial_learning_rate = initial_learning_rate\n",
    "        self.warmup_steps = warmup_steps\n",
    "        self.power = power\n",
    "        self.decay_schedule_fn = decay_schedule_fn\n",
    "        self.name = name\n",
    "\n",
    "    def __call__(self, step):\n",
    "        with tf.name_scope(self.name or \"WarmUp\") as name:\n",
    "\n",
    "            global_step_float = tf.cast(step, tf.float32)\n",
    "            warmup_steps_float = tf.cast(self.warmup_steps, tf.float32)\n",
    "            warmup_percent_done = global_step_float / warmup_steps_float\n",
    "            warmup_learning_rate = self.initial_learning_rate * tf.math.pow(warmup_percent_done, self.power)\n",
    "            return tf.cond(\n",
    "                global_step_float < warmup_steps_float,\n",
    "                lambda: warmup_learning_rate,\n",
    "                lambda: self.decay_schedule_fn(step - self.warmup_steps),\n",
    "                name=name,\n",
    "            )\n",
    "\n",
    "    def get_config(self):\n",
    "        return {\n",
    "            \"initial_learning_rate\": self.initial_learning_rate,\n",
    "            \"decay_schedule_fn\": self.decay_schedule_fn,\n",
    "            \"warmup_steps\": self.warmup_steps,\n",
    "            \"power\": self.power,\n",
    "            \"name\": self.name,\n",
    "        }\n",
    "\n",
    "\n",
    "\n",
    "def create_optimizer(\n",
    "    init_lr: float,\n",
    "    num_train_steps: int,\n",
    "    num_warmup_steps: int,\n",
    "    min_lr_ratio: float = 0.0,\n",
    "    adam_epsilon: float = 1e-8,\n",
    "    weight_decay_rate: float = 0.0,\n",
    "    include_in_weight_decay: Optional[List[str]] = None,schedule='linear',\n",
    "):\n",
    "    \"\"\"\n",
    "    Creates an optimizer with a learning rate schedule using a warmup phase followed by a linear decay.\n",
    "\n",
    "    Args:\n",
    "        init_lr (:obj:`float`):\n",
    "            The desired learning rate at the end of the warmup phase.\n",
    "        num_train_step (:obj:`int`):\n",
    "            The total number of training steps.\n",
    "        num_warmup_steps (:obj:`int`):\n",
    "            The number of warmup steps.\n",
    "        min_lr_ratio (:obj:`float`, `optional`, defaults to 0):\n",
    "            The final learning rate at the end of the linear decay will be :obj:`init_lr * min_lr_ratio`.\n",
    "        adam_epsilon (:obj:`float`, `optional`, defaults to 1e-8):\n",
    "            The epsilon to use in Adam.\n",
    "        weight_decay_rate (:obj:`float`, `optional`, defaults to 0):\n",
    "            The weight decay to use.\n",
    "        include_in_weight_decay (:obj:`List[str]`, `optional`):\n",
    "            List of the parameter names (or re patterns) to apply weight decay to. If none is passed, weight decay is\n",
    "            applied to all parameters except bias and layer norm parameters.\n",
    "    \"\"\"\n",
    "    # Implements linear decay of the learning rate.\n",
    "    if schedule=='linear':\n",
    "      lr_schedule = tf.keras.optimizers.schedules.PolynomialDecay(\n",
    "          initial_learning_rate=init_lr,\n",
    "          decay_steps=num_train_steps - num_warmup_steps,\n",
    "          end_learning_rate=init_lr * min_lr_ratio,\n",
    "      )\n",
    "    else:\n",
    "      cosine_schedule=tf.keras.experimental.CosineDecay(\n",
    "      initial_learning_rate=init_lr, decay_steps=num_train_steps - num_warmup_steps, alpha=0.0, name=None)\n",
    "      \n",
    "    if num_warmup_steps:\n",
    "        lr_schedule = WarmUp(\n",
    "            initial_learning_rate=init_lr, decay_schedule_fn=lr_schedule, warmup_steps=num_warmup_steps,\n",
    "        )\n",
    "    if weight_decay_rate > 0.0:\n",
    "        optimizer = AdamWeightDecay(\n",
    "            learning_rate=lr_schedule,\n",
    "            weight_decay_rate=weight_decay_rate,\n",
    "            beta_1=0.9,\n",
    "            beta_2=0.999,\n",
    "            epsilon=adam_epsilon,\n",
    "            exclude_from_weight_decay=[\"LayerNorm\", \"layer_norm\", \"bias\"],\n",
    "            include_in_weight_decay=include_in_weight_decay,\n",
    "        )\n",
    "    else:\n",
    "        optimizer = tf.keras.optimizers.Adam(learning_rate=lr_schedule, epsilon=adam_epsilon)\n",
    "    # We return the optimizer and the LR scheduler in order to better track the\n",
    "    # evolution of the LR independently of the optimizer.\n",
    "    return optimizer, lr_schedule"
   ]
  },
  {
   "cell_type": "markdown",
   "metadata": {
    "colab_type": "text",
    "id": "zQgoSRuvf1t1"
   },
   "source": [
    "## Callbacks & Metrics Function"
   ]
  },
  {
   "cell_type": "code",
   "execution_count": 12,
   "metadata": {
    "colab": {},
    "colab_type": "code",
    "id": "CfvW-deXXdkD"
   },
   "outputs": [],
   "source": [
    "class LossHistory(tf.keras.callbacks.Callback):\n",
    "    def on_train_begin(self, logs={}):\n",
    "        self.losses = []\n",
    "    def on_batch_end(self, batch, logs={}):\n",
    "        self.losses.append(logs.get('loss'))"
   ]
  },
  {
   "cell_type": "code",
   "execution_count": 13,
   "metadata": {
    "colab": {},
    "colab_type": "code",
    "id": "hgJLAPxCXfvJ"
   },
   "outputs": [],
   "source": [
    "def accuracy(y_true,y_pred,name):\n",
    "  y_true=np.argmax(y_true,axis=1)\n",
    "  y_pred=np.argmax(y_pred,axis=1)\n",
    "  accuracy=accuracy_score(y_true,y_pred)\n",
    "  print('The accuracy of the model {} is Accuracy: {:.3%}'.format(name,accuracy))\n",
    "  print(classification_report(y_true, y_pred, target_names=['disagree','agree','discuss','unrelated']))"
   ]
  },
  {
   "cell_type": "code",
   "execution_count": 14,
   "metadata": {
    "colab": {},
    "colab_type": "code",
    "id": "7x00hnn4XjSE"
   },
   "outputs": [],
   "source": [
    "def f1_score_m(y_true,y_pred,name):\n",
    "  y_true=np.argmax(y_true,axis=1)\n",
    "  y_pred=np.argmax(y_pred,axis=1)\n",
    "  f1_m=f1_score(y_true,y_pred,average='macro')\n",
    "  print('The F1-M Score of the model {} is F-1-Score: {:.3%}'.format(name,f1_m))"
   ]
  },
  {
   "cell_type": "code",
   "execution_count": 15,
   "metadata": {
    "colab": {},
    "colab_type": "code",
    "id": "7fhK8JtW6Snm"
   },
   "outputs": [],
   "source": [
    "colors = plt.rcParams['axes.prop_cycle'].by_key()['color']\n",
    "\n",
    "def plot_loss(history,main_title):\n",
    "# Use a log scale to show the wide range of values.\n",
    "    plt.figure(figsize=(12,10))\n",
    "    plt.semilogy(list(range(len(history.losses))),  history.losses,\n",
    "               color='blue', label='Training')\n",
    "    plt.title(main_title)\n",
    "    plt.xlabel('Logging Step')\n",
    "    plt.ylabel('Loss')\n",
    "  \n",
    "    plt.legend(title=\"Log Loss\")\n",
    "    \n",
    "    \n",
    "def plot_cm(y_true, y_pred, title):\n",
    "    ''''\n",
    "    input y_true-Ground Truth Labels\n",
    "          y_pred-Predicted Value of Model\n",
    "          title-What Title to give to the confusion matrix\n",
    "    \n",
    "    Draws a Confusion Matrix for better understanding of how the model is working\n",
    "    \n",
    "    return None\n",
    "    \n",
    "    '''\n",
    "    \n",
    "    figsize=(10,10)\n",
    "    y_true=np.argmax(y_true,axis=1)\n",
    "    y_pred=np.argmax(y_pred,axis=1)\n",
    "    cm = confusion_matrix(y_true, y_pred, labels=np.unique(y_true))\n",
    "    cm_sum = np.sum(cm, axis=1, keepdims=True)\n",
    "    cm_perc = cm / cm_sum.astype(float) * 100\n",
    "    annot = np.empty_like(cm).astype(str)\n",
    "    nrows, ncols = cm.shape\n",
    "    for i in range(nrows):\n",
    "        for j in range(ncols):\n",
    "            c = cm[i, j]\n",
    "            p = cm_perc[i, j]\n",
    "            if i == j:\n",
    "                s = cm_sum[i]\n",
    "                annot[i, j] = '%.1f%%\\n%d/%d' % (p, c, s)\n",
    "            elif c == 0:\n",
    "                annot[i, j] = ''\n",
    "            else:\n",
    "                annot[i, j] = '%.1f%%\\n%d' % (p, c)\n",
    "    cm = pd.DataFrame(cm, index=np.unique(y_true), columns=np.unique(y_true))\n",
    "    cm.index.name = 'Actual'\n",
    "    cm.columns.name = 'Predicted'\n",
    "    fig, ax = plt.subplots(figsize=figsize)\n",
    "    plt.title(title)\n",
    "    sns.heatmap(cm, cmap= \"YlGnBu\", annot=annot, fmt='', ax=ax)"
   ]
  },
  {
   "cell_type": "code",
   "execution_count": 16,
   "metadata": {
    "colab": {},
    "colab_type": "code",
    "id": "egd3ml4jXkoW"
   },
   "outputs": [],
   "source": [
    "#Original credit - @bgalbraith-Orginal Comeptition Score\n",
    "\n",
    "LABELS = ['agree', 'disagree', 'discuss', 'unrelated']\n",
    "LABELS_RELATED = ['unrelated','related']\n",
    "RELATED = LABELS[0:3]\n",
    "\n",
    "def score_submission(gold_labels, test_labels):\n",
    "    score = 0.0\n",
    "    for i, (g, t) in enumerate(zip(gold_labels, test_labels)):\n",
    "        g_stance, t_stance = g, t\n",
    "        if g_stance == t_stance:\n",
    "            score += 0.25\n",
    "            if g_stance != 'unrelated':\n",
    "                score += 0.50\n",
    "        if g_stance in RELATED and t_stance in RELATED:\n",
    "            score += 0.25\n",
    "\n",
    "        \n",
    "\n",
    "    return score\n",
    "\n",
    "def report_score(actual,predicted,name):\n",
    "    actual=np.argmax(actual,axis=1)\n",
    "    predicted=np.argmax(predicted,axis=1)\n",
    "    actual=pd.Series(actual).map({1:'agree',0:'disagree',2:'discuss',3:'unrelated'})\n",
    "    predicted=pd.Series(predicted).map({1:'agree',0:'disagree',2:'discuss',3:'unrelated'})\n",
    "    score = score_submission(actual.values,predicted.values)\n",
    "    best_score = score_submission(actual.values,actual.values)\n",
    "    print('For Model {}'.format(name))\n",
    "    print(\"Score: \" +str(score) + \" out of \" + str(best_score) + \"\\t(\"+str(score*100/best_score) + \"%)\")\n",
    "    return score*100/best_score"
   ]
  },
  {
   "cell_type": "markdown",
   "metadata": {
    "colab_type": "text",
    "id": "Pw3eWzQJf5L8"
   },
   "source": [
    "## Tensor DataSet"
   ]
  },
  {
   "cell_type": "code",
   "execution_count": 17,
   "metadata": {
    "colab": {},
    "colab_type": "code",
    "id": "Uu94a-MsXt_Z"
   },
   "outputs": [],
   "source": [
    "def tensorflow_make_train_valid_data(X_train,y_train,X_valid,y_valid,test=False):\n",
    "\n",
    "      train = (\n",
    "          tf.data.Dataset\n",
    "          .from_tensor_slices((X_train, y_train))\n",
    "          .repeat()\n",
    "          .shuffle(1024)\n",
    "          .batch(BATCH_SIZE)\n",
    "          .prefetch(AUTO))\n",
    "\n",
    "      valid = (\n",
    "          tf.data.Dataset\n",
    "          .from_tensor_slices((X_valid, y_valid))\n",
    "          .batch(BATCH_SIZE)\n",
    "          .cache()\n",
    "          .prefetch(AUTO)\n",
    "      )\n",
    "      return train,valid"
   ]
  },
  {
   "cell_type": "code",
   "execution_count": 18,
   "metadata": {
    "colab": {},
    "colab_type": "code",
    "id": "Zu2XVnaeXvpX"
   },
   "outputs": [],
   "source": [
    "def make_test_data(X_test):\n",
    "    test = (\n",
    "          tf.data.Dataset\n",
    "          .from_tensor_slices(X_test)\n",
    "          .batch(BATCH_SIZE)\n",
    "      )\n",
    "    return test"
   ]
  },
  {
   "cell_type": "code",
   "execution_count": 19,
   "metadata": {
    "colab": {},
    "colab_type": "code",
    "id": "ROK-nVVl4-76"
   },
   "outputs": [],
   "source": [
    "def stop_word_removal(text):\n",
    "  stop_word=['The','the','a','A','An','an']\n",
    "  tokenized_sentence=word_tokenize(text)\n",
    "  final_tokenized_sentence=[]\n",
    "  for word in tokenized_sentence:\n",
    "    if word not in stop_word:\n",
    "        final_tokenized_sentence.append(word)\n",
    "  final_tokenized_sentence=' '.join(final_tokenized_sentence)\n",
    "  return final_tokenized_sentence"
   ]
  },
  {
   "cell_type": "markdown",
   "metadata": {
    "colab_type": "text",
    "id": "6OHSmDPO-Emn"
   },
   "source": [
    "# Making Test Data"
   ]
  },
  {
   "cell_type": "code",
   "execution_count": 20,
   "metadata": {
    "colab": {
     "base_uri": "https://localhost:8080/",
     "height": 362,
     "referenced_widgets": [
      "1b95232a475f45ba9dffda2723e66d52",
      "97bc98f65fd34b7d82d1cffc6d248501",
      "e31b27d7902349aeadf00de935c93ba0",
      "ae27c575367d4a7aade2e2a4863349d8",
      "9ca6c962f3ef4d8b85000638e079e52b",
      "2c1899a002bf4ba7a4d86434ff7f69d7",
      "8f36f4c0b06549d4b848187c0029e611",
      "1b666673c70c4c8a99ef1c089c26796d",
      "d203458eda6a432083deac52837cc83f",
      "832602e0e86e41128b574b26152c7677",
      "834977aad2a94eae877beff1464dad72",
      "08196650c6704520b6f6a93c65114927",
      "a56ce2dcd3dc433f83f01252bed0c511",
      "0114325644224d6c802a34c9480e8e82",
      "e483f026d4cf4496a45b6ca7c346d4e6",
      "76b7de2c272a418baf858c56c344ad5e",
      "3ce6350b03bb4a8698ba82705280985a",
      "ca971c0a00344155a31769710c449aa5",
      "f48d212b89894fec8b3b228d10b3a19b",
      "415ce4f903524d1bab01c3a6c1cddd7e",
      "f89a8b2c715147f9bc6f47509f4bbd27",
      "ca325cc35e2e426d922667c17bd7cfdb",
      "b2adee3b0d67407da5e40f22843dd6ab",
      "655e16a9ae49447ca1268ea16385a4f6",
      "917357cbb9a94795a146500b8ad98335",
      "8cf19027ca4f44e099519e46daaef1b3",
      "9a543b130b734ea4ac05db1037129cd8",
      "6e05d813487246968a6e52d12b51743e",
      "e92bd56db68f4edb9b7925c5af1002a6",
      "325bf39b6db44665b0b9054cc2e66dc1",
      "c43bc322419d4381ab3e0c703b5b19d8",
      "387fcef3ec4346a1ac8121f03ec9a543",
      "b2fc4477c47b45b8a081ccf0a1bdb001",
      "5b2b09898e0e4e679addaf7e982b057b",
      "999b00d8856b4d00bdce6880fcb830d0",
      "43ccb7950ae849d499952ed7f8ffec29",
      "023fa9fc643c49129087cae54afb1276",
      "621cbb0c8dd743e4979d0b2bb208913a",
      "59bf21958b9446c481754c68b3924eab",
      "ac0e02154cf64159bb79d90aa256ab0b",
      "4ef7d5f2c7cb453caca73989ecfbf6f4",
      "6c765e3dd13e4c0faad94c7cc4d16bd1",
      "a836f108cc0a4418a4f37217597d3d11",
      "d6381c8b7ce24fcdb2fbc4cc60e88341",
      "7facf413d25a4d0fac5cfeb77a8697d6",
      "5af89ee878bb42c98e7b4f1ea1470bf6",
      "cdcc3ed44b0b4585827c6ed67c46b5b4",
      "f25472b5a4244c778a22bf581a7c3ae8"
     ]
    },
    "colab_type": "code",
    "executionInfo": {
     "elapsed": 224432,
     "status": "ok",
     "timestamp": 1599162754611,
     "user": {
      "displayName": "Ur Tech Guide",
      "photoUrl": "https://lh3.googleusercontent.com/a-/AOh14GhBjMoWnc1KwT73B6hzAbvnSIxnZAl5PY9n_RGJ0w=s64",
      "userId": "03152431167485721857"
     },
     "user_tz": -300
    },
    "id": "d9gla-2WiFsp",
    "outputId": "65e603a9-cb0d-43f3-b764-de4cddd93505"
   },
   "outputs": [
    {
     "name": "stderr",
     "output_type": "stream",
     "text": [
      "Tokenization Process: 100%|██████████| 28972/28972 [00:38<00:00, 758.73it/s] \n",
      "Tokenization Process: 100%|██████████| 28972/28972 [00:35<00:00, 805.34it/s] \n",
      "Tokenization Process: 100%|██████████| 28972/28972 [00:39<00:00, 735.45it/s] \n"
     ]
    }
   ],
   "source": [
    "\n",
    "test_bodies=pd.read_csv(os.getcwd()+\"\\\\FNC_ARC_data\\\\combined_bodies_test.csv\")\n",
    "test_stance=pd.read_csv(os.getcwd()+\"\\\\FNC_ARC_data\\\\combined_stances_test.csv\")\n",
    "test_df=test_bodies.merge(test_stance,on='Body ID')\n",
    "test_df['combine_raw_text']=test_df['Headline']+' '+test_df['articleBody']\n",
    "test_df['combine_text_tokenize']=test_df['combine_raw_text'].map(stop_word_removal)\n",
    "test_df['target']=test_df['Stance'].map({'agree':1,'disagree':0,'discuss':2,'unrelated':3}) ##dont test the labels until final version of the model is ready\n",
    "\n",
    "\n",
    "\n",
    "fast_tokenizer = DistilBertTokenizerFast.from_pretrained(\"distilbert-base-uncased\")._tokenizer\n",
    "fast_tokenizer.enable_padding(length=MAX_LEN)\n",
    "fast_tokenizer.enable_truncation(max_length=MAX_LEN)\n",
    "\n",
    "input_ids_distill_bert,attention_mask_distill_bert=fast_tokenization(test_df['combine_text_tokenize'].values)\n",
    "\n",
    "fast_tokenizer = GPT2TokenizerFast.from_pretrained(\"distilgpt2\")._tokenizer\n",
    "fast_tokenizer.enable_padding(length=MAX_LEN)\n",
    "fast_tokenizer.enable_truncation(max_length=MAX_LEN)\n",
    "input_ids_gpt_2,attention_mask_gpt_2=fast_tokenization(test_df['combine_text_tokenize'].values)\n",
    "\n",
    "model_type = 'distilroberta-base'\n",
    "fast_tokenizer =AutoTokenizer.from_pretrained(model_type)\n",
    "input_ids_roberta,attention_mask_roberta=fast_tokenization(test_df['combine_text_tokenize'].values,encode_plus=True)\n",
    "\n",
    "\n",
    "\n",
    "X_test={}\n",
    "X_test['input_ids_distill_bert'],X_test['attention_mask_distill_bert']=input_ids_distill_bert,attention_mask_distill_bert\n",
    "X_test['input_ids_gpt_2'],X_test['attention_mask_gpt_2']=input_ids_gpt_2,attention_mask_gpt_2\n",
    "X_test['input_ids_roberta'],X_test['attention_mask_roberta']=input_ids_roberta,attention_mask_roberta\n",
    "  \n"
   ]
  },
  {
   "cell_type": "markdown",
   "metadata": {
    "colab_type": "text",
    "id": "fiLNANcVf8HM"
   },
   "source": [
    "## Encoding the Data for BERT, GPT-2 & XLM-Roberta"
   ]
  },
  {
   "cell_type": "markdown",
   "metadata": {
    "colab_type": "text",
    "id": "hhmVtKM-VLiW"
   },
   "source": [
    "### Bert Encoding"
   ]
  },
  {
   "cell_type": "code",
   "execution_count": 21,
   "metadata": {
    "colab": {
     "base_uri": "https://localhost:8080/",
     "height": 51
    },
    "colab_type": "code",
    "executionInfo": {
     "elapsed": 63604,
     "status": "ok",
     "timestamp": 1599162818297,
     "user": {
      "displayName": "Ur Tech Guide",
      "photoUrl": "https://lh3.googleusercontent.com/a-/AOh14GhBjMoWnc1KwT73B6hzAbvnSIxnZAl5PY9n_RGJ0w=s64",
      "userId": "03152431167485721857"
     },
     "user_tz": -300
    },
    "id": "5jPVktoZU4Ll",
    "outputId": "36949227-777c-4a34-bf50-246d581bc5b5"
   },
   "outputs": [
    {
     "name": "stderr",
     "output_type": "stream",
     "text": [
      "Tokenization Process: 100%|██████████| 51394/51394 [01:06<00:00, 772.39it/s] \n",
      "Tokenization Process: 100%|██████████| 12811/12811 [00:15<00:00, 817.71it/s] \n"
     ]
    }
   ],
   "source": [
    "fast_tokenizer = DistilBertTokenizerFast.from_pretrained(\"distilbert-base-uncased\")._tokenizer\n",
    "fast_tokenizer.enable_padding(length=MAX_LEN)\n",
    "fast_tokenizer.enable_truncation(max_length=MAX_LEN)\n",
    "\n",
    "input_ids_distill_bert,attention_mask_distill_bert=fast_tokenization(train['combine_text_tokenize'].values)\n",
    "X_train['input_ids_distill_bert'],X_train['attention_mask_distill_bert']=input_ids_distill_bert,attention_mask_distill_bert\n",
    "input_ids_distill_bert,attention_mask_distill_bert=fast_tokenization(validation['combine_text_tokenize'].values)\n",
    "X_valid['input_ids_distill_bert'],X_valid['attention_mask_distill_bert']=input_ids_distill_bert,attention_mask_distill_bert"
   ]
  },
  {
   "cell_type": "markdown",
   "metadata": {
    "colab_type": "text",
    "id": "dx6BO5Z4YhJp"
   },
   "source": [
    "### GPT-AI 2 Encoding"
   ]
  },
  {
   "cell_type": "code",
   "execution_count": 22,
   "metadata": {
    "colab": {
     "base_uri": "https://localhost:8080/",
     "height": 51
    },
    "colab_type": "code",
    "executionInfo": {
     "elapsed": 132009,
     "status": "ok",
     "timestamp": 1599162886762,
     "user": {
      "displayName": "Ur Tech Guide",
      "photoUrl": "https://lh3.googleusercontent.com/a-/AOh14GhBjMoWnc1KwT73B6hzAbvnSIxnZAl5PY9n_RGJ0w=s64",
      "userId": "03152431167485721857"
     },
     "user_tz": -300
    },
    "id": "gYMDw-aDWNza",
    "outputId": "73ac404f-9359-406e-f385-3ae643cdeb10"
   },
   "outputs": [
    {
     "name": "stderr",
     "output_type": "stream",
     "text": [
      "Tokenization Process: 100%|██████████| 51394/51394 [01:03<00:00, 804.05it/s] \n",
      "Tokenization Process: 100%|██████████| 12811/12811 [00:15<00:00, 829.57it/s] \n"
     ]
    }
   ],
   "source": [
    "fast_tokenizer = GPT2TokenizerFast.from_pretrained(\"distilgpt2\")._tokenizer\n",
    "fast_tokenizer.enable_padding(length=MAX_LEN)\n",
    "fast_tokenizer.enable_truncation(max_length=MAX_LEN)\n",
    "input_ids_gpt_2,attention_mask_gpt_2=fast_tokenization(train['combine_text_tokenize'].values)\n",
    "X_train['input_ids_gpt_2'],X_train['attention_mask_gpt_2']=input_ids_gpt_2,attention_mask_gpt_2\n",
    "input_ids_gpt_2,attention_mask_gpt_2=fast_tokenization(validation['combine_text_tokenize'].values)\n",
    "X_valid['input_ids_gpt_2'],X_valid['attention_mask_gpt_2']=input_ids_gpt_2,attention_mask_gpt_2"
   ]
  },
  {
   "cell_type": "markdown",
   "metadata": {
    "colab_type": "text",
    "id": "L4wxYPNUgIOA"
   },
   "source": [
    "### XLM-Roberta Encoding"
   ]
  },
  {
   "cell_type": "code",
   "execution_count": 23,
   "metadata": {
    "colab": {
     "base_uri": "https://localhost:8080/",
     "height": 51
    },
    "colab_type": "code",
    "executionInfo": {
     "elapsed": 292315,
     "status": "ok",
     "timestamp": 1599163047093,
     "user": {
      "displayName": "Ur Tech Guide",
      "photoUrl": "https://lh3.googleusercontent.com/a-/AOh14GhBjMoWnc1KwT73B6hzAbvnSIxnZAl5PY9n_RGJ0w=s64",
      "userId": "03152431167485721857"
     },
     "user_tz": -300
    },
    "id": "-tWxkMnWYsoc",
    "outputId": "31c4b9e7-c82b-43d3-a606-d3a604e87f40"
   },
   "outputs": [
    {
     "name": "stderr",
     "output_type": "stream",
     "text": [
      "Tokenization Process: 100%|██████████| 51394/51394 [01:06<00:00, 771.88it/s] \n",
      "Tokenization Process: 100%|██████████| 12811/12811 [00:16<00:00, 770.78it/s] \n"
     ]
    }
   ],
   "source": [
    "model_type = 'distilroberta-base'\n",
    "fast_tokenizer =AutoTokenizer.from_pretrained(model_type)\n",
    "input_ids_roberta,attention_mask_roberta=fast_tokenization(train['combine_text_tokenize'].values,encode_plus=True)\n",
    "X_train['input_ids_roberta'],X_train['attention_mask_roberta']=input_ids_roberta,attention_mask_roberta\n",
    "roberta_model_base_input_id,roberta_model_attention_mask=fast_tokenization(validation['combine_text_tokenize'].values,encode_plus=True)\n",
    "X_valid['input_ids_roberta'],X_valid['attention_mask_roberta']=roberta_model_base_input_id,roberta_model_attention_mask"
   ]
  },
  {
   "cell_type": "code",
   "execution_count": 24,
   "metadata": {
    "colab": {},
    "colab_type": "code",
    "id": "1wCSX89QeDGH"
   },
   "outputs": [],
   "source": [
    "y_train=np.array(tf.keras.utils.to_categorical(train['target'].values))\n",
    "y_valid=np.array(tf.keras.utils.to_categorical(validation['target'].values))"
   ]
  },
  {
   "cell_type": "code",
   "execution_count": 25,
   "metadata": {
    "colab": {
     "base_uri": "https://localhost:8080/",
     "height": 51
    },
    "colab_type": "code",
    "executionInfo": {
     "elapsed": 292273,
     "status": "ok",
     "timestamp": 1599163047097,
     "user": {
      "displayName": "Ur Tech Guide",
      "photoUrl": "https://lh3.googleusercontent.com/a-/AOh14GhBjMoWnc1KwT73B6hzAbvnSIxnZAl5PY9n_RGJ0w=s64",
      "userId": "03152431167485721857"
     },
     "user_tz": -300
    },
    "id": "GU44Jw7fixEU",
    "outputId": "92bec629-541e-4f15-bf84-0d8123182514"
   },
   "outputs": [
    {
     "name": "stdout",
     "output_type": "stream",
     "text": [
      "dict_keys(['input_ids_distill_bert', 'attention_mask_distill_bert', 'input_ids_gpt_2', 'attention_mask_gpt_2', 'input_ids_roberta', 'attention_mask_roberta'])\n",
      "dict_keys(['input_ids_distill_bert', 'attention_mask_distill_bert', 'input_ids_gpt_2', 'attention_mask_gpt_2', 'input_ids_roberta', 'attention_mask_roberta'])\n"
     ]
    }
   ],
   "source": [
    "print(X_train.keys())\n",
    "print(X_valid.keys())"
   ]
  },
  {
   "cell_type": "markdown",
   "metadata": {
    "colab_type": "text",
    "id": "zp8n8hpFgRH2"
   },
   "source": [
    "## Main Model Training"
   ]
  },
  {
   "cell_type": "markdown",
   "metadata": {
    "colab_type": "text",
    "id": "vDQgURd_gTnp"
   },
   "source": [
    "### Model Parameters"
   ]
  },
  {
   "cell_type": "code",
   "execution_count": null,
   "metadata": {
    "colab": {},
    "colab_type": "code",
    "id": "wU5rH1PjXmVG"
   },
   "outputs": [],
   "source": [
    "BATCH_SIZE = 32\n",
    "EPOCHS=30\n",
    "LEARNING_RATE=4e-5\n",
    "BETA_1=0.9\n",
    "BETA_2=0.999\n",
    "AUTO = tf.data.experimental.AUTOTUNE\n",
    "# steps_per_epoch=train.shape[0]//BATCH_SIZE\n",
    "total_optimization_steps=int(steps_per_epoch*EPOCHS)\n",
    "WARM_UP_STEPS=int(0.06*total_optimization_steps)\n",
    "optimizer_with_schedule,lr_schedule=create_optimizer(init_lr=LEARNING_RATE,num_train_steps=total_optimization_steps,num_warmup_steps=WARM_UP_STEPS,schedule='linear')\n",
    "\n",
    "EARLY_STOP=tf.keras.callbacks.EarlyStopping(monitor='val_accuracy',patience=4)\n",
    "MAX_LEN=MAX_LEN\n",
    "LOSS=tf.keras.losses.CategoricalCrossentropy()\n",
    "OPTIMIZER=tf.keras.optimizers.Adam(learning_rate=LEARNING_RATE,beta_1=BETA_1,beta_2=BETA_2)"
   ]
  },
  {
   "cell_type": "code",
   "execution_count": null,
   "metadata": {
    "colab": {},
    "colab_type": "code",
    "id": "ZfphQAXu33h6"
   },
   "outputs": [],
   "source": [
    "test=make_test_data(X_test)"
   ]
  },
  {
   "cell_type": "code",
   "execution_count": null,
   "metadata": {
    "colab": {},
    "colab_type": "code",
    "id": "NZwYEPRjX5Im"
   },
   "outputs": [],
   "source": [
    "def gbx_layers():\n",
    "    distill_bert = (\n",
    "                TFDistilBertModel.from_pretrained('distilbert-base-uncased')\n",
    "            )\n",
    "    \n",
    "\n",
    "    gpt_layer=(\n",
    "        TFGPT2Model.from_pretrained('distilgpt2')\n",
    "    )\n",
    "\n",
    "\n",
    "    roberta_model=(\n",
    "        TFXLMRobertaModel.from_pretrained('distilroberta-base')\n",
    "    )\n",
    "\n",
    "\n",
    "\n",
    "\n",
    "    input_ids_distill_bert = tf.keras.layers.Input(shape=(MAX_LEN,), dtype=tf.int32, name=\"input_ids_distill_bert\")\n",
    "    attention_mask_distill_bert=tf.keras.layers.Input(shape=(MAX_LEN,), dtype=tf.int32, name=\"attention_mask_distill_bert\")\n",
    "\n",
    "    input_ids_gpt_2 = tf.keras.layers.Input(shape=(MAX_LEN,), dtype=tf.int32, name=\"input_ids_gpt_2\")\n",
    "    attention_mask_gpt_2=tf.keras.layers.Input(shape=(MAX_LEN,), dtype=tf.int32, name=\"attention_mask_gpt_2\")\n",
    "\n",
    "    input_ids_roberta = tf.keras.layers.Input(shape=(MAX_LEN,), dtype=tf.int32, name=\"input_ids_roberta\")\n",
    "    attention_mask_roberta=tf.keras.layers.Input(shape=(MAX_LEN,), dtype=tf.int32, name=\"attention_mask_roberta\")\n",
    "        \n",
    "    \n",
    "    hidden_state_output_dbert=distill_bert([input_ids_distill_bert,attention_mask_distill_bert])[0]\n",
    "    hidden_state_output_gpt_2,_=gpt_layer({'input_ids': input_ids_gpt_2, 'attention_mask': attention_mask_gpt_2},past=None)\n",
    "    hidden_state_output_roberta,_=roberta_model([input_ids_roberta,attention_mask_roberta])\n",
    "    \n",
    "    \n",
    "    \n",
    "    combine_input_1=tf.keras.layers.concatenate([hidden_state_output_dbert,hidden_state_output_gpt_2,hidden_state_output_roberta],axis=2,name='Concatenate_layer')\n",
    "    \n",
    "    final_input=tf.keras.layers.Conv1D(filters=768,kernel_size=3,padding='same',name='Conv_1d_layer')(combine_input_1)\n",
    "    final_input_1=tf.keras.layers.GlobalAveragePooling1D(name='Average_Pooling_layer')(final_input)\n",
    "   \n",
    "    out = tf.keras.layers.Dense(4, activation='softmax',name='Softmax_Layer')(final_input_1)\n",
    "\n",
    "    model = tf.keras.Model(inputs=[input_ids_distill_bert,attention_mask_distill_bert,input_ids_gpt_2,attention_mask_gpt_2,input_ids_roberta,attention_mask_roberta], outputs=out)\n",
    "   \n",
    "    return model"
   ]
  },
  {
   "cell_type": "markdown",
   "metadata": {
    "colab_type": "text",
    "id": "0_2aBAig6hyf"
   },
   "source": [
    "## GBX Model Run\n",
    "\n",
    "Following Parameters were used-Run(1)\n",
    "\n",
    "\n",
    "1.   BATCH_SIZE = 32\n",
    "2.   EPOCHS=2\n",
    "3.   LEARNING_RATE=3e-5\n",
    "4.   BETA_1=0.9-BETA_2=0.999\n",
    "5.   Scheduler=Linear with Intial Learning Rate of 3e-5\n",
    "6.   Freezing=No Layer was Freezed\n",
    "7.   MAX_LEN=256\n",
    "8.   Trained on TPU(Google Colab)\n"
   ]
  },
  {
   "cell_type": "code",
   "execution_count": null,
   "metadata": {
    "colab": {
     "base_uri": "https://localhost:8080/",
     "height": 955
    },
    "colab_type": "code",
    "executionInfo": {
     "elapsed": 409568,
     "status": "ok",
     "timestamp": 1599167786197,
     "user": {
      "displayName": "Ur Tech Guide",
      "photoUrl": "https://lh3.googleusercontent.com/a-/AOh14GhBjMoWnc1KwT73B6hzAbvnSIxnZAl5PY9n_RGJ0w=s64",
      "userId": "03152431167485721857"
     },
     "user_tz": -300
    },
    "id": "kV9kdcv4fb4I",
    "outputId": "259a5038-d3be-4087-8d49-3c17110c4404"
   },
   "outputs": [
    {
     "name": "stderr",
     "output_type": "stream",
     "text": [
      "Some weights of the model checkpoint at distilbert-base-uncased were not used when initializing TFDistilBertModel: ['vocab_transform', 'vocab_projector', 'vocab_layer_norm', 'activation_13']\n",
      "- This IS expected if you are initializing TFDistilBertModel from the checkpoint of a model trained on another task or with another architecture (e.g. initializing a BertForSequenceClassification model from a BertForPretraining model).\n",
      "- This IS NOT expected if you are initializing TFDistilBertModel from the checkpoint of a model that you expect to be exactly identical (initializing a BertForSequenceClassification model from a BertForSequenceClassification model).\n",
      "All the weights of TFDistilBertModel were initialized from the model checkpoint at distilbert-base-uncased.\n",
      "If your task is similar to the task the model of the checkpoint was trained on, you can already use TFDistilBertModel for predictions without further training.\n",
      "All model checkpoint weights were used when initializing TFGPT2Model.\n",
      "\n",
      "All the weights of TFGPT2Model were initialized from the model checkpoint at distilgpt2.\n",
      "If your task is similar to the task the model of the checkpoint was trained on, you can already use TFGPT2Model for predictions without further training.\n",
      "Some weights of the model checkpoint at distilroberta-base were not used when initializing TFXLMRobertaModel: ['lm_head']\n",
      "- This IS expected if you are initializing TFXLMRobertaModel from the checkpoint of a model trained on another task or with another architecture (e.g. initializing a BertForSequenceClassification model from a BertForPretraining model).\n",
      "- This IS NOT expected if you are initializing TFXLMRobertaModel from the checkpoint of a model that you expect to be exactly identical (initializing a BertForSequenceClassification model from a BertForSequenceClassification model).\n",
      "All the weights of TFXLMRobertaModel were initialized from the model checkpoint at distilroberta-base.\n",
      "If your task is similar to the task the model of the checkpoint was trained on, you can already use TFXLMRobertaModel for predictions without further training.\n"
     ]
    },
    {
     "name": "stdout",
     "output_type": "stream",
     "text": [
      "Model: \"functional_3\"\n",
      "__________________________________________________________________________________________________\n",
      "Layer (type)                    Output Shape         Param #     Connected to                     \n",
      "==================================================================================================\n",
      "input_ids_distill_bert (InputLa [(None, 256)]        0                                            \n",
      "__________________________________________________________________________________________________\n",
      "attention_mask_distill_bert (In [(None, 256)]        0                                            \n",
      "__________________________________________________________________________________________________\n",
      "attention_mask_gpt_2 (InputLaye [(None, 256)]        0                                            \n",
      "__________________________________________________________________________________________________\n",
      "input_ids_gpt_2 (InputLayer)    [(None, 256)]        0                                            \n",
      "__________________________________________________________________________________________________\n",
      "input_ids_roberta (InputLayer)  [(None, 256)]        0                                            \n",
      "__________________________________________________________________________________________________\n",
      "attention_mask_roberta (InputLa [(None, 256)]        0                                            \n",
      "__________________________________________________________________________________________________\n",
      "tf_distil_bert_model_1 (TFDisti ((None, 256, 768),)  66362880    input_ids_distill_bert[0][0]     \n",
      "                                                                 attention_mask_distill_bert[0][0]\n",
      "__________________________________________________________________________________________________\n",
      "tfgp_t2model_1 (TFGPT2Model)    ((None, 256, 768), ( 81912576    attention_mask_gpt_2[0][0]       \n",
      "                                                                 input_ids_gpt_2[0][0]            \n",
      "__________________________________________________________________________________________________\n",
      "tfxlm_roberta_model_1 (TFXLMRob ((None, 256, 768), ( 82118400    input_ids_roberta[0][0]          \n",
      "                                                                 attention_mask_roberta[0][0]     \n",
      "__________________________________________________________________________________________________\n",
      "Concatenate_layer (Concatenate) (None, 256, 2304)    0           tf_distil_bert_model_1[0][0]     \n",
      "                                                                 tfgp_t2model_1[0][0]             \n",
      "                                                                 tfxlm_roberta_model_1[0][0]      \n",
      "__________________________________________________________________________________________________\n",
      "Conv_1d_layer (Conv1D)          (None, 256, 768)     5309184     Concatenate_layer[0][0]          \n",
      "__________________________________________________________________________________________________\n",
      "Average_Pooling_layer (GlobalAv (None, 768)          0           Conv_1d_layer[0][0]              \n",
      "__________________________________________________________________________________________________\n",
      "Softmax_Layer (Dense)           (None, 4)            3076        Average_Pooling_layer[0][0]      \n",
      "==================================================================================================\n",
      "Total params: 235,706,116\n",
      "Trainable params: 235,706,116\n",
      "Non-trainable params: 0\n",
      "__________________________________________________________________________________________________\n",
      "None\n"
     ]
    }
   ],
   "source": [
    "def compile_gbx(optim):\n",
    "  model=gbx_layers()\n",
    "  model.compile(optimizer=optim,loss=LOSS,metrics='accuracy')\n",
    "  print(model.summary())\n",
    "  return model\n",
    "\n",
    "\n",
    "train,valid=tensorflow_make_train_valid_data(X_train,y_train,X_valid,y_valid)\n",
    "with strategy.scope():\n",
    "  model=compile_gbx(optimizer_with_schedule)"
   ]
  },
  {
   "cell_type": "code",
   "execution_count": null,
   "metadata": {
    "colab": {
     "base_uri": "https://localhost:8080/",
     "height": 428
    },
    "colab_type": "code",
    "executionInfo": {
     "elapsed": 834922,
     "status": "ok",
     "timestamp": 1599086580998,
     "user": {
      "displayName": "Ur Tech Guide",
      "photoUrl": "https://lh3.googleusercontent.com/a-/AOh14GhBjMoWnc1KwT73B6hzAbvnSIxnZAl5PY9n_RGJ0w=s64",
      "userId": "03152431167485721857"
     },
     "user_tz": -300
    },
    "id": "KCE9g3xX034O",
    "outputId": "e6f1478f-5558-48a2-fcf6-95335c7893d0"
   },
   "outputs": [
    {
     "name": "stdout",
     "output_type": "stream",
     "text": [
      "Epoch 1/2\n",
      "WARNING:tensorflow:From /usr/local/lib/python3.6/dist-packages/tensorflow/python/data/ops/multi_device_iterator_ops.py:601: get_next_as_optional (from tensorflow.python.data.ops.iterator_ops) is deprecated and will be removed in a future version.\n",
      "Instructions for updating:\n",
      "Use `tf.data.Iterator.get_next_as_optional()` instead.\n"
     ]
    },
    {
     "name": "stderr",
     "output_type": "stream",
     "text": [
      "WARNING:tensorflow:From /usr/local/lib/python3.6/dist-packages/tensorflow/python/data/ops/multi_device_iterator_ops.py:601: get_next_as_optional (from tensorflow.python.data.ops.iterator_ops) is deprecated and will be removed in a future version.\n",
      "Instructions for updating:\n",
      "Use `tf.data.Iterator.get_next_as_optional()` instead.\n"
     ]
    },
    {
     "name": "stdout",
     "output_type": "stream",
     "text": [
      "WARNING:tensorflow:Gradients do not exist for variables ['tfxlm_roberta_model/roberta/pooler/dense/kernel:0', 'tfxlm_roberta_model/roberta/pooler/dense/bias:0'] when minimizing the loss.\n"
     ]
    },
    {
     "name": "stderr",
     "output_type": "stream",
     "text": [
      "WARNING:tensorflow:Gradients do not exist for variables ['tfxlm_roberta_model/roberta/pooler/dense/kernel:0', 'tfxlm_roberta_model/roberta/pooler/dense/bias:0'] when minimizing the loss.\n"
     ]
    },
    {
     "name": "stdout",
     "output_type": "stream",
     "text": [
      "WARNING:tensorflow:Gradients do not exist for variables ['tfxlm_roberta_model/roberta/pooler/dense/kernel:0', 'tfxlm_roberta_model/roberta/pooler/dense/bias:0'] when minimizing the loss.\n"
     ]
    },
    {
     "name": "stderr",
     "output_type": "stream",
     "text": [
      "WARNING:tensorflow:Gradients do not exist for variables ['tfxlm_roberta_model/roberta/pooler/dense/kernel:0', 'tfxlm_roberta_model/roberta/pooler/dense/bias:0'] when minimizing the loss.\n"
     ]
    },
    {
     "name": "stdout",
     "output_type": "stream",
     "text": [
      "WARNING:tensorflow:Gradients do not exist for variables ['tfxlm_roberta_model/roberta/pooler/dense/kernel:0', 'tfxlm_roberta_model/roberta/pooler/dense/bias:0'] when minimizing the loss.\n"
     ]
    },
    {
     "name": "stderr",
     "output_type": "stream",
     "text": [
      "WARNING:tensorflow:Gradients do not exist for variables ['tfxlm_roberta_model/roberta/pooler/dense/kernel:0', 'tfxlm_roberta_model/roberta/pooler/dense/bias:0'] when minimizing the loss.\n"
     ]
    },
    {
     "name": "stdout",
     "output_type": "stream",
     "text": [
      "WARNING:tensorflow:Gradients do not exist for variables ['tfxlm_roberta_model/roberta/pooler/dense/kernel:0', 'tfxlm_roberta_model/roberta/pooler/dense/bias:0'] when minimizing the loss.\n"
     ]
    },
    {
     "name": "stderr",
     "output_type": "stream",
     "text": [
      "WARNING:tensorflow:Gradients do not exist for variables ['tfxlm_roberta_model/roberta/pooler/dense/kernel:0', 'tfxlm_roberta_model/roberta/pooler/dense/bias:0'] when minimizing the loss.\n"
     ]
    },
    {
     "name": "stdout",
     "output_type": "stream",
     "text": [
      "   2/1606 [..............................] - ETA: 2:37 - loss: 5.2713 - accuracy: 0.0000e+00WARNING:tensorflow:Callbacks method `on_train_batch_end` is slow compared to the batch time (batch time: 0.0188s vs `on_train_batch_end` time: 0.1737s). Check your callbacks.\n"
     ]
    },
    {
     "name": "stderr",
     "output_type": "stream",
     "text": [
      "WARNING:tensorflow:Callbacks method `on_train_batch_end` is slow compared to the batch time (batch time: 0.0188s vs `on_train_batch_end` time: 0.1737s). Check your callbacks.\n"
     ]
    },
    {
     "name": "stdout",
     "output_type": "stream",
     "text": [
      "1606/1606 [==============================] - ETA: 0s - loss: 0.4420 - accuracy: 0.8589WARNING:tensorflow:Callbacks method `on_test_batch_end` is slow compared to the batch time (batch time: 0.0053s vs `on_test_batch_end` time: 0.0498s). Check your callbacks.\n"
     ]
    },
    {
     "name": "stderr",
     "output_type": "stream",
     "text": [
      "WARNING:tensorflow:Callbacks method `on_test_batch_end` is slow compared to the batch time (batch time: 0.0053s vs `on_test_batch_end` time: 0.0498s). Check your callbacks.\n"
     ]
    },
    {
     "name": "stdout",
     "output_type": "stream",
     "text": [
      "\b\b\b\b\b\b\b\b\b\b\b\b\b\b\b\b\b\b\b\b\b\b\b\b\b\b\b\b\b\b\b\b\b\b\b\b\b\b\b\b\b\b\b\b\b\b\b\b\b\b\b\b\b\b\b\b\b\b\b\b\b\b\b\b\b\b\b\b\b\b\b\b\b\b\b\b\b\b\b\b\b\b\b\b\b\b\r",
      "1606/1606 [==============================] - 353s 220ms/step - loss: 0.4420 - accuracy: 0.8589 - val_loss: 0.3128 - val_accuracy: 0.8898\n",
      "Epoch 2/2\n",
      "1606/1606 [==============================] - 330s 205ms/step - loss: 0.1625 - accuracy: 0.9376 - val_loss: 0.2570 - val_accuracy: 0.9139\n"
     ]
    },
    {
     "data": {
      "text/plain": [
       "<tensorflow.python.keras.callbacks.History at 0x7fe0631d49e8>"
      ]
     },
     "execution_count": 53,
     "metadata": {
      "tags": []
     },
     "output_type": "execute_result"
    }
   ],
   "source": [
    "history = LossHistory()\n",
    "model.fit(\n",
    "      train,steps_per_epoch=steps_per_epoch,\n",
    "      epochs=EPOCHS,callbacks=[history], validation_data=valid,\n",
    ")\n",
    "  "
   ]
  },
  {
   "cell_type": "code",
   "execution_count": null,
   "metadata": {
    "colab": {
     "base_uri": "https://localhost:8080/",
     "height": 88
    },
    "colab_type": "code",
    "executionInfo": {
     "elapsed": 905314,
     "status": "ok",
     "timestamp": 1599086652003,
     "user": {
      "displayName": "Ur Tech Guide",
      "photoUrl": "https://lh3.googleusercontent.com/a-/AOh14GhBjMoWnc1KwT73B6hzAbvnSIxnZAl5PY9n_RGJ0w=s64",
      "userId": "03152431167485721857"
     },
     "user_tz": -300
    },
    "id": "m2xAIdEOgo8O",
    "outputId": "6c0f3242-57ae-4ccc-eca7-be301dfd3aec"
   },
   "outputs": [
    {
     "name": "stdout",
     "output_type": "stream",
     "text": [
      "  2/906 [..............................] - ETA: 1:17:56WARNING:tensorflow:Callbacks method `on_predict_batch_end` is slow compared to the batch time (batch time: 0.0045s vs `on_predict_batch_end` time: 0.0452s). Check your callbacks.\n"
     ]
    },
    {
     "name": "stderr",
     "output_type": "stream",
     "text": [
      "WARNING:tensorflow:Callbacks method `on_predict_batch_end` is slow compared to the batch time (batch time: 0.0045s vs `on_predict_batch_end` time: 0.0452s). Check your callbacks.\n"
     ]
    },
    {
     "name": "stdout",
     "output_type": "stream",
     "text": [
      "906/906 [==============================] - 62s 68ms/step\n"
     ]
    }
   ],
   "source": [
    "y_pred=model.predict(test,verbose=1)\n",
    "y_true=np.array(tf.keras.utils.to_categorical(test_df['target'].values))"
   ]
  },
  {
   "cell_type": "code",
   "execution_count": null,
   "metadata": {
    "colab": {},
    "colab_type": "code",
    "id": "dI9oJOUAUQ7O"
   },
   "outputs": [],
   "source": [
    "saved_history=np.array({'train_loss':history.losses})\n",
    "np.save('y_pred_gbx_fnc_arc_run(1).npy',y_pred,allow_pickle=True)\n",
    "np.save('saved_history_gbx_fnc_arc_run(1).npy',saved_history)"
   ]
  },
  {
   "cell_type": "code",
   "execution_count": null,
   "metadata": {
    "colab": {
     "base_uri": "https://localhost:8080/",
     "height": 626
    },
    "colab_type": "code",
    "executionInfo": {
     "elapsed": 904803,
     "status": "ok",
     "timestamp": 1599086652608,
     "user": {
      "displayName": "Ur Tech Guide",
      "photoUrl": "https://lh3.googleusercontent.com/a-/AOh14GhBjMoWnc1KwT73B6hzAbvnSIxnZAl5PY9n_RGJ0w=s64",
      "userId": "03152431167485721857"
     },
     "user_tz": -300
    },
    "id": "mMrf3QFTOO7D",
    "outputId": "cd29aeef-153a-4e4e-946f-59ed0dac7465"
   },
   "outputs": [
    {
     "data": {
      "image/png": "[encoded data removed]",
      "text/plain": [
       "<Figure size 864x720 with 1 Axes>"
      ]
     },
     "metadata": {
      "tags": []
     },
     "output_type": "display_data"
    }
   ],
   "source": [
    "plot_loss(history,'GBX on FNC-ARC Dataset-Run(1)')"
   ]
  },
  {
   "cell_type": "code",
   "execution_count": null,
   "metadata": {
    "colab": {
     "base_uri": "https://localhost:8080/",
     "height": 626
    },
    "colab_type": "code",
    "executionInfo": {
     "elapsed": 905043,
     "status": "ok",
     "timestamp": 1599086653344,
     "user": {
      "displayName": "Ur Tech Guide",
      "photoUrl": "https://lh3.googleusercontent.com/a-/AOh14GhBjMoWnc1KwT73B6hzAbvnSIxnZAl5PY9n_RGJ0w=s64",
      "userId": "03152431167485721857"
     },
     "user_tz": -300
    },
    "id": "kR59sBGy6Z10",
    "outputId": "4bee10d1-852f-4368-85c2-456223c1f749"
   },
   "outputs": [
    {
     "data": {
      "image/png": "[encoded data removed]",
      "text/plain": [
       "<Figure size 720x720 with 2 Axes>"
      ]
     },
     "metadata": {
      "tags": []
     },
     "output_type": "display_data"
    }
   ],
   "source": [
    "plot_cm(y_true, y_pred, 'GBX on FNC-ARC Dataset-Run(1)')"
   ]
  },
  {
   "cell_type": "code",
   "execution_count": null,
   "metadata": {
    "colab": {
     "base_uri": "https://localhost:8080/",
     "height": 221
    },
    "colab_type": "code",
    "executionInfo": {
     "elapsed": 904536,
     "status": "ok",
     "timestamp": 1599086653347,
     "user": {
      "displayName": "Ur Tech Guide",
      "photoUrl": "https://lh3.googleusercontent.com/a-/AOh14GhBjMoWnc1KwT73B6hzAbvnSIxnZAl5PY9n_RGJ0w=s64",
      "userId": "03152431167485721857"
     },
     "user_tz": -300
    },
    "id": "NBJvl21z6ccQ",
    "outputId": "e29622cd-a4a4-4065-9020-39db7f8ea33c"
   },
   "outputs": [
    {
     "name": "stdout",
     "output_type": "stream",
     "text": [
      "The accuracy of the model GBX on FNC-ARC Dataset-Run(1) is Accuracy: 88.944%\n",
      "              precision    recall  f1-score   support\n",
      "\n",
      "    disagree       0.40      0.30      0.34      1069\n",
      "       agree       0.56      0.63      0.59      2237\n",
      "     discuss       0.85      0.69      0.76      4643\n",
      "   unrelated       0.95      0.99      0.97     21023\n",
      "\n",
      "    accuracy                           0.89     28972\n",
      "   macro avg       0.69      0.65      0.67     28972\n",
      "weighted avg       0.88      0.89      0.89     28972\n",
      "\n"
     ]
    }
   ],
   "source": [
    "accuracy(y_true,y_pred,'GBX on FNC-ARC Dataset-Run(1)')"
   ]
  },
  {
   "cell_type": "code",
   "execution_count": null,
   "metadata": {
    "colab": {
     "base_uri": "https://localhost:8080/",
     "height": 34
    },
    "colab_type": "code",
    "executionInfo": {
     "elapsed": 903900,
     "status": "ok",
     "timestamp": 1599086653350,
     "user": {
      "displayName": "Ur Tech Guide",
      "photoUrl": "https://lh3.googleusercontent.com/a-/AOh14GhBjMoWnc1KwT73B6hzAbvnSIxnZAl5PY9n_RGJ0w=s64",
      "userId": "03152431167485721857"
     },
     "user_tz": -300
    },
    "id": "TlTFda1Z6d81",
    "outputId": "e759af74-2c47-4359-c179-427e40e1b96f"
   },
   "outputs": [
    {
     "name": "stdout",
     "output_type": "stream",
     "text": [
      "The F1-M Score of the model GBX on FNC-ARC Dataset-Run(1) is F-1-Score: 66.568%\n"
     ]
    }
   ],
   "source": [
    "f1_score_m(y_true,y_pred,'GBX on FNC-ARC Dataset-Run(1)')"
   ]
  },
  {
   "cell_type": "code",
   "execution_count": null,
   "metadata": {
    "colab": {
     "base_uri": "https://localhost:8080/",
     "height": 68
    },
    "colab_type": "code",
    "executionInfo": {
     "elapsed": 903105,
     "status": "ok",
     "timestamp": 1599086653354,
     "user": {
      "displayName": "Ur Tech Guide",
      "photoUrl": "https://lh3.googleusercontent.com/a-/AOh14GhBjMoWnc1KwT73B6hzAbvnSIxnZAl5PY9n_RGJ0w=s64",
      "userId": "03152431167485721857"
     },
     "user_tz": -300
    },
    "id": "nzR_f9GP6feE",
    "outputId": "76f5ff78-7ac3-47e9-84df-fd3a103ebbaf"
   },
   "outputs": [
    {
     "name": "stdout",
     "output_type": "stream",
     "text": [
      "For Model GBX on FNC-ARC Dataset-Run(1)\n",
      "Score: 10626.0 out of 13204.75\t(80.47104261724%)\n"
     ]
    },
    {
     "data": {
      "text/plain": [
       "80.47104261724"
      ]
     },
     "execution_count": 60,
     "metadata": {
      "tags": []
     },
     "output_type": "execute_result"
    }
   ],
   "source": [
    "report_score(actual=y_true, predicted=y_pred,name='GBX on FNC-ARC Dataset-Run(1)')"
   ]
  },
  {
   "cell_type": "markdown",
   "metadata": {
    "colab_type": "text",
    "id": "e5gUXt0zzada"
   },
   "source": [
    "\n",
    "Following Parameters were used-Run(2)\n",
    "\n",
    "\n",
    "1.   BATCH_SIZE = 32\n",
    "2.   EPOCHS=10(With Early Callback)\n",
    "3.   LEARNING_RATE=3e-5\n",
    "4.   BETA_1=0.9-BETA_2=0.999\n",
    "5.   Scheduler=Linear with Intial Learning Rate of 3e-5\n",
    "6.   Freezing=No Layer was Freezed\n",
    "7.   MAX_LEN=256\n",
    "8.   Trained on TPU(Google Colab)"
   ]
  },
  {
   "cell_type": "code",
   "execution_count": null,
   "metadata": {
    "colab": {
     "base_uri": "https://localhost:8080/",
     "height": 428
    },
    "colab_type": "code",
    "executionInfo": {
     "elapsed": 1840684,
     "status": "ok",
     "timestamp": 1599088893757,
     "user": {
      "displayName": "Ur Tech Guide",
      "photoUrl": "https://lh3.googleusercontent.com/a-/AOh14GhBjMoWnc1KwT73B6hzAbvnSIxnZAl5PY9n_RGJ0w=s64",
      "userId": "03152431167485721857"
     },
     "user_tz": -300
    },
    "id": "ioVIqMV1DB8F",
    "outputId": "2c233dbe-b56d-4aaa-c480-ebbd1cd0d6d5"
   },
   "outputs": [
    {
     "name": "stdout",
     "output_type": "stream",
     "text": [
      "Epoch 1/50\n",
      "WARNING:tensorflow:Gradients do not exist for variables ['tfxlm_roberta_model_1/roberta/pooler/dense/kernel:0', 'tfxlm_roberta_model_1/roberta/pooler/dense/bias:0'] when minimizing the loss.\n"
     ]
    },
    {
     "name": "stderr",
     "output_type": "stream",
     "text": [
      "WARNING:tensorflow:Gradients do not exist for variables ['tfxlm_roberta_model_1/roberta/pooler/dense/kernel:0', 'tfxlm_roberta_model_1/roberta/pooler/dense/bias:0'] when minimizing the loss.\n"
     ]
    },
    {
     "name": "stdout",
     "output_type": "stream",
     "text": [
      "WARNING:tensorflow:Gradients do not exist for variables ['tfxlm_roberta_model_1/roberta/pooler/dense/kernel:0', 'tfxlm_roberta_model_1/roberta/pooler/dense/bias:0'] when minimizing the loss.\n"
     ]
    },
    {
     "name": "stderr",
     "output_type": "stream",
     "text": [
      "WARNING:tensorflow:Gradients do not exist for variables ['tfxlm_roberta_model_1/roberta/pooler/dense/kernel:0', 'tfxlm_roberta_model_1/roberta/pooler/dense/bias:0'] when minimizing the loss.\n"
     ]
    },
    {
     "name": "stdout",
     "output_type": "stream",
     "text": [
      "WARNING:tensorflow:Gradients do not exist for variables ['tfxlm_roberta_model_1/roberta/pooler/dense/kernel:0', 'tfxlm_roberta_model_1/roberta/pooler/dense/bias:0'] when minimizing the loss.\n"
     ]
    },
    {
     "name": "stderr",
     "output_type": "stream",
     "text": [
      "WARNING:tensorflow:Gradients do not exist for variables ['tfxlm_roberta_model_1/roberta/pooler/dense/kernel:0', 'tfxlm_roberta_model_1/roberta/pooler/dense/bias:0'] when minimizing the loss.\n"
     ]
    },
    {
     "name": "stdout",
     "output_type": "stream",
     "text": [
      "WARNING:tensorflow:Gradients do not exist for variables ['tfxlm_roberta_model_1/roberta/pooler/dense/kernel:0', 'tfxlm_roberta_model_1/roberta/pooler/dense/bias:0'] when minimizing the loss.\n"
     ]
    },
    {
     "name": "stderr",
     "output_type": "stream",
     "text": [
      "WARNING:tensorflow:Gradients do not exist for variables ['tfxlm_roberta_model_1/roberta/pooler/dense/kernel:0', 'tfxlm_roberta_model_1/roberta/pooler/dense/bias:0'] when minimizing the loss.\n"
     ]
    },
    {
     "name": "stdout",
     "output_type": "stream",
     "text": [
      "   2/1606 [..............................] - ETA: 2:38 - loss: 1.6446 - accuracy: 0.4688  WARNING:tensorflow:Callbacks method `on_train_batch_end` is slow compared to the batch time (batch time: 0.0173s vs `on_train_batch_end` time: 0.1776s). Check your callbacks.\n"
     ]
    },
    {
     "name": "stderr",
     "output_type": "stream",
     "text": [
      "WARNING:tensorflow:Callbacks method `on_train_batch_end` is slow compared to the batch time (batch time: 0.0173s vs `on_train_batch_end` time: 0.1776s). Check your callbacks.\n"
     ]
    },
    {
     "name": "stdout",
     "output_type": "stream",
     "text": [
      "1606/1606 [==============================] - ETA: 0s - loss: 0.3051 - accuracy: 0.8947WARNING:tensorflow:Callbacks method `on_test_batch_end` is slow compared to the batch time (batch time: 0.0051s vs `on_test_batch_end` time: 0.0493s). Check your callbacks.\n"
     ]
    },
    {
     "name": "stderr",
     "output_type": "stream",
     "text": [
      "WARNING:tensorflow:Callbacks method `on_test_batch_end` is slow compared to the batch time (batch time: 0.0051s vs `on_test_batch_end` time: 0.0493s). Check your callbacks.\n"
     ]
    },
    {
     "name": "stdout",
     "output_type": "stream",
     "text": [
      "\b\b\b\b\b\b\b\b\b\b\b\b\b\b\b\b\b\b\b\b\b\b\b\b\b\b\b\b\b\b\b\b\b\b\b\b\b\b\b\b\b\b\b\b\b\b\b\b\b\b\b\b\b\b\b\b\b\b\b\b\b\b\b\b\b\b\b\b\b\b\b\b\b\b\b\b\b\b\b\b\b\b\b\b\b\b\r",
      "1606/1606 [==============================] - 357s 222ms/step - loss: 0.3051 - accuracy: 0.8947 - val_loss: 0.3183 - val_accuracy: 0.8820\n",
      "Epoch 2/50\n",
      "1606/1606 [==============================] - 331s 206ms/step - loss: 0.1692 - accuracy: 0.9342 - val_loss: 0.2554 - val_accuracy: 0.9068\n",
      "Epoch 3/50\n",
      "1606/1606 [==============================] - 332s 207ms/step - loss: 0.1170 - accuracy: 0.9535 - val_loss: 0.2401 - val_accuracy: 0.9105\n",
      "Epoch 4/50\n",
      "1606/1606 [==============================] - 332s 207ms/step - loss: 0.0881 - accuracy: 0.9649 - val_loss: 0.2483 - val_accuracy: 0.9175\n",
      "Epoch 5/50\n",
      "1606/1606 [==============================] - 332s 207ms/step - loss: 0.0664 - accuracy: 0.9732 - val_loss: 0.2876 - val_accuracy: 0.9153\n"
     ]
    },
    {
     "data": {
      "text/plain": [
       "<tensorflow.python.keras.callbacks.History at 0x7fe0ba302630>"
      ]
     },
     "execution_count": 65,
     "metadata": {
      "tags": []
     },
     "output_type": "execute_result"
    }
   ],
   "source": [
    "history = LossHistory()\n",
    "model.fit(\n",
    "      train,steps_per_epoch=steps_per_epoch,\n",
    "      epochs=EPOCHS,callbacks=[history,EARLY_STOP], validation_data=valid,\n",
    ")\n",
    "  "
   ]
  },
  {
   "cell_type": "code",
   "execution_count": null,
   "metadata": {
    "colab": {
     "base_uri": "https://localhost:8080/",
     "height": 88
    },
    "colab_type": "code",
    "executionInfo": {
     "elapsed": 71812,
     "status": "ok",
     "timestamp": 1599088991245,
     "user": {
      "displayName": "Ur Tech Guide",
      "photoUrl": "https://lh3.googleusercontent.com/a-/AOh14GhBjMoWnc1KwT73B6hzAbvnSIxnZAl5PY9n_RGJ0w=s64",
      "userId": "03152431167485721857"
     },
     "user_tz": -300
    },
    "id": "i_3rYVeSztv6",
    "outputId": "160e00b5-fb05-4dd3-ae24-6e1ab4f2e30b"
   },
   "outputs": [
    {
     "name": "stdout",
     "output_type": "stream",
     "text": [
      "  2/906 [..............................] - ETA: 1:19:46WARNING:tensorflow:Callbacks method `on_predict_batch_end` is slow compared to the batch time (batch time: 0.0047s vs `on_predict_batch_end` time: 0.0454s). Check your callbacks.\n"
     ]
    },
    {
     "name": "stderr",
     "output_type": "stream",
     "text": [
      "WARNING:tensorflow:Callbacks method `on_predict_batch_end` is slow compared to the batch time (batch time: 0.0047s vs `on_predict_batch_end` time: 0.0454s). Check your callbacks.\n"
     ]
    },
    {
     "name": "stdout",
     "output_type": "stream",
     "text": [
      "906/906 [==============================] - 64s 70ms/step\n"
     ]
    }
   ],
   "source": [
    "y_pred=model.predict(test,verbose=1)\n",
    "y_true=np.array(tf.keras.utils.to_categorical(test_df['target'].values))"
   ]
  },
  {
   "cell_type": "code",
   "execution_count": null,
   "metadata": {
    "colab": {},
    "colab_type": "code",
    "id": "jddeY3bbzwPV"
   },
   "outputs": [],
   "source": [
    "saved_history=np.array({'train_loss':history.losses})\n",
    "np.save('y_pred_gbx_fnc_arc_run(2).npy',y_pred,allow_pickle=True)\n",
    "np.save('saved_history_gbx_fnc_arc_run(2).npy',saved_history)"
   ]
  },
  {
   "cell_type": "code",
   "execution_count": null,
   "metadata": {
    "colab": {
     "base_uri": "https://localhost:8080/",
     "height": 626
    },
    "colab_type": "code",
    "executionInfo": {
     "elapsed": 66300,
     "status": "ok",
     "timestamp": 1599088992239,
     "user": {
      "displayName": "Ur Tech Guide",
      "photoUrl": "https://lh3.googleusercontent.com/a-/AOh14GhBjMoWnc1KwT73B6hzAbvnSIxnZAl5PY9n_RGJ0w=s64",
      "userId": "03152431167485721857"
     },
     "user_tz": -300
    },
    "id": "qzPkbJZQz0BM",
    "outputId": "baddd123-5c8f-4a3e-e1d6-7ba5e56c66db"
   },
   "outputs": [
    {
     "data": {
      "image/png": "[encoded data removed]",
      "text/plain": [
       "<Figure size 864x720 with 1 Axes>"
      ]
     },
     "metadata": {
      "tags": []
     },
     "output_type": "display_data"
    }
   ],
   "source": [
    "plot_loss(history,'GBX on FNC-ARC Dataset-Run(2)')"
   ]
  },
  {
   "cell_type": "code",
   "execution_count": null,
   "metadata": {
    "colab": {
     "base_uri": "https://localhost:8080/",
     "height": 626
    },
    "colab_type": "code",
    "executionInfo": {
     "elapsed": 65736,
     "status": "ok",
     "timestamp": 1599088992242,
     "user": {
      "displayName": "Ur Tech Guide",
      "photoUrl": "https://lh3.googleusercontent.com/a-/AOh14GhBjMoWnc1KwT73B6hzAbvnSIxnZAl5PY9n_RGJ0w=s64",
      "userId": "03152431167485721857"
     },
     "user_tz": -300
    },
    "id": "AP-z5tm20FQT",
    "outputId": "14d66608-f96c-4260-8aa1-e30fec80df12"
   },
   "outputs": [
    {
     "data": {
      "image/png": "[encoded data removed]",
      "text/plain": [
       "<Figure size 720x720 with 2 Axes>"
      ]
     },
     "metadata": {
      "tags": []
     },
     "output_type": "display_data"
    }
   ],
   "source": [
    "plot_cm(y_true, y_pred, 'GBX on FNC-ARC Dataset-Run(2)')"
   ]
  },
  {
   "cell_type": "code",
   "execution_count": null,
   "metadata": {
    "colab": {
     "base_uri": "https://localhost:8080/",
     "height": 221
    },
    "colab_type": "code",
    "executionInfo": {
     "elapsed": 65121,
     "status": "ok",
     "timestamp": 1599088992246,
     "user": {
      "displayName": "Ur Tech Guide",
      "photoUrl": "https://lh3.googleusercontent.com/a-/AOh14GhBjMoWnc1KwT73B6hzAbvnSIxnZAl5PY9n_RGJ0w=s64",
      "userId": "03152431167485721857"
     },
     "user_tz": -300
    },
    "id": "xPGKlKkK0GO3",
    "outputId": "69cab0c2-2488-4a8a-e01d-af55d96b09cb"
   },
   "outputs": [
    {
     "name": "stdout",
     "output_type": "stream",
     "text": [
      "The accuracy of the model GBX on FNC-ARC Dataset-Run(2) is Accuracy: 87.764%\n",
      "              precision    recall  f1-score   support\n",
      "\n",
      "    disagree       0.50      0.18      0.26      1069\n",
      "       agree       0.51      0.52      0.52      2237\n",
      "     discuss       0.68      0.81      0.74      4643\n",
      "   unrelated       0.98      0.97      0.97     21023\n",
      "\n",
      "    accuracy                           0.88     28972\n",
      "   macro avg       0.67      0.62      0.62     28972\n",
      "weighted avg       0.88      0.88      0.87     28972\n",
      "\n"
     ]
    }
   ],
   "source": [
    "accuracy(y_true,y_pred,'GBX on FNC-ARC Dataset-Run(2)')"
   ]
  },
  {
   "cell_type": "code",
   "execution_count": null,
   "metadata": {
    "colab": {
     "base_uri": "https://localhost:8080/",
     "height": 34
    },
    "colab_type": "code",
    "executionInfo": {
     "elapsed": 691,
     "status": "ok",
     "timestamp": 1599089042930,
     "user": {
      "displayName": "Ur Tech Guide",
      "photoUrl": "https://lh3.googleusercontent.com/a-/AOh14GhBjMoWnc1KwT73B6hzAbvnSIxnZAl5PY9n_RGJ0w=s64",
      "userId": "03152431167485721857"
     },
     "user_tz": -300
    },
    "id": "-qPLHJJdIlDs",
    "outputId": "d5bf2e3e-0998-4bfc-a50a-7b7560eee55c"
   },
   "outputs": [
    {
     "name": "stdout",
     "output_type": "stream",
     "text": [
      "The F1-M Score of the model GBX on FNC-ARC Dataset-Run(2) is F-1-Score: 62.294%\n"
     ]
    }
   ],
   "source": [
    "f1_score_m(y_true,y_pred,'GBX on FNC-ARC Dataset-Run(2)')"
   ]
  },
  {
   "cell_type": "code",
   "execution_count": null,
   "metadata": {
    "colab": {
     "base_uri": "https://localhost:8080/",
     "height": 68
    },
    "colab_type": "code",
    "executionInfo": {
     "elapsed": 64635,
     "status": "ok",
     "timestamp": 1599088992248,
     "user": {
      "displayName": "Ur Tech Guide",
      "photoUrl": "https://lh3.googleusercontent.com/a-/AOh14GhBjMoWnc1KwT73B6hzAbvnSIxnZAl5PY9n_RGJ0w=s64",
      "userId": "03152431167485721857"
     },
     "user_tz": -300
    },
    "id": "8TWP8gDf0Iae",
    "outputId": "d8bbc01e-da30-439a-ef15-48628e162ed3"
   },
   "outputs": [
    {
     "name": "stdout",
     "output_type": "stream",
     "text": [
      "For Model GBX on FNC-ARC Dataset-Run(2)\n",
      "Score: 10779.25 out of 13204.75\t(81.63160983736913%)\n"
     ]
    },
    {
     "data": {
      "text/plain": [
       "81.63160983736913"
      ]
     },
     "execution_count": 71,
     "metadata": {
      "tags": []
     },
     "output_type": "execute_result"
    }
   ],
   "source": [
    "report_score(actual=y_true, predicted=y_pred,name='GBX on FNC-ARC Dataset-Run(2)')"
   ]
  },
  {
   "cell_type": "markdown",
   "metadata": {
    "colab_type": "text",
    "id": "ndJv1__Heao4"
   },
   "source": [
    "Following Parameters were used-Run(3)\n",
    "\n",
    "\n",
    "1.   BATCH_SIZE = 32\n",
    "2.   EPOCHS=30(With Early CallBack)\n",
    "3.   LEARNING_RATE=1e-5\n",
    "4.   BETA_1=0.9-BETA_2=0.999\n",
    "5.   Scheduler=Linear with Intial Learning Rate of 1e-5\n",
    "6.   Freezing=No Layer was Freezed\n",
    "7.   MAX_LEN=256\n",
    "8.   Trained on TPU(Google Colab)\n",
    "10.  Balanced Wieghts were Used"
   ]
  },
  {
   "cell_type": "code",
   "execution_count": null,
   "metadata": {
    "colab": {
     "base_uri": "https://localhost:8080/",
     "height": 632
    },
    "colab_type": "code",
    "executionInfo": {
     "elapsed": 2873053,
     "status": "ok",
     "timestamp": 1599166559896,
     "user": {
      "displayName": "Ur Tech Guide",
      "photoUrl": "https://lh3.googleusercontent.com/a-/AOh14GhBjMoWnc1KwT73B6hzAbvnSIxnZAl5PY9n_RGJ0w=s64",
      "userId": "03152431167485721857"
     },
     "user_tz": -300
    },
    "id": "0iHIGPuDex-M",
    "outputId": "e355cee6-743a-4c2f-a4e4-1133fd9c0d35"
   },
   "outputs": [
    {
     "name": "stdout",
     "output_type": "stream",
     "text": [
      "Epoch 1/30\n",
      "WARNING:tensorflow:From /usr/local/lib/python3.6/dist-packages/tensorflow/python/data/ops/multi_device_iterator_ops.py:601: get_next_as_optional (from tensorflow.python.data.ops.iterator_ops) is deprecated and will be removed in a future version.\n",
      "Instructions for updating:\n",
      "Use `tf.data.Iterator.get_next_as_optional()` instead.\n"
     ]
    },
    {
     "name": "stderr",
     "output_type": "stream",
     "text": [
      "WARNING:tensorflow:From /usr/local/lib/python3.6/dist-packages/tensorflow/python/data/ops/multi_device_iterator_ops.py:601: get_next_as_optional (from tensorflow.python.data.ops.iterator_ops) is deprecated and will be removed in a future version.\n",
      "Instructions for updating:\n",
      "Use `tf.data.Iterator.get_next_as_optional()` instead.\n"
     ]
    },
    {
     "name": "stdout",
     "output_type": "stream",
     "text": [
      "WARNING:tensorflow:Gradients do not exist for variables ['tfxlm_roberta_model/roberta/pooler/dense/kernel:0', 'tfxlm_roberta_model/roberta/pooler/dense/bias:0'] when minimizing the loss.\n"
     ]
    },
    {
     "name": "stderr",
     "output_type": "stream",
     "text": [
      "WARNING:tensorflow:Gradients do not exist for variables ['tfxlm_roberta_model/roberta/pooler/dense/kernel:0', 'tfxlm_roberta_model/roberta/pooler/dense/bias:0'] when minimizing the loss.\n"
     ]
    },
    {
     "name": "stdout",
     "output_type": "stream",
     "text": [
      "WARNING:tensorflow:Gradients do not exist for variables ['tfxlm_roberta_model/roberta/pooler/dense/kernel:0', 'tfxlm_roberta_model/roberta/pooler/dense/bias:0'] when minimizing the loss.\n"
     ]
    },
    {
     "name": "stderr",
     "output_type": "stream",
     "text": [
      "WARNING:tensorflow:Gradients do not exist for variables ['tfxlm_roberta_model/roberta/pooler/dense/kernel:0', 'tfxlm_roberta_model/roberta/pooler/dense/bias:0'] when minimizing the loss.\n"
     ]
    },
    {
     "name": "stdout",
     "output_type": "stream",
     "text": [
      "WARNING:tensorflow:Gradients do not exist for variables ['tfxlm_roberta_model/roberta/pooler/dense/kernel:0', 'tfxlm_roberta_model/roberta/pooler/dense/bias:0'] when minimizing the loss.\n"
     ]
    },
    {
     "name": "stderr",
     "output_type": "stream",
     "text": [
      "WARNING:tensorflow:Gradients do not exist for variables ['tfxlm_roberta_model/roberta/pooler/dense/kernel:0', 'tfxlm_roberta_model/roberta/pooler/dense/bias:0'] when minimizing the loss.\n"
     ]
    },
    {
     "name": "stdout",
     "output_type": "stream",
     "text": [
      "WARNING:tensorflow:Gradients do not exist for variables ['tfxlm_roberta_model/roberta/pooler/dense/kernel:0', 'tfxlm_roberta_model/roberta/pooler/dense/bias:0'] when minimizing the loss.\n"
     ]
    },
    {
     "name": "stderr",
     "output_type": "stream",
     "text": [
      "WARNING:tensorflow:Gradients do not exist for variables ['tfxlm_roberta_model/roberta/pooler/dense/kernel:0', 'tfxlm_roberta_model/roberta/pooler/dense/bias:0'] when minimizing the loss.\n"
     ]
    },
    {
     "name": "stdout",
     "output_type": "stream",
     "text": [
      "   2/1606 [..............................] - ETA: 2:39 - loss: 5.7257 - accuracy: 0.0000e+00WARNING:tensorflow:Callbacks method `on_train_batch_end` is slow compared to the batch time (batch time: 0.0178s vs `on_train_batch_end` time: 0.1777s). Check your callbacks.\n"
     ]
    },
    {
     "name": "stderr",
     "output_type": "stream",
     "text": [
      "WARNING:tensorflow:Callbacks method `on_train_batch_end` is slow compared to the batch time (batch time: 0.0178s vs `on_train_batch_end` time: 0.1777s). Check your callbacks.\n"
     ]
    },
    {
     "name": "stdout",
     "output_type": "stream",
     "text": [
      "1606/1606 [==============================] - ETA: 0s - loss: 1.5472 - accuracy: 0.5226WARNING:tensorflow:Callbacks method `on_test_batch_end` is slow compared to the batch time (batch time: 0.0053s vs `on_test_batch_end` time: 0.0464s). Check your callbacks.\n"
     ]
    },
    {
     "name": "stderr",
     "output_type": "stream",
     "text": [
      "WARNING:tensorflow:Callbacks method `on_test_batch_end` is slow compared to the batch time (batch time: 0.0053s vs `on_test_batch_end` time: 0.0464s). Check your callbacks.\n"
     ]
    },
    {
     "name": "stdout",
     "output_type": "stream",
     "text": [
      "\b\b\b\b\b\b\b\b\b\b\b\b\b\b\b\b\b\b\b\b\b\b\b\b\b\b\b\b\b\b\b\b\b\b\b\b\b\b\b\b\b\b\b\b\b\b\b\b\b\b\b\b\b\b\b\b\b\b\b\b\b\b\b\b\b\b\b\b\b\b\b\b\b\b\b\b\b\b\b\b\b\b\b\b\b\b\r",
      "1606/1606 [==============================] - 360s 224ms/step - loss: 1.5472 - accuracy: 0.5226 - val_loss: 0.4034 - val_accuracy: 0.8472\n",
      "Epoch 2/30\n",
      "1606/1606 [==============================] - 336s 209ms/step - loss: 0.6043 - accuracy: 0.8744 - val_loss: 0.3476 - val_accuracy: 0.8636\n",
      "Epoch 3/30\n",
      "1606/1606 [==============================] - 336s 209ms/step - loss: 0.4237 - accuracy: 0.9158 - val_loss: 0.3281 - val_accuracy: 0.8752\n",
      "Epoch 4/30\n",
      "1606/1606 [==============================] - 339s 211ms/step - loss: 0.3012 - accuracy: 0.9391 - val_loss: 0.2590 - val_accuracy: 0.9077\n",
      "Epoch 5/30\n",
      "1606/1606 [==============================] - 338s 210ms/step - loss: 0.2055 - accuracy: 0.9555 - val_loss: 0.2756 - val_accuracy: 0.9129\n",
      "Epoch 6/30\n",
      "1606/1606 [==============================] - 337s 210ms/step - loss: 0.1291 - accuracy: 0.9695 - val_loss: 0.2923 - val_accuracy: 0.9194\n",
      "Epoch 7/30\n",
      "1606/1606 [==============================] - 337s 210ms/step - loss: 0.0971 - accuracy: 0.9765 - val_loss: 0.3218 - val_accuracy: 0.9222\n",
      "Epoch 8/30\n",
      "1606/1606 [==============================] - 336s 209ms/step - loss: 0.0653 - accuracy: 0.9816 - val_loss: 0.3729 - val_accuracy: 0.9200\n"
     ]
    },
    {
     "data": {
      "text/plain": [
       "<tensorflow.python.keras.callbacks.History at 0x7f7d1d857cf8>"
      ]
     },
     "execution_count": 43,
     "metadata": {
      "tags": []
     },
     "output_type": "execute_result"
    }
   ],
   "source": [
    "history = LossHistory()\n",
    "y_integers = np.argmax(y_train, axis=1)\n",
    "class_weights = compute_class_weight('balanced', np.unique(y_integers), y_integers)\n",
    "d_class_weights = dict(enumerate(class_weights))\n",
    "\n",
    "model.fit(\n",
    "      train,steps_per_epoch=steps_per_epoch,\n",
    "      epochs=EPOCHS,callbacks=[history,EARLY_STOP], validation_data=valid,class_weight=d_class_weights\n",
    ")\n",
    "  "
   ]
  },
  {
   "cell_type": "code",
   "execution_count": null,
   "metadata": {
    "colab": {
     "base_uri": "https://localhost:8080/",
     "height": 88
    },
    "colab_type": "code",
    "executionInfo": {
     "elapsed": 69753,
     "status": "ok",
     "timestamp": 1599166688690,
     "user": {
      "displayName": "Ur Tech Guide",
      "photoUrl": "https://lh3.googleusercontent.com/a-/AOh14GhBjMoWnc1KwT73B6hzAbvnSIxnZAl5PY9n_RGJ0w=s64",
      "userId": "03152431167485721857"
     },
     "user_tz": -300
    },
    "id": "qKEKb17whKTF",
    "outputId": "373ebd3c-1b22-465d-ddf1-3790b1cc758f"
   },
   "outputs": [
    {
     "name": "stdout",
     "output_type": "stream",
     "text": [
      "  2/906 [..............................] - ETA: 1:17:13WARNING:tensorflow:Callbacks method `on_predict_batch_end` is slow compared to the batch time (batch time: 0.0052s vs `on_predict_batch_end` time: 0.0444s). Check your callbacks.\n"
     ]
    },
    {
     "name": "stderr",
     "output_type": "stream",
     "text": [
      "WARNING:tensorflow:Callbacks method `on_predict_batch_end` is slow compared to the batch time (batch time: 0.0052s vs `on_predict_batch_end` time: 0.0444s). Check your callbacks.\n"
     ]
    },
    {
     "name": "stdout",
     "output_type": "stream",
     "text": [
      "906/906 [==============================] - 61s 68ms/step\n"
     ]
    }
   ],
   "source": [
    "y_pred=model.predict(test,verbose=1)\n",
    "y_true=np.array(tf.keras.utils.to_categorical(test_df['target'].values))"
   ]
  },
  {
   "cell_type": "code",
   "execution_count": null,
   "metadata": {
    "colab": {},
    "colab_type": "code",
    "id": "iaddbX-_whw8"
   },
   "outputs": [],
   "source": [
    "saved_history=np.array({'train_loss':history.losses})\n",
    "np.save('y_pred_gbx_fnc_arc_run(3).npy',y_pred,allow_pickle=True)\n",
    "np.save('saved_history_gbx_fnc_arc_run(3).npy',saved_history)"
   ]
  },
  {
   "cell_type": "code",
   "execution_count": null,
   "metadata": {
    "colab": {
     "base_uri": "https://localhost:8080/",
     "height": 626
    },
    "colab_type": "code",
    "executionInfo": {
     "elapsed": 2117,
     "status": "ok",
     "timestamp": 1599166690824,
     "user": {
      "displayName": "Ur Tech Guide",
      "photoUrl": "https://lh3.googleusercontent.com/a-/AOh14GhBjMoWnc1KwT73B6hzAbvnSIxnZAl5PY9n_RGJ0w=s64",
      "userId": "03152431167485721857"
     },
     "user_tz": -300
    },
    "id": "Ums-wVYHwmUj",
    "outputId": "2d2f8990-8854-4f11-ca16-8646ae11245b"
   },
   "outputs": [
    {
     "data": {
      "image/png": "[encoded data removed]",
      "text/plain": [
       "<Figure size 864x720 with 1 Axes>"
      ]
     },
     "metadata": {
      "tags": []
     },
     "output_type": "display_data"
    }
   ],
   "source": [
    "plot_loss(history,'GBX on FNC-ARC Dataset-Run(3)')"
   ]
  },
  {
   "cell_type": "code",
   "execution_count": null,
   "metadata": {
    "colab": {
     "base_uri": "https://localhost:8080/",
     "height": 626
    },
    "colab_type": "code",
    "executionInfo": {
     "elapsed": 2021,
     "status": "ok",
     "timestamp": 1599166692959,
     "user": {
      "displayName": "Ur Tech Guide",
      "photoUrl": "https://lh3.googleusercontent.com/a-/AOh14GhBjMoWnc1KwT73B6hzAbvnSIxnZAl5PY9n_RGJ0w=s64",
      "userId": "03152431167485721857"
     },
     "user_tz": -300
    },
    "id": "rerIgBqdwprW",
    "outputId": "8aad4fea-cb18-4573-f958-852e5b400b75"
   },
   "outputs": [
    {
     "data": {
      "image/png": "[encoded data removed]",
      "text/plain": [
       "<Figure size 720x720 with 2 Axes>"
      ]
     },
     "metadata": {
      "tags": []
     },
     "output_type": "display_data"
    }
   ],
   "source": [
    "plot_cm(y_true, y_pred, 'GBX on FNC-ARC Dataset-Run(3)')"
   ]
  },
  {
   "cell_type": "code",
   "execution_count": null,
   "metadata": {
    "colab": {
     "base_uri": "https://localhost:8080/",
     "height": 221
    },
    "colab_type": "code",
    "executionInfo": {
     "elapsed": 1036,
     "status": "ok",
     "timestamp": 1599166694030,
     "user": {
      "displayName": "Ur Tech Guide",
      "photoUrl": "https://lh3.googleusercontent.com/a-/AOh14GhBjMoWnc1KwT73B6hzAbvnSIxnZAl5PY9n_RGJ0w=s64",
      "userId": "03152431167485721857"
     },
     "user_tz": -300
    },
    "id": "1I8zTabgwsl2",
    "outputId": "7549c73e-c70a-4077-c5c2-f9ae040cdaa0"
   },
   "outputs": [
    {
     "name": "stdout",
     "output_type": "stream",
     "text": [
      "The accuracy of the model GBX on FNC-ARC Dataset-Run(3) is Accuracy: 88.765%\n",
      "              precision    recall  f1-score   support\n",
      "\n",
      "    disagree       0.40      0.38      0.39      1069\n",
      "       agree       0.70      0.39      0.50      2237\n",
      "     discuss       0.67      0.89      0.77      4643\n",
      "   unrelated       0.99      0.97      0.98     21023\n",
      "\n",
      "    accuracy                           0.89     28972\n",
      "   macro avg       0.69      0.66      0.66     28972\n",
      "weighted avg       0.89      0.89      0.88     28972\n",
      "\n"
     ]
    }
   ],
   "source": [
    "accuracy(y_true,y_pred,'GBX on FNC-ARC Dataset-Run(3)')"
   ]
  },
  {
   "cell_type": "code",
   "execution_count": null,
   "metadata": {
    "colab": {
     "base_uri": "https://localhost:8080/",
     "height": 34
    },
    "colab_type": "code",
    "executionInfo": {
     "elapsed": 1026,
     "status": "ok",
     "timestamp": 1599166694034,
     "user": {
      "displayName": "Ur Tech Guide",
      "photoUrl": "https://lh3.googleusercontent.com/a-/AOh14GhBjMoWnc1KwT73B6hzAbvnSIxnZAl5PY9n_RGJ0w=s64",
      "userId": "03152431167485721857"
     },
     "user_tz": -300
    },
    "id": "pcvroxrowvho",
    "outputId": "85412eea-4083-46be-be92-460b50eb34a0"
   },
   "outputs": [
    {
     "name": "stdout",
     "output_type": "stream",
     "text": [
      "The F1-M Score of the model GBX on FNC-ARC Dataset-Run(3) is F-1-Score: 65.778%\n"
     ]
    }
   ],
   "source": [
    "f1_score_m(y_true,y_pred,'GBX on FNC-ARC Dataset-Run(3)')"
   ]
  },
  {
   "cell_type": "code",
   "execution_count": null,
   "metadata": {
    "colab": {
     "base_uri": "https://localhost:8080/",
     "height": 68
    },
    "colab_type": "code",
    "executionInfo": {
     "elapsed": 790,
     "status": "ok",
     "timestamp": 1599166711384,
     "user": {
      "displayName": "Ur Tech Guide",
      "photoUrl": "https://lh3.googleusercontent.com/a-/AOh14GhBjMoWnc1KwT73B6hzAbvnSIxnZAl5PY9n_RGJ0w=s64",
      "userId": "03152431167485721857"
     },
     "user_tz": -300
    },
    "id": "kSmu4AcmwyK2",
    "outputId": "8dc6eb59-6180-4434-fa1b-30af6dccc2ff"
   },
   "outputs": [
    {
     "name": "stdout",
     "output_type": "stream",
     "text": [
      "For Model GBX on FNC-ARC Dataset-Run(3)\n",
      "Score: 11044.75 out of 13204.75\t(83.6422499479354%)\n"
     ]
    },
    {
     "data": {
      "text/plain": [
       "83.6422499479354"
      ]
     },
     "execution_count": 49,
     "metadata": {
      "tags": []
     },
     "output_type": "execute_result"
    }
   ],
   "source": [
    "report_score(actual=y_true, predicted=y_pred,name='GBX on FNC-ARC Dataset-Run(3)')"
   ]
  },
  {
   "cell_type": "markdown",
   "metadata": {
    "colab_type": "text",
    "id": "BQJI8lPLyoEI"
   },
   "source": [
    "Following Parameters were used-Run(4)\n",
    "\n",
    "\n",
    "1.   BATCH_SIZE = 32\n",
    "2.   EPOCHS=30(With Early Stop)\n",
    "3.   LEARNING_RATE=4e-5\n",
    "4.   BETA_1=0.9-BETA_2=0.999\n",
    "5.   Scheduler=Linear with Intial Learning Rate of 4e-5\n",
    "6.   Freezing=No Layer was Freezed\n",
    "7.   MAX_LEN=256\n",
    "8.   Trained on TPU(Google Colab)\n",
    "10.  Balanced Weights were Used"
   ]
  },
  {
   "cell_type": "code",
   "execution_count": null,
   "metadata": {
    "colab": {
     "base_uri": "https://localhost:8080/",
     "height": 666
    },
    "colab_type": "code",
    "executionInfo": {
     "elapsed": 4648265,
     "status": "ok",
     "timestamp": 1599172035405,
     "user": {
      "displayName": "Ur Tech Guide",
      "photoUrl": "https://lh3.googleusercontent.com/a-/AOh14GhBjMoWnc1KwT73B6hzAbvnSIxnZAl5PY9n_RGJ0w=s64",
      "userId": "03152431167485721857"
     },
     "user_tz": -300
    },
    "id": "-QupoLdsw4Jm",
    "outputId": "fd51dec0-37c9-451f-afe8-a45f277d24e6"
   },
   "outputs": [
    {
     "name": "stdout",
     "output_type": "stream",
     "text": [
      "Epoch 1/30\n",
      "WARNING:tensorflow:Gradients do not exist for variables ['tfxlm_roberta_model_1/roberta/pooler/dense/kernel:0', 'tfxlm_roberta_model_1/roberta/pooler/dense/bias:0'] when minimizing the loss.\n"
     ]
    },
    {
     "name": "stderr",
     "output_type": "stream",
     "text": [
      "WARNING:tensorflow:Gradients do not exist for variables ['tfxlm_roberta_model_1/roberta/pooler/dense/kernel:0', 'tfxlm_roberta_model_1/roberta/pooler/dense/bias:0'] when minimizing the loss.\n"
     ]
    },
    {
     "name": "stdout",
     "output_type": "stream",
     "text": [
      "WARNING:tensorflow:Gradients do not exist for variables ['tfxlm_roberta_model_1/roberta/pooler/dense/kernel:0', 'tfxlm_roberta_model_1/roberta/pooler/dense/bias:0'] when minimizing the loss.\n"
     ]
    },
    {
     "name": "stderr",
     "output_type": "stream",
     "text": [
      "WARNING:tensorflow:Gradients do not exist for variables ['tfxlm_roberta_model_1/roberta/pooler/dense/kernel:0', 'tfxlm_roberta_model_1/roberta/pooler/dense/bias:0'] when minimizing the loss.\n"
     ]
    },
    {
     "name": "stdout",
     "output_type": "stream",
     "text": [
      "WARNING:tensorflow:Gradients do not exist for variables ['tfxlm_roberta_model_1/roberta/pooler/dense/kernel:0', 'tfxlm_roberta_model_1/roberta/pooler/dense/bias:0'] when minimizing the loss.\n"
     ]
    },
    {
     "name": "stderr",
     "output_type": "stream",
     "text": [
      "WARNING:tensorflow:Gradients do not exist for variables ['tfxlm_roberta_model_1/roberta/pooler/dense/kernel:0', 'tfxlm_roberta_model_1/roberta/pooler/dense/bias:0'] when minimizing the loss.\n"
     ]
    },
    {
     "name": "stdout",
     "output_type": "stream",
     "text": [
      "WARNING:tensorflow:Gradients do not exist for variables ['tfxlm_roberta_model_1/roberta/pooler/dense/kernel:0', 'tfxlm_roberta_model_1/roberta/pooler/dense/bias:0'] when minimizing the loss.\n"
     ]
    },
    {
     "name": "stderr",
     "output_type": "stream",
     "text": [
      "WARNING:tensorflow:Gradients do not exist for variables ['tfxlm_roberta_model_1/roberta/pooler/dense/kernel:0', 'tfxlm_roberta_model_1/roberta/pooler/dense/bias:0'] when minimizing the loss.\n"
     ]
    },
    {
     "name": "stdout",
     "output_type": "stream",
     "text": [
      "   2/1606 [..............................] - ETA: 2:37 - loss: 5.6423 - accuracy: 0.0312  WARNING:tensorflow:Callbacks method `on_train_batch_end` is slow compared to the batch time (batch time: 0.0158s vs `on_train_batch_end` time: 0.1773s). Check your callbacks.\n"
     ]
    },
    {
     "name": "stderr",
     "output_type": "stream",
     "text": [
      "WARNING:tensorflow:Callbacks method `on_train_batch_end` is slow compared to the batch time (batch time: 0.0158s vs `on_train_batch_end` time: 0.1773s). Check your callbacks.\n"
     ]
    },
    {
     "name": "stdout",
     "output_type": "stream",
     "text": [
      "1606/1606 [==============================] - ETA: 0s - loss: 1.1292 - accuracy: 0.7235WARNING:tensorflow:Callbacks method `on_test_batch_end` is slow compared to the batch time (batch time: 0.0054s vs `on_test_batch_end` time: 0.0523s). Check your callbacks.\n"
     ]
    },
    {
     "name": "stderr",
     "output_type": "stream",
     "text": [
      "WARNING:tensorflow:Callbacks method `on_test_batch_end` is slow compared to the batch time (batch time: 0.0054s vs `on_test_batch_end` time: 0.0523s). Check your callbacks.\n"
     ]
    },
    {
     "name": "stdout",
     "output_type": "stream",
     "text": [
      "\b\b\b\b\b\b\b\b\b\b\b\b\b\b\b\b\b\b\b\b\b\b\b\b\b\b\b\b\b\b\b\b\b\b\b\b\b\b\b\b\b\b\b\b\b\b\b\b\b\b\b\b\b\b\b\b\b\b\b\b\b\b\b\b\b\b\b\b\b\b\b\b\b\b\b\b\b\b\b\b\b\b\b\b\b\b\r",
      "1606/1606 [==============================] - 360s 224ms/step - loss: 1.1292 - accuracy: 0.7235 - val_loss: 0.3769 - val_accuracy: 0.8447\n",
      "Epoch 2/30\n",
      "1606/1606 [==============================] - 336s 209ms/step - loss: 0.5706 - accuracy: 0.8878 - val_loss: 0.3198 - val_accuracy: 0.8779\n",
      "Epoch 3/30\n",
      "1606/1606 [==============================] - 336s 209ms/step - loss: 0.4278 - accuracy: 0.9149 - val_loss: 0.2499 - val_accuracy: 0.9049\n",
      "Epoch 4/30\n",
      "1606/1606 [==============================] - 339s 211ms/step - loss: 0.3009 - accuracy: 0.9384 - val_loss: 0.3403 - val_accuracy: 0.8796\n",
      "Epoch 5/30\n",
      "1606/1606 [==============================] - 338s 210ms/step - loss: 0.1892 - accuracy: 0.9572 - val_loss: 0.3221 - val_accuracy: 0.8999\n",
      "Epoch 6/30\n",
      "1606/1606 [==============================] - 337s 210ms/step - loss: 0.1303 - accuracy: 0.9692 - val_loss: 0.3783 - val_accuracy: 0.9017\n",
      "Epoch 7/30\n",
      "1606/1606 [==============================] - 337s 210ms/step - loss: 0.0905 - accuracy: 0.9757 - val_loss: 0.3787 - val_accuracy: 0.9073\n",
      "Epoch 8/30\n",
      "1606/1606 [==============================] - 344s 214ms/step - loss: 0.0731 - accuracy: 0.9812 - val_loss: 0.3932 - val_accuracy: 0.9197\n",
      "Epoch 9/30\n",
      "1606/1606 [==============================] - 345s 215ms/step - loss: 0.0600 - accuracy: 0.9834 - val_loss: 0.4463 - val_accuracy: 0.9187\n",
      "Epoch 10/30\n",
      "1606/1606 [==============================] - 342s 213ms/step - loss: 0.0552 - accuracy: 0.9841 - val_loss: 0.3964 - val_accuracy: 0.9182\n",
      "Epoch 11/30\n",
      "1606/1606 [==============================] - 339s 211ms/step - loss: 0.0429 - accuracy: 0.9882 - val_loss: 0.4636 - val_accuracy: 0.9063\n",
      "Epoch 12/30\n",
      "1606/1606 [==============================] - 344s 214ms/step - loss: 0.0318 - accuracy: 0.9890 - val_loss: 0.4791 - val_accuracy: 0.9184\n"
     ]
    },
    {
     "data": {
      "text/plain": [
       "<tensorflow.python.keras.callbacks.History at 0x7f7d11cff588>"
      ]
     },
     "execution_count": 55,
     "metadata": {
      "tags": []
     },
     "output_type": "execute_result"
    }
   ],
   "source": [
    "history = LossHistory()\n",
    "y_integers = np.argmax(y_train, axis=1)\n",
    "class_weights = compute_class_weight('balanced', np.unique(y_integers), y_integers)\n",
    "d_class_weights = dict(enumerate(class_weights))\n",
    "\n",
    "model.fit(\n",
    "      train,steps_per_epoch=steps_per_epoch,\n",
    "      epochs=EPOCHS,callbacks=[history,EARLY_STOP], validation_data=valid,class_weight=d_class_weights\n",
    ")"
   ]
  },
  {
   "cell_type": "code",
   "execution_count": null,
   "metadata": {
    "colab": {
     "base_uri": "https://localhost:8080/",
     "height": 88
    },
    "colab_type": "code",
    "executionInfo": {
     "elapsed": 73543,
     "status": "ok",
     "timestamp": 1599172322564,
     "user": {
      "displayName": "Ur Tech Guide",
      "photoUrl": "https://lh3.googleusercontent.com/a-/AOh14GhBjMoWnc1KwT73B6hzAbvnSIxnZAl5PY9n_RGJ0w=s64",
      "userId": "03152431167485721857"
     },
     "user_tz": -300
    },
    "id": "DeuuCT_xym7V",
    "outputId": "3997ab50-063a-4c75-8b99-ccb9ae3d620d"
   },
   "outputs": [
    {
     "name": "stdout",
     "output_type": "stream",
     "text": [
      "  2/906 [..............................] - ETA: 1:19:50WARNING:tensorflow:Callbacks method `on_predict_batch_end` is slow compared to the batch time (batch time: 0.0066s vs `on_predict_batch_end` time: 0.0443s). Check your callbacks.\n"
     ]
    },
    {
     "name": "stderr",
     "output_type": "stream",
     "text": [
      "WARNING:tensorflow:Callbacks method `on_predict_batch_end` is slow compared to the batch time (batch time: 0.0066s vs `on_predict_batch_end` time: 0.0443s). Check your callbacks.\n"
     ]
    },
    {
     "name": "stdout",
     "output_type": "stream",
     "text": [
      "906/906 [==============================] - 63s 69ms/step\n"
     ]
    }
   ],
   "source": [
    "y_pred=model.predict(test,verbose=1)\n",
    "y_true=np.array(tf.keras.utils.to_categorical(test_df['target'].values))"
   ]
  },
  {
   "cell_type": "code",
   "execution_count": null,
   "metadata": {
    "colab": {},
    "colab_type": "code",
    "id": "gBjbpJehGASC"
   },
   "outputs": [],
   "source": [
    "saved_history=np.array({'train_loss':history.losses})\n",
    "np.save('y_pred_gbx_fnc_arc_run(4).npy',y_pred,allow_pickle=True)\n",
    "np.save('saved_history_gbx_fnc_arc_run(4).npy',saved_history)"
   ]
  },
  {
   "cell_type": "code",
   "execution_count": null,
   "metadata": {
    "colab": {
     "base_uri": "https://localhost:8080/",
     "height": 626
    },
    "colab_type": "code",
    "executionInfo": {
     "elapsed": 3203,
     "status": "ok",
     "timestamp": 1599172325844,
     "user": {
      "displayName": "Ur Tech Guide",
      "photoUrl": "https://lh3.googleusercontent.com/a-/AOh14GhBjMoWnc1KwT73B6hzAbvnSIxnZAl5PY9n_RGJ0w=s64",
      "userId": "03152431167485721857"
     },
     "user_tz": -300
    },
    "id": "mGdyUMxnGE5U",
    "outputId": "5d02ae15-8148-4edc-a12c-1352af20e939"
   },
   "outputs": [
    {
     "data": {
      "image/png": "[encoded data removed]",
      "text/plain": [
       "<Figure size 864x720 with 1 Axes>"
      ]
     },
     "metadata": {
      "tags": []
     },
     "output_type": "display_data"
    }
   ],
   "source": [
    "plot_loss(history,'GBX on FNC-ARC Dataset-Run(4)')"
   ]
  },
  {
   "cell_type": "code",
   "execution_count": null,
   "metadata": {
    "colab": {
     "base_uri": "https://localhost:8080/",
     "height": 626
    },
    "colab_type": "code",
    "executionInfo": {
     "elapsed": 1608,
     "status": "ok",
     "timestamp": 1599172328641,
     "user": {
      "displayName": "Ur Tech Guide",
      "photoUrl": "https://lh3.googleusercontent.com/a-/AOh14GhBjMoWnc1KwT73B6hzAbvnSIxnZAl5PY9n_RGJ0w=s64",
      "userId": "03152431167485721857"
     },
     "user_tz": -300
    },
    "id": "COkpgc9iGHwU",
    "outputId": "6b7c006b-840d-461f-cb91-b7048f537874"
   },
   "outputs": [
    {
     "data": {
      "image/png": "[encoded data removed]",
      "text/plain": [
       "<Figure size 720x720 with 2 Axes>"
      ]
     },
     "metadata": {
      "tags": []
     },
     "output_type": "display_data"
    }
   ],
   "source": [
    "plot_cm(y_true, y_pred, 'GBX on FNC-ARC Dataset-Run(4)')"
   ]
  },
  {
   "cell_type": "code",
   "execution_count": null,
   "metadata": {
    "colab": {
     "base_uri": "https://localhost:8080/",
     "height": 221
    },
    "colab_type": "code",
    "executionInfo": {
     "elapsed": 1080,
     "status": "ok",
     "timestamp": 1599172330097,
     "user": {
      "displayName": "Ur Tech Guide",
      "photoUrl": "https://lh3.googleusercontent.com/a-/AOh14GhBjMoWnc1KwT73B6hzAbvnSIxnZAl5PY9n_RGJ0w=s64",
      "userId": "03152431167485721857"
     },
     "user_tz": -300
    },
    "id": "wudw3auJGKeK",
    "outputId": "088652d0-7085-4089-84bb-4e93635fbfe6"
   },
   "outputs": [
    {
     "name": "stdout",
     "output_type": "stream",
     "text": [
      "The accuracy of the model GBX on FNC-ARC Dataset-Run(4) is Accuracy: 87.771%\n",
      "              precision    recall  f1-score   support\n",
      "\n",
      "    disagree       0.47      0.35      0.40      1069\n",
      "       agree       0.58      0.43      0.49      2237\n",
      "     discuss       0.65      0.84      0.74      4643\n",
      "   unrelated       0.98      0.96      0.97     21023\n",
      "\n",
      "    accuracy                           0.88     28972\n",
      "   macro avg       0.67      0.64      0.65     28972\n",
      "weighted avg       0.88      0.88      0.88     28972\n",
      "\n"
     ]
    }
   ],
   "source": [
    "accuracy(y_true,y_pred,'GBX on FNC-ARC Dataset-Run(4)')"
   ]
  },
  {
   "cell_type": "code",
   "execution_count": null,
   "metadata": {
    "colab": {
     "base_uri": "https://localhost:8080/",
     "height": 34
    },
    "colab_type": "code",
    "executionInfo": {
     "elapsed": 804,
     "status": "ok",
     "timestamp": 1599172502322,
     "user": {
      "displayName": "Ur Tech Guide",
      "photoUrl": "https://lh3.googleusercontent.com/a-/AOh14GhBjMoWnc1KwT73B6hzAbvnSIxnZAl5PY9n_RGJ0w=s64",
      "userId": "03152431167485721857"
     },
     "user_tz": -300
    },
    "id": "KCu73PBxG9n2",
    "outputId": "bb6c1550-f7d6-4291-f858-3c49933dda5d"
   },
   "outputs": [
    {
     "name": "stdout",
     "output_type": "stream",
     "text": [
      "The F1-M Score of the model GBX on FNC-ARC Dataset-Run(3) is F-1-Score: 65.002%\n"
     ]
    }
   ],
   "source": [
    "f1_score_m(y_true,y_pred,'GBX on FNC-ARC Dataset-Run(3)')"
   ]
  },
  {
   "cell_type": "code",
   "execution_count": null,
   "metadata": {
    "colab": {
     "base_uri": "https://localhost:8080/",
     "height": 68
    },
    "colab_type": "code",
    "executionInfo": {
     "elapsed": 1351,
     "status": "ok",
     "timestamp": 1599172331478,
     "user": {
      "displayName": "Ur Tech Guide",
      "photoUrl": "https://lh3.googleusercontent.com/a-/AOh14GhBjMoWnc1KwT73B6hzAbvnSIxnZAl5PY9n_RGJ0w=s64",
      "userId": "03152431167485721857"
     },
     "user_tz": -300
    },
    "id": "XSZnmx4KGM62",
    "outputId": "cb04ca82-16f3-490f-ecc7-fae0b4902c57"
   },
   "outputs": [
    {
     "name": "stdout",
     "output_type": "stream",
     "text": [
      "For Model GBX on FNC-ARC Dataset-Run(4)\n",
      "Score: 10858.25 out of 13204.75\t(82.22987939945853%)\n"
     ]
    },
    {
     "data": {
      "text/plain": [
       "82.22987939945853"
      ]
     },
     "execution_count": 61,
     "metadata": {
      "tags": []
     },
     "output_type": "execute_result"
    }
   ],
   "source": [
    "report_score(actual=y_true, predicted=y_pred,name='GBX on FNC-ARC Dataset-Run(4)')"
   ]
  },
  {
   "cell_type": "code",
   "execution_count": null,
   "metadata": {
    "colab": {},
    "colab_type": "code",
    "id": "UgTRlZmNGPZT"
   },
   "outputs": [],
   "source": []
  }
 ],
 "metadata": {
  "accelerator": "TPU",
  "colab": {
   "authorship_tag": "ABX9TyPcEM4M739A8udLjOynXcHU",
   "collapsed_sections": [],
   "mount_file_id": "1BnVpycwXBJXN4RT4zGtQGzkJJh4dvOVT",
   "name": "FNC-ARC Data GBX model.ipynb",
   "provenance": [],
   "toc_visible": true
  },
  "kernelspec": {
   "display_name": "Python 3",
   "language": "python",
   "name": "python3"
  },
  "language_info": {
   "codemirror_mode": {
    "name": "ipython",
    "version": 3
   },
   "file_extension": ".py",
   "mimetype": "text/x-python",
   "name": "python",
   "nbconvert_exporter": "python",
   "pygments_lexer": "ipython3",
   "version": "3.8.10"
  },
  "widgets": {
   "application/vnd.jupyter.widget-state+json": {
    "0114325644224d6c802a34c9480e8e82": {
     "model_module": "@jupyter-widgets/base",
     "model_name": "LayoutModel",
     "state": {
      "_model_module": "@jupyter-widgets/base",
      "_model_module_version": "1.2.0",
      "_model_name": "LayoutModel",
      "_view_count": null,
      "_view_module": "@jupyter-widgets/base",
      "_view_module_version": "1.2.0",
      "_view_name": "LayoutView",
      "align_content": null,
      "align_items": null,
      "align_self": null,
      "border": null,
      "bottom": null,
      "display": null,
      "flex": null,
      "flex_flow": null,
      "grid_area": null,
      "grid_auto_columns": null,
      "grid_auto_flow": null,
      "grid_auto_rows": null,
      "grid_column": null,
      "grid_gap": null,
      "grid_row": null,
      "grid_template_areas": null,
      "grid_template_columns": null,
      "grid_template_rows": null,
      "height": null,
      "justify_content": null,
      "justify_items": null,
      "left": null,
      "margin": null,
      "max_height": null,
      "max_width": null,
      "min_height": null,
      "min_width": null,
      "object_fit": null,
      "object_position": null,
      "order": null,
      "overflow": null,
      "overflow_x": null,
      "overflow_y": null,
      "padding": null,
      "right": null,
      "top": null,
      "visibility": null,
      "width": null
     }
    },
    "023fa9fc643c49129087cae54afb1276": {
     "model_module": "@jupyter-widgets/controls",
     "model_name": "ProgressStyleModel",
     "state": {
      "_model_module": "@jupyter-widgets/controls",
      "_model_module_version": "1.5.0",
      "_model_name": "ProgressStyleModel",
      "_view_count": null,
      "_view_module": "@jupyter-widgets/base",
      "_view_module_version": "1.2.0",
      "_view_name": "StyleView",
      "bar_color": null,
      "description_width": "initial"
     }
    },
    "08196650c6704520b6f6a93c65114927": {
     "model_module": "@jupyter-widgets/controls",
     "model_name": "HTMLModel",
     "state": {
      "_dom_classes": [],
      "_model_module": "@jupyter-widgets/controls",
      "_model_module_version": "1.5.0",
      "_model_name": "HTMLModel",
      "_view_count": null,
      "_view_module": "@jupyter-widgets/controls",
      "_view_module_version": "1.5.0",
      "_view_name": "HTMLView",
      "description": "",
      "description_tooltip": null,
      "layout": "IPY_MODEL_76b7de2c272a418baf858c56c344ad5e",
      "placeholder": "​",
      "style": "IPY_MODEL_e483f026d4cf4496a45b6ca7c346d4e6",
      "value": " 1.04M/1.04M [00:00&lt;00:00, 1.18MB/s]"
     }
    },
    "1b666673c70c4c8a99ef1c089c26796d": {
     "model_module": "@jupyter-widgets/base",
     "model_name": "LayoutModel",
     "state": {
      "_model_module": "@jupyter-widgets/base",
      "_model_module_version": "1.2.0",
      "_model_name": "LayoutModel",
      "_view_count": null,
      "_view_module": "@jupyter-widgets/base",
      "_view_module_version": "1.2.0",
      "_view_name": "LayoutView",
      "align_content": null,
      "align_items": null,
      "align_self": null,
      "border": null,
      "bottom": null,
      "display": null,
      "flex": null,
      "flex_flow": null,
      "grid_area": null,
      "grid_auto_columns": null,
      "grid_auto_flow": null,
      "grid_auto_rows": null,
      "grid_column": null,
      "grid_gap": null,
      "grid_row": null,
      "grid_template_areas": null,
      "grid_template_columns": null,
      "grid_template_rows": null,
      "height": null,
      "justify_content": null,
      "justify_items": null,
      "left": null,
      "margin": null,
      "max_height": null,
      "max_width": null,
      "min_height": null,
      "min_width": null,
      "object_fit": null,
      "object_position": null,
      "order": null,
      "overflow": null,
      "overflow_x": null,
      "overflow_y": null,
      "padding": null,
      "right": null,
      "top": null,
      "visibility": null,
      "width": null
     }
    },
    "1b95232a475f45ba9dffda2723e66d52": {
     "model_module": "@jupyter-widgets/controls",
     "model_name": "HBoxModel",
     "state": {
      "_dom_classes": [],
      "_model_module": "@jupyter-widgets/controls",
      "_model_module_version": "1.5.0",
      "_model_name": "HBoxModel",
      "_view_count": null,
      "_view_module": "@jupyter-widgets/controls",
      "_view_module_version": "1.5.0",
      "_view_name": "HBoxView",
      "box_style": "",
      "children": [
       "IPY_MODEL_e31b27d7902349aeadf00de935c93ba0",
       "IPY_MODEL_ae27c575367d4a7aade2e2a4863349d8"
      ],
      "layout": "IPY_MODEL_97bc98f65fd34b7d82d1cffc6d248501"
     }
    },
    "2c1899a002bf4ba7a4d86434ff7f69d7": {
     "model_module": "@jupyter-widgets/base",
     "model_name": "LayoutModel",
     "state": {
      "_model_module": "@jupyter-widgets/base",
      "_model_module_version": "1.2.0",
      "_model_name": "LayoutModel",
      "_view_count": null,
      "_view_module": "@jupyter-widgets/base",
      "_view_module_version": "1.2.0",
      "_view_name": "LayoutView",
      "align_content": null,
      "align_items": null,
      "align_self": null,
      "border": null,
      "bottom": null,
      "display": null,
      "flex": null,
      "flex_flow": null,
      "grid_area": null,
      "grid_auto_columns": null,
      "grid_auto_flow": null,
      "grid_auto_rows": null,
      "grid_column": null,
      "grid_gap": null,
      "grid_row": null,
      "grid_template_areas": null,
      "grid_template_columns": null,
      "grid_template_rows": null,
      "height": null,
      "justify_content": null,
      "justify_items": null,
      "left": null,
      "margin": null,
      "max_height": null,
      "max_width": null,
      "min_height": null,
      "min_width": null,
      "object_fit": null,
      "object_position": null,
      "order": null,
      "overflow": null,
      "overflow_x": null,
      "overflow_y": null,
      "padding": null,
      "right": null,
      "top": null,
      "visibility": null,
      "width": null
     }
    },
    "325bf39b6db44665b0b9054cc2e66dc1": {
     "model_module": "@jupyter-widgets/base",
     "model_name": "LayoutModel",
     "state": {
      "_model_module": "@jupyter-widgets/base",
      "_model_module_version": "1.2.0",
      "_model_name": "LayoutModel",
      "_view_count": null,
      "_view_module": "@jupyter-widgets/base",
      "_view_module_version": "1.2.0",
      "_view_name": "LayoutView",
      "align_content": null,
      "align_items": null,
      "align_self": null,
      "border": null,
      "bottom": null,
      "display": null,
      "flex": null,
      "flex_flow": null,
      "grid_area": null,
      "grid_auto_columns": null,
      "grid_auto_flow": null,
      "grid_auto_rows": null,
      "grid_column": null,
      "grid_gap": null,
      "grid_row": null,
      "grid_template_areas": null,
      "grid_template_columns": null,
      "grid_template_rows": null,
      "height": null,
      "justify_content": null,
      "justify_items": null,
      "left": null,
      "margin": null,
      "max_height": null,
      "max_width": null,
      "min_height": null,
      "min_width": null,
      "object_fit": null,
      "object_position": null,
      "order": null,
      "overflow": null,
      "overflow_x": null,
      "overflow_y": null,
      "padding": null,
      "right": null,
      "top": null,
      "visibility": null,
      "width": null
     }
    },
    "387fcef3ec4346a1ac8121f03ec9a543": {
     "model_module": "@jupyter-widgets/base",
     "model_name": "LayoutModel",
     "state": {
      "_model_module": "@jupyter-widgets/base",
      "_model_module_version": "1.2.0",
      "_model_name": "LayoutModel",
      "_view_count": null,
      "_view_module": "@jupyter-widgets/base",
      "_view_module_version": "1.2.0",
      "_view_name": "LayoutView",
      "align_content": null,
      "align_items": null,
      "align_self": null,
      "border": null,
      "bottom": null,
      "display": null,
      "flex": null,
      "flex_flow": null,
      "grid_area": null,
      "grid_auto_columns": null,
      "grid_auto_flow": null,
      "grid_auto_rows": null,
      "grid_column": null,
      "grid_gap": null,
      "grid_row": null,
      "grid_template_areas": null,
      "grid_template_columns": null,
      "grid_template_rows": null,
      "height": null,
      "justify_content": null,
      "justify_items": null,
      "left": null,
      "margin": null,
      "max_height": null,
      "max_width": null,
      "min_height": null,
      "min_width": null,
      "object_fit": null,
      "object_position": null,
      "order": null,
      "overflow": null,
      "overflow_x": null,
      "overflow_y": null,
      "padding": null,
      "right": null,
      "top": null,
      "visibility": null,
      "width": null
     }
    },
    "3ce6350b03bb4a8698ba82705280985a": {
     "model_module": "@jupyter-widgets/controls",
     "model_name": "HBoxModel",
     "state": {
      "_dom_classes": [],
      "_model_module": "@jupyter-widgets/controls",
      "_model_module_version": "1.5.0",
      "_model_name": "HBoxModel",
      "_view_count": null,
      "_view_module": "@jupyter-widgets/controls",
      "_view_module_version": "1.5.0",
      "_view_name": "HBoxView",
      "box_style": "",
      "children": [
       "IPY_MODEL_f48d212b89894fec8b3b228d10b3a19b",
       "IPY_MODEL_415ce4f903524d1bab01c3a6c1cddd7e"
      ],
      "layout": "IPY_MODEL_ca971c0a00344155a31769710c449aa5"
     }
    },
    "415ce4f903524d1bab01c3a6c1cddd7e": {
     "model_module": "@jupyter-widgets/controls",
     "model_name": "HTMLModel",
     "state": {
      "_dom_classes": [],
      "_model_module": "@jupyter-widgets/controls",
      "_model_module_version": "1.5.0",
      "_model_name": "HTMLModel",
      "_view_count": null,
      "_view_module": "@jupyter-widgets/controls",
      "_view_module_version": "1.5.0",
      "_view_name": "HTMLView",
      "description": "",
      "description_tooltip": null,
      "layout": "IPY_MODEL_655e16a9ae49447ca1268ea16385a4f6",
      "placeholder": "​",
      "style": "IPY_MODEL_b2adee3b0d67407da5e40f22843dd6ab",
      "value": " 456k/456k [00:00&lt;00:00, 1.27MB/s]"
     }
    },
    "43ccb7950ae849d499952ed7f8ffec29": {
     "model_module": "@jupyter-widgets/controls",
     "model_name": "HTMLModel",
     "state": {
      "_dom_classes": [],
      "_model_module": "@jupyter-widgets/controls",
      "_model_module_version": "1.5.0",
      "_model_name": "HTMLModel",
      "_view_count": null,
      "_view_module": "@jupyter-widgets/controls",
      "_view_module_version": "1.5.0",
      "_view_name": "HTMLView",
      "description": "",
      "description_tooltip": null,
      "layout": "IPY_MODEL_ac0e02154cf64159bb79d90aa256ab0b",
      "placeholder": "​",
      "style": "IPY_MODEL_59bf21958b9446c481754c68b3924eab",
      "value": " 899k/899k [00:00&lt;00:00, 1.23MB/s]"
     }
    },
    "4ef7d5f2c7cb453caca73989ecfbf6f4": {
     "model_module": "@jupyter-widgets/controls",
     "model_name": "HBoxModel",
     "state": {
      "_dom_classes": [],
      "_model_module": "@jupyter-widgets/controls",
      "_model_module_version": "1.5.0",
      "_model_name": "HBoxModel",
      "_view_count": null,
      "_view_module": "@jupyter-widgets/controls",
      "_view_module_version": "1.5.0",
      "_view_name": "HBoxView",
      "box_style": "",
      "children": [
       "IPY_MODEL_a836f108cc0a4418a4f37217597d3d11",
       "IPY_MODEL_d6381c8b7ce24fcdb2fbc4cc60e88341"
      ],
      "layout": "IPY_MODEL_6c765e3dd13e4c0faad94c7cc4d16bd1"
     }
    },
    "59bf21958b9446c481754c68b3924eab": {
     "model_module": "@jupyter-widgets/controls",
     "model_name": "DescriptionStyleModel",
     "state": {
      "_model_module": "@jupyter-widgets/controls",
      "_model_module_version": "1.5.0",
      "_model_name": "DescriptionStyleModel",
      "_view_count": null,
      "_view_module": "@jupyter-widgets/base",
      "_view_module_version": "1.2.0",
      "_view_name": "StyleView",
      "description_width": ""
     }
    },
    "5af89ee878bb42c98e7b4f1ea1470bf6": {
     "model_module": "@jupyter-widgets/base",
     "model_name": "LayoutModel",
     "state": {
      "_model_module": "@jupyter-widgets/base",
      "_model_module_version": "1.2.0",
      "_model_name": "LayoutModel",
      "_view_count": null,
      "_view_module": "@jupyter-widgets/base",
      "_view_module_version": "1.2.0",
      "_view_name": "LayoutView",
      "align_content": null,
      "align_items": null,
      "align_self": null,
      "border": null,
      "bottom": null,
      "display": null,
      "flex": null,
      "flex_flow": null,
      "grid_area": null,
      "grid_auto_columns": null,
      "grid_auto_flow": null,
      "grid_auto_rows": null,
      "grid_column": null,
      "grid_gap": null,
      "grid_row": null,
      "grid_template_areas": null,
      "grid_template_columns": null,
      "grid_template_rows": null,
      "height": null,
      "justify_content": null,
      "justify_items": null,
      "left": null,
      "margin": null,
      "max_height": null,
      "max_width": null,
      "min_height": null,
      "min_width": null,
      "object_fit": null,
      "object_position": null,
      "order": null,
      "overflow": null,
      "overflow_x": null,
      "overflow_y": null,
      "padding": null,
      "right": null,
      "top": null,
      "visibility": null,
      "width": null
     }
    },
    "5b2b09898e0e4e679addaf7e982b057b": {
     "model_module": "@jupyter-widgets/base",
     "model_name": "LayoutModel",
     "state": {
      "_model_module": "@jupyter-widgets/base",
      "_model_module_version": "1.2.0",
      "_model_name": "LayoutModel",
      "_view_count": null,
      "_view_module": "@jupyter-widgets/base",
      "_view_module_version": "1.2.0",
      "_view_name": "LayoutView",
      "align_content": null,
      "align_items": null,
      "align_self": null,
      "border": null,
      "bottom": null,
      "display": null,
      "flex": null,
      "flex_flow": null,
      "grid_area": null,
      "grid_auto_columns": null,
      "grid_auto_flow": null,
      "grid_auto_rows": null,
      "grid_column": null,
      "grid_gap": null,
      "grid_row": null,
      "grid_template_areas": null,
      "grid_template_columns": null,
      "grid_template_rows": null,
      "height": null,
      "justify_content": null,
      "justify_items": null,
      "left": null,
      "margin": null,
      "max_height": null,
      "max_width": null,
      "min_height": null,
      "min_width": null,
      "object_fit": null,
      "object_position": null,
      "order": null,
      "overflow": null,
      "overflow_x": null,
      "overflow_y": null,
      "padding": null,
      "right": null,
      "top": null,
      "visibility": null,
      "width": null
     }
    },
    "621cbb0c8dd743e4979d0b2bb208913a": {
     "model_module": "@jupyter-widgets/base",
     "model_name": "LayoutModel",
     "state": {
      "_model_module": "@jupyter-widgets/base",
      "_model_module_version": "1.2.0",
      "_model_name": "LayoutModel",
      "_view_count": null,
      "_view_module": "@jupyter-widgets/base",
      "_view_module_version": "1.2.0",
      "_view_name": "LayoutView",
      "align_content": null,
      "align_items": null,
      "align_self": null,
      "border": null,
      "bottom": null,
      "display": null,
      "flex": null,
      "flex_flow": null,
      "grid_area": null,
      "grid_auto_columns": null,
      "grid_auto_flow": null,
      "grid_auto_rows": null,
      "grid_column": null,
      "grid_gap": null,
      "grid_row": null,
      "grid_template_areas": null,
      "grid_template_columns": null,
      "grid_template_rows": null,
      "height": null,
      "justify_content": null,
      "justify_items": null,
      "left": null,
      "margin": null,
      "max_height": null,
      "max_width": null,
      "min_height": null,
      "min_width": null,
      "object_fit": null,
      "object_position": null,
      "order": null,
      "overflow": null,
      "overflow_x": null,
      "overflow_y": null,
      "padding": null,
      "right": null,
      "top": null,
      "visibility": null,
      "width": null
     }
    },
    "655e16a9ae49447ca1268ea16385a4f6": {
     "model_module": "@jupyter-widgets/base",
     "model_name": "LayoutModel",
     "state": {
      "_model_module": "@jupyter-widgets/base",
      "_model_module_version": "1.2.0",
      "_model_name": "LayoutModel",
      "_view_count": null,
      "_view_module": "@jupyter-widgets/base",
      "_view_module_version": "1.2.0",
      "_view_name": "LayoutView",
      "align_content": null,
      "align_items": null,
      "align_self": null,
      "border": null,
      "bottom": null,
      "display": null,
      "flex": null,
      "flex_flow": null,
      "grid_area": null,
      "grid_auto_columns": null,
      "grid_auto_flow": null,
      "grid_auto_rows": null,
      "grid_column": null,
      "grid_gap": null,
      "grid_row": null,
      "grid_template_areas": null,
      "grid_template_columns": null,
      "grid_template_rows": null,
      "height": null,
      "justify_content": null,
      "justify_items": null,
      "left": null,
      "margin": null,
      "max_height": null,
      "max_width": null,
      "min_height": null,
      "min_width": null,
      "object_fit": null,
      "object_position": null,
      "order": null,
      "overflow": null,
      "overflow_x": null,
      "overflow_y": null,
      "padding": null,
      "right": null,
      "top": null,
      "visibility": null,
      "width": null
     }
    },
    "6c765e3dd13e4c0faad94c7cc4d16bd1": {
     "model_module": "@jupyter-widgets/base",
     "model_name": "LayoutModel",
     "state": {
      "_model_module": "@jupyter-widgets/base",
      "_model_module_version": "1.2.0",
      "_model_name": "LayoutModel",
      "_view_count": null,
      "_view_module": "@jupyter-widgets/base",
      "_view_module_version": "1.2.0",
      "_view_name": "LayoutView",
      "align_content": null,
      "align_items": null,
      "align_self": null,
      "border": null,
      "bottom": null,
      "display": null,
      "flex": null,
      "flex_flow": null,
      "grid_area": null,
      "grid_auto_columns": null,
      "grid_auto_flow": null,
      "grid_auto_rows": null,
      "grid_column": null,
      "grid_gap": null,
      "grid_row": null,
      "grid_template_areas": null,
      "grid_template_columns": null,
      "grid_template_rows": null,
      "height": null,
      "justify_content": null,
      "justify_items": null,
      "left": null,
      "margin": null,
      "max_height": null,
      "max_width": null,
      "min_height": null,
      "min_width": null,
      "object_fit": null,
      "object_position": null,
      "order": null,
      "overflow": null,
      "overflow_x": null,
      "overflow_y": null,
      "padding": null,
      "right": null,
      "top": null,
      "visibility": null,
      "width": null
     }
    },
    "6e05d813487246968a6e52d12b51743e": {
     "model_module": "@jupyter-widgets/controls",
     "model_name": "HTMLModel",
     "state": {
      "_dom_classes": [],
      "_model_module": "@jupyter-widgets/controls",
      "_model_module_version": "1.5.0",
      "_model_name": "HTMLModel",
      "_view_count": null,
      "_view_module": "@jupyter-widgets/controls",
      "_view_module_version": "1.5.0",
      "_view_name": "HTMLView",
      "description": "",
      "description_tooltip": null,
      "layout": "IPY_MODEL_387fcef3ec4346a1ac8121f03ec9a543",
      "placeholder": "​",
      "style": "IPY_MODEL_c43bc322419d4381ab3e0c703b5b19d8",
      "value": " 480/480 [00:00&lt;00:00, 2.07kB/s]"
     }
    },
    "76b7de2c272a418baf858c56c344ad5e": {
     "model_module": "@jupyter-widgets/base",
     "model_name": "LayoutModel",
     "state": {
      "_model_module": "@jupyter-widgets/base",
      "_model_module_version": "1.2.0",
      "_model_name": "LayoutModel",
      "_view_count": null,
      "_view_module": "@jupyter-widgets/base",
      "_view_module_version": "1.2.0",
      "_view_name": "LayoutView",
      "align_content": null,
      "align_items": null,
      "align_self": null,
      "border": null,
      "bottom": null,
      "display": null,
      "flex": null,
      "flex_flow": null,
      "grid_area": null,
      "grid_auto_columns": null,
      "grid_auto_flow": null,
      "grid_auto_rows": null,
      "grid_column": null,
      "grid_gap": null,
      "grid_row": null,
      "grid_template_areas": null,
      "grid_template_columns": null,
      "grid_template_rows": null,
      "height": null,
      "justify_content": null,
      "justify_items": null,
      "left": null,
      "margin": null,
      "max_height": null,
      "max_width": null,
      "min_height": null,
      "min_width": null,
      "object_fit": null,
      "object_position": null,
      "order": null,
      "overflow": null,
      "overflow_x": null,
      "overflow_y": null,
      "padding": null,
      "right": null,
      "top": null,
      "visibility": null,
      "width": null
     }
    },
    "7facf413d25a4d0fac5cfeb77a8697d6": {
     "model_module": "@jupyter-widgets/controls",
     "model_name": "ProgressStyleModel",
     "state": {
      "_model_module": "@jupyter-widgets/controls",
      "_model_module_version": "1.5.0",
      "_model_name": "ProgressStyleModel",
      "_view_count": null,
      "_view_module": "@jupyter-widgets/base",
      "_view_module_version": "1.2.0",
      "_view_name": "StyleView",
      "bar_color": null,
      "description_width": "initial"
     }
    },
    "832602e0e86e41128b574b26152c7677": {
     "model_module": "@jupyter-widgets/base",
     "model_name": "LayoutModel",
     "state": {
      "_model_module": "@jupyter-widgets/base",
      "_model_module_version": "1.2.0",
      "_model_name": "LayoutModel",
      "_view_count": null,
      "_view_module": "@jupyter-widgets/base",
      "_view_module_version": "1.2.0",
      "_view_name": "LayoutView",
      "align_content": null,
      "align_items": null,
      "align_self": null,
      "border": null,
      "bottom": null,
      "display": null,
      "flex": null,
      "flex_flow": null,
      "grid_area": null,
      "grid_auto_columns": null,
      "grid_auto_flow": null,
      "grid_auto_rows": null,
      "grid_column": null,
      "grid_gap": null,
      "grid_row": null,
      "grid_template_areas": null,
      "grid_template_columns": null,
      "grid_template_rows": null,
      "height": null,
      "justify_content": null,
      "justify_items": null,
      "left": null,
      "margin": null,
      "max_height": null,
      "max_width": null,
      "min_height": null,
      "min_width": null,
      "object_fit": null,
      "object_position": null,
      "order": null,
      "overflow": null,
      "overflow_x": null,
      "overflow_y": null,
      "padding": null,
      "right": null,
      "top": null,
      "visibility": null,
      "width": null
     }
    },
    "834977aad2a94eae877beff1464dad72": {
     "model_module": "@jupyter-widgets/controls",
     "model_name": "FloatProgressModel",
     "state": {
      "_dom_classes": [],
      "_model_module": "@jupyter-widgets/controls",
      "_model_module_version": "1.5.0",
      "_model_name": "FloatProgressModel",
      "_view_count": null,
      "_view_module": "@jupyter-widgets/controls",
      "_view_module_version": "1.5.0",
      "_view_name": "ProgressView",
      "bar_style": "success",
      "description": "Downloading: 100%",
      "description_tooltip": null,
      "layout": "IPY_MODEL_0114325644224d6c802a34c9480e8e82",
      "max": 1042301,
      "min": 0,
      "orientation": "horizontal",
      "style": "IPY_MODEL_a56ce2dcd3dc433f83f01252bed0c511",
      "value": 1042301
     }
    },
    "8cf19027ca4f44e099519e46daaef1b3": {
     "model_module": "@jupyter-widgets/base",
     "model_name": "LayoutModel",
     "state": {
      "_model_module": "@jupyter-widgets/base",
      "_model_module_version": "1.2.0",
      "_model_name": "LayoutModel",
      "_view_count": null,
      "_view_module": "@jupyter-widgets/base",
      "_view_module_version": "1.2.0",
      "_view_name": "LayoutView",
      "align_content": null,
      "align_items": null,
      "align_self": null,
      "border": null,
      "bottom": null,
      "display": null,
      "flex": null,
      "flex_flow": null,
      "grid_area": null,
      "grid_auto_columns": null,
      "grid_auto_flow": null,
      "grid_auto_rows": null,
      "grid_column": null,
      "grid_gap": null,
      "grid_row": null,
      "grid_template_areas": null,
      "grid_template_columns": null,
      "grid_template_rows": null,
      "height": null,
      "justify_content": null,
      "justify_items": null,
      "left": null,
      "margin": null,
      "max_height": null,
      "max_width": null,
      "min_height": null,
      "min_width": null,
      "object_fit": null,
      "object_position": null,
      "order": null,
      "overflow": null,
      "overflow_x": null,
      "overflow_y": null,
      "padding": null,
      "right": null,
      "top": null,
      "visibility": null,
      "width": null
     }
    },
    "8f36f4c0b06549d4b848187c0029e611": {
     "model_module": "@jupyter-widgets/controls",
     "model_name": "DescriptionStyleModel",
     "state": {
      "_model_module": "@jupyter-widgets/controls",
      "_model_module_version": "1.5.0",
      "_model_name": "DescriptionStyleModel",
      "_view_count": null,
      "_view_module": "@jupyter-widgets/base",
      "_view_module_version": "1.2.0",
      "_view_name": "StyleView",
      "description_width": ""
     }
    },
    "917357cbb9a94795a146500b8ad98335": {
     "model_module": "@jupyter-widgets/controls",
     "model_name": "HBoxModel",
     "state": {
      "_dom_classes": [],
      "_model_module": "@jupyter-widgets/controls",
      "_model_module_version": "1.5.0",
      "_model_name": "HBoxModel",
      "_view_count": null,
      "_view_module": "@jupyter-widgets/controls",
      "_view_module_version": "1.5.0",
      "_view_name": "HBoxView",
      "box_style": "",
      "children": [
       "IPY_MODEL_9a543b130b734ea4ac05db1037129cd8",
       "IPY_MODEL_6e05d813487246968a6e52d12b51743e"
      ],
      "layout": "IPY_MODEL_8cf19027ca4f44e099519e46daaef1b3"
     }
    },
    "97bc98f65fd34b7d82d1cffc6d248501": {
     "model_module": "@jupyter-widgets/base",
     "model_name": "LayoutModel",
     "state": {
      "_model_module": "@jupyter-widgets/base",
      "_model_module_version": "1.2.0",
      "_model_name": "LayoutModel",
      "_view_count": null,
      "_view_module": "@jupyter-widgets/base",
      "_view_module_version": "1.2.0",
      "_view_name": "LayoutView",
      "align_content": null,
      "align_items": null,
      "align_self": null,
      "border": null,
      "bottom": null,
      "display": null,
      "flex": null,
      "flex_flow": null,
      "grid_area": null,
      "grid_auto_columns": null,
      "grid_auto_flow": null,
      "grid_auto_rows": null,
      "grid_column": null,
      "grid_gap": null,
      "grid_row": null,
      "grid_template_areas": null,
      "grid_template_columns": null,
      "grid_template_rows": null,
      "height": null,
      "justify_content": null,
      "justify_items": null,
      "left": null,
      "margin": null,
      "max_height": null,
      "max_width": null,
      "min_height": null,
      "min_width": null,
      "object_fit": null,
      "object_position": null,
      "order": null,
      "overflow": null,
      "overflow_x": null,
      "overflow_y": null,
      "padding": null,
      "right": null,
      "top": null,
      "visibility": null,
      "width": null
     }
    },
    "999b00d8856b4d00bdce6880fcb830d0": {
     "model_module": "@jupyter-widgets/controls",
     "model_name": "FloatProgressModel",
     "state": {
      "_dom_classes": [],
      "_model_module": "@jupyter-widgets/controls",
      "_model_module_version": "1.5.0",
      "_model_name": "FloatProgressModel",
      "_view_count": null,
      "_view_module": "@jupyter-widgets/controls",
      "_view_module_version": "1.5.0",
      "_view_name": "ProgressView",
      "bar_style": "success",
      "description": "Downloading: 100%",
      "description_tooltip": null,
      "layout": "IPY_MODEL_621cbb0c8dd743e4979d0b2bb208913a",
      "max": 898823,
      "min": 0,
      "orientation": "horizontal",
      "style": "IPY_MODEL_023fa9fc643c49129087cae54afb1276",
      "value": 898823
     }
    },
    "9a543b130b734ea4ac05db1037129cd8": {
     "model_module": "@jupyter-widgets/controls",
     "model_name": "FloatProgressModel",
     "state": {
      "_dom_classes": [],
      "_model_module": "@jupyter-widgets/controls",
      "_model_module_version": "1.5.0",
      "_model_name": "FloatProgressModel",
      "_view_count": null,
      "_view_module": "@jupyter-widgets/controls",
      "_view_module_version": "1.5.0",
      "_view_name": "ProgressView",
      "bar_style": "success",
      "description": "Downloading: 100%",
      "description_tooltip": null,
      "layout": "IPY_MODEL_325bf39b6db44665b0b9054cc2e66dc1",
      "max": 480,
      "min": 0,
      "orientation": "horizontal",
      "style": "IPY_MODEL_e92bd56db68f4edb9b7925c5af1002a6",
      "value": 480
     }
    },
    "9ca6c962f3ef4d8b85000638e079e52b": {
     "model_module": "@jupyter-widgets/controls",
     "model_name": "ProgressStyleModel",
     "state": {
      "_model_module": "@jupyter-widgets/controls",
      "_model_module_version": "1.5.0",
      "_model_name": "ProgressStyleModel",
      "_view_count": null,
      "_view_module": "@jupyter-widgets/base",
      "_view_module_version": "1.2.0",
      "_view_name": "StyleView",
      "bar_color": null,
      "description_width": "initial"
     }
    },
    "a56ce2dcd3dc433f83f01252bed0c511": {
     "model_module": "@jupyter-widgets/controls",
     "model_name": "ProgressStyleModel",
     "state": {
      "_model_module": "@jupyter-widgets/controls",
      "_model_module_version": "1.5.0",
      "_model_name": "ProgressStyleModel",
      "_view_count": null,
      "_view_module": "@jupyter-widgets/base",
      "_view_module_version": "1.2.0",
      "_view_name": "StyleView",
      "bar_color": null,
      "description_width": "initial"
     }
    },
    "a836f108cc0a4418a4f37217597d3d11": {
     "model_module": "@jupyter-widgets/controls",
     "model_name": "FloatProgressModel",
     "state": {
      "_dom_classes": [],
      "_model_module": "@jupyter-widgets/controls",
      "_model_module_version": "1.5.0",
      "_model_name": "FloatProgressModel",
      "_view_count": null,
      "_view_module": "@jupyter-widgets/controls",
      "_view_module_version": "1.5.0",
      "_view_name": "ProgressView",
      "bar_style": "success",
      "description": "Downloading: 100%",
      "description_tooltip": null,
      "layout": "IPY_MODEL_5af89ee878bb42c98e7b4f1ea1470bf6",
      "max": 456318,
      "min": 0,
      "orientation": "horizontal",
      "style": "IPY_MODEL_7facf413d25a4d0fac5cfeb77a8697d6",
      "value": 456318
     }
    },
    "ac0e02154cf64159bb79d90aa256ab0b": {
     "model_module": "@jupyter-widgets/base",
     "model_name": "LayoutModel",
     "state": {
      "_model_module": "@jupyter-widgets/base",
      "_model_module_version": "1.2.0",
      "_model_name": "LayoutModel",
      "_view_count": null,
      "_view_module": "@jupyter-widgets/base",
      "_view_module_version": "1.2.0",
      "_view_name": "LayoutView",
      "align_content": null,
      "align_items": null,
      "align_self": null,
      "border": null,
      "bottom": null,
      "display": null,
      "flex": null,
      "flex_flow": null,
      "grid_area": null,
      "grid_auto_columns": null,
      "grid_auto_flow": null,
      "grid_auto_rows": null,
      "grid_column": null,
      "grid_gap": null,
      "grid_row": null,
      "grid_template_areas": null,
      "grid_template_columns": null,
      "grid_template_rows": null,
      "height": null,
      "justify_content": null,
      "justify_items": null,
      "left": null,
      "margin": null,
      "max_height": null,
      "max_width": null,
      "min_height": null,
      "min_width": null,
      "object_fit": null,
      "object_position": null,
      "order": null,
      "overflow": null,
      "overflow_x": null,
      "overflow_y": null,
      "padding": null,
      "right": null,
      "top": null,
      "visibility": null,
      "width": null
     }
    },
    "ae27c575367d4a7aade2e2a4863349d8": {
     "model_module": "@jupyter-widgets/controls",
     "model_name": "HTMLModel",
     "state": {
      "_dom_classes": [],
      "_model_module": "@jupyter-widgets/controls",
      "_model_module_version": "1.5.0",
      "_model_name": "HTMLModel",
      "_view_count": null,
      "_view_module": "@jupyter-widgets/controls",
      "_view_module_version": "1.5.0",
      "_view_name": "HTMLView",
      "description": "",
      "description_tooltip": null,
      "layout": "IPY_MODEL_1b666673c70c4c8a99ef1c089c26796d",
      "placeholder": "​",
      "style": "IPY_MODEL_8f36f4c0b06549d4b848187c0029e611",
      "value": " 232k/232k [00:00&lt;00:00, 1.07MB/s]"
     }
    },
    "b2adee3b0d67407da5e40f22843dd6ab": {
     "model_module": "@jupyter-widgets/controls",
     "model_name": "DescriptionStyleModel",
     "state": {
      "_model_module": "@jupyter-widgets/controls",
      "_model_module_version": "1.5.0",
      "_model_name": "DescriptionStyleModel",
      "_view_count": null,
      "_view_module": "@jupyter-widgets/base",
      "_view_module_version": "1.2.0",
      "_view_name": "StyleView",
      "description_width": ""
     }
    },
    "b2fc4477c47b45b8a081ccf0a1bdb001": {
     "model_module": "@jupyter-widgets/controls",
     "model_name": "HBoxModel",
     "state": {
      "_dom_classes": [],
      "_model_module": "@jupyter-widgets/controls",
      "_model_module_version": "1.5.0",
      "_model_name": "HBoxModel",
      "_view_count": null,
      "_view_module": "@jupyter-widgets/controls",
      "_view_module_version": "1.5.0",
      "_view_name": "HBoxView",
      "box_style": "",
      "children": [
       "IPY_MODEL_999b00d8856b4d00bdce6880fcb830d0",
       "IPY_MODEL_43ccb7950ae849d499952ed7f8ffec29"
      ],
      "layout": "IPY_MODEL_5b2b09898e0e4e679addaf7e982b057b"
     }
    },
    "c43bc322419d4381ab3e0c703b5b19d8": {
     "model_module": "@jupyter-widgets/controls",
     "model_name": "DescriptionStyleModel",
     "state": {
      "_model_module": "@jupyter-widgets/controls",
      "_model_module_version": "1.5.0",
      "_model_name": "DescriptionStyleModel",
      "_view_count": null,
      "_view_module": "@jupyter-widgets/base",
      "_view_module_version": "1.2.0",
      "_view_name": "StyleView",
      "description_width": ""
     }
    },
    "ca325cc35e2e426d922667c17bd7cfdb": {
     "model_module": "@jupyter-widgets/base",
     "model_name": "LayoutModel",
     "state": {
      "_model_module": "@jupyter-widgets/base",
      "_model_module_version": "1.2.0",
      "_model_name": "LayoutModel",
      "_view_count": null,
      "_view_module": "@jupyter-widgets/base",
      "_view_module_version": "1.2.0",
      "_view_name": "LayoutView",
      "align_content": null,
      "align_items": null,
      "align_self": null,
      "border": null,
      "bottom": null,
      "display": null,
      "flex": null,
      "flex_flow": null,
      "grid_area": null,
      "grid_auto_columns": null,
      "grid_auto_flow": null,
      "grid_auto_rows": null,
      "grid_column": null,
      "grid_gap": null,
      "grid_row": null,
      "grid_template_areas": null,
      "grid_template_columns": null,
      "grid_template_rows": null,
      "height": null,
      "justify_content": null,
      "justify_items": null,
      "left": null,
      "margin": null,
      "max_height": null,
      "max_width": null,
      "min_height": null,
      "min_width": null,
      "object_fit": null,
      "object_position": null,
      "order": null,
      "overflow": null,
      "overflow_x": null,
      "overflow_y": null,
      "padding": null,
      "right": null,
      "top": null,
      "visibility": null,
      "width": null
     }
    },
    "ca971c0a00344155a31769710c449aa5": {
     "model_module": "@jupyter-widgets/base",
     "model_name": "LayoutModel",
     "state": {
      "_model_module": "@jupyter-widgets/base",
      "_model_module_version": "1.2.0",
      "_model_name": "LayoutModel",
      "_view_count": null,
      "_view_module": "@jupyter-widgets/base",
      "_view_module_version": "1.2.0",
      "_view_name": "LayoutView",
      "align_content": null,
      "align_items": null,
      "align_self": null,
      "border": null,
      "bottom": null,
      "display": null,
      "flex": null,
      "flex_flow": null,
      "grid_area": null,
      "grid_auto_columns": null,
      "grid_auto_flow": null,
      "grid_auto_rows": null,
      "grid_column": null,
      "grid_gap": null,
      "grid_row": null,
      "grid_template_areas": null,
      "grid_template_columns": null,
      "grid_template_rows": null,
      "height": null,
      "justify_content": null,
      "justify_items": null,
      "left": null,
      "margin": null,
      "max_height": null,
      "max_width": null,
      "min_height": null,
      "min_width": null,
      "object_fit": null,
      "object_position": null,
      "order": null,
      "overflow": null,
      "overflow_x": null,
      "overflow_y": null,
      "padding": null,
      "right": null,
      "top": null,
      "visibility": null,
      "width": null
     }
    },
    "cdcc3ed44b0b4585827c6ed67c46b5b4": {
     "model_module": "@jupyter-widgets/controls",
     "model_name": "DescriptionStyleModel",
     "state": {
      "_model_module": "@jupyter-widgets/controls",
      "_model_module_version": "1.5.0",
      "_model_name": "DescriptionStyleModel",
      "_view_count": null,
      "_view_module": "@jupyter-widgets/base",
      "_view_module_version": "1.2.0",
      "_view_name": "StyleView",
      "description_width": ""
     }
    },
    "d203458eda6a432083deac52837cc83f": {
     "model_module": "@jupyter-widgets/controls",
     "model_name": "HBoxModel",
     "state": {
      "_dom_classes": [],
      "_model_module": "@jupyter-widgets/controls",
      "_model_module_version": "1.5.0",
      "_model_name": "HBoxModel",
      "_view_count": null,
      "_view_module": "@jupyter-widgets/controls",
      "_view_module_version": "1.5.0",
      "_view_name": "HBoxView",
      "box_style": "",
      "children": [
       "IPY_MODEL_834977aad2a94eae877beff1464dad72",
       "IPY_MODEL_08196650c6704520b6f6a93c65114927"
      ],
      "layout": "IPY_MODEL_832602e0e86e41128b574b26152c7677"
     }
    },
    "d6381c8b7ce24fcdb2fbc4cc60e88341": {
     "model_module": "@jupyter-widgets/controls",
     "model_name": "HTMLModel",
     "state": {
      "_dom_classes": [],
      "_model_module": "@jupyter-widgets/controls",
      "_model_module_version": "1.5.0",
      "_model_name": "HTMLModel",
      "_view_count": null,
      "_view_module": "@jupyter-widgets/controls",
      "_view_module_version": "1.5.0",
      "_view_name": "HTMLView",
      "description": "",
      "description_tooltip": null,
      "layout": "IPY_MODEL_f25472b5a4244c778a22bf581a7c3ae8",
      "placeholder": "​",
      "style": "IPY_MODEL_cdcc3ed44b0b4585827c6ed67c46b5b4",
      "value": " 456k/456k [00:00&lt;00:00, 2.08MB/s]"
     }
    },
    "e31b27d7902349aeadf00de935c93ba0": {
     "model_module": "@jupyter-widgets/controls",
     "model_name": "FloatProgressModel",
     "state": {
      "_dom_classes": [],
      "_model_module": "@jupyter-widgets/controls",
      "_model_module_version": "1.5.0",
      "_model_name": "FloatProgressModel",
      "_view_count": null,
      "_view_module": "@jupyter-widgets/controls",
      "_view_module_version": "1.5.0",
      "_view_name": "ProgressView",
      "bar_style": "success",
      "description": "Downloading: 100%",
      "description_tooltip": null,
      "layout": "IPY_MODEL_2c1899a002bf4ba7a4d86434ff7f69d7",
      "max": 231508,
      "min": 0,
      "orientation": "horizontal",
      "style": "IPY_MODEL_9ca6c962f3ef4d8b85000638e079e52b",
      "value": 231508
     }
    },
    "e483f026d4cf4496a45b6ca7c346d4e6": {
     "model_module": "@jupyter-widgets/controls",
     "model_name": "DescriptionStyleModel",
     "state": {
      "_model_module": "@jupyter-widgets/controls",
      "_model_module_version": "1.5.0",
      "_model_name": "DescriptionStyleModel",
      "_view_count": null,
      "_view_module": "@jupyter-widgets/base",
      "_view_module_version": "1.2.0",
      "_view_name": "StyleView",
      "description_width": ""
     }
    },
    "e92bd56db68f4edb9b7925c5af1002a6": {
     "model_module": "@jupyter-widgets/controls",
     "model_name": "ProgressStyleModel",
     "state": {
      "_model_module": "@jupyter-widgets/controls",
      "_model_module_version": "1.5.0",
      "_model_name": "ProgressStyleModel",
      "_view_count": null,
      "_view_module": "@jupyter-widgets/base",
      "_view_module_version": "1.2.0",
      "_view_name": "StyleView",
      "bar_color": null,
      "description_width": "initial"
     }
    },
    "f25472b5a4244c778a22bf581a7c3ae8": {
     "model_module": "@jupyter-widgets/base",
     "model_name": "LayoutModel",
     "state": {
      "_model_module": "@jupyter-widgets/base",
      "_model_module_version": "1.2.0",
      "_model_name": "LayoutModel",
      "_view_count": null,
      "_view_module": "@jupyter-widgets/base",
      "_view_module_version": "1.2.0",
      "_view_name": "LayoutView",
      "align_content": null,
      "align_items": null,
      "align_self": null,
      "border": null,
      "bottom": null,
      "display": null,
      "flex": null,
      "flex_flow": null,
      "grid_area": null,
      "grid_auto_columns": null,
      "grid_auto_flow": null,
      "grid_auto_rows": null,
      "grid_column": null,
      "grid_gap": null,
      "grid_row": null,
      "grid_template_areas": null,
      "grid_template_columns": null,
      "grid_template_rows": null,
      "height": null,
      "justify_content": null,
      "justify_items": null,
      "left": null,
      "margin": null,
      "max_height": null,
      "max_width": null,
      "min_height": null,
      "min_width": null,
      "object_fit": null,
      "object_position": null,
      "order": null,
      "overflow": null,
      "overflow_x": null,
      "overflow_y": null,
      "padding": null,
      "right": null,
      "top": null,
      "visibility": null,
      "width": null
     }
    },
    "f48d212b89894fec8b3b228d10b3a19b": {
     "model_module": "@jupyter-widgets/controls",
     "model_name": "FloatProgressModel",
     "state": {
      "_dom_classes": [],
      "_model_module": "@jupyter-widgets/controls",
      "_model_module_version": "1.5.0",
      "_model_name": "FloatProgressModel",
      "_view_count": null,
      "_view_module": "@jupyter-widgets/controls",
      "_view_module_version": "1.5.0",
      "_view_name": "ProgressView",
      "bar_style": "success",
      "description": "Downloading: 100%",
      "description_tooltip": null,
      "layout": "IPY_MODEL_ca325cc35e2e426d922667c17bd7cfdb",
      "max": 456318,
      "min": 0,
      "orientation": "horizontal",
      "style": "IPY_MODEL_f89a8b2c715147f9bc6f47509f4bbd27",
      "value": 456318
     }
    },
    "f89a8b2c715147f9bc6f47509f4bbd27": {
     "model_module": "@jupyter-widgets/controls",
     "model_name": "ProgressStyleModel",
     "state": {
      "_model_module": "@jupyter-widgets/controls",
      "_model_module_version": "1.5.0",
      "_model_name": "ProgressStyleModel",
      "_view_count": null,
      "_view_module": "@jupyter-widgets/base",
      "_view_module_version": "1.2.0",
      "_view_name": "StyleView",
      "bar_color": null,
      "description_width": "initial"
     }
    }
   }
  }
 },
 "nbformat": 4,
 "nbformat_minor": 1
}
