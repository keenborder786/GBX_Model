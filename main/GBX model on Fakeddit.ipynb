{
 "cells": [
  {
   "cell_type": "markdown",
   "metadata": {
    "colab_type": "text",
    "id": "wUKBnQSXbF3T"
   },
   "source": [
    "# GBX Model on Fakeddit"
   ]
  },
  {
   "cell_type": "code",
   "execution_count": null,
   "metadata": {
    "colab": {
     "base_uri": "https://localhost:8080/",
     "height": 34
    },
    "colab_type": "code",
    "executionInfo": {
     "elapsed": 2898,
     "status": "ok",
     "timestamp": 1600059731583,
     "user": {
      "displayName": "Ur Tech Guide",
      "photoUrl": "https://lh3.googleusercontent.com/a-/AOh14GhBjMoWnc1KwT73B6hzAbvnSIxnZAl5PY9n_RGJ0w=s64",
      "userId": "03152431167485721857"
     },
     "user_tz": -300
    },
    "id": "tXLwKyeVOe6w",
    "outputId": "a438d856-8eb5-4fac-f874-5b4bd1e473d3"
   },
   "outputs": [
    {
     "name": "stdout",
     "output_type": "stream",
     "text": [
      "Drive already mounted at /content/drive; to attempt to forcibly remount, call drive.mount(\"/content/drive\", force_remount=True).\n"
     ]
    }
   ],
   "source": [
    "from google.colab import drive\n",
    "drive.mount('/content/drive')"
   ]
  },
  {
   "cell_type": "markdown",
   "metadata": {},
   "source": [
    "# Requirements to Run the Notebook"
   ]
  },
  {
   "cell_type": "code",
   "execution_count": null,
   "metadata": {
    "colab": {
     "base_uri": "https://localhost:8080/",
     "height": 641
    },
    "colab_type": "code",
    "executionInfo": {
     "elapsed": 12876,
     "status": "ok",
     "timestamp": 1600059741907,
     "user": {
      "displayName": "Ur Tech Guide",
      "photoUrl": "https://lh3.googleusercontent.com/a-/AOh14GhBjMoWnc1KwT73B6hzAbvnSIxnZAl5PY9n_RGJ0w=s64",
      "userId": "03152431167485721857"
     },
     "user_tz": -300
    },
    "id": "e6kGjjDNPb1c",
    "outputId": "f800ad0b-e54d-4a0f-a4e0-febeef8579ef"
   },
   "outputs": [
    {
     "name": "stdout",
     "output_type": "stream",
     "text": [
      "Collecting transformers\n",
      "\u001b[?25l  Downloading https://files.pythonhosted.org/packages/ae/05/c8c55b600308dc04e95100dc8ad8a244dd800fe75dfafcf1d6348c6f6209/transformers-3.1.0-py3-none-any.whl (884kB)\n",
      "\u001b[K     |████████████████████████████████| 890kB 3.2MB/s \n",
      "\u001b[?25hCollecting sacremoses\n",
      "\u001b[?25l  Downloading https://files.pythonhosted.org/packages/7d/34/09d19aff26edcc8eb2a01bed8e98f13a1537005d31e95233fd48216eed10/sacremoses-0.0.43.tar.gz (883kB)\n",
      "\u001b[K     |████████████████████████████████| 890kB 16.4MB/s \n",
      "\u001b[?25hRequirement already satisfied: requests in /usr/local/lib/python3.6/dist-packages (from transformers) (2.23.0)\n",
      "Collecting tokenizers==0.8.1.rc2\n",
      "\u001b[?25l  Downloading https://files.pythonhosted.org/packages/80/83/8b9fccb9e48eeb575ee19179e2bdde0ee9a1904f97de5f02d19016b8804f/tokenizers-0.8.1rc2-cp36-cp36m-manylinux1_x86_64.whl (3.0MB)\n",
      "\u001b[K     |████████████████████████████████| 3.0MB 20.6MB/s \n",
      "\u001b[?25hCollecting sentencepiece!=0.1.92\n",
      "\u001b[?25l  Downloading https://files.pythonhosted.org/packages/d4/a4/d0a884c4300004a78cca907a6ff9a5e9fe4f090f5d95ab341c53d28cbc58/sentencepiece-0.1.91-cp36-cp36m-manylinux1_x86_64.whl (1.1MB)\n",
      "\u001b[K     |████████████████████████████████| 1.1MB 45.4MB/s \n",
      "\u001b[?25hRequirement already satisfied: filelock in /usr/local/lib/python3.6/dist-packages (from transformers) (3.0.12)\n",
      "Requirement already satisfied: dataclasses; python_version < \"3.7\" in /usr/local/lib/python3.6/dist-packages (from transformers) (0.7)\n",
      "Requirement already satisfied: regex!=2019.12.17 in /usr/local/lib/python3.6/dist-packages (from transformers) (2019.12.20)\n",
      "Requirement already satisfied: tqdm>=4.27 in /usr/local/lib/python3.6/dist-packages (from transformers) (4.41.1)\n",
      "Requirement already satisfied: packaging in /usr/local/lib/python3.6/dist-packages (from transformers) (20.4)\n",
      "Requirement already satisfied: numpy in /usr/local/lib/python3.6/dist-packages (from transformers) (1.18.5)\n",
      "Requirement already satisfied: six in /usr/local/lib/python3.6/dist-packages (from sacremoses->transformers) (1.15.0)\n",
      "Requirement already satisfied: click in /usr/local/lib/python3.6/dist-packages (from sacremoses->transformers) (7.1.2)\n",
      "Requirement already satisfied: joblib in /usr/local/lib/python3.6/dist-packages (from sacremoses->transformers) (0.16.0)\n",
      "Requirement already satisfied: certifi>=2017.4.17 in /usr/local/lib/python3.6/dist-packages (from requests->transformers) (2020.6.20)\n",
      "Requirement already satisfied: chardet<4,>=3.0.2 in /usr/local/lib/python3.6/dist-packages (from requests->transformers) (3.0.4)\n",
      "Requirement already satisfied: idna<3,>=2.5 in /usr/local/lib/python3.6/dist-packages (from requests->transformers) (2.10)\n",
      "Requirement already satisfied: urllib3!=1.25.0,!=1.25.1,<1.26,>=1.21.1 in /usr/local/lib/python3.6/dist-packages (from requests->transformers) (1.24.3)\n",
      "Requirement already satisfied: pyparsing>=2.0.2 in /usr/local/lib/python3.6/dist-packages (from packaging->transformers) (2.4.7)\n",
      "Building wheels for collected packages: sacremoses\n",
      "  Building wheel for sacremoses (setup.py) ... \u001b[?25l\u001b[?25hdone\n",
      "  Created wheel for sacremoses: filename=sacremoses-0.0.43-cp36-none-any.whl size=893257 sha256=68b458d2595d8cc6cf8b2018653df9003623b80403f0127ce2394f27d71ec123\n",
      "  Stored in directory: /root/.cache/pip/wheels/29/3c/fd/7ce5c3f0666dab31a50123635e6fb5e19ceb42ce38d4e58f45\n",
      "Successfully built sacremoses\n",
      "Installing collected packages: sacremoses, tokenizers, sentencepiece, transformers\n",
      "Successfully installed sacremoses-0.0.43 sentencepiece-0.1.91 tokenizers-0.8.1rc2 transformers-3.1.0\n",
      "Requirement already satisfied: nltk in /usr/local/lib/python3.6/dist-packages (3.2.5)\n",
      "Requirement already satisfied: six in /usr/local/lib/python3.6/dist-packages (from nltk) (1.15.0)\n"
     ]
    }
   ],
   "source": [
    "!pip install transformers\n",
    "!pip install nltk\n",
    "!pip install gdown"
   ]
  },
  {
   "cell_type": "code",
   "execution_count": 3,
   "metadata": {
    "colab": {
     "base_uri": "https://localhost:8080/",
     "height": 86
    },
    "colab_type": "code",
    "executionInfo": {
     "elapsed": 19736,
     "status": "ok",
     "timestamp": 1600059748804,
     "user": {
      "displayName": "Ur Tech Guide",
      "photoUrl": "https://lh3.googleusercontent.com/a-/AOh14GhBjMoWnc1KwT73B6hzAbvnSIxnZAl5PY9n_RGJ0w=s64",
      "userId": "03152431167485721857"
     },
     "user_tz": -300
    },
    "id": "KrrOl-YiPcPE",
    "outputId": "0f66d779-10c6-457e-cbaf-db2377aae475"
   },
   "outputs": [
    {
     "name": "stderr",
     "output_type": "stream",
     "text": [
      "[nltk_data] Downloading package punkt to\n",
      "[nltk_data]     C:\\Users\\Mohammad.Khan\\AppData\\Roaming\\nltk_data...\n",
      "[nltk_data]   Package punkt is already up-to-date!\n"
     ]
    }
   ],
   "source": [
    "# the OG \n",
    "import numpy as np \n",
    "import pandas as pd \n",
    "import seaborn as sns\n",
    "import matplotlib.pyplot as plt\n",
    "import matplotlib as mpl\n",
    "from matplotlib import style\n",
    "\n",
    "\n",
    "# Sklearn\n",
    "from sklearn.model_selection import train_test_split\n",
    "from sklearn.metrics import *\n",
    "from sklearn.utils.class_weight import compute_class_weight\n",
    "\n",
    "#NLP Specifics\n",
    "from nltk import word_tokenize\n",
    "import nltk\n",
    "from tokenizers import BertWordPieceTokenizer\n",
    "from transformers import (AdamW,get_linear_schedule_with_warmup,get_cosine_schedule_with_warmup,RobertaTokenizerFast,DistilBertTokenizerFast,PreTrainedTokenizerFast,AutoModel,\n",
    "                          DistilBertTokenizerFast,GPT2TokenizerFast,AutoTokenizer,BertTokenizer,TFBertModel,TFOpenAIGPTModel,OpenAIGPTTokenizer,DistilBertTokenizer, TFDistilBertModel,XLMTokenizer, TFXLMModel,TFBertForSequenceClassification,TFGPT2Model,TFXLMRobertaModel)\n",
    "\n",
    "#tensorflow\n",
    "import tensorflow as tf\n",
    "import tensorflow_hub as hub\n",
    "from tensorflow.keras.preprocessing.text import Tokenizer\n",
    "from tensorflow.keras.preprocessing.sequence import pad_sequences\n",
    "from tensorflow.keras.models import Sequential\n",
    "from tensorflow.keras.layers import *\n",
    "from tensorflow.keras.initializers import Constant\n",
    "\n",
    "#other imports\n",
    "import urllib\n",
    "import os\n",
    "import gc\n",
    "from tqdm import tqdm\n",
    "import re\n",
    "import random\n",
    "from typing import Callable, List, Optional, Union\n",
    "\n",
    "\n",
    "nltk.download('punkt')\n",
    "style.use('ggplot')\n",
    "MAX_LEN=256"
   ]
  },
  {
   "cell_type": "code",
   "execution_count": 6,
   "metadata": {},
   "outputs": [
    {
     "name": "stderr",
     "output_type": "stream",
     "text": [
      "Downloading...\n",
      "From: https://drive.google.com/uc?id=1wwpR1ca3CbaAqjas9PoAC4gWCYTkDhIW\n",
      "To: C:\\Users\\Mohammad.Khan\\Anaconda3\\libs\\GBX_Model\\main\\Fakeddit_data\\all_train.tsv\n",
      "\n",
      "0.00B [00:00, ?B/s]\n",
      "524kB [00:00, 905kB/s]\n",
      "1.05MB [00:00, 1.52MB/s]\n",
      "1.57MB [00:00, 1.88MB/s]\n",
      "2.10MB [00:01, 2.21MB/s]\n",
      "2.62MB [00:01, 2.07MB/s]\n",
      "3.15MB [00:01, 2.11MB/s]\n",
      "3.67MB [00:01, 1.91MB/s]\n",
      "4.19MB [00:03, 865kB/s] \n",
      "4.72MB [00:03, 1.14MB/s]\n",
      "5.24MB [00:03, 1.25MB/s]\n",
      "5.77MB [00:04, 1.07MB/s]\n",
      "6.29MB [00:04, 1.27MB/s]\n",
      "6.82MB [00:04, 1.55MB/s]\n",
      "7.34MB [00:05, 1.69MB/s]\n",
      "7.86MB [00:05, 1.86MB/s]\n",
      "8.39MB [00:05, 2.08MB/s]\n",
      "8.91MB [00:05, 2.19MB/s]\n",
      "9.44MB [00:05, 2.41MB/s]\n",
      "9.96MB [00:06, 2.57MB/s]\n",
      "10.5MB [00:06, 2.76MB/s]\n",
      "11.0MB [00:06, 2.78MB/s]\n",
      "11.5MB [00:06, 2.34MB/s]\n",
      "12.1MB [00:06, 2.67MB/s]\n",
      "12.6MB [00:06, 2.75MB/s]\n",
      "13.1MB [00:07, 2.94MB/s]\n",
      "13.6MB [00:07, 3.19MB/s]\n",
      "14.2MB [00:07, 3.53MB/s]\n",
      "14.7MB [00:07, 3.67MB/s]\n",
      "15.2MB [00:07, 3.69MB/s]\n",
      "15.7MB [00:07, 3.12MB/s]\n",
      "16.3MB [00:08, 3.09MB/s]\n",
      "16.8MB [00:08, 3.12MB/s]\n",
      "17.3MB [00:08, 3.15MB/s]\n",
      "17.8MB [00:08, 3.33MB/s]\n",
      "18.4MB [00:08, 3.39MB/s]\n",
      "18.9MB [00:08, 3.43MB/s]\n",
      "19.4MB [00:09, 2.29MB/s]\n",
      "19.9MB [00:09, 2.41MB/s]\n",
      "20.4MB [00:09, 2.58MB/s]\n",
      "21.0MB [00:10, 1.91MB/s]\n",
      "21.5MB [00:11, 1.00MB/s]\n",
      "22.0MB [00:12, 815kB/s] \n",
      "22.5MB [00:12, 982kB/s]\n",
      "23.1MB [00:12, 1.15MB/s]\n",
      "23.6MB [00:12, 1.36MB/s]\n",
      "24.1MB [00:13, 1.28MB/s]\n",
      "24.6MB [00:14, 864kB/s] \n",
      "25.2MB [00:14, 1.04MB/s]\n",
      "25.7MB [00:17, 478kB/s] \n",
      "26.2MB [00:17, 507kB/s]\n",
      "26.7MB [00:18, 631kB/s]\n",
      "27.3MB [00:18, 832kB/s]\n",
      "27.8MB [00:18, 1.05MB/s]\n",
      "28.3MB [00:18, 1.30MB/s]\n",
      "28.8MB [00:19, 1.56MB/s]\n",
      "29.4MB [00:19, 1.83MB/s]\n",
      "29.9MB [00:19, 2.11MB/s]\n",
      "30.4MB [00:19, 2.31MB/s]\n",
      "30.9MB [00:19, 2.44MB/s]\n",
      "31.5MB [00:20, 1.07MB/s]\n",
      "32.0MB [00:20, 1.37MB/s]\n",
      "32.5MB [00:21, 1.67MB/s]\n",
      "33.0MB [00:21, 2.04MB/s]\n",
      "33.6MB [00:21, 2.02MB/s]\n",
      "34.1MB [00:21, 2.21MB/s]\n",
      "34.6MB [00:21, 2.19MB/s]\n",
      "35.1MB [00:22, 1.77MB/s]\n",
      "35.7MB [00:22, 1.95MB/s]\n",
      "36.2MB [00:22, 2.39MB/s]\n",
      "37.2MB [00:22, 3.15MB/s]\n",
      "37.7MB [00:23, 3.16MB/s]\n",
      "38.3MB [00:23, 3.06MB/s]\n",
      "38.8MB [00:23, 2.78MB/s]\n",
      "39.3MB [00:23, 3.07MB/s]\n",
      "39.8MB [00:23, 3.01MB/s]\n",
      "40.4MB [00:25, 994kB/s] \n",
      "40.9MB [00:26, 660kB/s]\n",
      "41.4MB [00:26, 868kB/s]\n",
      "41.9MB [00:26, 1.13MB/s]\n",
      "42.5MB [00:27, 1.33MB/s]\n",
      "43.0MB [00:27, 1.59MB/s]\n",
      "43.5MB [00:27, 1.76MB/s]\n",
      "44.0MB [00:27, 1.94MB/s]\n",
      "44.6MB [00:27, 2.35MB/s]\n",
      "45.1MB [00:27, 2.75MB/s]\n",
      "45.6MB [00:28, 3.19MB/s]\n",
      "46.1MB [00:28, 2.74MB/s]\n",
      "46.7MB [00:28, 2.96MB/s]\n",
      "47.2MB [00:28, 3.01MB/s]\n",
      "47.7MB [00:28, 2.68MB/s]\n",
      "48.2MB [00:29, 2.36MB/s]\n",
      "48.8MB [00:29, 2.63MB/s]\n",
      "49.3MB [00:29, 2.49MB/s]\n",
      "49.8MB [00:29, 2.82MB/s]\n",
      "50.3MB [00:29, 2.93MB/s]\n",
      "50.9MB [00:29, 3.29MB/s]\n",
      "51.4MB [00:30, 3.46MB/s]\n",
      "51.9MB [00:30, 3.25MB/s]\n",
      "52.4MB [00:30, 2.68MB/s]\n",
      "53.0MB [00:30, 2.57MB/s]\n",
      "53.5MB [00:30, 2.84MB/s]\n",
      "54.0MB [00:31, 3.21MB/s]\n",
      "54.5MB [00:31, 3.44MB/s]\n",
      "55.1MB [00:31, 2.14MB/s]\n",
      "55.6MB [00:32, 1.56MB/s]\n",
      "56.1MB [00:32, 1.92MB/s]\n",
      "56.6MB [00:32, 1.87MB/s]\n",
      "57.1MB [00:32, 2.20MB/s]\n",
      "57.7MB [00:33, 2.07MB/s]\n",
      "58.2MB [00:33, 2.23MB/s]\n",
      "58.7MB [00:33, 2.35MB/s]\n",
      "59.2MB [00:33, 2.48MB/s]\n",
      "59.8MB [00:33, 2.58MB/s]\n",
      "60.3MB [00:34, 2.34MB/s]\n",
      "60.8MB [00:34, 2.26MB/s]\n",
      "61.3MB [00:34, 2.50MB/s]\n",
      "61.9MB [00:34, 2.64MB/s]\n",
      "62.4MB [00:34, 2.65MB/s]\n",
      "62.9MB [00:35, 2.67MB/s]\n",
      "63.4MB [00:35, 2.79MB/s]\n",
      "64.0MB [00:35, 2.96MB/s]\n",
      "64.5MB [00:35, 2.86MB/s]\n",
      "65.0MB [00:36, 1.02MB/s]\n",
      "65.5MB [00:37, 1.28MB/s]\n",
      "66.1MB [00:37, 1.57MB/s]\n",
      "66.6MB [00:37, 1.61MB/s]\n",
      "67.1MB [00:37, 1.60MB/s]\n",
      "67.6MB [00:37, 1.86MB/s]\n",
      "68.2MB [00:38, 2.08MB/s]\n",
      "68.7MB [00:38, 2.28MB/s]\n",
      "69.2MB [00:38, 2.29MB/s]\n",
      "69.7MB [00:38, 2.00MB/s]\n",
      "70.3MB [00:39, 1.69MB/s]\n",
      "70.8MB [00:39, 1.56MB/s]\n",
      "71.3MB [00:39, 1.79MB/s]\n",
      "71.8MB [00:40, 1.90MB/s]\n",
      "72.4MB [00:40, 1.91MB/s]\n",
      "72.9MB [00:40, 2.23MB/s]\n",
      "73.4MB [00:40, 2.45MB/s]\n",
      "73.9MB [00:40, 2.59MB/s]\n",
      "74.4MB [00:41, 1.12MB/s]\n",
      "75.0MB [00:42, 1.18MB/s]\n",
      "75.5MB [00:43, 953kB/s] \n",
      "76.0MB [00:43, 1.25MB/s]\n",
      "76.5MB [00:43, 1.59MB/s]\n",
      "77.1MB [00:43, 1.90MB/s]\n",
      "77.6MB [00:43, 2.23MB/s]\n",
      "78.1MB [00:43, 2.52MB/s]\n",
      "78.6MB [00:43, 2.85MB/s]\n",
      "79.2MB [00:44, 2.12MB/s]\n",
      "79.7MB [00:44, 1.77MB/s]\n",
      "80.2MB [00:44, 2.13MB/s]\n",
      "80.7MB [00:45, 2.54MB/s]\n",
      "81.8MB [00:45, 2.69MB/s]\n",
      "82.3MB [00:45, 2.89MB/s]\n",
      "82.8MB [00:45, 3.21MB/s]\n",
      "83.4MB [00:45, 2.49MB/s]\n",
      "83.9MB [00:46, 1.96MB/s]\n",
      "84.4MB [00:46, 2.11MB/s]\n",
      "84.9MB [00:46, 2.19MB/s]\n",
      "85.5MB [00:47, 2.29MB/s]\n",
      "86.0MB [00:47, 2.47MB/s]\n",
      "86.5MB [00:47, 2.79MB/s]\n",
      "87.0MB [00:47, 2.60MB/s]\n",
      "87.6MB [00:47, 2.67MB/s]\n",
      "88.1MB [00:48, 1.95MB/s]\n",
      "88.6MB [00:48, 2.19MB/s]\n",
      "89.1MB [00:48, 2.33MB/s]\n",
      "89.7MB [00:48, 2.07MB/s]\n",
      "90.2MB [00:49, 1.63MB/s]\n",
      "90.7MB [00:49, 1.84MB/s]\n",
      "91.2MB [00:49, 2.06MB/s]\n",
      "91.8MB [00:49, 2.18MB/s]\n",
      "92.3MB [00:50, 2.20MB/s]\n",
      "92.8MB [00:51, 1.22MB/s]\n",
      "93.3MB [00:51, 1.47MB/s]\n",
      "93.8MB [00:51, 1.71MB/s]\n",
      "94.4MB [00:51, 1.88MB/s]\n",
      "94.9MB [00:51, 2.10MB/s]\n",
      "95.4MB [00:51, 2.35MB/s]\n",
      "95.9MB [00:52, 2.44MB/s]\n",
      "96.5MB [00:52, 2.41MB/s]\n",
      "97.0MB [00:52, 2.70MB/s]\n",
      "97.5MB [00:52, 2.88MB/s]\n",
      "98.0MB [00:52, 3.00MB/s]\n",
      "98.6MB [00:52, 3.14MB/s]\n",
      "99.1MB [00:53, 2.89MB/s]\n",
      "99.6MB [00:53, 3.00MB/s]\n",
      "100MB [00:53, 2.97MB/s] \n",
      "101MB [00:53, 3.27MB/s]\n",
      "101MB [00:53, 3.45MB/s]\n",
      "102MB [00:54, 2.92MB/s]\n",
      "102MB [00:54, 2.71MB/s]\n",
      "103MB [00:54, 2.63MB/s]\n",
      "103MB [00:54, 1.91MB/s]\n",
      "104MB [00:55, 2.29MB/s]\n",
      "104MB [00:55, 2.05MB/s]\n",
      "105MB [00:55, 2.36MB/s]\n",
      "105MB [00:55, 2.75MB/s]\n",
      "106MB [00:55, 3.10MB/s]\n",
      "106MB [00:55, 3.33MB/s]\n",
      "107MB [00:55, 3.57MB/s]\n",
      "107MB [00:56, 3.07MB/s]\n",
      "108MB [00:56, 3.05MB/s]\n",
      "109MB [00:56, 3.40MB/s]\n",
      "109MB [00:56, 3.69MB/s]\n",
      "110MB [00:56, 3.82MB/s]\n",
      "110MB [00:56, 3.96MB/s]\n",
      "111MB [00:56, 4.07MB/s]\n",
      "111MB [00:57, 4.15MB/s]\n",
      "112MB [00:57, 4.03MB/s]\n",
      "112MB [00:57, 2.13MB/s]\n",
      "113MB [00:58, 1.68MB/s]\n",
      "113MB [00:59, 1.11MB/s]\n",
      "114MB [01:00, 837kB/s] \n",
      "114MB [01:00, 1.01MB/s]\n",
      "115MB [01:00, 1.18MB/s]\n",
      "115MB [01:00, 1.49MB/s]\n",
      "116MB [01:00, 1.80MB/s]\n",
      "116MB [01:01, 2.14MB/s]\n",
      "117MB [01:01, 2.43MB/s]\n",
      "117MB [01:01, 2.76MB/s]\n",
      "118MB [01:01, 3.10MB/s]\n",
      "118MB [01:01, 3.24MB/s]\n",
      "119MB [01:01, 2.97MB/s]\n",
      "120MB [01:01, 3.19MB/s]\n",
      "120MB [01:02, 3.39MB/s]\n",
      "121MB [01:02, 3.08MB/s]\n",
      "121MB [01:02, 3.20MB/s]\n",
      "122MB [01:02, 3.24MB/s]\n",
      "122MB [01:03, 1.69MB/s]\n",
      "123MB [01:03, 2.05MB/s]\n",
      "123MB [01:03, 2.45MB/s]\n",
      "124MB [01:03, 2.38MB/s]\n",
      "124MB [01:03, 2.74MB/s]\n",
      "125MB [01:03, 3.06MB/s]\n",
      "125MB [01:04, 3.45MB/s]\n",
      "126MB [01:04, 2.55MB/s]\n",
      "126MB [01:04, 2.35MB/s]\n",
      "127MB [01:04, 2.36MB/s]\n",
      "127MB [01:05, 2.36MB/s]\n",
      "128MB [01:05, 2.74MB/s]\n",
      "128MB [01:05, 3.03MB/s]\n",
      "129MB [01:05, 2.98MB/s]\n",
      "129MB [01:06, 1.69MB/s]\n",
      "130MB [01:06, 1.65MB/s]\n",
      "131MB [01:06, 1.87MB/s]\n",
      "131MB [01:07, 1.42MB/s]\n",
      "132MB [01:07, 1.67MB/s]\n",
      "132MB [01:07, 2.02MB/s]\n",
      "133MB [01:07, 2.11MB/s]\n",
      "133MB [01:07, 2.37MB/s]\n",
      "134MB [01:08, 1.95MB/s]\n",
      "134MB [01:11, 505kB/s] \n",
      "135MB [01:11, 612kB/s]\n",
      "135MB [01:11, 783kB/s]\n",
      "136MB [01:11, 1.01MB/s]\n",
      "136MB [01:12, 1.29MB/s]\n",
      "137MB [01:12, 1.62MB/s]\n",
      "137MB [01:12, 1.93MB/s]\n",
      "138MB [01:12, 2.32MB/s]\n",
      "138MB [01:12, 2.58MB/s]\n",
      "139MB [01:12, 2.98MB/s]\n",
      "139MB [01:12, 3.24MB/s]\n",
      "140MB [01:13, 3.47MB/s]\n",
      "141MB [01:13, 3.63MB/s]\n",
      "141MB [01:13, 3.61MB/s]\n",
      "142MB [01:13, 2.32MB/s]\n",
      "142MB [01:13, 2.64MB/s]\n",
      "143MB [01:14, 1.50MB/s]\n",
      "143MB [01:15, 1.13MB/s]\n",
      "144MB [01:15, 1.06MB/s]\n",
      "144MB [01:17, 552kB/s] \n",
      "145MB [01:18, 532kB/s]\n",
      "145MB [01:21, 350kB/s]\n",
      "146MB [01:25, 250kB/s]\n",
      "146MB [01:25, 334kB/s]\n",
      "147MB [01:26, 407kB/s]\n",
      "147MB [01:26, 542kB/s]\n",
      "148MB [01:26, 715kB/s]\n",
      "148MB [01:30, 288kB/s]\n",
      "149MB [01:32, 308kB/s]\n",
      "149MB [01:32, 414kB/s]\n",
      "150MB [01:32, 557kB/s]\n",
      "150MB [01:32, 727kB/s]\n",
      "151MB [01:33, 949kB/s]\n",
      "152MB [01:33, 1.23MB/s]\n",
      "152MB [01:33, 1.53MB/s]\n",
      "153MB [01:33, 1.83MB/s]\n",
      "153MB [01:33, 2.13MB/s]\n",
      "154MB [01:33, 2.34MB/s]\n",
      "154MB [01:34, 2.63MB/s]\n",
      "155MB [01:34, 2.80MB/s]\n",
      "155MB [01:34, 3.04MB/s]\n",
      "156MB [01:34, 3.08MB/s]\n",
      "156MB [01:37, 496kB/s] \n",
      "157MB [01:37, 640kB/s]\n",
      "157MB [01:38, 757kB/s]\n",
      "158MB [01:38, 786kB/s]\n",
      "158MB [01:39, 732kB/s]\n",
      "159MB [01:39, 938kB/s]\n",
      "159MB [01:40, 1.19MB/s]\n",
      "160MB [01:40, 1.45MB/s]\n",
      "160MB [01:41, 970kB/s] \n",
      "161MB [01:41, 1.10MB/s]\n",
      "161MB [01:42, 1.09MB/s]\n",
      "162MB [01:42, 1.03MB/s]\n",
      "163MB [01:42, 1.19MB/s]\n",
      "163MB [01:42, 1.51MB/s]\n",
      "164MB [01:43, 1.55MB/s]\n",
      "164MB [01:43, 1.78MB/s]\n",
      "165MB [01:43, 2.06MB/s]\n",
      "165MB [01:43, 2.31MB/s]\n",
      "166MB [01:43, 2.61MB/s]\n",
      "166MB [01:44, 2.87MB/s]\n",
      "167MB [01:44, 3.20MB/s]\n",
      "167MB [01:44, 3.33MB/s]\n",
      "168MB [01:44, 3.68MB/s]\n",
      "168MB [01:44, 3.52MB/s]\n",
      "169MB [01:45, 1.80MB/s]\n",
      "169MB [01:45, 1.64MB/s]\n",
      "170MB [01:46, 1.22MB/s]\n",
      "170MB [01:46, 1.45MB/s]\n",
      "171MB [01:46, 1.69MB/s]\n",
      "171MB [01:46, 2.00MB/s]\n",
      "172MB [01:47, 1.70MB/s]\n",
      "172MB [01:47, 1.97MB/s]\n",
      "173MB [01:47, 2.32MB/s]\n",
      "174MB [01:47, 2.70MB/s]\n",
      "174MB [01:47, 3.14MB/s]\n",
      "175MB [01:47, 3.46MB/s]\n",
      "175MB [01:48, 3.63MB/s]\n",
      "176MB [01:48, 2.95MB/s]\n",
      "176MB [01:48, 1.76MB/s]\n",
      "177MB [01:50, 890kB/s] \n",
      "177MB [01:50, 1.06MB/s]\n",
      "178MB [01:50, 1.28MB/s]\n",
      "178MB [01:51, 833kB/s] \n",
      "179MB [01:52, 760kB/s]\n",
      "179MB [01:52, 1.00MB/s]\n",
      "180MB [01:53, 1.19MB/s]\n",
      "180MB [01:53, 1.53MB/s]\n",
      "181MB [01:53, 1.09MB/s]\n",
      "181MB [01:55, 641kB/s] \n",
      "182MB [01:55, 814kB/s]\n",
      "182MB [01:56, 968kB/s]\n",
      "183MB [01:56, 1.25MB/s]\n",
      "184MB [01:56, 1.59MB/s]\n",
      "184MB [01:56, 1.98MB/s]\n",
      "185MB [01:56, 2.34MB/s]\n",
      "185MB [01:58, 699kB/s] \n",
      "186MB [01:59, 781kB/s]\n",
      "186MB [01:59, 727kB/s]\n",
      "188MB [02:00, 1.11MB/s]\n",
      "188MB [02:00, 1.25MB/s]\n",
      "189MB [02:01, 1.36MB/s]\n",
      "189MB [02:01, 1.54MB/s]\n",
      "190MB [02:01, 1.34MB/s]\n",
      "190MB [02:02, 1.55MB/s]\n",
      "191MB [02:02, 1.80MB/s]\n",
      "191MB [02:02, 1.94MB/s]\n",
      "192MB [02:02, 2.13MB/s]\n",
      "192MB [02:02, 2.31MB/s]\n",
      "193MB [02:03, 2.53MB/s]\n",
      "193MB [02:03, 2.35MB/s]\n",
      "194MB [02:03, 1.94MB/s]\n",
      "195MB [02:03, 2.23MB/s]\n",
      "195MB [02:04, 2.14MB/s]\n",
      "196MB [02:05, 1.17MB/s]\n",
      "196MB [02:05, 1.09MB/s]\n",
      "197MB [02:07, 534kB/s] \n",
      "197MB [02:09, 473kB/s]\n",
      "198MB [02:09, 610kB/s]\n",
      "198MB [02:09, 760kB/s]\n",
      "199MB [02:10, 930kB/s]\n",
      "199MB [02:10, 1.21MB/s]\n",
      "200MB [02:10, 1.53MB/s]\n",
      "200MB [02:11, 750kB/s] \n",
      "201MB [02:12, 938kB/s]\n",
      "202MB [02:12, 1.50MB/s]\n",
      "202MB [02:12, 1.78MB/s]\n",
      "203MB [02:12, 2.06MB/s]\n",
      "203MB [02:12, 2.37MB/s]\n",
      "204MB [02:12, 2.71MB/s]\n",
      "204MB [02:12, 3.02MB/s]\n",
      "205MB [02:12, 3.43MB/s]\n",
      "206MB [02:13, 3.48MB/s]\n",
      "206MB [02:13, 3.79MB/s]\n",
      "207MB [02:13, 3.84MB/s]\n",
      "207MB [02:13, 4.09MB/s]\n",
      "208MB [02:13, 4.07MB/s]\n",
      "208MB [02:13, 4.13MB/s]\n",
      "209MB [02:13, 3.57MB/s]\n",
      "209MB [02:14, 3.53MB/s]\n",
      "210MB [02:14, 3.54MB/s]\n",
      "210MB [02:14, 3.67MB/s]\n",
      "211MB [02:14, 3.95MB/s]\n",
      "211MB [02:14, 3.35MB/s]\n",
      "212MB [02:14, 2.90MB/s]\n",
      "212MB [02:15, 1.43MB/s]\n",
      "213MB [02:15, 1.59MB/s]\n",
      "213MB [02:16, 1.25MB/s]\n",
      "214MB [02:16, 1.50MB/s]\n",
      "214MB [02:17, 908kB/s] \n",
      "215MB [02:18, 985kB/s]\n",
      "215MB [02:18, 1.23MB/s]\n",
      "216MB [02:18, 1.49MB/s]\n",
      "217MB [02:18, 1.79MB/s]\n",
      "217MB [02:19, 1.33MB/s]\n",
      "218MB [02:20, 1.20MB/s]\n",
      "218MB [02:20, 1.35MB/s]\n",
      "219MB [02:20, 1.29MB/s]\n",
      "219MB [02:20, 1.59MB/s]\n",
      "220MB [02:21, 1.92MB/s]\n",
      "220MB [02:21, 2.11MB/s]\n",
      "221MB [02:21, 2.12MB/s]\n",
      "221MB [02:22, 1.08MB/s]\n",
      "222MB [02:23, 1.02MB/s]\n",
      "222MB [02:23, 1.13MB/s]\n",
      "223MB [02:23, 1.24MB/s]\n",
      "223MB [02:23, 1.44MB/s]\n",
      "224MB [02:24, 1.79MB/s]\n",
      "224MB [02:24, 2.14MB/s]\n",
      "225MB [02:24, 2.56MB/s]\n",
      "225MB [02:24, 3.00MB/s]\n",
      "226MB [02:24, 3.32MB/s]\n",
      "226MB [02:25, 1.15MB/s]\n",
      "227MB [02:26, 1.14MB/s]\n",
      "228MB [02:26, 996kB/s] \n",
      "228MB [02:27, 946kB/s]\n",
      "229MB [02:27, 1.12MB/s]\n",
      "229MB [02:27, 1.55MB/s]\n"
     ]
    },
    {
     "name": "stderr",
     "output_type": "stream",
     "text": [
      "Downloading...\n",
      "From: https://drive.google.com/uc?id=1fj-1vVBloyj4t_p3zbngXYuwheTrTCTK\n",
      "To: C:\\Users\\Mohammad.Khan\\Anaconda3\\libs\\GBX_Model\\main\\Fakeddit_data\\all_validate.tsv\n",
      "\n",
      "0.00B [00:00, ?B/s]\n",
      "524kB [00:00, 792kB/s]\n",
      "1.05MB [00:01, 848kB/s]\n",
      "1.57MB [00:01, 1.04MB/s]\n",
      "2.10MB [00:01, 1.39MB/s]\n",
      "2.62MB [00:02, 1.52MB/s]\n",
      "3.15MB [00:02, 1.72MB/s]\n",
      "3.67MB [00:02, 1.89MB/s]\n",
      "4.19MB [00:02, 2.03MB/s]\n",
      "4.72MB [00:02, 2.13MB/s]\n",
      "5.24MB [00:03, 2.25MB/s]\n",
      "5.77MB [00:04, 897kB/s] \n",
      "6.29MB [00:04, 1.12MB/s]\n",
      "6.82MB [00:04, 1.41MB/s]\n",
      "7.34MB [00:05, 1.67MB/s]\n",
      "7.86MB [00:05, 1.91MB/s]\n",
      "8.39MB [00:05, 2.24MB/s]\n",
      "8.91MB [00:05, 2.01MB/s]\n",
      "9.44MB [00:05, 2.30MB/s]\n",
      "9.96MB [00:06, 2.51MB/s]\n",
      "10.5MB [00:06, 2.94MB/s]\n",
      "11.0MB [00:06, 3.15MB/s]\n",
      "11.5MB [00:06, 3.43MB/s]\n",
      "12.1MB [00:06, 3.72MB/s]\n",
      "12.6MB [00:06, 3.94MB/s]\n",
      "13.1MB [00:06, 4.06MB/s]\n",
      "13.6MB [00:06, 4.27MB/s]\n",
      "14.2MB [00:06, 4.51MB/s]\n",
      "14.7MB [00:07, 4.57MB/s]\n",
      "15.2MB [00:07, 3.54MB/s]\n",
      "15.7MB [00:07, 2.92MB/s]\n",
      "16.3MB [00:07, 2.97MB/s]\n",
      "16.8MB [00:08, 2.39MB/s]\n",
      "17.3MB [00:10, 591kB/s] \n",
      "17.8MB [00:10, 696kB/s]\n",
      "18.4MB [00:11, 804kB/s]\n",
      "18.9MB [00:11, 958kB/s]\n",
      "19.4MB [00:11, 1.14MB/s]\n",
      "19.9MB [00:12, 1.27MB/s]\n",
      "20.4MB [00:12, 1.51MB/s]\n",
      "21.0MB [00:12, 1.59MB/s]\n",
      "21.5MB [00:12, 1.91MB/s]\n",
      "22.0MB [00:13, 2.08MB/s]\n",
      "22.5MB [00:13, 2.28MB/s]\n",
      "23.1MB [00:13, 2.40MB/s]\n",
      "23.6MB [00:13, 2.70MB/s]\n",
      "23.9MB [00:13, 2.74MB/s]\n",
      "23.9MB [00:13, 1.75MB/s]\n",
      "Downloading...\n",
      "From: https://drive.google.com/uc?id=1RkZGrF6fgWGSRHIcvIdSnofxrjAEGfCP\n",
      "To: C:\\Users\\Mohammad.Khan\\Anaconda3\\libs\\GBX_Model\\main\\Fakeddit_data\\all_test_public.tsv\n",
      "\n",
      "0.00B [00:00, ?B/s]\n",
      "524kB [00:00, 762kB/s]\n",
      "1.05MB [00:00, 1.39MB/s]\n",
      "1.57MB [00:01, 1.78MB/s]\n",
      "2.10MB [00:01, 2.09MB/s]\n",
      "2.62MB [00:01, 2.03MB/s]\n",
      "3.15MB [00:01, 1.97MB/s]\n",
      "3.67MB [00:02, 1.48MB/s]\n",
      "4.19MB [00:02, 1.63MB/s]\n",
      "4.72MB [00:02, 1.87MB/s]\n",
      "5.24MB [00:03, 1.93MB/s]\n",
      "5.77MB [00:03, 2.32MB/s]\n",
      "6.29MB [00:03, 2.64MB/s]\n",
      "6.82MB [00:03, 2.82MB/s]\n",
      "7.34MB [00:03, 2.48MB/s]\n",
      "7.86MB [00:03, 2.62MB/s]\n",
      "8.39MB [00:04, 2.03MB/s]\n",
      "8.91MB [00:04, 1.63MB/s]\n",
      "9.44MB [00:04, 1.86MB/s]\n",
      "10.5MB [00:05, 1.63MB/s]\n",
      "11.0MB [00:06, 1.46MB/s]\n",
      "11.5MB [00:06, 1.62MB/s]\n",
      "12.1MB [00:06, 1.87MB/s]\n",
      "12.6MB [00:06, 2.25MB/s]\n",
      "13.1MB [00:06, 2.57MB/s]\n",
      "13.6MB [00:06, 2.59MB/s]\n",
      "14.2MB [00:07, 2.75MB/s]\n",
      "14.7MB [00:07, 1.61MB/s]\n",
      "15.2MB [00:08, 1.06MB/s]\n",
      "15.7MB [00:08, 1.33MB/s]\n",
      "16.3MB [00:09, 1.55MB/s]\n",
      "16.8MB [00:09, 1.64MB/s]\n",
      "17.3MB [00:09, 1.88MB/s]\n",
      "17.8MB [00:09, 2.15MB/s]\n",
      "18.4MB [00:09, 2.22MB/s]\n",
      "18.9MB [00:10, 2.03MB/s]\n",
      "19.4MB [00:10, 2.13MB/s]\n",
      "19.9MB [00:10, 1.66MB/s]\n",
      "20.4MB [00:11, 1.93MB/s]\n",
      "21.0MB [00:11, 2.22MB/s]\n",
      "21.5MB [00:11, 1.93MB/s]\n",
      "22.0MB [00:11, 1.84MB/s]\n",
      "22.5MB [00:12, 2.11MB/s]\n",
      "23.1MB [00:12, 2.28MB/s]\n",
      "23.6MB [00:12, 2.62MB/s]\n",
      "23.9MB [00:12, 1.92MB/s]\n"
     ]
    }
   ],
   "source": [
    "def download_data():\n",
    "    previous_dir=os.getcwd()\n",
    "    if not os.path.isdir(os.getcwd()+\"\\\\Fakeddit_data\"):\n",
    "        os.mkdir(\"Fakeddit_data\")\n",
    "    os.chdir(os.getcwd()+\"\\\\Fakeddit_data\")\n",
    "    !gdown --id 1wwpR1ca3CbaAqjas9PoAC4gWCYTkDhIW --output all_train.tsv\n",
    "    !gdown --id 1fj-1vVBloyj4t_p3zbngXYuwheTrTCTK --output all_validate.tsv\n",
    "    !gdown --id 1RkZGrF6fgWGSRHIcvIdSnofxrjAEGfCP --output all_test_public.tsv\n",
    "    os.chdir(previous_dir)\n",
    "download_data()"
   ]
  },
  {
   "cell_type": "code",
   "execution_count": 7,
   "metadata": {
    "colab": {},
    "colab_type": "code",
    "id": "guCzxnVrPvOj"
   },
   "outputs": [],
   "source": [
    "df_train=pd.read_csv(os.getcwd()+\"\\\\Fakeddit_data\\\\all_train.tsv\",sep='\\t')\n",
    "df_valid=pd.read_csv(os.getcwd()+\"\\\\Fakeddit_data\\\\all_validate.tsv\",sep='\\t')\n",
    "df_test=pd.read_csv(os.getcwd()+\"\\\\Fakeddit_data\\\\all_test_public.tsv\",sep='\\t')"
   ]
  },
  {
   "cell_type": "code",
   "execution_count": 8,
   "metadata": {
    "colab": {
     "base_uri": "https://localhost:8080/",
     "height": 428
    },
    "colab_type": "code",
    "executionInfo": {
     "elapsed": 30147,
     "status": "ok",
     "timestamp": 1600059759270,
     "user": {
      "displayName": "Ur Tech Guide",
      "photoUrl": "https://lh3.googleusercontent.com/a-/AOh14GhBjMoWnc1KwT73B6hzAbvnSIxnZAl5PY9n_RGJ0w=s64",
      "userId": "03152431167485721857"
     },
     "user_tz": -300
    },
    "id": "4URhJaK_RN1B",
    "outputId": "7eae4802-4571-4cd1-f77d-a8d5a9e08758"
   },
   "outputs": [
    {
     "data": {
      "text/html": [
       "<div>\n",
       "<style scoped>\n",
       "    .dataframe tbody tr th:only-of-type {\n",
       "        vertical-align: middle;\n",
       "    }\n",
       "\n",
       "    .dataframe tbody tr th {\n",
       "        vertical-align: top;\n",
       "    }\n",
       "\n",
       "    .dataframe thead th {\n",
       "        text-align: right;\n",
       "    }\n",
       "</style>\n",
       "<table border=\"1\" class=\"dataframe\">\n",
       "  <thead>\n",
       "    <tr style=\"text-align: right;\">\n",
       "      <th></th>\n",
       "      <th>Unnamed: 0</th>\n",
       "      <th>Unnamed: 0.1</th>\n",
       "      <th>Unnamed: 0.1.1</th>\n",
       "      <th>Unnamed: 0.1.1.1</th>\n",
       "      <th>author</th>\n",
       "      <th>clean_title</th>\n",
       "      <th>created_utc</th>\n",
       "      <th>domain</th>\n",
       "      <th>hasImage</th>\n",
       "      <th>id</th>\n",
       "      <th>image_url</th>\n",
       "      <th>linked_submission_id</th>\n",
       "      <th>num_comments</th>\n",
       "      <th>score</th>\n",
       "      <th>subreddit</th>\n",
       "      <th>title</th>\n",
       "      <th>upvote_ratio</th>\n",
       "      <th>2_way_label</th>\n",
       "      <th>3_way_label</th>\n",
       "      <th>6_way_label</th>\n",
       "    </tr>\n",
       "  </thead>\n",
       "  <tbody>\n",
       "    <tr>\n",
       "      <th>0</th>\n",
       "      <td>0</td>\n",
       "      <td>0</td>\n",
       "      <td>NaN</td>\n",
       "      <td>NaN</td>\n",
       "      <td>Alexithymia</td>\n",
       "      <td>my walgreens offbrand mucinex was engraved wit...</td>\n",
       "      <td>1.551641e+09</td>\n",
       "      <td>i.imgur.com</td>\n",
       "      <td>True</td>\n",
       "      <td>awxhir</td>\n",
       "      <td>https://external-preview.redd.it/WylDbZrnbvZdB...</td>\n",
       "      <td>NaN</td>\n",
       "      <td>2.0</td>\n",
       "      <td>12</td>\n",
       "      <td>mildlyinteresting</td>\n",
       "      <td>My Walgreens offbrand Mucinex was engraved wit...</td>\n",
       "      <td>0.84</td>\n",
       "      <td>1</td>\n",
       "      <td>0</td>\n",
       "      <td>0</td>\n",
       "    </tr>\n",
       "    <tr>\n",
       "      <th>1</th>\n",
       "      <td>1</td>\n",
       "      <td>1</td>\n",
       "      <td>155885.0</td>\n",
       "      <td>714550.0</td>\n",
       "      <td>RickSisco</td>\n",
       "      <td>NaN</td>\n",
       "      <td>1.443822e+09</td>\n",
       "      <td>NaN</td>\n",
       "      <td>True</td>\n",
       "      <td>cvm5uy4</td>\n",
       "      <td>http://i.imgur.com/yxrkYT8.jpg</td>\n",
       "      <td>3n7fld</td>\n",
       "      <td>NaN</td>\n",
       "      <td>5</td>\n",
       "      <td>psbattle_artwork</td>\n",
       "      <td>NaN</td>\n",
       "      <td>NaN</td>\n",
       "      <td>0</td>\n",
       "      <td>2</td>\n",
       "      <td>4</td>\n",
       "    </tr>\n",
       "    <tr>\n",
       "      <th>2</th>\n",
       "      <td>2</td>\n",
       "      <td>2</td>\n",
       "      <td>NaN</td>\n",
       "      <td>NaN</td>\n",
       "      <td>VIDCAs17</td>\n",
       "      <td>this concerned sink with a tiny hat</td>\n",
       "      <td>1.534727e+09</td>\n",
       "      <td>i.redd.it</td>\n",
       "      <td>True</td>\n",
       "      <td>98pbid</td>\n",
       "      <td>https://preview.redd.it/wsfx0gp0f5h11.jpg?widt...</td>\n",
       "      <td>NaN</td>\n",
       "      <td>2.0</td>\n",
       "      <td>119</td>\n",
       "      <td>pareidolia</td>\n",
       "      <td>This concerned sink with a tiny hat</td>\n",
       "      <td>0.99</td>\n",
       "      <td>0</td>\n",
       "      <td>2</td>\n",
       "      <td>2</td>\n",
       "    </tr>\n",
       "    <tr>\n",
       "      <th>3</th>\n",
       "      <td>3</td>\n",
       "      <td>3</td>\n",
       "      <td>NaN</td>\n",
       "      <td>NaN</td>\n",
       "      <td>prometheus1123</td>\n",
       "      <td>hackers leak emails from uae ambassador to us</td>\n",
       "      <td>1.496511e+09</td>\n",
       "      <td>aljazeera.com</td>\n",
       "      <td>True</td>\n",
       "      <td>6f2cy5</td>\n",
       "      <td>https://external-preview.redd.it/6fNhdbc6K1vFA...</td>\n",
       "      <td>NaN</td>\n",
       "      <td>1.0</td>\n",
       "      <td>44</td>\n",
       "      <td>neutralnews</td>\n",
       "      <td>Hackers leak emails from UAE ambassador to US</td>\n",
       "      <td>0.92</td>\n",
       "      <td>1</td>\n",
       "      <td>0</td>\n",
       "      <td>0</td>\n",
       "    </tr>\n",
       "    <tr>\n",
       "      <th>4</th>\n",
       "      <td>4</td>\n",
       "      <td>4</td>\n",
       "      <td>282323.0</td>\n",
       "      <td>1228398.0</td>\n",
       "      <td>NaN</td>\n",
       "      <td>NaN</td>\n",
       "      <td>1.378792e+09</td>\n",
       "      <td>NaN</td>\n",
       "      <td>True</td>\n",
       "      <td>cc5cbon</td>\n",
       "      <td>http://i.imgur.com/M8KTWMx.jpg</td>\n",
       "      <td>1lz1q0</td>\n",
       "      <td>NaN</td>\n",
       "      <td>3</td>\n",
       "      <td>psbattle_artwork</td>\n",
       "      <td>NaN</td>\n",
       "      <td>NaN</td>\n",
       "      <td>0</td>\n",
       "      <td>2</td>\n",
       "      <td>4</td>\n",
       "    </tr>\n",
       "  </tbody>\n",
       "</table>\n",
       "</div>"
      ],
      "text/plain": [
       "   Unnamed: 0  Unnamed: 0.1  Unnamed: 0.1.1  Unnamed: 0.1.1.1          author  \\\n",
       "0           0             0             NaN               NaN     Alexithymia   \n",
       "1           1             1        155885.0          714550.0       RickSisco   \n",
       "2           2             2             NaN               NaN        VIDCAs17   \n",
       "3           3             3             NaN               NaN  prometheus1123   \n",
       "4           4             4        282323.0         1228398.0             NaN   \n",
       "\n",
       "                                         clean_title   created_utc  \\\n",
       "0  my walgreens offbrand mucinex was engraved wit...  1.551641e+09   \n",
       "1                                                NaN  1.443822e+09   \n",
       "2                this concerned sink with a tiny hat  1.534727e+09   \n",
       "3      hackers leak emails from uae ambassador to us  1.496511e+09   \n",
       "4                                                NaN  1.378792e+09   \n",
       "\n",
       "          domain  hasImage       id  \\\n",
       "0    i.imgur.com      True   awxhir   \n",
       "1            NaN      True  cvm5uy4   \n",
       "2      i.redd.it      True   98pbid   \n",
       "3  aljazeera.com      True   6f2cy5   \n",
       "4            NaN      True  cc5cbon   \n",
       "\n",
       "                                           image_url linked_submission_id  \\\n",
       "0  https://external-preview.redd.it/WylDbZrnbvZdB...                  NaN   \n",
       "1                     http://i.imgur.com/yxrkYT8.jpg               3n7fld   \n",
       "2  https://preview.redd.it/wsfx0gp0f5h11.jpg?widt...                  NaN   \n",
       "3  https://external-preview.redd.it/6fNhdbc6K1vFA...                  NaN   \n",
       "4                     http://i.imgur.com/M8KTWMx.jpg               1lz1q0   \n",
       "\n",
       "   num_comments  score          subreddit  \\\n",
       "0           2.0     12  mildlyinteresting   \n",
       "1           NaN      5   psbattle_artwork   \n",
       "2           2.0    119         pareidolia   \n",
       "3           1.0     44        neutralnews   \n",
       "4           NaN      3   psbattle_artwork   \n",
       "\n",
       "                                               title  upvote_ratio  \\\n",
       "0  My Walgreens offbrand Mucinex was engraved wit...          0.84   \n",
       "1                                                NaN           NaN   \n",
       "2                This concerned sink with a tiny hat          0.99   \n",
       "3      Hackers leak emails from UAE ambassador to US          0.92   \n",
       "4                                                NaN           NaN   \n",
       "\n",
       "   2_way_label  3_way_label  6_way_label  \n",
       "0            1            0            0  \n",
       "1            0            2            4  \n",
       "2            0            2            2  \n",
       "3            1            0            0  \n",
       "4            0            2            4  "
      ]
     },
     "execution_count": 8,
     "metadata": {},
     "output_type": "execute_result"
    }
   ],
   "source": [
    "df_train.head()"
   ]
  },
  {
   "cell_type": "code",
   "execution_count": 9,
   "metadata": {
    "colab": {
     "base_uri": "https://localhost:8080/",
     "height": 376
    },
    "colab_type": "code",
    "executionInfo": {
     "elapsed": 30107,
     "status": "ok",
     "timestamp": 1600059759275,
     "user": {
      "displayName": "Ur Tech Guide",
      "photoUrl": "https://lh3.googleusercontent.com/a-/AOh14GhBjMoWnc1KwT73B6hzAbvnSIxnZAl5PY9n_RGJ0w=s64",
      "userId": "03152431167485721857"
     },
     "user_tz": -300
    },
    "id": "8BZLbd9lRSTa",
    "outputId": "6465247c-e395-49ab-9515-04bc9100b601"
   },
   "outputs": [
    {
     "data": {
      "text/html": [
       "<div>\n",
       "<style scoped>\n",
       "    .dataframe tbody tr th:only-of-type {\n",
       "        vertical-align: middle;\n",
       "    }\n",
       "\n",
       "    .dataframe tbody tr th {\n",
       "        vertical-align: top;\n",
       "    }\n",
       "\n",
       "    .dataframe thead th {\n",
       "        text-align: right;\n",
       "    }\n",
       "</style>\n",
       "<table border=\"1\" class=\"dataframe\">\n",
       "  <thead>\n",
       "    <tr style=\"text-align: right;\">\n",
       "      <th></th>\n",
       "      <th>Unnamed: 0</th>\n",
       "      <th>Unnamed: 0.1</th>\n",
       "      <th>Unnamed: 0.1.1</th>\n",
       "      <th>Unnamed: 0.1.1.1</th>\n",
       "      <th>author</th>\n",
       "      <th>clean_title</th>\n",
       "      <th>created_utc</th>\n",
       "      <th>domain</th>\n",
       "      <th>hasImage</th>\n",
       "      <th>id</th>\n",
       "      <th>image_url</th>\n",
       "      <th>linked_submission_id</th>\n",
       "      <th>num_comments</th>\n",
       "      <th>score</th>\n",
       "      <th>subreddit</th>\n",
       "      <th>title</th>\n",
       "      <th>upvote_ratio</th>\n",
       "      <th>2_way_label</th>\n",
       "      <th>3_way_label</th>\n",
       "      <th>6_way_label</th>\n",
       "    </tr>\n",
       "  </thead>\n",
       "  <tbody>\n",
       "    <tr>\n",
       "      <th>0</th>\n",
       "      <td>0</td>\n",
       "      <td>0</td>\n",
       "      <td>71235.0</td>\n",
       "      <td>316517.0</td>\n",
       "      <td>xprmntng</td>\n",
       "      <td>NaN</td>\n",
       "      <td>1.499964e+09</td>\n",
       "      <td>NaN</td>\n",
       "      <td>True</td>\n",
       "      <td>dk69gv8</td>\n",
       "      <td>https://i.imgur.com/snZdHrF.jpg</td>\n",
       "      <td>6n1oet</td>\n",
       "      <td>NaN</td>\n",
       "      <td>505</td>\n",
       "      <td>psbattle_artwork</td>\n",
       "      <td>NaN</td>\n",
       "      <td>NaN</td>\n",
       "      <td>0</td>\n",
       "      <td>2</td>\n",
       "      <td>4</td>\n",
       "    </tr>\n",
       "    <tr>\n",
       "      <th>1</th>\n",
       "      <td>1</td>\n",
       "      <td>1</td>\n",
       "      <td>NaN</td>\n",
       "      <td>NaN</td>\n",
       "      <td>singingdart7854</td>\n",
       "      <td>my xbox controller says hi</td>\n",
       "      <td>1.567436e+09</td>\n",
       "      <td>i.redd.it</td>\n",
       "      <td>True</td>\n",
       "      <td>cypw96</td>\n",
       "      <td>https://preview.redd.it/l0ga0tug17k31.jpg?widt...</td>\n",
       "      <td>NaN</td>\n",
       "      <td>4.0</td>\n",
       "      <td>25</td>\n",
       "      <td>mildlyinteresting</td>\n",
       "      <td>My Xbox controller says hi</td>\n",
       "      <td>0.72</td>\n",
       "      <td>1</td>\n",
       "      <td>0</td>\n",
       "      <td>0</td>\n",
       "    </tr>\n",
       "    <tr>\n",
       "      <th>2</th>\n",
       "      <td>2</td>\n",
       "      <td>2</td>\n",
       "      <td>NaN</td>\n",
       "      <td>NaN</td>\n",
       "      <td>mandal0re</td>\n",
       "      <td>new image from the mandalorian</td>\n",
       "      <td>1.567745e+09</td>\n",
       "      <td>i.imgur.com</td>\n",
       "      <td>True</td>\n",
       "      <td>d0bzlq</td>\n",
       "      <td>https://external-preview.redd.it/VX7bXDu9Gl8UZ...</td>\n",
       "      <td>NaN</td>\n",
       "      <td>5.0</td>\n",
       "      <td>21</td>\n",
       "      <td>photoshopbattles</td>\n",
       "      <td>PsBattle: New image from The Mandalorian</td>\n",
       "      <td>0.92</td>\n",
       "      <td>1</td>\n",
       "      <td>0</td>\n",
       "      <td>0</td>\n",
       "    </tr>\n",
       "    <tr>\n",
       "      <th>3</th>\n",
       "      <td>3</td>\n",
       "      <td>3</td>\n",
       "      <td>126554.0</td>\n",
       "      <td>582609.0</td>\n",
       "      <td>HE_WHO_DRUELS</td>\n",
       "      <td>say hello to my little friend</td>\n",
       "      <td>1.461468e+09</td>\n",
       "      <td>NaN</td>\n",
       "      <td>True</td>\n",
       "      <td>d2ezoob</td>\n",
       "      <td>http://i.imgur.com/F1Zbl3D.jpg</td>\n",
       "      <td>4g6bp9</td>\n",
       "      <td>NaN</td>\n",
       "      <td>10</td>\n",
       "      <td>psbattle_artwork</td>\n",
       "      <td>Say hello to my little friend!</td>\n",
       "      <td>NaN</td>\n",
       "      <td>0</td>\n",
       "      <td>2</td>\n",
       "      <td>4</td>\n",
       "    </tr>\n",
       "    <tr>\n",
       "      <th>4</th>\n",
       "      <td>4</td>\n",
       "      <td>4</td>\n",
       "      <td>228704.0</td>\n",
       "      <td>1014196.0</td>\n",
       "      <td>eNaRDe</td>\n",
       "      <td>watch your step little one</td>\n",
       "      <td>1.408047e+09</td>\n",
       "      <td>NaN</td>\n",
       "      <td>True</td>\n",
       "      <td>cjqctpw</td>\n",
       "      <td>http://i.imgur.com/KRyMjn1.jpg</td>\n",
       "      <td>2diyh3</td>\n",
       "      <td>NaN</td>\n",
       "      <td>1</td>\n",
       "      <td>psbattle_artwork</td>\n",
       "      <td>Watch your step little one</td>\n",
       "      <td>NaN</td>\n",
       "      <td>0</td>\n",
       "      <td>2</td>\n",
       "      <td>4</td>\n",
       "    </tr>\n",
       "  </tbody>\n",
       "</table>\n",
       "</div>"
      ],
      "text/plain": [
       "   Unnamed: 0  Unnamed: 0.1  Unnamed: 0.1.1  Unnamed: 0.1.1.1  \\\n",
       "0           0             0         71235.0          316517.0   \n",
       "1           1             1             NaN               NaN   \n",
       "2           2             2             NaN               NaN   \n",
       "3           3             3        126554.0          582609.0   \n",
       "4           4             4        228704.0         1014196.0   \n",
       "\n",
       "            author                     clean_title   created_utc       domain  \\\n",
       "0         xprmntng                             NaN  1.499964e+09          NaN   \n",
       "1  singingdart7854      my xbox controller says hi  1.567436e+09    i.redd.it   \n",
       "2        mandal0re  new image from the mandalorian  1.567745e+09  i.imgur.com   \n",
       "3    HE_WHO_DRUELS   say hello to my little friend  1.461468e+09          NaN   \n",
       "4           eNaRDe      watch your step little one  1.408047e+09          NaN   \n",
       "\n",
       "   hasImage       id                                          image_url  \\\n",
       "0      True  dk69gv8                    https://i.imgur.com/snZdHrF.jpg   \n",
       "1      True   cypw96  https://preview.redd.it/l0ga0tug17k31.jpg?widt...   \n",
       "2      True   d0bzlq  https://external-preview.redd.it/VX7bXDu9Gl8UZ...   \n",
       "3      True  d2ezoob                     http://i.imgur.com/F1Zbl3D.jpg   \n",
       "4      True  cjqctpw                     http://i.imgur.com/KRyMjn1.jpg   \n",
       "\n",
       "  linked_submission_id  num_comments  score          subreddit  \\\n",
       "0               6n1oet           NaN    505   psbattle_artwork   \n",
       "1                  NaN           4.0     25  mildlyinteresting   \n",
       "2                  NaN           5.0     21   photoshopbattles   \n",
       "3               4g6bp9           NaN     10   psbattle_artwork   \n",
       "4               2diyh3           NaN      1   psbattle_artwork   \n",
       "\n",
       "                                      title  upvote_ratio  2_way_label  \\\n",
       "0                                       NaN           NaN            0   \n",
       "1                My Xbox controller says hi          0.72            1   \n",
       "2  PsBattle: New image from The Mandalorian          0.92            1   \n",
       "3            Say hello to my little friend!           NaN            0   \n",
       "4                Watch your step little one           NaN            0   \n",
       "\n",
       "   3_way_label  6_way_label  \n",
       "0            2            4  \n",
       "1            0            0  \n",
       "2            0            0  \n",
       "3            2            4  \n",
       "4            2            4  "
      ]
     },
     "execution_count": 9,
     "metadata": {},
     "output_type": "execute_result"
    }
   ],
   "source": [
    "df_valid.head()"
   ]
  },
  {
   "cell_type": "code",
   "execution_count": 10,
   "metadata": {
    "colab": {
     "base_uri": "https://localhost:8080/",
     "height": 324
    },
    "colab_type": "code",
    "executionInfo": {
     "elapsed": 30078,
     "status": "ok",
     "timestamp": 1600059759281,
     "user": {
      "displayName": "Ur Tech Guide",
      "photoUrl": "https://lh3.googleusercontent.com/a-/AOh14GhBjMoWnc1KwT73B6hzAbvnSIxnZAl5PY9n_RGJ0w=s64",
      "userId": "03152431167485721857"
     },
     "user_tz": -300
    },
    "id": "6zBb6uIfRXbT",
    "outputId": "f41cfb9f-c749-48c3-8663-e121cdae8fdf"
   },
   "outputs": [
    {
     "data": {
      "text/html": [
       "<div>\n",
       "<style scoped>\n",
       "    .dataframe tbody tr th:only-of-type {\n",
       "        vertical-align: middle;\n",
       "    }\n",
       "\n",
       "    .dataframe tbody tr th {\n",
       "        vertical-align: top;\n",
       "    }\n",
       "\n",
       "    .dataframe thead th {\n",
       "        text-align: right;\n",
       "    }\n",
       "</style>\n",
       "<table border=\"1\" class=\"dataframe\">\n",
       "  <thead>\n",
       "    <tr style=\"text-align: right;\">\n",
       "      <th></th>\n",
       "      <th>Unnamed: 0</th>\n",
       "      <th>Unnamed: 0.1</th>\n",
       "      <th>Unnamed: 0.1.1</th>\n",
       "      <th>Unnamed: 0.1.1.1</th>\n",
       "      <th>author</th>\n",
       "      <th>clean_title</th>\n",
       "      <th>created_utc</th>\n",
       "      <th>domain</th>\n",
       "      <th>hasImage</th>\n",
       "      <th>id</th>\n",
       "      <th>image_url</th>\n",
       "      <th>linked_submission_id</th>\n",
       "      <th>num_comments</th>\n",
       "      <th>score</th>\n",
       "      <th>subreddit</th>\n",
       "      <th>title</th>\n",
       "      <th>upvote_ratio</th>\n",
       "      <th>2_way_label</th>\n",
       "      <th>3_way_label</th>\n",
       "      <th>6_way_label</th>\n",
       "    </tr>\n",
       "  </thead>\n",
       "  <tbody>\n",
       "    <tr>\n",
       "      <th>0</th>\n",
       "      <td>0</td>\n",
       "      <td>0</td>\n",
       "      <td>NaN</td>\n",
       "      <td>NaN</td>\n",
       "      <td>buzzly6</td>\n",
       "      <td>virginia first lady criticized for handing cot...</td>\n",
       "      <td>1.551316e+09</td>\n",
       "      <td>philly.com</td>\n",
       "      <td>False</td>\n",
       "      <td>avkxum</td>\n",
       "      <td>NaN</td>\n",
       "      <td>NaN</td>\n",
       "      <td>2.0</td>\n",
       "      <td>16</td>\n",
       "      <td>nottheonion</td>\n",
       "      <td>Virginia first lady criticized for handing cot...</td>\n",
       "      <td>0.69</td>\n",
       "      <td>1</td>\n",
       "      <td>0</td>\n",
       "      <td>0</td>\n",
       "    </tr>\n",
       "    <tr>\n",
       "      <th>1</th>\n",
       "      <td>1</td>\n",
       "      <td>1</td>\n",
       "      <td>NaN</td>\n",
       "      <td>NaN</td>\n",
       "      <td>NaN</td>\n",
       "      <td>jason falconer reluctant hero stopped mall att...</td>\n",
       "      <td>1.474326e+09</td>\n",
       "      <td>cnn.it</td>\n",
       "      <td>False</td>\n",
       "      <td>53kdz3</td>\n",
       "      <td>NaN</td>\n",
       "      <td>NaN</td>\n",
       "      <td>0.0</td>\n",
       "      <td>7</td>\n",
       "      <td>upliftingnews</td>\n",
       "      <td>Jason Falconer: Reluctant hero stopped mall at...</td>\n",
       "      <td>0.77</td>\n",
       "      <td>1</td>\n",
       "      <td>0</td>\n",
       "      <td>0</td>\n",
       "    </tr>\n",
       "    <tr>\n",
       "      <th>2</th>\n",
       "      <td>2</td>\n",
       "      <td>2</td>\n",
       "      <td>75691.0</td>\n",
       "      <td>335711.0</td>\n",
       "      <td>myternity</td>\n",
       "      <td>NaN</td>\n",
       "      <td>1.497067e+09</td>\n",
       "      <td>NaN</td>\n",
       "      <td>True</td>\n",
       "      <td>diperbi</td>\n",
       "      <td>http://i.imgur.com/cSIuEVF.jpg</td>\n",
       "      <td>6gc83w</td>\n",
       "      <td>NaN</td>\n",
       "      <td>3</td>\n",
       "      <td>psbattle_artwork</td>\n",
       "      <td>NaN</td>\n",
       "      <td>NaN</td>\n",
       "      <td>0</td>\n",
       "      <td>2</td>\n",
       "      <td>4</td>\n",
       "    </tr>\n",
       "    <tr>\n",
       "      <th>3</th>\n",
       "      <td>3</td>\n",
       "      <td>3</td>\n",
       "      <td>NaN</td>\n",
       "      <td>NaN</td>\n",
       "      <td>NaN</td>\n",
       "      <td>woman bites camels testicles to save herself a...</td>\n",
       "      <td>1.569178e+09</td>\n",
       "      <td>wbrz.com</td>\n",
       "      <td>False</td>\n",
       "      <td>d7upss</td>\n",
       "      <td>NaN</td>\n",
       "      <td>NaN</td>\n",
       "      <td>3.0</td>\n",
       "      <td>7</td>\n",
       "      <td>nottheonion</td>\n",
       "      <td>Woman bites camel’s testicles to save herself ...</td>\n",
       "      <td>1.00</td>\n",
       "      <td>1</td>\n",
       "      <td>0</td>\n",
       "      <td>0</td>\n",
       "    </tr>\n",
       "    <tr>\n",
       "      <th>4</th>\n",
       "      <td>4</td>\n",
       "      <td>4</td>\n",
       "      <td>190207.0</td>\n",
       "      <td>862707.0</td>\n",
       "      <td>trustbytrust</td>\n",
       "      <td>stargazer</td>\n",
       "      <td>1.425139e+09</td>\n",
       "      <td>NaN</td>\n",
       "      <td>True</td>\n",
       "      <td>cozywbv</td>\n",
       "      <td>http://i.imgur.com/BruWKDi.jpg</td>\n",
       "      <td>2xct9d</td>\n",
       "      <td>NaN</td>\n",
       "      <td>3</td>\n",
       "      <td>psbattle_artwork</td>\n",
       "      <td>stargazer</td>\n",
       "      <td>NaN</td>\n",
       "      <td>0</td>\n",
       "      <td>2</td>\n",
       "      <td>4</td>\n",
       "    </tr>\n",
       "  </tbody>\n",
       "</table>\n",
       "</div>"
      ],
      "text/plain": [
       "   Unnamed: 0  Unnamed: 0.1  Unnamed: 0.1.1  Unnamed: 0.1.1.1        author  \\\n",
       "0           0             0             NaN               NaN       buzzly6   \n",
       "1           1             1             NaN               NaN           NaN   \n",
       "2           2             2         75691.0          335711.0     myternity   \n",
       "3           3             3             NaN               NaN           NaN   \n",
       "4           4             4        190207.0          862707.0  trustbytrust   \n",
       "\n",
       "                                         clean_title   created_utc  \\\n",
       "0  virginia first lady criticized for handing cot...  1.551316e+09   \n",
       "1  jason falconer reluctant hero stopped mall att...  1.474326e+09   \n",
       "2                                                NaN  1.497067e+09   \n",
       "3  woman bites camels testicles to save herself a...  1.569178e+09   \n",
       "4                                          stargazer  1.425139e+09   \n",
       "\n",
       "       domain  hasImage       id                       image_url  \\\n",
       "0  philly.com     False   avkxum                             NaN   \n",
       "1      cnn.it     False   53kdz3                             NaN   \n",
       "2         NaN      True  diperbi  http://i.imgur.com/cSIuEVF.jpg   \n",
       "3    wbrz.com     False   d7upss                             NaN   \n",
       "4         NaN      True  cozywbv  http://i.imgur.com/BruWKDi.jpg   \n",
       "\n",
       "  linked_submission_id  num_comments  score         subreddit  \\\n",
       "0                  NaN           2.0     16       nottheonion   \n",
       "1                  NaN           0.0      7     upliftingnews   \n",
       "2               6gc83w           NaN      3  psbattle_artwork   \n",
       "3                  NaN           3.0      7       nottheonion   \n",
       "4               2xct9d           NaN      3  psbattle_artwork   \n",
       "\n",
       "                                               title  upvote_ratio  \\\n",
       "0  Virginia first lady criticized for handing cot...          0.69   \n",
       "1  Jason Falconer: Reluctant hero stopped mall at...          0.77   \n",
       "2                                                NaN           NaN   \n",
       "3  Woman bites camel’s testicles to save herself ...          1.00   \n",
       "4                                         stargazer            NaN   \n",
       "\n",
       "   2_way_label  3_way_label  6_way_label  \n",
       "0            1            0            0  \n",
       "1            1            0            0  \n",
       "2            0            2            4  \n",
       "3            1            0            0  \n",
       "4            0            2            4  "
      ]
     },
     "execution_count": 10,
     "metadata": {},
     "output_type": "execute_result"
    }
   ],
   "source": [
    "df_test.head()"
   ]
  },
  {
   "cell_type": "code",
   "execution_count": 11,
   "metadata": {
    "colab": {},
    "colab_type": "code",
    "id": "6CAYD7e3RZRS"
   },
   "outputs": [],
   "source": [
    "df_train.drop(['author','created_utc','domain','hasImage','id','image_url','title','linked_submission_id',df_train.columns.tolist()[0],df_train.columns.tolist()[1],df_train.columns.tolist()[2],df_train.columns.tolist()[3]],axis=1,inplace=True)"
   ]
  },
  {
   "cell_type": "code",
   "execution_count": 12,
   "metadata": {
    "colab": {},
    "colab_type": "code",
    "id": "twwx5ZPZUpBW"
   },
   "outputs": [],
   "source": [
    "df_test.drop(['author','created_utc','domain','hasImage','id','image_url','title','linked_submission_id',df_test.columns.tolist()[0],df_test.columns.tolist()[1],df_test.columns.tolist()[2],df_test.columns.tolist()[3]],axis=1,inplace=True)\n",
    "df_valid.drop(['author','created_utc','domain','hasImage','id','image_url','title','linked_submission_id',df_valid.columns.tolist()[0],df_valid.columns.tolist()[1],df_valid.columns.tolist()[2],df_valid.columns.tolist()[3]],axis=1,inplace=True)"
   ]
  },
  {
   "cell_type": "code",
   "execution_count": 13,
   "metadata": {
    "colab": {
     "base_uri": "https://localhost:8080/",
     "height": 282
    },
    "colab_type": "code",
    "executionInfo": {
     "elapsed": 25517,
     "status": "ok",
     "timestamp": 1600059759285,
     "user": {
      "displayName": "Ur Tech Guide",
      "photoUrl": "https://lh3.googleusercontent.com/a-/AOh14GhBjMoWnc1KwT73B6hzAbvnSIxnZAl5PY9n_RGJ0w=s64",
      "userId": "03152431167485721857"
     },
     "user_tz": -300
    },
    "id": "buHAmJP5UNfS",
    "outputId": "d897ee9f-be8f-4837-bd70-6aaaa4d1c206"
   },
   "outputs": [
    {
     "data": {
      "text/plain": [
       "<AxesSubplot:>"
      ]
     },
     "execution_count": 13,
     "metadata": {},
     "output_type": "execute_result"
    },
    {
     "data": {
      "image/png": "[encoded data removed]",
      "text/plain": [
       "<Figure size 432x288 with 1 Axes>"
      ]
     },
     "metadata": {},
     "output_type": "display_data"
    }
   ],
   "source": [
    "df_train['2_way_label'].value_counts().plot(kind='bar')"
   ]
  },
  {
   "cell_type": "code",
   "execution_count": 14,
   "metadata": {
    "colab": {
     "base_uri": "https://localhost:8080/",
     "height": 280
    },
    "colab_type": "code",
    "executionInfo": {
     "elapsed": 25781,
     "status": "ok",
     "timestamp": 1600059760116,
     "user": {
      "displayName": "Ur Tech Guide",
      "photoUrl": "https://lh3.googleusercontent.com/a-/AOh14GhBjMoWnc1KwT73B6hzAbvnSIxnZAl5PY9n_RGJ0w=s64",
      "userId": "03152431167485721857"
     },
     "user_tz": -300
    },
    "id": "P-LbJwNNVDEV",
    "outputId": "f1a8ce00-4f6f-4360-c2d0-88a96ab5ac2d"
   },
   "outputs": [
    {
     "data": {
      "text/plain": [
       "<AxesSubplot:>"
      ]
     },
     "execution_count": 14,
     "metadata": {},
     "output_type": "execute_result"
    },
    {
     "data": {
      "image/png": "[encoded data removed]",
      "text/plain": [
       "<Figure size 432x288 with 1 Axes>"
      ]
     },
     "metadata": {},
     "output_type": "display_data"
    }
   ],
   "source": [
    "df_train['3_way_label'].value_counts().plot(kind='bar')"
   ]
  },
  {
   "cell_type": "code",
   "execution_count": 15,
   "metadata": {
    "colab": {
     "base_uri": "https://localhost:8080/",
     "height": 280
    },
    "colab_type": "code",
    "executionInfo": {
     "elapsed": 25168,
     "status": "ok",
     "timestamp": 1600059760122,
     "user": {
      "displayName": "Ur Tech Guide",
      "photoUrl": "https://lh3.googleusercontent.com/a-/AOh14GhBjMoWnc1KwT73B6hzAbvnSIxnZAl5PY9n_RGJ0w=s64",
      "userId": "03152431167485721857"
     },
     "user_tz": -300
    },
    "id": "idm-3ScoVEuh",
    "outputId": "db526e2a-0a07-4249-8a32-8b44c721d80c"
   },
   "outputs": [
    {
     "data": {
      "text/plain": [
       "<AxesSubplot:>"
      ]
     },
     "execution_count": 15,
     "metadata": {},
     "output_type": "execute_result"
    },
    {
     "data": {
      "image/png": "[encoded data removed]",
      "text/plain": [
       "<Figure size 432x288 with 1 Axes>"
      ]
     },
     "metadata": {},
     "output_type": "display_data"
    }
   ],
   "source": [
    "df_train['6_way_label'].value_counts().plot(kind='bar')"
   ]
  },
  {
   "cell_type": "code",
   "execution_count": 16,
   "metadata": {
    "colab": {
     "base_uri": "https://localhost:8080/",
     "height": 280
    },
    "colab_type": "code",
    "executionInfo": {
     "elapsed": 24417,
     "status": "ok",
     "timestamp": 1600059760141,
     "user": {
      "displayName": "Ur Tech Guide",
      "photoUrl": "https://lh3.googleusercontent.com/a-/AOh14GhBjMoWnc1KwT73B6hzAbvnSIxnZAl5PY9n_RGJ0w=s64",
      "userId": "03152431167485721857"
     },
     "user_tz": -300
    },
    "id": "VD45iLaBVGey",
    "outputId": "cde1df79-7e9f-4187-99db-8dfd4493cd2f"
   },
   "outputs": [
    {
     "data": {
      "text/plain": [
       "<AxesSubplot:>"
      ]
     },
     "execution_count": 16,
     "metadata": {},
     "output_type": "execute_result"
    },
    {
     "data": {
      "image/png": "[encoded data removed]",
      "text/plain": [
       "<Figure size 432x288 with 1 Axes>"
      ]
     },
     "metadata": {},
     "output_type": "display_data"
    }
   ],
   "source": [
    "df_valid['2_way_label'].value_counts().plot(kind='bar')"
   ]
  },
  {
   "cell_type": "code",
   "execution_count": 17,
   "metadata": {
    "colab": {
     "base_uri": "https://localhost:8080/",
     "height": 280
    },
    "colab_type": "code",
    "executionInfo": {
     "elapsed": 23693,
     "status": "ok",
     "timestamp": 1600059760144,
     "user": {
      "displayName": "Ur Tech Guide",
      "photoUrl": "https://lh3.googleusercontent.com/a-/AOh14GhBjMoWnc1KwT73B6hzAbvnSIxnZAl5PY9n_RGJ0w=s64",
      "userId": "03152431167485721857"
     },
     "user_tz": -300
    },
    "id": "nboqKRr0WaqV",
    "outputId": "66e7ed7c-7dbd-4bfc-dd9e-38c8e8980fbc"
   },
   "outputs": [
    {
     "data": {
      "text/plain": [
       "<AxesSubplot:>"
      ]
     },
     "execution_count": 17,
     "metadata": {},
     "output_type": "execute_result"
    },
    {
     "data": {
      "image/png": "[encoded data removed]",
      "text/plain": [
       "<Figure size 432x288 with 1 Axes>"
      ]
     },
     "metadata": {},
     "output_type": "display_data"
    }
   ],
   "source": [
    "df_valid['3_way_label'].value_counts().plot(kind='bar')"
   ]
  },
  {
   "cell_type": "code",
   "execution_count": 18,
   "metadata": {
    "colab": {
     "base_uri": "https://localhost:8080/",
     "height": 280
    },
    "colab_type": "code",
    "executionInfo": {
     "elapsed": 24448,
     "status": "ok",
     "timestamp": 1600059761838,
     "user": {
      "displayName": "Ur Tech Guide",
      "photoUrl": "https://lh3.googleusercontent.com/a-/AOh14GhBjMoWnc1KwT73B6hzAbvnSIxnZAl5PY9n_RGJ0w=s64",
      "userId": "03152431167485721857"
     },
     "user_tz": -300
    },
    "id": "ONFm7OsgWbHT",
    "outputId": "f7e3b558-cd56-4215-9486-b1df9f2aaf2d"
   },
   "outputs": [
    {
     "data": {
      "text/plain": [
       "<AxesSubplot:>"
      ]
     },
     "execution_count": 18,
     "metadata": {},
     "output_type": "execute_result"
    },
    {
     "data": {
      "image/png": "[encoded data removed]",
      "text/plain": [
       "<Figure size 432x288 with 1 Axes>"
      ]
     },
     "metadata": {},
     "output_type": "display_data"
    }
   ],
   "source": [
    "df_valid['6_way_label'].value_counts().plot(kind='bar')"
   ]
  },
  {
   "cell_type": "code",
   "execution_count": 19,
   "metadata": {
    "colab": {},
    "colab_type": "code",
    "id": "eLt35LyoWfnF"
   },
   "outputs": [],
   "source": [
    "def seed_everything(seed):\n",
    "  random.seed(seed)\n",
    "  tf.compat.v1.set_random_seed(seed)\n",
    "  tf.random.set_seed(seed)\n",
    "seed_everything(123)"
   ]
  },
  {
   "cell_type": "code",
   "execution_count": 20,
   "metadata": {
    "colab": {
     "base_uri": "https://localhost:8080/",
     "height": 745
    },
    "colab_type": "code",
    "executionInfo": {
     "elapsed": 26525,
     "status": "ok",
     "timestamp": 1600059777041,
     "user": {
      "displayName": "Ur Tech Guide",
      "photoUrl": "https://lh3.googleusercontent.com/a-/AOh14GhBjMoWnc1KwT73B6hzAbvnSIxnZAl5PY9n_RGJ0w=s64",
      "userId": "03152431167485721857"
     },
     "user_tz": -300
    },
    "id": "7nFkqWrrWj7C",
    "outputId": "c3f08377-932f-4bf5-d2a9-ac9af13a557a"
   },
   "outputs": [],
   "source": [
    "# Detect hardware, return appropriate distribution strategy\n",
    "try:\n",
    "    # TPU detection. No parameters necessary if TPU_NAME environment variable is\n",
    "    # set: this is always the case on Kaggle.\n",
    "    tpu = tf.distribute.cluster_resolver.TPUClusterResolver()\n",
    "    print('Running on TPU ', tpu.master())\n",
    "except ValueError:\n",
    "    tpu = None\n",
    "\n",
    "if tpu:\n",
    "    tf.config.experimental_connect_to_cluster(tpu)\n",
    "    tf.tpu.experimental.initialize_tpu_system(tpu)\n",
    "    strategy = tf.distribute.TPUStrategy(tpu)\n",
    "else:\n",
    "    # Default distribution strategy in Tensorflow. Works on CPU and single GPU.\n",
    "    strategy = tf.distribute.get_strategy()"
   ]
  },
  {
   "cell_type": "code",
   "execution_count": 21,
   "metadata": {
    "colab": {},
    "colab_type": "code",
    "id": "ugBMZX4wWk-U"
   },
   "outputs": [],
   "source": [
    "def fast_tokenization(text,encode_plus=False):\n",
    "  attention_mask=[]\n",
    "  input_ids=[]\n",
    "  for instance in tqdm(text,desc='Tokenization Process'):\n",
    "    if encode_plus:\n",
    "      token_out=fast_tokenizer.encode_plus(instance,return_attention_mask=True,padding='max_length',truncation=True,max_length=MAX_LEN)\n",
    "      input_ids.append(token_out['input_ids'])\n",
    "      attention_mask.append(token_out['attention_mask'])\n",
    "    else:\n",
    "      token_out=fast_tokenizer.encode(instance)\n",
    "      input_ids.append(token_out.ids)\n",
    "      attention_mask.append(token_out.attention_mask)\n",
    "  return input_ids,attention_mask"
   ]
  },
  {
   "cell_type": "code",
   "execution_count": 22,
   "metadata": {
    "colab": {},
    "colab_type": "code",
    "id": "r6t3AFC7WmVV"
   },
   "outputs": [],
   "source": [
    "X_train={}\n",
    "X_valid={}\n",
    "X_test={}"
   ]
  },
  {
   "cell_type": "code",
   "execution_count": 23,
   "metadata": {
    "colab": {},
    "colab_type": "code",
    "id": "NFvGNbHtWnej"
   },
   "outputs": [],
   "source": [
    "def stop_word_removal(text):\n",
    "  stop_word=['The','the','a','A','An','an']\n",
    "  tokenized_sentence=word_tokenize(text)\n",
    "  final_tokenized_sentence=[]\n",
    "  for word in tokenized_sentence:\n",
    "    if word not in stop_word:\n",
    "        final_tokenized_sentence.append(word)\n",
    "  final_tokenized_sentence=' '.join(final_tokenized_sentence)\n",
    "  return final_tokenized_sentence"
   ]
  },
  {
   "cell_type": "code",
   "execution_count": 24,
   "metadata": {
    "colab": {
     "base_uri": "https://localhost:8080/",
     "height": 173
    },
    "colab_type": "code",
    "executionInfo": {
     "elapsed": 18260,
     "status": "ok",
     "timestamp": 1600059777048,
     "user": {
      "displayName": "Ur Tech Guide",
      "photoUrl": "https://lh3.googleusercontent.com/a-/AOh14GhBjMoWnc1KwT73B6hzAbvnSIxnZAl5PY9n_RGJ0w=s64",
      "userId": "03152431167485721857"
     },
     "user_tz": -300
    },
    "id": "xqmuRTZMWsdd",
    "outputId": "50a5afcf-f946-4569-e267-45aaaed89c0d"
   },
   "outputs": [
    {
     "data": {
      "text/plain": [
       "clean_title      75429\n",
       "num_comments    242100\n",
       "score                0\n",
       "subreddit            0\n",
       "upvote_ratio    242100\n",
       "2_way_label          0\n",
       "3_way_label          0\n",
       "6_way_label          0\n",
       "dtype: int64"
      ]
     },
     "execution_count": 24,
     "metadata": {},
     "output_type": "execute_result"
    }
   ],
   "source": [
    "df_train.isnull().sum()"
   ]
  },
  {
   "cell_type": "code",
   "execution_count": 25,
   "metadata": {
    "colab": {},
    "colab_type": "code",
    "id": "eJT2KHENWo5i"
   },
   "outputs": [],
   "source": [
    "df_train.fillna('[UNK]',inplace=True)\n",
    "df_valid.fillna('[UNK]',inplace=True)\n",
    "df_test.fillna('[UNK]',inplace=True)"
   ]
  },
  {
   "cell_type": "code",
   "execution_count": 26,
   "metadata": {
    "colab": {
     "base_uri": "https://localhost:8080/",
     "height": 202
    },
    "colab_type": "code",
    "executionInfo": {
     "elapsed": 17627,
     "status": "ok",
     "timestamp": 1600059778064,
     "user": {
      "displayName": "Ur Tech Guide",
      "photoUrl": "https://lh3.googleusercontent.com/a-/AOh14GhBjMoWnc1KwT73B6hzAbvnSIxnZAl5PY9n_RGJ0w=s64",
      "userId": "03152431167485721857"
     },
     "user_tz": -300
    },
    "id": "Z1ykkNYXXDn6",
    "outputId": "7268f4df-67eb-4d3c-9110-84fb5efa765f"
   },
   "outputs": [
    {
     "data": {
      "text/html": [
       "<div>\n",
       "<style scoped>\n",
       "    .dataframe tbody tr th:only-of-type {\n",
       "        vertical-align: middle;\n",
       "    }\n",
       "\n",
       "    .dataframe tbody tr th {\n",
       "        vertical-align: top;\n",
       "    }\n",
       "\n",
       "    .dataframe thead th {\n",
       "        text-align: right;\n",
       "    }\n",
       "</style>\n",
       "<table border=\"1\" class=\"dataframe\">\n",
       "  <thead>\n",
       "    <tr style=\"text-align: right;\">\n",
       "      <th></th>\n",
       "      <th>clean_title</th>\n",
       "      <th>num_comments</th>\n",
       "      <th>score</th>\n",
       "      <th>subreddit</th>\n",
       "      <th>upvote_ratio</th>\n",
       "      <th>2_way_label</th>\n",
       "      <th>3_way_label</th>\n",
       "      <th>6_way_label</th>\n",
       "    </tr>\n",
       "  </thead>\n",
       "  <tbody>\n",
       "    <tr>\n",
       "      <th>0</th>\n",
       "      <td>my walgreens offbrand mucinex was engraved wit...</td>\n",
       "      <td>2.0</td>\n",
       "      <td>12</td>\n",
       "      <td>mildlyinteresting</td>\n",
       "      <td>0.84</td>\n",
       "      <td>1</td>\n",
       "      <td>0</td>\n",
       "      <td>0</td>\n",
       "    </tr>\n",
       "    <tr>\n",
       "      <th>1</th>\n",
       "      <td>[UNK]</td>\n",
       "      <td>[UNK]</td>\n",
       "      <td>5</td>\n",
       "      <td>psbattle_artwork</td>\n",
       "      <td>[UNK]</td>\n",
       "      <td>0</td>\n",
       "      <td>2</td>\n",
       "      <td>4</td>\n",
       "    </tr>\n",
       "    <tr>\n",
       "      <th>2</th>\n",
       "      <td>this concerned sink with a tiny hat</td>\n",
       "      <td>2.0</td>\n",
       "      <td>119</td>\n",
       "      <td>pareidolia</td>\n",
       "      <td>0.99</td>\n",
       "      <td>0</td>\n",
       "      <td>2</td>\n",
       "      <td>2</td>\n",
       "    </tr>\n",
       "    <tr>\n",
       "      <th>3</th>\n",
       "      <td>hackers leak emails from uae ambassador to us</td>\n",
       "      <td>1.0</td>\n",
       "      <td>44</td>\n",
       "      <td>neutralnews</td>\n",
       "      <td>0.92</td>\n",
       "      <td>1</td>\n",
       "      <td>0</td>\n",
       "      <td>0</td>\n",
       "    </tr>\n",
       "    <tr>\n",
       "      <th>4</th>\n",
       "      <td>[UNK]</td>\n",
       "      <td>[UNK]</td>\n",
       "      <td>3</td>\n",
       "      <td>psbattle_artwork</td>\n",
       "      <td>[UNK]</td>\n",
       "      <td>0</td>\n",
       "      <td>2</td>\n",
       "      <td>4</td>\n",
       "    </tr>\n",
       "  </tbody>\n",
       "</table>\n",
       "</div>"
      ],
      "text/plain": [
       "                                         clean_title num_comments  score  \\\n",
       "0  my walgreens offbrand mucinex was engraved wit...          2.0     12   \n",
       "1                                              [UNK]        [UNK]      5   \n",
       "2                this concerned sink with a tiny hat          2.0    119   \n",
       "3      hackers leak emails from uae ambassador to us          1.0     44   \n",
       "4                                              [UNK]        [UNK]      3   \n",
       "\n",
       "           subreddit upvote_ratio  2_way_label  3_way_label  6_way_label  \n",
       "0  mildlyinteresting         0.84            1            0            0  \n",
       "1   psbattle_artwork        [UNK]            0            2            4  \n",
       "2         pareidolia         0.99            0            2            2  \n",
       "3        neutralnews         0.92            1            0            0  \n",
       "4   psbattle_artwork        [UNK]            0            2            4  "
      ]
     },
     "execution_count": 26,
     "metadata": {},
     "output_type": "execute_result"
    }
   ],
   "source": [
    "df_train.head()"
   ]
  },
  {
   "cell_type": "code",
   "execution_count": 27,
   "metadata": {
    "colab": {},
    "colab_type": "code",
    "id": "F1vXpGjUZPNZ"
   },
   "outputs": [],
   "source": [
    "object_column=['num_comments','score','upvote_ratio']\n",
    "for column in object_column:\n",
    "  df_train[column]=df_train[column].map(lambda x:str(x))\n",
    "  df_valid[column]=df_valid[column].map(lambda x:str(x))\n",
    "  df_test[column]=df_test[column].map(lambda x:str(x))"
   ]
  },
  {
   "cell_type": "code",
   "execution_count": 28,
   "metadata": {
    "colab": {},
    "colab_type": "code",
    "id": "LwXxPIzsW3hy"
   },
   "outputs": [],
   "source": [
    "df_train['combine_text_tokenize']=df_train['clean_title']+' ,Comments Count: '+df_train['num_comments']+' ,Score: '+df_train['score']+' ,Subreddit: '+df_train['subreddit']+' ,Upvotes: '+df_train['upvote_ratio']\n",
    "df_valid['combine_text_tokenize']=df_valid['clean_title']+' ,Comments Count: '+df_valid['num_comments']+' ,Score: '+df_valid['score']+' ,Subreddit: '+df_valid['subreddit']+' ,Upvotes: '+df_valid['upvote_ratio']\n",
    "df_test['combine_text_tokenize']=df_test['clean_title']+' ,Comments Count: '+df_test['num_comments']+' ,Score: '+df_test['score']+' ,Subreddit: '+df_test['subreddit']+' ,Upvotes: '+df_test['upvote_ratio']"
   ]
  },
  {
   "cell_type": "code",
   "execution_count": 29,
   "metadata": {
    "colab": {
     "base_uri": "https://localhost:8080/",
     "height": 34
    },
    "colab_type": "code",
    "executionInfo": {
     "elapsed": 18430,
     "status": "ok",
     "timestamp": 1600059781590,
     "user": {
      "displayName": "Ur Tech Guide",
      "photoUrl": "https://lh3.googleusercontent.com/a-/AOh14GhBjMoWnc1KwT73B6hzAbvnSIxnZAl5PY9n_RGJ0w=s64",
      "userId": "03152431167485721857"
     },
     "user_tz": -300
    },
    "id": "6Cw_YDg2Xlw1",
    "outputId": "cab3eb7f-0157-4c44-ab30-ec9c606de244"
   },
   "outputs": [
    {
     "data": {
      "text/plain": [
       "'why do we think that sex is a binary experience ,Comments Count: 81.0 ,Score: 2 ,Subreddit: subsimulatorgpt2 ,Upvotes: 0.76'"
      ]
     },
     "execution_count": 29,
     "metadata": {},
     "output_type": "execute_result"
    }
   ],
   "source": [
    "df_train.iloc[100,-1]"
   ]
  },
  {
   "cell_type": "code",
   "execution_count": 30,
   "metadata": {
    "colab": {},
    "colab_type": "code",
    "id": "DOtO6uHzZwgk"
   },
   "outputs": [],
   "source": [
    "df_train['combine_text_tokenize']=df_train['combine_text_tokenize'].map(stop_word_removal)\n",
    "df_valid['combine_text_tokenize']=df_valid['combine_text_tokenize'].map(stop_word_removal)\n",
    "df_test['combine_text_tokenize']=df_test['combine_text_tokenize'].map(stop_word_removal)"
   ]
  },
  {
   "cell_type": "code",
   "execution_count": 31,
   "metadata": {
    "colab": {},
    "colab_type": "code",
    "id": "W8lnMm3waB5t"
   },
   "outputs": [],
   "source": [
    "class WarmUp(tf.keras.optimizers.schedules.LearningRateSchedule):\n",
    "    \"\"\"\n",
    "    Applies a warmup schedule on a given learning rate decay schedule.\n",
    "\n",
    "    Args:\n",
    "        initial_learning_rate (:obj:`float`):\n",
    "            The initial learning rate for the schedule after the warmup (so this will be the learning rate at the end\n",
    "            of the warmup).\n",
    "        decay_schedule_fn (:obj:`Callable`):\n",
    "            The schedule function to apply after the warmup for the rest of training.\n",
    "        warmup_steps (:obj:`int`):\n",
    "            The number of steps for the warmup part of training.\n",
    "        power (:obj:`float`, `optional`, defaults to 1):\n",
    "            The power to use for the polynomial warmup (defaults is a linear warmup).\n",
    "        name (:obj:`str`, `optional`):\n",
    "            Optional name prefix for the returned tensors during the schedule.\n",
    "    \"\"\"\n",
    "\n",
    "    def __init__(\n",
    "        self,\n",
    "        initial_learning_rate: float,\n",
    "        decay_schedule_fn: Callable,\n",
    "        warmup_steps: int,\n",
    "        power: float = 1.0,\n",
    "        name: str = None,\n",
    "    ):\n",
    "        super().__init__()\n",
    "        self.initial_learning_rate = initial_learning_rate\n",
    "        self.warmup_steps = warmup_steps\n",
    "        self.power = power\n",
    "        self.decay_schedule_fn = decay_schedule_fn\n",
    "        self.name = name\n",
    "\n",
    "    def __call__(self, step):\n",
    "        with tf.name_scope(self.name or \"WarmUp\") as name:\n",
    "\n",
    "            global_step_float = tf.cast(step, tf.float32)\n",
    "            warmup_steps_float = tf.cast(self.warmup_steps, tf.float32)\n",
    "            warmup_percent_done = global_step_float / warmup_steps_float\n",
    "            warmup_learning_rate = self.initial_learning_rate * tf.math.pow(warmup_percent_done, self.power)\n",
    "            return tf.cond(\n",
    "                global_step_float < warmup_steps_float,\n",
    "                lambda: warmup_learning_rate,\n",
    "                lambda: self.decay_schedule_fn(step - self.warmup_steps),\n",
    "                name=name,\n",
    "            )\n",
    "\n",
    "    def get_config(self):\n",
    "        return {\n",
    "            \"initial_learning_rate\": self.initial_learning_rate,\n",
    "            \"decay_schedule_fn\": self.decay_schedule_fn,\n",
    "            \"warmup_steps\": self.warmup_steps,\n",
    "            \"power\": self.power,\n",
    "            \"name\": self.name,\n",
    "        }\n",
    "\n",
    "\n",
    "\n",
    "def create_optimizer(\n",
    "    init_lr: float,\n",
    "    num_train_steps: int,\n",
    "    num_warmup_steps: int,\n",
    "    min_lr_ratio: float = 0.0,\n",
    "    adam_epsilon: float = 1e-8,\n",
    "    weight_decay_rate: float = 0.0,\n",
    "    include_in_weight_decay: Optional[List[str]] = None,schedule='linear',\n",
    "):\n",
    "    \"\"\"\n",
    "    Creates an optimizer with a learning rate schedule using a warmup phase followed by a linear decay.\n",
    "\n",
    "    Args:\n",
    "        init_lr (:obj:`float`):\n",
    "            The desired learning rate at the end of the warmup phase.\n",
    "        num_train_step (:obj:`int`):\n",
    "            The total number of training steps.\n",
    "        num_warmup_steps (:obj:`int`):\n",
    "            The number of warmup steps.\n",
    "        min_lr_ratio (:obj:`float`, `optional`, defaults to 0):\n",
    "            The final learning rate at the end of the linear decay will be :obj:`init_lr * min_lr_ratio`.\n",
    "        adam_epsilon (:obj:`float`, `optional`, defaults to 1e-8):\n",
    "            The epsilon to use in Adam.\n",
    "        weight_decay_rate (:obj:`float`, `optional`, defaults to 0):\n",
    "            The weight decay to use.\n",
    "        include_in_weight_decay (:obj:`List[str]`, `optional`):\n",
    "            List of the parameter names (or re patterns) to apply weight decay to. If none is passed, weight decay is\n",
    "            applied to all parameters except bias and layer norm parameters.\n",
    "    \"\"\"\n",
    "    # Implements linear decay of the learning rate.\n",
    "    if schedule=='linear':\n",
    "      lr_schedule = tf.keras.optimizers.schedules.PolynomialDecay(\n",
    "          initial_learning_rate=init_lr,\n",
    "          decay_steps=num_train_steps - num_warmup_steps,\n",
    "          end_learning_rate=init_lr * min_lr_ratio,\n",
    "      )\n",
    "    else:\n",
    "      lr_schedule=tf.keras.experimental.CosineDecay(\n",
    "      initial_learning_rate=init_lr, decay_steps=num_train_steps - num_warmup_steps, alpha=0.0, name=None)\n",
    "      \n",
    "    if num_warmup_steps:\n",
    "        lr_schedule = WarmUp(\n",
    "            initial_learning_rate=init_lr, decay_schedule_fn=lr_schedule, warmup_steps=num_warmup_steps,\n",
    "        )\n",
    "    if weight_decay_rate > 0.0:\n",
    "        optimizer = AdamWeightDecay(\n",
    "            learning_rate=lr_schedule,\n",
    "            weight_decay_rate=weight_decay_rate,\n",
    "            beta_1=0.9,\n",
    "            beta_2=0.999,\n",
    "            epsilon=adam_epsilon,\n",
    "            exclude_from_weight_decay=[\"LayerNorm\", \"layer_norm\", \"bias\"],\n",
    "            include_in_weight_decay=include_in_weight_decay,\n",
    "        )\n",
    "    else:\n",
    "        optimizer = tf.keras.optimizers.Adam(learning_rate=lr_schedule, epsilon=adam_epsilon)\n",
    "    # We return the optimizer and the LR scheduler in order to better track the\n",
    "    # evolution of the LR independently of the optimizer.\n",
    "    return optimizer, lr_schedule"
   ]
  },
  {
   "cell_type": "code",
   "execution_count": 32,
   "metadata": {
    "colab": {},
    "colab_type": "code",
    "id": "HPm9D1vxaHcB"
   },
   "outputs": [],
   "source": [
    "class LossHistory(tf.keras.callbacks.Callback):\n",
    "    def on_train_begin(self, logs={}):\n",
    "        self.losses = []\n",
    "    def on_batch_end(self, batch, logs={}):\n",
    "        self.losses.append(logs.get('loss'))"
   ]
  },
  {
   "cell_type": "code",
   "execution_count": 33,
   "metadata": {
    "colab": {},
    "colab_type": "code",
    "id": "E0RdTLzwaJ_h"
   },
   "outputs": [],
   "source": [
    "def accuracy(y_true,y_pred,name):\n",
    "  y_true=np.argmax(y_true,axis=1)\n",
    "  y_pred=np.argmax(y_pred,axis=1)\n",
    "  accuracy=accuracy_score(y_true,y_pred)\n",
    "  print('The accuracy of the model {} is Accuracy: {:.3%}'.format(name,accuracy))\n",
    "  print(classification_report(y_true, y_pred, target_names=['True','Satire/Parody','Misleading Content','Imposter Content','False Connection','Manipulated Content']))"
   ]
  },
  {
   "cell_type": "code",
   "execution_count": 34,
   "metadata": {
    "colab": {},
    "colab_type": "code",
    "id": "JPEIsmOLaLnh"
   },
   "outputs": [],
   "source": [
    "def f1_score_m(y_true,y_pred,name):\n",
    "  y_true=np.argmax(y_true,axis=1)\n",
    "  y_pred=np.argmax(y_pred,axis=1)\n",
    "  f1_m=f1_score(y_true,y_pred,average='macro')\n",
    "  print('The F1-M Score of the model {} is F-1-Score: {:.3%}'.format(name,f1_m))"
   ]
  },
  {
   "cell_type": "code",
   "execution_count": 35,
   "metadata": {
    "colab": {},
    "colab_type": "code",
    "id": "3HC-GfotaNWg"
   },
   "outputs": [],
   "source": [
    "colors = plt.rcParams['axes.prop_cycle'].by_key()['color']\n",
    "\n",
    "def plot_loss(history,main_title):\n",
    "# Use a log scale to show the wide range of values.\n",
    "    plt.figure(figsize=(12,10))\n",
    "    plt.semilogy(list(range(len(history))),  history,\n",
    "               color='blue', label='Training')\n",
    "    plt.title(main_title)\n",
    "    plt.xlabel('Logging Step')\n",
    "    plt.ylabel('Loss')\n",
    "  \n",
    "    plt.legend(title=\"Log Loss\")\n",
    "    \n",
    "    \n",
    "def plot_cm(y_true, y_pred, title):\n",
    "    ''''\n",
    "    input y_true-Ground Truth Labels\n",
    "          y_pred-Predicted Value of Model\n",
    "          title-What Title to give to the confusion matrix\n",
    "    \n",
    "    Draws a Confusion Matrix for better understanding of how the model is working\n",
    "    \n",
    "    return None\n",
    "    \n",
    "    '''\n",
    "    \n",
    "    figsize=(10,10)\n",
    "    y_true=np.argmax(y_true,axis=1)\n",
    "    y_pred=np.argmax(y_pred,axis=1)\n",
    "    cm = confusion_matrix(y_true, y_pred, labels=np.unique(y_true))\n",
    "    cm_sum = np.sum(cm, axis=1, keepdims=True)\n",
    "    cm_perc = cm / cm_sum.astype(float) * 100\n",
    "    annot = np.empty_like(cm).astype(str)\n",
    "    nrows, ncols = cm.shape\n",
    "    for i in range(nrows):\n",
    "        for j in range(ncols):\n",
    "            c = cm[i, j]\n",
    "            p = cm_perc[i, j]\n",
    "            if i == j:\n",
    "                s = cm_sum[i]\n",
    "                annot[i, j] = '%.1f%%\\n%d/%d' % (p, c, s)\n",
    "            elif c == 0:\n",
    "                annot[i, j] = ''\n",
    "            else:\n",
    "                annot[i, j] = '%.1f%%\\n%d' % (p, c)\n",
    "    cm = pd.DataFrame(cm, index=np.unique(y_true), columns=np.unique(y_true))\n",
    "    cm.index.name = 'Actual'\n",
    "    cm.columns.name = 'Predicted'\n",
    "    fig, ax = plt.subplots(figsize=figsize)\n",
    "    plt.title(title)\n",
    "    sns.heatmap(cm, cmap= \"YlGnBu\", annot=annot, fmt='', ax=ax)"
   ]
  },
  {
   "cell_type": "code",
   "execution_count": 36,
   "metadata": {
    "colab": {},
    "colab_type": "code",
    "id": "ImD1qOJdaPeA"
   },
   "outputs": [],
   "source": [
    "true_labels=['true','half-true','barely-true','mostly-true']\n",
    "false_labels=['false','pants-fire']\n",
    "high_score_labels=[]\n",
    "\n",
    "def score_submission(gold_labels, test_labels):\n",
    "    score = 0.0\n",
    "    for i, (g, t) in enumerate(zip(gold_labels, test_labels)):\n",
    "        g_stance, t_stance = g, t\n",
    "        if g_stance == t_stance:\n",
    "            score += 0.25\n",
    "            if g_stance in high_score_labels:\n",
    "                score += 0.50\n",
    "        if g_stance in true_labels and t_stance in true_labels:\n",
    "            score += 0.1\n",
    "        elif g_stance in false_labels and t_stance in false_labels:\n",
    "            score += 0.1\n",
    "        \n",
    "\n",
    "    return score\n",
    "\n",
    "def report_score(actual,predicted,name):\n",
    "    actual=np.argmax(actual,axis=1)\n",
    "    predicted=np.argmax(predicted,axis=1)\n",
    "    score = score_submission(actual,predicted)\n",
    "    best_score = score_submission(actual,actual)\n",
    "    print('For Model {}'.format(name))\n",
    "    print(\"Score: \" +str(score) + \" out of \" + str(best_score) + \"\\t(\"+str(score*100/best_score) + \"%)\")\n",
    "    return score*100/best_score"
   ]
  },
  {
   "cell_type": "code",
   "execution_count": 37,
   "metadata": {
    "colab": {},
    "colab_type": "code",
    "id": "o6SDnBgRaRZQ"
   },
   "outputs": [],
   "source": [
    "def tensorflow_make_train_valid_data(X_train,y_train,X_valid,y_valid,test=False):\n",
    "\n",
    "      train = (\n",
    "          tf.data.Dataset\n",
    "          .from_tensor_slices((X_train, y_train))\n",
    "          .repeat()\n",
    "          .shuffle(1024)\n",
    "          .batch(BATCH_SIZE)\n",
    "          .prefetch(AUTO))\n",
    "\n",
    "      valid = (\n",
    "          tf.data.Dataset\n",
    "          .from_tensor_slices((X_valid, y_valid))\n",
    "          .batch(BATCH_SIZE)\n",
    "          .cache()\n",
    "          .prefetch(AUTO)\n",
    "      )\n",
    "      return train,valid"
   ]
  },
  {
   "cell_type": "code",
   "execution_count": 38,
   "metadata": {
    "colab": {},
    "colab_type": "code",
    "id": "KPjhBBKNaTGA"
   },
   "outputs": [],
   "source": [
    "def make_test_data(X_test):\n",
    "    test = (\n",
    "          tf.data.Dataset\n",
    "          .from_tensor_slices(X_test)\n",
    "          .batch(BATCH_SIZE)\n",
    "      )\n",
    "    return test"
   ]
  },
  {
   "cell_type": "code",
   "execution_count": 39,
   "metadata": {
    "colab": {},
    "colab_type": "code",
    "id": "XZuIQCt2dkzC"
   },
   "outputs": [],
   "source": [
    "def sample_df_train(df_train,types,frac):\n",
    "    df_train=df_train.groupby(types).apply(pd.DataFrame.sample, frac=frac).reset_index(level=types, drop=True)## Sampling due to memeory Constraints-Taking a stratified sample to maintain the orginal label distribution\n",
    "    y_train=np.array(tf.keras.utils.to_categorical(df_train[types].values))\n",
    "    y_valid=np.array(tf.keras.utils.to_categorical(df_valid[types].values))\n",
    "    return df_train,y_train,y_valid"
   ]
  },
  {
   "cell_type": "code",
   "execution_count": 40,
   "metadata": {
    "colab": {},
    "colab_type": "code",
    "id": "mKHkdhkhfRN-"
   },
   "outputs": [],
   "source": [
    "df_train,y_train,y_valid=sample_df_train(df_train=df_train,types='6_way_label',frac=0.3)"
   ]
  },
  {
   "cell_type": "code",
   "execution_count": 41,
   "metadata": {
    "colab": {
     "base_uri": "https://localhost:8080/",
     "height": 136,
     "referenced_widgets": [
      "85eae2d9a15c4c118bc4b5dc8326edd8",
      "58024910757643d28c5c5a060fddb294",
      "fcd5b8fc04594bb09dc45e2780ed05cf",
      "a8357219b8944ed7b748a0bc16a438fa",
      "ee65ac5fa02d457f8e4116323b24dcca",
      "cc67e61de8f142a2bd4d47a97fc600d3",
      "883bed67f5ec44e1b65201e2a02c438c",
      "d3802d9da60b49b2afc3fb8016823ccc"
     ]
    },
    "colab_type": "code",
    "executionInfo": {
     "elapsed": 287160,
     "status": "ok",
     "timestamp": 1600060058442,
     "user": {
      "displayName": "Ur Tech Guide",
      "photoUrl": "https://lh3.googleusercontent.com/a-/AOh14GhBjMoWnc1KwT73B6hzAbvnSIxnZAl5PY9n_RGJ0w=s64",
      "userId": "03152431167485721857"
     },
     "user_tz": -300
    },
    "id": "DzUXFJ8WaUnR",
    "outputId": "f3f79b94-13e5-4768-dbdc-d839e0cd7c61"
   },
   "outputs": [
    {
     "name": "stderr",
     "output_type": "stream",
     "text": [
      "Tokenization Process: 100%|██████████| 263466/263466 [00:37<00:00, 7051.77it/s]\n",
      "Tokenization Process: 100%|██████████| 92444/92444 [00:13<00:00, 6927.99it/s]\n",
      "Tokenization Process: 100%|██████████| 92444/92444 [00:12<00:00, 7131.66it/s]\n"
     ]
    },
    {
     "data": {
      "text/plain": [
       "26"
      ]
     },
     "execution_count": 41,
     "metadata": {},
     "output_type": "execute_result"
    }
   ],
   "source": [
    "fast_tokenizer = DistilBertTokenizerFast.from_pretrained(\"distilbert-base-uncased\")._tokenizer\n",
    "fast_tokenizer.enable_padding(length=MAX_LEN)\n",
    "fast_tokenizer.enable_truncation(max_length=MAX_LEN)\n",
    "\n",
    "\n",
    "input_ids_distill_bert,attention_mask_distill_bert=fast_tokenization(df_train['combine_text_tokenize'].values)\n",
    "X_train['input_ids_distill_bert'],X_train['attention_mask_distill_bert']=input_ids_distill_bert,attention_mask_distill_bert\n",
    "del input_ids_distill_bert\n",
    "del attention_mask_distill_bert\n",
    "gc.collect()\n",
    "input_ids_distill_bert,attention_mask_distill_bert=fast_tokenization(df_valid['combine_text_tokenize'].values)\n",
    "X_valid['input_ids_distill_bert'],X_valid['attention_mask_distill_bert']=input_ids_distill_bert,attention_mask_distill_bert\n",
    "del input_ids_distill_bert\n",
    "del attention_mask_distill_bert\n",
    "gc.collect()\n",
    "input_ids_distill_bert,attention_mask_distill_bert=fast_tokenization(df_test['combine_text_tokenize'].values)\n",
    "\n",
    "X_test['input_ids_distill_bert'],X_test['attention_mask_distill_bert']=input_ids_distill_bert,attention_mask_distill_bert\n",
    "del input_ids_distill_bert\n",
    "del attention_mask_distill_bert\n",
    "gc.collect()"
   ]
  },
  {
   "cell_type": "code",
   "execution_count": 42,
   "metadata": {
    "colab": {
     "base_uri": "https://localhost:8080/",
     "height": 185,
     "referenced_widgets": [
      "21244c7303354d00994dce452900f585",
      "853f99f0b1324462a4b6369ddb85a944",
      "9acf882e000043308e6e118668f49401",
      "aa829a6f9aa14d16a4f7382bf8adbbd3",
      "3945cacfef6248b58d7860a4fe7ef1ad",
      "c6fb884ae6a74148b3940993545db76f",
      "07a0f59916cf4f1d9cb02ce3a63b8559",
      "d211e2ca01264a82a31bc1a218dd5182",
      "4b804d3e745a491a9650b6c344dc0cc6",
      "577c03bfb1cb4e37ac2360cbf5cef96e",
      "5bf5f17ee8cc4f08a562ca8f7811bab1",
      "508433df2dc14b71a4218afe22eb9e2a",
      "9f0af75fc2b04701813a52799664f0b9",
      "5e531259734f40e89262abea7e54c9bd",
      "fc1a0b61fd184ec88d70fe46f6b1d4af",
      "d4c9d73d0b4a4b58b7bba6fcb5854098"
     ]
    },
    "colab_type": "code",
    "executionInfo": {
     "elapsed": 396552,
     "status": "ok",
     "timestamp": 1600060169131,
     "user": {
      "displayName": "Ur Tech Guide",
      "photoUrl": "https://lh3.googleusercontent.com/a-/AOh14GhBjMoWnc1KwT73B6hzAbvnSIxnZAl5PY9n_RGJ0w=s64",
      "userId": "03152431167485721857"
     },
     "user_tz": -300
    },
    "id": "Q9GgMb5qaW03",
    "outputId": "92a065a6-d4e6-4f44-e510-d34d74610fad"
   },
   "outputs": [
    {
     "name": "stderr",
     "output_type": "stream",
     "text": [
      "Tokenization Process: 100%|██████████| 263466/263466 [00:57<00:00, 4556.16it/s]\n",
      "Tokenization Process: 100%|██████████| 92444/92444 [00:22<00:00, 4037.06it/s]\n",
      "Tokenization Process: 100%|██████████| 92444/92444 [00:23<00:00, 3862.51it/s]\n"
     ]
    },
    {
     "data": {
      "text/plain": [
       "26"
      ]
     },
     "execution_count": 42,
     "metadata": {},
     "output_type": "execute_result"
    }
   ],
   "source": [
    "fast_tokenizer = GPT2TokenizerFast.from_pretrained(\"distilgpt2\")._tokenizer\n",
    "fast_tokenizer.enable_padding(length=MAX_LEN)\n",
    "fast_tokenizer.enable_truncation(max_length=MAX_LEN)\n",
    "\n",
    "input_ids_gpt_2,attention_mask_gpt_2=fast_tokenization(df_train['combine_text_tokenize'].values)\n",
    "\n",
    "\n",
    "X_train['input_ids_gpt_2'],X_train['attention_mask_gpt_2']=input_ids_gpt_2,attention_mask_gpt_2\n",
    "del input_ids_gpt_2\n",
    "del attention_mask_gpt_2\n",
    "gc.collect()\n",
    "input_ids_gpt_2,attention_mask_gpt_2=fast_tokenization(df_valid['combine_text_tokenize'].values)\n",
    "X_valid['input_ids_gpt_2'],X_valid['attention_mask_gpt_2']=input_ids_gpt_2,attention_mask_gpt_2\n",
    "del input_ids_gpt_2\n",
    "del attention_mask_gpt_2\n",
    "gc.collect()\n",
    "input_ids_gpt_2,attention_mask_gpt_2=fast_tokenization(df_test['combine_text_tokenize'].values)\n",
    "X_test['input_ids_gpt_2'],X_test['attention_mask_gpt_2']=input_ids_gpt_2,attention_mask_gpt_2\n",
    "del input_ids_gpt_2\n",
    "del attention_mask_gpt_2\n",
    "gc.collect()"
   ]
  },
  {
   "cell_type": "code",
   "execution_count": 43,
   "metadata": {
    "colab": {
     "base_uri": "https://localhost:8080/",
     "height": 234,
     "referenced_widgets": [
      "501f108885494f25b99e7dca62c54b71",
      "61bef20dd7f240c091ba1a38e89be082",
      "fc86cb59ed0b4ee4bdc348c2a8181f37",
      "c4ef2cf07b0647c3babb1c37f84d8914",
      "00be010e9fb74c868f248a883fa525a7",
      "1e4660d4b5cf4e92969fb7fc16e0d77d",
      "a65a8534d7b0485aafbe32d12121bb4e",
      "3e021c67193f4e5bb10fe4fde5505e10",
      "ad7304f056814798a26ca2eebc4bd668",
      "c60f576506e5482cb090677d70df4089",
      "e24c32e30e014889bb0db790166bafa9",
      "17a384c09f414d9ab117b1309dde327c",
      "9a0abb6369304569bdb1d1dae963dfe1",
      "d27e1e41d7744bf4a2698b693913b5f8",
      "af8b84a838a5414595b245296a16eb80",
      "93cee09fe82b43858ceaaa46ff42173d",
      "284f81a057da4890b0a86b298c9b1f09",
      "79f988a1662c4749bda276c31f22e38d",
      "6805862898814c90a92db65562bee81e",
      "612e506453214dcdbe1b556846df79b4",
      "0e24480ab9184baf8b73f92f4752c1dc",
      "2f3baf32f8df4210b14de201ed533d85",
      "91d1a726c01f4e29aa68f896b555342b",
      "04d413315285451ebc5b366fd995f177"
     ]
    },
    "colab_type": "code",
    "executionInfo": {
     "elapsed": 586238,
     "status": "ok",
     "timestamp": 1600060359497,
     "user": {
      "displayName": "Ur Tech Guide",
      "photoUrl": "https://lh3.googleusercontent.com/a-/AOh14GhBjMoWnc1KwT73B6hzAbvnSIxnZAl5PY9n_RGJ0w=s64",
      "userId": "03152431167485721857"
     },
     "user_tz": -300
    },
    "id": "j_gfbLOmaYLQ",
    "outputId": "54d65b60-7cfe-47b9-cea6-541755ceedb5"
   },
   "outputs": [
    {
     "name": "stderr",
     "output_type": "stream",
     "text": [
      "Tokenization Process: 100%|██████████| 263466/263466 [01:14<00:00, 3552.01it/s]\n",
      "Tokenization Process: 100%|██████████| 92444/92444 [00:24<00:00, 3734.14it/s]\n",
      "Tokenization Process: 100%|██████████| 92444/92444 [00:24<00:00, 3726.48it/s]\n"
     ]
    },
    {
     "data": {
      "text/plain": [
       "26"
      ]
     },
     "execution_count": 43,
     "metadata": {},
     "output_type": "execute_result"
    }
   ],
   "source": [
    "model_type = 'distilroberta-base'\n",
    "fast_tokenizer =AutoTokenizer.from_pretrained(model_type)\n",
    "roberta_model_base_input_id,roberta_model_attention_mask=fast_tokenization(df_train['combine_text_tokenize'].values,encode_plus=True)\n",
    "X_train['input_ids_roberta'],X_train['attention_mask_roberta']=roberta_model_base_input_id,roberta_model_attention_mask\n",
    "del roberta_model_base_input_id\n",
    "del roberta_model_attention_mask\n",
    "gc.collect()\n",
    "roberta_model_base_input_id,roberta_model_attention_mask=fast_tokenization(df_valid['combine_text_tokenize'].values,encode_plus=True)\n",
    "X_valid['input_ids_roberta'],X_valid['attention_mask_roberta']=roberta_model_base_input_id,roberta_model_attention_mask\n",
    "del roberta_model_base_input_id\n",
    "del roberta_model_attention_mask\n",
    "gc.collect()\n",
    "roberta_model_base_input_id,roberta_model_attention_mask=fast_tokenization(df_test['combine_text_tokenize'].values,encode_plus=True)\n",
    "X_test['input_ids_roberta'],X_test['attention_mask_roberta']=roberta_model_base_input_id,roberta_model_attention_mask\n",
    "del roberta_model_base_input_id\n",
    "del roberta_model_attention_mask\n",
    "gc.collect()"
   ]
  },
  {
   "cell_type": "code",
   "execution_count": 44,
   "metadata": {
    "colab": {
     "base_uri": "https://localhost:8080/",
     "height": 52
    },
    "colab_type": "code",
    "executionInfo": {
     "elapsed": 585610,
     "status": "ok",
     "timestamp": 1600060359500,
     "user": {
      "displayName": "Ur Tech Guide",
      "photoUrl": "https://lh3.googleusercontent.com/a-/AOh14GhBjMoWnc1KwT73B6hzAbvnSIxnZAl5PY9n_RGJ0w=s64",
      "userId": "03152431167485721857"
     },
     "user_tz": -300
    },
    "id": "FaiT3AWma61W",
    "outputId": "acd04d4a-c268-43c5-c801-66272baf29f9"
   },
   "outputs": [
    {
     "name": "stdout",
     "output_type": "stream",
     "text": [
      "dict_keys(['input_ids_distill_bert', 'attention_mask_distill_bert', 'input_ids_gpt_2', 'attention_mask_gpt_2', 'input_ids_roberta', 'attention_mask_roberta'])\n",
      "dict_keys(['input_ids_distill_bert', 'attention_mask_distill_bert', 'input_ids_gpt_2', 'attention_mask_gpt_2', 'input_ids_roberta', 'attention_mask_roberta'])\n"
     ]
    }
   ],
   "source": [
    "print(X_train.keys())\n",
    "print(X_valid.keys())"
   ]
  },
  {
   "cell_type": "markdown",
   "metadata": {
    "colab_type": "text",
    "id": "nsNXbOK3a9HU"
   },
   "source": [
    "## GBX Model Run\n",
    "\n",
    "Following Parameters were used-Run(1)\n",
    "\n",
    "\n",
    "1.   BATCH_SIZE = 32\n",
    "2.   EPOCHS=2\n",
    "3.   LEARNING_RATE=3e-5\n",
    "4.   BETA_1=0.9-BETA_2=0.999\n",
    "5.   Scheduler=Linear with Intial Learning Rate of 3e-5\n",
    "6.   Freezing=No Layer was Freezed\n",
    "7.   MAX_LEN=256\n",
    "8.   Trained on TPU(Google Colab)"
   ]
  },
  {
   "cell_type": "code",
   "execution_count": 45,
   "metadata": {
    "colab": {
     "base_uri": "https://localhost:8080/",
     "height": 34
    },
    "colab_type": "code",
    "executionInfo": {
     "elapsed": 588891,
     "status": "ok",
     "timestamp": 1600060364729,
     "user": {
      "displayName": "Ur Tech Guide",
      "photoUrl": "https://lh3.googleusercontent.com/a-/AOh14GhBjMoWnc1KwT73B6hzAbvnSIxnZAl5PY9n_RGJ0w=s64",
      "userId": "03152431167485721857"
     },
     "user_tz": -300
    },
    "id": "s0PDnW80bPJN",
    "outputId": "d2cd0ff9-b9df-4fb8-ab6f-dc4c738b7a2b"
   },
   "outputs": [
    {
     "data": {
      "text/plain": [
       "0"
      ]
     },
     "execution_count": 45,
     "metadata": {},
     "output_type": "execute_result"
    }
   ],
   "source": [
    "BATCH_SIZE = 64\n",
    "EPOCHS=6\n",
    "LEARNING_RATE=1e-5\n",
    "BETA_1=0.9\n",
    "BETA_2=0.999\n",
    "AUTO = tf.data.experimental.AUTOTUNE\n",
    "steps_per_epoch=263466//BATCH_SIZE\n",
    "total_optimization_steps=int(steps_per_epoch*EPOCHS)\n",
    "WARM_UP_STEPS=int(0.06*total_optimization_steps)\n",
    "optimizer_with_schedule,lr_schedule=create_optimizer(init_lr=LEARNING_RATE,num_train_steps=total_optimization_steps,num_warmup_steps=WARM_UP_STEPS,schedule='cosine')\n",
    "EARLY_STOP=tf.keras.callbacks.EarlyStopping(patience=5)\n",
    "MAX_LEN=MAX_LEN\n",
    "LOSS=tf.keras.losses.CategoricalCrossentropy()\n",
    "OPTIMIZER=tf.keras.optimizers.Adam(learning_rate=LEARNING_RATE,beta_1=BETA_1,beta_2=BETA_2)\n",
    "del df_train\n",
    "del df_valid\n",
    "gc.collect()"
   ]
  },
  {
   "cell_type": "code",
   "execution_count": null,
   "metadata": {
    "colab": {},
    "colab_type": "code",
    "id": "h6YrawRgyPUi"
   },
   "outputs": [],
   "source": [
    "test=make_test_data(X_test)"
   ]
  },
  {
   "cell_type": "code",
   "execution_count": null,
   "metadata": {
    "colab": {},
    "colab_type": "code",
    "id": "rm4yFzpmbPx5"
   },
   "outputs": [],
   "source": [
    "def gbx_layers(types):\n",
    "    distill_bert = (\n",
    "                TFDistilBertModel.from_pretrained('distilbert-base-uncased')\n",
    "            )\n",
    "    \n",
    "\n",
    "    gpt_layer=(\n",
    "        TFGPT2Model.from_pretrained('distilgpt2')\n",
    "    )\n",
    "\n",
    "\n",
    "    roberta_model=(\n",
    "        TFXLMRobertaModel.from_pretrained('distilroberta-base')\n",
    "    )\n",
    "\n",
    "\n",
    "\n",
    "\n",
    "    input_ids_distill_bert = tf.keras.layers.Input(shape=(MAX_LEN,), dtype=tf.int32, name=\"input_ids_distill_bert\")\n",
    "    attention_mask_distill_bert=tf.keras.layers.Input(shape=(MAX_LEN,), dtype=tf.int32, name=\"attention_mask_distill_bert\")\n",
    "\n",
    "    input_ids_gpt_2 = tf.keras.layers.Input(shape=(MAX_LEN,), dtype=tf.int32, name=\"input_ids_gpt_2\")\n",
    "    attention_mask_gpt_2=tf.keras.layers.Input(shape=(MAX_LEN,), dtype=tf.int32, name=\"attention_mask_gpt_2\")\n",
    "\n",
    "    input_ids_roberta = tf.keras.layers.Input(shape=(MAX_LEN,), dtype=tf.int32, name=\"input_ids_roberta\")\n",
    "    attention_mask_roberta=tf.keras.layers.Input(shape=(MAX_LEN,), dtype=tf.int32, name=\"attention_mask_roberta\")\n",
    "        \n",
    "    \n",
    "    hidden_state_output_dbert=distill_bert([input_ids_distill_bert,attention_mask_distill_bert])[0]\n",
    "    hidden_state_output_gpt_2,_=gpt_layer({'input_ids': input_ids_gpt_2, 'attention_mask': attention_mask_gpt_2},past=None)\n",
    "    hidden_state_output_roberta,_=roberta_model([input_ids_roberta,attention_mask_roberta])\n",
    "    \n",
    "    \n",
    "    \n",
    "    combine_input_1=tf.keras.layers.concatenate([hidden_state_output_dbert,hidden_state_output_gpt_2,hidden_state_output_roberta],axis=2,name='Concatenate_layer')\n",
    "    \n",
    "    final_input=tf.keras.layers.Conv1D(filters=768,kernel_size=3,padding='same',name='Conv_1d_layer')(combine_input_1)\n",
    "    final_input_1=tf.keras.layers.GlobalAveragePooling1D(name='Average_Pooling_layer')(final_input)\n",
    "    if types=='2-way':\n",
    "      out = tf.keras.layers.Dense(2, activation='softmax',name='Softmax_Layer')(final_input_1)\n",
    "    elif types=='3-way':\n",
    "      out = tf.keras.layers.Dense(3, activation='softmax',name='Softmax_Layer')(final_input_1)\n",
    "    else:\n",
    "      out = tf.keras.layers.Dense(6, activation='softmax',name='Softmax_Layer')(final_input_1)\n",
    "\n",
    "\n",
    "    model = tf.keras.Model(inputs=[input_ids_distill_bert,attention_mask_distill_bert,input_ids_gpt_2,attention_mask_gpt_2,input_ids_roberta,attention_mask_roberta], outputs=out)\n",
    "   \n",
    "    return model"
   ]
  },
  {
   "cell_type": "markdown",
   "metadata": {
    "colab_type": "text",
    "id": "xuinWdb2bBAx"
   },
   "source": [
    "### 2-Way Label"
   ]
  },
  {
   "cell_type": "markdown",
   "metadata": {
    "colab_type": "text",
    "id": "-qtFkICNuN3G"
   },
   "source": [
    "#### Following Parameters were used-Run(1)\n",
    "\n",
    "\n",
    "1.   BATCH_SIZE = 32\n",
    "2.   EPOCHS=2\n",
    "3.   LEARNING_RATE=3e-5\n",
    "4.   BETA_1=0.9-BETA_2=0.999\n",
    "5.   Scheduler=Linear with Intial Learning Rate of 3e-5\n",
    "6.   Freezing=No Layer was Freezed\n",
    "7.   MAX_LEN=256\n",
    "8.   Trained on TPU(Google Colab)"
   ]
  },
  {
   "cell_type": "code",
   "execution_count": null,
   "metadata": {
    "colab": {
     "base_uri": "https://localhost:8080/",
     "height": 955
    },
    "colab_type": "code",
    "executionInfo": {
     "elapsed": 91428,
     "status": "ok",
     "timestamp": 1599172305413,
     "user": {
      "displayName": "Ur Tech Guide",
      "photoUrl": "https://lh3.googleusercontent.com/a-/AOh14GhBjMoWnc1KwT73B6hzAbvnSIxnZAl5PY9n_RGJ0w=s64",
      "userId": "03152431167485721857"
     },
     "user_tz": -300
    },
    "id": "3zE8_NLNa8YR",
    "outputId": "6939d1b3-577b-4b3b-a816-9c0b287fbdc6"
   },
   "outputs": [
    {
     "name": "stderr",
     "output_type": "stream",
     "text": [
      "Some weights of the model checkpoint at distilbert-base-uncased were not used when initializing TFDistilBertModel: ['vocab_transform', 'vocab_projector', 'vocab_layer_norm', 'activation_13']\n",
      "- This IS expected if you are initializing TFDistilBertModel from the checkpoint of a model trained on another task or with another architecture (e.g. initializing a BertForSequenceClassification model from a BertForPretraining model).\n",
      "- This IS NOT expected if you are initializing TFDistilBertModel from the checkpoint of a model that you expect to be exactly identical (initializing a BertForSequenceClassification model from a BertForSequenceClassification model).\n",
      "All the weights of TFDistilBertModel were initialized from the model checkpoint at distilbert-base-uncased.\n",
      "If your task is similar to the task the model of the checkpoint was trained on, you can already use TFDistilBertModel for predictions without further training.\n",
      "All model checkpoint weights were used when initializing TFGPT2Model.\n",
      "\n",
      "All the weights of TFGPT2Model were initialized from the model checkpoint at distilgpt2.\n",
      "If your task is similar to the task the model of the checkpoint was trained on, you can already use TFGPT2Model for predictions without further training.\n",
      "Some weights of the model checkpoint at distilroberta-base were not used when initializing TFXLMRobertaModel: ['lm_head']\n",
      "- This IS expected if you are initializing TFXLMRobertaModel from the checkpoint of a model trained on another task or with another architecture (e.g. initializing a BertForSequenceClassification model from a BertForPretraining model).\n",
      "- This IS NOT expected if you are initializing TFXLMRobertaModel from the checkpoint of a model that you expect to be exactly identical (initializing a BertForSequenceClassification model from a BertForSequenceClassification model).\n",
      "All the weights of TFXLMRobertaModel were initialized from the model checkpoint at distilroberta-base.\n",
      "If your task is similar to the task the model of the checkpoint was trained on, you can already use TFXLMRobertaModel for predictions without further training.\n"
     ]
    },
    {
     "name": "stdout",
     "output_type": "stream",
     "text": [
      "Model: \"functional_3\"\n",
      "__________________________________________________________________________________________________\n",
      "Layer (type)                    Output Shape         Param #     Connected to                     \n",
      "==================================================================================================\n",
      "input_ids_distill_bert (InputLa [(None, 256)]        0                                            \n",
      "__________________________________________________________________________________________________\n",
      "attention_mask_distill_bert (In [(None, 256)]        0                                            \n",
      "__________________________________________________________________________________________________\n",
      "attention_mask_gpt_2 (InputLaye [(None, 256)]        0                                            \n",
      "__________________________________________________________________________________________________\n",
      "input_ids_gpt_2 (InputLayer)    [(None, 256)]        0                                            \n",
      "__________________________________________________________________________________________________\n",
      "input_ids_roberta (InputLayer)  [(None, 256)]        0                                            \n",
      "__________________________________________________________________________________________________\n",
      "attention_mask_roberta (InputLa [(None, 256)]        0                                            \n",
      "__________________________________________________________________________________________________\n",
      "tf_distil_bert_model_1 (TFDisti ((None, 256, 768),)  66362880    input_ids_distill_bert[0][0]     \n",
      "                                                                 attention_mask_distill_bert[0][0]\n",
      "__________________________________________________________________________________________________\n",
      "tfgp_t2model_1 (TFGPT2Model)    ((None, 256, 768), ( 81912576    attention_mask_gpt_2[0][0]       \n",
      "                                                                 input_ids_gpt_2[0][0]            \n",
      "__________________________________________________________________________________________________\n",
      "tfxlm_roberta_model_1 (TFXLMRob ((None, 256, 768), ( 82118400    input_ids_roberta[0][0]          \n",
      "                                                                 attention_mask_roberta[0][0]     \n",
      "__________________________________________________________________________________________________\n",
      "Concatenate_layer (Concatenate) (None, 256, 2304)    0           tf_distil_bert_model_1[0][0]     \n",
      "                                                                 tfgp_t2model_1[0][0]             \n",
      "                                                                 tfxlm_roberta_model_1[0][0]      \n",
      "__________________________________________________________________________________________________\n",
      "Conv_1d_layer (Conv1D)          (None, 256, 768)     5309184     Concatenate_layer[0][0]          \n",
      "__________________________________________________________________________________________________\n",
      "Average_Pooling_layer (GlobalAv (None, 768)          0           Conv_1d_layer[0][0]              \n",
      "__________________________________________________________________________________________________\n",
      "Softmax_Layer (Dense)           (None, 2)            1538        Average_Pooling_layer[0][0]      \n",
      "==================================================================================================\n",
      "Total params: 235,704,578\n",
      "Trainable params: 235,704,578\n",
      "Non-trainable params: 0\n",
      "__________________________________________________________________________________________________\n",
      "None\n"
     ]
    }
   ],
   "source": [
    "def compile_gbx(optim):\n",
    "  model=gbx_layers(types='2-way')\n",
    "  model.compile(optimizer=optim,loss=LOSS,metrics='accuracy')\n",
    "  print(model.summary())\n",
    "  return model\n",
    "\n",
    "\n",
    "# train,valid=tensorflow_make_train_valid_data(X_train,y_train,X_valid,y_valid)\n",
    "# del X_train,X_valid\n",
    "gc.collect()\n",
    "with strategy.scope():\n",
    "  model=compile_gbx(optimizer_with_schedule)"
   ]
  },
  {
   "cell_type": "code",
   "execution_count": null,
   "metadata": {
    "colab": {
     "base_uri": "https://localhost:8080/",
     "height": 326
    },
    "colab_type": "code",
    "executionInfo": {
     "elapsed": 1232981,
     "status": "ok",
     "timestamp": 1598992224299,
     "user": {
      "displayName": "Ur Tech Guide",
      "photoUrl": "https://lh3.googleusercontent.com/a-/AOh14GhBjMoWnc1KwT73B6hzAbvnSIxnZAl5PY9n_RGJ0w=s64",
      "userId": "03152431167485721857"
     },
     "user_tz": -300
    },
    "id": "XII_hikfblCB",
    "outputId": "4f0e7860-4bf5-4117-ec78-eea966ed5e26"
   },
   "outputs": [
    {
     "name": "stdout",
     "output_type": "stream",
     "text": [
      "Epoch 1/2\n",
      "WARNING:tensorflow:Gradients do not exist for variables ['tfxlm_roberta_model_2/roberta/pooler/dense/kernel:0', 'tfxlm_roberta_model_2/roberta/pooler/dense/bias:0'] when minimizing the loss.\n"
     ]
    },
    {
     "name": "stderr",
     "output_type": "stream",
     "text": [
      "WARNING:tensorflow:Gradients do not exist for variables ['tfxlm_roberta_model_2/roberta/pooler/dense/kernel:0', 'tfxlm_roberta_model_2/roberta/pooler/dense/bias:0'] when minimizing the loss.\n"
     ]
    },
    {
     "name": "stdout",
     "output_type": "stream",
     "text": [
      "WARNING:tensorflow:Gradients do not exist for variables ['tfxlm_roberta_model_2/roberta/pooler/dense/kernel:0', 'tfxlm_roberta_model_2/roberta/pooler/dense/bias:0'] when minimizing the loss.\n"
     ]
    },
    {
     "name": "stderr",
     "output_type": "stream",
     "text": [
      "WARNING:tensorflow:Gradients do not exist for variables ['tfxlm_roberta_model_2/roberta/pooler/dense/kernel:0', 'tfxlm_roberta_model_2/roberta/pooler/dense/bias:0'] when minimizing the loss.\n"
     ]
    },
    {
     "name": "stdout",
     "output_type": "stream",
     "text": [
      "WARNING:tensorflow:Gradients do not exist for variables ['tfxlm_roberta_model_2/roberta/pooler/dense/kernel:0', 'tfxlm_roberta_model_2/roberta/pooler/dense/bias:0'] when minimizing the loss.\n"
     ]
    },
    {
     "name": "stderr",
     "output_type": "stream",
     "text": [
      "WARNING:tensorflow:Gradients do not exist for variables ['tfxlm_roberta_model_2/roberta/pooler/dense/kernel:0', 'tfxlm_roberta_model_2/roberta/pooler/dense/bias:0'] when minimizing the loss.\n"
     ]
    },
    {
     "name": "stdout",
     "output_type": "stream",
     "text": [
      "WARNING:tensorflow:Gradients do not exist for variables ['tfxlm_roberta_model_2/roberta/pooler/dense/kernel:0', 'tfxlm_roberta_model_2/roberta/pooler/dense/bias:0'] when minimizing the loss.\n"
     ]
    },
    {
     "name": "stderr",
     "output_type": "stream",
     "text": [
      "WARNING:tensorflow:Gradients do not exist for variables ['tfxlm_roberta_model_2/roberta/pooler/dense/kernel:0', 'tfxlm_roberta_model_2/roberta/pooler/dense/bias:0'] when minimizing the loss.\n"
     ]
    },
    {
     "name": "stdout",
     "output_type": "stream",
     "text": [
      "   2/8233 [..............................] - ETA: 13:38 - loss: 2.0120 - accuracy: 0.0000e+00WARNING:tensorflow:Callbacks method `on_train_batch_end` is slow compared to the batch time (batch time: 0.0194s vs `on_train_batch_end` time: 0.1758s). Check your callbacks.\n"
     ]
    },
    {
     "name": "stderr",
     "output_type": "stream",
     "text": [
      "WARNING:tensorflow:Callbacks method `on_train_batch_end` is slow compared to the batch time (batch time: 0.0194s vs `on_train_batch_end` time: 0.1758s). Check your callbacks.\n"
     ]
    },
    {
     "name": "stdout",
     "output_type": "stream",
     "text": [
      "8233/8233 [==============================] - ETA: 0s - loss: 0.0088 - accuracy: 0.9959WARNING:tensorflow:Callbacks method `on_test_batch_end` is slow compared to the batch time (batch time: 0.0053s vs `on_test_batch_end` time: 0.0468s). Check your callbacks.\n"
     ]
    },
    {
     "name": "stderr",
     "output_type": "stream",
     "text": [
      "WARNING:tensorflow:Callbacks method `on_test_batch_end` is slow compared to the batch time (batch time: 0.0053s vs `on_test_batch_end` time: 0.0468s). Check your callbacks.\n"
     ]
    },
    {
     "name": "stdout",
     "output_type": "stream",
     "text": [
      "\b\b\b\b\b\b\b\b\b\b\b\b\b\b\b\b\b\b\b\b\b\b\b\b\b\b\b\b\b\b\b\b\b\b\b\b\b\b\b\b\b\b\b\b\b\b\b\b\b\b\b\b\b\b\b\b\b\b\b\b\b\b\b\b\b\b\b\b\b\b\b\b\b\b\b\b\b\b\b\b\b\b\b\b\b\b\r",
      "8233/8233 [==============================] - 1773s 215ms/step - loss: 0.0088 - accuracy: 0.9959 - val_loss: 0.0147 - val_accuracy: 0.9944\n",
      "Epoch 2/2\n",
      "8233/8233 [==============================] - 1761s 214ms/step - loss: 1.6921e-04 - accuracy: 1.0000 - val_loss: 0.0017 - val_accuracy: 0.9996\n"
     ]
    },
    {
     "data": {
      "text/plain": [
       "<tensorflow.python.keras.callbacks.History at 0x7f808a0867b8>"
      ]
     },
     "execution_count": 61,
     "metadata": {
      "tags": []
     },
     "output_type": "execute_result"
    }
   ],
   "source": [
    "history = LossHistory()\n",
    "model.fit(\n",
    "      train,steps_per_epoch=steps_per_epoch,\n",
    "      epochs=EPOCHS,callbacks=[history], validation_data=valid,\n",
    ")"
   ]
  },
  {
   "cell_type": "code",
   "execution_count": null,
   "metadata": {
    "colab": {
     "base_uri": "https://localhost:8080/",
     "height": 88
    },
    "colab_type": "code",
    "executionInfo": {
     "elapsed": 142209,
     "status": "ok",
     "timestamp": 1598993016702,
     "user": {
      "displayName": "Ur Tech Guide",
      "photoUrl": "https://lh3.googleusercontent.com/a-/AOh14GhBjMoWnc1KwT73B6hzAbvnSIxnZAl5PY9n_RGJ0w=s64",
      "userId": "03152431167485721857"
     },
     "user_tz": -300
    },
    "id": "0GM419HDbnJn",
    "outputId": "273eab76-b815-4166-d328-3997ac2963f2"
   },
   "outputs": [
    {
     "name": "stdout",
     "output_type": "stream",
     "text": [
      "\r",
      "   1/2889 [..............................] - ETA: 0sWARNING:tensorflow:Callbacks method `on_predict_batch_end` is slow compared to the batch time (batch time: 0.0046s vs `on_predict_batch_end` time: 0.0418s). Check your callbacks.\n"
     ]
    },
    {
     "name": "stderr",
     "output_type": "stream",
     "text": [
      "WARNING:tensorflow:Callbacks method `on_predict_batch_end` is slow compared to the batch time (batch time: 0.0046s vs `on_predict_batch_end` time: 0.0418s). Check your callbacks.\n"
     ]
    },
    {
     "name": "stdout",
     "output_type": "stream",
     "text": [
      "2889/2889 [==============================] - 140s 48ms/step\n"
     ]
    }
   ],
   "source": [
    "y_pred=model.predict(test,verbose=1)\n",
    "y_true=np.array(tf.keras.utils.to_categorical(df_test['2_way_label'].values))"
   ]
  },
  {
   "cell_type": "code",
   "execution_count": null,
   "metadata": {
    "colab": {},
    "colab_type": "code",
    "id": "tc0RJ_Xybouj"
   },
   "outputs": [],
   "source": [
    "saved_history=np.array(history.losses)\n",
    "np.save('y_pred_Fakeddit(2-way)_run(1).npy',y_pred,allow_pickle=True)\n",
    "np.save('saved_history_Fakeddit(2-way)_run(1).npy',saved_history)"
   ]
  },
  {
   "cell_type": "code",
   "execution_count": null,
   "metadata": {
    "colab": {
     "base_uri": "https://localhost:8080/",
     "height": 626
    },
    "colab_type": "code",
    "executionInfo": {
     "elapsed": 1288,
     "status": "ok",
     "timestamp": 1599004152243,
     "user": {
      "displayName": "Ur Tech Guide",
      "photoUrl": "https://lh3.googleusercontent.com/a-/AOh14GhBjMoWnc1KwT73B6hzAbvnSIxnZAl5PY9n_RGJ0w=s64",
      "userId": "03152431167485721857"
     },
     "user_tz": -300
    },
    "id": "lSakenfw73w1",
    "outputId": "4b7fdf87-55f1-4480-89fe-edd11a5c118f"
   },
   "outputs": [
    {
     "data": {
      "image/png": "[encoded data removed]",
      "text/plain": [
       "<Figure size 864x720 with 1 Axes>"
      ]
     },
     "metadata": {
      "tags": []
     },
     "output_type": "display_data"
    }
   ],
   "source": [
    "history=np.load('/content/drive/My Drive/Final Research Project/saved_history_Fakeddit(2-way)_run(1).npy',allow_pickle=True)\n",
    "plot_loss(history,'GBX on Fakeddit(2-way) Dataset-Run(1)')"
   ]
  },
  {
   "cell_type": "code",
   "execution_count": null,
   "metadata": {
    "colab": {
     "base_uri": "https://localhost:8080/",
     "height": 626
    },
    "colab_type": "code",
    "executionInfo": {
     "elapsed": 139927,
     "status": "ok",
     "timestamp": 1598993017154,
     "user": {
      "displayName": "Ur Tech Guide",
      "photoUrl": "https://lh3.googleusercontent.com/a-/AOh14GhBjMoWnc1KwT73B6hzAbvnSIxnZAl5PY9n_RGJ0w=s64",
      "userId": "03152431167485721857"
     },
     "user_tz": -300
    },
    "id": "yLZRWgQjbtHw",
    "outputId": "969369c2-e3fb-415b-81b2-6f2fae42a55d"
   },
   "outputs": [
    {
     "data": {
      "image/png": "[encoded data removed]",
      "text/plain": [
       "<Figure size 720x720 with 2 Axes>"
      ]
     },
     "metadata": {
      "tags": []
     },
     "output_type": "display_data"
    }
   ],
   "source": [
    "plot_cm(y_true, y_pred, 'GBX on Fakeddit(2-way) Dataset-Run(1)')"
   ]
  },
  {
   "cell_type": "code",
   "execution_count": null,
   "metadata": {
    "colab": {
     "base_uri": "https://localhost:8080/",
     "height": 187
    },
    "colab_type": "code",
    "executionInfo": {
     "elapsed": 872,
     "status": "ok",
     "timestamp": 1598993199393,
     "user": {
      "displayName": "Ur Tech Guide",
      "photoUrl": "https://lh3.googleusercontent.com/a-/AOh14GhBjMoWnc1KwT73B6hzAbvnSIxnZAl5PY9n_RGJ0w=s64",
      "userId": "03152431167485721857"
     },
     "user_tz": -300
    },
    "id": "oQAk55xabug8",
    "outputId": "3e5f0516-c86e-4e57-d076-aabec7429827"
   },
   "outputs": [
    {
     "name": "stdout",
     "output_type": "stream",
     "text": [
      "The accuracy of the model GBX on Fakeddit(2-way) Dataset-Run(1) is Accuracy: 99.956%\n",
      "              precision    recall  f1-score   support\n",
      "\n",
      "        fake       1.00      1.00      1.00     50100\n",
      "        true       1.00      1.00      1.00     42344\n",
      "\n",
      "    accuracy                           1.00     92444\n",
      "   macro avg       1.00      1.00      1.00     92444\n",
      "weighted avg       1.00      1.00      1.00     92444\n",
      "\n"
     ]
    }
   ],
   "source": [
    "accuracy(y_true,y_pred,'GBX on Fakeddit(2-way) Dataset-Run(1)')"
   ]
  },
  {
   "cell_type": "markdown",
   "metadata": {
    "colab_type": "text",
    "id": "Nd4jNbNIttyH"
   },
   "source": [
    "### 3-Way Label"
   ]
  },
  {
   "cell_type": "markdown",
   "metadata": {
    "colab_type": "text",
    "id": "xsXYMQlOuHws"
   },
   "source": [
    "#### Following Parameters were used-Run(1)\n",
    "\n",
    "\n",
    "1.   BATCH_SIZE = 32\n",
    "2.   EPOCHS=2\n",
    "3.   LEARNING_RATE=3e-5\n",
    "4.   BETA_1=0.9-BETA_2=0.999\n",
    "5.   Scheduler=Linear with Intial Learning Rate of 3e-5\n",
    "6.   Freezing=No Layer was Freezed\n",
    "7.   MAX_LEN=256\n",
    "8.   Trained on TPU(Google Colab)"
   ]
  },
  {
   "cell_type": "code",
   "execution_count": null,
   "metadata": {
    "colab": {
     "base_uri": "https://localhost:8080/",
     "height": 955
    },
    "colab_type": "code",
    "executionInfo": {
     "elapsed": 2977679,
     "status": "ok",
     "timestamp": 1599087208409,
     "user": {
      "displayName": "Ur Tech Guide",
      "photoUrl": "https://lh3.googleusercontent.com/a-/AOh14GhBjMoWnc1KwT73B6hzAbvnSIxnZAl5PY9n_RGJ0w=s64",
      "userId": "03152431167485721857"
     },
     "user_tz": -300
    },
    "id": "XlO5E5rCa-xS",
    "outputId": "c759546e-30fd-4036-fd51-99d9e92bf595"
   },
   "outputs": [
    {
     "name": "stderr",
     "output_type": "stream",
     "text": [
      "Some weights of the model checkpoint at distilbert-base-uncased were not used when initializing TFDistilBertModel: ['vocab_transform', 'vocab_projector', 'vocab_layer_norm', 'activation_13']\n",
      "- This IS expected if you are initializing TFDistilBertModel from the checkpoint of a model trained on another task or with another architecture (e.g. initializing a BertForSequenceClassification model from a BertForPretraining model).\n",
      "- This IS NOT expected if you are initializing TFDistilBertModel from the checkpoint of a model that you expect to be exactly identical (initializing a BertForSequenceClassification model from a BertForSequenceClassification model).\n",
      "All the weights of TFDistilBertModel were initialized from the model checkpoint at distilbert-base-uncased.\n",
      "If your task is similar to the task the model of the checkpoint was trained on, you can already use TFDistilBertModel for predictions without further training.\n",
      "All model checkpoint weights were used when initializing TFGPT2Model.\n",
      "\n",
      "All the weights of TFGPT2Model were initialized from the model checkpoint at distilgpt2.\n",
      "If your task is similar to the task the model of the checkpoint was trained on, you can already use TFGPT2Model for predictions without further training.\n",
      "Some weights of the model checkpoint at distilroberta-base were not used when initializing TFXLMRobertaModel: ['lm_head']\n",
      "- This IS expected if you are initializing TFXLMRobertaModel from the checkpoint of a model trained on another task or with another architecture (e.g. initializing a BertForSequenceClassification model from a BertForPretraining model).\n",
      "- This IS NOT expected if you are initializing TFXLMRobertaModel from the checkpoint of a model that you expect to be exactly identical (initializing a BertForSequenceClassification model from a BertForSequenceClassification model).\n",
      "All the weights of TFXLMRobertaModel were initialized from the model checkpoint at distilroberta-base.\n",
      "If your task is similar to the task the model of the checkpoint was trained on, you can already use TFXLMRobertaModel for predictions without further training.\n"
     ]
    },
    {
     "name": "stdout",
     "output_type": "stream",
     "text": [
      "Model: \"functional_1\"\n",
      "__________________________________________________________________________________________________\n",
      "Layer (type)                    Output Shape         Param #     Connected to                     \n",
      "==================================================================================================\n",
      "input_ids_distill_bert (InputLa [(None, 256)]        0                                            \n",
      "__________________________________________________________________________________________________\n",
      "attention_mask_distill_bert (In [(None, 256)]        0                                            \n",
      "__________________________________________________________________________________________________\n",
      "attention_mask_gpt_2 (InputLaye [(None, 256)]        0                                            \n",
      "__________________________________________________________________________________________________\n",
      "input_ids_gpt_2 (InputLayer)    [(None, 256)]        0                                            \n",
      "__________________________________________________________________________________________________\n",
      "input_ids_roberta (InputLayer)  [(None, 256)]        0                                            \n",
      "__________________________________________________________________________________________________\n",
      "attention_mask_roberta (InputLa [(None, 256)]        0                                            \n",
      "__________________________________________________________________________________________________\n",
      "tf_distil_bert_model (TFDistilB ((None, 256, 768),)  66362880    input_ids_distill_bert[0][0]     \n",
      "                                                                 attention_mask_distill_bert[0][0]\n",
      "__________________________________________________________________________________________________\n",
      "tfgp_t2model (TFGPT2Model)      ((None, 256, 768), ( 81912576    attention_mask_gpt_2[0][0]       \n",
      "                                                                 input_ids_gpt_2[0][0]            \n",
      "__________________________________________________________________________________________________\n",
      "tfxlm_roberta_model (TFXLMRober ((None, 256, 768), ( 82118400    input_ids_roberta[0][0]          \n",
      "                                                                 attention_mask_roberta[0][0]     \n",
      "__________________________________________________________________________________________________\n",
      "Concatenate_layer (Concatenate) (None, 256, 2304)    0           tf_distil_bert_model[0][0]       \n",
      "                                                                 tfgp_t2model[0][0]               \n",
      "                                                                 tfxlm_roberta_model[0][0]        \n",
      "__________________________________________________________________________________________________\n",
      "Conv_1d_layer (Conv1D)          (None, 256, 768)     5309184     Concatenate_layer[0][0]          \n",
      "__________________________________________________________________________________________________\n",
      "Average_Pooling_layer (GlobalAv (None, 768)          0           Conv_1d_layer[0][0]              \n",
      "__________________________________________________________________________________________________\n",
      "Softmax_Layer (Dense)           (None, 3)            2307        Average_Pooling_layer[0][0]      \n",
      "==================================================================================================\n",
      "Total params: 235,705,347\n",
      "Trainable params: 235,705,347\n",
      "Non-trainable params: 0\n",
      "__________________________________________________________________________________________________\n",
      "None\n"
     ]
    }
   ],
   "source": [
    "def compile_gbx(optim):\n",
    "  model=gbx_layers(types='3-way')\n",
    "  model.compile(optimizer=optim,loss=LOSS,metrics='accuracy')\n",
    "  print(model.summary())\n",
    "  return model\n",
    "\n",
    "\n",
    "train,valid=tensorflow_make_train_valid_data(X_train,y_train,X_valid,y_valid)\n",
    "del X_train,X_valid\n",
    "gc.collect()\n",
    "with strategy.scope():\n",
    "  model=compile_gbx(optimizer_with_schedule)"
   ]
  },
  {
   "cell_type": "code",
   "execution_count": null,
   "metadata": {
    "colab": {
     "base_uri": "https://localhost:8080/",
     "height": 428
    },
    "colab_type": "code",
    "executionInfo": {
     "elapsed": 6742606,
     "status": "ok",
     "timestamp": 1599090979957,
     "user": {
      "displayName": "Ur Tech Guide",
      "photoUrl": "https://lh3.googleusercontent.com/a-/AOh14GhBjMoWnc1KwT73B6hzAbvnSIxnZAl5PY9n_RGJ0w=s64",
      "userId": "03152431167485721857"
     },
     "user_tz": -300
    },
    "id": "6coDi4LkuRWm",
    "outputId": "f2a77d73-a587-4965-c99b-7c4af132ebb9"
   },
   "outputs": [
    {
     "name": "stdout",
     "output_type": "stream",
     "text": [
      "Epoch 1/2\n",
      "WARNING:tensorflow:From /usr/local/lib/python3.6/dist-packages/tensorflow/python/data/ops/multi_device_iterator_ops.py:601: get_next_as_optional (from tensorflow.python.data.ops.iterator_ops) is deprecated and will be removed in a future version.\n",
      "Instructions for updating:\n",
      "Use `tf.data.Iterator.get_next_as_optional()` instead.\n"
     ]
    },
    {
     "name": "stderr",
     "output_type": "stream",
     "text": [
      "WARNING:tensorflow:From /usr/local/lib/python3.6/dist-packages/tensorflow/python/data/ops/multi_device_iterator_ops.py:601: get_next_as_optional (from tensorflow.python.data.ops.iterator_ops) is deprecated and will be removed in a future version.\n",
      "Instructions for updating:\n",
      "Use `tf.data.Iterator.get_next_as_optional()` instead.\n"
     ]
    },
    {
     "name": "stdout",
     "output_type": "stream",
     "text": [
      "WARNING:tensorflow:Gradients do not exist for variables ['tfxlm_roberta_model/roberta/pooler/dense/kernel:0', 'tfxlm_roberta_model/roberta/pooler/dense/bias:0'] when minimizing the loss.\n"
     ]
    },
    {
     "name": "stderr",
     "output_type": "stream",
     "text": [
      "WARNING:tensorflow:Gradients do not exist for variables ['tfxlm_roberta_model/roberta/pooler/dense/kernel:0', 'tfxlm_roberta_model/roberta/pooler/dense/bias:0'] when minimizing the loss.\n"
     ]
    },
    {
     "name": "stdout",
     "output_type": "stream",
     "text": [
      "WARNING:tensorflow:Gradients do not exist for variables ['tfxlm_roberta_model/roberta/pooler/dense/kernel:0', 'tfxlm_roberta_model/roberta/pooler/dense/bias:0'] when minimizing the loss.\n"
     ]
    },
    {
     "name": "stderr",
     "output_type": "stream",
     "text": [
      "WARNING:tensorflow:Gradients do not exist for variables ['tfxlm_roberta_model/roberta/pooler/dense/kernel:0', 'tfxlm_roberta_model/roberta/pooler/dense/bias:0'] when minimizing the loss.\n"
     ]
    },
    {
     "name": "stdout",
     "output_type": "stream",
     "text": [
      "WARNING:tensorflow:Gradients do not exist for variables ['tfxlm_roberta_model/roberta/pooler/dense/kernel:0', 'tfxlm_roberta_model/roberta/pooler/dense/bias:0'] when minimizing the loss.\n"
     ]
    },
    {
     "name": "stderr",
     "output_type": "stream",
     "text": [
      "WARNING:tensorflow:Gradients do not exist for variables ['tfxlm_roberta_model/roberta/pooler/dense/kernel:0', 'tfxlm_roberta_model/roberta/pooler/dense/bias:0'] when minimizing the loss.\n"
     ]
    },
    {
     "name": "stdout",
     "output_type": "stream",
     "text": [
      "WARNING:tensorflow:Gradients do not exist for variables ['tfxlm_roberta_model/roberta/pooler/dense/kernel:0', 'tfxlm_roberta_model/roberta/pooler/dense/bias:0'] when minimizing the loss.\n"
     ]
    },
    {
     "name": "stderr",
     "output_type": "stream",
     "text": [
      "WARNING:tensorflow:Gradients do not exist for variables ['tfxlm_roberta_model/roberta/pooler/dense/kernel:0', 'tfxlm_roberta_model/roberta/pooler/dense/bias:0'] when minimizing the loss.\n"
     ]
    },
    {
     "name": "stdout",
     "output_type": "stream",
     "text": [
      "   2/8233 [..............................] - ETA: 13:21 - loss: 5.1659 - accuracy: 0.0000e+00WARNING:tensorflow:Callbacks method `on_train_batch_end` is slow compared to the batch time (batch time: 0.0172s vs `on_train_batch_end` time: 0.1746s). Check your callbacks.\n"
     ]
    },
    {
     "name": "stderr",
     "output_type": "stream",
     "text": [
      "WARNING:tensorflow:Callbacks method `on_train_batch_end` is slow compared to the batch time (batch time: 0.0172s vs `on_train_batch_end` time: 0.1746s). Check your callbacks.\n"
     ]
    },
    {
     "name": "stdout",
     "output_type": "stream",
     "text": [
      "8233/8233 [==============================] - ETA: 0s - loss: 0.0212 - accuracy: 0.9946WARNING:tensorflow:Callbacks method `on_test_batch_end` is slow compared to the batch time (batch time: 0.0044s vs `on_test_batch_end` time: 0.0459s). Check your callbacks.\n"
     ]
    },
    {
     "name": "stderr",
     "output_type": "stream",
     "text": [
      "WARNING:tensorflow:Callbacks method `on_test_batch_end` is slow compared to the batch time (batch time: 0.0044s vs `on_test_batch_end` time: 0.0459s). Check your callbacks.\n"
     ]
    },
    {
     "name": "stdout",
     "output_type": "stream",
     "text": [
      "\b\b\b\b\b\b\b\b\b\b\b\b\b\b\b\b\b\b\b\b\b\b\b\b\b\b\b\b\b\b\b\b\b\b\b\b\b\b\b\b\b\b\b\b\b\b\b\b\b\b\b\b\b\b\b\b\b\b\b\b\b\b\b\b\b\b\b\b\b\b\b\b\b\b\b\b\b\b\b\b\b\b\b\b\b\b\r",
      "8233/8233 [==============================] - 1811s 220ms/step - loss: 0.0212 - accuracy: 0.9946 - val_loss: 0.0034 - val_accuracy: 0.9996\n",
      "Epoch 2/2\n",
      "8233/8233 [==============================] - 1809s 220ms/step - loss: 1.4633e-05 - accuracy: 1.0000 - val_loss: 4.1287e-06 - val_accuracy: 1.0000\n"
     ]
    },
    {
     "data": {
      "text/plain": [
       "<tensorflow.python.keras.callbacks.History at 0x7f42747c0e80>"
      ]
     },
     "execution_count": 46,
     "metadata": {
      "tags": []
     },
     "output_type": "execute_result"
    }
   ],
   "source": [
    "history = LossHistory()\n",
    "model.fit(\n",
    "      train,steps_per_epoch=steps_per_epoch,\n",
    "      epochs=EPOCHS,callbacks=[history], validation_data=valid,\n",
    ")"
   ]
  },
  {
   "cell_type": "code",
   "execution_count": null,
   "metadata": {
    "colab": {
     "base_uri": "https://localhost:8080/",
     "height": 88
    },
    "colab_type": "code",
    "executionInfo": {
     "elapsed": 6900510,
     "status": "ok",
     "timestamp": 1599091139596,
     "user": {
      "displayName": "Ur Tech Guide",
      "photoUrl": "https://lh3.googleusercontent.com/a-/AOh14GhBjMoWnc1KwT73B6hzAbvnSIxnZAl5PY9n_RGJ0w=s64",
      "userId": "03152431167485721857"
     },
     "user_tz": -300
    },
    "id": "dXTk4TflvKBa",
    "outputId": "555efd36-de21-4295-be24-e24579b28348"
   },
   "outputs": [
    {
     "name": "stdout",
     "output_type": "stream",
     "text": [
      "   2/2889 [..............................] - ETA: 4:08:16WARNING:tensorflow:Callbacks method `on_predict_batch_end` is slow compared to the batch time (batch time: 0.0046s vs `on_predict_batch_end` time: 0.0481s). Check your callbacks.\n"
     ]
    },
    {
     "name": "stderr",
     "output_type": "stream",
     "text": [
      "WARNING:tensorflow:Callbacks method `on_predict_batch_end` is slow compared to the batch time (batch time: 0.0046s vs `on_predict_batch_end` time: 0.0481s). Check your callbacks.\n"
     ]
    },
    {
     "name": "stdout",
     "output_type": "stream",
     "text": [
      "2889/2889 [==============================] - 152s 53ms/step\n"
     ]
    }
   ],
   "source": [
    "y_pred=model.predict(test,verbose=1)\n",
    "y_true=np.array(tf.keras.utils.to_categorical(df_test['3_way_label'].values))"
   ]
  },
  {
   "cell_type": "code",
   "execution_count": null,
   "metadata": {
    "colab": {},
    "colab_type": "code",
    "id": "Bwt6J7RCvNU7"
   },
   "outputs": [],
   "source": [
    "saved_history=np.array(history.losses)\n",
    "np.save('y_pred_Fakeddit(3-way)_run(1).npy',y_pred,allow_pickle=True)\n",
    "np.save('saved_history_Fakeddit(3-way)_run(1).npy',saved_history)"
   ]
  },
  {
   "cell_type": "code",
   "execution_count": null,
   "metadata": {
    "colab": {
     "base_uri": "https://localhost:8080/",
     "height": 626
    },
    "colab_type": "code",
    "executionInfo": {
     "elapsed": 4243,
     "status": "ok",
     "timestamp": 1599091190893,
     "user": {
      "displayName": "Ur Tech Guide",
      "photoUrl": "https://lh3.googleusercontent.com/a-/AOh14GhBjMoWnc1KwT73B6hzAbvnSIxnZAl5PY9n_RGJ0w=s64",
      "userId": "03152431167485721857"
     },
     "user_tz": -300
    },
    "id": "JeV0gMGUvQk1",
    "outputId": "79495deb-37d9-4b28-d590-0a279bc75000"
   },
   "outputs": [
    {
     "data": {
      "image/png": "[encoded data removed]",
      "text/plain": [
       "<Figure size 864x720 with 1 Axes>"
      ]
     },
     "metadata": {
      "tags": []
     },
     "output_type": "display_data"
    }
   ],
   "source": [
    "plot_loss(history.losses,'GBX on Fakeddit(3-way) Dataset-Run(1)')"
   ]
  },
  {
   "cell_type": "code",
   "execution_count": null,
   "metadata": {
    "colab": {
     "base_uri": "https://localhost:8080/",
     "height": 626
    },
    "colab_type": "code",
    "executionInfo": {
     "elapsed": 2073,
     "status": "ok",
     "timestamp": 1599091278930,
     "user": {
      "displayName": "Ur Tech Guide",
      "photoUrl": "https://lh3.googleusercontent.com/a-/AOh14GhBjMoWnc1KwT73B6hzAbvnSIxnZAl5PY9n_RGJ0w=s64",
      "userId": "03152431167485721857"
     },
     "user_tz": -300
    },
    "id": "7GZOVHY6vTWe",
    "outputId": "1d3b7996-cf31-4714-8e91-d5483aae0ea5"
   },
   "outputs": [
    {
     "data": {
      "image/png": "[encoded data removed]",
      "text/plain": [
       "<Figure size 720x720 with 2 Axes>"
      ]
     },
     "metadata": {
      "tags": []
     },
     "output_type": "display_data"
    }
   ],
   "source": [
    "plot_cm(y_true, y_pred, 'GBX on Fakeddit(3-way) Dataset-Run(1)')"
   ]
  },
  {
   "cell_type": "code",
   "execution_count": null,
   "metadata": {
    "colab": {
     "base_uri": "https://localhost:8080/",
     "height": 204
    },
    "colab_type": "code",
    "executionInfo": {
     "elapsed": 1093,
     "status": "ok",
     "timestamp": 1599091284816,
     "user": {
      "displayName": "Ur Tech Guide",
      "photoUrl": "https://lh3.googleusercontent.com/a-/AOh14GhBjMoWnc1KwT73B6hzAbvnSIxnZAl5PY9n_RGJ0w=s64",
      "userId": "03152431167485721857"
     },
     "user_tz": -300
    },
    "id": "JPDfWLB0vbrY",
    "outputId": "18a66467-bb02-4f87-c741-8109824735ab"
   },
   "outputs": [
    {
     "name": "stdout",
     "output_type": "stream",
     "text": [
      "The accuracy of the model GBX on Fakeddit(3-way) Dataset-Run(1) is Accuracy: 100.000%\n",
      "                             precision    recall  f1-score   support\n",
      "\n",
      "                       True       1.00      1.00      1.00     42344\n",
      " Fake Sample with True Text       1.00      1.00      1.00      1770\n",
      "Fake Sample with False Text       1.00      1.00      1.00     48330\n",
      "\n",
      "                   accuracy                           1.00     92444\n",
      "                  macro avg       1.00      1.00      1.00     92444\n",
      "               weighted avg       1.00      1.00      1.00     92444\n",
      "\n"
     ]
    }
   ],
   "source": [
    "accuracy(y_true,y_pred,'GBX on Fakeddit(3-way) Dataset-Run(1)')"
   ]
  },
  {
   "cell_type": "markdown",
   "metadata": {
    "colab_type": "text",
    "id": "IIuDxrZjdcja"
   },
   "source": [
    "### 6-Way Label"
   ]
  },
  {
   "cell_type": "markdown",
   "metadata": {
    "colab_type": "text",
    "id": "GT2C2Njkdb6y"
   },
   "source": [
    "#### Following Parameters were used-Run(1)\n",
    "\n",
    "\n",
    "1.   BATCH_SIZE = 32\n",
    "2.   EPOCHS=2\n",
    "3.   LEARNING_RATE=3e-5\n",
    "4.   BETA_1=0.9-BETA_2=0.999\n",
    "5.   Scheduler=Linear with Intial Learning Rate of 3e-5\n",
    "6.   Freezing=No Layer was Freezed\n",
    "7.   MAX_LEN=256\n",
    "8.   Trained on TPU(Google Colab)"
   ]
  },
  {
   "cell_type": "code",
   "execution_count": null,
   "metadata": {
    "colab": {
     "base_uri": "https://localhost:8080/",
     "height": 1000,
     "referenced_widgets": [
      "6857f16c95d54be0ad9746e58d2034ff",
      "f4c010cd927d4e7092025bf57ff19002",
      "3e5375efa1944f91be2c8aba87ec9ec2",
      "dfc477a98c0e4d83beba85a935f06344",
      "2ec485e0383c4bb783028f51594b5440",
      "467ddc56d4b9414893612bd15689b64c",
      "14c714d451d64ae193c3803794c52bde",
      "fa1a352c62fa4fa7aa689d48e8e3c307",
      "58743d543e06417eaca886f998d6ec85",
      "cedaea9a90514591b81879c6050a4a1b",
      "0a48f3c82e5c46218511a1322432325f",
      "a286718107364ad38ac7f8f7d04697a8",
      "84d76c98c705482a8981220cf5e1368b",
      "e6e11ec438c8415593fd15189f45a859",
      "157ca51510164da0958c2fdebc89d6fa",
      "3e4b2eb3d3c74532ba6ade8902642c7b",
      "db4ca80d2e084c73935d7f329b412f1e",
      "73a0a249aeed41e29e85812cbc3cd001",
      "27f6fee5e4de4176aa8923f30816f2b6",
      "f4b96d9482c14f6cbe442b3ed41228ba",
      "c9113fe44bfa472e9d0a0c23131cd492",
      "5779fe2e9ee14aab865040b0d13b9cd9",
      "20c00af9a3c4451580edf1e8d6508049",
      "7d49a6328bfd47aa8cc1ed7267ad65b2",
      "730d8fc16f8043fd9f22a28aa8f17b81",
      "6b5dfa9b4c5d4dffa5dde623c08eba77",
      "5143ab88996f4acab353ffe9ef13ce69",
      "67a7a01efc9a4c9a9342e62e03ccb370",
      "fe14c757157740b095ed0d7a1537f499",
      "39a6316f65784200a36f12e1c5446f69",
      "4227c09c54e1432f878ac6d1c05f83ea",
      "c798a10a9dec49a5be22629b5db04ae1",
      "3e6d3b461e6f4ec1ac236fd56b4f706d",
      "706422d0b391488690f29c2e0a6a8a85",
      "4212640319a044ba85fffbf89fd9b82f",
      "2753be34143747e0a4acd4a2d9a71813",
      "f525cbec7f4346178fc5d8966131c2d0",
      "f44735740f784ca7932018686df72f2a",
      "77bf4dae77ce4fbf9e2c97f78e92892e",
      "b837f110f91c471abd5f37e1f303feca"
     ]
    },
    "colab_type": "code",
    "executionInfo": {
     "elapsed": 2883831,
     "status": "ok",
     "timestamp": 1600062701477,
     "user": {
      "displayName": "Ur Tech Guide",
      "photoUrl": "https://lh3.googleusercontent.com/a-/AOh14GhBjMoWnc1KwT73B6hzAbvnSIxnZAl5PY9n_RGJ0w=s64",
      "userId": "03152431167485721857"
     },
     "user_tz": -300
    },
    "id": "5Le4wXbRwXzJ",
    "outputId": "55519ad8-66c7-4571-a6e2-01144629c8bc"
   },
   "outputs": [
    {
     "data": {
      "application/vnd.jupyter.widget-view+json": {
       "model_id": "6857f16c95d54be0ad9746e58d2034ff",
       "version_major": 2,
       "version_minor": 0
      },
      "text/plain": [
       "HBox(children=(FloatProgress(value=0.0, description='Downloading', max=442.0, style=ProgressStyle(description_…"
      ]
     },
     "metadata": {
      "tags": []
     },
     "output_type": "display_data"
    },
    {
     "name": "stdout",
     "output_type": "stream",
     "text": [
      "\n"
     ]
    },
    {
     "data": {
      "application/vnd.jupyter.widget-view+json": {
       "model_id": "58743d543e06417eaca886f998d6ec85",
       "version_major": 2,
       "version_minor": 0
      },
      "text/plain": [
       "HBox(children=(FloatProgress(value=0.0, description='Downloading', max=363423424.0, style=ProgressStyle(descri…"
      ]
     },
     "metadata": {
      "tags": []
     },
     "output_type": "display_data"
    },
    {
     "name": "stdout",
     "output_type": "stream",
     "text": [
      "\n"
     ]
    },
    {
     "name": "stderr",
     "output_type": "stream",
     "text": [
      "Some weights of the model checkpoint at distilbert-base-uncased were not used when initializing TFDistilBertModel: ['vocab_projector', 'activation_13', 'vocab_transform', 'vocab_layer_norm']\n",
      "- This IS expected if you are initializing TFDistilBertModel from the checkpoint of a model trained on another task or with another architecture (e.g. initializing a BertForSequenceClassification model from a BertForPretraining model).\n",
      "- This IS NOT expected if you are initializing TFDistilBertModel from the checkpoint of a model that you expect to be exactly identical (initializing a BertForSequenceClassification model from a BertForSequenceClassification model).\n",
      "All the weights of TFDistilBertModel were initialized from the model checkpoint at distilbert-base-uncased.\n",
      "If your task is similar to the task the model of the checkpoint was trained on, you can already use TFDistilBertModel for predictions without further training.\n"
     ]
    },
    {
     "data": {
      "application/vnd.jupyter.widget-view+json": {
       "model_id": "db4ca80d2e084c73935d7f329b412f1e",
       "version_major": 2,
       "version_minor": 0
      },
      "text/plain": [
       "HBox(children=(FloatProgress(value=0.0, description='Downloading', max=762.0, style=ProgressStyle(description_…"
      ]
     },
     "metadata": {
      "tags": []
     },
     "output_type": "display_data"
    },
    {
     "name": "stdout",
     "output_type": "stream",
     "text": [
      "\n"
     ]
    },
    {
     "data": {
      "application/vnd.jupyter.widget-view+json": {
       "model_id": "730d8fc16f8043fd9f22a28aa8f17b81",
       "version_major": 2,
       "version_minor": 0
      },
      "text/plain": [
       "HBox(children=(FloatProgress(value=0.0, description='Downloading', max=327744160.0, style=ProgressStyle(descri…"
      ]
     },
     "metadata": {
      "tags": []
     },
     "output_type": "display_data"
    },
    {
     "name": "stdout",
     "output_type": "stream",
     "text": [
      "\n"
     ]
    },
    {
     "name": "stderr",
     "output_type": "stream",
     "text": [
      "All model checkpoint weights were used when initializing TFGPT2Model.\n",
      "\n",
      "All the weights of TFGPT2Model were initialized from the model checkpoint at distilgpt2.\n",
      "If your task is similar to the task the model of the checkpoint was trained on, you can already use TFGPT2Model for predictions without further training.\n"
     ]
    },
    {
     "data": {
      "application/vnd.jupyter.widget-view+json": {
       "model_id": "3e6d3b461e6f4ec1ac236fd56b4f706d",
       "version_major": 2,
       "version_minor": 0
      },
      "text/plain": [
       "HBox(children=(FloatProgress(value=0.0, description='Downloading', max=487203636.0, style=ProgressStyle(descri…"
      ]
     },
     "metadata": {
      "tags": []
     },
     "output_type": "display_data"
    },
    {
     "name": "stdout",
     "output_type": "stream",
     "text": [
      "\n"
     ]
    },
    {
     "name": "stderr",
     "output_type": "stream",
     "text": [
      "Some weights of the model checkpoint at distilroberta-base were not used when initializing TFXLMRobertaModel: ['lm_head']\n",
      "- This IS expected if you are initializing TFXLMRobertaModel from the checkpoint of a model trained on another task or with another architecture (e.g. initializing a BertForSequenceClassification model from a BertForPretraining model).\n",
      "- This IS NOT expected if you are initializing TFXLMRobertaModel from the checkpoint of a model that you expect to be exactly identical (initializing a BertForSequenceClassification model from a BertForSequenceClassification model).\n",
      "All the weights of TFXLMRobertaModel were initialized from the model checkpoint at distilroberta-base.\n",
      "If your task is similar to the task the model of the checkpoint was trained on, you can already use TFXLMRobertaModel for predictions without further training.\n"
     ]
    },
    {
     "name": "stdout",
     "output_type": "stream",
     "text": [
      "Model: \"functional_1\"\n",
      "__________________________________________________________________________________________________\n",
      "Layer (type)                    Output Shape         Param #     Connected to                     \n",
      "==================================================================================================\n",
      "input_ids_distill_bert (InputLa [(None, 256)]        0                                            \n",
      "__________________________________________________________________________________________________\n",
      "attention_mask_distill_bert (In [(None, 256)]        0                                            \n",
      "__________________________________________________________________________________________________\n",
      "attention_mask_gpt_2 (InputLaye [(None, 256)]        0                                            \n",
      "__________________________________________________________________________________________________\n",
      "input_ids_gpt_2 (InputLayer)    [(None, 256)]        0                                            \n",
      "__________________________________________________________________________________________________\n",
      "input_ids_roberta (InputLayer)  [(None, 256)]        0                                            \n",
      "__________________________________________________________________________________________________\n",
      "attention_mask_roberta (InputLa [(None, 256)]        0                                            \n",
      "__________________________________________________________________________________________________\n",
      "tf_distil_bert_model (TFDistilB ((None, 256, 768),)  66362880    input_ids_distill_bert[0][0]     \n",
      "                                                                 attention_mask_distill_bert[0][0]\n",
      "__________________________________________________________________________________________________\n",
      "tfgp_t2model (TFGPT2Model)      ((None, 256, 768), ( 81912576    attention_mask_gpt_2[0][0]       \n",
      "                                                                 input_ids_gpt_2[0][0]            \n",
      "__________________________________________________________________________________________________\n",
      "tfxlm_roberta_model (TFXLMRober ((None, 256, 768), ( 82118400    input_ids_roberta[0][0]          \n",
      "                                                                 attention_mask_roberta[0][0]     \n",
      "__________________________________________________________________________________________________\n",
      "Concatenate_layer (Concatenate) (None, 256, 2304)    0           tf_distil_bert_model[0][0]       \n",
      "                                                                 tfgp_t2model[0][0]               \n",
      "                                                                 tfxlm_roberta_model[0][0]        \n",
      "__________________________________________________________________________________________________\n",
      "Conv_1d_layer (Conv1D)          (None, 256, 768)     5309184     Concatenate_layer[0][0]          \n",
      "__________________________________________________________________________________________________\n",
      "Average_Pooling_layer (GlobalAv (None, 768)          0           Conv_1d_layer[0][0]              \n",
      "__________________________________________________________________________________________________\n",
      "Softmax_Layer (Dense)           (None, 6)            4614        Average_Pooling_layer[0][0]      \n",
      "==================================================================================================\n",
      "Total params: 235,707,654\n",
      "Trainable params: 235,707,654\n",
      "Non-trainable params: 0\n",
      "__________________________________________________________________________________________________\n",
      "None\n"
     ]
    }
   ],
   "source": [
    "def compile_gbx(optim):\n",
    "  model=gbx_layers(types='6-way')\n",
    "  model.compile(optimizer=optim,loss=LOSS,metrics='accuracy')\n",
    "  print(model.summary())\n",
    "  return model\n",
    "\n",
    "\n",
    "train,valid=tensorflow_make_train_valid_data(X_train,y_train,X_valid,y_valid)\n",
    "del X_train,X_valid\n",
    "gc.collect()\n",
    "with strategy.scope():\n",
    "  model=compile_gbx(optimizer_with_schedule)"
   ]
  },
  {
   "cell_type": "code",
   "execution_count": null,
   "metadata": {
    "colab": {
     "base_uri": "https://localhost:8080/",
     "height": 428
    },
    "colab_type": "code",
    "executionInfo": {
     "elapsed": 3661691,
     "status": "ok",
     "timestamp": 1599171465543,
     "user": {
      "displayName": "Ur Tech Guide",
      "photoUrl": "https://lh3.googleusercontent.com/a-/AOh14GhBjMoWnc1KwT73B6hzAbvnSIxnZAl5PY9n_RGJ0w=s64",
      "userId": "03152431167485721857"
     },
     "user_tz": -300
    },
    "id": "jT4ZRKkJdnTy",
    "outputId": "d3a6245c-3fed-4b48-b595-73a79f244a06"
   },
   "outputs": [
    {
     "name": "stdout",
     "output_type": "stream",
     "text": [
      "Epoch 1/2\n",
      "WARNING:tensorflow:From /usr/local/lib/python3.6/dist-packages/tensorflow/python/data/ops/multi_device_iterator_ops.py:601: get_next_as_optional (from tensorflow.python.data.ops.iterator_ops) is deprecated and will be removed in a future version.\n",
      "Instructions for updating:\n",
      "Use `tf.data.Iterator.get_next_as_optional()` instead.\n"
     ]
    },
    {
     "name": "stderr",
     "output_type": "stream",
     "text": [
      "WARNING:tensorflow:From /usr/local/lib/python3.6/dist-packages/tensorflow/python/data/ops/multi_device_iterator_ops.py:601: get_next_as_optional (from tensorflow.python.data.ops.iterator_ops) is deprecated and will be removed in a future version.\n",
      "Instructions for updating:\n",
      "Use `tf.data.Iterator.get_next_as_optional()` instead.\n"
     ]
    },
    {
     "name": "stdout",
     "output_type": "stream",
     "text": [
      "WARNING:tensorflow:Gradients do not exist for variables ['tfxlm_roberta_model/roberta/pooler/dense/kernel:0', 'tfxlm_roberta_model/roberta/pooler/dense/bias:0'] when minimizing the loss.\n"
     ]
    },
    {
     "name": "stderr",
     "output_type": "stream",
     "text": [
      "WARNING:tensorflow:Gradients do not exist for variables ['tfxlm_roberta_model/roberta/pooler/dense/kernel:0', 'tfxlm_roberta_model/roberta/pooler/dense/bias:0'] when minimizing the loss.\n"
     ]
    },
    {
     "name": "stdout",
     "output_type": "stream",
     "text": [
      "WARNING:tensorflow:Gradients do not exist for variables ['tfxlm_roberta_model/roberta/pooler/dense/kernel:0', 'tfxlm_roberta_model/roberta/pooler/dense/bias:0'] when minimizing the loss.\n"
     ]
    },
    {
     "name": "stderr",
     "output_type": "stream",
     "text": [
      "WARNING:tensorflow:Gradients do not exist for variables ['tfxlm_roberta_model/roberta/pooler/dense/kernel:0', 'tfxlm_roberta_model/roberta/pooler/dense/bias:0'] when minimizing the loss.\n"
     ]
    },
    {
     "name": "stdout",
     "output_type": "stream",
     "text": [
      "WARNING:tensorflow:Gradients do not exist for variables ['tfxlm_roberta_model/roberta/pooler/dense/kernel:0', 'tfxlm_roberta_model/roberta/pooler/dense/bias:0'] when minimizing the loss.\n"
     ]
    },
    {
     "name": "stderr",
     "output_type": "stream",
     "text": [
      "WARNING:tensorflow:Gradients do not exist for variables ['tfxlm_roberta_model/roberta/pooler/dense/kernel:0', 'tfxlm_roberta_model/roberta/pooler/dense/bias:0'] when minimizing the loss.\n"
     ]
    },
    {
     "name": "stdout",
     "output_type": "stream",
     "text": [
      "WARNING:tensorflow:Gradients do not exist for variables ['tfxlm_roberta_model/roberta/pooler/dense/kernel:0', 'tfxlm_roberta_model/roberta/pooler/dense/bias:0'] when minimizing the loss.\n"
     ]
    },
    {
     "name": "stderr",
     "output_type": "stream",
     "text": [
      "WARNING:tensorflow:Gradients do not exist for variables ['tfxlm_roberta_model/roberta/pooler/dense/kernel:0', 'tfxlm_roberta_model/roberta/pooler/dense/bias:0'] when minimizing the loss.\n"
     ]
    },
    {
     "name": "stdout",
     "output_type": "stream",
     "text": [
      "   2/8233 [..............................] - ETA: 13:13 - loss: 4.0064 - accuracy: 0.0000e+00WARNING:tensorflow:Callbacks method `on_train_batch_end` is slow compared to the batch time (batch time: 0.0160s vs `on_train_batch_end` time: 0.1738s). Check your callbacks.\n"
     ]
    },
    {
     "name": "stderr",
     "output_type": "stream",
     "text": [
      "WARNING:tensorflow:Callbacks method `on_train_batch_end` is slow compared to the batch time (batch time: 0.0160s vs `on_train_batch_end` time: 0.1738s). Check your callbacks.\n"
     ]
    },
    {
     "name": "stdout",
     "output_type": "stream",
     "text": [
      "8233/8233 [==============================] - ETA: 0s - loss: 0.0175 - accuracy: 0.9948WARNING:tensorflow:Callbacks method `on_test_batch_end` is slow compared to the batch time (batch time: 0.0049s vs `on_test_batch_end` time: 0.0483s). Check your callbacks.\n"
     ]
    },
    {
     "name": "stderr",
     "output_type": "stream",
     "text": [
      "WARNING:tensorflow:Callbacks method `on_test_batch_end` is slow compared to the batch time (batch time: 0.0049s vs `on_test_batch_end` time: 0.0483s). Check your callbacks.\n"
     ]
    },
    {
     "name": "stdout",
     "output_type": "stream",
     "text": [
      "\b\b\b\b\b\b\b\b\b\b\b\b\b\b\b\b\b\b\b\b\b\b\b\b\b\b\b\b\b\b\b\b\b\b\b\b\b\b\b\b\b\b\b\b\b\b\b\b\b\b\b\b\b\b\b\b\b\b\b\b\b\b\b\b\b\b\b\b\b\b\b\b\b\b\b\b\b\b\b\b\b\b\b\b\b\b\r",
      "8233/8233 [==============================] - 1755s 213ms/step - loss: 0.0175 - accuracy: 0.9948 - val_loss: 9.4773 - val_accuracy: 0.4847\n",
      "Epoch 2/2\n",
      "8233/8233 [==============================] - 1757s 213ms/step - loss: 0.0414 - accuracy: 0.9981 - val_loss: 17.6670 - val_accuracy: 0.3527\n"
     ]
    },
    {
     "data": {
      "text/plain": [
       "<tensorflow.python.keras.callbacks.History at 0x7f957236e828>"
      ]
     },
     "execution_count": 47,
     "metadata": {
      "tags": []
     },
     "output_type": "execute_result"
    }
   ],
   "source": [
    "history = LossHistory()\n",
    "model.fit(\n",
    "      train,steps_per_epoch=steps_per_epoch,\n",
    "      epochs=EPOCHS,callbacks=[history], validation_data=valid,\n",
    ")"
   ]
  },
  {
   "cell_type": "code",
   "execution_count": null,
   "metadata": {
    "colab": {
     "base_uri": "https://localhost:8080/",
     "height": 88
    },
    "colab_type": "code",
    "executionInfo": {
     "elapsed": 161245,
     "status": "ok",
     "timestamp": 1599171626733,
     "user": {
      "displayName": "Ur Tech Guide",
      "photoUrl": "https://lh3.googleusercontent.com/a-/AOh14GhBjMoWnc1KwT73B6hzAbvnSIxnZAl5PY9n_RGJ0w=s64",
      "userId": "03152431167485721857"
     },
     "user_tz": -300
    },
    "id": "VG84oOtNdqfa",
    "outputId": "5c588f2d-cd4a-48b3-8cd6-17db198682b2"
   },
   "outputs": [
    {
     "name": "stdout",
     "output_type": "stream",
     "text": [
      "   2/2889 [..............................] - ETA: 4:09:53WARNING:tensorflow:Callbacks method `on_predict_batch_end` is slow compared to the batch time (batch time: 0.0054s vs `on_predict_batch_end` time: 0.0430s). Check your callbacks.\n"
     ]
    },
    {
     "name": "stderr",
     "output_type": "stream",
     "text": [
      "WARNING:tensorflow:Callbacks method `on_predict_batch_end` is slow compared to the batch time (batch time: 0.0054s vs `on_predict_batch_end` time: 0.0430s). Check your callbacks.\n"
     ]
    },
    {
     "name": "stdout",
     "output_type": "stream",
     "text": [
      "2889/2889 [==============================] - 152s 52ms/step\n"
     ]
    }
   ],
   "source": [
    "y_pred=model.predict(test,verbose=1)\n",
    "y_true=np.array(tf.keras.utils.to_categorical(df_test['6_way_label'].values))"
   ]
  },
  {
   "cell_type": "code",
   "execution_count": null,
   "metadata": {
    "colab": {},
    "colab_type": "code",
    "id": "lu7485y8dtFH"
   },
   "outputs": [],
   "source": [
    "saved_history=np.array(history.losses)\n",
    "np.save('y_pred_Fakeddit(6-way)_run(1).npy',y_pred,allow_pickle=True)\n",
    "np.save('saved_history_Fakeddit(6-way)_run(1).npy',saved_history)"
   ]
  },
  {
   "cell_type": "code",
   "execution_count": null,
   "metadata": {
    "colab": {
     "base_uri": "https://localhost:8080/",
     "height": 626
    },
    "colab_type": "code",
    "executionInfo": {
     "elapsed": 68,
     "status": "ok",
     "timestamp": 1599171626740,
     "user": {
      "displayName": "Ur Tech Guide",
      "photoUrl": "https://lh3.googleusercontent.com/a-/AOh14GhBjMoWnc1KwT73B6hzAbvnSIxnZAl5PY9n_RGJ0w=s64",
      "userId": "03152431167485721857"
     },
     "user_tz": -300
    },
    "id": "uCqhq9Tudwk4",
    "outputId": "fee90588-e5d9-45c2-fdb0-6457ea8c1406"
   },
   "outputs": [
    {
     "data": {
      "image/png": "[encoded data removed]",
      "text/plain": [
       "<Figure size 864x720 with 1 Axes>"
      ]
     },
     "metadata": {
      "tags": []
     },
     "output_type": "display_data"
    }
   ],
   "source": [
    "plot_loss(history.losses,'GBX on Fakeddit(6-way) Dataset-Run(1)')"
   ]
  },
  {
   "cell_type": "code",
   "execution_count": null,
   "metadata": {
    "colab": {
     "base_uri": "https://localhost:8080/",
     "height": 626
    },
    "colab_type": "code",
    "executionInfo": {
     "elapsed": 1895,
     "status": "ok",
     "timestamp": 1599171628602,
     "user": {
      "displayName": "Ur Tech Guide",
      "photoUrl": "https://lh3.googleusercontent.com/a-/AOh14GhBjMoWnc1KwT73B6hzAbvnSIxnZAl5PY9n_RGJ0w=s64",
      "userId": "03152431167485721857"
     },
     "user_tz": -300
    },
    "id": "O7KbBJI2dy-F",
    "outputId": "e707f453-eb93-4dd9-cbc9-f5be7e07977a"
   },
   "outputs": [
    {
     "data": {
      "image/png": "[encoded data removed]",
      "text/plain": [
       "<Figure size 720x720 with 2 Axes>"
      ]
     },
     "metadata": {
      "tags": []
     },
     "output_type": "display_data"
    }
   ],
   "source": [
    "plot_cm(y_true, y_pred, 'GBX on Fakeddit(6-way) Dataset-Run(1)')"
   ]
  },
  {
   "cell_type": "code",
   "execution_count": null,
   "metadata": {
    "colab": {
     "base_uri": "https://localhost:8080/",
     "height": 309
    },
    "colab_type": "code",
    "executionInfo": {
     "elapsed": 757,
     "status": "ok",
     "timestamp": 1599171945620,
     "user": {
      "displayName": "Ur Tech Guide",
      "photoUrl": "https://lh3.googleusercontent.com/a-/AOh14GhBjMoWnc1KwT73B6hzAbvnSIxnZAl5PY9n_RGJ0w=s64",
      "userId": "03152431167485721857"
     },
     "user_tz": -300
    },
    "id": "16TAS0RKd1P3",
    "outputId": "3199ac67-7557-40f0-9d89-a46d5f740058"
   },
   "outputs": [
    {
     "name": "stdout",
     "output_type": "stream",
     "text": [
      "The accuracy of the model GBX on Fakeddit(6-way) Dataset-Run(1) is Accuracy: 35.146%\n",
      "                     precision    recall  f1-score   support\n",
      "\n",
      "               True       0.00      0.00      0.00     42344\n",
      "      Satire/Parody       1.00      0.98      0.99      4447\n",
      " Misleading Content       0.00      0.00      0.00     15026\n",
      "   Imposter Content       0.00      0.00      0.00      2474\n",
      "   False Connection       0.31      1.00      0.47     25311\n",
      "Manipulated Content       0.53      1.00      0.69      2842\n",
      "\n",
      "           accuracy                           0.35     92444\n",
      "          macro avg       0.31      0.50      0.36     92444\n",
      "       weighted avg       0.15      0.35      0.20     92444\n",
      "\n"
     ]
    },
    {
     "name": "stderr",
     "output_type": "stream",
     "text": [
      "/usr/local/lib/python3.6/dist-packages/sklearn/metrics/_classification.py:1272: UndefinedMetricWarning: Precision and F-score are ill-defined and being set to 0.0 in labels with no predicted samples. Use `zero_division` parameter to control this behavior.\n",
      "  _warn_prf(average, modifier, msg_start, len(result))\n"
     ]
    }
   ],
   "source": [
    "accuracy(y_true,y_pred,'GBX on Fakeddit(6-way) Dataset-Run(1)')"
   ]
  },
  {
   "cell_type": "markdown",
   "metadata": {
    "colab_type": "text",
    "id": "KuHQg9sEFAdc"
   },
   "source": [
    "#### Following Parameters were used-Run(2)\n",
    "\n",
    "\n",
    "1.   BATCH_SIZE = 64\n",
    "2.   EPOCHS=6\n",
    "3.   LEARNING_RATE=1e-5\n",
    "4.   BETA_1=0.9-BETA_2=0.999\n",
    "5.   Scheduler=Cosine with Intial Learning Rate of 1e-5\n",
    "6.   Freezing=No Layer was Freezed\n",
    "7.   MAX_LEN=256\n",
    "8.   Trained on TPU(Google Colab)\n",
    "9.   Balanced Weights were Used"
   ]
  },
  {
   "cell_type": "code",
   "execution_count": null,
   "metadata": {
    "colab": {
     "base_uri": "https://localhost:8080/",
     "height": 554
    },
    "colab_type": "code",
    "executionInfo": {
     "elapsed": 7261161,
     "status": "ok",
     "timestamp": 1600070034777,
     "user": {
      "displayName": "Ur Tech Guide",
      "photoUrl": "https://lh3.googleusercontent.com/a-/AOh14GhBjMoWnc1KwT73B6hzAbvnSIxnZAl5PY9n_RGJ0w=s64",
      "userId": "03152431167485721857"
     },
     "user_tz": -300
    },
    "id": "4wPRJeb6d7pD",
    "outputId": "5b20475b-331c-4d0c-83e1-4e6e26ad2f6d"
   },
   "outputs": [
    {
     "name": "stdout",
     "output_type": "stream",
     "text": [
      "Epoch 1/6\n",
      "WARNING:tensorflow:From /usr/local/lib/python3.6/dist-packages/tensorflow/python/data/ops/multi_device_iterator_ops.py:601: get_next_as_optional (from tensorflow.python.data.ops.iterator_ops) is deprecated and will be removed in a future version.\n",
      "Instructions for updating:\n",
      "Use `tf.data.Iterator.get_next_as_optional()` instead.\n"
     ]
    },
    {
     "name": "stderr",
     "output_type": "stream",
     "text": [
      "WARNING:tensorflow:From /usr/local/lib/python3.6/dist-packages/tensorflow/python/data/ops/multi_device_iterator_ops.py:601: get_next_as_optional (from tensorflow.python.data.ops.iterator_ops) is deprecated and will be removed in a future version.\n",
      "Instructions for updating:\n",
      "Use `tf.data.Iterator.get_next_as_optional()` instead.\n"
     ]
    },
    {
     "name": "stdout",
     "output_type": "stream",
     "text": [
      "WARNING:tensorflow:Gradients do not exist for variables ['tfxlm_roberta_model/roberta/pooler/dense/kernel:0', 'tfxlm_roberta_model/roberta/pooler/dense/bias:0'] when minimizing the loss.\n"
     ]
    },
    {
     "name": "stderr",
     "output_type": "stream",
     "text": [
      "WARNING:tensorflow:Gradients do not exist for variables ['tfxlm_roberta_model/roberta/pooler/dense/kernel:0', 'tfxlm_roberta_model/roberta/pooler/dense/bias:0'] when minimizing the loss.\n"
     ]
    },
    {
     "name": "stdout",
     "output_type": "stream",
     "text": [
      "WARNING:tensorflow:Gradients do not exist for variables ['tfxlm_roberta_model/roberta/pooler/dense/kernel:0', 'tfxlm_roberta_model/roberta/pooler/dense/bias:0'] when minimizing the loss.\n"
     ]
    },
    {
     "name": "stderr",
     "output_type": "stream",
     "text": [
      "WARNING:tensorflow:Gradients do not exist for variables ['tfxlm_roberta_model/roberta/pooler/dense/kernel:0', 'tfxlm_roberta_model/roberta/pooler/dense/bias:0'] when minimizing the loss.\n"
     ]
    },
    {
     "name": "stdout",
     "output_type": "stream",
     "text": [
      "WARNING:tensorflow:Gradients do not exist for variables ['tfxlm_roberta_model/roberta/pooler/dense/kernel:0', 'tfxlm_roberta_model/roberta/pooler/dense/bias:0'] when minimizing the loss.\n"
     ]
    },
    {
     "name": "stderr",
     "output_type": "stream",
     "text": [
      "WARNING:tensorflow:Gradients do not exist for variables ['tfxlm_roberta_model/roberta/pooler/dense/kernel:0', 'tfxlm_roberta_model/roberta/pooler/dense/bias:0'] when minimizing the loss.\n"
     ]
    },
    {
     "name": "stdout",
     "output_type": "stream",
     "text": [
      "WARNING:tensorflow:Gradients do not exist for variables ['tfxlm_roberta_model/roberta/pooler/dense/kernel:0', 'tfxlm_roberta_model/roberta/pooler/dense/bias:0'] when minimizing the loss.\n"
     ]
    },
    {
     "name": "stderr",
     "output_type": "stream",
     "text": [
      "WARNING:tensorflow:Gradients do not exist for variables ['tfxlm_roberta_model/roberta/pooler/dense/kernel:0', 'tfxlm_roberta_model/roberta/pooler/dense/bias:0'] when minimizing the loss.\n"
     ]
    },
    {
     "name": "stdout",
     "output_type": "stream",
     "text": [
      "   2/4116 [..............................] - ETA: 9:07 - loss: 0.1989 - accuracy: 1.0000WARNING:tensorflow:Callbacks method `on_train_batch_end` is slow compared to the batch time (batch time: 0.0184s vs `on_train_batch_end` time: 0.2439s). Check your callbacks.\n"
     ]
    },
    {
     "name": "stderr",
     "output_type": "stream",
     "text": [
      "WARNING:tensorflow:Callbacks method `on_train_batch_end` is slow compared to the batch time (batch time: 0.0184s vs `on_train_batch_end` time: 0.2439s). Check your callbacks.\n"
     ]
    },
    {
     "name": "stdout",
     "output_type": "stream",
     "text": [
      "4116/4116 [==============================] - ETA: 0s - loss: 0.0187 - accuracy: 0.9963WARNING:tensorflow:Callbacks method `on_test_batch_end` is slow compared to the batch time (batch time: 0.0047s vs `on_test_batch_end` time: 0.0663s). Check your callbacks.\n"
     ]
    },
    {
     "name": "stderr",
     "output_type": "stream",
     "text": [
      "WARNING:tensorflow:Callbacks method `on_test_batch_end` is slow compared to the batch time (batch time: 0.0047s vs `on_test_batch_end` time: 0.0663s). Check your callbacks.\n"
     ]
    },
    {
     "name": "stdout",
     "output_type": "stream",
     "text": [
      "\b\b\b\b\b\b\b\b\b\b\b\b\b\b\b\b\b\b\b\b\b\b\b\b\b\b\b\b\b\b\b\b\b\b\b\b\b\b\b\b\b\b\b\b\b\b\b\b\b\b\b\b\b\b\b\b\b\b\b\b\b\b\b\b\b\b\b\b\b\b\b\b\b\b\b\b\b\b\b\b\b\b\b\b\b\b\r",
      "4116/4116 [==============================] - 1202s 292ms/step - loss: 0.0187 - accuracy: 0.9963 - val_loss: 1.0216 - val_accuracy: 0.7880\n",
      "Epoch 2/6\n",
      "4116/4116 [==============================] - 1180s 287ms/step - loss: 0.0017 - accuracy: 0.9996 - val_loss: 0.1045 - val_accuracy: 0.9510\n",
      "Epoch 3/6\n",
      "4116/4116 [==============================] - 1181s 287ms/step - loss: 3.6503e-04 - accuracy: 0.9999 - val_loss: 0.0064 - val_accuracy: 0.9995\n",
      "Epoch 4/6\n",
      "4116/4116 [==============================] - 1181s 287ms/step - loss: 1.1385e-05 - accuracy: 1.0000 - val_loss: 1.0556e-06 - val_accuracy: 1.0000\n",
      "Epoch 5/6\n",
      "4116/4116 [==============================] - 1180s 287ms/step - loss: 7.3317e-07 - accuracy: 1.0000 - val_loss: 3.3352e-08 - val_accuracy: 1.0000\n",
      "Epoch 6/6\n",
      "4116/4116 [==============================] - 1181s 287ms/step - loss: 2.2267e-07 - accuracy: 1.0000 - val_loss: 1.2605e-08 - val_accuracy: 1.0000\n"
     ]
    },
    {
     "data": {
      "text/plain": [
       "<tensorflow.python.keras.callbacks.History at 0x7fdd891be860>"
      ]
     },
     "execution_count": 48,
     "metadata": {
      "tags": []
     },
     "output_type": "execute_result"
    }
   ],
   "source": [
    "history = LossHistory()\n",
    "y_integers = np.argmax(y_train, axis=1)\n",
    "class_weights = compute_class_weight('balanced', np.unique(y_integers), y_integers)\n",
    "d_class_weights = dict(enumerate(class_weights))\n",
    "\n",
    "\n",
    "\n",
    "model.fit(\n",
    "        train,steps_per_epoch=steps_per_epoch,\n",
    "        epochs=EPOCHS,callbacks=[history,EARLY_STOP], validation_data=valid,class_weight=d_class_weights\n",
    "  )"
   ]
  },
  {
   "cell_type": "code",
   "execution_count": null,
   "metadata": {
    "colab": {
     "base_uri": "https://localhost:8080/",
     "height": 69
    },
    "colab_type": "code",
    "executionInfo": {
     "elapsed": 129880,
     "status": "ok",
     "timestamp": 1600070164695,
     "user": {
      "displayName": "Ur Tech Guide",
      "photoUrl": "https://lh3.googleusercontent.com/a-/AOh14GhBjMoWnc1KwT73B6hzAbvnSIxnZAl5PY9n_RGJ0w=s64",
      "userId": "03152431167485721857"
     },
     "user_tz": -300
    },
    "id": "ffDd_uNpF7Iv",
    "outputId": "29d8111c-038a-4b26-95ab-b3dec67be633"
   },
   "outputs": [
    {
     "name": "stdout",
     "output_type": "stream",
     "text": [
      "   2/1445 [..............................] - ETA: 2:05:28WARNING:tensorflow:Callbacks method `on_predict_batch_end` is slow compared to the batch time (batch time: 0.0046s vs `on_predict_batch_end` time: 0.0710s). Check your callbacks.\n"
     ]
    },
    {
     "name": "stderr",
     "output_type": "stream",
     "text": [
      "WARNING:tensorflow:Callbacks method `on_predict_batch_end` is slow compared to the batch time (batch time: 0.0046s vs `on_predict_batch_end` time: 0.0710s). Check your callbacks.\n"
     ]
    },
    {
     "name": "stdout",
     "output_type": "stream",
     "text": [
      "1445/1445 [==============================] - 119s 82ms/step\n"
     ]
    }
   ],
   "source": [
    "y_pred=model.predict(test,verbose=1)\n",
    "y_true=np.array(tf.keras.utils.to_categorical(df_test['6_way_label'].values))"
   ]
  },
  {
   "cell_type": "code",
   "execution_count": null,
   "metadata": {
    "colab": {},
    "colab_type": "code",
    "id": "b1Wk6m6RMxL_"
   },
   "outputs": [],
   "source": [
    "saved_history=np.array(history.losses)\n",
    "np.save('y_pred_Fakeddit(6-way)_run(2).npy',y_pred,allow_pickle=True)\n",
    "np.save('saved_history_Fakeddit(6-way)_run(2).npy',saved_history)"
   ]
  },
  {
   "cell_type": "code",
   "execution_count": null,
   "metadata": {
    "colab": {
     "base_uri": "https://localhost:8080/",
     "height": 626
    },
    "colab_type": "code",
    "executionInfo": {
     "elapsed": 1198,
     "status": "ok",
     "timestamp": 1600070207292,
     "user": {
      "displayName": "Ur Tech Guide",
      "photoUrl": "https://lh3.googleusercontent.com/a-/AOh14GhBjMoWnc1KwT73B6hzAbvnSIxnZAl5PY9n_RGJ0w=s64",
      "userId": "03152431167485721857"
     },
     "user_tz": -300
    },
    "id": "CkCwm8FgnW0N",
    "outputId": "a93a748e-1804-4c3c-c58e-877cda47dd06"
   },
   "outputs": [
    {
     "data": {
      "image/png": "[encoded data removed]",
      "text/plain": [
       "<Figure size 720x720 with 2 Axes>"
      ]
     },
     "metadata": {
      "tags": []
     },
     "output_type": "display_data"
    }
   ],
   "source": [
    "plot_cm(y_true, y_pred, 'GBX on Fakeddit(6-way) Dataset-Run(2)')"
   ]
  },
  {
   "cell_type": "code",
   "execution_count": null,
   "metadata": {
    "colab": {
     "base_uri": "https://localhost:8080/",
     "height": 626
    },
    "colab_type": "code",
    "executionInfo": {
     "elapsed": 131005,
     "status": "ok",
     "timestamp": 1600070165910,
     "user": {
      "displayName": "Ur Tech Guide",
      "photoUrl": "https://lh3.googleusercontent.com/a-/AOh14GhBjMoWnc1KwT73B6hzAbvnSIxnZAl5PY9n_RGJ0w=s64",
      "userId": "03152431167485721857"
     },
     "user_tz": -300
    },
    "id": "fi_CuEelM1D6",
    "outputId": "dcfc9e7b-a0db-4156-f262-f42a42ba46de"
   },
   "outputs": [
    {
     "data": {
      "image/png": "[encoded data removed]",
      "text/plain": [
       "<Figure size 864x720 with 1 Axes>"
      ]
     },
     "metadata": {
      "tags": []
     },
     "output_type": "display_data"
    }
   ],
   "source": [
    "plot_loss(history.losses,'GBX on Fakeddit(6-way) Dataset-Run(2)')"
   ]
  },
  {
   "cell_type": "code",
   "execution_count": null,
   "metadata": {
    "colab": {
     "base_uri": "https://localhost:8080/",
     "height": 260
    },
    "colab_type": "code",
    "executionInfo": {
     "elapsed": 130973,
     "status": "ok",
     "timestamp": 1600070165913,
     "user": {
      "displayName": "Ur Tech Guide",
      "photoUrl": "https://lh3.googleusercontent.com/a-/AOh14GhBjMoWnc1KwT73B6hzAbvnSIxnZAl5PY9n_RGJ0w=s64",
      "userId": "03152431167485721857"
     },
     "user_tz": -300
    },
    "id": "1G1_sRRsM7N6",
    "outputId": "05451c16-a805-4284-fdd5-58ca414bc133"
   },
   "outputs": [
    {
     "name": "stdout",
     "output_type": "stream",
     "text": [
      "The accuracy of the model GBX on Fakeddit(6-way) Dataset-Run(2) is Accuracy: 100.000%\n",
      "                     precision    recall  f1-score   support\n",
      "\n",
      "               True       1.00      1.00      1.00     42344\n",
      "      Satire/Parody       1.00      1.00      1.00      4447\n",
      " Misleading Content       1.00      1.00      1.00     15026\n",
      "   Imposter Content       1.00      1.00      1.00      2474\n",
      "   False Connection       1.00      1.00      1.00     25311\n",
      "Manipulated Content       1.00      1.00      1.00      2842\n",
      "\n",
      "           accuracy                           1.00     92444\n",
      "          macro avg       1.00      1.00      1.00     92444\n",
      "       weighted avg       1.00      1.00      1.00     92444\n",
      "\n"
     ]
    }
   ],
   "source": [
    "accuracy(y_true,y_pred,'GBX on Fakeddit(6-way) Dataset-Run(2)')"
   ]
  },
  {
   "cell_type": "code",
   "execution_count": null,
   "metadata": {
    "colab": {},
    "colab_type": "code",
    "id": "BC0LA3nuM9lG"
   },
   "outputs": [],
   "source": []
  }
 ],
 "metadata": {
  "accelerator": "TPU",
  "colab": {
   "authorship_tag": "ABX9TyMumi4oJdDnFGuZm1UgqKX1",
   "collapsed_sections": [],
   "mount_file_id": "19vgmJmrDaYQJ1L2-IhGJt92dLLlsYVhr",
   "name": "GBX model on Fakeddit.ipynb",
   "provenance": [],
   "toc_visible": true
  },
  "kernelspec": {
   "display_name": "Python 3",
   "language": "python",
   "name": "python3"
  },
  "language_info": {
   "codemirror_mode": {
    "name": "ipython",
    "version": 3
   },
   "file_extension": ".py",
   "mimetype": "text/x-python",
   "name": "python",
   "nbconvert_exporter": "python",
   "pygments_lexer": "ipython3",
   "version": "3.8.10"
  },
  "widgets": {
   "application/vnd.jupyter.widget-state+json": {
    "00be010e9fb74c868f248a883fa525a7": {
     "model_module": "@jupyter-widgets/controls",
     "model_name": "ProgressStyleModel",
     "state": {
      "_model_module": "@jupyter-widgets/controls",
      "_model_module_version": "1.5.0",
      "_model_name": "ProgressStyleModel",
      "_view_count": null,
      "_view_module": "@jupyter-widgets/base",
      "_view_module_version": "1.2.0",
      "_view_name": "StyleView",
      "bar_color": null,
      "description_width": "initial"
     }
    },
    "04d413315285451ebc5b366fd995f177": {
     "model_module": "@jupyter-widgets/base",
     "model_name": "LayoutModel",
     "state": {
      "_model_module": "@jupyter-widgets/base",
      "_model_module_version": "1.2.0",
      "_model_name": "LayoutModel",
      "_view_count": null,
      "_view_module": "@jupyter-widgets/base",
      "_view_module_version": "1.2.0",
      "_view_name": "LayoutView",
      "align_content": null,
      "align_items": null,
      "align_self": null,
      "border": null,
      "bottom": null,
      "display": null,
      "flex": null,
      "flex_flow": null,
      "grid_area": null,
      "grid_auto_columns": null,
      "grid_auto_flow": null,
      "grid_auto_rows": null,
      "grid_column": null,
      "grid_gap": null,
      "grid_row": null,
      "grid_template_areas": null,
      "grid_template_columns": null,
      "grid_template_rows": null,
      "height": null,
      "justify_content": null,
      "justify_items": null,
      "left": null,
      "margin": null,
      "max_height": null,
      "max_width": null,
      "min_height": null,
      "min_width": null,
      "object_fit": null,
      "object_position": null,
      "order": null,
      "overflow": null,
      "overflow_x": null,
      "overflow_y": null,
      "padding": null,
      "right": null,
      "top": null,
      "visibility": null,
      "width": null
     }
    },
    "07a0f59916cf4f1d9cb02ce3a63b8559": {
     "model_module": "@jupyter-widgets/controls",
     "model_name": "DescriptionStyleModel",
     "state": {
      "_model_module": "@jupyter-widgets/controls",
      "_model_module_version": "1.5.0",
      "_model_name": "DescriptionStyleModel",
      "_view_count": null,
      "_view_module": "@jupyter-widgets/base",
      "_view_module_version": "1.2.0",
      "_view_name": "StyleView",
      "description_width": ""
     }
    },
    "0a48f3c82e5c46218511a1322432325f": {
     "model_module": "@jupyter-widgets/controls",
     "model_name": "FloatProgressModel",
     "state": {
      "_dom_classes": [],
      "_model_module": "@jupyter-widgets/controls",
      "_model_module_version": "1.5.0",
      "_model_name": "FloatProgressModel",
      "_view_count": null,
      "_view_module": "@jupyter-widgets/controls",
      "_view_module_version": "1.5.0",
      "_view_name": "ProgressView",
      "bar_style": "success",
      "description": "Downloading: 100%",
      "description_tooltip": null,
      "layout": "IPY_MODEL_e6e11ec438c8415593fd15189f45a859",
      "max": 363423424,
      "min": 0,
      "orientation": "horizontal",
      "style": "IPY_MODEL_84d76c98c705482a8981220cf5e1368b",
      "value": 363423424
     }
    },
    "0e24480ab9184baf8b73f92f4752c1dc": {
     "model_module": "@jupyter-widgets/controls",
     "model_name": "ProgressStyleModel",
     "state": {
      "_model_module": "@jupyter-widgets/controls",
      "_model_module_version": "1.5.0",
      "_model_name": "ProgressStyleModel",
      "_view_count": null,
      "_view_module": "@jupyter-widgets/base",
      "_view_module_version": "1.2.0",
      "_view_name": "StyleView",
      "bar_color": null,
      "description_width": "initial"
     }
    },
    "14c714d451d64ae193c3803794c52bde": {
     "model_module": "@jupyter-widgets/controls",
     "model_name": "DescriptionStyleModel",
     "state": {
      "_model_module": "@jupyter-widgets/controls",
      "_model_module_version": "1.5.0",
      "_model_name": "DescriptionStyleModel",
      "_view_count": null,
      "_view_module": "@jupyter-widgets/base",
      "_view_module_version": "1.2.0",
      "_view_name": "StyleView",
      "description_width": ""
     }
    },
    "157ca51510164da0958c2fdebc89d6fa": {
     "model_module": "@jupyter-widgets/controls",
     "model_name": "DescriptionStyleModel",
     "state": {
      "_model_module": "@jupyter-widgets/controls",
      "_model_module_version": "1.5.0",
      "_model_name": "DescriptionStyleModel",
      "_view_count": null,
      "_view_module": "@jupyter-widgets/base",
      "_view_module_version": "1.2.0",
      "_view_name": "StyleView",
      "description_width": ""
     }
    },
    "17a384c09f414d9ab117b1309dde327c": {
     "model_module": "@jupyter-widgets/controls",
     "model_name": "HTMLModel",
     "state": {
      "_dom_classes": [],
      "_model_module": "@jupyter-widgets/controls",
      "_model_module_version": "1.5.0",
      "_model_name": "HTMLModel",
      "_view_count": null,
      "_view_module": "@jupyter-widgets/controls",
      "_view_module_version": "1.5.0",
      "_view_name": "HTMLView",
      "description": "",
      "description_tooltip": null,
      "layout": "IPY_MODEL_93cee09fe82b43858ceaaa46ff42173d",
      "placeholder": "​",
      "style": "IPY_MODEL_af8b84a838a5414595b245296a16eb80",
      "value": " 899k/899k [00:00&lt;00:00, 1.20MB/s]"
     }
    },
    "1e4660d4b5cf4e92969fb7fc16e0d77d": {
     "model_module": "@jupyter-widgets/base",
     "model_name": "LayoutModel",
     "state": {
      "_model_module": "@jupyter-widgets/base",
      "_model_module_version": "1.2.0",
      "_model_name": "LayoutModel",
      "_view_count": null,
      "_view_module": "@jupyter-widgets/base",
      "_view_module_version": "1.2.0",
      "_view_name": "LayoutView",
      "align_content": null,
      "align_items": null,
      "align_self": null,
      "border": null,
      "bottom": null,
      "display": null,
      "flex": null,
      "flex_flow": null,
      "grid_area": null,
      "grid_auto_columns": null,
      "grid_auto_flow": null,
      "grid_auto_rows": null,
      "grid_column": null,
      "grid_gap": null,
      "grid_row": null,
      "grid_template_areas": null,
      "grid_template_columns": null,
      "grid_template_rows": null,
      "height": null,
      "justify_content": null,
      "justify_items": null,
      "left": null,
      "margin": null,
      "max_height": null,
      "max_width": null,
      "min_height": null,
      "min_width": null,
      "object_fit": null,
      "object_position": null,
      "order": null,
      "overflow": null,
      "overflow_x": null,
      "overflow_y": null,
      "padding": null,
      "right": null,
      "top": null,
      "visibility": null,
      "width": null
     }
    },
    "20c00af9a3c4451580edf1e8d6508049": {
     "model_module": "@jupyter-widgets/controls",
     "model_name": "DescriptionStyleModel",
     "state": {
      "_model_module": "@jupyter-widgets/controls",
      "_model_module_version": "1.5.0",
      "_model_name": "DescriptionStyleModel",
      "_view_count": null,
      "_view_module": "@jupyter-widgets/base",
      "_view_module_version": "1.2.0",
      "_view_name": "StyleView",
      "description_width": ""
     }
    },
    "21244c7303354d00994dce452900f585": {
     "model_module": "@jupyter-widgets/controls",
     "model_name": "HBoxModel",
     "state": {
      "_dom_classes": [],
      "_model_module": "@jupyter-widgets/controls",
      "_model_module_version": "1.5.0",
      "_model_name": "HBoxModel",
      "_view_count": null,
      "_view_module": "@jupyter-widgets/controls",
      "_view_module_version": "1.5.0",
      "_view_name": "HBoxView",
      "box_style": "",
      "children": [
       "IPY_MODEL_9acf882e000043308e6e118668f49401",
       "IPY_MODEL_aa829a6f9aa14d16a4f7382bf8adbbd3"
      ],
      "layout": "IPY_MODEL_853f99f0b1324462a4b6369ddb85a944"
     }
    },
    "2753be34143747e0a4acd4a2d9a71813": {
     "model_module": "@jupyter-widgets/controls",
     "model_name": "HTMLModel",
     "state": {
      "_dom_classes": [],
      "_model_module": "@jupyter-widgets/controls",
      "_model_module_version": "1.5.0",
      "_model_name": "HTMLModel",
      "_view_count": null,
      "_view_module": "@jupyter-widgets/controls",
      "_view_module_version": "1.5.0",
      "_view_name": "HTMLView",
      "description": "",
      "description_tooltip": null,
      "layout": "IPY_MODEL_b837f110f91c471abd5f37e1f303feca",
      "placeholder": "​",
      "style": "IPY_MODEL_77bf4dae77ce4fbf9e2c97f78e92892e",
      "value": " 487M/487M [00:10&lt;00:00, 46.1MB/s]"
     }
    },
    "27f6fee5e4de4176aa8923f30816f2b6": {
     "model_module": "@jupyter-widgets/controls",
     "model_name": "FloatProgressModel",
     "state": {
      "_dom_classes": [],
      "_model_module": "@jupyter-widgets/controls",
      "_model_module_version": "1.5.0",
      "_model_name": "FloatProgressModel",
      "_view_count": null,
      "_view_module": "@jupyter-widgets/controls",
      "_view_module_version": "1.5.0",
      "_view_name": "ProgressView",
      "bar_style": "success",
      "description": "Downloading: 100%",
      "description_tooltip": null,
      "layout": "IPY_MODEL_5779fe2e9ee14aab865040b0d13b9cd9",
      "max": 762,
      "min": 0,
      "orientation": "horizontal",
      "style": "IPY_MODEL_c9113fe44bfa472e9d0a0c23131cd492",
      "value": 762
     }
    },
    "284f81a057da4890b0a86b298c9b1f09": {
     "model_module": "@jupyter-widgets/controls",
     "model_name": "HBoxModel",
     "state": {
      "_dom_classes": [],
      "_model_module": "@jupyter-widgets/controls",
      "_model_module_version": "1.5.0",
      "_model_name": "HBoxModel",
      "_view_count": null,
      "_view_module": "@jupyter-widgets/controls",
      "_view_module_version": "1.5.0",
      "_view_name": "HBoxView",
      "box_style": "",
      "children": [
       "IPY_MODEL_6805862898814c90a92db65562bee81e",
       "IPY_MODEL_612e506453214dcdbe1b556846df79b4"
      ],
      "layout": "IPY_MODEL_79f988a1662c4749bda276c31f22e38d"
     }
    },
    "2ec485e0383c4bb783028f51594b5440": {
     "model_module": "@jupyter-widgets/controls",
     "model_name": "ProgressStyleModel",
     "state": {
      "_model_module": "@jupyter-widgets/controls",
      "_model_module_version": "1.5.0",
      "_model_name": "ProgressStyleModel",
      "_view_count": null,
      "_view_module": "@jupyter-widgets/base",
      "_view_module_version": "1.2.0",
      "_view_name": "StyleView",
      "bar_color": null,
      "description_width": "initial"
     }
    },
    "2f3baf32f8df4210b14de201ed533d85": {
     "model_module": "@jupyter-widgets/base",
     "model_name": "LayoutModel",
     "state": {
      "_model_module": "@jupyter-widgets/base",
      "_model_module_version": "1.2.0",
      "_model_name": "LayoutModel",
      "_view_count": null,
      "_view_module": "@jupyter-widgets/base",
      "_view_module_version": "1.2.0",
      "_view_name": "LayoutView",
      "align_content": null,
      "align_items": null,
      "align_self": null,
      "border": null,
      "bottom": null,
      "display": null,
      "flex": null,
      "flex_flow": null,
      "grid_area": null,
      "grid_auto_columns": null,
      "grid_auto_flow": null,
      "grid_auto_rows": null,
      "grid_column": null,
      "grid_gap": null,
      "grid_row": null,
      "grid_template_areas": null,
      "grid_template_columns": null,
      "grid_template_rows": null,
      "height": null,
      "justify_content": null,
      "justify_items": null,
      "left": null,
      "margin": null,
      "max_height": null,
      "max_width": null,
      "min_height": null,
      "min_width": null,
      "object_fit": null,
      "object_position": null,
      "order": null,
      "overflow": null,
      "overflow_x": null,
      "overflow_y": null,
      "padding": null,
      "right": null,
      "top": null,
      "visibility": null,
      "width": null
     }
    },
    "3945cacfef6248b58d7860a4fe7ef1ad": {
     "model_module": "@jupyter-widgets/controls",
     "model_name": "ProgressStyleModel",
     "state": {
      "_model_module": "@jupyter-widgets/controls",
      "_model_module_version": "1.5.0",
      "_model_name": "ProgressStyleModel",
      "_view_count": null,
      "_view_module": "@jupyter-widgets/base",
      "_view_module_version": "1.2.0",
      "_view_name": "StyleView",
      "bar_color": null,
      "description_width": "initial"
     }
    },
    "39a6316f65784200a36f12e1c5446f69": {
     "model_module": "@jupyter-widgets/base",
     "model_name": "LayoutModel",
     "state": {
      "_model_module": "@jupyter-widgets/base",
      "_model_module_version": "1.2.0",
      "_model_name": "LayoutModel",
      "_view_count": null,
      "_view_module": "@jupyter-widgets/base",
      "_view_module_version": "1.2.0",
      "_view_name": "LayoutView",
      "align_content": null,
      "align_items": null,
      "align_self": null,
      "border": null,
      "bottom": null,
      "display": null,
      "flex": null,
      "flex_flow": null,
      "grid_area": null,
      "grid_auto_columns": null,
      "grid_auto_flow": null,
      "grid_auto_rows": null,
      "grid_column": null,
      "grid_gap": null,
      "grid_row": null,
      "grid_template_areas": null,
      "grid_template_columns": null,
      "grid_template_rows": null,
      "height": null,
      "justify_content": null,
      "justify_items": null,
      "left": null,
      "margin": null,
      "max_height": null,
      "max_width": null,
      "min_height": null,
      "min_width": null,
      "object_fit": null,
      "object_position": null,
      "order": null,
      "overflow": null,
      "overflow_x": null,
      "overflow_y": null,
      "padding": null,
      "right": null,
      "top": null,
      "visibility": null,
      "width": null
     }
    },
    "3e021c67193f4e5bb10fe4fde5505e10": {
     "model_module": "@jupyter-widgets/base",
     "model_name": "LayoutModel",
     "state": {
      "_model_module": "@jupyter-widgets/base",
      "_model_module_version": "1.2.0",
      "_model_name": "LayoutModel",
      "_view_count": null,
      "_view_module": "@jupyter-widgets/base",
      "_view_module_version": "1.2.0",
      "_view_name": "LayoutView",
      "align_content": null,
      "align_items": null,
      "align_self": null,
      "border": null,
      "bottom": null,
      "display": null,
      "flex": null,
      "flex_flow": null,
      "grid_area": null,
      "grid_auto_columns": null,
      "grid_auto_flow": null,
      "grid_auto_rows": null,
      "grid_column": null,
      "grid_gap": null,
      "grid_row": null,
      "grid_template_areas": null,
      "grid_template_columns": null,
      "grid_template_rows": null,
      "height": null,
      "justify_content": null,
      "justify_items": null,
      "left": null,
      "margin": null,
      "max_height": null,
      "max_width": null,
      "min_height": null,
      "min_width": null,
      "object_fit": null,
      "object_position": null,
      "order": null,
      "overflow": null,
      "overflow_x": null,
      "overflow_y": null,
      "padding": null,
      "right": null,
      "top": null,
      "visibility": null,
      "width": null
     }
    },
    "3e4b2eb3d3c74532ba6ade8902642c7b": {
     "model_module": "@jupyter-widgets/base",
     "model_name": "LayoutModel",
     "state": {
      "_model_module": "@jupyter-widgets/base",
      "_model_module_version": "1.2.0",
      "_model_name": "LayoutModel",
      "_view_count": null,
      "_view_module": "@jupyter-widgets/base",
      "_view_module_version": "1.2.0",
      "_view_name": "LayoutView",
      "align_content": null,
      "align_items": null,
      "align_self": null,
      "border": null,
      "bottom": null,
      "display": null,
      "flex": null,
      "flex_flow": null,
      "grid_area": null,
      "grid_auto_columns": null,
      "grid_auto_flow": null,
      "grid_auto_rows": null,
      "grid_column": null,
      "grid_gap": null,
      "grid_row": null,
      "grid_template_areas": null,
      "grid_template_columns": null,
      "grid_template_rows": null,
      "height": null,
      "justify_content": null,
      "justify_items": null,
      "left": null,
      "margin": null,
      "max_height": null,
      "max_width": null,
      "min_height": null,
      "min_width": null,
      "object_fit": null,
      "object_position": null,
      "order": null,
      "overflow": null,
      "overflow_x": null,
      "overflow_y": null,
      "padding": null,
      "right": null,
      "top": null,
      "visibility": null,
      "width": null
     }
    },
    "3e5375efa1944f91be2c8aba87ec9ec2": {
     "model_module": "@jupyter-widgets/controls",
     "model_name": "FloatProgressModel",
     "state": {
      "_dom_classes": [],
      "_model_module": "@jupyter-widgets/controls",
      "_model_module_version": "1.5.0",
      "_model_name": "FloatProgressModel",
      "_view_count": null,
      "_view_module": "@jupyter-widgets/controls",
      "_view_module_version": "1.5.0",
      "_view_name": "ProgressView",
      "bar_style": "success",
      "description": "Downloading: 100%",
      "description_tooltip": null,
      "layout": "IPY_MODEL_467ddc56d4b9414893612bd15689b64c",
      "max": 442,
      "min": 0,
      "orientation": "horizontal",
      "style": "IPY_MODEL_2ec485e0383c4bb783028f51594b5440",
      "value": 442
     }
    },
    "3e6d3b461e6f4ec1ac236fd56b4f706d": {
     "model_module": "@jupyter-widgets/controls",
     "model_name": "HBoxModel",
     "state": {
      "_dom_classes": [],
      "_model_module": "@jupyter-widgets/controls",
      "_model_module_version": "1.5.0",
      "_model_name": "HBoxModel",
      "_view_count": null,
      "_view_module": "@jupyter-widgets/controls",
      "_view_module_version": "1.5.0",
      "_view_name": "HBoxView",
      "box_style": "",
      "children": [
       "IPY_MODEL_4212640319a044ba85fffbf89fd9b82f",
       "IPY_MODEL_2753be34143747e0a4acd4a2d9a71813"
      ],
      "layout": "IPY_MODEL_706422d0b391488690f29c2e0a6a8a85"
     }
    },
    "4212640319a044ba85fffbf89fd9b82f": {
     "model_module": "@jupyter-widgets/controls",
     "model_name": "FloatProgressModel",
     "state": {
      "_dom_classes": [],
      "_model_module": "@jupyter-widgets/controls",
      "_model_module_version": "1.5.0",
      "_model_name": "FloatProgressModel",
      "_view_count": null,
      "_view_module": "@jupyter-widgets/controls",
      "_view_module_version": "1.5.0",
      "_view_name": "ProgressView",
      "bar_style": "success",
      "description": "Downloading: 100%",
      "description_tooltip": null,
      "layout": "IPY_MODEL_f44735740f784ca7932018686df72f2a",
      "max": 487203636,
      "min": 0,
      "orientation": "horizontal",
      "style": "IPY_MODEL_f525cbec7f4346178fc5d8966131c2d0",
      "value": 487203636
     }
    },
    "4227c09c54e1432f878ac6d1c05f83ea": {
     "model_module": "@jupyter-widgets/controls",
     "model_name": "DescriptionStyleModel",
     "state": {
      "_model_module": "@jupyter-widgets/controls",
      "_model_module_version": "1.5.0",
      "_model_name": "DescriptionStyleModel",
      "_view_count": null,
      "_view_module": "@jupyter-widgets/base",
      "_view_module_version": "1.2.0",
      "_view_name": "StyleView",
      "description_width": ""
     }
    },
    "467ddc56d4b9414893612bd15689b64c": {
     "model_module": "@jupyter-widgets/base",
     "model_name": "LayoutModel",
     "state": {
      "_model_module": "@jupyter-widgets/base",
      "_model_module_version": "1.2.0",
      "_model_name": "LayoutModel",
      "_view_count": null,
      "_view_module": "@jupyter-widgets/base",
      "_view_module_version": "1.2.0",
      "_view_name": "LayoutView",
      "align_content": null,
      "align_items": null,
      "align_self": null,
      "border": null,
      "bottom": null,
      "display": null,
      "flex": null,
      "flex_flow": null,
      "grid_area": null,
      "grid_auto_columns": null,
      "grid_auto_flow": null,
      "grid_auto_rows": null,
      "grid_column": null,
      "grid_gap": null,
      "grid_row": null,
      "grid_template_areas": null,
      "grid_template_columns": null,
      "grid_template_rows": null,
      "height": null,
      "justify_content": null,
      "justify_items": null,
      "left": null,
      "margin": null,
      "max_height": null,
      "max_width": null,
      "min_height": null,
      "min_width": null,
      "object_fit": null,
      "object_position": null,
      "order": null,
      "overflow": null,
      "overflow_x": null,
      "overflow_y": null,
      "padding": null,
      "right": null,
      "top": null,
      "visibility": null,
      "width": null
     }
    },
    "4b804d3e745a491a9650b6c344dc0cc6": {
     "model_module": "@jupyter-widgets/controls",
     "model_name": "HBoxModel",
     "state": {
      "_dom_classes": [],
      "_model_module": "@jupyter-widgets/controls",
      "_model_module_version": "1.5.0",
      "_model_name": "HBoxModel",
      "_view_count": null,
      "_view_module": "@jupyter-widgets/controls",
      "_view_module_version": "1.5.0",
      "_view_name": "HBoxView",
      "box_style": "",
      "children": [
       "IPY_MODEL_5bf5f17ee8cc4f08a562ca8f7811bab1",
       "IPY_MODEL_508433df2dc14b71a4218afe22eb9e2a"
      ],
      "layout": "IPY_MODEL_577c03bfb1cb4e37ac2360cbf5cef96e"
     }
    },
    "501f108885494f25b99e7dca62c54b71": {
     "model_module": "@jupyter-widgets/controls",
     "model_name": "HBoxModel",
     "state": {
      "_dom_classes": [],
      "_model_module": "@jupyter-widgets/controls",
      "_model_module_version": "1.5.0",
      "_model_name": "HBoxModel",
      "_view_count": null,
      "_view_module": "@jupyter-widgets/controls",
      "_view_module_version": "1.5.0",
      "_view_name": "HBoxView",
      "box_style": "",
      "children": [
       "IPY_MODEL_fc86cb59ed0b4ee4bdc348c2a8181f37",
       "IPY_MODEL_c4ef2cf07b0647c3babb1c37f84d8914"
      ],
      "layout": "IPY_MODEL_61bef20dd7f240c091ba1a38e89be082"
     }
    },
    "508433df2dc14b71a4218afe22eb9e2a": {
     "model_module": "@jupyter-widgets/controls",
     "model_name": "HTMLModel",
     "state": {
      "_dom_classes": [],
      "_model_module": "@jupyter-widgets/controls",
      "_model_module_version": "1.5.0",
      "_model_name": "HTMLModel",
      "_view_count": null,
      "_view_module": "@jupyter-widgets/controls",
      "_view_module_version": "1.5.0",
      "_view_name": "HTMLView",
      "description": "",
      "description_tooltip": null,
      "layout": "IPY_MODEL_d4c9d73d0b4a4b58b7bba6fcb5854098",
      "placeholder": "​",
      "style": "IPY_MODEL_fc1a0b61fd184ec88d70fe46f6b1d4af",
      "value": " 456k/456k [00:00&lt;00:00, 1.33MB/s]"
     }
    },
    "5143ab88996f4acab353ffe9ef13ce69": {
     "model_module": "@jupyter-widgets/controls",
     "model_name": "FloatProgressModel",
     "state": {
      "_dom_classes": [],
      "_model_module": "@jupyter-widgets/controls",
      "_model_module_version": "1.5.0",
      "_model_name": "FloatProgressModel",
      "_view_count": null,
      "_view_module": "@jupyter-widgets/controls",
      "_view_module_version": "1.5.0",
      "_view_name": "ProgressView",
      "bar_style": "success",
      "description": "Downloading: 100%",
      "description_tooltip": null,
      "layout": "IPY_MODEL_39a6316f65784200a36f12e1c5446f69",
      "max": 327744160,
      "min": 0,
      "orientation": "horizontal",
      "style": "IPY_MODEL_fe14c757157740b095ed0d7a1537f499",
      "value": 327744160
     }
    },
    "5779fe2e9ee14aab865040b0d13b9cd9": {
     "model_module": "@jupyter-widgets/base",
     "model_name": "LayoutModel",
     "state": {
      "_model_module": "@jupyter-widgets/base",
      "_model_module_version": "1.2.0",
      "_model_name": "LayoutModel",
      "_view_count": null,
      "_view_module": "@jupyter-widgets/base",
      "_view_module_version": "1.2.0",
      "_view_name": "LayoutView",
      "align_content": null,
      "align_items": null,
      "align_self": null,
      "border": null,
      "bottom": null,
      "display": null,
      "flex": null,
      "flex_flow": null,
      "grid_area": null,
      "grid_auto_columns": null,
      "grid_auto_flow": null,
      "grid_auto_rows": null,
      "grid_column": null,
      "grid_gap": null,
      "grid_row": null,
      "grid_template_areas": null,
      "grid_template_columns": null,
      "grid_template_rows": null,
      "height": null,
      "justify_content": null,
      "justify_items": null,
      "left": null,
      "margin": null,
      "max_height": null,
      "max_width": null,
      "min_height": null,
      "min_width": null,
      "object_fit": null,
      "object_position": null,
      "order": null,
      "overflow": null,
      "overflow_x": null,
      "overflow_y": null,
      "padding": null,
      "right": null,
      "top": null,
      "visibility": null,
      "width": null
     }
    },
    "577c03bfb1cb4e37ac2360cbf5cef96e": {
     "model_module": "@jupyter-widgets/base",
     "model_name": "LayoutModel",
     "state": {
      "_model_module": "@jupyter-widgets/base",
      "_model_module_version": "1.2.0",
      "_model_name": "LayoutModel",
      "_view_count": null,
      "_view_module": "@jupyter-widgets/base",
      "_view_module_version": "1.2.0",
      "_view_name": "LayoutView",
      "align_content": null,
      "align_items": null,
      "align_self": null,
      "border": null,
      "bottom": null,
      "display": null,
      "flex": null,
      "flex_flow": null,
      "grid_area": null,
      "grid_auto_columns": null,
      "grid_auto_flow": null,
      "grid_auto_rows": null,
      "grid_column": null,
      "grid_gap": null,
      "grid_row": null,
      "grid_template_areas": null,
      "grid_template_columns": null,
      "grid_template_rows": null,
      "height": null,
      "justify_content": null,
      "justify_items": null,
      "left": null,
      "margin": null,
      "max_height": null,
      "max_width": null,
      "min_height": null,
      "min_width": null,
      "object_fit": null,
      "object_position": null,
      "order": null,
      "overflow": null,
      "overflow_x": null,
      "overflow_y": null,
      "padding": null,
      "right": null,
      "top": null,
      "visibility": null,
      "width": null
     }
    },
    "58024910757643d28c5c5a060fddb294": {
     "model_module": "@jupyter-widgets/base",
     "model_name": "LayoutModel",
     "state": {
      "_model_module": "@jupyter-widgets/base",
      "_model_module_version": "1.2.0",
      "_model_name": "LayoutModel",
      "_view_count": null,
      "_view_module": "@jupyter-widgets/base",
      "_view_module_version": "1.2.0",
      "_view_name": "LayoutView",
      "align_content": null,
      "align_items": null,
      "align_self": null,
      "border": null,
      "bottom": null,
      "display": null,
      "flex": null,
      "flex_flow": null,
      "grid_area": null,
      "grid_auto_columns": null,
      "grid_auto_flow": null,
      "grid_auto_rows": null,
      "grid_column": null,
      "grid_gap": null,
      "grid_row": null,
      "grid_template_areas": null,
      "grid_template_columns": null,
      "grid_template_rows": null,
      "height": null,
      "justify_content": null,
      "justify_items": null,
      "left": null,
      "margin": null,
      "max_height": null,
      "max_width": null,
      "min_height": null,
      "min_width": null,
      "object_fit": null,
      "object_position": null,
      "order": null,
      "overflow": null,
      "overflow_x": null,
      "overflow_y": null,
      "padding": null,
      "right": null,
      "top": null,
      "visibility": null,
      "width": null
     }
    },
    "58743d543e06417eaca886f998d6ec85": {
     "model_module": "@jupyter-widgets/controls",
     "model_name": "HBoxModel",
     "state": {
      "_dom_classes": [],
      "_model_module": "@jupyter-widgets/controls",
      "_model_module_version": "1.5.0",
      "_model_name": "HBoxModel",
      "_view_count": null,
      "_view_module": "@jupyter-widgets/controls",
      "_view_module_version": "1.5.0",
      "_view_name": "HBoxView",
      "box_style": "",
      "children": [
       "IPY_MODEL_0a48f3c82e5c46218511a1322432325f",
       "IPY_MODEL_a286718107364ad38ac7f8f7d04697a8"
      ],
      "layout": "IPY_MODEL_cedaea9a90514591b81879c6050a4a1b"
     }
    },
    "5bf5f17ee8cc4f08a562ca8f7811bab1": {
     "model_module": "@jupyter-widgets/controls",
     "model_name": "FloatProgressModel",
     "state": {
      "_dom_classes": [],
      "_model_module": "@jupyter-widgets/controls",
      "_model_module_version": "1.5.0",
      "_model_name": "FloatProgressModel",
      "_view_count": null,
      "_view_module": "@jupyter-widgets/controls",
      "_view_module_version": "1.5.0",
      "_view_name": "ProgressView",
      "bar_style": "success",
      "description": "Downloading: 100%",
      "description_tooltip": null,
      "layout": "IPY_MODEL_5e531259734f40e89262abea7e54c9bd",
      "max": 456318,
      "min": 0,
      "orientation": "horizontal",
      "style": "IPY_MODEL_9f0af75fc2b04701813a52799664f0b9",
      "value": 456318
     }
    },
    "5e531259734f40e89262abea7e54c9bd": {
     "model_module": "@jupyter-widgets/base",
     "model_name": "LayoutModel",
     "state": {
      "_model_module": "@jupyter-widgets/base",
      "_model_module_version": "1.2.0",
      "_model_name": "LayoutModel",
      "_view_count": null,
      "_view_module": "@jupyter-widgets/base",
      "_view_module_version": "1.2.0",
      "_view_name": "LayoutView",
      "align_content": null,
      "align_items": null,
      "align_self": null,
      "border": null,
      "bottom": null,
      "display": null,
      "flex": null,
      "flex_flow": null,
      "grid_area": null,
      "grid_auto_columns": null,
      "grid_auto_flow": null,
      "grid_auto_rows": null,
      "grid_column": null,
      "grid_gap": null,
      "grid_row": null,
      "grid_template_areas": null,
      "grid_template_columns": null,
      "grid_template_rows": null,
      "height": null,
      "justify_content": null,
      "justify_items": null,
      "left": null,
      "margin": null,
      "max_height": null,
      "max_width": null,
      "min_height": null,
      "min_width": null,
      "object_fit": null,
      "object_position": null,
      "order": null,
      "overflow": null,
      "overflow_x": null,
      "overflow_y": null,
      "padding": null,
      "right": null,
      "top": null,
      "visibility": null,
      "width": null
     }
    },
    "612e506453214dcdbe1b556846df79b4": {
     "model_module": "@jupyter-widgets/controls",
     "model_name": "HTMLModel",
     "state": {
      "_dom_classes": [],
      "_model_module": "@jupyter-widgets/controls",
      "_model_module_version": "1.5.0",
      "_model_name": "HTMLModel",
      "_view_count": null,
      "_view_module": "@jupyter-widgets/controls",
      "_view_module_version": "1.5.0",
      "_view_name": "HTMLView",
      "description": "",
      "description_tooltip": null,
      "layout": "IPY_MODEL_04d413315285451ebc5b366fd995f177",
      "placeholder": "​",
      "style": "IPY_MODEL_91d1a726c01f4e29aa68f896b555342b",
      "value": " 456k/456k [00:00&lt;00:00, 2.17MB/s]"
     }
    },
    "61bef20dd7f240c091ba1a38e89be082": {
     "model_module": "@jupyter-widgets/base",
     "model_name": "LayoutModel",
     "state": {
      "_model_module": "@jupyter-widgets/base",
      "_model_module_version": "1.2.0",
      "_model_name": "LayoutModel",
      "_view_count": null,
      "_view_module": "@jupyter-widgets/base",
      "_view_module_version": "1.2.0",
      "_view_name": "LayoutView",
      "align_content": null,
      "align_items": null,
      "align_self": null,
      "border": null,
      "bottom": null,
      "display": null,
      "flex": null,
      "flex_flow": null,
      "grid_area": null,
      "grid_auto_columns": null,
      "grid_auto_flow": null,
      "grid_auto_rows": null,
      "grid_column": null,
      "grid_gap": null,
      "grid_row": null,
      "grid_template_areas": null,
      "grid_template_columns": null,
      "grid_template_rows": null,
      "height": null,
      "justify_content": null,
      "justify_items": null,
      "left": null,
      "margin": null,
      "max_height": null,
      "max_width": null,
      "min_height": null,
      "min_width": null,
      "object_fit": null,
      "object_position": null,
      "order": null,
      "overflow": null,
      "overflow_x": null,
      "overflow_y": null,
      "padding": null,
      "right": null,
      "top": null,
      "visibility": null,
      "width": null
     }
    },
    "67a7a01efc9a4c9a9342e62e03ccb370": {
     "model_module": "@jupyter-widgets/controls",
     "model_name": "HTMLModel",
     "state": {
      "_dom_classes": [],
      "_model_module": "@jupyter-widgets/controls",
      "_model_module_version": "1.5.0",
      "_model_name": "HTMLModel",
      "_view_count": null,
      "_view_module": "@jupyter-widgets/controls",
      "_view_module_version": "1.5.0",
      "_view_name": "HTMLView",
      "description": "",
      "description_tooltip": null,
      "layout": "IPY_MODEL_c798a10a9dec49a5be22629b5db04ae1",
      "placeholder": "​",
      "style": "IPY_MODEL_4227c09c54e1432f878ac6d1c05f83ea",
      "value": " 328M/328M [00:06&lt;00:00, 52.2MB/s]"
     }
    },
    "6805862898814c90a92db65562bee81e": {
     "model_module": "@jupyter-widgets/controls",
     "model_name": "FloatProgressModel",
     "state": {
      "_dom_classes": [],
      "_model_module": "@jupyter-widgets/controls",
      "_model_module_version": "1.5.0",
      "_model_name": "FloatProgressModel",
      "_view_count": null,
      "_view_module": "@jupyter-widgets/controls",
      "_view_module_version": "1.5.0",
      "_view_name": "ProgressView",
      "bar_style": "success",
      "description": "Downloading: 100%",
      "description_tooltip": null,
      "layout": "IPY_MODEL_2f3baf32f8df4210b14de201ed533d85",
      "max": 456318,
      "min": 0,
      "orientation": "horizontal",
      "style": "IPY_MODEL_0e24480ab9184baf8b73f92f4752c1dc",
      "value": 456318
     }
    },
    "6857f16c95d54be0ad9746e58d2034ff": {
     "model_module": "@jupyter-widgets/controls",
     "model_name": "HBoxModel",
     "state": {
      "_dom_classes": [],
      "_model_module": "@jupyter-widgets/controls",
      "_model_module_version": "1.5.0",
      "_model_name": "HBoxModel",
      "_view_count": null,
      "_view_module": "@jupyter-widgets/controls",
      "_view_module_version": "1.5.0",
      "_view_name": "HBoxView",
      "box_style": "",
      "children": [
       "IPY_MODEL_3e5375efa1944f91be2c8aba87ec9ec2",
       "IPY_MODEL_dfc477a98c0e4d83beba85a935f06344"
      ],
      "layout": "IPY_MODEL_f4c010cd927d4e7092025bf57ff19002"
     }
    },
    "6b5dfa9b4c5d4dffa5dde623c08eba77": {
     "model_module": "@jupyter-widgets/base",
     "model_name": "LayoutModel",
     "state": {
      "_model_module": "@jupyter-widgets/base",
      "_model_module_version": "1.2.0",
      "_model_name": "LayoutModel",
      "_view_count": null,
      "_view_module": "@jupyter-widgets/base",
      "_view_module_version": "1.2.0",
      "_view_name": "LayoutView",
      "align_content": null,
      "align_items": null,
      "align_self": null,
      "border": null,
      "bottom": null,
      "display": null,
      "flex": null,
      "flex_flow": null,
      "grid_area": null,
      "grid_auto_columns": null,
      "grid_auto_flow": null,
      "grid_auto_rows": null,
      "grid_column": null,
      "grid_gap": null,
      "grid_row": null,
      "grid_template_areas": null,
      "grid_template_columns": null,
      "grid_template_rows": null,
      "height": null,
      "justify_content": null,
      "justify_items": null,
      "left": null,
      "margin": null,
      "max_height": null,
      "max_width": null,
      "min_height": null,
      "min_width": null,
      "object_fit": null,
      "object_position": null,
      "order": null,
      "overflow": null,
      "overflow_x": null,
      "overflow_y": null,
      "padding": null,
      "right": null,
      "top": null,
      "visibility": null,
      "width": null
     }
    },
    "706422d0b391488690f29c2e0a6a8a85": {
     "model_module": "@jupyter-widgets/base",
     "model_name": "LayoutModel",
     "state": {
      "_model_module": "@jupyter-widgets/base",
      "_model_module_version": "1.2.0",
      "_model_name": "LayoutModel",
      "_view_count": null,
      "_view_module": "@jupyter-widgets/base",
      "_view_module_version": "1.2.0",
      "_view_name": "LayoutView",
      "align_content": null,
      "align_items": null,
      "align_self": null,
      "border": null,
      "bottom": null,
      "display": null,
      "flex": null,
      "flex_flow": null,
      "grid_area": null,
      "grid_auto_columns": null,
      "grid_auto_flow": null,
      "grid_auto_rows": null,
      "grid_column": null,
      "grid_gap": null,
      "grid_row": null,
      "grid_template_areas": null,
      "grid_template_columns": null,
      "grid_template_rows": null,
      "height": null,
      "justify_content": null,
      "justify_items": null,
      "left": null,
      "margin": null,
      "max_height": null,
      "max_width": null,
      "min_height": null,
      "min_width": null,
      "object_fit": null,
      "object_position": null,
      "order": null,
      "overflow": null,
      "overflow_x": null,
      "overflow_y": null,
      "padding": null,
      "right": null,
      "top": null,
      "visibility": null,
      "width": null
     }
    },
    "730d8fc16f8043fd9f22a28aa8f17b81": {
     "model_module": "@jupyter-widgets/controls",
     "model_name": "HBoxModel",
     "state": {
      "_dom_classes": [],
      "_model_module": "@jupyter-widgets/controls",
      "_model_module_version": "1.5.0",
      "_model_name": "HBoxModel",
      "_view_count": null,
      "_view_module": "@jupyter-widgets/controls",
      "_view_module_version": "1.5.0",
      "_view_name": "HBoxView",
      "box_style": "",
      "children": [
       "IPY_MODEL_5143ab88996f4acab353ffe9ef13ce69",
       "IPY_MODEL_67a7a01efc9a4c9a9342e62e03ccb370"
      ],
      "layout": "IPY_MODEL_6b5dfa9b4c5d4dffa5dde623c08eba77"
     }
    },
    "73a0a249aeed41e29e85812cbc3cd001": {
     "model_module": "@jupyter-widgets/base",
     "model_name": "LayoutModel",
     "state": {
      "_model_module": "@jupyter-widgets/base",
      "_model_module_version": "1.2.0",
      "_model_name": "LayoutModel",
      "_view_count": null,
      "_view_module": "@jupyter-widgets/base",
      "_view_module_version": "1.2.0",
      "_view_name": "LayoutView",
      "align_content": null,
      "align_items": null,
      "align_self": null,
      "border": null,
      "bottom": null,
      "display": null,
      "flex": null,
      "flex_flow": null,
      "grid_area": null,
      "grid_auto_columns": null,
      "grid_auto_flow": null,
      "grid_auto_rows": null,
      "grid_column": null,
      "grid_gap": null,
      "grid_row": null,
      "grid_template_areas": null,
      "grid_template_columns": null,
      "grid_template_rows": null,
      "height": null,
      "justify_content": null,
      "justify_items": null,
      "left": null,
      "margin": null,
      "max_height": null,
      "max_width": null,
      "min_height": null,
      "min_width": null,
      "object_fit": null,
      "object_position": null,
      "order": null,
      "overflow": null,
      "overflow_x": null,
      "overflow_y": null,
      "padding": null,
      "right": null,
      "top": null,
      "visibility": null,
      "width": null
     }
    },
    "77bf4dae77ce4fbf9e2c97f78e92892e": {
     "model_module": "@jupyter-widgets/controls",
     "model_name": "DescriptionStyleModel",
     "state": {
      "_model_module": "@jupyter-widgets/controls",
      "_model_module_version": "1.5.0",
      "_model_name": "DescriptionStyleModel",
      "_view_count": null,
      "_view_module": "@jupyter-widgets/base",
      "_view_module_version": "1.2.0",
      "_view_name": "StyleView",
      "description_width": ""
     }
    },
    "79f988a1662c4749bda276c31f22e38d": {
     "model_module": "@jupyter-widgets/base",
     "model_name": "LayoutModel",
     "state": {
      "_model_module": "@jupyter-widgets/base",
      "_model_module_version": "1.2.0",
      "_model_name": "LayoutModel",
      "_view_count": null,
      "_view_module": "@jupyter-widgets/base",
      "_view_module_version": "1.2.0",
      "_view_name": "LayoutView",
      "align_content": null,
      "align_items": null,
      "align_self": null,
      "border": null,
      "bottom": null,
      "display": null,
      "flex": null,
      "flex_flow": null,
      "grid_area": null,
      "grid_auto_columns": null,
      "grid_auto_flow": null,
      "grid_auto_rows": null,
      "grid_column": null,
      "grid_gap": null,
      "grid_row": null,
      "grid_template_areas": null,
      "grid_template_columns": null,
      "grid_template_rows": null,
      "height": null,
      "justify_content": null,
      "justify_items": null,
      "left": null,
      "margin": null,
      "max_height": null,
      "max_width": null,
      "min_height": null,
      "min_width": null,
      "object_fit": null,
      "object_position": null,
      "order": null,
      "overflow": null,
      "overflow_x": null,
      "overflow_y": null,
      "padding": null,
      "right": null,
      "top": null,
      "visibility": null,
      "width": null
     }
    },
    "7d49a6328bfd47aa8cc1ed7267ad65b2": {
     "model_module": "@jupyter-widgets/base",
     "model_name": "LayoutModel",
     "state": {
      "_model_module": "@jupyter-widgets/base",
      "_model_module_version": "1.2.0",
      "_model_name": "LayoutModel",
      "_view_count": null,
      "_view_module": "@jupyter-widgets/base",
      "_view_module_version": "1.2.0",
      "_view_name": "LayoutView",
      "align_content": null,
      "align_items": null,
      "align_self": null,
      "border": null,
      "bottom": null,
      "display": null,
      "flex": null,
      "flex_flow": null,
      "grid_area": null,
      "grid_auto_columns": null,
      "grid_auto_flow": null,
      "grid_auto_rows": null,
      "grid_column": null,
      "grid_gap": null,
      "grid_row": null,
      "grid_template_areas": null,
      "grid_template_columns": null,
      "grid_template_rows": null,
      "height": null,
      "justify_content": null,
      "justify_items": null,
      "left": null,
      "margin": null,
      "max_height": null,
      "max_width": null,
      "min_height": null,
      "min_width": null,
      "object_fit": null,
      "object_position": null,
      "order": null,
      "overflow": null,
      "overflow_x": null,
      "overflow_y": null,
      "padding": null,
      "right": null,
      "top": null,
      "visibility": null,
      "width": null
     }
    },
    "84d76c98c705482a8981220cf5e1368b": {
     "model_module": "@jupyter-widgets/controls",
     "model_name": "ProgressStyleModel",
     "state": {
      "_model_module": "@jupyter-widgets/controls",
      "_model_module_version": "1.5.0",
      "_model_name": "ProgressStyleModel",
      "_view_count": null,
      "_view_module": "@jupyter-widgets/base",
      "_view_module_version": "1.2.0",
      "_view_name": "StyleView",
      "bar_color": null,
      "description_width": "initial"
     }
    },
    "853f99f0b1324462a4b6369ddb85a944": {
     "model_module": "@jupyter-widgets/base",
     "model_name": "LayoutModel",
     "state": {
      "_model_module": "@jupyter-widgets/base",
      "_model_module_version": "1.2.0",
      "_model_name": "LayoutModel",
      "_view_count": null,
      "_view_module": "@jupyter-widgets/base",
      "_view_module_version": "1.2.0",
      "_view_name": "LayoutView",
      "align_content": null,
      "align_items": null,
      "align_self": null,
      "border": null,
      "bottom": null,
      "display": null,
      "flex": null,
      "flex_flow": null,
      "grid_area": null,
      "grid_auto_columns": null,
      "grid_auto_flow": null,
      "grid_auto_rows": null,
      "grid_column": null,
      "grid_gap": null,
      "grid_row": null,
      "grid_template_areas": null,
      "grid_template_columns": null,
      "grid_template_rows": null,
      "height": null,
      "justify_content": null,
      "justify_items": null,
      "left": null,
      "margin": null,
      "max_height": null,
      "max_width": null,
      "min_height": null,
      "min_width": null,
      "object_fit": null,
      "object_position": null,
      "order": null,
      "overflow": null,
      "overflow_x": null,
      "overflow_y": null,
      "padding": null,
      "right": null,
      "top": null,
      "visibility": null,
      "width": null
     }
    },
    "85eae2d9a15c4c118bc4b5dc8326edd8": {
     "model_module": "@jupyter-widgets/controls",
     "model_name": "HBoxModel",
     "state": {
      "_dom_classes": [],
      "_model_module": "@jupyter-widgets/controls",
      "_model_module_version": "1.5.0",
      "_model_name": "HBoxModel",
      "_view_count": null,
      "_view_module": "@jupyter-widgets/controls",
      "_view_module_version": "1.5.0",
      "_view_name": "HBoxView",
      "box_style": "",
      "children": [
       "IPY_MODEL_fcd5b8fc04594bb09dc45e2780ed05cf",
       "IPY_MODEL_a8357219b8944ed7b748a0bc16a438fa"
      ],
      "layout": "IPY_MODEL_58024910757643d28c5c5a060fddb294"
     }
    },
    "883bed67f5ec44e1b65201e2a02c438c": {
     "model_module": "@jupyter-widgets/controls",
     "model_name": "DescriptionStyleModel",
     "state": {
      "_model_module": "@jupyter-widgets/controls",
      "_model_module_version": "1.5.0",
      "_model_name": "DescriptionStyleModel",
      "_view_count": null,
      "_view_module": "@jupyter-widgets/base",
      "_view_module_version": "1.2.0",
      "_view_name": "StyleView",
      "description_width": ""
     }
    },
    "91d1a726c01f4e29aa68f896b555342b": {
     "model_module": "@jupyter-widgets/controls",
     "model_name": "DescriptionStyleModel",
     "state": {
      "_model_module": "@jupyter-widgets/controls",
      "_model_module_version": "1.5.0",
      "_model_name": "DescriptionStyleModel",
      "_view_count": null,
      "_view_module": "@jupyter-widgets/base",
      "_view_module_version": "1.2.0",
      "_view_name": "StyleView",
      "description_width": ""
     }
    },
    "93cee09fe82b43858ceaaa46ff42173d": {
     "model_module": "@jupyter-widgets/base",
     "model_name": "LayoutModel",
     "state": {
      "_model_module": "@jupyter-widgets/base",
      "_model_module_version": "1.2.0",
      "_model_name": "LayoutModel",
      "_view_count": null,
      "_view_module": "@jupyter-widgets/base",
      "_view_module_version": "1.2.0",
      "_view_name": "LayoutView",
      "align_content": null,
      "align_items": null,
      "align_self": null,
      "border": null,
      "bottom": null,
      "display": null,
      "flex": null,
      "flex_flow": null,
      "grid_area": null,
      "grid_auto_columns": null,
      "grid_auto_flow": null,
      "grid_auto_rows": null,
      "grid_column": null,
      "grid_gap": null,
      "grid_row": null,
      "grid_template_areas": null,
      "grid_template_columns": null,
      "grid_template_rows": null,
      "height": null,
      "justify_content": null,
      "justify_items": null,
      "left": null,
      "margin": null,
      "max_height": null,
      "max_width": null,
      "min_height": null,
      "min_width": null,
      "object_fit": null,
      "object_position": null,
      "order": null,
      "overflow": null,
      "overflow_x": null,
      "overflow_y": null,
      "padding": null,
      "right": null,
      "top": null,
      "visibility": null,
      "width": null
     }
    },
    "9a0abb6369304569bdb1d1dae963dfe1": {
     "model_module": "@jupyter-widgets/controls",
     "model_name": "ProgressStyleModel",
     "state": {
      "_model_module": "@jupyter-widgets/controls",
      "_model_module_version": "1.5.0",
      "_model_name": "ProgressStyleModel",
      "_view_count": null,
      "_view_module": "@jupyter-widgets/base",
      "_view_module_version": "1.2.0",
      "_view_name": "StyleView",
      "bar_color": null,
      "description_width": "initial"
     }
    },
    "9acf882e000043308e6e118668f49401": {
     "model_module": "@jupyter-widgets/controls",
     "model_name": "FloatProgressModel",
     "state": {
      "_dom_classes": [],
      "_model_module": "@jupyter-widgets/controls",
      "_model_module_version": "1.5.0",
      "_model_name": "FloatProgressModel",
      "_view_count": null,
      "_view_module": "@jupyter-widgets/controls",
      "_view_module_version": "1.5.0",
      "_view_name": "ProgressView",
      "bar_style": "success",
      "description": "Downloading: 100%",
      "description_tooltip": null,
      "layout": "IPY_MODEL_c6fb884ae6a74148b3940993545db76f",
      "max": 1042301,
      "min": 0,
      "orientation": "horizontal",
      "style": "IPY_MODEL_3945cacfef6248b58d7860a4fe7ef1ad",
      "value": 1042301
     }
    },
    "9f0af75fc2b04701813a52799664f0b9": {
     "model_module": "@jupyter-widgets/controls",
     "model_name": "ProgressStyleModel",
     "state": {
      "_model_module": "@jupyter-widgets/controls",
      "_model_module_version": "1.5.0",
      "_model_name": "ProgressStyleModel",
      "_view_count": null,
      "_view_module": "@jupyter-widgets/base",
      "_view_module_version": "1.2.0",
      "_view_name": "StyleView",
      "bar_color": null,
      "description_width": "initial"
     }
    },
    "a286718107364ad38ac7f8f7d04697a8": {
     "model_module": "@jupyter-widgets/controls",
     "model_name": "HTMLModel",
     "state": {
      "_dom_classes": [],
      "_model_module": "@jupyter-widgets/controls",
      "_model_module_version": "1.5.0",
      "_model_name": "HTMLModel",
      "_view_count": null,
      "_view_module": "@jupyter-widgets/controls",
      "_view_module_version": "1.5.0",
      "_view_name": "HTMLView",
      "description": "",
      "description_tooltip": null,
      "layout": "IPY_MODEL_3e4b2eb3d3c74532ba6ade8902642c7b",
      "placeholder": "​",
      "style": "IPY_MODEL_157ca51510164da0958c2fdebc89d6fa",
      "value": " 363M/363M [00:06&lt;00:00, 53.6MB/s]"
     }
    },
    "a65a8534d7b0485aafbe32d12121bb4e": {
     "model_module": "@jupyter-widgets/controls",
     "model_name": "DescriptionStyleModel",
     "state": {
      "_model_module": "@jupyter-widgets/controls",
      "_model_module_version": "1.5.0",
      "_model_name": "DescriptionStyleModel",
      "_view_count": null,
      "_view_module": "@jupyter-widgets/base",
      "_view_module_version": "1.2.0",
      "_view_name": "StyleView",
      "description_width": ""
     }
    },
    "a8357219b8944ed7b748a0bc16a438fa": {
     "model_module": "@jupyter-widgets/controls",
     "model_name": "HTMLModel",
     "state": {
      "_dom_classes": [],
      "_model_module": "@jupyter-widgets/controls",
      "_model_module_version": "1.5.0",
      "_model_name": "HTMLModel",
      "_view_count": null,
      "_view_module": "@jupyter-widgets/controls",
      "_view_module_version": "1.5.0",
      "_view_name": "HTMLView",
      "description": "",
      "description_tooltip": null,
      "layout": "IPY_MODEL_d3802d9da60b49b2afc3fb8016823ccc",
      "placeholder": "​",
      "style": "IPY_MODEL_883bed67f5ec44e1b65201e2a02c438c",
      "value": " 232k/232k [00:00&lt;00:00, 1.45MB/s]"
     }
    },
    "aa829a6f9aa14d16a4f7382bf8adbbd3": {
     "model_module": "@jupyter-widgets/controls",
     "model_name": "HTMLModel",
     "state": {
      "_dom_classes": [],
      "_model_module": "@jupyter-widgets/controls",
      "_model_module_version": "1.5.0",
      "_model_name": "HTMLModel",
      "_view_count": null,
      "_view_module": "@jupyter-widgets/controls",
      "_view_module_version": "1.5.0",
      "_view_name": "HTMLView",
      "description": "",
      "description_tooltip": null,
      "layout": "IPY_MODEL_d211e2ca01264a82a31bc1a218dd5182",
      "placeholder": "​",
      "style": "IPY_MODEL_07a0f59916cf4f1d9cb02ce3a63b8559",
      "value": " 1.04M/1.04M [00:01&lt;00:00, 616kB/s]"
     }
    },
    "ad7304f056814798a26ca2eebc4bd668": {
     "model_module": "@jupyter-widgets/controls",
     "model_name": "HBoxModel",
     "state": {
      "_dom_classes": [],
      "_model_module": "@jupyter-widgets/controls",
      "_model_module_version": "1.5.0",
      "_model_name": "HBoxModel",
      "_view_count": null,
      "_view_module": "@jupyter-widgets/controls",
      "_view_module_version": "1.5.0",
      "_view_name": "HBoxView",
      "box_style": "",
      "children": [
       "IPY_MODEL_e24c32e30e014889bb0db790166bafa9",
       "IPY_MODEL_17a384c09f414d9ab117b1309dde327c"
      ],
      "layout": "IPY_MODEL_c60f576506e5482cb090677d70df4089"
     }
    },
    "af8b84a838a5414595b245296a16eb80": {
     "model_module": "@jupyter-widgets/controls",
     "model_name": "DescriptionStyleModel",
     "state": {
      "_model_module": "@jupyter-widgets/controls",
      "_model_module_version": "1.5.0",
      "_model_name": "DescriptionStyleModel",
      "_view_count": null,
      "_view_module": "@jupyter-widgets/base",
      "_view_module_version": "1.2.0",
      "_view_name": "StyleView",
      "description_width": ""
     }
    },
    "b837f110f91c471abd5f37e1f303feca": {
     "model_module": "@jupyter-widgets/base",
     "model_name": "LayoutModel",
     "state": {
      "_model_module": "@jupyter-widgets/base",
      "_model_module_version": "1.2.0",
      "_model_name": "LayoutModel",
      "_view_count": null,
      "_view_module": "@jupyter-widgets/base",
      "_view_module_version": "1.2.0",
      "_view_name": "LayoutView",
      "align_content": null,
      "align_items": null,
      "align_self": null,
      "border": null,
      "bottom": null,
      "display": null,
      "flex": null,
      "flex_flow": null,
      "grid_area": null,
      "grid_auto_columns": null,
      "grid_auto_flow": null,
      "grid_auto_rows": null,
      "grid_column": null,
      "grid_gap": null,
      "grid_row": null,
      "grid_template_areas": null,
      "grid_template_columns": null,
      "grid_template_rows": null,
      "height": null,
      "justify_content": null,
      "justify_items": null,
      "left": null,
      "margin": null,
      "max_height": null,
      "max_width": null,
      "min_height": null,
      "min_width": null,
      "object_fit": null,
      "object_position": null,
      "order": null,
      "overflow": null,
      "overflow_x": null,
      "overflow_y": null,
      "padding": null,
      "right": null,
      "top": null,
      "visibility": null,
      "width": null
     }
    },
    "c4ef2cf07b0647c3babb1c37f84d8914": {
     "model_module": "@jupyter-widgets/controls",
     "model_name": "HTMLModel",
     "state": {
      "_dom_classes": [],
      "_model_module": "@jupyter-widgets/controls",
      "_model_module_version": "1.5.0",
      "_model_name": "HTMLModel",
      "_view_count": null,
      "_view_module": "@jupyter-widgets/controls",
      "_view_module_version": "1.5.0",
      "_view_name": "HTMLView",
      "description": "",
      "description_tooltip": null,
      "layout": "IPY_MODEL_3e021c67193f4e5bb10fe4fde5505e10",
      "placeholder": "​",
      "style": "IPY_MODEL_a65a8534d7b0485aafbe32d12121bb4e",
      "value": " 480/480 [00:01&lt;00:00, 425B/s]"
     }
    },
    "c60f576506e5482cb090677d70df4089": {
     "model_module": "@jupyter-widgets/base",
     "model_name": "LayoutModel",
     "state": {
      "_model_module": "@jupyter-widgets/base",
      "_model_module_version": "1.2.0",
      "_model_name": "LayoutModel",
      "_view_count": null,
      "_view_module": "@jupyter-widgets/base",
      "_view_module_version": "1.2.0",
      "_view_name": "LayoutView",
      "align_content": null,
      "align_items": null,
      "align_self": null,
      "border": null,
      "bottom": null,
      "display": null,
      "flex": null,
      "flex_flow": null,
      "grid_area": null,
      "grid_auto_columns": null,
      "grid_auto_flow": null,
      "grid_auto_rows": null,
      "grid_column": null,
      "grid_gap": null,
      "grid_row": null,
      "grid_template_areas": null,
      "grid_template_columns": null,
      "grid_template_rows": null,
      "height": null,
      "justify_content": null,
      "justify_items": null,
      "left": null,
      "margin": null,
      "max_height": null,
      "max_width": null,
      "min_height": null,
      "min_width": null,
      "object_fit": null,
      "object_position": null,
      "order": null,
      "overflow": null,
      "overflow_x": null,
      "overflow_y": null,
      "padding": null,
      "right": null,
      "top": null,
      "visibility": null,
      "width": null
     }
    },
    "c6fb884ae6a74148b3940993545db76f": {
     "model_module": "@jupyter-widgets/base",
     "model_name": "LayoutModel",
     "state": {
      "_model_module": "@jupyter-widgets/base",
      "_model_module_version": "1.2.0",
      "_model_name": "LayoutModel",
      "_view_count": null,
      "_view_module": "@jupyter-widgets/base",
      "_view_module_version": "1.2.0",
      "_view_name": "LayoutView",
      "align_content": null,
      "align_items": null,
      "align_self": null,
      "border": null,
      "bottom": null,
      "display": null,
      "flex": null,
      "flex_flow": null,
      "grid_area": null,
      "grid_auto_columns": null,
      "grid_auto_flow": null,
      "grid_auto_rows": null,
      "grid_column": null,
      "grid_gap": null,
      "grid_row": null,
      "grid_template_areas": null,
      "grid_template_columns": null,
      "grid_template_rows": null,
      "height": null,
      "justify_content": null,
      "justify_items": null,
      "left": null,
      "margin": null,
      "max_height": null,
      "max_width": null,
      "min_height": null,
      "min_width": null,
      "object_fit": null,
      "object_position": null,
      "order": null,
      "overflow": null,
      "overflow_x": null,
      "overflow_y": null,
      "padding": null,
      "right": null,
      "top": null,
      "visibility": null,
      "width": null
     }
    },
    "c798a10a9dec49a5be22629b5db04ae1": {
     "model_module": "@jupyter-widgets/base",
     "model_name": "LayoutModel",
     "state": {
      "_model_module": "@jupyter-widgets/base",
      "_model_module_version": "1.2.0",
      "_model_name": "LayoutModel",
      "_view_count": null,
      "_view_module": "@jupyter-widgets/base",
      "_view_module_version": "1.2.0",
      "_view_name": "LayoutView",
      "align_content": null,
      "align_items": null,
      "align_self": null,
      "border": null,
      "bottom": null,
      "display": null,
      "flex": null,
      "flex_flow": null,
      "grid_area": null,
      "grid_auto_columns": null,
      "grid_auto_flow": null,
      "grid_auto_rows": null,
      "grid_column": null,
      "grid_gap": null,
      "grid_row": null,
      "grid_template_areas": null,
      "grid_template_columns": null,
      "grid_template_rows": null,
      "height": null,
      "justify_content": null,
      "justify_items": null,
      "left": null,
      "margin": null,
      "max_height": null,
      "max_width": null,
      "min_height": null,
      "min_width": null,
      "object_fit": null,
      "object_position": null,
      "order": null,
      "overflow": null,
      "overflow_x": null,
      "overflow_y": null,
      "padding": null,
      "right": null,
      "top": null,
      "visibility": null,
      "width": null
     }
    },
    "c9113fe44bfa472e9d0a0c23131cd492": {
     "model_module": "@jupyter-widgets/controls",
     "model_name": "ProgressStyleModel",
     "state": {
      "_model_module": "@jupyter-widgets/controls",
      "_model_module_version": "1.5.0",
      "_model_name": "ProgressStyleModel",
      "_view_count": null,
      "_view_module": "@jupyter-widgets/base",
      "_view_module_version": "1.2.0",
      "_view_name": "StyleView",
      "bar_color": null,
      "description_width": "initial"
     }
    },
    "cc67e61de8f142a2bd4d47a97fc600d3": {
     "model_module": "@jupyter-widgets/base",
     "model_name": "LayoutModel",
     "state": {
      "_model_module": "@jupyter-widgets/base",
      "_model_module_version": "1.2.0",
      "_model_name": "LayoutModel",
      "_view_count": null,
      "_view_module": "@jupyter-widgets/base",
      "_view_module_version": "1.2.0",
      "_view_name": "LayoutView",
      "align_content": null,
      "align_items": null,
      "align_self": null,
      "border": null,
      "bottom": null,
      "display": null,
      "flex": null,
      "flex_flow": null,
      "grid_area": null,
      "grid_auto_columns": null,
      "grid_auto_flow": null,
      "grid_auto_rows": null,
      "grid_column": null,
      "grid_gap": null,
      "grid_row": null,
      "grid_template_areas": null,
      "grid_template_columns": null,
      "grid_template_rows": null,
      "height": null,
      "justify_content": null,
      "justify_items": null,
      "left": null,
      "margin": null,
      "max_height": null,
      "max_width": null,
      "min_height": null,
      "min_width": null,
      "object_fit": null,
      "object_position": null,
      "order": null,
      "overflow": null,
      "overflow_x": null,
      "overflow_y": null,
      "padding": null,
      "right": null,
      "top": null,
      "visibility": null,
      "width": null
     }
    },
    "cedaea9a90514591b81879c6050a4a1b": {
     "model_module": "@jupyter-widgets/base",
     "model_name": "LayoutModel",
     "state": {
      "_model_module": "@jupyter-widgets/base",
      "_model_module_version": "1.2.0",
      "_model_name": "LayoutModel",
      "_view_count": null,
      "_view_module": "@jupyter-widgets/base",
      "_view_module_version": "1.2.0",
      "_view_name": "LayoutView",
      "align_content": null,
      "align_items": null,
      "align_self": null,
      "border": null,
      "bottom": null,
      "display": null,
      "flex": null,
      "flex_flow": null,
      "grid_area": null,
      "grid_auto_columns": null,
      "grid_auto_flow": null,
      "grid_auto_rows": null,
      "grid_column": null,
      "grid_gap": null,
      "grid_row": null,
      "grid_template_areas": null,
      "grid_template_columns": null,
      "grid_template_rows": null,
      "height": null,
      "justify_content": null,
      "justify_items": null,
      "left": null,
      "margin": null,
      "max_height": null,
      "max_width": null,
      "min_height": null,
      "min_width": null,
      "object_fit": null,
      "object_position": null,
      "order": null,
      "overflow": null,
      "overflow_x": null,
      "overflow_y": null,
      "padding": null,
      "right": null,
      "top": null,
      "visibility": null,
      "width": null
     }
    },
    "d211e2ca01264a82a31bc1a218dd5182": {
     "model_module": "@jupyter-widgets/base",
     "model_name": "LayoutModel",
     "state": {
      "_model_module": "@jupyter-widgets/base",
      "_model_module_version": "1.2.0",
      "_model_name": "LayoutModel",
      "_view_count": null,
      "_view_module": "@jupyter-widgets/base",
      "_view_module_version": "1.2.0",
      "_view_name": "LayoutView",
      "align_content": null,
      "align_items": null,
      "align_self": null,
      "border": null,
      "bottom": null,
      "display": null,
      "flex": null,
      "flex_flow": null,
      "grid_area": null,
      "grid_auto_columns": null,
      "grid_auto_flow": null,
      "grid_auto_rows": null,
      "grid_column": null,
      "grid_gap": null,
      "grid_row": null,
      "grid_template_areas": null,
      "grid_template_columns": null,
      "grid_template_rows": null,
      "height": null,
      "justify_content": null,
      "justify_items": null,
      "left": null,
      "margin": null,
      "max_height": null,
      "max_width": null,
      "min_height": null,
      "min_width": null,
      "object_fit": null,
      "object_position": null,
      "order": null,
      "overflow": null,
      "overflow_x": null,
      "overflow_y": null,
      "padding": null,
      "right": null,
      "top": null,
      "visibility": null,
      "width": null
     }
    },
    "d27e1e41d7744bf4a2698b693913b5f8": {
     "model_module": "@jupyter-widgets/base",
     "model_name": "LayoutModel",
     "state": {
      "_model_module": "@jupyter-widgets/base",
      "_model_module_version": "1.2.0",
      "_model_name": "LayoutModel",
      "_view_count": null,
      "_view_module": "@jupyter-widgets/base",
      "_view_module_version": "1.2.0",
      "_view_name": "LayoutView",
      "align_content": null,
      "align_items": null,
      "align_self": null,
      "border": null,
      "bottom": null,
      "display": null,
      "flex": null,
      "flex_flow": null,
      "grid_area": null,
      "grid_auto_columns": null,
      "grid_auto_flow": null,
      "grid_auto_rows": null,
      "grid_column": null,
      "grid_gap": null,
      "grid_row": null,
      "grid_template_areas": null,
      "grid_template_columns": null,
      "grid_template_rows": null,
      "height": null,
      "justify_content": null,
      "justify_items": null,
      "left": null,
      "margin": null,
      "max_height": null,
      "max_width": null,
      "min_height": null,
      "min_width": null,
      "object_fit": null,
      "object_position": null,
      "order": null,
      "overflow": null,
      "overflow_x": null,
      "overflow_y": null,
      "padding": null,
      "right": null,
      "top": null,
      "visibility": null,
      "width": null
     }
    },
    "d3802d9da60b49b2afc3fb8016823ccc": {
     "model_module": "@jupyter-widgets/base",
     "model_name": "LayoutModel",
     "state": {
      "_model_module": "@jupyter-widgets/base",
      "_model_module_version": "1.2.0",
      "_model_name": "LayoutModel",
      "_view_count": null,
      "_view_module": "@jupyter-widgets/base",
      "_view_module_version": "1.2.0",
      "_view_name": "LayoutView",
      "align_content": null,
      "align_items": null,
      "align_self": null,
      "border": null,
      "bottom": null,
      "display": null,
      "flex": null,
      "flex_flow": null,
      "grid_area": null,
      "grid_auto_columns": null,
      "grid_auto_flow": null,
      "grid_auto_rows": null,
      "grid_column": null,
      "grid_gap": null,
      "grid_row": null,
      "grid_template_areas": null,
      "grid_template_columns": null,
      "grid_template_rows": null,
      "height": null,
      "justify_content": null,
      "justify_items": null,
      "left": null,
      "margin": null,
      "max_height": null,
      "max_width": null,
      "min_height": null,
      "min_width": null,
      "object_fit": null,
      "object_position": null,
      "order": null,
      "overflow": null,
      "overflow_x": null,
      "overflow_y": null,
      "padding": null,
      "right": null,
      "top": null,
      "visibility": null,
      "width": null
     }
    },
    "d4c9d73d0b4a4b58b7bba6fcb5854098": {
     "model_module": "@jupyter-widgets/base",
     "model_name": "LayoutModel",
     "state": {
      "_model_module": "@jupyter-widgets/base",
      "_model_module_version": "1.2.0",
      "_model_name": "LayoutModel",
      "_view_count": null,
      "_view_module": "@jupyter-widgets/base",
      "_view_module_version": "1.2.0",
      "_view_name": "LayoutView",
      "align_content": null,
      "align_items": null,
      "align_self": null,
      "border": null,
      "bottom": null,
      "display": null,
      "flex": null,
      "flex_flow": null,
      "grid_area": null,
      "grid_auto_columns": null,
      "grid_auto_flow": null,
      "grid_auto_rows": null,
      "grid_column": null,
      "grid_gap": null,
      "grid_row": null,
      "grid_template_areas": null,
      "grid_template_columns": null,
      "grid_template_rows": null,
      "height": null,
      "justify_content": null,
      "justify_items": null,
      "left": null,
      "margin": null,
      "max_height": null,
      "max_width": null,
      "min_height": null,
      "min_width": null,
      "object_fit": null,
      "object_position": null,
      "order": null,
      "overflow": null,
      "overflow_x": null,
      "overflow_y": null,
      "padding": null,
      "right": null,
      "top": null,
      "visibility": null,
      "width": null
     }
    },
    "db4ca80d2e084c73935d7f329b412f1e": {
     "model_module": "@jupyter-widgets/controls",
     "model_name": "HBoxModel",
     "state": {
      "_dom_classes": [],
      "_model_module": "@jupyter-widgets/controls",
      "_model_module_version": "1.5.0",
      "_model_name": "HBoxModel",
      "_view_count": null,
      "_view_module": "@jupyter-widgets/controls",
      "_view_module_version": "1.5.0",
      "_view_name": "HBoxView",
      "box_style": "",
      "children": [
       "IPY_MODEL_27f6fee5e4de4176aa8923f30816f2b6",
       "IPY_MODEL_f4b96d9482c14f6cbe442b3ed41228ba"
      ],
      "layout": "IPY_MODEL_73a0a249aeed41e29e85812cbc3cd001"
     }
    },
    "dfc477a98c0e4d83beba85a935f06344": {
     "model_module": "@jupyter-widgets/controls",
     "model_name": "HTMLModel",
     "state": {
      "_dom_classes": [],
      "_model_module": "@jupyter-widgets/controls",
      "_model_module_version": "1.5.0",
      "_model_name": "HTMLModel",
      "_view_count": null,
      "_view_module": "@jupyter-widgets/controls",
      "_view_module_version": "1.5.0",
      "_view_name": "HTMLView",
      "description": "",
      "description_tooltip": null,
      "layout": "IPY_MODEL_fa1a352c62fa4fa7aa689d48e8e3c307",
      "placeholder": "​",
      "style": "IPY_MODEL_14c714d451d64ae193c3803794c52bde",
      "value": " 442/442 [00:07&lt;00:00, 61.2B/s]"
     }
    },
    "e24c32e30e014889bb0db790166bafa9": {
     "model_module": "@jupyter-widgets/controls",
     "model_name": "FloatProgressModel",
     "state": {
      "_dom_classes": [],
      "_model_module": "@jupyter-widgets/controls",
      "_model_module_version": "1.5.0",
      "_model_name": "FloatProgressModel",
      "_view_count": null,
      "_view_module": "@jupyter-widgets/controls",
      "_view_module_version": "1.5.0",
      "_view_name": "ProgressView",
      "bar_style": "success",
      "description": "Downloading: 100%",
      "description_tooltip": null,
      "layout": "IPY_MODEL_d27e1e41d7744bf4a2698b693913b5f8",
      "max": 898823,
      "min": 0,
      "orientation": "horizontal",
      "style": "IPY_MODEL_9a0abb6369304569bdb1d1dae963dfe1",
      "value": 898823
     }
    },
    "e6e11ec438c8415593fd15189f45a859": {
     "model_module": "@jupyter-widgets/base",
     "model_name": "LayoutModel",
     "state": {
      "_model_module": "@jupyter-widgets/base",
      "_model_module_version": "1.2.0",
      "_model_name": "LayoutModel",
      "_view_count": null,
      "_view_module": "@jupyter-widgets/base",
      "_view_module_version": "1.2.0",
      "_view_name": "LayoutView",
      "align_content": null,
      "align_items": null,
      "align_self": null,
      "border": null,
      "bottom": null,
      "display": null,
      "flex": null,
      "flex_flow": null,
      "grid_area": null,
      "grid_auto_columns": null,
      "grid_auto_flow": null,
      "grid_auto_rows": null,
      "grid_column": null,
      "grid_gap": null,
      "grid_row": null,
      "grid_template_areas": null,
      "grid_template_columns": null,
      "grid_template_rows": null,
      "height": null,
      "justify_content": null,
      "justify_items": null,
      "left": null,
      "margin": null,
      "max_height": null,
      "max_width": null,
      "min_height": null,
      "min_width": null,
      "object_fit": null,
      "object_position": null,
      "order": null,
      "overflow": null,
      "overflow_x": null,
      "overflow_y": null,
      "padding": null,
      "right": null,
      "top": null,
      "visibility": null,
      "width": null
     }
    },
    "ee65ac5fa02d457f8e4116323b24dcca": {
     "model_module": "@jupyter-widgets/controls",
     "model_name": "ProgressStyleModel",
     "state": {
      "_model_module": "@jupyter-widgets/controls",
      "_model_module_version": "1.5.0",
      "_model_name": "ProgressStyleModel",
      "_view_count": null,
      "_view_module": "@jupyter-widgets/base",
      "_view_module_version": "1.2.0",
      "_view_name": "StyleView",
      "bar_color": null,
      "description_width": "initial"
     }
    },
    "f44735740f784ca7932018686df72f2a": {
     "model_module": "@jupyter-widgets/base",
     "model_name": "LayoutModel",
     "state": {
      "_model_module": "@jupyter-widgets/base",
      "_model_module_version": "1.2.0",
      "_model_name": "LayoutModel",
      "_view_count": null,
      "_view_module": "@jupyter-widgets/base",
      "_view_module_version": "1.2.0",
      "_view_name": "LayoutView",
      "align_content": null,
      "align_items": null,
      "align_self": null,
      "border": null,
      "bottom": null,
      "display": null,
      "flex": null,
      "flex_flow": null,
      "grid_area": null,
      "grid_auto_columns": null,
      "grid_auto_flow": null,
      "grid_auto_rows": null,
      "grid_column": null,
      "grid_gap": null,
      "grid_row": null,
      "grid_template_areas": null,
      "grid_template_columns": null,
      "grid_template_rows": null,
      "height": null,
      "justify_content": null,
      "justify_items": null,
      "left": null,
      "margin": null,
      "max_height": null,
      "max_width": null,
      "min_height": null,
      "min_width": null,
      "object_fit": null,
      "object_position": null,
      "order": null,
      "overflow": null,
      "overflow_x": null,
      "overflow_y": null,
      "padding": null,
      "right": null,
      "top": null,
      "visibility": null,
      "width": null
     }
    },
    "f4b96d9482c14f6cbe442b3ed41228ba": {
     "model_module": "@jupyter-widgets/controls",
     "model_name": "HTMLModel",
     "state": {
      "_dom_classes": [],
      "_model_module": "@jupyter-widgets/controls",
      "_model_module_version": "1.5.0",
      "_model_name": "HTMLModel",
      "_view_count": null,
      "_view_module": "@jupyter-widgets/controls",
      "_view_module_version": "1.5.0",
      "_view_name": "HTMLView",
      "description": "",
      "description_tooltip": null,
      "layout": "IPY_MODEL_7d49a6328bfd47aa8cc1ed7267ad65b2",
      "placeholder": "​",
      "style": "IPY_MODEL_20c00af9a3c4451580edf1e8d6508049",
      "value": " 762/762 [00:00&lt;00:00, 1.33kB/s]"
     }
    },
    "f4c010cd927d4e7092025bf57ff19002": {
     "model_module": "@jupyter-widgets/base",
     "model_name": "LayoutModel",
     "state": {
      "_model_module": "@jupyter-widgets/base",
      "_model_module_version": "1.2.0",
      "_model_name": "LayoutModel",
      "_view_count": null,
      "_view_module": "@jupyter-widgets/base",
      "_view_module_version": "1.2.0",
      "_view_name": "LayoutView",
      "align_content": null,
      "align_items": null,
      "align_self": null,
      "border": null,
      "bottom": null,
      "display": null,
      "flex": null,
      "flex_flow": null,
      "grid_area": null,
      "grid_auto_columns": null,
      "grid_auto_flow": null,
      "grid_auto_rows": null,
      "grid_column": null,
      "grid_gap": null,
      "grid_row": null,
      "grid_template_areas": null,
      "grid_template_columns": null,
      "grid_template_rows": null,
      "height": null,
      "justify_content": null,
      "justify_items": null,
      "left": null,
      "margin": null,
      "max_height": null,
      "max_width": null,
      "min_height": null,
      "min_width": null,
      "object_fit": null,
      "object_position": null,
      "order": null,
      "overflow": null,
      "overflow_x": null,
      "overflow_y": null,
      "padding": null,
      "right": null,
      "top": null,
      "visibility": null,
      "width": null
     }
    },
    "f525cbec7f4346178fc5d8966131c2d0": {
     "model_module": "@jupyter-widgets/controls",
     "model_name": "ProgressStyleModel",
     "state": {
      "_model_module": "@jupyter-widgets/controls",
      "_model_module_version": "1.5.0",
      "_model_name": "ProgressStyleModel",
      "_view_count": null,
      "_view_module": "@jupyter-widgets/base",
      "_view_module_version": "1.2.0",
      "_view_name": "StyleView",
      "bar_color": null,
      "description_width": "initial"
     }
    },
    "fa1a352c62fa4fa7aa689d48e8e3c307": {
     "model_module": "@jupyter-widgets/base",
     "model_name": "LayoutModel",
     "state": {
      "_model_module": "@jupyter-widgets/base",
      "_model_module_version": "1.2.0",
      "_model_name": "LayoutModel",
      "_view_count": null,
      "_view_module": "@jupyter-widgets/base",
      "_view_module_version": "1.2.0",
      "_view_name": "LayoutView",
      "align_content": null,
      "align_items": null,
      "align_self": null,
      "border": null,
      "bottom": null,
      "display": null,
      "flex": null,
      "flex_flow": null,
      "grid_area": null,
      "grid_auto_columns": null,
      "grid_auto_flow": null,
      "grid_auto_rows": null,
      "grid_column": null,
      "grid_gap": null,
      "grid_row": null,
      "grid_template_areas": null,
      "grid_template_columns": null,
      "grid_template_rows": null,
      "height": null,
      "justify_content": null,
      "justify_items": null,
      "left": null,
      "margin": null,
      "max_height": null,
      "max_width": null,
      "min_height": null,
      "min_width": null,
      "object_fit": null,
      "object_position": null,
      "order": null,
      "overflow": null,
      "overflow_x": null,
      "overflow_y": null,
      "padding": null,
      "right": null,
      "top": null,
      "visibility": null,
      "width": null
     }
    },
    "fc1a0b61fd184ec88d70fe46f6b1d4af": {
     "model_module": "@jupyter-widgets/controls",
     "model_name": "DescriptionStyleModel",
     "state": {
      "_model_module": "@jupyter-widgets/controls",
      "_model_module_version": "1.5.0",
      "_model_name": "DescriptionStyleModel",
      "_view_count": null,
      "_view_module": "@jupyter-widgets/base",
      "_view_module_version": "1.2.0",
      "_view_name": "StyleView",
      "description_width": ""
     }
    },
    "fc86cb59ed0b4ee4bdc348c2a8181f37": {
     "model_module": "@jupyter-widgets/controls",
     "model_name": "FloatProgressModel",
     "state": {
      "_dom_classes": [],
      "_model_module": "@jupyter-widgets/controls",
      "_model_module_version": "1.5.0",
      "_model_name": "FloatProgressModel",
      "_view_count": null,
      "_view_module": "@jupyter-widgets/controls",
      "_view_module_version": "1.5.0",
      "_view_name": "ProgressView",
      "bar_style": "success",
      "description": "Downloading: 100%",
      "description_tooltip": null,
      "layout": "IPY_MODEL_1e4660d4b5cf4e92969fb7fc16e0d77d",
      "max": 480,
      "min": 0,
      "orientation": "horizontal",
      "style": "IPY_MODEL_00be010e9fb74c868f248a883fa525a7",
      "value": 480
     }
    },
    "fcd5b8fc04594bb09dc45e2780ed05cf": {
     "model_module": "@jupyter-widgets/controls",
     "model_name": "FloatProgressModel",
     "state": {
      "_dom_classes": [],
      "_model_module": "@jupyter-widgets/controls",
      "_model_module_version": "1.5.0",
      "_model_name": "FloatProgressModel",
      "_view_count": null,
      "_view_module": "@jupyter-widgets/controls",
      "_view_module_version": "1.5.0",
      "_view_name": "ProgressView",
      "bar_style": "success",
      "description": "Downloading: 100%",
      "description_tooltip": null,
      "layout": "IPY_MODEL_cc67e61de8f142a2bd4d47a97fc600d3",
      "max": 231508,
      "min": 0,
      "orientation": "horizontal",
      "style": "IPY_MODEL_ee65ac5fa02d457f8e4116323b24dcca",
      "value": 231508
     }
    },
    "fe14c757157740b095ed0d7a1537f499": {
     "model_module": "@jupyter-widgets/controls",
     "model_name": "ProgressStyleModel",
     "state": {
      "_model_module": "@jupyter-widgets/controls",
      "_model_module_version": "1.5.0",
      "_model_name": "ProgressStyleModel",
      "_view_count": null,
      "_view_module": "@jupyter-widgets/base",
      "_view_module_version": "1.2.0",
      "_view_name": "StyleView",
      "bar_color": null,
      "description_width": "initial"
     }
    }
   }
  }
 },
 "nbformat": 4,
 "nbformat_minor": 1
}
