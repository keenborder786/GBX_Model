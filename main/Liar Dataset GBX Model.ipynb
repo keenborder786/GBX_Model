{
 "cells": [
  {
   "cell_type": "markdown",
   "metadata": {
    "colab_type": "text",
    "id": "kGikBEFhShhB"
   },
   "source": [
    "# GBX Model on LIAR Dataset"
   ]
  },
  {
   "cell_type": "code",
   "execution_count": null,
   "metadata": {
    "colab": {},
    "colab_type": "code",
    "id": "h6vfH9O0GvRl"
   },
   "outputs": [],
   "source": [
    "from google.colab import drive\n",
    "drive.mount('/content/drive')"
   ]
  },
  {
   "cell_type": "markdown",
   "metadata": {},
   "source": [
    "# Requirements to Run the Notebook"
   ]
  },
  {
   "cell_type": "code",
   "execution_count": null,
   "metadata": {
    "colab": {
     "base_uri": "https://localhost:8080/",
     "height": 649
    },
    "colab_type": "code",
    "executionInfo": {
     "elapsed": 21771,
     "status": "ok",
     "timestamp": 1599846942289,
     "user": {
      "displayName": "Ur Tech Guide",
      "photoUrl": "https://lh3.googleusercontent.com/a-/AOh14GhBjMoWnc1KwT73B6hzAbvnSIxnZAl5PY9n_RGJ0w=s64",
      "userId": "03152431167485721857"
     },
     "user_tz": -300
    },
    "id": "AQDadDS4GSsK",
    "outputId": "52edfb45-950f-4661-8e13-3d670b1ef9cb"
   },
   "outputs": [
    {
     "name": "stdout",
     "output_type": "stream",
     "text": [
      "Collecting transformers\n",
      "\u001b[?25l  Downloading https://files.pythonhosted.org/packages/ae/05/c8c55b600308dc04e95100dc8ad8a244dd800fe75dfafcf1d6348c6f6209/transformers-3.1.0-py3-none-any.whl (884kB)\n",
      "\u001b[K     |████████████████████████████████| 890kB 2.9MB/s \n",
      "\u001b[?25hRequirement already satisfied: regex!=2019.12.17 in /usr/local/lib/python3.6/dist-packages (from transformers) (2019.12.20)\n",
      "Requirement already satisfied: numpy in /usr/local/lib/python3.6/dist-packages (from transformers) (1.18.5)\n",
      "Collecting sacremoses\n",
      "\u001b[?25l  Downloading https://files.pythonhosted.org/packages/7d/34/09d19aff26edcc8eb2a01bed8e98f13a1537005d31e95233fd48216eed10/sacremoses-0.0.43.tar.gz (883kB)\n",
      "\u001b[K     |████████████████████████████████| 890kB 20.9MB/s \n",
      "\u001b[?25hCollecting sentencepiece!=0.1.92\n",
      "\u001b[?25l  Downloading https://files.pythonhosted.org/packages/d4/a4/d0a884c4300004a78cca907a6ff9a5e9fe4f090f5d95ab341c53d28cbc58/sentencepiece-0.1.91-cp36-cp36m-manylinux1_x86_64.whl (1.1MB)\n",
      "\u001b[K     |████████████████████████████████| 1.1MB 21.4MB/s \n",
      "\u001b[?25hRequirement already satisfied: requests in /usr/local/lib/python3.6/dist-packages (from transformers) (2.23.0)\n",
      "Requirement already satisfied: dataclasses; python_version < \"3.7\" in /usr/local/lib/python3.6/dist-packages (from transformers) (0.7)\n",
      "Requirement already satisfied: packaging in /usr/local/lib/python3.6/dist-packages (from transformers) (20.4)\n",
      "Collecting tokenizers==0.8.1.rc2\n",
      "\u001b[?25l  Downloading https://files.pythonhosted.org/packages/80/83/8b9fccb9e48eeb575ee19179e2bdde0ee9a1904f97de5f02d19016b8804f/tokenizers-0.8.1rc2-cp36-cp36m-manylinux1_x86_64.whl (3.0MB)\n",
      "\u001b[K     |████████████████████████████████| 3.0MB 31.6MB/s \n",
      "\u001b[?25hRequirement already satisfied: tqdm>=4.27 in /usr/local/lib/python3.6/dist-packages (from transformers) (4.41.1)\n",
      "Requirement already satisfied: filelock in /usr/local/lib/python3.6/dist-packages (from transformers) (3.0.12)\n",
      "Requirement already satisfied: six in /usr/local/lib/python3.6/dist-packages (from sacremoses->transformers) (1.15.0)\n",
      "Requirement already satisfied: click in /usr/local/lib/python3.6/dist-packages (from sacremoses->transformers) (7.1.2)\n",
      "Requirement already satisfied: joblib in /usr/local/lib/python3.6/dist-packages (from sacremoses->transformers) (0.16.0)\n",
      "Requirement already satisfied: chardet<4,>=3.0.2 in /usr/local/lib/python3.6/dist-packages (from requests->transformers) (3.0.4)\n",
      "Requirement already satisfied: idna<3,>=2.5 in /usr/local/lib/python3.6/dist-packages (from requests->transformers) (2.10)\n",
      "Requirement already satisfied: urllib3!=1.25.0,!=1.25.1,<1.26,>=1.21.1 in /usr/local/lib/python3.6/dist-packages (from requests->transformers) (1.24.3)\n",
      "Requirement already satisfied: certifi>=2017.4.17 in /usr/local/lib/python3.6/dist-packages (from requests->transformers) (2020.6.20)\n",
      "Requirement already satisfied: pyparsing>=2.0.2 in /usr/local/lib/python3.6/dist-packages (from packaging->transformers) (2.4.7)\n",
      "Building wheels for collected packages: sacremoses\n",
      "  Building wheel for sacremoses (setup.py) ... \u001b[?25l\u001b[?25hdone\n",
      "  Created wheel for sacremoses: filename=sacremoses-0.0.43-cp36-none-any.whl size=893257 sha256=bc76da7df681feb12a989e5b0713b78995b4fd025fea7841f08a1f7bcda66a1d\n",
      "  Stored in directory: /root/.cache/pip/wheels/29/3c/fd/7ce5c3f0666dab31a50123635e6fb5e19ceb42ce38d4e58f45\n",
      "Successfully built sacremoses\n",
      "Installing collected packages: sacremoses, sentencepiece, tokenizers, transformers\n",
      "Successfully installed sacremoses-0.0.43 sentencepiece-0.1.91 tokenizers-0.8.1rc2 transformers-3.1.0\n",
      "Requirement already satisfied: nltk in /usr/local/lib/python3.6/dist-packages (3.2.5)\n",
      "Requirement already satisfied: six in /usr/local/lib/python3.6/dist-packages (from nltk) (1.15.0)\n"
     ]
    }
   ],
   "source": [
    "!pip install transformers\n",
    "!pip install nltk"
   ]
  },
  {
   "cell_type": "code",
   "execution_count": 2,
   "metadata": {
    "colab": {
     "base_uri": "https://localhost:8080/",
     "height": 51
    },
    "colab_type": "code",
    "executionInfo": {
     "elapsed": 1416,
     "status": "ok",
     "timestamp": 1599848210004,
     "user": {
      "displayName": "Ur Tech Guide",
      "photoUrl": "https://lh3.googleusercontent.com/a-/AOh14GhBjMoWnc1KwT73B6hzAbvnSIxnZAl5PY9n_RGJ0w=s64",
      "userId": "03152431167485721857"
     },
     "user_tz": -300
    },
    "id": "c3AUhHImGtyh",
    "outputId": "a4f26074-3318-49c7-d3ac-95b6cb0d3ffa"
   },
   "outputs": [
    {
     "name": "stderr",
     "output_type": "stream",
     "text": [
      "[nltk_data] Downloading package punkt to\n",
      "[nltk_data]     C:\\Users\\Mohammad.Khan\\AppData\\Roaming\\nltk_data...\n",
      "[nltk_data]   Unzipping tokenizers\\punkt.zip.\n"
     ]
    }
   ],
   "source": [
    "# the OG \n",
    "import numpy as np \n",
    "import pandas as pd \n",
    "import seaborn as sns\n",
    "import matplotlib.pyplot as plt\n",
    "import matplotlib as mpl\n",
    "from matplotlib import style\n",
    "\n",
    "\n",
    "# Sklearn\n",
    "from sklearn.model_selection import train_test_split\n",
    "from sklearn.metrics import *\n",
    "from sklearn.utils.class_weight import compute_class_weight\n",
    "#NLP Specifics\n",
    "from nltk import word_tokenize\n",
    "import nltk\n",
    "from tokenizers import BertWordPieceTokenizer\n",
    "from transformers import (AdamW,get_linear_schedule_with_warmup,get_cosine_schedule_with_warmup,RobertaTokenizerFast,DistilBertTokenizerFast,PreTrainedTokenizerFast,AutoModel,\n",
    "                          DistilBertTokenizerFast,GPT2TokenizerFast,AutoTokenizer,BertTokenizer,TFBertModel,TFOpenAIGPTModel,OpenAIGPTTokenizer,DistilBertTokenizer, \n",
    "                          DistilBertConfig,GPT2Config,RobertaConfig,TFDistilBertModel,XLMTokenizer, TFXLMModel,TFBertForSequenceClassification,TFGPT2Model,TFXLMRobertaModel)\n",
    "\n",
    "#tensorflow\n",
    "import tensorflow as tf\n",
    "import tensorflow_hub as hub\n",
    "from tensorflow.keras.preprocessing.text import Tokenizer\n",
    "from tensorflow.keras.preprocessing.sequence import pad_sequences\n",
    "from tensorflow.keras.models import Sequential\n",
    "from tensorflow.keras.layers import *\n",
    "from tensorflow.keras.initializers import Constant\n",
    "from tensorflow.keras import regularizers\n",
    "\n",
    "\n",
    "\n",
    "#other imports\n",
    "import urllib\n",
    "import os\n",
    "import gc\n",
    "from tqdm import tqdm\n",
    "import re\n",
    "import random\n",
    "from typing import Callable, List, Optional, Union\n",
    "\n",
    "\n",
    "nltk.download('punkt')\n",
    "style.use('ggplot')\n",
    "MAX_LEN=256"
   ]
  },
  {
   "cell_type": "code",
   "execution_count": 3,
   "metadata": {
    "colab": {},
    "colab_type": "code",
    "id": "gaDYdkotG2_j"
   },
   "outputs": [],
   "source": [
    "uri_train  = 'https://raw.githubusercontent.com/thiagorainmaker77/liar_dataset/master/train.tsv'\n",
    "uri_valid  = 'https://raw.githubusercontent.com/thiagorainmaker77/liar_dataset/master/valid.tsv'\n",
    "uri_test  = 'https://raw.githubusercontent.com/thiagorainmaker77/liar_dataset/master/test.tsv'\n",
    "\n",
    "    \n",
    "df_train = pd.read_table(uri_train,\n",
    "                             names = ['id',\t'label'\t,'statement',\t'subject',\t'speaker', \t'job', \t'state',\t'party',\t'barely_true_c',\t'false_c',\t'half_true_c',\t'mostly_true_c',\t'pants_on_fire_c',\t'venue'])\n",
    "\n",
    "    \n",
    "df_valid = pd.read_table(uri_valid,\n",
    "                             names =['id',\t'label'\t,'statement',\t'subject',\t'speaker', \t'job', \t'state',\t'party',\t'barely_true_c',\t'false_c',\t'half_true_c',\t'mostly_true_c',\t'pants_on_fire_c',\t'venue'])\n",
    "\n",
    "\n",
    "df_test = pd.read_csv(uri_test, sep='\\t', \n",
    "                            names =['id',\t'label'\t,'statement',\t'subject',\t'speaker', \t'job', \t'state',\t'party',\t'barely_true_c',\t'false_c',\t'half_true_c',\t'mostly_true_c',\t'pants_on_fire_c',\t'venue']) \n",
    "\n"
   ]
  },
  {
   "cell_type": "code",
   "execution_count": 4,
   "metadata": {
    "colab": {},
    "colab_type": "code",
    "id": "R9b0Wp91HFqD"
   },
   "outputs": [],
   "source": [
    "df_train.drop(['barely_true_c','false_c','half_true_c','mostly_true_c','pants_on_fire_c'],axis=1,inplace=True)\n",
    "df_valid.drop(['barely_true_c','false_c','half_true_c','mostly_true_c','pants_on_fire_c'],axis=1,inplace=True)"
   ]
  },
  {
   "cell_type": "code",
   "execution_count": 5,
   "metadata": {
    "colab": {},
    "colab_type": "code",
    "id": "wkH-7w4rHJwS"
   },
   "outputs": [],
   "source": [
    "df_test.drop(['barely_true_c','false_c','half_true_c','mostly_true_c','pants_on_fire_c'],axis=1,inplace=True)"
   ]
  },
  {
   "cell_type": "code",
   "execution_count": 6,
   "metadata": {
    "colab": {
     "base_uri": "https://localhost:8080/",
     "height": 34
    },
    "colab_type": "code",
    "executionInfo": {
     "elapsed": 30645,
     "status": "ok",
     "timestamp": 1599846951274,
     "user": {
      "displayName": "Ur Tech Guide",
      "photoUrl": "https://lh3.googleusercontent.com/a-/AOh14GhBjMoWnc1KwT73B6hzAbvnSIxnZAl5PY9n_RGJ0w=s64",
      "userId": "03152431167485721857"
     },
     "user_tz": -300
    },
    "id": "oNlrw9FkIL3G",
    "outputId": "902bf1d2-c359-4eef-8874-54eecafa01b9"
   },
   "outputs": [
    {
     "data": {
      "text/plain": [
       "{'barely-true', 'false', 'half-true', 'mostly-true', 'pants-fire', 'true'}"
      ]
     },
     "execution_count": 6,
     "metadata": {},
     "output_type": "execute_result"
    }
   ],
   "source": [
    "set(df_train['label'])"
   ]
  },
  {
   "cell_type": "code",
   "execution_count": 7,
   "metadata": {
    "colab": {
     "base_uri": "https://localhost:8080/",
     "height": 330
    },
    "colab_type": "code",
    "executionInfo": {
     "elapsed": 30610,
     "status": "ok",
     "timestamp": 1599846951279,
     "user": {
      "displayName": "Ur Tech Guide",
      "photoUrl": "https://lh3.googleusercontent.com/a-/AOh14GhBjMoWnc1KwT73B6hzAbvnSIxnZAl5PY9n_RGJ0w=s64",
      "userId": "03152431167485721857"
     },
     "user_tz": -300
    },
    "id": "BGUUTRviIVFC",
    "outputId": "0758afa7-95a1-4440-a057-8ffe7e434431"
   },
   "outputs": [
    {
     "data": {
      "text/plain": [
       "<AxesSubplot:>"
      ]
     },
     "execution_count": 7,
     "metadata": {},
     "output_type": "execute_result"
    },
    {
     "data": {
      "image/png": "[encoded data removed]",
      "text/plain": [
       "<Figure size 432x288 with 1 Axes>"
      ]
     },
     "metadata": {},
     "output_type": "display_data"
    }
   ],
   "source": [
    "df_train['label'].value_counts().plot(kind='bar')"
   ]
  },
  {
   "cell_type": "code",
   "execution_count": 8,
   "metadata": {
    "colab": {
     "base_uri": "https://localhost:8080/",
     "height": 330
    },
    "colab_type": "code",
    "executionInfo": {
     "elapsed": 30578,
     "status": "ok",
     "timestamp": 1599846951281,
     "user": {
      "displayName": "Ur Tech Guide",
      "photoUrl": "https://lh3.googleusercontent.com/a-/AOh14GhBjMoWnc1KwT73B6hzAbvnSIxnZAl5PY9n_RGJ0w=s64",
      "userId": "03152431167485721857"
     },
     "user_tz": -300
    },
    "id": "rehZgywcIabi",
    "outputId": "57f51584-7772-4480-9ae7-29270e5147ac"
   },
   "outputs": [
    {
     "data": {
      "text/plain": [
       "<AxesSubplot:>"
      ]
     },
     "execution_count": 8,
     "metadata": {},
     "output_type": "execute_result"
    },
    {
     "data": {
      "image/png": "[encoded data removed]",
      "text/plain": [
       "<Figure size 432x288 with 1 Axes>"
      ]
     },
     "metadata": {},
     "output_type": "display_data"
    }
   ],
   "source": [
    "df_valid['label'].value_counts().plot(kind='bar')"
   ]
  },
  {
   "cell_type": "code",
   "execution_count": 9,
   "metadata": {
    "colab": {},
    "colab_type": "code",
    "id": "pk8oxsLvIdSi"
   },
   "outputs": [],
   "source": [
    "def seed_everything(seed):\n",
    "  random.seed(seed)\n",
    "  tf.compat.v1.set_random_seed(seed)\n",
    "  tf.random.set_seed(seed)\n",
    "seed_everything(123)"
   ]
  },
  {
   "cell_type": "code",
   "execution_count": null,
   "metadata": {
    "colab": {
     "base_uri": "https://localhost:8080/",
     "height": 751
    },
    "colab_type": "code",
    "executionInfo": {
     "elapsed": 90711,
     "status": "ok",
     "timestamp": 1599847011446,
     "user": {
      "displayName": "Ur Tech Guide",
      "photoUrl": "https://lh3.googleusercontent.com/a-/AOh14GhBjMoWnc1KwT73B6hzAbvnSIxnZAl5PY9n_RGJ0w=s64",
      "userId": "03152431167485721857"
     },
     "user_tz": -300
    },
    "id": "7vJ3CjyWIhNS",
    "outputId": "13febde0-669a-4880-812a-46c2c6f5ddfc"
   },
   "outputs": [
    {
     "name": "stderr",
     "output_type": "stream",
     "text": [
      "INFO:absl:Entering into master device scope: /job:worker/replica:0/task:0/device:CPU:0\n"
     ]
    },
    {
     "name": "stdout",
     "output_type": "stream",
     "text": [
      "Running on TPU  grpc://10.59.138.2:8470\n",
      "INFO:tensorflow:Initializing the TPU system: grpc://10.59.138.2:8470\n"
     ]
    },
    {
     "name": "stderr",
     "output_type": "stream",
     "text": [
      "INFO:tensorflow:Initializing the TPU system: grpc://10.59.138.2:8470\n"
     ]
    },
    {
     "name": "stdout",
     "output_type": "stream",
     "text": [
      "INFO:tensorflow:Clearing out eager caches\n"
     ]
    },
    {
     "name": "stderr",
     "output_type": "stream",
     "text": [
      "INFO:tensorflow:Clearing out eager caches\n"
     ]
    },
    {
     "name": "stdout",
     "output_type": "stream",
     "text": [
      "INFO:tensorflow:Finished initializing TPU system.\n"
     ]
    },
    {
     "name": "stderr",
     "output_type": "stream",
     "text": [
      "INFO:tensorflow:Finished initializing TPU system.\n"
     ]
    },
    {
     "name": "stdout",
     "output_type": "stream",
     "text": [
      "INFO:tensorflow:Found TPU system:\n"
     ]
    },
    {
     "name": "stderr",
     "output_type": "stream",
     "text": [
      "INFO:tensorflow:Found TPU system:\n"
     ]
    },
    {
     "name": "stdout",
     "output_type": "stream",
     "text": [
      "INFO:tensorflow:*** Num TPU Cores: 8\n"
     ]
    },
    {
     "name": "stderr",
     "output_type": "stream",
     "text": [
      "INFO:tensorflow:*** Num TPU Cores: 8\n"
     ]
    },
    {
     "name": "stdout",
     "output_type": "stream",
     "text": [
      "INFO:tensorflow:*** Num TPU Workers: 1\n"
     ]
    },
    {
     "name": "stderr",
     "output_type": "stream",
     "text": [
      "INFO:tensorflow:*** Num TPU Workers: 1\n"
     ]
    },
    {
     "name": "stdout",
     "output_type": "stream",
     "text": [
      "INFO:tensorflow:*** Num TPU Cores Per Worker: 8\n"
     ]
    },
    {
     "name": "stderr",
     "output_type": "stream",
     "text": [
      "INFO:tensorflow:*** Num TPU Cores Per Worker: 8\n"
     ]
    },
    {
     "name": "stdout",
     "output_type": "stream",
     "text": [
      "INFO:tensorflow:*** Available Device: _DeviceAttributes(/job:localhost/replica:0/task:0/device:CPU:0, CPU, 0, 0)\n"
     ]
    },
    {
     "name": "stderr",
     "output_type": "stream",
     "text": [
      "INFO:tensorflow:*** Available Device: _DeviceAttributes(/job:localhost/replica:0/task:0/device:CPU:0, CPU, 0, 0)\n"
     ]
    },
    {
     "name": "stdout",
     "output_type": "stream",
     "text": [
      "INFO:tensorflow:*** Available Device: _DeviceAttributes(/job:localhost/replica:0/task:0/device:XLA_CPU:0, XLA_CPU, 0, 0)\n"
     ]
    },
    {
     "name": "stderr",
     "output_type": "stream",
     "text": [
      "INFO:tensorflow:*** Available Device: _DeviceAttributes(/job:localhost/replica:0/task:0/device:XLA_CPU:0, XLA_CPU, 0, 0)\n"
     ]
    },
    {
     "name": "stdout",
     "output_type": "stream",
     "text": [
      "INFO:tensorflow:*** Available Device: _DeviceAttributes(/job:worker/replica:0/task:0/device:CPU:0, CPU, 0, 0)\n"
     ]
    },
    {
     "name": "stderr",
     "output_type": "stream",
     "text": [
      "INFO:tensorflow:*** Available Device: _DeviceAttributes(/job:worker/replica:0/task:0/device:CPU:0, CPU, 0, 0)\n"
     ]
    },
    {
     "name": "stdout",
     "output_type": "stream",
     "text": [
      "INFO:tensorflow:*** Available Device: _DeviceAttributes(/job:worker/replica:0/task:0/device:TPU:0, TPU, 0, 0)\n"
     ]
    },
    {
     "name": "stderr",
     "output_type": "stream",
     "text": [
      "INFO:tensorflow:*** Available Device: _DeviceAttributes(/job:worker/replica:0/task:0/device:TPU:0, TPU, 0, 0)\n"
     ]
    },
    {
     "name": "stdout",
     "output_type": "stream",
     "text": [
      "INFO:tensorflow:*** Available Device: _DeviceAttributes(/job:worker/replica:0/task:0/device:TPU:1, TPU, 0, 0)\n"
     ]
    },
    {
     "name": "stderr",
     "output_type": "stream",
     "text": [
      "INFO:tensorflow:*** Available Device: _DeviceAttributes(/job:worker/replica:0/task:0/device:TPU:1, TPU, 0, 0)\n"
     ]
    },
    {
     "name": "stdout",
     "output_type": "stream",
     "text": [
      "INFO:tensorflow:*** Available Device: _DeviceAttributes(/job:worker/replica:0/task:0/device:TPU:2, TPU, 0, 0)\n"
     ]
    },
    {
     "name": "stderr",
     "output_type": "stream",
     "text": [
      "INFO:tensorflow:*** Available Device: _DeviceAttributes(/job:worker/replica:0/task:0/device:TPU:2, TPU, 0, 0)\n"
     ]
    },
    {
     "name": "stdout",
     "output_type": "stream",
     "text": [
      "INFO:tensorflow:*** Available Device: _DeviceAttributes(/job:worker/replica:0/task:0/device:TPU:3, TPU, 0, 0)\n"
     ]
    },
    {
     "name": "stderr",
     "output_type": "stream",
     "text": [
      "INFO:tensorflow:*** Available Device: _DeviceAttributes(/job:worker/replica:0/task:0/device:TPU:3, TPU, 0, 0)\n"
     ]
    },
    {
     "name": "stdout",
     "output_type": "stream",
     "text": [
      "INFO:tensorflow:*** Available Device: _DeviceAttributes(/job:worker/replica:0/task:0/device:TPU:4, TPU, 0, 0)\n"
     ]
    },
    {
     "name": "stderr",
     "output_type": "stream",
     "text": [
      "INFO:tensorflow:*** Available Device: _DeviceAttributes(/job:worker/replica:0/task:0/device:TPU:4, TPU, 0, 0)\n"
     ]
    },
    {
     "name": "stdout",
     "output_type": "stream",
     "text": [
      "INFO:tensorflow:*** Available Device: _DeviceAttributes(/job:worker/replica:0/task:0/device:TPU:5, TPU, 0, 0)\n"
     ]
    },
    {
     "name": "stderr",
     "output_type": "stream",
     "text": [
      "INFO:tensorflow:*** Available Device: _DeviceAttributes(/job:worker/replica:0/task:0/device:TPU:5, TPU, 0, 0)\n"
     ]
    },
    {
     "name": "stdout",
     "output_type": "stream",
     "text": [
      "INFO:tensorflow:*** Available Device: _DeviceAttributes(/job:worker/replica:0/task:0/device:TPU:6, TPU, 0, 0)\n"
     ]
    },
    {
     "name": "stderr",
     "output_type": "stream",
     "text": [
      "INFO:tensorflow:*** Available Device: _DeviceAttributes(/job:worker/replica:0/task:0/device:TPU:6, TPU, 0, 0)\n"
     ]
    },
    {
     "name": "stdout",
     "output_type": "stream",
     "text": [
      "INFO:tensorflow:*** Available Device: _DeviceAttributes(/job:worker/replica:0/task:0/device:TPU:7, TPU, 0, 0)\n"
     ]
    },
    {
     "name": "stderr",
     "output_type": "stream",
     "text": [
      "INFO:tensorflow:*** Available Device: _DeviceAttributes(/job:worker/replica:0/task:0/device:TPU:7, TPU, 0, 0)\n"
     ]
    },
    {
     "name": "stdout",
     "output_type": "stream",
     "text": [
      "INFO:tensorflow:*** Available Device: _DeviceAttributes(/job:worker/replica:0/task:0/device:TPU_SYSTEM:0, TPU_SYSTEM, 0, 0)\n"
     ]
    },
    {
     "name": "stderr",
     "output_type": "stream",
     "text": [
      "INFO:tensorflow:*** Available Device: _DeviceAttributes(/job:worker/replica:0/task:0/device:TPU_SYSTEM:0, TPU_SYSTEM, 0, 0)\n"
     ]
    },
    {
     "name": "stdout",
     "output_type": "stream",
     "text": [
      "INFO:tensorflow:*** Available Device: _DeviceAttributes(/job:worker/replica:0/task:0/device:XLA_CPU:0, XLA_CPU, 0, 0)\n"
     ]
    },
    {
     "name": "stderr",
     "output_type": "stream",
     "text": [
      "INFO:tensorflow:*** Available Device: _DeviceAttributes(/job:worker/replica:0/task:0/device:XLA_CPU:0, XLA_CPU, 0, 0)\n"
     ]
    }
   ],
   "source": [
    "# Detect hardware, return appropriate distribution strategy\n",
    "try:\n",
    "    # TPU detection. No parameters necessary if TPU_NAME environment variable is\n",
    "    # set: this is always the case on Kaggle.\n",
    "    tpu = tf.distribute.cluster_resolver.TPUClusterResolver()\n",
    "    print('Running on TPU ', tpu.master())\n",
    "except ValueError:\n",
    "    tpu = None\n",
    "\n",
    "if tpu:\n",
    "    tf.config.experimental_connect_to_cluster(tpu)\n",
    "    tf.tpu.experimental.initialize_tpu_system(tpu)\n",
    "    strategy = tf.distribute.TPUStrategy(tpu)\n",
    "else:\n",
    "    # Default distribution strategy in Tensorflow. Works on CPU and single GPU.\n",
    "    strategy = tf.distribute.get_strategy()"
   ]
  },
  {
   "cell_type": "code",
   "execution_count": 10,
   "metadata": {
    "colab": {},
    "colab_type": "code",
    "id": "2uLfCeFjIl5B"
   },
   "outputs": [],
   "source": [
    "def fast_tokenization(text,encode_plus=False):\n",
    "  attention_mask=[]\n",
    "  input_ids=[]\n",
    "  for instance in tqdm(text,desc='Tokenization Process'):\n",
    "    if encode_plus:\n",
    "      token_out=fast_tokenizer.encode_plus(instance,return_attention_mask=True,padding='max_length',truncation=True,max_length=MAX_LEN)\n",
    "      input_ids.append(token_out['input_ids'])\n",
    "      attention_mask.append(token_out['attention_mask'])\n",
    "    else:\n",
    "      token_out=fast_tokenizer.encode(instance)\n",
    "      input_ids.append(token_out.ids)\n",
    "      attention_mask.append(token_out.attention_mask)\n",
    "  return input_ids,attention_mask"
   ]
  },
  {
   "cell_type": "code",
   "execution_count": 11,
   "metadata": {
    "colab": {},
    "colab_type": "code",
    "id": "UbdRKvVpIn5B"
   },
   "outputs": [],
   "source": [
    "X_train={}\n",
    "X_valid={}\n",
    "X_test={}"
   ]
  },
  {
   "cell_type": "code",
   "execution_count": 12,
   "metadata": {
    "colab": {
     "base_uri": "https://localhost:8080/",
     "height": 306
    },
    "colab_type": "code",
    "executionInfo": {
     "elapsed": 90663,
     "status": "ok",
     "timestamp": 1599847011454,
     "user": {
      "displayName": "Ur Tech Guide",
      "photoUrl": "https://lh3.googleusercontent.com/a-/AOh14GhBjMoWnc1KwT73B6hzAbvnSIxnZAl5PY9n_RGJ0w=s64",
      "userId": "03152431167485721857"
     },
     "user_tz": -300
    },
    "id": "NvMRJ3VHJr2q",
    "outputId": "c7fddfb4-27ba-4d23-a530-ef40ef8fc0d7"
   },
   "outputs": [
    {
     "data": {
      "text/html": [
       "<div>\n",
       "<style scoped>\n",
       "    .dataframe tbody tr th:only-of-type {\n",
       "        vertical-align: middle;\n",
       "    }\n",
       "\n",
       "    .dataframe tbody tr th {\n",
       "        vertical-align: top;\n",
       "    }\n",
       "\n",
       "    .dataframe thead th {\n",
       "        text-align: right;\n",
       "    }\n",
       "</style>\n",
       "<table border=\"1\" class=\"dataframe\">\n",
       "  <thead>\n",
       "    <tr style=\"text-align: right;\">\n",
       "      <th></th>\n",
       "      <th>id</th>\n",
       "      <th>label</th>\n",
       "      <th>statement</th>\n",
       "      <th>subject</th>\n",
       "      <th>speaker</th>\n",
       "      <th>job</th>\n",
       "      <th>state</th>\n",
       "      <th>party</th>\n",
       "      <th>venue</th>\n",
       "    </tr>\n",
       "  </thead>\n",
       "  <tbody>\n",
       "    <tr>\n",
       "      <th>0</th>\n",
       "      <td>2635.json</td>\n",
       "      <td>false</td>\n",
       "      <td>Says the Annies List political group supports ...</td>\n",
       "      <td>abortion</td>\n",
       "      <td>dwayne-bohac</td>\n",
       "      <td>State representative</td>\n",
       "      <td>Texas</td>\n",
       "      <td>republican</td>\n",
       "      <td>a mailer</td>\n",
       "    </tr>\n",
       "    <tr>\n",
       "      <th>1</th>\n",
       "      <td>10540.json</td>\n",
       "      <td>half-true</td>\n",
       "      <td>When did the decline of coal start? It started...</td>\n",
       "      <td>energy,history,job-accomplishments</td>\n",
       "      <td>scott-surovell</td>\n",
       "      <td>State delegate</td>\n",
       "      <td>Virginia</td>\n",
       "      <td>democrat</td>\n",
       "      <td>a floor speech.</td>\n",
       "    </tr>\n",
       "    <tr>\n",
       "      <th>2</th>\n",
       "      <td>324.json</td>\n",
       "      <td>mostly-true</td>\n",
       "      <td>Hillary Clinton agrees with John McCain \"by vo...</td>\n",
       "      <td>foreign-policy</td>\n",
       "      <td>barack-obama</td>\n",
       "      <td>President</td>\n",
       "      <td>Illinois</td>\n",
       "      <td>democrat</td>\n",
       "      <td>Denver</td>\n",
       "    </tr>\n",
       "    <tr>\n",
       "      <th>3</th>\n",
       "      <td>1123.json</td>\n",
       "      <td>false</td>\n",
       "      <td>Health care reform legislation is likely to ma...</td>\n",
       "      <td>health-care</td>\n",
       "      <td>blog-posting</td>\n",
       "      <td>NaN</td>\n",
       "      <td>NaN</td>\n",
       "      <td>none</td>\n",
       "      <td>a news release</td>\n",
       "    </tr>\n",
       "    <tr>\n",
       "      <th>4</th>\n",
       "      <td>9028.json</td>\n",
       "      <td>half-true</td>\n",
       "      <td>The economic turnaround started at the end of ...</td>\n",
       "      <td>economy,jobs</td>\n",
       "      <td>charlie-crist</td>\n",
       "      <td>NaN</td>\n",
       "      <td>Florida</td>\n",
       "      <td>democrat</td>\n",
       "      <td>an interview on CNN</td>\n",
       "    </tr>\n",
       "  </tbody>\n",
       "</table>\n",
       "</div>"
      ],
      "text/plain": [
       "           id        label                                          statement  \\\n",
       "0   2635.json        false  Says the Annies List political group supports ...   \n",
       "1  10540.json    half-true  When did the decline of coal start? It started...   \n",
       "2    324.json  mostly-true  Hillary Clinton agrees with John McCain \"by vo...   \n",
       "3   1123.json        false  Health care reform legislation is likely to ma...   \n",
       "4   9028.json    half-true  The economic turnaround started at the end of ...   \n",
       "\n",
       "                              subject         speaker                   job  \\\n",
       "0                            abortion    dwayne-bohac  State representative   \n",
       "1  energy,history,job-accomplishments  scott-surovell        State delegate   \n",
       "2                      foreign-policy    barack-obama             President   \n",
       "3                         health-care    blog-posting                   NaN   \n",
       "4                        economy,jobs   charlie-crist                   NaN   \n",
       "\n",
       "      state       party                venue  \n",
       "0     Texas  republican             a mailer  \n",
       "1  Virginia    democrat      a floor speech.  \n",
       "2  Illinois    democrat               Denver  \n",
       "3       NaN        none       a news release  \n",
       "4   Florida    democrat  an interview on CNN  "
      ]
     },
     "execution_count": 12,
     "metadata": {},
     "output_type": "execute_result"
    }
   ],
   "source": [
    "df_train.head()"
   ]
  },
  {
   "cell_type": "code",
   "execution_count": 13,
   "metadata": {
    "colab": {},
    "colab_type": "code",
    "id": "ryldm9zTIoqP"
   },
   "outputs": [],
   "source": [
    "def stop_word_removal(text):\n",
    "  stop_word=['The','the','a','A','An','an']\n",
    "  tokenized_sentence=word_tokenize(text)\n",
    "  final_tokenized_sentence=[]\n",
    "  for word in tokenized_sentence:\n",
    "    if word not in stop_word:\n",
    "        final_tokenized_sentence.append(word)\n",
    "  final_tokenized_sentence=' '.join(final_tokenized_sentence)\n",
    "  return final_tokenized_sentence"
   ]
  },
  {
   "cell_type": "code",
   "execution_count": 14,
   "metadata": {
    "colab": {},
    "colab_type": "code",
    "id": "Im_jsKgeMMxu"
   },
   "outputs": [],
   "source": [
    "def label_numeric(target):\n",
    "    dic_map={'true':0,'half-true':1,'mostly-true':3,'barely-true':2,'pants-fire':4,'false':5}\n",
    "    return dic_map[target]"
   ]
  },
  {
   "cell_type": "code",
   "execution_count": 15,
   "metadata": {
    "colab": {
     "base_uri": "https://localhost:8080/",
     "height": 187
    },
    "colab_type": "code",
    "executionInfo": {
     "elapsed": 90614,
     "status": "ok",
     "timestamp": 1599847011459,
     "user": {
      "displayName": "Ur Tech Guide",
      "photoUrl": "https://lh3.googleusercontent.com/a-/AOh14GhBjMoWnc1KwT73B6hzAbvnSIxnZAl5PY9n_RGJ0w=s64",
      "userId": "03152431167485721857"
     },
     "user_tz": -300
    },
    "id": "Ie7c5Yi_KMOl",
    "outputId": "051f8e61-5686-4549-ff70-b55c98e0cb4e"
   },
   "outputs": [
    {
     "data": {
      "text/plain": [
       "id              0\n",
       "label           0\n",
       "statement       0\n",
       "subject         2\n",
       "speaker         2\n",
       "job          2897\n",
       "state        2208\n",
       "party           2\n",
       "venue         102\n",
       "dtype: int64"
      ]
     },
     "execution_count": 15,
     "metadata": {},
     "output_type": "execute_result"
    }
   ],
   "source": [
    "df_train.isnull().sum()"
   ]
  },
  {
   "cell_type": "code",
   "execution_count": 16,
   "metadata": {
    "colab": {},
    "colab_type": "code",
    "id": "NAJQ6ZywKUyA"
   },
   "outputs": [],
   "source": [
    "df_train.fillna('[UNK]',inplace=True)\n",
    "df_valid.fillna('[UNK]',inplace=True)\n",
    "df_test.fillna('[UNK]',inplace=True)"
   ]
  },
  {
   "cell_type": "code",
   "execution_count": 17,
   "metadata": {
    "colab": {},
    "colab_type": "code",
    "id": "BTjsE0CnI-OZ"
   },
   "outputs": [],
   "source": [
    "df_train['combine_text_tokenize']=df_train['statement']+' Subject: '+df_train['subject']+' ,Speaker: '+df_train['speaker']+' ,Job: '+df_train['job']+' ,State: '+df_train['state']+' ,Party: ' +df_train['party']+' ,Venue: '+df_train['venue']\n",
    "df_valid['combine_text_tokenize']=df_valid['statement']+' Subject: '+df_valid['subject']+' ,Speaker: '+df_valid['speaker']+' ,Job: '+df_valid['job']+' ,State: '+df_valid['state']+' ,Party: ' +df_valid['party']+' ,Venue: '+df_valid['venue']\n",
    "df_test['combine_text_tokenize']=df_test['statement']+' Subject: '+df_test['subject']+' ,Speaker: '+df_test['speaker']+' ,Job: '+df_test['job']+' ,State: '+df_test['state']+' ,Party: ' +df_test['party']+' ,Venue: '+df_test['venue']"
   ]
  },
  {
   "cell_type": "code",
   "execution_count": 18,
   "metadata": {
    "colab": {
     "base_uri": "https://localhost:8080/",
     "height": 52
    },
    "colab_type": "code",
    "executionInfo": {
     "elapsed": 89058,
     "status": "ok",
     "timestamp": 1599847011464,
     "user": {
      "displayName": "Ur Tech Guide",
      "photoUrl": "https://lh3.googleusercontent.com/a-/AOh14GhBjMoWnc1KwT73B6hzAbvnSIxnZAl5PY9n_RGJ0w=s64",
      "userId": "03152431167485721857"
     },
     "user_tz": -300
    },
    "id": "w-XPKYleK7qG",
    "outputId": "072214a4-c13b-40a3-d813-d93cb575c6fa"
   },
   "outputs": [
    {
     "data": {
      "text/plain": [
       "'Says the Annies List political group supports third-trimester abortions on demand. Subject: abortion ,Speaker: dwayne-bohac ,Job: State representative ,State: Texas ,Party: republican ,Venue: a mailer'"
      ]
     },
     "execution_count": 18,
     "metadata": {},
     "output_type": "execute_result"
    }
   ],
   "source": [
    "df_train.iloc[0,-1]"
   ]
  },
  {
   "cell_type": "code",
   "execution_count": 19,
   "metadata": {
    "colab": {},
    "colab_type": "code",
    "id": "7n3ihDEZL9AW"
   },
   "outputs": [],
   "source": [
    "df_train['combine_text_tokenize']=df_train['combine_text_tokenize'].map(stop_word_removal)\n",
    "df_valid['combine_text_tokenize']=df_valid['combine_text_tokenize'].map(stop_word_removal)\n",
    "df_test['combine_text_tokenize']=df_test['combine_text_tokenize'].map(stop_word_removal)"
   ]
  },
  {
   "cell_type": "code",
   "execution_count": 20,
   "metadata": {
    "colab": {},
    "colab_type": "code",
    "id": "o-k73qvmMHWE"
   },
   "outputs": [],
   "source": [
    "df_train['target']=df_train['label'].map(label_numeric)\n",
    "df_valid['target']=df_valid['label'].map(label_numeric)\n",
    "df_test['target']=df_test['label'].map(label_numeric)"
   ]
  },
  {
   "cell_type": "code",
   "execution_count": 21,
   "metadata": {
    "colab": {},
    "colab_type": "code",
    "id": "xWCiBCGuLO7U"
   },
   "outputs": [],
   "source": [
    "class WarmUp(tf.keras.optimizers.schedules.LearningRateSchedule):\n",
    "    \"\"\"\n",
    "    Applies a warmup schedule on a given learning rate decay schedule.\n",
    "\n",
    "    Args:\n",
    "        initial_learning_rate (:obj:`float`):\n",
    "            The initial learning rate for the schedule after the warmup (so this will be the learning rate at the end\n",
    "            of the warmup).\n",
    "        decay_schedule_fn (:obj:`Callable`):\n",
    "            The schedule function to apply after the warmup for the rest of training.\n",
    "        warmup_steps (:obj:`int`):\n",
    "            The number of steps for the warmup part of training.\n",
    "        power (:obj:`float`, `optional`, defaults to 1):\n",
    "            The power to use for the polynomial warmup (defaults is a linear warmup).\n",
    "        name (:obj:`str`, `optional`):\n",
    "            Optional name prefix for the returned tensors during the schedule.\n",
    "    \"\"\"\n",
    "\n",
    "    def __init__(\n",
    "        self,\n",
    "        initial_learning_rate: float,\n",
    "        decay_schedule_fn: Callable,\n",
    "        warmup_steps: int,\n",
    "        power: float = 1.0,\n",
    "        name: str = None,\n",
    "    ):\n",
    "        super().__init__()\n",
    "        self.initial_learning_rate = initial_learning_rate\n",
    "        self.warmup_steps = warmup_steps\n",
    "        self.power = power\n",
    "        self.decay_schedule_fn = decay_schedule_fn\n",
    "        self.name = name\n",
    "\n",
    "    def __call__(self, step):\n",
    "        with tf.name_scope(self.name or \"WarmUp\") as name:\n",
    "\n",
    "            global_step_float = tf.cast(step, tf.float32)\n",
    "            warmup_steps_float = tf.cast(self.warmup_steps, tf.float32)\n",
    "            warmup_percent_done = global_step_float / warmup_steps_float\n",
    "            warmup_learning_rate = self.initial_learning_rate * tf.math.pow(warmup_percent_done, self.power)\n",
    "            return tf.cond(\n",
    "                global_step_float < warmup_steps_float,\n",
    "                lambda: warmup_learning_rate,\n",
    "                lambda: self.decay_schedule_fn(step - self.warmup_steps),\n",
    "                name=name,\n",
    "            )\n",
    "\n",
    "    def get_config(self):\n",
    "        return {\n",
    "            \"initial_learning_rate\": self.initial_learning_rate,\n",
    "            \"decay_schedule_fn\": self.decay_schedule_fn,\n",
    "            \"warmup_steps\": self.warmup_steps,\n",
    "            \"power\": self.power,\n",
    "            \"name\": self.name,\n",
    "        }\n",
    "\n",
    "\n",
    "\n",
    "def create_optimizer(\n",
    "    init_lr: float,\n",
    "    num_train_steps: int,\n",
    "    num_warmup_steps: int,\n",
    "    min_lr_ratio: float = 0.0,\n",
    "    adam_epsilon: float = 1e-8,\n",
    "    weight_decay_rate: float = 0.0,\n",
    "    include_in_weight_decay: Optional[List[str]] = None,schedule='linear',\n",
    "):\n",
    "    \"\"\"\n",
    "    Creates an optimizer with a learning rate schedule using a warmup phase followed by a linear decay.\n",
    "\n",
    "    Args:\n",
    "        init_lr (:obj:`float`):\n",
    "            The desired learning rate at the end of the warmup phase.\n",
    "        num_train_step (:obj:`int`):\n",
    "            The total number of training steps.\n",
    "        num_warmup_steps (:obj:`int`):\n",
    "            The number of warmup steps.\n",
    "        min_lr_ratio (:obj:`float`, `optional`, defaults to 0):\n",
    "            The final learning rate at the end of the linear decay will be :obj:`init_lr * min_lr_ratio`.\n",
    "        adam_epsilon (:obj:`float`, `optional`, defaults to 1e-8):\n",
    "            The epsilon to use in Adam.\n",
    "        weight_decay_rate (:obj:`float`, `optional`, defaults to 0):\n",
    "            The weight decay to use.\n",
    "        include_in_weight_decay (:obj:`List[str]`, `optional`):\n",
    "            List of the parameter names (or re patterns) to apply weight decay to. If none is passed, weight decay is\n",
    "            applied to all parameters except bias and layer norm parameters.\n",
    "    \"\"\"\n",
    "    # Implements linear decay of the learning rate.\n",
    "    if schedule=='linear':\n",
    "      lr_schedule = tf.keras.optimizers.schedules.PolynomialDecay(\n",
    "          initial_learning_rate=init_lr,\n",
    "          decay_steps=num_train_steps - num_warmup_steps,\n",
    "          end_learning_rate=init_lr * min_lr_ratio,\n",
    "      )\n",
    "    else:\n",
    "      lr_schedule=tf.keras.experimental.CosineDecay(\n",
    "      initial_learning_rate=init_lr, decay_steps=num_train_steps - num_warmup_steps, alpha=0.0, name=None)\n",
    "      \n",
    "    if num_warmup_steps:\n",
    "        lr_schedule = WarmUp(\n",
    "            initial_learning_rate=init_lr, decay_schedule_fn=lr_schedule, warmup_steps=num_warmup_steps,\n",
    "        )\n",
    "    if weight_decay_rate > 0.0:\n",
    "        optimizer = AdamWeightDecay(\n",
    "            learning_rate=lr_schedule,\n",
    "            weight_decay_rate=weight_decay_rate,\n",
    "            beta_1=0.9,\n",
    "            beta_2=0.999,\n",
    "            epsilon=adam_epsilon,\n",
    "            exclude_from_weight_decay=[\"LayerNorm\", \"layer_norm\", \"bias\"],\n",
    "            include_in_weight_decay=include_in_weight_decay,\n",
    "        )\n",
    "    else:\n",
    "        optimizer = tf.keras.optimizers.Adam(learning_rate=lr_schedule, epsilon=adam_epsilon)\n",
    "    # We return the optimizer and the LR scheduler in order to better track the\n",
    "    # evolution of the LR independently of the optimizer.\n",
    "    return optimizer, lr_schedule"
   ]
  },
  {
   "cell_type": "code",
   "execution_count": 22,
   "metadata": {
    "colab": {},
    "colab_type": "code",
    "id": "PO57gA7KLlpX"
   },
   "outputs": [],
   "source": [
    "class LossHistory(tf.keras.callbacks.Callback):\n",
    "    def on_train_begin(self, logs={}):\n",
    "        self.losses = []\n",
    "    def on_batch_end(self, batch, logs={}):\n",
    "        self.losses.append(logs.get('loss'))"
   ]
  },
  {
   "cell_type": "code",
   "execution_count": 23,
   "metadata": {
    "colab": {},
    "colab_type": "code",
    "id": "jAuLTq0xLnoy"
   },
   "outputs": [],
   "source": [
    "def accuracy(y_true,y_pred,name):\n",
    "  y_true=np.argmax(y_true,axis=1)\n",
    "  y_pred=np.argmax(y_pred,axis=1)\n",
    "  accuracy=accuracy_score(y_true,y_pred)\n",
    "  print('The accuracy of the model {} is Accuracy: {:.3%}'.format(name,accuracy))\n",
    "  print(classification_report(y_true, y_pred, target_names=['true','half-true','barely-true','mostly-true','pants-fire','false']))"
   ]
  },
  {
   "cell_type": "code",
   "execution_count": 24,
   "metadata": {
    "colab": {},
    "colab_type": "code",
    "id": "qg0VfWGbLpoX"
   },
   "outputs": [],
   "source": [
    "def f1_score_m(y_true,y_pred,name):\n",
    "  y_true=np.argmax(y_true,axis=1)\n",
    "  y_pred=np.argmax(y_pred,axis=1)\n",
    "  f1_m=f1_score(y_true,y_pred,average='macro')\n",
    "  print('The F1-M Score of the model {} is F-1-Score: {:.3%}'.format(name,f1_m))"
   ]
  },
  {
   "cell_type": "code",
   "execution_count": 25,
   "metadata": {
    "colab": {},
    "colab_type": "code",
    "id": "w7dOHSttLq-v"
   },
   "outputs": [],
   "source": [
    "colors = plt.rcParams['axes.prop_cycle'].by_key()['color']\n",
    "\n",
    "def plot_loss(history,main_title):\n",
    "# Use a log scale to show the wide range of values.\n",
    "    plt.figure(figsize=(12,10))\n",
    "    plt.semilogy(list(range(len(history))),  history,\n",
    "               color='blue', label='Training')\n",
    "    plt.title(main_title)\n",
    "    plt.xlabel('Logging Step')\n",
    "    plt.ylabel('Loss')\n",
    "  \n",
    "    plt.legend(title=\"Log Loss\")\n",
    "    \n",
    "    \n",
    "def plot_cm(y_true, y_pred, title):\n",
    "    ''''\n",
    "    input y_true-Ground Truth Labels\n",
    "          y_pred-Predicted Value of Model\n",
    "          title-What Title to give to the confusion matrix\n",
    "    \n",
    "    Draws a Confusion Matrix for better understanding of how the model is working\n",
    "    \n",
    "    return None\n",
    "    \n",
    "    '''\n",
    "    \n",
    "    figsize=(10,10)\n",
    "    y_true=np.argmax(y_true,axis=1)\n",
    "    y_pred=np.argmax(y_pred,axis=1)\n",
    "    cm = confusion_matrix(y_true, y_pred, labels=np.unique(y_true))\n",
    "    cm_sum = np.sum(cm, axis=1, keepdims=True)\n",
    "    cm_perc = cm / cm_sum.astype(float) * 100\n",
    "    annot = np.empty_like(cm).astype(str)\n",
    "    nrows, ncols = cm.shape\n",
    "    for i in range(nrows):\n",
    "        for j in range(ncols):\n",
    "            c = cm[i, j]\n",
    "            p = cm_perc[i, j]\n",
    "            if i == j:\n",
    "                s = cm_sum[i]\n",
    "                annot[i, j] = '%.1f%%\\n%d/%d' % (p, c, s)\n",
    "            elif c == 0:\n",
    "                annot[i, j] = ''\n",
    "            else:\n",
    "                annot[i, j] = '%.1f%%\\n%d' % (p, c)\n",
    "    cm = pd.DataFrame(cm, index=np.unique(y_true), columns=np.unique(y_true))\n",
    "    cm.index.name = 'Actual'\n",
    "    cm.columns.name = 'Predicted'\n",
    "    fig, ax = plt.subplots(figsize=figsize)\n",
    "    plt.title(title)\n",
    "    sns.heatmap(cm, cmap= \"YlGnBu\", annot=annot, fmt='', ax=ax)"
   ]
  },
  {
   "cell_type": "code",
   "execution_count": 26,
   "metadata": {
    "colab": {},
    "colab_type": "code",
    "id": "vDMqiieXLtBO"
   },
   "outputs": [],
   "source": [
    "true_labels=['true','half-true','barely-true','mostly-true']\n",
    "false_labels=['false','pants-fire']\n",
    "high_score_labels=['true','pants-fire']\n",
    "\n",
    "def score_submission(gold_labels, test_labels):\n",
    "    score = 0.0\n",
    "    for i, (g, t) in enumerate(zip(gold_labels, test_labels)):\n",
    "        g_stance, t_stance = g, t\n",
    "        if g_stance == t_stance:\n",
    "            score += 0.25\n",
    "            if g_stance in high_score_labels:\n",
    "                score += 0.50\n",
    "        if g_stance in true_labels and t_stance in true_labels:\n",
    "            score += 0.1\n",
    "        elif g_stance in false_labels and t_stance in false_labels:\n",
    "            score += 0.1\n",
    "        \n",
    "\n",
    "    return score\n",
    "\n",
    "def report_score(actual,predicted,name):\n",
    "    actual=np.argmax(actual,axis=1)\n",
    "    predicted=np.argmax(predicted,axis=1)\n",
    "    score = score_submission(actual,predicted)\n",
    "    best_score = score_submission(actual,actual)\n",
    "    print('For Model {}'.format(name))\n",
    "    print(\"Score: \" +str(score) + \" out of \" + str(best_score) + \"\\t(\"+str(score*100/best_score) + \"%)\")\n",
    "    return score*100/best_score"
   ]
  },
  {
   "cell_type": "code",
   "execution_count": 27,
   "metadata": {
    "colab": {},
    "colab_type": "code",
    "id": "XsZ2kBb8L2QP"
   },
   "outputs": [],
   "source": [
    "def tensorflow_make_train_valid_data(X_train,y_train,X_valid,y_valid,test=False):\n",
    "\n",
    "      train = (\n",
    "          tf.data.Dataset\n",
    "          .from_tensor_slices((X_train, y_train))\n",
    "          .repeat()\n",
    "          .shuffle(1024)\n",
    "          .batch(BATCH_SIZE)\n",
    "          .prefetch(AUTO))\n",
    "\n",
    "      valid = (\n",
    "          tf.data.Dataset\n",
    "          .from_tensor_slices((X_valid, y_valid))\n",
    "          .batch(BATCH_SIZE)\n",
    "          .cache()\n",
    "          .prefetch(AUTO)\n",
    "      )\n",
    "      return train,valid"
   ]
  },
  {
   "cell_type": "code",
   "execution_count": 28,
   "metadata": {
    "colab": {},
    "colab_type": "code",
    "id": "nmbfXf8nL3sU"
   },
   "outputs": [],
   "source": [
    "def make_test_data(X_test):\n",
    "    test = (\n",
    "          tf.data.Dataset\n",
    "          .from_tensor_slices(X_test)\n",
    "          .batch(BATCH_SIZE)\n",
    "      )\n",
    "    return test"
   ]
  },
  {
   "cell_type": "code",
   "execution_count": 29,
   "metadata": {
    "colab": {
     "base_uri": "https://localhost:8080/",
     "height": 117,
     "referenced_widgets": [
      "781f861c22b445ffa80305375b46ed4f",
      "513e96b7d7ac4ac7a036c0807dac7065",
      "3de25473bd144f91bf6f4571a39474f5",
      "2c18995abb9849c29c46274d257d02be",
      "fa00dd172ae94cfb9eba4e3b1f62eb46",
      "e4d6b4436bc04327a9693aa4a518d0d3",
      "2863af7ec70e415e9e84a630c9cddd71",
      "cbb1282b16c043df878e64877210ef09"
     ]
    },
    "colab_type": "code",
    "executionInfo": {
     "elapsed": 84796,
     "status": "ok",
     "timestamp": 1599847020564,
     "user": {
      "displayName": "Ur Tech Guide",
      "photoUrl": "https://lh3.googleusercontent.com/a-/AOh14GhBjMoWnc1KwT73B6hzAbvnSIxnZAl5PY9n_RGJ0w=s64",
      "userId": "03152431167485721857"
     },
     "user_tz": -300
    },
    "id": "uWGGXaHmL45b",
    "outputId": "2c92db9d-1fe2-4e81-d61f-1a1efa20c919"
   },
   "outputs": [
    {
     "data": {
      "application/vnd.jupyter.widget-view+json": {
       "model_id": "65bdecbff92c40fcbc9582f3bf55c936",
       "version_major": 2,
       "version_minor": 0
      },
      "text/plain": [
       "Downloading:   0%|          | 0.00/232k [00:00<?, ?B/s]"
      ]
     },
     "metadata": {},
     "output_type": "display_data"
    },
    {
     "data": {
      "application/vnd.jupyter.widget-view+json": {
       "model_id": "c68cd5b6f7634e62878986b3706f6685",
       "version_major": 2,
       "version_minor": 0
      },
      "text/plain": [
       "Downloading:   0%|          | 0.00/466k [00:00<?, ?B/s]"
      ]
     },
     "metadata": {},
     "output_type": "display_data"
    },
    {
     "data": {
      "application/vnd.jupyter.widget-view+json": {
       "model_id": "02f18d216b514451b8942a34ac60f088",
       "version_major": 2,
       "version_minor": 0
      },
      "text/plain": [
       "Downloading:   0%|          | 0.00/28.0 [00:00<?, ?B/s]"
      ]
     },
     "metadata": {},
     "output_type": "display_data"
    },
    {
     "name": "stderr",
     "output_type": "stream",
     "text": [
      "Tokenization Process: 100%|██████████| 10240/10240 [00:01<00:00, 5558.07it/s]\n",
      "Tokenization Process: 100%|██████████| 1284/1284 [00:00<00:00, 5485.55it/s]\n",
      "Tokenization Process: 100%|██████████| 1267/1267 [00:00<00:00, 5498.75it/s]\n"
     ]
    }
   ],
   "source": [
    "fast_tokenizer = DistilBertTokenizerFast.from_pretrained(\"distilbert-base-uncased\")._tokenizer\n",
    "fast_tokenizer.enable_padding(length=MAX_LEN)\n",
    "fast_tokenizer.enable_truncation(max_length=MAX_LEN)\n",
    "\n",
    "\n",
    "input_ids_distill_bert,attention_mask_distill_bert=fast_tokenization(df_train['combine_text_tokenize'].values)\n",
    "X_train['input_ids_distill_bert'],X_train['attention_mask_distill_bert']=input_ids_distill_bert,attention_mask_distill_bert\n",
    "input_ids_distill_bert,attention_mask_distill_bert=fast_tokenization(df_valid['combine_text_tokenize'].values)\n",
    "X_valid['input_ids_distill_bert'],X_valid['attention_mask_distill_bert']=input_ids_distill_bert,attention_mask_distill_bert\n",
    "\n",
    "input_ids_distill_bert,attention_mask_distill_bert=fast_tokenization(df_test['combine_text_tokenize'].values)\n",
    "X_test['input_ids_distill_bert'],X_test['attention_mask_distill_bert']=input_ids_distill_bert,attention_mask_distill_bert\n"
   ]
  },
  {
   "cell_type": "code",
   "execution_count": 30,
   "metadata": {
    "colab": {
     "base_uri": "https://localhost:8080/",
     "height": 166,
     "referenced_widgets": [
      "009cb25652f349ab8a63134500c28590",
      "1a1f22d7ad974781ad1ef3c1bb0f8d3f",
      "c02b15854157488ca3449ef902052f58",
      "91c74d456c47459985fdd7161a73a627",
      "212b49e6ee8247cbb841390a2e025d2f",
      "3dea6cbb958445a6abf2c3a937bb59a3",
      "8859431f174e4fbf8a2c8b61b4c333f3",
      "c6d565b6e2dd41ea8dffac13387d1a8c",
      "b65bebdeda1846bcba8236cc25fd12d2",
      "eff6f33ab7fc4f579915bd060140248b",
      "8b1ec583a60b4a97abacefc265d2754d",
      "da28fa9518fe4a5588a4e971e438e5ab",
      "858fdc34334c4d4e950d1e9082545ce1",
      "361d7bc5bc384c0aa41c4655310e2d4d",
      "980da68a40ab407998d666bdcc5556ad",
      "87ce8f9ad88c4348b562322852543145"
     ]
    },
    "colab_type": "code",
    "executionInfo": {
     "elapsed": 88842,
     "status": "ok",
     "timestamp": 1599847025271,
     "user": {
      "displayName": "Ur Tech Guide",
      "photoUrl": "https://lh3.googleusercontent.com/a-/AOh14GhBjMoWnc1KwT73B6hzAbvnSIxnZAl5PY9n_RGJ0w=s64",
      "userId": "03152431167485721857"
     },
     "user_tz": -300
    },
    "id": "z2WfLVCnRHoM",
    "outputId": "336c44f8-c542-48a8-e96d-a3c6fd98d864"
   },
   "outputs": [
    {
     "data": {
      "application/vnd.jupyter.widget-view+json": {
       "model_id": "28b3c9cc025043919d94a6c7904f3856",
       "version_major": 2,
       "version_minor": 0
      },
      "text/plain": [
       "Downloading:   0%|          | 0.00/1.04M [00:00<?, ?B/s]"
      ]
     },
     "metadata": {},
     "output_type": "display_data"
    },
    {
     "data": {
      "application/vnd.jupyter.widget-view+json": {
       "model_id": "d56dc68c904b4326972af5c4b07fdf59",
       "version_major": 2,
       "version_minor": 0
      },
      "text/plain": [
       "Downloading:   0%|          | 0.00/456k [00:00<?, ?B/s]"
      ]
     },
     "metadata": {},
     "output_type": "display_data"
    },
    {
     "data": {
      "application/vnd.jupyter.widget-view+json": {
       "model_id": "33ca9468ceb24746a1ef08842d1f7a3b",
       "version_major": 2,
       "version_minor": 0
      },
      "text/plain": [
       "Downloading:   0%|          | 0.00/1.36M [00:00<?, ?B/s]"
      ]
     },
     "metadata": {},
     "output_type": "display_data"
    },
    {
     "name": "stderr",
     "output_type": "stream",
     "text": [
      "Tokenization Process: 100%|██████████| 10240/10240 [00:01<00:00, 5356.30it/s]\n",
      "Tokenization Process: 100%|██████████| 1284/1284 [00:00<00:00, 5707.76it/s]\n",
      "Tokenization Process: 100%|██████████| 1267/1267 [00:00<00:00, 5826.58it/s]\n"
     ]
    }
   ],
   "source": [
    "fast_tokenizer = GPT2TokenizerFast.from_pretrained(\"distilgpt2\")._tokenizer\n",
    "fast_tokenizer.enable_padding(length=MAX_LEN)\n",
    "fast_tokenizer.enable_truncation(max_length=MAX_LEN)\n",
    "\n",
    "input_ids_gpt_2,attention_mask_gpt_2=fast_tokenization(df_train['combine_text_tokenize'].values)\n",
    "X_train['input_ids_gpt_2'],X_train['attention_mask_gpt_2']=input_ids_gpt_2,attention_mask_gpt_2\n",
    "input_ids_gpt_2,attention_mask_gpt_2=fast_tokenization(df_valid['combine_text_tokenize'].values)\n",
    "X_valid['input_ids_gpt_2'],X_valid['attention_mask_gpt_2']=input_ids_gpt_2,attention_mask_gpt_2\n",
    "\n",
    "input_ids_gpt_2,attention_mask_gpt_2=fast_tokenization(df_test['combine_text_tokenize'].values)\n",
    "X_test['input_ids_gpt_2'],X_test['attention_mask_gpt_2']=input_ids_distill_bert,attention_mask_distill_bert\n"
   ]
  },
  {
   "cell_type": "code",
   "execution_count": 31,
   "metadata": {
    "colab": {
     "base_uri": "https://localhost:8080/",
     "height": 215,
     "referenced_widgets": [
      "a95603c5dbcb4639bb2671923e7c084a",
      "e15d16e5b9d54b6181b6e3dd104f3422",
      "6a837f49c6414430bebd6d5f5c5e3bb5",
      "e0770829308441f2b7654eafdd115f47",
      "ff4533a2b54b47d9a6c7380c4bc2fab5",
      "265c321a148d4e31bf751e39d4334efe",
      "ba21bb23948e49ca8feec58322d5da27",
      "dbf9d9e88ac5486c97238d2a5a964610",
      "271567cc05ad468588244fcf8f36b8fa",
      "24acdbe859cf4bcfb8e9685c5097a9d1",
      "760d63f962b04299b62179e27fea1ff2",
      "2273efd6702d48c3804f554b6a4728b5",
      "01907f43b0fa445ab75d17478520a0a7",
      "12acbe9b4d7c46ad88b5b6532ea334b3",
      "9e689e41e5c94bd8a04e9eb75ceb1f50",
      "e05eebbf90e548db9c8dafacd2097017",
      "88123400f31a42c593d6f23afef22e2a",
      "6cea55e7bfa5465baf90516fc217e10d",
      "07d4131fa7a443229fea743030010bdd",
      "26594bd943264c5dbf11f5ab520aa1f1",
      "4413881ba88142d8a8ad1ae4546c85ec",
      "b0ce4f14e63044f5942d6d748ceafab4",
      "33eab5c7e2a840d590eff41442cd6e61",
      "c596e074381c41dbb18b86495f4b68c0"
     ]
    },
    "colab_type": "code",
    "executionInfo": {
     "elapsed": 97009,
     "status": "ok",
     "timestamp": 1599847034439,
     "user": {
      "displayName": "Ur Tech Guide",
      "photoUrl": "https://lh3.googleusercontent.com/a-/AOh14GhBjMoWnc1KwT73B6hzAbvnSIxnZAl5PY9n_RGJ0w=s64",
      "userId": "03152431167485721857"
     },
     "user_tz": -300
    },
    "id": "g_AXdOFtRlz2",
    "outputId": "b447dd27-dcd0-4cbe-cc2f-c92225c23cd7"
   },
   "outputs": [
    {
     "data": {
      "application/vnd.jupyter.widget-view+json": {
       "model_id": "16eadc06ac9c476fa728619792f8118d",
       "version_major": 2,
       "version_minor": 0
      },
      "text/plain": [
       "Downloading:   0%|          | 0.00/480 [00:00<?, ?B/s]"
      ]
     },
     "metadata": {},
     "output_type": "display_data"
    },
    {
     "data": {
      "application/vnd.jupyter.widget-view+json": {
       "model_id": "f3b9a728da67469c9185c7fda39893cf",
       "version_major": 2,
       "version_minor": 0
      },
      "text/plain": [
       "Downloading:   0%|          | 0.00/899k [00:00<?, ?B/s]"
      ]
     },
     "metadata": {},
     "output_type": "display_data"
    },
    {
     "data": {
      "application/vnd.jupyter.widget-view+json": {
       "model_id": "e80e3bd3506b4c8e9e23d5189815a399",
       "version_major": 2,
       "version_minor": 0
      },
      "text/plain": [
       "Downloading:   0%|          | 0.00/456k [00:00<?, ?B/s]"
      ]
     },
     "metadata": {},
     "output_type": "display_data"
    },
    {
     "data": {
      "application/vnd.jupyter.widget-view+json": {
       "model_id": "9b3ddbf7c8eb4bf5af21f48bb4ff2767",
       "version_major": 2,
       "version_minor": 0
      },
      "text/plain": [
       "Downloading:   0%|          | 0.00/1.36M [00:00<?, ?B/s]"
      ]
     },
     "metadata": {},
     "output_type": "display_data"
    },
    {
     "name": "stderr",
     "output_type": "stream",
     "text": [
      "Tokenization Process: 100%|██████████| 10240/10240 [00:02<00:00, 3909.64it/s]\n",
      "Tokenization Process: 100%|██████████| 1284/1284 [00:00<00:00, 4163.71it/s]\n",
      "Tokenization Process: 100%|██████████| 1267/1267 [00:00<00:00, 3982.39it/s]\n"
     ]
    }
   ],
   "source": [
    "model_type = 'distilroberta-base'\n",
    "fast_tokenizer =AutoTokenizer.from_pretrained(model_type)\n",
    "input_ids_roberta,attention_mask_roberta=fast_tokenization(df_train['combine_text_tokenize'].values,encode_plus=True)\n",
    "X_train['input_ids_roberta'],X_train['attention_mask_roberta']=input_ids_roberta,attention_mask_roberta\n",
    "roberta_model_base_input_id,roberta_model_attention_mask=fast_tokenization(df_valid['combine_text_tokenize'].values,encode_plus=True)\n",
    "X_valid['input_ids_roberta'],X_valid['attention_mask_roberta']=roberta_model_base_input_id,roberta_model_attention_mask\n",
    "\n",
    "roberta_model_base_input_id,roberta_model_attention_mask=fast_tokenization(df_test['combine_text_tokenize'].values,encode_plus=True)\n",
    "X_test['input_ids_roberta'],X_test['attention_mask_roberta']=roberta_model_base_input_id,roberta_model_attention_mask\n",
    "\n"
   ]
  },
  {
   "cell_type": "code",
   "execution_count": 32,
   "metadata": {
    "colab": {},
    "colab_type": "code",
    "id": "E67eaO87Rtiw"
   },
   "outputs": [],
   "source": [
    "y_train=np.array(tf.keras.utils.to_categorical(df_train['target'].values))\n",
    "y_valid=np.array(tf.keras.utils.to_categorical(df_valid['target'].values))"
   ]
  },
  {
   "cell_type": "code",
   "execution_count": 33,
   "metadata": {
    "colab": {
     "base_uri": "https://localhost:8080/",
     "height": 71
    },
    "colab_type": "code",
    "executionInfo": {
     "elapsed": 94725,
     "status": "ok",
     "timestamp": 1599847034443,
     "user": {
      "displayName": "Ur Tech Guide",
      "photoUrl": "https://lh3.googleusercontent.com/a-/AOh14GhBjMoWnc1KwT73B6hzAbvnSIxnZAl5PY9n_RGJ0w=s64",
      "userId": "03152431167485721857"
     },
     "user_tz": -300
    },
    "id": "qyc35XkhRxGD",
    "outputId": "218317c4-2112-4851-e0fa-57de9a9968bd"
   },
   "outputs": [
    {
     "name": "stdout",
     "output_type": "stream",
     "text": [
      "dict_keys(['input_ids_distill_bert', 'attention_mask_distill_bert', 'input_ids_gpt_2', 'attention_mask_gpt_2', 'input_ids_roberta', 'attention_mask_roberta'])\n",
      "dict_keys(['input_ids_distill_bert', 'attention_mask_distill_bert', 'input_ids_gpt_2', 'attention_mask_gpt_2', 'input_ids_roberta', 'attention_mask_roberta'])\n"
     ]
    }
   ],
   "source": [
    "print(X_train.keys())\n",
    "print(X_valid.keys())"
   ]
  },
  {
   "cell_type": "code",
   "execution_count": 34,
   "metadata": {
    "colab": {},
    "colab_type": "code",
    "id": "hL1v9orPRydE"
   },
   "outputs": [],
   "source": [
    "BATCH_SIZE = 64\n",
    "EPOCHS=100\n",
    "LEARNING_RATE=1e-7\n",
    "BETA_1=0.9\n",
    "BETA_2=0.999\n",
    "AUTO = tf.data.experimental.AUTOTUNE\n",
    "steps_per_epoch=df_train.shape[0]//BATCH_SIZE\n",
    "total_optimization_steps=int(steps_per_epoch*EPOCHS)\n",
    "WARM_UP_STEPS=int(0.06*total_optimization_steps)\n",
    "optimizer_with_schedule,lr_schedule=create_optimizer(init_lr=LEARNING_RATE,num_train_steps=total_optimization_steps,num_warmup_steps=WARM_UP_STEPS,schedule='cosine')\n",
    "EARLY_STOP=tf.keras.callbacks.EarlyStopping(patience=10)\n",
    "MAX_LEN=MAX_LEN\n",
    "LOSS=tf.keras.losses.CategoricalCrossentropy()\n",
    "OPTIMIZER=tf.keras.optimizers.Adam(learning_rate=LEARNING_RATE,beta_1=BETA_1,beta_2=BETA_2)\n",
    "\n",
    "\n"
   ]
  },
  {
   "cell_type": "code",
   "execution_count": 35,
   "metadata": {
    "colab": {},
    "colab_type": "code",
    "id": "Fn9IMyeiG-nQ"
   },
   "outputs": [],
   "source": [
    "test=make_test_data(X_test)"
   ]
  },
  {
   "cell_type": "code",
   "execution_count": 36,
   "metadata": {
    "colab": {},
    "colab_type": "code",
    "id": "FkafPw-xRzsM"
   },
   "outputs": [],
   "source": [
    "def gbx_layers():\n",
    "    CONFIG_db=DistilBertConfig()\n",
    "    distill_bert = (\n",
    "                TFDistilBertModel.from_pretrained('distilbert-base-uncased')\n",
    "            )\n",
    "    \n",
    "    gpt_layer=(\n",
    "        TFGPT2Model.from_pretrained('distilgpt2')\n",
    "    )\n",
    "\n",
    "    roberta_model=(\n",
    "        TFXLMRobertaModel.from_pretrained('distilroberta-base')\n",
    "    )\n",
    "\n",
    "\n",
    "\n",
    "\n",
    "    input_ids_distill_bert = tf.keras.layers.Input(shape=(MAX_LEN,), dtype=tf.int32, name=\"input_ids_distill_bert\")\n",
    "    attention_mask_distill_bert=tf.keras.layers.Input(shape=(MAX_LEN,), dtype=tf.int32, name=\"attention_mask_distill_bert\")\n",
    "\n",
    "    input_ids_gpt_2 = tf.keras.layers.Input(shape=(MAX_LEN,), dtype=tf.int32, name=\"input_ids_gpt_2\")\n",
    "    attention_mask_gpt_2=tf.keras.layers.Input(shape=(MAX_LEN,), dtype=tf.int32, name=\"attention_mask_gpt_2\")\n",
    "\n",
    "    input_ids_roberta = tf.keras.layers.Input(shape=(MAX_LEN,), dtype=tf.int32, name=\"input_ids_roberta\")\n",
    "    attention_mask_roberta=tf.keras.layers.Input(shape=(MAX_LEN,), dtype=tf.int32, name=\"attention_mask_roberta\")\n",
    "        \n",
    "    \n",
    "    hidden_state_output_dbert=distill_bert([input_ids_distill_bert,attention_mask_distill_bert])[0]\n",
    "    hidden_state_output_gpt_2,_=gpt_layer({'input_ids': input_ids_gpt_2, 'attention_mask': attention_mask_gpt_2},past=None)\n",
    "    hidden_state_output_roberta,_=roberta_model([input_ids_roberta,attention_mask_roberta])\n",
    "    \n",
    "    \n",
    "    \n",
    "    combine_input_1=tf.keras.layers.concatenate([hidden_state_output_dbert,hidden_state_output_gpt_2,hidden_state_output_roberta],axis=2,name='Concatenate_layer')\n",
    "    final_input=tf.keras.layers.Conv1D(filters=768,kernel_size=3,padding='same',name='Conv_1d_layer')(combine_input_1)\n",
    "    \n",
    "\n",
    "    final_input_1=tf.keras.layers.GlobalAveragePooling1D(name='Average_Pooling_layer')(final_input)\n",
    "    out = tf.keras.layers.Dense(6, activation='softmax',name='Softmax_Layer')(final_input_1)\n",
    "\n",
    "    model = tf.keras.Model(inputs=[input_ids_distill_bert,attention_mask_distill_bert,input_ids_gpt_2,attention_mask_gpt_2,input_ids_roberta,attention_mask_roberta], outputs=out)\n",
    "   \n",
    "    return model"
   ]
  },
  {
   "cell_type": "code",
   "execution_count": null,
   "metadata": {
    "colab": {
     "base_uri": "https://localhost:8080/",
     "height": 955
    },
    "colab_type": "code",
    "executionInfo": {
     "elapsed": 154565,
     "status": "ok",
     "timestamp": 1599848018638,
     "user": {
      "displayName": "Ur Tech Guide",
      "photoUrl": "https://lh3.googleusercontent.com/a-/AOh14GhBjMoWnc1KwT73B6hzAbvnSIxnZAl5PY9n_RGJ0w=s64",
      "userId": "03152431167485721857"
     },
     "user_tz": -300
    },
    "id": "0Ixuppg3R1in",
    "outputId": "37c1f6f2-5544-429d-c241-ad17aeeb8de0"
   },
   "outputs": [
    {
     "name": "stderr",
     "output_type": "stream",
     "text": [
      "Some weights of the model checkpoint at distilbert-base-uncased were not used when initializing TFDistilBertModel: ['vocab_layer_norm', 'activation_13', 'vocab_projector', 'vocab_transform']\n",
      "- This IS expected if you are initializing TFDistilBertModel from the checkpoint of a model trained on another task or with another architecture (e.g. initializing a BertForSequenceClassification model from a BertForPretraining model).\n",
      "- This IS NOT expected if you are initializing TFDistilBertModel from the checkpoint of a model that you expect to be exactly identical (initializing a BertForSequenceClassification model from a BertForSequenceClassification model).\n",
      "All the weights of TFDistilBertModel were initialized from the model checkpoint at distilbert-base-uncased.\n",
      "If your task is similar to the task the model of the checkpoint was trained on, you can already use TFDistilBertModel for predictions without further training.\n",
      "All model checkpoint weights were used when initializing TFGPT2Model.\n",
      "\n",
      "All the weights of TFGPT2Model were initialized from the model checkpoint at distilgpt2.\n",
      "If your task is similar to the task the model of the checkpoint was trained on, you can already use TFGPT2Model for predictions without further training.\n",
      "Some weights of the model checkpoint at distilroberta-base were not used when initializing TFXLMRobertaModel: ['lm_head']\n",
      "- This IS expected if you are initializing TFXLMRobertaModel from the checkpoint of a model trained on another task or with another architecture (e.g. initializing a BertForSequenceClassification model from a BertForPretraining model).\n",
      "- This IS NOT expected if you are initializing TFXLMRobertaModel from the checkpoint of a model that you expect to be exactly identical (initializing a BertForSequenceClassification model from a BertForSequenceClassification model).\n",
      "All the weights of TFXLMRobertaModel were initialized from the model checkpoint at distilroberta-base.\n",
      "If your task is similar to the task the model of the checkpoint was trained on, you can already use TFXLMRobertaModel for predictions without further training.\n"
     ]
    },
    {
     "name": "stdout",
     "output_type": "stream",
     "text": [
      "Model: \"functional_1\"\n",
      "__________________________________________________________________________________________________\n",
      "Layer (type)                    Output Shape         Param #     Connected to                     \n",
      "==================================================================================================\n",
      "input_ids_distill_bert (InputLa [(None, 256)]        0                                            \n",
      "__________________________________________________________________________________________________\n",
      "attention_mask_distill_bert (In [(None, 256)]        0                                            \n",
      "__________________________________________________________________________________________________\n",
      "attention_mask_gpt_2 (InputLaye [(None, 256)]        0                                            \n",
      "__________________________________________________________________________________________________\n",
      "input_ids_gpt_2 (InputLayer)    [(None, 256)]        0                                            \n",
      "__________________________________________________________________________________________________\n",
      "input_ids_roberta (InputLayer)  [(None, 256)]        0                                            \n",
      "__________________________________________________________________________________________________\n",
      "attention_mask_roberta (InputLa [(None, 256)]        0                                            \n",
      "__________________________________________________________________________________________________\n",
      "tf_distil_bert_model_2 (TFDisti ((None, 256, 768),)  66362880    input_ids_distill_bert[0][0]     \n",
      "                                                                 attention_mask_distill_bert[0][0]\n",
      "__________________________________________________________________________________________________\n",
      "tfgp_t2model_2 (TFGPT2Model)    ((None, 256, 768), ( 81912576    attention_mask_gpt_2[0][0]       \n",
      "                                                                 input_ids_gpt_2[0][0]            \n",
      "__________________________________________________________________________________________________\n",
      "tfxlm_roberta_model_2 (TFXLMRob ((None, 256, 768), ( 82118400    input_ids_roberta[0][0]          \n",
      "                                                                 attention_mask_roberta[0][0]     \n",
      "__________________________________________________________________________________________________\n",
      "Concatenate_layer (Concatenate) (None, 256, 2304)    0           tf_distil_bert_model_2[0][0]     \n",
      "                                                                 tfgp_t2model_2[0][0]             \n",
      "                                                                 tfxlm_roberta_model_2[0][0]      \n",
      "__________________________________________________________________________________________________\n",
      "Conv_1d_layer (Conv1D)          (None, 256, 768)     5309184     Concatenate_layer[0][0]          \n",
      "__________________________________________________________________________________________________\n",
      "Average_Pooling_layer (GlobalAv (None, 768)          0           Conv_1d_layer[0][0]              \n",
      "__________________________________________________________________________________________________\n",
      "Softmax_Layer (Dense)           (None, 6)            4614        Average_Pooling_layer[0][0]      \n",
      "==================================================================================================\n",
      "Total params: 235,707,654\n",
      "Trainable params: 235,707,654\n",
      "Non-trainable params: 0\n",
      "__________________________________________________________________________________________________\n",
      "None\n"
     ]
    }
   ],
   "source": [
    "def compile_gbx(optim):\n",
    "  model=gbx_layers()\n",
    "  model.compile(optimizer=optim,loss=LOSS,metrics='accuracy')\n",
    "  print(model.summary())\n",
    "  return model\n",
    "\n",
    "\n",
    "train,valid=tensorflow_make_train_valid_data(X_train,y_train,X_valid,y_valid)\n",
    "with strategy.scope():\n",
    "  model=compile_gbx(optimizer_with_schedule)"
   ]
  },
  {
   "cell_type": "markdown",
   "metadata": {
    "colab_type": "text",
    "id": "WJqy1p4DSZ5G"
   },
   "source": [
    "## GBX Model Run\n",
    "\n",
    "Following Parameters were used-Run(1)\n",
    "\n",
    "\n",
    "1.   BATCH_SIZE = 32\n",
    "2.   EPOCHS=2\n",
    "3.   LEARNING_RATE=3e-5\n",
    "4.   BETA_1=0.9-BETA_2=0.999\n",
    "5.   Scheduler=Linear with Intial Learning Rate of 3e-5\n",
    "6.   Freezing=No Layer was Freezed\n",
    "7.   MAX_LEN=256\n",
    "8.   Trained on TPU(Google Colab)"
   ]
  },
  {
   "cell_type": "code",
   "execution_count": null,
   "metadata": {
    "colab": {
     "base_uri": "https://localhost:8080/",
     "height": 428
    },
    "colab_type": "code",
    "executionInfo": {
     "elapsed": 475761,
     "status": "ok",
     "timestamp": 1599005214613,
     "user": {
      "displayName": "Ur Tech Guide",
      "photoUrl": "https://lh3.googleusercontent.com/a-/AOh14GhBjMoWnc1KwT73B6hzAbvnSIxnZAl5PY9n_RGJ0w=s64",
      "userId": "03152431167485721857"
     },
     "user_tz": -300
    },
    "id": "bU13B0_kR3Fx",
    "outputId": "d6cd11d8-1fa0-4989-8480-568e5630d428"
   },
   "outputs": [
    {
     "name": "stdout",
     "output_type": "stream",
     "text": [
      "Epoch 1/2\n",
      "WARNING:tensorflow:From /usr/local/lib/python3.6/dist-packages/tensorflow/python/data/ops/multi_device_iterator_ops.py:601: get_next_as_optional (from tensorflow.python.data.ops.iterator_ops) is deprecated and will be removed in a future version.\n",
      "Instructions for updating:\n",
      "Use `tf.data.Iterator.get_next_as_optional()` instead.\n"
     ]
    },
    {
     "name": "stderr",
     "output_type": "stream",
     "text": [
      "WARNING:tensorflow:From /usr/local/lib/python3.6/dist-packages/tensorflow/python/data/ops/multi_device_iterator_ops.py:601: get_next_as_optional (from tensorflow.python.data.ops.iterator_ops) is deprecated and will be removed in a future version.\n",
      "Instructions for updating:\n",
      "Use `tf.data.Iterator.get_next_as_optional()` instead.\n"
     ]
    },
    {
     "name": "stdout",
     "output_type": "stream",
     "text": [
      "WARNING:tensorflow:Gradients do not exist for variables ['tfxlm_roberta_model/roberta/pooler/dense/kernel:0', 'tfxlm_roberta_model/roberta/pooler/dense/bias:0'] when minimizing the loss.\n"
     ]
    },
    {
     "name": "stderr",
     "output_type": "stream",
     "text": [
      "WARNING:tensorflow:Gradients do not exist for variables ['tfxlm_roberta_model/roberta/pooler/dense/kernel:0', 'tfxlm_roberta_model/roberta/pooler/dense/bias:0'] when minimizing the loss.\n"
     ]
    },
    {
     "name": "stdout",
     "output_type": "stream",
     "text": [
      "WARNING:tensorflow:Gradients do not exist for variables ['tfxlm_roberta_model/roberta/pooler/dense/kernel:0', 'tfxlm_roberta_model/roberta/pooler/dense/bias:0'] when minimizing the loss.\n"
     ]
    },
    {
     "name": "stderr",
     "output_type": "stream",
     "text": [
      "WARNING:tensorflow:Gradients do not exist for variables ['tfxlm_roberta_model/roberta/pooler/dense/kernel:0', 'tfxlm_roberta_model/roberta/pooler/dense/bias:0'] when minimizing the loss.\n"
     ]
    },
    {
     "name": "stdout",
     "output_type": "stream",
     "text": [
      "WARNING:tensorflow:Gradients do not exist for variables ['tfxlm_roberta_model/roberta/pooler/dense/kernel:0', 'tfxlm_roberta_model/roberta/pooler/dense/bias:0'] when minimizing the loss.\n"
     ]
    },
    {
     "name": "stderr",
     "output_type": "stream",
     "text": [
      "WARNING:tensorflow:Gradients do not exist for variables ['tfxlm_roberta_model/roberta/pooler/dense/kernel:0', 'tfxlm_roberta_model/roberta/pooler/dense/bias:0'] when minimizing the loss.\n"
     ]
    },
    {
     "name": "stdout",
     "output_type": "stream",
     "text": [
      "WARNING:tensorflow:Gradients do not exist for variables ['tfxlm_roberta_model/roberta/pooler/dense/kernel:0', 'tfxlm_roberta_model/roberta/pooler/dense/bias:0'] when minimizing the loss.\n"
     ]
    },
    {
     "name": "stderr",
     "output_type": "stream",
     "text": [
      "WARNING:tensorflow:Gradients do not exist for variables ['tfxlm_roberta_model/roberta/pooler/dense/kernel:0', 'tfxlm_roberta_model/roberta/pooler/dense/bias:0'] when minimizing the loss.\n"
     ]
    },
    {
     "name": "stdout",
     "output_type": "stream",
     "text": [
      "  2/320 [..............................] - ETA: 30s - loss: 7.7500 - accuracy: 0.1875WARNING:tensorflow:Callbacks method `on_train_batch_end` is slow compared to the batch time (batch time: 0.0135s vs `on_train_batch_end` time: 0.1762s). Check your callbacks.\n"
     ]
    },
    {
     "name": "stderr",
     "output_type": "stream",
     "text": [
      "WARNING:tensorflow:Callbacks method `on_train_batch_end` is slow compared to the batch time (batch time: 0.0135s vs `on_train_batch_end` time: 0.1762s). Check your callbacks.\n"
     ]
    },
    {
     "name": "stdout",
     "output_type": "stream",
     "text": [
      "320/320 [==============================] - ETA: 0s - loss: 1.9289 - accuracy: 0.2336WARNING:tensorflow:Callbacks method `on_test_batch_end` is slow compared to the batch time (batch time: 0.0043s vs `on_test_batch_end` time: 0.0464s). Check your callbacks.\n"
     ]
    },
    {
     "name": "stderr",
     "output_type": "stream",
     "text": [
      "WARNING:tensorflow:Callbacks method `on_test_batch_end` is slow compared to the batch time (batch time: 0.0043s vs `on_test_batch_end` time: 0.0464s). Check your callbacks.\n"
     ]
    },
    {
     "name": "stdout",
     "output_type": "stream",
     "text": [
      "\b\b\b\b\b\b\b\b\b\b\b\b\b\b\b\b\b\b\b\b\b\b\b\b\b\b\b\b\b\b\b\b\b\b\b\b\b\b\b\b\b\b\b\b\b\b\b\b\b\b\b\b\b\b\b\b\b\b\b\b\b\b\b\b\b\b\b\b\b\b\b\b\b\b\b\b\b\b\b\b\b\b\b\b\r",
      "320/320 [==============================] - 88s 275ms/step - loss: 1.9289 - accuracy: 0.2336 - val_loss: 1.7209 - val_accuracy: 0.2835\n",
      "Epoch 2/2\n",
      "320/320 [==============================] - 63s 197ms/step - loss: 1.6002 - accuracy: 0.3195 - val_loss: 1.6416 - val_accuracy: 0.2991\n"
     ]
    },
    {
     "data": {
      "text/plain": [
       "<tensorflow.python.keras.callbacks.History at 0x7fe8c26f4128>"
      ]
     },
     "execution_count": 42,
     "metadata": {
      "tags": []
     },
     "output_type": "execute_result"
    }
   ],
   "source": [
    "history = LossHistory()\n",
    "model.fit(\n",
    "      train,steps_per_epoch=steps_per_epoch,\n",
    "      epochs=EPOCHS,callbacks=[history], validation_data=valid,\n",
    ")\n",
    "  "
   ]
  },
  {
   "cell_type": "code",
   "execution_count": null,
   "metadata": {
    "colab": {
     "base_uri": "https://localhost:8080/",
     "height": 88
    },
    "colab_type": "code",
    "executionInfo": {
     "elapsed": 502136,
     "status": "ok",
     "timestamp": 1599005242007,
     "user": {
      "displayName": "Ur Tech Guide",
      "photoUrl": "https://lh3.googleusercontent.com/a-/AOh14GhBjMoWnc1KwT73B6hzAbvnSIxnZAl5PY9n_RGJ0w=s64",
      "userId": "03152431167485721857"
     },
     "user_tz": -300
    },
    "id": "WhAoQTW1R4ay",
    "outputId": "f958560f-55dc-42a5-86e7-2cc16b0a1e5a"
   },
   "outputs": [
    {
     "name": "stdout",
     "output_type": "stream",
     "text": [
      " 2/40 [>.............................] - ETA: 3:20WARNING:tensorflow:Callbacks method `on_predict_batch_end` is slow compared to the batch time (batch time: 0.0043s vs `on_predict_batch_end` time: 0.0454s). Check your callbacks.\n"
     ]
    },
    {
     "name": "stderr",
     "output_type": "stream",
     "text": [
      "WARNING:tensorflow:Callbacks method `on_predict_batch_end` is slow compared to the batch time (batch time: 0.0043s vs `on_predict_batch_end` time: 0.0454s). Check your callbacks.\n"
     ]
    },
    {
     "name": "stdout",
     "output_type": "stream",
     "text": [
      "40/40 [==============================] - 21s 521ms/step\n"
     ]
    }
   ],
   "source": [
    "y_pred=model.predict(test,verbose=1)\n",
    "y_true=np.array(tf.keras.utils.to_categorical(df_test['target'].values))"
   ]
  },
  {
   "cell_type": "code",
   "execution_count": null,
   "metadata": {
    "colab": {},
    "colab_type": "code",
    "id": "cHjtzNlfUrQy"
   },
   "outputs": [],
   "source": [
    "saved_history=np.array(history.losses)\n",
    "np.save('y_pred_gbx_liar_dataset_run(1).npy',y_pred,allow_pickle=True)\n",
    "np.save('saved_history_liar_dataset_run(1).npy',saved_history)"
   ]
  },
  {
   "cell_type": "code",
   "execution_count": null,
   "metadata": {
    "colab": {
     "base_uri": "https://localhost:8080/",
     "height": 626
    },
    "colab_type": "code",
    "executionInfo": {
     "elapsed": 1333,
     "status": "ok",
     "timestamp": 1599005346361,
     "user": {
      "displayName": "Ur Tech Guide",
      "photoUrl": "https://lh3.googleusercontent.com/a-/AOh14GhBjMoWnc1KwT73B6hzAbvnSIxnZAl5PY9n_RGJ0w=s64",
      "userId": "03152431167485721857"
     },
     "user_tz": -300
    },
    "id": "_g0-8tao7Yvc",
    "outputId": "70c8bc82-b194-40f8-971f-c23acec37f87"
   },
   "outputs": [
    {
     "data": {
      "image/png": "[encoded data removed]",
      "text/plain": [
       "<Figure size 864x720 with 1 Axes>"
      ]
     },
     "metadata": {
      "tags": []
     },
     "output_type": "display_data"
    }
   ],
   "source": [
    "plot_loss(history.losses,'GBX on Liar Dataset-Run(1)')"
   ]
  },
  {
   "cell_type": "code",
   "execution_count": null,
   "metadata": {
    "colab": {
     "base_uri": "https://localhost:8080/",
     "height": 626
    },
    "colab_type": "code",
    "executionInfo": {
     "elapsed": 1496,
     "status": "ok",
     "timestamp": 1599005351618,
     "user": {
      "displayName": "Ur Tech Guide",
      "photoUrl": "https://lh3.googleusercontent.com/a-/AOh14GhBjMoWnc1KwT73B6hzAbvnSIxnZAl5PY9n_RGJ0w=s64",
      "userId": "03152431167485721857"
     },
     "user_tz": -300
    },
    "id": "LdzR0JYFR6IR",
    "outputId": "54100813-3f67-4462-d4bb-02a3144c3a12"
   },
   "outputs": [
    {
     "data": {
      "image/png": "[encoded data removed]",
      "text/plain": [
       "<Figure size 720x720 with 2 Axes>"
      ]
     },
     "metadata": {
      "tags": []
     },
     "output_type": "display_data"
    }
   ],
   "source": [
    "plot_cm(y_true, y_pred, 'GBX on Liar Dataset-Run(1)')"
   ]
  },
  {
   "cell_type": "code",
   "execution_count": null,
   "metadata": {
    "colab": {
     "base_uri": "https://localhost:8080/",
     "height": 255
    },
    "colab_type": "code",
    "executionInfo": {
     "elapsed": 1170,
     "status": "ok",
     "timestamp": 1599005353496,
     "user": {
      "displayName": "Ur Tech Guide",
      "photoUrl": "https://lh3.googleusercontent.com/a-/AOh14GhBjMoWnc1KwT73B6hzAbvnSIxnZAl5PY9n_RGJ0w=s64",
      "userId": "03152431167485721857"
     },
     "user_tz": -300
    },
    "id": "UTyKsD0FR8Ni",
    "outputId": "234419f0-ecda-4948-8416-27c3d396718c"
   },
   "outputs": [
    {
     "name": "stdout",
     "output_type": "stream",
     "text": [
      "The accuracy of the model GBX on Liar Dataset-Run(1) is Accuracy: 25.888%\n",
      "              precision    recall  f1-score   support\n",
      "\n",
      "        true       1.00      0.00      0.01       208\n",
      "   half-true       0.23      0.69      0.34       265\n",
      " barely-true       0.29      0.11      0.16       212\n",
      " mostly-true       0.29      0.27      0.28       241\n",
      "  pants-fire       0.37      0.34      0.35        92\n",
      "       false       0.36      0.10      0.15       249\n",
      "\n",
      "    accuracy                           0.26      1267\n",
      "   macro avg       0.42      0.25      0.22      1267\n",
      "weighted avg       0.41      0.26      0.21      1267\n",
      "\n"
     ]
    }
   ],
   "source": [
    "accuracy(y_true,y_pred,'GBX on Liar Dataset-Run(1)')"
   ]
  },
  {
   "cell_type": "code",
   "execution_count": null,
   "metadata": {
    "colab": {
     "base_uri": "https://localhost:8080/",
     "height": 34
    },
    "colab_type": "code",
    "executionInfo": {
     "elapsed": 745,
     "status": "ok",
     "timestamp": 1599005354118,
     "user": {
      "displayName": "Ur Tech Guide",
      "photoUrl": "https://lh3.googleusercontent.com/a-/AOh14GhBjMoWnc1KwT73B6hzAbvnSIxnZAl5PY9n_RGJ0w=s64",
      "userId": "03152431167485721857"
     },
     "user_tz": -300
    },
    "id": "rJJr3msySAuG",
    "outputId": "dc5e60e8-ccee-441e-b516-58dc22750f92"
   },
   "outputs": [
    {
     "name": "stdout",
     "output_type": "stream",
     "text": [
      "The F1-M Score of the model GBX on Liar Dataset-Run(1) is F-1-Score: 21.616%\n"
     ]
    }
   ],
   "source": [
    "f1_score_m(y_true,y_pred,'GBX on Liar Dataset-Run(1)')"
   ]
  },
  {
   "cell_type": "markdown",
   "metadata": {
    "colab_type": "text",
    "id": "2cEpBcEhW7W6"
   },
   "source": [
    "## GBX Model Run\n",
    "\n",
    "Following Parameters were used-Run(2)\n",
    "\n",
    "\n",
    "1.   BATCH_SIZE = 32\n",
    "2.   EPOCHS=20(Early CallBack)\n",
    "3.   LEARNING_RATE=3e-5\n",
    "4.   BETA_1=0.9-BETA_2=0.999\n",
    "5.   Scheduler=Linear with Intial Learning Rate of 3e-5\n",
    "6.   Freezing=No Layer was Freezed\n",
    "7.   MAX_LEN=256\n",
    "8.   Trained on TPU(Google Colab)"
   ]
  },
  {
   "cell_type": "code",
   "execution_count": null,
   "metadata": {
    "colab": {
     "base_uri": "https://localhost:8080/",
     "height": 496
    },
    "colab_type": "code",
    "executionInfo": {
     "elapsed": 381313,
     "status": "ok",
     "timestamp": 1599006150069,
     "user": {
      "displayName": "Ur Tech Guide",
      "photoUrl": "https://lh3.googleusercontent.com/a-/AOh14GhBjMoWnc1KwT73B6hzAbvnSIxnZAl5PY9n_RGJ0w=s64",
      "userId": "03152431167485721857"
     },
     "user_tz": -300
    },
    "id": "tuGeUcrkSVtR",
    "outputId": "0c15cb1f-e895-4223-f886-723b861bfacd"
   },
   "outputs": [
    {
     "name": "stdout",
     "output_type": "stream",
     "text": [
      "Epoch 1/20\n",
      "WARNING:tensorflow:Gradients do not exist for variables ['tfxlm_roberta_model_1/roberta/pooler/dense/kernel:0', 'tfxlm_roberta_model_1/roberta/pooler/dense/bias:0'] when minimizing the loss.\n"
     ]
    },
    {
     "name": "stderr",
     "output_type": "stream",
     "text": [
      "WARNING:tensorflow:Gradients do not exist for variables ['tfxlm_roberta_model_1/roberta/pooler/dense/kernel:0', 'tfxlm_roberta_model_1/roberta/pooler/dense/bias:0'] when minimizing the loss.\n"
     ]
    },
    {
     "name": "stdout",
     "output_type": "stream",
     "text": [
      "WARNING:tensorflow:Gradients do not exist for variables ['tfxlm_roberta_model_1/roberta/pooler/dense/kernel:0', 'tfxlm_roberta_model_1/roberta/pooler/dense/bias:0'] when minimizing the loss.\n"
     ]
    },
    {
     "name": "stderr",
     "output_type": "stream",
     "text": [
      "WARNING:tensorflow:Gradients do not exist for variables ['tfxlm_roberta_model_1/roberta/pooler/dense/kernel:0', 'tfxlm_roberta_model_1/roberta/pooler/dense/bias:0'] when minimizing the loss.\n"
     ]
    },
    {
     "name": "stdout",
     "output_type": "stream",
     "text": [
      "WARNING:tensorflow:Gradients do not exist for variables ['tfxlm_roberta_model_1/roberta/pooler/dense/kernel:0', 'tfxlm_roberta_model_1/roberta/pooler/dense/bias:0'] when minimizing the loss.\n"
     ]
    },
    {
     "name": "stderr",
     "output_type": "stream",
     "text": [
      "WARNING:tensorflow:Gradients do not exist for variables ['tfxlm_roberta_model_1/roberta/pooler/dense/kernel:0', 'tfxlm_roberta_model_1/roberta/pooler/dense/bias:0'] when minimizing the loss.\n"
     ]
    },
    {
     "name": "stdout",
     "output_type": "stream",
     "text": [
      "WARNING:tensorflow:Gradients do not exist for variables ['tfxlm_roberta_model_1/roberta/pooler/dense/kernel:0', 'tfxlm_roberta_model_1/roberta/pooler/dense/bias:0'] when minimizing the loss.\n"
     ]
    },
    {
     "name": "stderr",
     "output_type": "stream",
     "text": [
      "WARNING:tensorflow:Gradients do not exist for variables ['tfxlm_roberta_model_1/roberta/pooler/dense/kernel:0', 'tfxlm_roberta_model_1/roberta/pooler/dense/bias:0'] when minimizing the loss.\n"
     ]
    },
    {
     "name": "stdout",
     "output_type": "stream",
     "text": [
      "  2/320 [..............................] - ETA: 30s - loss: 3.3448 - accuracy: 0.3125WARNING:tensorflow:Callbacks method `on_train_batch_end` is slow compared to the batch time (batch time: 0.0136s vs `on_train_batch_end` time: 0.1736s). Check your callbacks.\n"
     ]
    },
    {
     "name": "stderr",
     "output_type": "stream",
     "text": [
      "WARNING:tensorflow:Callbacks method `on_train_batch_end` is slow compared to the batch time (batch time: 0.0136s vs `on_train_batch_end` time: 0.1736s). Check your callbacks.\n"
     ]
    },
    {
     "name": "stdout",
     "output_type": "stream",
     "text": [
      "320/320 [==============================] - ETA: 0s - loss: 1.8825 - accuracy: 0.2182WARNING:tensorflow:Callbacks method `on_test_batch_end` is slow compared to the batch time (batch time: 0.0043s vs `on_test_batch_end` time: 0.0462s). Check your callbacks.\n"
     ]
    },
    {
     "name": "stderr",
     "output_type": "stream",
     "text": [
      "WARNING:tensorflow:Callbacks method `on_test_batch_end` is slow compared to the batch time (batch time: 0.0043s vs `on_test_batch_end` time: 0.0462s). Check your callbacks.\n"
     ]
    },
    {
     "name": "stdout",
     "output_type": "stream",
     "text": [
      "\b\b\b\b\b\b\b\b\b\b\b\b\b\b\b\b\b\b\b\b\b\b\b\b\b\b\b\b\b\b\b\b\b\b\b\b\b\b\b\b\b\b\b\b\b\b\b\b\b\b\b\b\b\b\b\b\b\b\b\b\b\b\b\b\b\b\b\b\b\b\b\b\b\b\b\b\b\b\b\b\b\b\b\b\r",
      "320/320 [==============================] - 89s 277ms/step - loss: 1.8825 - accuracy: 0.2182 - val_loss: 1.7126 - val_accuracy: 0.2741\n",
      "Epoch 2/20\n",
      "320/320 [==============================] - 64s 199ms/step - loss: 1.6810 - accuracy: 0.2730 - val_loss: 1.6611 - val_accuracy: 0.2695\n",
      "Epoch 3/20\n",
      "320/320 [==============================] - 64s 201ms/step - loss: 1.5026 - accuracy: 0.3751 - val_loss: 1.7745 - val_accuracy: 0.2804\n",
      "Epoch 4/20\n",
      "320/320 [==============================] - 64s 200ms/step - loss: 1.0628 - accuracy: 0.5836 - val_loss: 2.4403 - val_accuracy: 0.2843\n",
      "Epoch 5/20\n",
      "320/320 [==============================] - 66s 205ms/step - loss: 0.5026 - accuracy: 0.8165 - val_loss: 3.5361 - val_accuracy: 0.2531\n",
      "Epoch 6/20\n",
      "320/320 [==============================] - 65s 203ms/step - loss: 0.1924 - accuracy: 0.9338 - val_loss: 4.0987 - val_accuracy: 0.2710\n",
      "Epoch 7/20\n",
      "320/320 [==============================] - 65s 204ms/step - loss: 0.1053 - accuracy: 0.9658 - val_loss: 4.4260 - val_accuracy: 0.2702\n"
     ]
    },
    {
     "data": {
      "text/plain": [
       "<tensorflow.python.keras.callbacks.History at 0x7fe8ab5b0160>"
      ]
     },
     "execution_count": 57,
     "metadata": {
      "tags": []
     },
     "output_type": "execute_result"
    }
   ],
   "source": [
    "history = LossHistory()\n",
    "model.fit(\n",
    "      train,steps_per_epoch=steps_per_epoch,\n",
    "      epochs=EPOCHS,callbacks=[history,EARLY_STOP], validation_data=valid,\n",
    ")\n",
    "  "
   ]
  },
  {
   "cell_type": "code",
   "execution_count": null,
   "metadata": {
    "colab": {
     "base_uri": "https://localhost:8080/",
     "height": 626
    },
    "colab_type": "code",
    "executionInfo": {
     "elapsed": 704,
     "status": "ok",
     "timestamp": 1599006150757,
     "user": {
      "displayName": "Ur Tech Guide",
      "photoUrl": "https://lh3.googleusercontent.com/a-/AOh14GhBjMoWnc1KwT73B6hzAbvnSIxnZAl5PY9n_RGJ0w=s64",
      "userId": "03152431167485721857"
     },
     "user_tz": -300
    },
    "id": "pY-xVta0JfcZ",
    "outputId": "a5c05b6d-6d1d-4e5a-8e68-c97c517e5ffd"
   },
   "outputs": [
    {
     "data": {
      "image/png": "[encoded data removed]",
      "text/plain": [
       "<Figure size 864x720 with 1 Axes>"
      ]
     },
     "metadata": {
      "tags": []
     },
     "output_type": "display_data"
    }
   ],
   "source": [
    "plot_loss(history.losses,'GBX on Liar Dataset-Run(2)')"
   ]
  },
  {
   "cell_type": "code",
   "execution_count": null,
   "metadata": {
    "colab": {
     "base_uri": "https://localhost:8080/",
     "height": 88
    },
    "colab_type": "code",
    "executionInfo": {
     "elapsed": 3082,
     "status": "ok",
     "timestamp": 1599006289314,
     "user": {
      "displayName": "Ur Tech Guide",
      "photoUrl": "https://lh3.googleusercontent.com/a-/AOh14GhBjMoWnc1KwT73B6hzAbvnSIxnZAl5PY9n_RGJ0w=s64",
      "userId": "03152431167485721857"
     },
     "user_tz": -300
    },
    "id": "97BVYxOMaUxE",
    "outputId": "bbb09e84-ca9e-44db-f7d9-9b2901e15fec"
   },
   "outputs": [
    {
     "name": "stdout",
     "output_type": "stream",
     "text": [
      "\r",
      " 1/40 [..............................] - ETA: 0sWARNING:tensorflow:Callbacks method `on_predict_batch_end` is slow compared to the batch time (batch time: 0.0047s vs `on_predict_batch_end` time: 0.0433s). Check your callbacks.\n"
     ]
    },
    {
     "name": "stderr",
     "output_type": "stream",
     "text": [
      "WARNING:tensorflow:Callbacks method `on_predict_batch_end` is slow compared to the batch time (batch time: 0.0047s vs `on_predict_batch_end` time: 0.0433s). Check your callbacks.\n"
     ]
    },
    {
     "name": "stdout",
     "output_type": "stream",
     "text": [
      "40/40 [==============================] - 2s 46ms/step\n"
     ]
    }
   ],
   "source": [
    "y_pred=model.predict(test,verbose=1)\n",
    "y_true=np.array(tf.keras.utils.to_categorical(df_test['target'].values))"
   ]
  },
  {
   "cell_type": "code",
   "execution_count": null,
   "metadata": {
    "colab": {},
    "colab_type": "code",
    "id": "dToQeiVKaXe3"
   },
   "outputs": [],
   "source": [
    "saved_history=np.array(history.losses)\n",
    "np.save('/content/drive/My Drive/Final Research Project/y_pred_gbx_liar_dataset_run(2).npy',y_pred,allow_pickle=True)\n",
    "np.save('/content/drive/My Drive/Final Research Project/saved_history_liar_dataset_run(2).npy',saved_history)"
   ]
  },
  {
   "cell_type": "code",
   "execution_count": null,
   "metadata": {
    "colab": {
     "base_uri": "https://localhost:8080/",
     "height": 626
    },
    "colab_type": "code",
    "executionInfo": {
     "elapsed": 1421,
     "status": "ok",
     "timestamp": 1599006294559,
     "user": {
      "displayName": "Ur Tech Guide",
      "photoUrl": "https://lh3.googleusercontent.com/a-/AOh14GhBjMoWnc1KwT73B6hzAbvnSIxnZAl5PY9n_RGJ0w=s64",
      "userId": "03152431167485721857"
     },
     "user_tz": -300
    },
    "id": "0-jiMVeMJ0Ob",
    "outputId": "02db7622-0d93-4d8a-9c3b-8081a96905b2"
   },
   "outputs": [
    {
     "data": {
      "image/png": "[encoded data removed]",
      "text/plain": [
       "<Figure size 720x720 with 2 Axes>"
      ]
     },
     "metadata": {
      "tags": []
     },
     "output_type": "display_data"
    }
   ],
   "source": [
    "plot_cm(y_true, y_pred, 'GBX on Liar Dataset-Run(2)')"
   ]
  },
  {
   "cell_type": "code",
   "execution_count": null,
   "metadata": {
    "colab": {
     "base_uri": "https://localhost:8080/",
     "height": 255
    },
    "colab_type": "code",
    "executionInfo": {
     "elapsed": 724,
     "status": "ok",
     "timestamp": 1599006301614,
     "user": {
      "displayName": "Ur Tech Guide",
      "photoUrl": "https://lh3.googleusercontent.com/a-/AOh14GhBjMoWnc1KwT73B6hzAbvnSIxnZAl5PY9n_RGJ0w=s64",
      "userId": "03152431167485721857"
     },
     "user_tz": -300
    },
    "id": "JQxfJ0kxJ3EF",
    "outputId": "2361e851-d515-47b3-d23f-36a284640624"
   },
   "outputs": [
    {
     "name": "stdout",
     "output_type": "stream",
     "text": [
      "The accuracy of the model GBX on Liar Dataset-Run(2) is Accuracy: 26.598%\n",
      "              precision    recall  f1-score   support\n",
      "\n",
      "        true       0.29      0.25      0.27       208\n",
      "   half-true       0.27      0.32      0.29       265\n",
      " barely-true       0.20      0.17      0.18       212\n",
      " mostly-true       0.24      0.22      0.23       241\n",
      "  pants-fire       0.27      0.21      0.23        92\n",
      "       false       0.30      0.37      0.33       249\n",
      "\n",
      "    accuracy                           0.27      1267\n",
      "   macro avg       0.26      0.26      0.26      1267\n",
      "weighted avg       0.26      0.27      0.26      1267\n",
      "\n"
     ]
    }
   ],
   "source": [
    "accuracy(y_true,y_pred,'GBX on Liar Dataset-Run(2)')"
   ]
  },
  {
   "cell_type": "markdown",
   "metadata": {
    "colab_type": "text",
    "id": "UWDZ5BkEONwb"
   },
   "source": [
    "## GBX Model Run\n",
    "\n",
    "Following Parameters were used-Run(3)-Need to reduced Overfitting\n",
    "\n",
    "\n",
    "1.   BATCH_SIZE = 64\n",
    "2.   EPOCHS=20(Early CallBack)\n",
    "3.   LEARNING_RATE=3e-5\n",
    "4.   BETA_1=0.9-BETA_2=0.999\n",
    "5.   Scheduler=Linear with Intial Learning Rate of 3e-5\n",
    "6.   Freezing=No Layer was Freezed\n",
    "7.   MAX_LEN=128\n",
    "8.   Trained on TPU(Google Colab)\n",
    "9.   Dropout=0.4\n",
    "10.  L1 Reg=1e-4\n",
    "11.  L2 Reg=1e-3"
   ]
  },
  {
   "cell_type": "code",
   "execution_count": null,
   "metadata": {
    "colab": {
     "base_uri": "https://localhost:8080/",
     "height": 530
    },
    "colab_type": "code",
    "executionInfo": {
     "elapsed": 139399,
     "status": "ok",
     "timestamp": 1599084059633,
     "user": {
      "displayName": "Ur Tech Guide",
      "photoUrl": "https://lh3.googleusercontent.com/a-/AOh14GhBjMoWnc1KwT73B6hzAbvnSIxnZAl5PY9n_RGJ0w=s64",
      "userId": "03152431167485721857"
     },
     "user_tz": -300
    },
    "id": "Kw4q3wJ_J977",
    "outputId": "695d8e02-d5bc-4559-ead5-11a947d70be6"
   },
   "outputs": [
    {
     "name": "stdout",
     "output_type": "stream",
     "text": [
      "Epoch 1/20\n",
      "WARNING:tensorflow:From /usr/local/lib/python3.6/dist-packages/tensorflow/python/data/ops/multi_device_iterator_ops.py:601: get_next_as_optional (from tensorflow.python.data.ops.iterator_ops) is deprecated and will be removed in a future version.\n",
      "Instructions for updating:\n",
      "Use `tf.data.Iterator.get_next_as_optional()` instead.\n"
     ]
    },
    {
     "name": "stderr",
     "output_type": "stream",
     "text": [
      "WARNING:tensorflow:From /usr/local/lib/python3.6/dist-packages/tensorflow/python/data/ops/multi_device_iterator_ops.py:601: get_next_as_optional (from tensorflow.python.data.ops.iterator_ops) is deprecated and will be removed in a future version.\n",
      "Instructions for updating:\n",
      "Use `tf.data.Iterator.get_next_as_optional()` instead.\n"
     ]
    },
    {
     "name": "stdout",
     "output_type": "stream",
     "text": [
      "WARNING:tensorflow:Gradients do not exist for variables ['tfxlm_roberta_model_3/roberta/pooler/dense/kernel:0', 'tfxlm_roberta_model_3/roberta/pooler/dense/bias:0'] when minimizing the loss.\n"
     ]
    },
    {
     "name": "stderr",
     "output_type": "stream",
     "text": [
      "WARNING:tensorflow:Gradients do not exist for variables ['tfxlm_roberta_model_3/roberta/pooler/dense/kernel:0', 'tfxlm_roberta_model_3/roberta/pooler/dense/bias:0'] when minimizing the loss.\n"
     ]
    },
    {
     "name": "stdout",
     "output_type": "stream",
     "text": [
      "WARNING:tensorflow:Gradients do not exist for variables ['tfxlm_roberta_model_3/roberta/pooler/dense/kernel:0', 'tfxlm_roberta_model_3/roberta/pooler/dense/bias:0'] when minimizing the loss.\n"
     ]
    },
    {
     "name": "stderr",
     "output_type": "stream",
     "text": [
      "WARNING:tensorflow:Gradients do not exist for variables ['tfxlm_roberta_model_3/roberta/pooler/dense/kernel:0', 'tfxlm_roberta_model_3/roberta/pooler/dense/bias:0'] when minimizing the loss.\n"
     ]
    },
    {
     "name": "stdout",
     "output_type": "stream",
     "text": [
      "WARNING:tensorflow:Gradients do not exist for variables ['tfxlm_roberta_model_3/roberta/pooler/dense/kernel:0', 'tfxlm_roberta_model_3/roberta/pooler/dense/bias:0'] when minimizing the loss.\n"
     ]
    },
    {
     "name": "stderr",
     "output_type": "stream",
     "text": [
      "WARNING:tensorflow:Gradients do not exist for variables ['tfxlm_roberta_model_3/roberta/pooler/dense/kernel:0', 'tfxlm_roberta_model_3/roberta/pooler/dense/bias:0'] when minimizing the loss.\n"
     ]
    },
    {
     "name": "stdout",
     "output_type": "stream",
     "text": [
      "WARNING:tensorflow:Gradients do not exist for variables ['tfxlm_roberta_model_3/roberta/pooler/dense/kernel:0', 'tfxlm_roberta_model_3/roberta/pooler/dense/bias:0'] when minimizing the loss.\n"
     ]
    },
    {
     "name": "stderr",
     "output_type": "stream",
     "text": [
      "WARNING:tensorflow:Gradients do not exist for variables ['tfxlm_roberta_model_3/roberta/pooler/dense/kernel:0', 'tfxlm_roberta_model_3/roberta/pooler/dense/bias:0'] when minimizing the loss.\n"
     ]
    },
    {
     "name": "stdout",
     "output_type": "stream",
     "text": [
      "  2/160 [..............................] - ETA: 14s - loss: 1905.4080 - accuracy: 0.1641WARNING:tensorflow:Callbacks method `on_train_batch_end` is slow compared to the batch time (batch time: 0.0158s vs `on_train_batch_end` time: 0.1690s). Check your callbacks.\n"
     ]
    },
    {
     "name": "stderr",
     "output_type": "stream",
     "text": [
      "WARNING:tensorflow:Callbacks method `on_train_batch_end` is slow compared to the batch time (batch time: 0.0158s vs `on_train_batch_end` time: 0.1690s). Check your callbacks.\n"
     ]
    },
    {
     "name": "stdout",
     "output_type": "stream",
     "text": [
      "160/160 [==============================] - ETA: 0s - loss: 417.9785 - accuracy: 0.1849WARNING:tensorflow:Callbacks method `on_test_batch_end` is slow compared to the batch time (batch time: 0.0050s vs `on_test_batch_end` time: 0.0474s). Check your callbacks.\n"
     ]
    },
    {
     "name": "stderr",
     "output_type": "stream",
     "text": [
      "WARNING:tensorflow:Callbacks method `on_test_batch_end` is slow compared to the batch time (batch time: 0.0050s vs `on_test_batch_end` time: 0.0474s). Check your callbacks.\n"
     ]
    },
    {
     "name": "stdout",
     "output_type": "stream",
     "text": [
      "\b\b\b\b\b\b\b\b\b\b\b\b\b\b\b\b\b\b\b\b\b\b\b\b\b\b\b\b\b\b\b\b\b\b\b\b\b\b\b\b\b\b\b\b\b\b\b\b\b\b\b\b\b\b\b\b\b\b\b\b\b\b\b\b\b\b\b\b\b\b\b\b\b\b\b\b\b\b\b\b\b\b\b\b\b\b\r",
      "160/160 [==============================] - 55s 342ms/step - loss: 417.9785 - accuracy: 0.1849 - val_loss: nan - val_accuracy: 0.2095\n",
      "Epoch 2/20\n",
      "160/160 [==============================] - 31s 196ms/step - loss: 27.2197 - accuracy: 0.2017 - val_loss: nan - val_accuracy: 0.1970\n",
      "Epoch 3/20\n",
      "160/160 [==============================] - 32s 198ms/step - loss: 18.9325 - accuracy: 0.2036 - val_loss: nan - val_accuracy: 0.2181\n",
      "Epoch 4/20\n",
      "160/160 [==============================] - 32s 198ms/step - loss: 16.1764 - accuracy: 0.2091 - val_loss: nan - val_accuracy: 0.2040\n",
      "Epoch 5/20\n",
      "160/160 [==============================] - 32s 198ms/step - loss: 14.7216 - accuracy: 0.2110 - val_loss: nan - val_accuracy: 0.2204\n"
     ]
    },
    {
     "data": {
      "text/plain": [
       "<tensorflow.python.keras.callbacks.History at 0x7f3fa4e7f7f0>"
      ]
     },
     "execution_count": 60,
     "metadata": {
      "tags": []
     },
     "output_type": "execute_result"
    }
   ],
   "source": [
    "history = LossHistory()\n",
    "model.fit(\n",
    "      train,steps_per_epoch=steps_per_epoch,\n",
    "      epochs=EPOCHS,callbacks=[history,EARLY_STOP], validation_data=valid,\n",
    ")\n",
    "  "
   ]
  },
  {
   "cell_type": "code",
   "execution_count": null,
   "metadata": {
    "colab": {
     "base_uri": "https://localhost:8080/",
     "height": 88
    },
    "colab_type": "code",
    "executionInfo": {
     "elapsed": 26708,
     "status": "ok",
     "timestamp": 1599084086318,
     "user": {
      "displayName": "Ur Tech Guide",
      "photoUrl": "https://lh3.googleusercontent.com/a-/AOh14GhBjMoWnc1KwT73B6hzAbvnSIxnZAl5PY9n_RGJ0w=s64",
      "userId": "03152431167485721857"
     },
     "user_tz": -300
    },
    "id": "WonNCY0Fsyn5",
    "outputId": "30e52dcd-434f-4e82-a10b-7f90b606ed2a"
   },
   "outputs": [
    {
     "name": "stdout",
     "output_type": "stream",
     "text": [
      " 2/20 [==>...........................] - ETA: 1:32WARNING:tensorflow:Callbacks method `on_predict_batch_end` is slow compared to the batch time (batch time: 0.0051s vs `on_predict_batch_end` time: 0.0426s). Check your callbacks.\n"
     ]
    },
    {
     "name": "stderr",
     "output_type": "stream",
     "text": [
      "WARNING:tensorflow:Callbacks method `on_predict_batch_end` is slow compared to the batch time (batch time: 0.0051s vs `on_predict_batch_end` time: 0.0426s). Check your callbacks.\n"
     ]
    },
    {
     "name": "stdout",
     "output_type": "stream",
     "text": [
      "20/20 [==============================] - 19s 947ms/step\n"
     ]
    }
   ],
   "source": [
    "y_pred=model.predict(test,verbose=1)\n",
    "y_true=np.array(tf.keras.utils.to_categorical(df_test['target'].values))"
   ]
  },
  {
   "cell_type": "code",
   "execution_count": null,
   "metadata": {
    "colab": {},
    "colab_type": "code",
    "id": "kxUSnTAjs3KG"
   },
   "outputs": [],
   "source": [
    "saved_history=np.array(history.losses)\n",
    "np.save('y_pred_gbx_liar_dataset_run(3).npy',y_pred,allow_pickle=True)\n",
    "np.save('saved_history_liar_dataset_run(3).npy',saved_history)"
   ]
  },
  {
   "cell_type": "code",
   "execution_count": null,
   "metadata": {
    "colab": {
     "base_uri": "https://localhost:8080/",
     "height": 626
    },
    "colab_type": "code",
    "executionInfo": {
     "elapsed": 1621,
     "status": "ok",
     "timestamp": 1599084087931,
     "user": {
      "displayName": "Ur Tech Guide",
      "photoUrl": "https://lh3.googleusercontent.com/a-/AOh14GhBjMoWnc1KwT73B6hzAbvnSIxnZAl5PY9n_RGJ0w=s64",
      "userId": "03152431167485721857"
     },
     "user_tz": -300
    },
    "id": "qY_R1Vmds7dB",
    "outputId": "b7da0740-24a6-4ab9-92be-aedd2665d31b"
   },
   "outputs": [
    {
     "data": {
      "image/png": "[encoded data removed]",
      "text/plain": [
       "<Figure size 864x720 with 1 Axes>"
      ]
     },
     "metadata": {
      "tags": []
     },
     "output_type": "display_data"
    }
   ],
   "source": [
    "plot_loss(history.losses,'GBX on Liar Dataset-Run(3)')"
   ]
  },
  {
   "cell_type": "code",
   "execution_count": null,
   "metadata": {
    "colab": {
     "base_uri": "https://localhost:8080/",
     "height": 626
    },
    "colab_type": "code",
    "executionInfo": {
     "elapsed": 33,
     "status": "ok",
     "timestamp": 1599084087933,
     "user": {
      "displayName": "Ur Tech Guide",
      "photoUrl": "https://lh3.googleusercontent.com/a-/AOh14GhBjMoWnc1KwT73B6hzAbvnSIxnZAl5PY9n_RGJ0w=s64",
      "userId": "03152431167485721857"
     },
     "user_tz": -300
    },
    "id": "23dKkGZOs_hW",
    "outputId": "d20a1e0f-477f-42b8-bcb7-76cd8c9db695"
   },
   "outputs": [
    {
     "data": {
      "image/png": "[encoded data removed]",
      "text/plain": [
       "<Figure size 720x720 with 2 Axes>"
      ]
     },
     "metadata": {
      "tags": []
     },
     "output_type": "display_data"
    }
   ],
   "source": [
    "plot_cm(y_true, y_pred, 'GBX on Liar Dataset-Run(3)')"
   ]
  },
  {
   "cell_type": "code",
   "execution_count": null,
   "metadata": {
    "colab": {
     "base_uri": "https://localhost:8080/",
     "height": 309
    },
    "colab_type": "code",
    "executionInfo": {
     "elapsed": 16,
     "status": "ok",
     "timestamp": 1599084087934,
     "user": {
      "displayName": "Ur Tech Guide",
      "photoUrl": "https://lh3.googleusercontent.com/a-/AOh14GhBjMoWnc1KwT73B6hzAbvnSIxnZAl5PY9n_RGJ0w=s64",
      "userId": "03152431167485721857"
     },
     "user_tz": -300
    },
    "id": "amgUeaQ5tD-S",
    "outputId": "3d091307-39c9-47ea-af19-d83f23d61cf5"
   },
   "outputs": [
    {
     "name": "stdout",
     "output_type": "stream",
     "text": [
      "The accuracy of the model GBX on Liar Dataset-Run(3) is Accuracy: 18.785%\n",
      "              precision    recall  f1-score   support\n",
      "\n",
      "        true       0.25      0.00      0.01       208\n",
      "   half-true       0.00      0.00      0.00       265\n",
      " barely-true       0.00      0.00      0.00       212\n",
      " mostly-true       0.19      0.98      0.32       241\n",
      "  pants-fire       0.00      0.00      0.00        92\n",
      "       false       0.17      0.01      0.02       249\n",
      "\n",
      "    accuracy                           0.19      1267\n",
      "   macro avg       0.10      0.16      0.06      1267\n",
      "weighted avg       0.11      0.19      0.06      1267\n",
      "\n"
     ]
    },
    {
     "name": "stderr",
     "output_type": "stream",
     "text": [
      "/usr/local/lib/python3.6/dist-packages/sklearn/metrics/_classification.py:1272: UndefinedMetricWarning: Precision and F-score are ill-defined and being set to 0.0 in labels with no predicted samples. Use `zero_division` parameter to control this behavior.\n",
      "  _warn_prf(average, modifier, msg_start, len(result))\n"
     ]
    }
   ],
   "source": [
    "accuracy(y_true,y_pred,'GBX on Liar Dataset-Run(3)')"
   ]
  },
  {
   "cell_type": "markdown",
   "metadata": {
    "colab_type": "text",
    "id": "opGgLIEu4riJ"
   },
   "source": [
    "Following Parameters were used-Run(4)-Need to reduced Overfitting\n",
    "\n",
    "\n",
    "1.   BATCH_SIZE = 32\n",
    "2.   EPOCHS=20(Early CallBack)\n",
    "3.   LEARNING_RATE=3e-5\n",
    "4.   BETA_1=0.9-BETA_2=0.999\n",
    "5.   Scheduler=Linear with Intial Learning Rate of 3e-5\n",
    "6.   Freezing=Transformer Layers were freezed\n",
    "7.   MAX_LEN=256\n",
    "8.   Trained on TPU(Google Colab)\n",
    "9.   Dropout=0.0\n",
    "10.  L1 Reg=0.0\n",
    "11.  L2 Reg=0.0"
   ]
  },
  {
   "cell_type": "code",
   "execution_count": null,
   "metadata": {
    "colab": {},
    "colab_type": "code",
    "id": "U6kgqKur0UwX"
   },
   "outputs": [],
   "source": [
    "## Freezing the Transformers Layers to Reduce the Complexity of the given architecture\n",
    "for layer in model.layers[6:9]:\n",
    "  layer.trainable=False"
   ]
  },
  {
   "cell_type": "code",
   "execution_count": null,
   "metadata": {
    "colab": {
     "base_uri": "https://localhost:8080/",
     "height": 292
    },
    "colab_type": "code",
    "executionInfo": {
     "elapsed": 330295,
     "status": "ok",
     "timestamp": 1599085882401,
     "user": {
      "displayName": "Ur Tech Guide",
      "photoUrl": "https://lh3.googleusercontent.com/a-/AOh14GhBjMoWnc1KwT73B6hzAbvnSIxnZAl5PY9n_RGJ0w=s64",
      "userId": "03152431167485721857"
     },
     "user_tz": -300
    },
    "id": "iSpvjzhx4fXP",
    "outputId": "294f5e45-3d9e-46a4-f50c-13bfce136569"
   },
   "outputs": [
    {
     "name": "stdout",
     "output_type": "stream",
     "text": [
      "Epoch 1/20\n",
      "  2/320 [..............................] - ETA: 31s - loss: 18.7553 - accuracy: 0.2031WARNING:tensorflow:Callbacks method `on_train_batch_end` is slow compared to the batch time (batch time: 0.0195s vs `on_train_batch_end` time: 0.1739s). Check your callbacks.\n"
     ]
    },
    {
     "name": "stderr",
     "output_type": "stream",
     "text": [
      "WARNING:tensorflow:Callbacks method `on_train_batch_end` is slow compared to the batch time (batch time: 0.0195s vs `on_train_batch_end` time: 0.1739s). Check your callbacks.\n"
     ]
    },
    {
     "name": "stdout",
     "output_type": "stream",
     "text": [
      "320/320 [==============================] - ETA: 0s - loss: 16.8817 - accuracy: 0.1990WARNING:tensorflow:Callbacks method `on_test_batch_end` is slow compared to the batch time (batch time: 0.0053s vs `on_test_batch_end` time: 0.0449s). Check your callbacks.\n"
     ]
    },
    {
     "name": "stderr",
     "output_type": "stream",
     "text": [
      "WARNING:tensorflow:Callbacks method `on_test_batch_end` is slow compared to the batch time (batch time: 0.0053s vs `on_test_batch_end` time: 0.0449s). Check your callbacks.\n"
     ]
    },
    {
     "name": "stdout",
     "output_type": "stream",
     "text": [
      "\b\b\b\b\b\b\b\b\b\b\b\b\b\b\b\b\b\b\b\b\b\b\b\b\b\b\b\b\b\b\b\b\b\b\b\b\b\b\b\b\b\b\b\b\b\b\b\b\b\b\b\b\b\b\b\b\b\b\b\b\b\b\b\b\b\b\b\b\b\b\b\b\b\b\b\b\b\b\b\b\b\b\b\b\b\r",
      "320/320 [==============================] - 66s 205ms/step - loss: 16.8817 - accuracy: 0.1990 - val_loss: nan - val_accuracy: 0.2017\n",
      "Epoch 2/20\n",
      "320/320 [==============================] - 66s 205ms/step - loss: 14.5992 - accuracy: 0.1998 - val_loss: nan - val_accuracy: 0.1994\n",
      "Epoch 3/20\n",
      "320/320 [==============================] - 65s 204ms/step - loss: 13.3889 - accuracy: 0.2060 - val_loss: nan - val_accuracy: 0.1939\n",
      "Epoch 4/20\n",
      "320/320 [==============================] - 66s 205ms/step - loss: 12.5707 - accuracy: 0.2093 - val_loss: nan - val_accuracy: 0.1955\n",
      "Epoch 5/20\n",
      "320/320 [==============================] - 65s 204ms/step - loss: 11.9612 - accuracy: 0.2086 - val_loss: nan - val_accuracy: 0.2142\n"
     ]
    },
    {
     "data": {
      "text/plain": [
       "<tensorflow.python.keras.callbacks.History at 0x7f3f48cb8eb8>"
      ]
     },
     "execution_count": 83,
     "metadata": {
      "tags": []
     },
     "output_type": "execute_result"
    }
   ],
   "source": [
    "history = LossHistory()\n",
    "model.fit(\n",
    "      train,steps_per_epoch=steps_per_epoch,\n",
    "      epochs=EPOCHS,callbacks=[history,EARLY_STOP], validation_data=valid,\n",
    ")\n",
    "  "
   ]
  },
  {
   "cell_type": "code",
   "execution_count": null,
   "metadata": {
    "colab": {
     "base_uri": "https://localhost:8080/",
     "height": 88
    },
    "colab_type": "code",
    "executionInfo": {
     "elapsed": 30846,
     "status": "ok",
     "timestamp": 1599085921350,
     "user": {
      "displayName": "Ur Tech Guide",
      "photoUrl": "https://lh3.googleusercontent.com/a-/AOh14GhBjMoWnc1KwT73B6hzAbvnSIxnZAl5PY9n_RGJ0w=s64",
      "userId": "03152431167485721857"
     },
     "user_tz": -300
    },
    "id": "hiW_9v-M5yko",
    "outputId": "d798d39b-830c-4241-a904-e40ca5b0aa3b"
   },
   "outputs": [
    {
     "name": "stdout",
     "output_type": "stream",
     "text": [
      " 2/40 [>.............................] - ETA: 3:21WARNING:tensorflow:Callbacks method `on_predict_batch_end` is slow compared to the batch time (batch time: 0.0057s vs `on_predict_batch_end` time: 0.0453s). Check your callbacks.\n"
     ]
    },
    {
     "name": "stderr",
     "output_type": "stream",
     "text": [
      "WARNING:tensorflow:Callbacks method `on_predict_batch_end` is slow compared to the batch time (batch time: 0.0057s vs `on_predict_batch_end` time: 0.0453s). Check your callbacks.\n"
     ]
    },
    {
     "name": "stdout",
     "output_type": "stream",
     "text": [
      "40/40 [==============================] - 21s 518ms/step\n"
     ]
    }
   ],
   "source": [
    "y_pred=model.predict(test,verbose=1)\n",
    "y_true=np.array(tf.keras.utils.to_categorical(df_test['target'].values))"
   ]
  },
  {
   "cell_type": "code",
   "execution_count": null,
   "metadata": {
    "colab": {
     "base_uri": "https://localhost:8080/",
     "height": 626
    },
    "colab_type": "code",
    "executionInfo": {
     "elapsed": 30701,
     "status": "ok",
     "timestamp": 1599085921903,
     "user": {
      "displayName": "Ur Tech Guide",
      "photoUrl": "https://lh3.googleusercontent.com/a-/AOh14GhBjMoWnc1KwT73B6hzAbvnSIxnZAl5PY9n_RGJ0w=s64",
      "userId": "03152431167485721857"
     },
     "user_tz": -300
    },
    "id": "id39O7mx5_5F",
    "outputId": "c0b14d17-1911-4b77-91fe-1c0bf91f5251"
   },
   "outputs": [
    {
     "data": {
      "image/png": "[encoded data removed]",
      "text/plain": [
       "<Figure size 864x720 with 1 Axes>"
      ]
     },
     "metadata": {
      "tags": []
     },
     "output_type": "display_data"
    }
   ],
   "source": [
    "plot_loss(history.losses,'GBX on Liar Dataset-Run(4)')"
   ]
  },
  {
   "cell_type": "code",
   "execution_count": null,
   "metadata": {
    "colab": {
     "base_uri": "https://localhost:8080/",
     "height": 626
    },
    "colab_type": "code",
    "executionInfo": {
     "elapsed": 30779,
     "status": "ok",
     "timestamp": 1599085922864,
     "user": {
      "displayName": "Ur Tech Guide",
      "photoUrl": "https://lh3.googleusercontent.com/a-/AOh14GhBjMoWnc1KwT73B6hzAbvnSIxnZAl5PY9n_RGJ0w=s64",
      "userId": "03152431167485721857"
     },
     "user_tz": -300
    },
    "id": "gJCnMOWV6BPP",
    "outputId": "20e68839-ae4f-45ed-be66-18095595012b"
   },
   "outputs": [
    {
     "data": {
      "image/png": "[encoded data removed]",
      "text/plain": [
       "<Figure size 720x720 with 2 Axes>"
      ]
     },
     "metadata": {
      "tags": []
     },
     "output_type": "display_data"
    }
   ],
   "source": [
    "plot_cm(y_true, y_pred, 'GBX on Liar Dataset-Run(4)')"
   ]
  },
  {
   "cell_type": "code",
   "execution_count": null,
   "metadata": {
    "colab": {
     "base_uri": "https://localhost:8080/",
     "height": 309
    },
    "colab_type": "code",
    "executionInfo": {
     "elapsed": 29794,
     "status": "ok",
     "timestamp": 1599085922868,
     "user": {
      "displayName": "Ur Tech Guide",
      "photoUrl": "https://lh3.googleusercontent.com/a-/AOh14GhBjMoWnc1KwT73B6hzAbvnSIxnZAl5PY9n_RGJ0w=s64",
      "userId": "03152431167485721857"
     },
     "user_tz": -300
    },
    "id": "qU6CBkf76D1A",
    "outputId": "fe2db4f8-4d5a-47ae-bedc-07cccb3d7805"
   },
   "outputs": [
    {
     "name": "stdout",
     "output_type": "stream",
     "text": [
      "The accuracy of the model GBX on Liar Dataset-Run(4) is Accuracy: 19.258%\n",
      "              precision    recall  f1-score   support\n",
      "\n",
      "        true       0.00      0.00      0.00       208\n",
      "   half-true       0.20      0.81      0.32       265\n",
      " barely-true       0.00      0.00      0.00       212\n",
      " mostly-true       0.11      0.05      0.07       241\n",
      "  pants-fire       0.00      0.00      0.00        92\n",
      "       false       0.20      0.07      0.11       249\n",
      "\n",
      "    accuracy                           0.19      1267\n",
      "   macro avg       0.09      0.15      0.08      1267\n",
      "weighted avg       0.10      0.19      0.10      1267\n",
      "\n"
     ]
    },
    {
     "name": "stderr",
     "output_type": "stream",
     "text": [
      "/usr/local/lib/python3.6/dist-packages/sklearn/metrics/_classification.py:1272: UndefinedMetricWarning: Precision and F-score are ill-defined and being set to 0.0 in labels with no predicted samples. Use `zero_division` parameter to control this behavior.\n",
      "  _warn_prf(average, modifier, msg_start, len(result))\n"
     ]
    }
   ],
   "source": [
    "accuracy(y_true,y_pred,'GBX on Liar Dataset-Run(4)')"
   ]
  },
  {
   "cell_type": "markdown",
   "metadata": {
    "colab_type": "text",
    "id": "tNmC38dXCELp"
   },
   "source": [
    "Following Parameters were used-Run(5)\n",
    "1.   BATCH_SIZE = 64\n",
    "2.   EPOCHS=20(Early CallBack)\n",
    "3.   LEARNING_RATE=1e-5\n",
    "4.   BETA_1=0.9-BETA_2=0.999\n",
    "5.   Scheduler=Cosine with Intial Learning Rate of 1e-5\n",
    "6.   Freezing=Transformer Layers were freezed\n",
    "7.   MAX_LEN=256\n",
    "8.   Trained on TPU(Google Colab)\n",
    "9.   Balance Weights were Used\n"
   ]
  },
  {
   "cell_type": "code",
   "execution_count": null,
   "metadata": {
    "colab": {
     "base_uri": "https://localhost:8080/",
     "height": 678
    },
    "colab_type": "code",
    "executionInfo": {
     "elapsed": 607916,
     "status": "ok",
     "timestamp": 1599848823642,
     "user": {
      "displayName": "Ur Tech Guide",
      "photoUrl": "https://lh3.googleusercontent.com/a-/AOh14GhBjMoWnc1KwT73B6hzAbvnSIxnZAl5PY9n_RGJ0w=s64",
      "userId": "03152431167485721857"
     },
     "user_tz": -300
    },
    "id": "XeWQ0NF08lNr",
    "outputId": "f6d5c2ce-5107-417f-f308-bb57c4253200"
   },
   "outputs": [
    {
     "name": "stdout",
     "output_type": "stream",
     "text": [
      "Epoch 1/20\n",
      "WARNING:tensorflow:From /usr/local/lib/python3.6/dist-packages/tensorflow/python/data/ops/multi_device_iterator_ops.py:601: get_next_as_optional (from tensorflow.python.data.ops.iterator_ops) is deprecated and will be removed in a future version.\n",
      "Instructions for updating:\n",
      "Use `tf.data.Iterator.get_next_as_optional()` instead.\n"
     ]
    },
    {
     "name": "stderr",
     "output_type": "stream",
     "text": [
      "WARNING:tensorflow:From /usr/local/lib/python3.6/dist-packages/tensorflow/python/data/ops/multi_device_iterator_ops.py:601: get_next_as_optional (from tensorflow.python.data.ops.iterator_ops) is deprecated and will be removed in a future version.\n",
      "Instructions for updating:\n",
      "Use `tf.data.Iterator.get_next_as_optional()` instead.\n"
     ]
    },
    {
     "name": "stdout",
     "output_type": "stream",
     "text": [
      "WARNING:tensorflow:Gradients do not exist for variables ['tfxlm_roberta_model_2/roberta/pooler/dense/kernel:0', 'tfxlm_roberta_model_2/roberta/pooler/dense/bias:0'] when minimizing the loss.\n"
     ]
    },
    {
     "name": "stderr",
     "output_type": "stream",
     "text": [
      "WARNING:tensorflow:Gradients do not exist for variables ['tfxlm_roberta_model_2/roberta/pooler/dense/kernel:0', 'tfxlm_roberta_model_2/roberta/pooler/dense/bias:0'] when minimizing the loss.\n"
     ]
    },
    {
     "name": "stdout",
     "output_type": "stream",
     "text": [
      "WARNING:tensorflow:Gradients do not exist for variables ['tfxlm_roberta_model_2/roberta/pooler/dense/kernel:0', 'tfxlm_roberta_model_2/roberta/pooler/dense/bias:0'] when minimizing the loss.\n"
     ]
    },
    {
     "name": "stderr",
     "output_type": "stream",
     "text": [
      "WARNING:tensorflow:Gradients do not exist for variables ['tfxlm_roberta_model_2/roberta/pooler/dense/kernel:0', 'tfxlm_roberta_model_2/roberta/pooler/dense/bias:0'] when minimizing the loss.\n"
     ]
    },
    {
     "name": "stdout",
     "output_type": "stream",
     "text": [
      "WARNING:tensorflow:Gradients do not exist for variables ['tfxlm_roberta_model_2/roberta/pooler/dense/kernel:0', 'tfxlm_roberta_model_2/roberta/pooler/dense/bias:0'] when minimizing the loss.\n"
     ]
    },
    {
     "name": "stderr",
     "output_type": "stream",
     "text": [
      "WARNING:tensorflow:Gradients do not exist for variables ['tfxlm_roberta_model_2/roberta/pooler/dense/kernel:0', 'tfxlm_roberta_model_2/roberta/pooler/dense/bias:0'] when minimizing the loss.\n"
     ]
    },
    {
     "name": "stdout",
     "output_type": "stream",
     "text": [
      "WARNING:tensorflow:Gradients do not exist for variables ['tfxlm_roberta_model_2/roberta/pooler/dense/kernel:0', 'tfxlm_roberta_model_2/roberta/pooler/dense/bias:0'] when minimizing the loss.\n"
     ]
    },
    {
     "name": "stderr",
     "output_type": "stream",
     "text": [
      "WARNING:tensorflow:Gradients do not exist for variables ['tfxlm_roberta_model_2/roberta/pooler/dense/kernel:0', 'tfxlm_roberta_model_2/roberta/pooler/dense/bias:0'] when minimizing the loss.\n"
     ]
    },
    {
     "name": "stdout",
     "output_type": "stream",
     "text": [
      "  2/160 [..............................] - ETA: 22s - loss: 6.6929 - accuracy: 0.0781WARNING:tensorflow:Callbacks method `on_train_batch_end` is slow compared to the batch time (batch time: 0.0242s vs `on_train_batch_end` time: 0.2543s). Check your callbacks.\n"
     ]
    },
    {
     "name": "stderr",
     "output_type": "stream",
     "text": [
      "WARNING:tensorflow:Callbacks method `on_train_batch_end` is slow compared to the batch time (batch time: 0.0242s vs `on_train_batch_end` time: 0.2543s). Check your callbacks.\n"
     ]
    },
    {
     "name": "stdout",
     "output_type": "stream",
     "text": [
      "160/160 [==============================] - ETA: 0s - loss: 2.8277 - accuracy: 0.1576WARNING:tensorflow:Callbacks method `on_test_batch_end` is slow compared to the batch time (batch time: 0.0071s vs `on_test_batch_end` time: 0.0687s). Check your callbacks.\n"
     ]
    },
    {
     "name": "stderr",
     "output_type": "stream",
     "text": [
      "WARNING:tensorflow:Callbacks method `on_test_batch_end` is slow compared to the batch time (batch time: 0.0071s vs `on_test_batch_end` time: 0.0687s). Check your callbacks.\n"
     ]
    },
    {
     "name": "stdout",
     "output_type": "stream",
     "text": [
      "\b\b\b\b\b\b\b\b\b\b\b\b\b\b\b\b\b\b\b\b\b\b\b\b\b\b\b\b\b\b\b\b\b\b\b\b\b\b\b\b\b\b\b\b\b\b\b\b\b\b\b\b\b\b\b\b\b\b\b\b\b\b\b\b\b\b\b\b\b\b\b\b\b\b\b\b\b\b\b\b\b\b\b\b\r",
      "160/160 [==============================] - 73s 455ms/step - loss: 2.8277 - accuracy: 0.1576 - val_loss: 1.7607 - val_accuracy: 0.1986\n",
      "Epoch 2/20\n",
      "160/160 [==============================] - 46s 287ms/step - loss: 1.7597 - accuracy: 0.2205 - val_loss: 1.7039 - val_accuracy: 0.2555\n",
      "Epoch 3/20\n",
      "160/160 [==============================] - 45s 279ms/step - loss: 1.6572 - accuracy: 0.2722 - val_loss: 1.7378 - val_accuracy: 0.2430\n",
      "Epoch 4/20\n",
      "160/160 [==============================] - 44s 276ms/step - loss: 1.5671 - accuracy: 0.3221 - val_loss: 1.6807 - val_accuracy: 0.2749\n",
      "Epoch 5/20\n",
      "160/160 [==============================] - 44s 275ms/step - loss: 1.4445 - accuracy: 0.3719 - val_loss: 1.8275 - val_accuracy: 0.2383\n",
      "Epoch 6/20\n",
      "160/160 [==============================] - 44s 275ms/step - loss: 1.2767 - accuracy: 0.4546 - val_loss: 1.9635 - val_accuracy: 0.2555\n",
      "Epoch 7/20\n",
      "160/160 [==============================] - 44s 275ms/step - loss: 1.0769 - accuracy: 0.5424 - val_loss: 2.0776 - val_accuracy: 0.2843\n",
      "Epoch 8/20\n",
      "160/160 [==============================] - 44s 277ms/step - loss: 0.8871 - accuracy: 0.6346 - val_loss: 2.2106 - val_accuracy: 0.2679\n",
      "Epoch 9/20\n",
      "160/160 [==============================] - 44s 276ms/step - loss: 0.7143 - accuracy: 0.7009 - val_loss: 2.3613 - val_accuracy: 0.2734\n"
     ]
    },
    {
     "data": {
      "text/plain": [
       "<tensorflow.python.keras.callbacks.History at 0x7f16bfd56470>"
      ]
     },
     "execution_count": 50,
     "metadata": {
      "tags": []
     },
     "output_type": "execute_result"
    }
   ],
   "source": [
    "history = LossHistory()\n",
    "y_integers = np.argmax(y_train, axis=1)\n",
    "class_weights = compute_class_weight('balanced', np.unique(y_integers), y_integers)\n",
    "d_class_weights = dict(enumerate(class_weights))\n",
    "model.fit(\n",
    "      train,steps_per_epoch=steps_per_epoch,\n",
    "      epochs=EPOCHS,callbacks=[history,EARLY_STOP], validation_data=valid,class_weight=d_class_weights\n",
    ")"
   ]
  },
  {
   "cell_type": "code",
   "execution_count": null,
   "metadata": {
    "colab": {
     "base_uri": "https://localhost:8080/",
     "height": 89
    },
    "colab_type": "code",
    "executionInfo": {
     "elapsed": 4610,
     "status": "ok",
     "timestamp": 1599848872029,
     "user": {
      "displayName": "Ur Tech Guide",
      "photoUrl": "https://lh3.googleusercontent.com/a-/AOh14GhBjMoWnc1KwT73B6hzAbvnSIxnZAl5PY9n_RGJ0w=s64",
      "userId": "03152431167485721857"
     },
     "user_tz": -300
    },
    "id": "yuI0qy9CGHvW",
    "outputId": "2e50546e-f88c-41b5-a0e9-231549d00388"
   },
   "outputs": [
    {
     "name": "stdout",
     "output_type": "stream",
     "text": [
      " 2/20 [==>...........................] - ETA: 0sWARNING:tensorflow:Callbacks method `on_predict_batch_end` is slow compared to the batch time (batch time: 0.0077s vs `on_predict_batch_end` time: 0.0659s). Check your callbacks.\n"
     ]
    },
    {
     "name": "stderr",
     "output_type": "stream",
     "text": [
      "WARNING:tensorflow:Callbacks method `on_predict_batch_end` is slow compared to the batch time (batch time: 0.0077s vs `on_predict_batch_end` time: 0.0659s). Check your callbacks.\n"
     ]
    },
    {
     "name": "stdout",
     "output_type": "stream",
     "text": [
      "20/20 [==============================] - 1s 68ms/step\n"
     ]
    }
   ],
   "source": [
    "y_pred=model.predict(test,verbose=1)\n",
    "y_true=np.array(tf.keras.utils.to_categorical(df_test['target'].values))"
   ]
  },
  {
   "cell_type": "code",
   "execution_count": null,
   "metadata": {
    "colab": {
     "base_uri": "https://localhost:8080/",
     "height": 626
    },
    "colab_type": "code",
    "executionInfo": {
     "elapsed": 4035,
     "status": "ok",
     "timestamp": 1599848872032,
     "user": {
      "displayName": "Ur Tech Guide",
      "photoUrl": "https://lh3.googleusercontent.com/a-/AOh14GhBjMoWnc1KwT73B6hzAbvnSIxnZAl5PY9n_RGJ0w=s64",
      "userId": "03152431167485721857"
     },
     "user_tz": -300
    },
    "id": "-Gaq3GGDT8Nr",
    "outputId": "24af0d5b-efc3-4df5-86bd-ceb3b9a55464"
   },
   "outputs": [
    {
     "data": {
      "image/png": "[encoded data removed]",
      "text/plain": [
       "<Figure size 864x720 with 1 Axes>"
      ]
     },
     "metadata": {
      "tags": []
     },
     "output_type": "display_data"
    }
   ],
   "source": [
    "plot_loss(history.losses,'GBX on Liar Dataset-Run(5)')"
   ]
  },
  {
   "cell_type": "code",
   "execution_count": null,
   "metadata": {
    "colab": {
     "base_uri": "https://localhost:8080/",
     "height": 626
    },
    "colab_type": "code",
    "executionInfo": {
     "elapsed": 3127,
     "status": "ok",
     "timestamp": 1599848872034,
     "user": {
      "displayName": "Ur Tech Guide",
      "photoUrl": "https://lh3.googleusercontent.com/a-/AOh14GhBjMoWnc1KwT73B6hzAbvnSIxnZAl5PY9n_RGJ0w=s64",
      "userId": "03152431167485721857"
     },
     "user_tz": -300
    },
    "id": "LMU9XQP9T_Cc",
    "outputId": "4b2cd5b6-997e-46ba-9a36-268bf39df1bc"
   },
   "outputs": [
    {
     "data": {
      "image/png": "[encoded data removed]",
      "text/plain": [
       "<Figure size 720x720 with 2 Axes>"
      ]
     },
     "metadata": {
      "tags": []
     },
     "output_type": "display_data"
    }
   ],
   "source": [
    "plot_cm(y_true, y_pred, 'GBX on Liar Dataset-Run(5)')"
   ]
  },
  {
   "cell_type": "code",
   "execution_count": null,
   "metadata": {
    "colab": {
     "base_uri": "https://localhost:8080/",
     "height": 260
    },
    "colab_type": "code",
    "executionInfo": {
     "elapsed": 1707,
     "status": "ok",
     "timestamp": 1599848872036,
     "user": {
      "displayName": "Ur Tech Guide",
      "photoUrl": "https://lh3.googleusercontent.com/a-/AOh14GhBjMoWnc1KwT73B6hzAbvnSIxnZAl5PY9n_RGJ0w=s64",
      "userId": "03152431167485721857"
     },
     "user_tz": -300
    },
    "id": "MGlcOmo6UCGa",
    "outputId": "0faec951-0111-417d-ff2e-e118f8337dcc"
   },
   "outputs": [
    {
     "name": "stdout",
     "output_type": "stream",
     "text": [
      "The accuracy of the model GBX on Liar Dataset-Run(5) is Accuracy: 25.178%\n",
      "              precision    recall  f1-score   support\n",
      "\n",
      "        true       0.33      0.05      0.08       208\n",
      "   half-true       0.29      0.15      0.20       265\n",
      " barely-true       0.21      0.40      0.27       212\n",
      " mostly-true       0.28      0.50      0.36       241\n",
      "  pants-fire       0.21      0.39      0.28        92\n",
      "       false       0.31      0.11      0.17       249\n",
      "\n",
      "    accuracy                           0.25      1267\n",
      "   macro avg       0.27      0.27      0.23      1267\n",
      "weighted avg       0.28      0.25      0.22      1267\n",
      "\n"
     ]
    }
   ],
   "source": [
    "accuracy(y_true,y_pred,'GBX on Liar Dataset-Run(5)')"
   ]
  },
  {
   "cell_type": "code",
   "execution_count": null,
   "metadata": {
    "colab": {},
    "colab_type": "code",
    "id": "qrWBKlAhUEju"
   },
   "outputs": [],
   "source": []
  }
 ],
 "metadata": {
  "accelerator": "TPU",
  "colab": {
   "authorship_tag": "ABX9TyNIRmKmCy9slKrJgVydC+lH",
   "collapsed_sections": [],
   "mount_file_id": "1xN72ip0cTRXvGsYTxZL6UTa3JwVGX8Ji",
   "name": "Liar Dataset GBX Model.ipynb",
   "provenance": [],
   "toc_visible": true
  },
  "kernelspec": {
   "display_name": "Python 3",
   "language": "python",
   "name": "python3"
  },
  "language_info": {
   "codemirror_mode": {
    "name": "ipython",
    "version": 3
   },
   "file_extension": ".py",
   "mimetype": "text/x-python",
   "name": "python",
   "nbconvert_exporter": "python",
   "pygments_lexer": "ipython3",
   "version": "3.8.10"
  },
  "widgets": {
   "application/vnd.jupyter.widget-state+json": {
    "009cb25652f349ab8a63134500c28590": {
     "model_module": "@jupyter-widgets/controls",
     "model_name": "HBoxModel",
     "state": {
      "_dom_classes": [],
      "_model_module": "@jupyter-widgets/controls",
      "_model_module_version": "1.5.0",
      "_model_name": "HBoxModel",
      "_view_count": null,
      "_view_module": "@jupyter-widgets/controls",
      "_view_module_version": "1.5.0",
      "_view_name": "HBoxView",
      "box_style": "",
      "children": [
       "IPY_MODEL_c02b15854157488ca3449ef902052f58",
       "IPY_MODEL_91c74d456c47459985fdd7161a73a627"
      ],
      "layout": "IPY_MODEL_1a1f22d7ad974781ad1ef3c1bb0f8d3f"
     }
    },
    "01907f43b0fa445ab75d17478520a0a7": {
     "model_module": "@jupyter-widgets/controls",
     "model_name": "ProgressStyleModel",
     "state": {
      "_model_module": "@jupyter-widgets/controls",
      "_model_module_version": "1.5.0",
      "_model_name": "ProgressStyleModel",
      "_view_count": null,
      "_view_module": "@jupyter-widgets/base",
      "_view_module_version": "1.2.0",
      "_view_name": "StyleView",
      "bar_color": null,
      "description_width": "initial"
     }
    },
    "07d4131fa7a443229fea743030010bdd": {
     "model_module": "@jupyter-widgets/controls",
     "model_name": "FloatProgressModel",
     "state": {
      "_dom_classes": [],
      "_model_module": "@jupyter-widgets/controls",
      "_model_module_version": "1.5.0",
      "_model_name": "FloatProgressModel",
      "_view_count": null,
      "_view_module": "@jupyter-widgets/controls",
      "_view_module_version": "1.5.0",
      "_view_name": "ProgressView",
      "bar_style": "success",
      "description": "Downloading: 100%",
      "description_tooltip": null,
      "layout": "IPY_MODEL_b0ce4f14e63044f5942d6d748ceafab4",
      "max": 456318,
      "min": 0,
      "orientation": "horizontal",
      "style": "IPY_MODEL_4413881ba88142d8a8ad1ae4546c85ec",
      "value": 456318
     }
    },
    "12acbe9b4d7c46ad88b5b6532ea334b3": {
     "model_module": "@jupyter-widgets/base",
     "model_name": "LayoutModel",
     "state": {
      "_model_module": "@jupyter-widgets/base",
      "_model_module_version": "1.2.0",
      "_model_name": "LayoutModel",
      "_view_count": null,
      "_view_module": "@jupyter-widgets/base",
      "_view_module_version": "1.2.0",
      "_view_name": "LayoutView",
      "align_content": null,
      "align_items": null,
      "align_self": null,
      "border": null,
      "bottom": null,
      "display": null,
      "flex": null,
      "flex_flow": null,
      "grid_area": null,
      "grid_auto_columns": null,
      "grid_auto_flow": null,
      "grid_auto_rows": null,
      "grid_column": null,
      "grid_gap": null,
      "grid_row": null,
      "grid_template_areas": null,
      "grid_template_columns": null,
      "grid_template_rows": null,
      "height": null,
      "justify_content": null,
      "justify_items": null,
      "left": null,
      "margin": null,
      "max_height": null,
      "max_width": null,
      "min_height": null,
      "min_width": null,
      "object_fit": null,
      "object_position": null,
      "order": null,
      "overflow": null,
      "overflow_x": null,
      "overflow_y": null,
      "padding": null,
      "right": null,
      "top": null,
      "visibility": null,
      "width": null
     }
    },
    "1a1f22d7ad974781ad1ef3c1bb0f8d3f": {
     "model_module": "@jupyter-widgets/base",
     "model_name": "LayoutModel",
     "state": {
      "_model_module": "@jupyter-widgets/base",
      "_model_module_version": "1.2.0",
      "_model_name": "LayoutModel",
      "_view_count": null,
      "_view_module": "@jupyter-widgets/base",
      "_view_module_version": "1.2.0",
      "_view_name": "LayoutView",
      "align_content": null,
      "align_items": null,
      "align_self": null,
      "border": null,
      "bottom": null,
      "display": null,
      "flex": null,
      "flex_flow": null,
      "grid_area": null,
      "grid_auto_columns": null,
      "grid_auto_flow": null,
      "grid_auto_rows": null,
      "grid_column": null,
      "grid_gap": null,
      "grid_row": null,
      "grid_template_areas": null,
      "grid_template_columns": null,
      "grid_template_rows": null,
      "height": null,
      "justify_content": null,
      "justify_items": null,
      "left": null,
      "margin": null,
      "max_height": null,
      "max_width": null,
      "min_height": null,
      "min_width": null,
      "object_fit": null,
      "object_position": null,
      "order": null,
      "overflow": null,
      "overflow_x": null,
      "overflow_y": null,
      "padding": null,
      "right": null,
      "top": null,
      "visibility": null,
      "width": null
     }
    },
    "212b49e6ee8247cbb841390a2e025d2f": {
     "model_module": "@jupyter-widgets/controls",
     "model_name": "ProgressStyleModel",
     "state": {
      "_model_module": "@jupyter-widgets/controls",
      "_model_module_version": "1.5.0",
      "_model_name": "ProgressStyleModel",
      "_view_count": null,
      "_view_module": "@jupyter-widgets/base",
      "_view_module_version": "1.2.0",
      "_view_name": "StyleView",
      "bar_color": null,
      "description_width": "initial"
     }
    },
    "2273efd6702d48c3804f554b6a4728b5": {
     "model_module": "@jupyter-widgets/controls",
     "model_name": "HTMLModel",
     "state": {
      "_dom_classes": [],
      "_model_module": "@jupyter-widgets/controls",
      "_model_module_version": "1.5.0",
      "_model_name": "HTMLModel",
      "_view_count": null,
      "_view_module": "@jupyter-widgets/controls",
      "_view_module_version": "1.5.0",
      "_view_name": "HTMLView",
      "description": "",
      "description_tooltip": null,
      "layout": "IPY_MODEL_e05eebbf90e548db9c8dafacd2097017",
      "placeholder": "​",
      "style": "IPY_MODEL_9e689e41e5c94bd8a04e9eb75ceb1f50",
      "value": " 899k/899k [00:00&lt;00:00, 1.36MB/s]"
     }
    },
    "24acdbe859cf4bcfb8e9685c5097a9d1": {
     "model_module": "@jupyter-widgets/base",
     "model_name": "LayoutModel",
     "state": {
      "_model_module": "@jupyter-widgets/base",
      "_model_module_version": "1.2.0",
      "_model_name": "LayoutModel",
      "_view_count": null,
      "_view_module": "@jupyter-widgets/base",
      "_view_module_version": "1.2.0",
      "_view_name": "LayoutView",
      "align_content": null,
      "align_items": null,
      "align_self": null,
      "border": null,
      "bottom": null,
      "display": null,
      "flex": null,
      "flex_flow": null,
      "grid_area": null,
      "grid_auto_columns": null,
      "grid_auto_flow": null,
      "grid_auto_rows": null,
      "grid_column": null,
      "grid_gap": null,
      "grid_row": null,
      "grid_template_areas": null,
      "grid_template_columns": null,
      "grid_template_rows": null,
      "height": null,
      "justify_content": null,
      "justify_items": null,
      "left": null,
      "margin": null,
      "max_height": null,
      "max_width": null,
      "min_height": null,
      "min_width": null,
      "object_fit": null,
      "object_position": null,
      "order": null,
      "overflow": null,
      "overflow_x": null,
      "overflow_y": null,
      "padding": null,
      "right": null,
      "top": null,
      "visibility": null,
      "width": null
     }
    },
    "26594bd943264c5dbf11f5ab520aa1f1": {
     "model_module": "@jupyter-widgets/controls",
     "model_name": "HTMLModel",
     "state": {
      "_dom_classes": [],
      "_model_module": "@jupyter-widgets/controls",
      "_model_module_version": "1.5.0",
      "_model_name": "HTMLModel",
      "_view_count": null,
      "_view_module": "@jupyter-widgets/controls",
      "_view_module_version": "1.5.0",
      "_view_name": "HTMLView",
      "description": "",
      "description_tooltip": null,
      "layout": "IPY_MODEL_c596e074381c41dbb18b86495f4b68c0",
      "placeholder": "​",
      "style": "IPY_MODEL_33eab5c7e2a840d590eff41442cd6e61",
      "value": " 456k/456k [00:00&lt;00:00, 2.31MB/s]"
     }
    },
    "265c321a148d4e31bf751e39d4334efe": {
     "model_module": "@jupyter-widgets/base",
     "model_name": "LayoutModel",
     "state": {
      "_model_module": "@jupyter-widgets/base",
      "_model_module_version": "1.2.0",
      "_model_name": "LayoutModel",
      "_view_count": null,
      "_view_module": "@jupyter-widgets/base",
      "_view_module_version": "1.2.0",
      "_view_name": "LayoutView",
      "align_content": null,
      "align_items": null,
      "align_self": null,
      "border": null,
      "bottom": null,
      "display": null,
      "flex": null,
      "flex_flow": null,
      "grid_area": null,
      "grid_auto_columns": null,
      "grid_auto_flow": null,
      "grid_auto_rows": null,
      "grid_column": null,
      "grid_gap": null,
      "grid_row": null,
      "grid_template_areas": null,
      "grid_template_columns": null,
      "grid_template_rows": null,
      "height": null,
      "justify_content": null,
      "justify_items": null,
      "left": null,
      "margin": null,
      "max_height": null,
      "max_width": null,
      "min_height": null,
      "min_width": null,
      "object_fit": null,
      "object_position": null,
      "order": null,
      "overflow": null,
      "overflow_x": null,
      "overflow_y": null,
      "padding": null,
      "right": null,
      "top": null,
      "visibility": null,
      "width": null
     }
    },
    "271567cc05ad468588244fcf8f36b8fa": {
     "model_module": "@jupyter-widgets/controls",
     "model_name": "HBoxModel",
     "state": {
      "_dom_classes": [],
      "_model_module": "@jupyter-widgets/controls",
      "_model_module_version": "1.5.0",
      "_model_name": "HBoxModel",
      "_view_count": null,
      "_view_module": "@jupyter-widgets/controls",
      "_view_module_version": "1.5.0",
      "_view_name": "HBoxView",
      "box_style": "",
      "children": [
       "IPY_MODEL_760d63f962b04299b62179e27fea1ff2",
       "IPY_MODEL_2273efd6702d48c3804f554b6a4728b5"
      ],
      "layout": "IPY_MODEL_24acdbe859cf4bcfb8e9685c5097a9d1"
     }
    },
    "2863af7ec70e415e9e84a630c9cddd71": {
     "model_module": "@jupyter-widgets/controls",
     "model_name": "DescriptionStyleModel",
     "state": {
      "_model_module": "@jupyter-widgets/controls",
      "_model_module_version": "1.5.0",
      "_model_name": "DescriptionStyleModel",
      "_view_count": null,
      "_view_module": "@jupyter-widgets/base",
      "_view_module_version": "1.2.0",
      "_view_name": "StyleView",
      "description_width": ""
     }
    },
    "2c18995abb9849c29c46274d257d02be": {
     "model_module": "@jupyter-widgets/controls",
     "model_name": "HTMLModel",
     "state": {
      "_dom_classes": [],
      "_model_module": "@jupyter-widgets/controls",
      "_model_module_version": "1.5.0",
      "_model_name": "HTMLModel",
      "_view_count": null,
      "_view_module": "@jupyter-widgets/controls",
      "_view_module_version": "1.5.0",
      "_view_name": "HTMLView",
      "description": "",
      "description_tooltip": null,
      "layout": "IPY_MODEL_cbb1282b16c043df878e64877210ef09",
      "placeholder": "​",
      "style": "IPY_MODEL_2863af7ec70e415e9e84a630c9cddd71",
      "value": " 232k/232k [00:00&lt;00:00, 343kB/s]"
     }
    },
    "33eab5c7e2a840d590eff41442cd6e61": {
     "model_module": "@jupyter-widgets/controls",
     "model_name": "DescriptionStyleModel",
     "state": {
      "_model_module": "@jupyter-widgets/controls",
      "_model_module_version": "1.5.0",
      "_model_name": "DescriptionStyleModel",
      "_view_count": null,
      "_view_module": "@jupyter-widgets/base",
      "_view_module_version": "1.2.0",
      "_view_name": "StyleView",
      "description_width": ""
     }
    },
    "361d7bc5bc384c0aa41c4655310e2d4d": {
     "model_module": "@jupyter-widgets/base",
     "model_name": "LayoutModel",
     "state": {
      "_model_module": "@jupyter-widgets/base",
      "_model_module_version": "1.2.0",
      "_model_name": "LayoutModel",
      "_view_count": null,
      "_view_module": "@jupyter-widgets/base",
      "_view_module_version": "1.2.0",
      "_view_name": "LayoutView",
      "align_content": null,
      "align_items": null,
      "align_self": null,
      "border": null,
      "bottom": null,
      "display": null,
      "flex": null,
      "flex_flow": null,
      "grid_area": null,
      "grid_auto_columns": null,
      "grid_auto_flow": null,
      "grid_auto_rows": null,
      "grid_column": null,
      "grid_gap": null,
      "grid_row": null,
      "grid_template_areas": null,
      "grid_template_columns": null,
      "grid_template_rows": null,
      "height": null,
      "justify_content": null,
      "justify_items": null,
      "left": null,
      "margin": null,
      "max_height": null,
      "max_width": null,
      "min_height": null,
      "min_width": null,
      "object_fit": null,
      "object_position": null,
      "order": null,
      "overflow": null,
      "overflow_x": null,
      "overflow_y": null,
      "padding": null,
      "right": null,
      "top": null,
      "visibility": null,
      "width": null
     }
    },
    "3de25473bd144f91bf6f4571a39474f5": {
     "model_module": "@jupyter-widgets/controls",
     "model_name": "FloatProgressModel",
     "state": {
      "_dom_classes": [],
      "_model_module": "@jupyter-widgets/controls",
      "_model_module_version": "1.5.0",
      "_model_name": "FloatProgressModel",
      "_view_count": null,
      "_view_module": "@jupyter-widgets/controls",
      "_view_module_version": "1.5.0",
      "_view_name": "ProgressView",
      "bar_style": "success",
      "description": "Downloading: 100%",
      "description_tooltip": null,
      "layout": "IPY_MODEL_e4d6b4436bc04327a9693aa4a518d0d3",
      "max": 231508,
      "min": 0,
      "orientation": "horizontal",
      "style": "IPY_MODEL_fa00dd172ae94cfb9eba4e3b1f62eb46",
      "value": 231508
     }
    },
    "3dea6cbb958445a6abf2c3a937bb59a3": {
     "model_module": "@jupyter-widgets/base",
     "model_name": "LayoutModel",
     "state": {
      "_model_module": "@jupyter-widgets/base",
      "_model_module_version": "1.2.0",
      "_model_name": "LayoutModel",
      "_view_count": null,
      "_view_module": "@jupyter-widgets/base",
      "_view_module_version": "1.2.0",
      "_view_name": "LayoutView",
      "align_content": null,
      "align_items": null,
      "align_self": null,
      "border": null,
      "bottom": null,
      "display": null,
      "flex": null,
      "flex_flow": null,
      "grid_area": null,
      "grid_auto_columns": null,
      "grid_auto_flow": null,
      "grid_auto_rows": null,
      "grid_column": null,
      "grid_gap": null,
      "grid_row": null,
      "grid_template_areas": null,
      "grid_template_columns": null,
      "grid_template_rows": null,
      "height": null,
      "justify_content": null,
      "justify_items": null,
      "left": null,
      "margin": null,
      "max_height": null,
      "max_width": null,
      "min_height": null,
      "min_width": null,
      "object_fit": null,
      "object_position": null,
      "order": null,
      "overflow": null,
      "overflow_x": null,
      "overflow_y": null,
      "padding": null,
      "right": null,
      "top": null,
      "visibility": null,
      "width": null
     }
    },
    "4413881ba88142d8a8ad1ae4546c85ec": {
     "model_module": "@jupyter-widgets/controls",
     "model_name": "ProgressStyleModel",
     "state": {
      "_model_module": "@jupyter-widgets/controls",
      "_model_module_version": "1.5.0",
      "_model_name": "ProgressStyleModel",
      "_view_count": null,
      "_view_module": "@jupyter-widgets/base",
      "_view_module_version": "1.2.0",
      "_view_name": "StyleView",
      "bar_color": null,
      "description_width": "initial"
     }
    },
    "513e96b7d7ac4ac7a036c0807dac7065": {
     "model_module": "@jupyter-widgets/base",
     "model_name": "LayoutModel",
     "state": {
      "_model_module": "@jupyter-widgets/base",
      "_model_module_version": "1.2.0",
      "_model_name": "LayoutModel",
      "_view_count": null,
      "_view_module": "@jupyter-widgets/base",
      "_view_module_version": "1.2.0",
      "_view_name": "LayoutView",
      "align_content": null,
      "align_items": null,
      "align_self": null,
      "border": null,
      "bottom": null,
      "display": null,
      "flex": null,
      "flex_flow": null,
      "grid_area": null,
      "grid_auto_columns": null,
      "grid_auto_flow": null,
      "grid_auto_rows": null,
      "grid_column": null,
      "grid_gap": null,
      "grid_row": null,
      "grid_template_areas": null,
      "grid_template_columns": null,
      "grid_template_rows": null,
      "height": null,
      "justify_content": null,
      "justify_items": null,
      "left": null,
      "margin": null,
      "max_height": null,
      "max_width": null,
      "min_height": null,
      "min_width": null,
      "object_fit": null,
      "object_position": null,
      "order": null,
      "overflow": null,
      "overflow_x": null,
      "overflow_y": null,
      "padding": null,
      "right": null,
      "top": null,
      "visibility": null,
      "width": null
     }
    },
    "6a837f49c6414430bebd6d5f5c5e3bb5": {
     "model_module": "@jupyter-widgets/controls",
     "model_name": "FloatProgressModel",
     "state": {
      "_dom_classes": [],
      "_model_module": "@jupyter-widgets/controls",
      "_model_module_version": "1.5.0",
      "_model_name": "FloatProgressModel",
      "_view_count": null,
      "_view_module": "@jupyter-widgets/controls",
      "_view_module_version": "1.5.0",
      "_view_name": "ProgressView",
      "bar_style": "success",
      "description": "Downloading: 100%",
      "description_tooltip": null,
      "layout": "IPY_MODEL_265c321a148d4e31bf751e39d4334efe",
      "max": 480,
      "min": 0,
      "orientation": "horizontal",
      "style": "IPY_MODEL_ff4533a2b54b47d9a6c7380c4bc2fab5",
      "value": 480
     }
    },
    "6cea55e7bfa5465baf90516fc217e10d": {
     "model_module": "@jupyter-widgets/base",
     "model_name": "LayoutModel",
     "state": {
      "_model_module": "@jupyter-widgets/base",
      "_model_module_version": "1.2.0",
      "_model_name": "LayoutModel",
      "_view_count": null,
      "_view_module": "@jupyter-widgets/base",
      "_view_module_version": "1.2.0",
      "_view_name": "LayoutView",
      "align_content": null,
      "align_items": null,
      "align_self": null,
      "border": null,
      "bottom": null,
      "display": null,
      "flex": null,
      "flex_flow": null,
      "grid_area": null,
      "grid_auto_columns": null,
      "grid_auto_flow": null,
      "grid_auto_rows": null,
      "grid_column": null,
      "grid_gap": null,
      "grid_row": null,
      "grid_template_areas": null,
      "grid_template_columns": null,
      "grid_template_rows": null,
      "height": null,
      "justify_content": null,
      "justify_items": null,
      "left": null,
      "margin": null,
      "max_height": null,
      "max_width": null,
      "min_height": null,
      "min_width": null,
      "object_fit": null,
      "object_position": null,
      "order": null,
      "overflow": null,
      "overflow_x": null,
      "overflow_y": null,
      "padding": null,
      "right": null,
      "top": null,
      "visibility": null,
      "width": null
     }
    },
    "760d63f962b04299b62179e27fea1ff2": {
     "model_module": "@jupyter-widgets/controls",
     "model_name": "FloatProgressModel",
     "state": {
      "_dom_classes": [],
      "_model_module": "@jupyter-widgets/controls",
      "_model_module_version": "1.5.0",
      "_model_name": "FloatProgressModel",
      "_view_count": null,
      "_view_module": "@jupyter-widgets/controls",
      "_view_module_version": "1.5.0",
      "_view_name": "ProgressView",
      "bar_style": "success",
      "description": "Downloading: 100%",
      "description_tooltip": null,
      "layout": "IPY_MODEL_12acbe9b4d7c46ad88b5b6532ea334b3",
      "max": 898823,
      "min": 0,
      "orientation": "horizontal",
      "style": "IPY_MODEL_01907f43b0fa445ab75d17478520a0a7",
      "value": 898823
     }
    },
    "781f861c22b445ffa80305375b46ed4f": {
     "model_module": "@jupyter-widgets/controls",
     "model_name": "HBoxModel",
     "state": {
      "_dom_classes": [],
      "_model_module": "@jupyter-widgets/controls",
      "_model_module_version": "1.5.0",
      "_model_name": "HBoxModel",
      "_view_count": null,
      "_view_module": "@jupyter-widgets/controls",
      "_view_module_version": "1.5.0",
      "_view_name": "HBoxView",
      "box_style": "",
      "children": [
       "IPY_MODEL_3de25473bd144f91bf6f4571a39474f5",
       "IPY_MODEL_2c18995abb9849c29c46274d257d02be"
      ],
      "layout": "IPY_MODEL_513e96b7d7ac4ac7a036c0807dac7065"
     }
    },
    "858fdc34334c4d4e950d1e9082545ce1": {
     "model_module": "@jupyter-widgets/controls",
     "model_name": "ProgressStyleModel",
     "state": {
      "_model_module": "@jupyter-widgets/controls",
      "_model_module_version": "1.5.0",
      "_model_name": "ProgressStyleModel",
      "_view_count": null,
      "_view_module": "@jupyter-widgets/base",
      "_view_module_version": "1.2.0",
      "_view_name": "StyleView",
      "bar_color": null,
      "description_width": "initial"
     }
    },
    "87ce8f9ad88c4348b562322852543145": {
     "model_module": "@jupyter-widgets/base",
     "model_name": "LayoutModel",
     "state": {
      "_model_module": "@jupyter-widgets/base",
      "_model_module_version": "1.2.0",
      "_model_name": "LayoutModel",
      "_view_count": null,
      "_view_module": "@jupyter-widgets/base",
      "_view_module_version": "1.2.0",
      "_view_name": "LayoutView",
      "align_content": null,
      "align_items": null,
      "align_self": null,
      "border": null,
      "bottom": null,
      "display": null,
      "flex": null,
      "flex_flow": null,
      "grid_area": null,
      "grid_auto_columns": null,
      "grid_auto_flow": null,
      "grid_auto_rows": null,
      "grid_column": null,
      "grid_gap": null,
      "grid_row": null,
      "grid_template_areas": null,
      "grid_template_columns": null,
      "grid_template_rows": null,
      "height": null,
      "justify_content": null,
      "justify_items": null,
      "left": null,
      "margin": null,
      "max_height": null,
      "max_width": null,
      "min_height": null,
      "min_width": null,
      "object_fit": null,
      "object_position": null,
      "order": null,
      "overflow": null,
      "overflow_x": null,
      "overflow_y": null,
      "padding": null,
      "right": null,
      "top": null,
      "visibility": null,
      "width": null
     }
    },
    "88123400f31a42c593d6f23afef22e2a": {
     "model_module": "@jupyter-widgets/controls",
     "model_name": "HBoxModel",
     "state": {
      "_dom_classes": [],
      "_model_module": "@jupyter-widgets/controls",
      "_model_module_version": "1.5.0",
      "_model_name": "HBoxModel",
      "_view_count": null,
      "_view_module": "@jupyter-widgets/controls",
      "_view_module_version": "1.5.0",
      "_view_name": "HBoxView",
      "box_style": "",
      "children": [
       "IPY_MODEL_07d4131fa7a443229fea743030010bdd",
       "IPY_MODEL_26594bd943264c5dbf11f5ab520aa1f1"
      ],
      "layout": "IPY_MODEL_6cea55e7bfa5465baf90516fc217e10d"
     }
    },
    "8859431f174e4fbf8a2c8b61b4c333f3": {
     "model_module": "@jupyter-widgets/controls",
     "model_name": "DescriptionStyleModel",
     "state": {
      "_model_module": "@jupyter-widgets/controls",
      "_model_module_version": "1.5.0",
      "_model_name": "DescriptionStyleModel",
      "_view_count": null,
      "_view_module": "@jupyter-widgets/base",
      "_view_module_version": "1.2.0",
      "_view_name": "StyleView",
      "description_width": ""
     }
    },
    "8b1ec583a60b4a97abacefc265d2754d": {
     "model_module": "@jupyter-widgets/controls",
     "model_name": "FloatProgressModel",
     "state": {
      "_dom_classes": [],
      "_model_module": "@jupyter-widgets/controls",
      "_model_module_version": "1.5.0",
      "_model_name": "FloatProgressModel",
      "_view_count": null,
      "_view_module": "@jupyter-widgets/controls",
      "_view_module_version": "1.5.0",
      "_view_name": "ProgressView",
      "bar_style": "success",
      "description": "Downloading: 100%",
      "description_tooltip": null,
      "layout": "IPY_MODEL_361d7bc5bc384c0aa41c4655310e2d4d",
      "max": 456318,
      "min": 0,
      "orientation": "horizontal",
      "style": "IPY_MODEL_858fdc34334c4d4e950d1e9082545ce1",
      "value": 456318
     }
    },
    "91c74d456c47459985fdd7161a73a627": {
     "model_module": "@jupyter-widgets/controls",
     "model_name": "HTMLModel",
     "state": {
      "_dom_classes": [],
      "_model_module": "@jupyter-widgets/controls",
      "_model_module_version": "1.5.0",
      "_model_name": "HTMLModel",
      "_view_count": null,
      "_view_module": "@jupyter-widgets/controls",
      "_view_module_version": "1.5.0",
      "_view_name": "HTMLView",
      "description": "",
      "description_tooltip": null,
      "layout": "IPY_MODEL_c6d565b6e2dd41ea8dffac13387d1a8c",
      "placeholder": "​",
      "style": "IPY_MODEL_8859431f174e4fbf8a2c8b61b4c333f3",
      "value": " 1.04M/1.04M [00:00&lt;00:00, 1.17MB/s]"
     }
    },
    "980da68a40ab407998d666bdcc5556ad": {
     "model_module": "@jupyter-widgets/controls",
     "model_name": "DescriptionStyleModel",
     "state": {
      "_model_module": "@jupyter-widgets/controls",
      "_model_module_version": "1.5.0",
      "_model_name": "DescriptionStyleModel",
      "_view_count": null,
      "_view_module": "@jupyter-widgets/base",
      "_view_module_version": "1.2.0",
      "_view_name": "StyleView",
      "description_width": ""
     }
    },
    "9e689e41e5c94bd8a04e9eb75ceb1f50": {
     "model_module": "@jupyter-widgets/controls",
     "model_name": "DescriptionStyleModel",
     "state": {
      "_model_module": "@jupyter-widgets/controls",
      "_model_module_version": "1.5.0",
      "_model_name": "DescriptionStyleModel",
      "_view_count": null,
      "_view_module": "@jupyter-widgets/base",
      "_view_module_version": "1.2.0",
      "_view_name": "StyleView",
      "description_width": ""
     }
    },
    "a95603c5dbcb4639bb2671923e7c084a": {
     "model_module": "@jupyter-widgets/controls",
     "model_name": "HBoxModel",
     "state": {
      "_dom_classes": [],
      "_model_module": "@jupyter-widgets/controls",
      "_model_module_version": "1.5.0",
      "_model_name": "HBoxModel",
      "_view_count": null,
      "_view_module": "@jupyter-widgets/controls",
      "_view_module_version": "1.5.0",
      "_view_name": "HBoxView",
      "box_style": "",
      "children": [
       "IPY_MODEL_6a837f49c6414430bebd6d5f5c5e3bb5",
       "IPY_MODEL_e0770829308441f2b7654eafdd115f47"
      ],
      "layout": "IPY_MODEL_e15d16e5b9d54b6181b6e3dd104f3422"
     }
    },
    "b0ce4f14e63044f5942d6d748ceafab4": {
     "model_module": "@jupyter-widgets/base",
     "model_name": "LayoutModel",
     "state": {
      "_model_module": "@jupyter-widgets/base",
      "_model_module_version": "1.2.0",
      "_model_name": "LayoutModel",
      "_view_count": null,
      "_view_module": "@jupyter-widgets/base",
      "_view_module_version": "1.2.0",
      "_view_name": "LayoutView",
      "align_content": null,
      "align_items": null,
      "align_self": null,
      "border": null,
      "bottom": null,
      "display": null,
      "flex": null,
      "flex_flow": null,
      "grid_area": null,
      "grid_auto_columns": null,
      "grid_auto_flow": null,
      "grid_auto_rows": null,
      "grid_column": null,
      "grid_gap": null,
      "grid_row": null,
      "grid_template_areas": null,
      "grid_template_columns": null,
      "grid_template_rows": null,
      "height": null,
      "justify_content": null,
      "justify_items": null,
      "left": null,
      "margin": null,
      "max_height": null,
      "max_width": null,
      "min_height": null,
      "min_width": null,
      "object_fit": null,
      "object_position": null,
      "order": null,
      "overflow": null,
      "overflow_x": null,
      "overflow_y": null,
      "padding": null,
      "right": null,
      "top": null,
      "visibility": null,
      "width": null
     }
    },
    "b65bebdeda1846bcba8236cc25fd12d2": {
     "model_module": "@jupyter-widgets/controls",
     "model_name": "HBoxModel",
     "state": {
      "_dom_classes": [],
      "_model_module": "@jupyter-widgets/controls",
      "_model_module_version": "1.5.0",
      "_model_name": "HBoxModel",
      "_view_count": null,
      "_view_module": "@jupyter-widgets/controls",
      "_view_module_version": "1.5.0",
      "_view_name": "HBoxView",
      "box_style": "",
      "children": [
       "IPY_MODEL_8b1ec583a60b4a97abacefc265d2754d",
       "IPY_MODEL_da28fa9518fe4a5588a4e971e438e5ab"
      ],
      "layout": "IPY_MODEL_eff6f33ab7fc4f579915bd060140248b"
     }
    },
    "ba21bb23948e49ca8feec58322d5da27": {
     "model_module": "@jupyter-widgets/controls",
     "model_name": "DescriptionStyleModel",
     "state": {
      "_model_module": "@jupyter-widgets/controls",
      "_model_module_version": "1.5.0",
      "_model_name": "DescriptionStyleModel",
      "_view_count": null,
      "_view_module": "@jupyter-widgets/base",
      "_view_module_version": "1.2.0",
      "_view_name": "StyleView",
      "description_width": ""
     }
    },
    "c02b15854157488ca3449ef902052f58": {
     "model_module": "@jupyter-widgets/controls",
     "model_name": "FloatProgressModel",
     "state": {
      "_dom_classes": [],
      "_model_module": "@jupyter-widgets/controls",
      "_model_module_version": "1.5.0",
      "_model_name": "FloatProgressModel",
      "_view_count": null,
      "_view_module": "@jupyter-widgets/controls",
      "_view_module_version": "1.5.0",
      "_view_name": "ProgressView",
      "bar_style": "success",
      "description": "Downloading: 100%",
      "description_tooltip": null,
      "layout": "IPY_MODEL_3dea6cbb958445a6abf2c3a937bb59a3",
      "max": 1042301,
      "min": 0,
      "orientation": "horizontal",
      "style": "IPY_MODEL_212b49e6ee8247cbb841390a2e025d2f",
      "value": 1042301
     }
    },
    "c596e074381c41dbb18b86495f4b68c0": {
     "model_module": "@jupyter-widgets/base",
     "model_name": "LayoutModel",
     "state": {
      "_model_module": "@jupyter-widgets/base",
      "_model_module_version": "1.2.0",
      "_model_name": "LayoutModel",
      "_view_count": null,
      "_view_module": "@jupyter-widgets/base",
      "_view_module_version": "1.2.0",
      "_view_name": "LayoutView",
      "align_content": null,
      "align_items": null,
      "align_self": null,
      "border": null,
      "bottom": null,
      "display": null,
      "flex": null,
      "flex_flow": null,
      "grid_area": null,
      "grid_auto_columns": null,
      "grid_auto_flow": null,
      "grid_auto_rows": null,
      "grid_column": null,
      "grid_gap": null,
      "grid_row": null,
      "grid_template_areas": null,
      "grid_template_columns": null,
      "grid_template_rows": null,
      "height": null,
      "justify_content": null,
      "justify_items": null,
      "left": null,
      "margin": null,
      "max_height": null,
      "max_width": null,
      "min_height": null,
      "min_width": null,
      "object_fit": null,
      "object_position": null,
      "order": null,
      "overflow": null,
      "overflow_x": null,
      "overflow_y": null,
      "padding": null,
      "right": null,
      "top": null,
      "visibility": null,
      "width": null
     }
    },
    "c6d565b6e2dd41ea8dffac13387d1a8c": {
     "model_module": "@jupyter-widgets/base",
     "model_name": "LayoutModel",
     "state": {
      "_model_module": "@jupyter-widgets/base",
      "_model_module_version": "1.2.0",
      "_model_name": "LayoutModel",
      "_view_count": null,
      "_view_module": "@jupyter-widgets/base",
      "_view_module_version": "1.2.0",
      "_view_name": "LayoutView",
      "align_content": null,
      "align_items": null,
      "align_self": null,
      "border": null,
      "bottom": null,
      "display": null,
      "flex": null,
      "flex_flow": null,
      "grid_area": null,
      "grid_auto_columns": null,
      "grid_auto_flow": null,
      "grid_auto_rows": null,
      "grid_column": null,
      "grid_gap": null,
      "grid_row": null,
      "grid_template_areas": null,
      "grid_template_columns": null,
      "grid_template_rows": null,
      "height": null,
      "justify_content": null,
      "justify_items": null,
      "left": null,
      "margin": null,
      "max_height": null,
      "max_width": null,
      "min_height": null,
      "min_width": null,
      "object_fit": null,
      "object_position": null,
      "order": null,
      "overflow": null,
      "overflow_x": null,
      "overflow_y": null,
      "padding": null,
      "right": null,
      "top": null,
      "visibility": null,
      "width": null
     }
    },
    "cbb1282b16c043df878e64877210ef09": {
     "model_module": "@jupyter-widgets/base",
     "model_name": "LayoutModel",
     "state": {
      "_model_module": "@jupyter-widgets/base",
      "_model_module_version": "1.2.0",
      "_model_name": "LayoutModel",
      "_view_count": null,
      "_view_module": "@jupyter-widgets/base",
      "_view_module_version": "1.2.0",
      "_view_name": "LayoutView",
      "align_content": null,
      "align_items": null,
      "align_self": null,
      "border": null,
      "bottom": null,
      "display": null,
      "flex": null,
      "flex_flow": null,
      "grid_area": null,
      "grid_auto_columns": null,
      "grid_auto_flow": null,
      "grid_auto_rows": null,
      "grid_column": null,
      "grid_gap": null,
      "grid_row": null,
      "grid_template_areas": null,
      "grid_template_columns": null,
      "grid_template_rows": null,
      "height": null,
      "justify_content": null,
      "justify_items": null,
      "left": null,
      "margin": null,
      "max_height": null,
      "max_width": null,
      "min_height": null,
      "min_width": null,
      "object_fit": null,
      "object_position": null,
      "order": null,
      "overflow": null,
      "overflow_x": null,
      "overflow_y": null,
      "padding": null,
      "right": null,
      "top": null,
      "visibility": null,
      "width": null
     }
    },
    "da28fa9518fe4a5588a4e971e438e5ab": {
     "model_module": "@jupyter-widgets/controls",
     "model_name": "HTMLModel",
     "state": {
      "_dom_classes": [],
      "_model_module": "@jupyter-widgets/controls",
      "_model_module_version": "1.5.0",
      "_model_name": "HTMLModel",
      "_view_count": null,
      "_view_module": "@jupyter-widgets/controls",
      "_view_module_version": "1.5.0",
      "_view_name": "HTMLView",
      "description": "",
      "description_tooltip": null,
      "layout": "IPY_MODEL_87ce8f9ad88c4348b562322852543145",
      "placeholder": "​",
      "style": "IPY_MODEL_980da68a40ab407998d666bdcc5556ad",
      "value": " 456k/456k [00:00&lt;00:00, 1.33MB/s]"
     }
    },
    "dbf9d9e88ac5486c97238d2a5a964610": {
     "model_module": "@jupyter-widgets/base",
     "model_name": "LayoutModel",
     "state": {
      "_model_module": "@jupyter-widgets/base",
      "_model_module_version": "1.2.0",
      "_model_name": "LayoutModel",
      "_view_count": null,
      "_view_module": "@jupyter-widgets/base",
      "_view_module_version": "1.2.0",
      "_view_name": "LayoutView",
      "align_content": null,
      "align_items": null,
      "align_self": null,
      "border": null,
      "bottom": null,
      "display": null,
      "flex": null,
      "flex_flow": null,
      "grid_area": null,
      "grid_auto_columns": null,
      "grid_auto_flow": null,
      "grid_auto_rows": null,
      "grid_column": null,
      "grid_gap": null,
      "grid_row": null,
      "grid_template_areas": null,
      "grid_template_columns": null,
      "grid_template_rows": null,
      "height": null,
      "justify_content": null,
      "justify_items": null,
      "left": null,
      "margin": null,
      "max_height": null,
      "max_width": null,
      "min_height": null,
      "min_width": null,
      "object_fit": null,
      "object_position": null,
      "order": null,
      "overflow": null,
      "overflow_x": null,
      "overflow_y": null,
      "padding": null,
      "right": null,
      "top": null,
      "visibility": null,
      "width": null
     }
    },
    "e05eebbf90e548db9c8dafacd2097017": {
     "model_module": "@jupyter-widgets/base",
     "model_name": "LayoutModel",
     "state": {
      "_model_module": "@jupyter-widgets/base",
      "_model_module_version": "1.2.0",
      "_model_name": "LayoutModel",
      "_view_count": null,
      "_view_module": "@jupyter-widgets/base",
      "_view_module_version": "1.2.0",
      "_view_name": "LayoutView",
      "align_content": null,
      "align_items": null,
      "align_self": null,
      "border": null,
      "bottom": null,
      "display": null,
      "flex": null,
      "flex_flow": null,
      "grid_area": null,
      "grid_auto_columns": null,
      "grid_auto_flow": null,
      "grid_auto_rows": null,
      "grid_column": null,
      "grid_gap": null,
      "grid_row": null,
      "grid_template_areas": null,
      "grid_template_columns": null,
      "grid_template_rows": null,
      "height": null,
      "justify_content": null,
      "justify_items": null,
      "left": null,
      "margin": null,
      "max_height": null,
      "max_width": null,
      "min_height": null,
      "min_width": null,
      "object_fit": null,
      "object_position": null,
      "order": null,
      "overflow": null,
      "overflow_x": null,
      "overflow_y": null,
      "padding": null,
      "right": null,
      "top": null,
      "visibility": null,
      "width": null
     }
    },
    "e0770829308441f2b7654eafdd115f47": {
     "model_module": "@jupyter-widgets/controls",
     "model_name": "HTMLModel",
     "state": {
      "_dom_classes": [],
      "_model_module": "@jupyter-widgets/controls",
      "_model_module_version": "1.5.0",
      "_model_name": "HTMLModel",
      "_view_count": null,
      "_view_module": "@jupyter-widgets/controls",
      "_view_module_version": "1.5.0",
      "_view_name": "HTMLView",
      "description": "",
      "description_tooltip": null,
      "layout": "IPY_MODEL_dbf9d9e88ac5486c97238d2a5a964610",
      "placeholder": "​",
      "style": "IPY_MODEL_ba21bb23948e49ca8feec58322d5da27",
      "value": " 480/480 [00:00&lt;00:00, 485B/s]"
     }
    },
    "e15d16e5b9d54b6181b6e3dd104f3422": {
     "model_module": "@jupyter-widgets/base",
     "model_name": "LayoutModel",
     "state": {
      "_model_module": "@jupyter-widgets/base",
      "_model_module_version": "1.2.0",
      "_model_name": "LayoutModel",
      "_view_count": null,
      "_view_module": "@jupyter-widgets/base",
      "_view_module_version": "1.2.0",
      "_view_name": "LayoutView",
      "align_content": null,
      "align_items": null,
      "align_self": null,
      "border": null,
      "bottom": null,
      "display": null,
      "flex": null,
      "flex_flow": null,
      "grid_area": null,
      "grid_auto_columns": null,
      "grid_auto_flow": null,
      "grid_auto_rows": null,
      "grid_column": null,
      "grid_gap": null,
      "grid_row": null,
      "grid_template_areas": null,
      "grid_template_columns": null,
      "grid_template_rows": null,
      "height": null,
      "justify_content": null,
      "justify_items": null,
      "left": null,
      "margin": null,
      "max_height": null,
      "max_width": null,
      "min_height": null,
      "min_width": null,
      "object_fit": null,
      "object_position": null,
      "order": null,
      "overflow": null,
      "overflow_x": null,
      "overflow_y": null,
      "padding": null,
      "right": null,
      "top": null,
      "visibility": null,
      "width": null
     }
    },
    "e4d6b4436bc04327a9693aa4a518d0d3": {
     "model_module": "@jupyter-widgets/base",
     "model_name": "LayoutModel",
     "state": {
      "_model_module": "@jupyter-widgets/base",
      "_model_module_version": "1.2.0",
      "_model_name": "LayoutModel",
      "_view_count": null,
      "_view_module": "@jupyter-widgets/base",
      "_view_module_version": "1.2.0",
      "_view_name": "LayoutView",
      "align_content": null,
      "align_items": null,
      "align_self": null,
      "border": null,
      "bottom": null,
      "display": null,
      "flex": null,
      "flex_flow": null,
      "grid_area": null,
      "grid_auto_columns": null,
      "grid_auto_flow": null,
      "grid_auto_rows": null,
      "grid_column": null,
      "grid_gap": null,
      "grid_row": null,
      "grid_template_areas": null,
      "grid_template_columns": null,
      "grid_template_rows": null,
      "height": null,
      "justify_content": null,
      "justify_items": null,
      "left": null,
      "margin": null,
      "max_height": null,
      "max_width": null,
      "min_height": null,
      "min_width": null,
      "object_fit": null,
      "object_position": null,
      "order": null,
      "overflow": null,
      "overflow_x": null,
      "overflow_y": null,
      "padding": null,
      "right": null,
      "top": null,
      "visibility": null,
      "width": null
     }
    },
    "eff6f33ab7fc4f579915bd060140248b": {
     "model_module": "@jupyter-widgets/base",
     "model_name": "LayoutModel",
     "state": {
      "_model_module": "@jupyter-widgets/base",
      "_model_module_version": "1.2.0",
      "_model_name": "LayoutModel",
      "_view_count": null,
      "_view_module": "@jupyter-widgets/base",
      "_view_module_version": "1.2.0",
      "_view_name": "LayoutView",
      "align_content": null,
      "align_items": null,
      "align_self": null,
      "border": null,
      "bottom": null,
      "display": null,
      "flex": null,
      "flex_flow": null,
      "grid_area": null,
      "grid_auto_columns": null,
      "grid_auto_flow": null,
      "grid_auto_rows": null,
      "grid_column": null,
      "grid_gap": null,
      "grid_row": null,
      "grid_template_areas": null,
      "grid_template_columns": null,
      "grid_template_rows": null,
      "height": null,
      "justify_content": null,
      "justify_items": null,
      "left": null,
      "margin": null,
      "max_height": null,
      "max_width": null,
      "min_height": null,
      "min_width": null,
      "object_fit": null,
      "object_position": null,
      "order": null,
      "overflow": null,
      "overflow_x": null,
      "overflow_y": null,
      "padding": null,
      "right": null,
      "top": null,
      "visibility": null,
      "width": null
     }
    },
    "fa00dd172ae94cfb9eba4e3b1f62eb46": {
     "model_module": "@jupyter-widgets/controls",
     "model_name": "ProgressStyleModel",
     "state": {
      "_model_module": "@jupyter-widgets/controls",
      "_model_module_version": "1.5.0",
      "_model_name": "ProgressStyleModel",
      "_view_count": null,
      "_view_module": "@jupyter-widgets/base",
      "_view_module_version": "1.2.0",
      "_view_name": "StyleView",
      "bar_color": null,
      "description_width": "initial"
     }
    },
    "ff4533a2b54b47d9a6c7380c4bc2fab5": {
     "model_module": "@jupyter-widgets/controls",
     "model_name": "ProgressStyleModel",
     "state": {
      "_model_module": "@jupyter-widgets/controls",
      "_model_module_version": "1.5.0",
      "_model_name": "ProgressStyleModel",
      "_view_count": null,
      "_view_module": "@jupyter-widgets/base",
      "_view_module_version": "1.2.0",
      "_view_name": "StyleView",
      "bar_color": null,
      "description_width": "initial"
     }
    }
   }
  }
 },
 "nbformat": 4,
 "nbformat_minor": 1
}
