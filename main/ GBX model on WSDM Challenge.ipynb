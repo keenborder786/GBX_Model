{
 "cells": [
  {
   "cell_type": "markdown",
   "metadata": {
    "colab_type": "text",
    "id": "wUKBnQSXbF3T"
   },
   "source": [
    "# GBX model on WSMD\n"
   ]
  },
  {
   "cell_type": "code",
   "execution_count": 6,
   "metadata": {
    "colab": {},
    "colab_type": "code",
    "executionInfo": {
     "elapsed": 1831,
     "status": "ok",
     "timestamp": 1599779903730,
     "user": {
      "displayName": "Ur Tech Guide",
      "photoUrl": "https://lh3.googleusercontent.com/a-/AOh14GhBjMoWnc1KwT73B6hzAbvnSIxnZAl5PY9n_RGJ0w=s64",
      "userId": "03152431167485721857"
     },
     "user_tz": -300
    },
    "id": "hEw37FN6cDmp"
   },
   "outputs": [],
   "source": [
    "from google.colab import drive\n",
    "drive.mount('/content/drive')"
   ]
  },
  {
   "cell_type": "markdown",
   "metadata": {},
   "source": [
    "# Requirements to Run the Notebook"
   ]
  },
  {
   "cell_type": "code",
   "execution_count": 7,
   "metadata": {
    "colab": {
     "base_uri": "https://localhost:8080/",
     "height": 649
    },
    "colab_type": "code",
    "executionInfo": {
     "elapsed": 11733,
     "status": "ok",
     "timestamp": 1599779913698,
     "user": {
      "displayName": "Ur Tech Guide",
      "photoUrl": "https://lh3.googleusercontent.com/a-/AOh14GhBjMoWnc1KwT73B6hzAbvnSIxnZAl5PY9n_RGJ0w=s64",
      "userId": "03152431167485721857"
     },
     "user_tz": -300
    },
    "id": "e6kGjjDNPb1c",
    "outputId": "3b4c996c-5d1d-4323-aa33-c8eaa39cc426"
   },
   "outputs": [
    {
     "name": "stdout",
     "output_type": "stream",
     "text": [
      "Collecting transformers\n",
      "  Downloading transformers-4.7.0-py3-none-any.whl (2.5 MB)\n",
      "Requirement already satisfied: packaging in c:\\users\\mohammad.khan\\anaconda3\\lib\\site-packages (from transformers) (20.9)\n",
      "Requirement already satisfied: numpy>=1.17 in c:\\users\\mohammad.khan\\anaconda3\\lib\\site-packages (from transformers) (1.20.2)\n",
      "Requirement already satisfied: regex!=2019.12.17 in c:\\users\\mohammad.khan\\anaconda3\\lib\\site-packages (from transformers) (2021.4.4)\n",
      "Collecting huggingface-hub==0.0.8\n",
      "  Downloading huggingface_hub-0.0.8-py3-none-any.whl (34 kB)\n",
      "Requirement already satisfied: requests in c:\\users\\mohammad.khan\\anaconda3\\lib\\site-packages (from transformers) (2.25.1)\n",
      "Collecting sacremoses\n",
      "  Downloading sacremoses-0.0.45-py3-none-any.whl (895 kB)\n",
      "Collecting tokenizers<0.11,>=0.10.1\n",
      "  Downloading tokenizers-0.10.3-cp38-cp38-win_amd64.whl (2.0 MB)\n",
      "Requirement already satisfied: filelock in c:\\users\\mohammad.khan\\anaconda3\\lib\\site-packages (from transformers) (3.0.12)\n",
      "Requirement already satisfied: tqdm>=4.27 in c:\\users\\mohammad.khan\\anaconda3\\lib\\site-packages (from transformers) (4.59.0)\n",
      "Requirement already satisfied: pyyaml in c:\\users\\mohammad.khan\\anaconda3\\lib\\site-packages (from transformers) (5.4.1)\n",
      "Requirement already satisfied: pyparsing>=2.0.2 in c:\\users\\mohammad.khan\\anaconda3\\lib\\site-packages (from packaging->transformers) (2.4.7)\n",
      "Requirement already satisfied: urllib3<1.27,>=1.21.1 in c:\\users\\mohammad.khan\\anaconda3\\lib\\site-packages (from requests->transformers) (1.26.4)\n",
      "Requirement already satisfied: certifi>=2017.4.17 in c:\\users\\mohammad.khan\\anaconda3\\lib\\site-packages (from requests->transformers) (2021.5.30)\n",
      "Requirement already satisfied: idna<3,>=2.5 in c:\\users\\mohammad.khan\\anaconda3\\lib\\site-packages (from requests->transformers) (2.10)\n",
      "Requirement already satisfied: chardet<5,>=3.0.2 in c:\\users\\mohammad.khan\\anaconda3\\lib\\site-packages (from requests->transformers) (4.0.0)\n",
      "Requirement already satisfied: click in c:\\users\\mohammad.khan\\anaconda3\\lib\\site-packages (from sacremoses->transformers) (8.0.1)\n",
      "Requirement already satisfied: six in c:\\users\\mohammad.khan\\anaconda3\\lib\\site-packages (from sacremoses->transformers) (1.16.0)\n",
      "Requirement already satisfied: joblib in c:\\users\\mohammad.khan\\anaconda3\\lib\\site-packages (from sacremoses->transformers) (1.0.1)\n",
      "Requirement already satisfied: colorama in c:\\users\\mohammad.khan\\anaconda3\\lib\\site-packages (from click->sacremoses->transformers) (0.4.4)\n",
      "Installing collected packages: tokenizers, sacremoses, huggingface-hub, transformers\n",
      "Successfully installed huggingface-hub-0.0.8 sacremoses-0.0.45 tokenizers-0.10.3 transformers-4.7.0\n",
      "Requirement already satisfied: nltk in c:\\users\\mohammad.khan\\anaconda3\\lib\\site-packages (3.6.2)\n",
      "Requirement already satisfied: click in c:\\users\\mohammad.khan\\anaconda3\\lib\\site-packages (from nltk) (8.0.1)\n",
      "Requirement already satisfied: tqdm in c:\\users\\mohammad.khan\\anaconda3\\lib\\site-packages (from nltk) (4.59.0)\n",
      "Requirement already satisfied: joblib in c:\\users\\mohammad.khan\\anaconda3\\lib\\site-packages (from nltk) (1.0.1)\n",
      "Requirement already satisfied: regex in c:\\users\\mohammad.khan\\anaconda3\\lib\\site-packages (from nltk) (2021.4.4)\n",
      "Requirement already satisfied: colorama in c:\\users\\mohammad.khan\\anaconda3\\lib\\site-packages (from click->nltk) (0.4.4)\n",
      "Collecting google\n",
      "  Downloading google-3.0.0-py2.py3-none-any.whl (45 kB)\n",
      "Requirement already satisfied: beautifulsoup4 in c:\\users\\mohammad.khan\\anaconda3\\lib\\site-packages (from google) (4.9.3)\n",
      "Requirement already satisfied: soupsieve>1.2 in c:\\users\\mohammad.khan\\anaconda3\\lib\\site-packages (from beautifulsoup4->google) (2.2.1)\n",
      "Installing collected packages: google\n",
      "Successfully installed google-3.0.0\n"
     ]
    }
   ],
   "source": [
    "!pip install transformers\n",
    "!pip install nltk\n",
    "!pip install gdown"
   ]
  },
  {
   "cell_type": "code",
   "execution_count": 13,
   "metadata": {
    "colab": {
     "base_uri": "https://localhost:8080/",
     "height": 105
    },
    "colab_type": "code",
    "executionInfo": {
     "elapsed": 45777,
     "status": "ok",
     "timestamp": 1599779947947,
     "user": {
      "displayName": "Ur Tech Guide",
      "photoUrl": "https://lh3.googleusercontent.com/a-/AOh14GhBjMoWnc1KwT73B6hzAbvnSIxnZAl5PY9n_RGJ0w=s64",
      "userId": "03152431167485721857"
     },
     "user_tz": -300
    },
    "id": "KrrOl-YiPcPE",
    "outputId": "fd34d489-42c3-42c6-e640-6e730c317703"
   },
   "outputs": [
    {
     "name": "stderr",
     "output_type": "stream",
     "text": [
      "[nltk_data] Downloading package punkt to\n",
      "[nltk_data]     C:\\Users\\Mohammad.Khan\\AppData\\Roaming\\nltk_data...\n",
      "[nltk_data]   Package punkt is already up-to-date!\n"
     ]
    }
   ],
   "source": [
    "# the OG \n",
    "import numpy as np \n",
    "import pandas as pd \n",
    "import seaborn as sns\n",
    "import matplotlib.pyplot as plt\n",
    "import matplotlib as mpl\n",
    "from matplotlib import style\n",
    "\n",
    "\n",
    "# Sklearn\n",
    "from sklearn.model_selection import train_test_split\n",
    "from sklearn.metrics import *\n",
    "from sklearn.utils.class_weight import compute_class_weight\n",
    "\n",
    "#NLP Specifics\n",
    "from nltk import word_tokenize\n",
    "import nltk\n",
    "from tokenizers import BertWordPieceTokenizer\n",
    "from transformers import (AdamW,get_linear_schedule_with_warmup,get_cosine_schedule_with_warmup,RobertaTokenizerFast,DistilBertTokenizerFast,PreTrainedTokenizerFast,AutoModel,\n",
    "                          DistilBertTokenizerFast,GPT2TokenizerFast,AutoTokenizer,BertTokenizer,TFBertModel,TFOpenAIGPTModel,OpenAIGPTTokenizer,DistilBertTokenizer, TFDistilBertModel,XLMTokenizer, TFXLMModel,TFBertForSequenceClassification,TFGPT2Model,TFXLMRobertaModel)\n",
    "\n",
    "#tensorflow\n",
    "import tensorflow as tf\n",
    "import tensorflow_hub as hub\n",
    "from tensorflow.keras.preprocessing.text import Tokenizer\n",
    "from tensorflow.keras.preprocessing.sequence import pad_sequences\n",
    "from tensorflow.keras.models import Sequential\n",
    "from tensorflow.keras.layers import *\n",
    "from tensorflow.keras.initializers import Constant\n",
    "\n",
    "#other imports\n",
    "import urllib\n",
    "import os\n",
    "import gc\n",
    "from tqdm import tqdm\n",
    "import re\n",
    "import random\n",
    "from typing import Callable, List, Optional, Union\n",
    "\n",
    "\n",
    "nltk.download('punkt')\n",
    "style.use('ggplot')\n",
    "MAX_LEN=256"
   ]
  },
  {
   "cell_type": "code",
   "execution_count": 14,
   "metadata": {
    "colab": {},
    "colab_type": "code",
    "executionInfo": {
     "elapsed": 45768,
     "status": "ok",
     "timestamp": 1599779947949,
     "user": {
      "displayName": "Ur Tech Guide",
      "photoUrl": "https://lh3.googleusercontent.com/a-/AOh14GhBjMoWnc1KwT73B6hzAbvnSIxnZAl5PY9n_RGJ0w=s64",
      "userId": "03152431167485721857"
     },
     "user_tz": -300
    },
    "id": "AsCpkzG-ep9K"
   },
   "outputs": [],
   "source": [
    "def seed_everything(seed):\n",
    "  random.seed(seed)\n",
    "  tf.compat.v1.set_random_seed(seed)\n",
    "  tf.random.set_seed(seed)\n",
    "seed_everything(123)"
   ]
  },
  {
   "cell_type": "code",
   "execution_count": 11,
   "metadata": {},
   "outputs": [
    {
     "name": "stderr",
     "output_type": "stream",
     "text": [
      "Downloading...\n",
      "From: https://drive.google.com/uc?id=1-3ma4OUj19kwprcmdeZW8eQ6i_5LSFv1\n",
      "To: C:\\Users\\Mohammad.Khan\\Anaconda3\\libs\\GBX_Model\\main\\WSDM_data\\test.csv\n",
      "\n",
      "0.00B [00:00, ?B/s]\n",
      "524kB [00:01, 398kB/s]\n",
      "1.05MB [00:01, 673kB/s]\n",
      "1.57MB [00:02, 568kB/s]\n",
      "2.10MB [00:04, 478kB/s]\n",
      "2.62MB [00:04, 641kB/s]\n",
      "3.15MB [00:04, 814kB/s]\n",
      "3.67MB [00:05, 963kB/s]\n",
      "4.19MB [00:05, 1.13MB/s]\n",
      "4.72MB [00:05, 1.18MB/s]\n",
      "5.24MB [00:06, 1.42MB/s]\n",
      "5.77MB [00:06, 1.59MB/s]\n",
      "6.29MB [00:06, 1.71MB/s]\n",
      "6.82MB [00:06, 1.66MB/s]\n",
      "7.34MB [00:08, 824kB/s] \n",
      "7.86MB [00:08, 1.01MB/s]\n",
      "8.39MB [00:08, 1.22MB/s]\n",
      "8.91MB [00:08, 1.45MB/s]\n",
      "9.44MB [00:09, 1.49MB/s]\n",
      "9.96MB [00:09, 1.41MB/s]\n",
      "10.5MB [00:10, 1.36MB/s]\n",
      "11.0MB [00:10, 1.46MB/s]\n",
      "11.5MB [00:10, 1.57MB/s]\n",
      "12.1MB [00:10, 1.73MB/s]\n",
      "12.6MB [00:11, 1.80MB/s]\n",
      "13.1MB [00:11, 1.94MB/s]\n",
      "13.6MB [00:11, 2.05MB/s]\n",
      "14.2MB [00:12, 1.72MB/s]\n",
      "14.7MB [00:14, 566kB/s] \n",
      "15.2MB [00:18, 275kB/s]\n",
      "15.7MB [00:20, 297kB/s]\n",
      "16.3MB [00:20, 402kB/s]\n",
      "16.8MB [00:21, 431kB/s]\n",
      "17.3MB [00:24, 281kB/s]\n",
      "17.8MB [00:25, 339kB/s]\n",
      "18.4MB [00:27, 338kB/s]\n",
      "18.9MB [00:27, 417kB/s]\n",
      "19.4MB [00:30, 286kB/s]\n",
      "19.9MB [00:31, 347kB/s]\n",
      "20.4MB [00:32, 382kB/s]\n",
      "21.0MB [00:34, 360kB/s]\n",
      "21.5MB [00:35, 390kB/s]\n",
      "22.0MB [00:35, 475kB/s]\n",
      "22.5MB [00:36, 577kB/s]\n",
      "23.1MB [00:38, 393kB/s]\n",
      "23.6MB [00:38, 536kB/s]\n",
      "24.1MB [00:39, 521kB/s]\n",
      "24.6MB [00:40, 639kB/s]\n",
      "25.2MB [00:40, 728kB/s]\n",
      "25.7MB [00:41, 806kB/s]\n",
      "26.2MB [00:41, 930kB/s]\n",
      "26.7MB [00:41, 1.02MB/s]\n",
      "27.3MB [00:42, 808kB/s] \n",
      "27.8MB [00:43, 901kB/s]\n",
      "28.3MB [00:43, 1.06MB/s]\n",
      "28.8MB [00:44, 1.14MB/s]\n",
      "28.9MB [00:44, 656kB/s] \n",
      "Downloading...\n",
      "From: https://drive.google.com/uc?id=1--7C4t4FCT1279e6Islk51InQgmcanYq\n",
      "To: C:\\Users\\Mohammad.Khan\\Anaconda3\\libs\\GBX_Model\\main\\WSDM_data\\train.csv\n",
      "\n",
      "0.00B [00:00, ?B/s]\n",
      "524kB [00:00, 994kB/s]\n",
      "1.05MB [00:00, 1.27MB/s]\n",
      "1.57MB [00:01, 1.65MB/s]\n",
      "2.10MB [00:01, 1.55MB/s]\n",
      "2.62MB [00:02, 1.14MB/s]\n",
      "3.15MB [00:02, 1.36MB/s]\n",
      "3.67MB [00:02, 1.20MB/s]\n",
      "4.19MB [00:03, 1.33MB/s]\n",
      "4.72MB [00:03, 1.40MB/s]\n",
      "5.24MB [00:07, 391kB/s] \n",
      "5.77MB [00:07, 477kB/s]\n",
      "6.29MB [00:10, 294kB/s]\n",
      "6.82MB [00:11, 362kB/s]\n",
      "7.34MB [00:11, 488kB/s]\n",
      "7.86MB [00:12, 647kB/s]\n",
      "8.39MB [00:12, 827kB/s]\n",
      "8.91MB [00:12, 799kB/s]\n",
      "9.44MB [00:14, 674kB/s]\n",
      "9.96MB [00:14, 695kB/s]\n",
      "10.5MB [00:15, 810kB/s]\n",
      "11.0MB [00:15, 1.00MB/s]\n",
      "11.5MB [00:16, 830kB/s] \n",
      "12.1MB [00:16, 1.04MB/s]\n",
      "12.6MB [00:16, 1.02MB/s]\n",
      "13.1MB [00:17, 1.19MB/s]\n",
      "13.6MB [00:17, 1.23MB/s]\n",
      "14.2MB [00:23, 245kB/s] \n",
      "14.7MB [00:27, 204kB/s]\n",
      "15.2MB [00:28, 251kB/s]\n",
      "15.7MB [00:31, 226kB/s]\n",
      "16.3MB [00:31, 296kB/s]\n",
      "16.8MB [00:31, 402kB/s]\n",
      "17.3MB [00:32, 530kB/s]\n",
      "17.8MB [00:33, 426kB/s]\n",
      "18.4MB [00:34, 493kB/s]\n",
      "18.9MB [00:34, 630kB/s]\n",
      "19.4MB [00:35, 680kB/s]\n",
      "20.4MB [00:35, 1.12MB/s]\n",
      "21.0MB [00:36, 1.18MB/s]\n",
      "21.5MB [00:36, 1.37MB/s]\n",
      "22.0MB [00:36, 1.59MB/s]\n",
      "22.5MB [00:36, 1.83MB/s]\n",
      "23.1MB [00:36, 2.00MB/s]\n",
      "23.6MB [00:37, 1.63MB/s]\n",
      "24.1MB [00:37, 1.31MB/s]\n",
      "25.2MB [00:38, 1.80MB/s]\n",
      "25.7MB [00:40, 650kB/s] \n",
      "26.2MB [00:42, 532kB/s]\n",
      "26.7MB [00:42, 557kB/s]\n",
      "27.3MB [00:45, 390kB/s]\n",
      "27.8MB [00:45, 474kB/s]\n",
      "28.3MB [00:46, 614kB/s]\n",
      "28.8MB [00:46, 794kB/s]\n",
      "29.4MB [00:46, 1.02MB/s]\n",
      "29.9MB [00:46, 1.08MB/s]\n",
      "30.4MB [00:48, 707kB/s] \n",
      "30.9MB [00:50, 445kB/s]\n",
      "31.5MB [00:52, 367kB/s]\n",
      "32.0MB [00:53, 440kB/s]\n",
      "32.5MB [00:56, 299kB/s]\n",
      "33.0MB [00:56, 371kB/s]\n",
      "33.6MB [00:57, 452kB/s]\n",
      "34.1MB [00:58, 461kB/s]\n",
      "34.6MB [01:01, 289kB/s]\n",
      "35.1MB [01:02, 368kB/s]\n",
      "35.7MB [01:02, 466kB/s]\n",
      "36.2MB [01:03, 586kB/s]\n",
      "36.7MB [01:03, 725kB/s]\n",
      "37.2MB [01:03, 881kB/s]\n",
      "37.7MB [01:03, 1.07MB/s]\n",
      "38.3MB [01:04, 1.23MB/s]\n",
      "38.8MB [01:04, 1.37MB/s]\n",
      "39.3MB [01:04, 1.59MB/s]\n",
      "39.8MB [01:05, 1.51MB/s]\n",
      "40.4MB [01:05, 1.22MB/s]\n",
      "40.9MB [01:06, 1.10MB/s]\n",
      "41.4MB [01:06, 1.33MB/s]\n",
      "41.9MB [01:06, 1.49MB/s]\n",
      "42.5MB [01:06, 1.75MB/s]\n",
      "43.0MB [01:07, 1.98MB/s]\n",
      "43.5MB [01:07, 2.10MB/s]\n",
      "44.0MB [01:07, 2.46MB/s]\n",
      "44.6MB [01:07, 1.97MB/s]\n",
      "45.1MB [01:10, 515kB/s] \n",
      "45.6MB [01:11, 583kB/s]\n",
      "46.1MB [01:12, 563kB/s]\n",
      "46.7MB [01:13, 604kB/s]\n",
      "47.2MB [01:13, 798kB/s]\n",
      "47.7MB [01:13, 981kB/s]\n",
      "48.2MB [01:13, 1.14MB/s]\n",
      "48.8MB [01:13, 1.32MB/s]\n",
      "49.3MB [01:14, 1.53MB/s]\n",
      "49.8MB [01:14, 1.40MB/s]\n",
      "50.3MB [01:14, 1.46MB/s]\n",
      "50.9MB [01:15, 1.12MB/s]\n",
      "51.4MB [01:16, 1.09MB/s]\n",
      "51.9MB [01:16, 1.18MB/s]\n",
      "52.4MB [01:16, 1.36MB/s]\n",
      "53.0MB [01:17, 1.29MB/s]\n",
      "53.5MB [01:17, 1.47MB/s]\n",
      "54.0MB [01:17, 1.60MB/s]\n",
      "54.5MB [01:17, 1.94MB/s]\n",
      "55.1MB [01:18, 1.78MB/s]\n",
      "55.6MB [01:21, 497kB/s] \n",
      "56.1MB [01:21, 552kB/s]\n",
      "56.6MB [01:22, 559kB/s]\n",
      "57.1MB [01:26, 281kB/s]\n",
      "57.7MB [01:29, 245kB/s]\n",
      "58.2MB [01:30, 306kB/s]\n",
      "58.7MB [01:30, 415kB/s]\n",
      "59.2MB [01:30, 522kB/s]\n",
      "59.8MB [01:31, 604kB/s]\n",
      "60.3MB [01:31, 735kB/s]\n",
      "60.8MB [01:32, 876kB/s]\n",
      "61.3MB [01:32, 928kB/s]\n",
      "61.9MB [01:32, 1.10MB/s]\n",
      "62.4MB [01:33, 1.26MB/s]\n",
      "62.9MB [01:33, 1.44MB/s]\n",
      "63.4MB [01:33, 1.60MB/s]\n",
      "64.0MB [01:33, 1.51MB/s]\n",
      "64.5MB [01:34, 1.74MB/s]\n",
      "65.0MB [01:34, 1.81MB/s]\n",
      "65.5MB [01:34, 1.71MB/s]\n",
      "66.1MB [01:35, 1.61MB/s]\n",
      "66.6MB [01:35, 1.87MB/s]\n",
      "67.1MB [01:35, 2.07MB/s]\n",
      "67.6MB [01:35, 2.18MB/s]\n",
      "68.2MB [01:35, 2.35MB/s]\n",
      "68.7MB [01:36, 2.45MB/s]\n",
      "69.2MB [01:36, 2.48MB/s]\n",
      "69.7MB [01:36, 2.39MB/s]\n",
      "70.3MB [01:36, 2.42MB/s]\n",
      "70.8MB [01:36, 2.62MB/s]\n",
      "71.3MB [01:37, 2.76MB/s]\n",
      "71.8MB [01:37, 2.05MB/s]\n",
      "72.4MB [01:37, 2.33MB/s]\n",
      "72.9MB [01:37, 2.57MB/s]\n",
      "73.4MB [01:37, 2.71MB/s]\n",
      "73.9MB [01:38, 2.40MB/s]\n",
      "74.4MB [01:38, 2.45MB/s]\n",
      "75.0MB [01:38, 2.67MB/s]\n",
      "75.5MB [01:38, 2.80MB/s]\n",
      "76.0MB [01:38, 2.94MB/s]\n",
      "76.5MB [01:39, 3.00MB/s]\n",
      "77.1MB [01:39, 3.03MB/s]\n",
      "77.6MB [01:39, 2.87MB/s]\n",
      "78.1MB [01:39, 2.94MB/s]\n",
      "78.6MB [01:39, 2.71MB/s]\n",
      "79.2MB [01:40, 2.81MB/s]\n",
      "79.7MB [01:40, 2.99MB/s]\n",
      "80.2MB [01:40, 3.29MB/s]\n",
      "80.7MB [01:40, 3.23MB/s]\n",
      "81.3MB [01:40, 3.27MB/s]\n",
      "81.8MB [01:40, 3.43MB/s]\n",
      "82.3MB [01:40, 3.38MB/s]\n",
      "82.8MB [01:41, 1.60MB/s]\n",
      "83.4MB [01:43, 722kB/s] \n",
      "83.9MB [01:44, 593kB/s]\n",
      "84.4MB [01:45, 647kB/s]\n",
      "84.9MB [01:45, 801kB/s]\n",
      "85.5MB [01:45, 1.04MB/s]\n",
      "86.0MB [01:45, 1.29MB/s]\n",
      "86.5MB [01:45, 1.57MB/s]\n",
      "87.0MB [01:46, 1.77MB/s]\n",
      "87.6MB [01:46, 1.85MB/s]\n",
      "88.1MB [01:47, 1.34MB/s]\n",
      "88.6MB [01:47, 1.55MB/s]\n",
      "89.1MB [01:47, 1.91MB/s]\n",
      "89.7MB [01:47, 2.03MB/s]\n",
      "90.2MB [01:47, 2.37MB/s]\n",
      "90.7MB [01:47, 2.41MB/s]\n",
      "91.2MB [01:48, 2.53MB/s]\n",
      "91.8MB [01:48, 2.53MB/s]\n",
      "92.3MB [01:48, 2.31MB/s]\n",
      "92.8MB [01:48, 2.28MB/s]\n",
      "93.3MB [01:49, 2.29MB/s]\n",
      "93.8MB [01:49, 1.94MB/s]\n",
      "94.4MB [01:49, 1.78MB/s]\n",
      "94.9MB [01:50, 1.37MB/s]\n",
      "95.4MB [01:51, 1.09MB/s]\n",
      "95.9MB [01:51, 1.15MB/s]\n",
      "96.5MB [01:51, 1.30MB/s]\n",
      "97.0MB [01:51, 1.61MB/s]\n",
      "97.5MB [01:52, 1.83MB/s]\n",
      "98.0MB [01:52, 1.97MB/s]\n",
      "98.6MB [01:52, 1.47MB/s]\n",
      "99.1MB [01:53, 1.17MB/s]\n",
      "99.6MB [01:54, 842kB/s] \n",
      "100MB [01:54, 1.05MB/s]\n",
      "101MB [01:54, 1.32MB/s]\n",
      "101MB [01:55, 1.01MB/s]\n",
      "102MB [01:56, 1.09MB/s]\n",
      "102MB [01:56, 1.32MB/s]\n",
      "103MB [01:57, 1.14MB/s]\n",
      "103MB [01:57, 1.33MB/s]\n",
      "104MB [01:57, 1.60MB/s]\n",
      "104MB [01:57, 1.83MB/s]\n",
      "105MB [01:57, 2.00MB/s]\n",
      "105MB [01:57, 2.21MB/s]\n",
      "106MB [01:58, 2.30MB/s]\n",
      "106MB [01:58, 1.82MB/s]\n",
      "107MB [01:58, 2.04MB/s]\n",
      "107MB [01:58, 2.27MB/s]\n",
      "108MB [01:59, 1.67MB/s]\n",
      "109MB [02:01, 720kB/s] \n",
      "109MB [02:02, 683kB/s]\n",
      "110MB [02:02, 895kB/s]\n",
      "110MB [02:03, 738kB/s]\n",
      "111MB [02:03, 971kB/s]\n",
      "111MB [02:03, 1.06MB/s]\n",
      "112MB [02:04, 1.23MB/s]\n",
      "112MB [02:04, 1.27MB/s]\n",
      "113MB [02:04, 1.55MB/s]\n",
      "113MB [02:04, 1.49MB/s]\n",
      "114MB [02:06, 709kB/s] \n",
      "114MB [02:07, 624kB/s]\n",
      "115MB [02:07, 766kB/s]\n",
      "115MB [02:08, 993kB/s]\n",
      "116MB [02:08, 1.16MB/s]\n",
      "116MB [02:08, 1.39MB/s]\n",
      "117MB [02:08, 1.43MB/s]\n",
      "117MB [02:09, 1.62MB/s]\n",
      "118MB [02:09, 1.37MB/s]\n",
      "118MB [02:09, 910kB/s] \n"
     ]
    }
   ],
   "source": [
    "def download_data():\n",
    "    previous_dir=os.getcwd()\n",
    "    if not os.path.isdir(os.getcwd()+\"/WSDM_data\"):\n",
    "        os.mkdir(\"WSDM_data\")\n",
    "    os.chdir(os.getcwd()+\"/WSDM_data\")\n",
    "    !gdown --id 1-3ma4OUj19kwprcmdeZW8eQ6i_5LSFv1 --output test.csv\n",
    "    !gdown --id 1--7C4t4FCT1279e6Islk51InQgmcanYq --output train.csv\n",
    "    os.chdir(previous_dir)\n",
    "download_data()"
   ]
  },
  {
   "cell_type": "code",
   "execution_count": 15,
   "metadata": {
    "colab": {},
    "colab_type": "code",
    "executionInfo": {
     "elapsed": 3235,
     "status": "ok",
     "timestamp": 1599780076555,
     "user": {
      "displayName": "Ur Tech Guide",
      "photoUrl": "https://lh3.googleusercontent.com/a-/AOh14GhBjMoWnc1KwT73B6hzAbvnSIxnZAl5PY9n_RGJ0w=s64",
      "userId": "03152431167485721857"
     },
     "user_tz": -300
    },
    "id": "guCzxnVrPvOj"
   },
   "outputs": [],
   "source": [
    "df_train=pd.read_csv(os.getcwd()+\"/WSDM_data/train.csv\")\n",
    "df_test=pd.read_csv(os.getcwd()+\"/WSDM_data/test.csv\")"
   ]
  },
  {
   "cell_type": "code",
   "execution_count": 16,
   "metadata": {
    "colab": {
     "base_uri": "https://localhost:8080/",
     "height": 85
    },
    "colab_type": "code",
    "executionInfo": {
     "elapsed": 1015,
     "status": "ok",
     "timestamp": 1599780091000,
     "user": {
      "displayName": "Ur Tech Guide",
      "photoUrl": "https://lh3.googleusercontent.com/a-/AOh14GhBjMoWnc1KwT73B6hzAbvnSIxnZAl5PY9n_RGJ0w=s64",
      "userId": "03152431167485721857"
     },
     "user_tz": -300
    },
    "id": "dgBhUqO6UCBQ",
    "outputId": "4db37310-017b-49f9-ce37-ef38a07b1e6d"
   },
   "outputs": [
    {
     "data": {
      "text/plain": [
       "unrelated    219313\n",
       "agreed        92973\n",
       "disagreed      8266\n",
       "Name: label, dtype: int64"
      ]
     },
     "execution_count": 16,
     "metadata": {},
     "output_type": "execute_result"
    }
   ],
   "source": [
    "df_train['label'].value_counts()"
   ]
  },
  {
   "cell_type": "code",
   "execution_count": 17,
   "metadata": {
    "colab": {
     "base_uri": "https://localhost:8080/",
     "height": 357
    },
    "colab_type": "code",
    "executionInfo": {
     "elapsed": 51789,
     "status": "ok",
     "timestamp": 1599779954006,
     "user": {
      "displayName": "Ur Tech Guide",
      "photoUrl": "https://lh3.googleusercontent.com/a-/AOh14GhBjMoWnc1KwT73B6hzAbvnSIxnZAl5PY9n_RGJ0w=s64",
      "userId": "03152431167485721857"
     },
     "user_tz": -300
    },
    "id": "4URhJaK_RN1B",
    "outputId": "3648777d-c460-4572-edcf-c52e9a405b49"
   },
   "outputs": [
    {
     "data": {
      "text/html": [
       "<div>\n",
       "<style scoped>\n",
       "    .dataframe tbody tr th:only-of-type {\n",
       "        vertical-align: middle;\n",
       "    }\n",
       "\n",
       "    .dataframe tbody tr th {\n",
       "        vertical-align: top;\n",
       "    }\n",
       "\n",
       "    .dataframe thead th {\n",
       "        text-align: right;\n",
       "    }\n",
       "</style>\n",
       "<table border=\"1\" class=\"dataframe\">\n",
       "  <thead>\n",
       "    <tr style=\"text-align: right;\">\n",
       "      <th></th>\n",
       "      <th>id</th>\n",
       "      <th>tid1</th>\n",
       "      <th>tid2</th>\n",
       "      <th>title1_zh</th>\n",
       "      <th>title2_zh</th>\n",
       "      <th>title1_en</th>\n",
       "      <th>title2_en</th>\n",
       "      <th>label</th>\n",
       "    </tr>\n",
       "  </thead>\n",
       "  <tbody>\n",
       "    <tr>\n",
       "      <th>0</th>\n",
       "      <td>0</td>\n",
       "      <td>0</td>\n",
       "      <td>1</td>\n",
       "      <td>2017养老保险又新增两项，农村老人人人可申领，你领到了吗</td>\n",
       "      <td>警方辟谣“鸟巢大会每人领5万” 仍有老人坚持进京</td>\n",
       "      <td>There are two new old-age insurance benefits f...</td>\n",
       "      <td>Police disprove \"bird's nest congress each per...</td>\n",
       "      <td>unrelated</td>\n",
       "    </tr>\n",
       "    <tr>\n",
       "      <th>1</th>\n",
       "      <td>3</td>\n",
       "      <td>2</td>\n",
       "      <td>3</td>\n",
       "      <td>\"你不来深圳，早晚你儿子也要来\"，不出10年深圳人均GDP将超香港</td>\n",
       "      <td>深圳GDP首超香港？深圳统计局辟谣：只是差距在缩小</td>\n",
       "      <td>\"If you do not come to Shenzhen, sooner or lat...</td>\n",
       "      <td>Shenzhen's GDP outstrips Hong Kong? Shenzhen S...</td>\n",
       "      <td>unrelated</td>\n",
       "    </tr>\n",
       "    <tr>\n",
       "      <th>2</th>\n",
       "      <td>1</td>\n",
       "      <td>2</td>\n",
       "      <td>4</td>\n",
       "      <td>\"你不来深圳，早晚你儿子也要来\"，不出10年深圳人均GDP将超香港</td>\n",
       "      <td>GDP首超香港？深圳澄清：还差一点点……</td>\n",
       "      <td>\"If you do not come to Shenzhen, sooner or lat...</td>\n",
       "      <td>The GDP overtopped Hong Kong? Shenzhen clarifi...</td>\n",
       "      <td>unrelated</td>\n",
       "    </tr>\n",
       "    <tr>\n",
       "      <th>3</th>\n",
       "      <td>2</td>\n",
       "      <td>2</td>\n",
       "      <td>5</td>\n",
       "      <td>\"你不来深圳，早晚你儿子也要来\"，不出10年深圳人均GDP将超香港</td>\n",
       "      <td>去年深圳GDP首超香港？深圳统计局辟谣：还差611亿</td>\n",
       "      <td>\"If you do not come to Shenzhen, sooner or lat...</td>\n",
       "      <td>Shenzhen's GDP topped Hong Kong last year? She...</td>\n",
       "      <td>unrelated</td>\n",
       "    </tr>\n",
       "    <tr>\n",
       "      <th>4</th>\n",
       "      <td>9</td>\n",
       "      <td>6</td>\n",
       "      <td>7</td>\n",
       "      <td>\"用大蒜鉴别地沟油的方法,怎么鉴别地沟油</td>\n",
       "      <td>吃了30年食用油才知道，一片大蒜轻松鉴别地沟油</td>\n",
       "      <td>\"How to discriminate oil from gutter oil by me...</td>\n",
       "      <td>It took 30 years of cooking oil to know that o...</td>\n",
       "      <td>agreed</td>\n",
       "    </tr>\n",
       "  </tbody>\n",
       "</table>\n",
       "</div>"
      ],
      "text/plain": [
       "   id  tid1  tid2                          title1_zh  \\\n",
       "0   0     0     1      2017养老保险又新增两项，农村老人人人可申领，你领到了吗   \n",
       "1   3     2     3  \"你不来深圳，早晚你儿子也要来\"，不出10年深圳人均GDP将超香港   \n",
       "2   1     2     4  \"你不来深圳，早晚你儿子也要来\"，不出10年深圳人均GDP将超香港   \n",
       "3   2     2     5  \"你不来深圳，早晚你儿子也要来\"，不出10年深圳人均GDP将超香港   \n",
       "4   9     6     7               \"用大蒜鉴别地沟油的方法,怎么鉴别地沟油   \n",
       "\n",
       "                    title2_zh  \\\n",
       "0    警方辟谣“鸟巢大会每人领5万” 仍有老人坚持进京   \n",
       "1   深圳GDP首超香港？深圳统计局辟谣：只是差距在缩小   \n",
       "2        GDP首超香港？深圳澄清：还差一点点……   \n",
       "3  去年深圳GDP首超香港？深圳统计局辟谣：还差611亿   \n",
       "4     吃了30年食用油才知道，一片大蒜轻松鉴别地沟油   \n",
       "\n",
       "                                           title1_en  \\\n",
       "0  There are two new old-age insurance benefits f...   \n",
       "1  \"If you do not come to Shenzhen, sooner or lat...   \n",
       "2  \"If you do not come to Shenzhen, sooner or lat...   \n",
       "3  \"If you do not come to Shenzhen, sooner or lat...   \n",
       "4  \"How to discriminate oil from gutter oil by me...   \n",
       "\n",
       "                                           title2_en      label  \n",
       "0  Police disprove \"bird's nest congress each per...  unrelated  \n",
       "1  Shenzhen's GDP outstrips Hong Kong? Shenzhen S...  unrelated  \n",
       "2  The GDP overtopped Hong Kong? Shenzhen clarifi...  unrelated  \n",
       "3  Shenzhen's GDP topped Hong Kong last year? She...  unrelated  \n",
       "4  It took 30 years of cooking oil to know that o...     agreed  "
      ]
     },
     "execution_count": 17,
     "metadata": {},
     "output_type": "execute_result"
    }
   ],
   "source": [
    "df_train.head()"
   ]
  },
  {
   "cell_type": "code",
   "execution_count": 18,
   "metadata": {
    "colab": {
     "base_uri": "https://localhost:8080/",
     "height": 374
    },
    "colab_type": "code",
    "executionInfo": {
     "elapsed": 51759,
     "status": "ok",
     "timestamp": 1599779954008,
     "user": {
      "displayName": "Ur Tech Guide",
      "photoUrl": "https://lh3.googleusercontent.com/a-/AOh14GhBjMoWnc1KwT73B6hzAbvnSIxnZAl5PY9n_RGJ0w=s64",
      "userId": "03152431167485721857"
     },
     "user_tz": -300
    },
    "id": "8BZLbd9lRSTa",
    "outputId": "25ed6450-a7b0-45fe-fab1-62a065020bb3"
   },
   "outputs": [
    {
     "data": {
      "text/html": [
       "<div>\n",
       "<style scoped>\n",
       "    .dataframe tbody tr th:only-of-type {\n",
       "        vertical-align: middle;\n",
       "    }\n",
       "\n",
       "    .dataframe tbody tr th {\n",
       "        vertical-align: top;\n",
       "    }\n",
       "\n",
       "    .dataframe thead th {\n",
       "        text-align: right;\n",
       "    }\n",
       "</style>\n",
       "<table border=\"1\" class=\"dataframe\">\n",
       "  <thead>\n",
       "    <tr style=\"text-align: right;\">\n",
       "      <th></th>\n",
       "      <th>id</th>\n",
       "      <th>tid1</th>\n",
       "      <th>tid2</th>\n",
       "      <th>title1_zh</th>\n",
       "      <th>title2_zh</th>\n",
       "      <th>title1_en</th>\n",
       "      <th>title2_en</th>\n",
       "    </tr>\n",
       "  </thead>\n",
       "  <tbody>\n",
       "    <tr>\n",
       "      <th>0</th>\n",
       "      <td>321187</td>\n",
       "      <td>167562</td>\n",
       "      <td>59521</td>\n",
       "      <td>萨拉赫人气爆棚!埃及总统大选未参选获百万选票 现任总统压力山大</td>\n",
       "      <td>辟谣！里昂官方否认费基尔加盟利物浦，难道是价格没谈拢？</td>\n",
       "      <td>egypt 's presidential election failed to win m...</td>\n",
       "      <td>Lyon! Lyon officials have denied that Felipe F...</td>\n",
       "    </tr>\n",
       "    <tr>\n",
       "      <th>1</th>\n",
       "      <td>321190</td>\n",
       "      <td>167564</td>\n",
       "      <td>91315</td>\n",
       "      <td>萨达姆被捕后告诫美国的一句话，发人深思</td>\n",
       "      <td>10大最让美国人相信的荒诞谣言，如蜥蜴人掌控着美国</td>\n",
       "      <td>A message from Saddam Hussein after he was cap...</td>\n",
       "      <td>The Top 10 Americans believe that the Lizard M...</td>\n",
       "    </tr>\n",
       "    <tr>\n",
       "      <th>2</th>\n",
       "      <td>321189</td>\n",
       "      <td>167563</td>\n",
       "      <td>167564</td>\n",
       "      <td>萨达姆此项计划没有此国破坏的话，美国还会对伊拉克发动战争吗</td>\n",
       "      <td>萨达姆被捕后告诫美国的一句话，发人深思</td>\n",
       "      <td>Will the United States wage war on Iraq withou...</td>\n",
       "      <td>A message from Saddam Hussein after he was cap...</td>\n",
       "    </tr>\n",
       "    <tr>\n",
       "      <th>3</th>\n",
       "      <td>321193</td>\n",
       "      <td>167564</td>\n",
       "      <td>160994</td>\n",
       "      <td>萨达姆被捕后告诫美国的一句话，发人深思</td>\n",
       "      <td>被绞刑处死的萨达姆是替身？他的此男人举动击破替身谣言！</td>\n",
       "      <td>A message from Saddam Hussein after he was cap...</td>\n",
       "      <td>The hanging Saddam is a surrogate? This man's ...</td>\n",
       "    </tr>\n",
       "    <tr>\n",
       "      <th>4</th>\n",
       "      <td>321191</td>\n",
       "      <td>167564</td>\n",
       "      <td>15084</td>\n",
       "      <td>萨达姆被捕后告诫美国的一句话，发人深思</td>\n",
       "      <td>中国川贝枇杷膏在美国受到热捧？纯属谣言！</td>\n",
       "      <td>A message from Saddam Hussein after he was cap...</td>\n",
       "      <td>Chinese loquat loquat plaster in America? Pure...</td>\n",
       "    </tr>\n",
       "  </tbody>\n",
       "</table>\n",
       "</div>"
      ],
      "text/plain": [
       "       id    tid1    tid2                        title1_zh  \\\n",
       "0  321187  167562   59521  萨拉赫人气爆棚!埃及总统大选未参选获百万选票 现任总统压力山大   \n",
       "1  321190  167564   91315              萨达姆被捕后告诫美国的一句话，发人深思   \n",
       "2  321189  167563  167564    萨达姆此项计划没有此国破坏的话，美国还会对伊拉克发动战争吗   \n",
       "3  321193  167564  160994              萨达姆被捕后告诫美国的一句话，发人深思   \n",
       "4  321191  167564   15084              萨达姆被捕后告诫美国的一句话，发人深思   \n",
       "\n",
       "                     title2_zh  \\\n",
       "0  辟谣！里昂官方否认费基尔加盟利物浦，难道是价格没谈拢？   \n",
       "1    10大最让美国人相信的荒诞谣言，如蜥蜴人掌控着美国   \n",
       "2          萨达姆被捕后告诫美国的一句话，发人深思   \n",
       "3  被绞刑处死的萨达姆是替身？他的此男人举动击破替身谣言！   \n",
       "4         中国川贝枇杷膏在美国受到热捧？纯属谣言！   \n",
       "\n",
       "                                           title1_en  \\\n",
       "0  egypt 's presidential election failed to win m...   \n",
       "1  A message from Saddam Hussein after he was cap...   \n",
       "2  Will the United States wage war on Iraq withou...   \n",
       "3  A message from Saddam Hussein after he was cap...   \n",
       "4  A message from Saddam Hussein after he was cap...   \n",
       "\n",
       "                                           title2_en  \n",
       "0  Lyon! Lyon officials have denied that Felipe F...  \n",
       "1  The Top 10 Americans believe that the Lizard M...  \n",
       "2  A message from Saddam Hussein after he was cap...  \n",
       "3  The hanging Saddam is a surrogate? This man's ...  \n",
       "4  Chinese loquat loquat plaster in America? Pure...  "
      ]
     },
     "execution_count": 18,
     "metadata": {},
     "output_type": "execute_result"
    }
   ],
   "source": [
    "df_test.head()"
   ]
  },
  {
   "cell_type": "code",
   "execution_count": 19,
   "metadata": {
    "colab": {},
    "colab_type": "code",
    "executionInfo": {
     "elapsed": 51756,
     "status": "ok",
     "timestamp": 1599779954013,
     "user": {
      "displayName": "Ur Tech Guide",
      "photoUrl": "https://lh3.googleusercontent.com/a-/AOh14GhBjMoWnc1KwT73B6hzAbvnSIxnZAl5PY9n_RGJ0w=s64",
      "userId": "03152431167485721857"
     },
     "user_tz": -300
    },
    "id": "6CAYD7e3RZRS"
   },
   "outputs": [],
   "source": [
    "df_train.drop(['id','tid1','tid2','title1_zh','title2_zh'],inplace=True,axis=1)"
   ]
  },
  {
   "cell_type": "code",
   "execution_count": 20,
   "metadata": {
    "colab": {},
    "colab_type": "code",
    "executionInfo": {
     "elapsed": 52585,
     "status": "ok",
     "timestamp": 1599779954850,
     "user": {
      "displayName": "Ur Tech Guide",
      "photoUrl": "https://lh3.googleusercontent.com/a-/AOh14GhBjMoWnc1KwT73B6hzAbvnSIxnZAl5PY9n_RGJ0w=s64",
      "userId": "03152431167485721857"
     },
     "user_tz": -300
    },
    "id": "o41R8uCJdo96"
   },
   "outputs": [],
   "source": [
    "df_train,df_valid=train_test_split(df_train,stratify=df_train['label'],test_size=0.2)"
   ]
  },
  {
   "cell_type": "code",
   "execution_count": 21,
   "metadata": {
    "colab": {
     "base_uri": "https://localhost:8080/",
     "height": 322
    },
    "colab_type": "code",
    "executionInfo": {
     "elapsed": 52563,
     "status": "ok",
     "timestamp": 1599779954851,
     "user": {
      "displayName": "Ur Tech Guide",
      "photoUrl": "https://lh3.googleusercontent.com/a-/AOh14GhBjMoWnc1KwT73B6hzAbvnSIxnZAl5PY9n_RGJ0w=s64",
      "userId": "03152431167485721857"
     },
     "user_tz": -300
    },
    "id": "buHAmJP5UNfS",
    "outputId": "ede3cc59-b9df-409f-9c19-19e48a09d9cb"
   },
   "outputs": [
    {
     "data": {
      "text/plain": [
       "<AxesSubplot:>"
      ]
     },
     "execution_count": 21,
     "metadata": {},
     "output_type": "execute_result"
    },
    {
     "data": {
      "image/png": "[encoded data removed]",
      "text/plain": [
       "<Figure size 432x288 with 1 Axes>"
      ]
     },
     "metadata": {},
     "output_type": "display_data"
    }
   ],
   "source": [
    "df_train['label'].value_counts().plot(kind='bar')"
   ]
  },
  {
   "cell_type": "code",
   "execution_count": 22,
   "metadata": {
    "colab": {
     "base_uri": "https://localhost:8080/",
     "height": 322
    },
    "colab_type": "code",
    "executionInfo": {
     "elapsed": 113020,
     "status": "ok",
     "timestamp": 1599525658708,
     "user": {
      "displayName": "Ur Tech Guide",
      "photoUrl": "https://lh3.googleusercontent.com/a-/AOh14GhBjMoWnc1KwT73B6hzAbvnSIxnZAl5PY9n_RGJ0w=s64",
      "userId": "03152431167485721857"
     },
     "user_tz": -300
    },
    "id": "yxWur2Dueg39",
    "outputId": "3789fbf2-ec04-4ad6-a906-6b31f537ea88"
   },
   "outputs": [
    {
     "data": {
      "text/plain": [
       "<AxesSubplot:>"
      ]
     },
     "execution_count": 22,
     "metadata": {},
     "output_type": "execute_result"
    },
    {
     "data": {
      "image/png": "[encoded data removed]",
      "text/plain": [
       "<Figure size 432x288 with 1 Axes>"
      ]
     },
     "metadata": {},
     "output_type": "display_data"
    }
   ],
   "source": [
    "df_valid['label'].value_counts().plot(kind='bar')"
   ]
  },
  {
   "cell_type": "code",
   "execution_count": null,
   "metadata": {
    "colab": {
     "base_uri": "https://localhost:8080/",
     "height": 751
    },
    "colab_type": "code",
    "executionInfo": {
     "elapsed": 129911,
     "status": "ok",
     "timestamp": 1599525675624,
     "user": {
      "displayName": "Ur Tech Guide",
      "photoUrl": "https://lh3.googleusercontent.com/a-/AOh14GhBjMoWnc1KwT73B6hzAbvnSIxnZAl5PY9n_RGJ0w=s64",
      "userId": "03152431167485721857"
     },
     "user_tz": -300
    },
    "id": "7nFkqWrrWj7C",
    "outputId": "8da6a7cd-b17e-491b-866f-472237cbf11c"
   },
   "outputs": [
    {
     "name": "stderr",
     "output_type": "stream",
     "text": [
      "INFO:absl:Entering into master device scope: /job:worker/replica:0/task:0/device:CPU:0\n"
     ]
    },
    {
     "name": "stdout",
     "output_type": "stream",
     "text": [
      "Running on TPU  grpc://10.24.218.98:8470\n",
      "INFO:tensorflow:Initializing the TPU system: grpc://10.24.218.98:8470\n"
     ]
    },
    {
     "name": "stderr",
     "output_type": "stream",
     "text": [
      "INFO:tensorflow:Initializing the TPU system: grpc://10.24.218.98:8470\n"
     ]
    },
    {
     "name": "stdout",
     "output_type": "stream",
     "text": [
      "INFO:tensorflow:Clearing out eager caches\n"
     ]
    },
    {
     "name": "stderr",
     "output_type": "stream",
     "text": [
      "INFO:tensorflow:Clearing out eager caches\n"
     ]
    },
    {
     "name": "stdout",
     "output_type": "stream",
     "text": [
      "INFO:tensorflow:Finished initializing TPU system.\n"
     ]
    },
    {
     "name": "stderr",
     "output_type": "stream",
     "text": [
      "INFO:tensorflow:Finished initializing TPU system.\n"
     ]
    },
    {
     "name": "stdout",
     "output_type": "stream",
     "text": [
      "INFO:tensorflow:Found TPU system:\n"
     ]
    },
    {
     "name": "stderr",
     "output_type": "stream",
     "text": [
      "INFO:tensorflow:Found TPU system:\n"
     ]
    },
    {
     "name": "stdout",
     "output_type": "stream",
     "text": [
      "INFO:tensorflow:*** Num TPU Cores: 8\n"
     ]
    },
    {
     "name": "stderr",
     "output_type": "stream",
     "text": [
      "INFO:tensorflow:*** Num TPU Cores: 8\n"
     ]
    },
    {
     "name": "stdout",
     "output_type": "stream",
     "text": [
      "INFO:tensorflow:*** Num TPU Workers: 1\n"
     ]
    },
    {
     "name": "stderr",
     "output_type": "stream",
     "text": [
      "INFO:tensorflow:*** Num TPU Workers: 1\n"
     ]
    },
    {
     "name": "stdout",
     "output_type": "stream",
     "text": [
      "INFO:tensorflow:*** Num TPU Cores Per Worker: 8\n"
     ]
    },
    {
     "name": "stderr",
     "output_type": "stream",
     "text": [
      "INFO:tensorflow:*** Num TPU Cores Per Worker: 8\n"
     ]
    },
    {
     "name": "stdout",
     "output_type": "stream",
     "text": [
      "INFO:tensorflow:*** Available Device: _DeviceAttributes(/job:localhost/replica:0/task:0/device:CPU:0, CPU, 0, 0)\n"
     ]
    },
    {
     "name": "stderr",
     "output_type": "stream",
     "text": [
      "INFO:tensorflow:*** Available Device: _DeviceAttributes(/job:localhost/replica:0/task:0/device:CPU:0, CPU, 0, 0)\n"
     ]
    },
    {
     "name": "stdout",
     "output_type": "stream",
     "text": [
      "INFO:tensorflow:*** Available Device: _DeviceAttributes(/job:localhost/replica:0/task:0/device:XLA_CPU:0, XLA_CPU, 0, 0)\n"
     ]
    },
    {
     "name": "stderr",
     "output_type": "stream",
     "text": [
      "INFO:tensorflow:*** Available Device: _DeviceAttributes(/job:localhost/replica:0/task:0/device:XLA_CPU:0, XLA_CPU, 0, 0)\n"
     ]
    },
    {
     "name": "stdout",
     "output_type": "stream",
     "text": [
      "INFO:tensorflow:*** Available Device: _DeviceAttributes(/job:worker/replica:0/task:0/device:CPU:0, CPU, 0, 0)\n"
     ]
    },
    {
     "name": "stderr",
     "output_type": "stream",
     "text": [
      "INFO:tensorflow:*** Available Device: _DeviceAttributes(/job:worker/replica:0/task:0/device:CPU:0, CPU, 0, 0)\n"
     ]
    },
    {
     "name": "stdout",
     "output_type": "stream",
     "text": [
      "INFO:tensorflow:*** Available Device: _DeviceAttributes(/job:worker/replica:0/task:0/device:TPU:0, TPU, 0, 0)\n"
     ]
    },
    {
     "name": "stderr",
     "output_type": "stream",
     "text": [
      "INFO:tensorflow:*** Available Device: _DeviceAttributes(/job:worker/replica:0/task:0/device:TPU:0, TPU, 0, 0)\n"
     ]
    },
    {
     "name": "stdout",
     "output_type": "stream",
     "text": [
      "INFO:tensorflow:*** Available Device: _DeviceAttributes(/job:worker/replica:0/task:0/device:TPU:1, TPU, 0, 0)\n"
     ]
    },
    {
     "name": "stderr",
     "output_type": "stream",
     "text": [
      "INFO:tensorflow:*** Available Device: _DeviceAttributes(/job:worker/replica:0/task:0/device:TPU:1, TPU, 0, 0)\n"
     ]
    },
    {
     "name": "stdout",
     "output_type": "stream",
     "text": [
      "INFO:tensorflow:*** Available Device: _DeviceAttributes(/job:worker/replica:0/task:0/device:TPU:2, TPU, 0, 0)\n"
     ]
    },
    {
     "name": "stderr",
     "output_type": "stream",
     "text": [
      "INFO:tensorflow:*** Available Device: _DeviceAttributes(/job:worker/replica:0/task:0/device:TPU:2, TPU, 0, 0)\n"
     ]
    },
    {
     "name": "stdout",
     "output_type": "stream",
     "text": [
      "INFO:tensorflow:*** Available Device: _DeviceAttributes(/job:worker/replica:0/task:0/device:TPU:3, TPU, 0, 0)\n"
     ]
    },
    {
     "name": "stderr",
     "output_type": "stream",
     "text": [
      "INFO:tensorflow:*** Available Device: _DeviceAttributes(/job:worker/replica:0/task:0/device:TPU:3, TPU, 0, 0)\n"
     ]
    },
    {
     "name": "stdout",
     "output_type": "stream",
     "text": [
      "INFO:tensorflow:*** Available Device: _DeviceAttributes(/job:worker/replica:0/task:0/device:TPU:4, TPU, 0, 0)\n"
     ]
    },
    {
     "name": "stderr",
     "output_type": "stream",
     "text": [
      "INFO:tensorflow:*** Available Device: _DeviceAttributes(/job:worker/replica:0/task:0/device:TPU:4, TPU, 0, 0)\n"
     ]
    },
    {
     "name": "stdout",
     "output_type": "stream",
     "text": [
      "INFO:tensorflow:*** Available Device: _DeviceAttributes(/job:worker/replica:0/task:0/device:TPU:5, TPU, 0, 0)\n"
     ]
    },
    {
     "name": "stderr",
     "output_type": "stream",
     "text": [
      "INFO:tensorflow:*** Available Device: _DeviceAttributes(/job:worker/replica:0/task:0/device:TPU:5, TPU, 0, 0)\n"
     ]
    },
    {
     "name": "stdout",
     "output_type": "stream",
     "text": [
      "INFO:tensorflow:*** Available Device: _DeviceAttributes(/job:worker/replica:0/task:0/device:TPU:6, TPU, 0, 0)\n"
     ]
    },
    {
     "name": "stderr",
     "output_type": "stream",
     "text": [
      "INFO:tensorflow:*** Available Device: _DeviceAttributes(/job:worker/replica:0/task:0/device:TPU:6, TPU, 0, 0)\n"
     ]
    },
    {
     "name": "stdout",
     "output_type": "stream",
     "text": [
      "INFO:tensorflow:*** Available Device: _DeviceAttributes(/job:worker/replica:0/task:0/device:TPU:7, TPU, 0, 0)\n"
     ]
    },
    {
     "name": "stderr",
     "output_type": "stream",
     "text": [
      "INFO:tensorflow:*** Available Device: _DeviceAttributes(/job:worker/replica:0/task:0/device:TPU:7, TPU, 0, 0)\n"
     ]
    },
    {
     "name": "stdout",
     "output_type": "stream",
     "text": [
      "INFO:tensorflow:*** Available Device: _DeviceAttributes(/job:worker/replica:0/task:0/device:TPU_SYSTEM:0, TPU_SYSTEM, 0, 0)\n"
     ]
    },
    {
     "name": "stderr",
     "output_type": "stream",
     "text": [
      "INFO:tensorflow:*** Available Device: _DeviceAttributes(/job:worker/replica:0/task:0/device:TPU_SYSTEM:0, TPU_SYSTEM, 0, 0)\n"
     ]
    },
    {
     "name": "stdout",
     "output_type": "stream",
     "text": [
      "INFO:tensorflow:*** Available Device: _DeviceAttributes(/job:worker/replica:0/task:0/device:XLA_CPU:0, XLA_CPU, 0, 0)\n"
     ]
    },
    {
     "name": "stderr",
     "output_type": "stream",
     "text": [
      "INFO:tensorflow:*** Available Device: _DeviceAttributes(/job:worker/replica:0/task:0/device:XLA_CPU:0, XLA_CPU, 0, 0)\n"
     ]
    }
   ],
   "source": [
    "# Detect hardware, return appropriate distribution strategy\n",
    "try:\n",
    "    # TPU detection. No parameters necessary if TPU_NAME environment variable is\n",
    "    # set: this is always the case on Kaggle.\n",
    "    tpu = tf.distribute.cluster_resolver.TPUClusterResolver()\n",
    "    print('Running on TPU ', tpu.master())\n",
    "except ValueError:\n",
    "    tpu = None\n",
    "\n",
    "if tpu:\n",
    "    tf.config.experimental_connect_to_cluster(tpu)\n",
    "    tf.tpu.experimental.initialize_tpu_system(tpu)\n",
    "    strategy = tf.distribute.TPUStrategy(tpu)\n",
    "else:\n",
    "    # Default distribution strategy in Tensorflow. Works on CPU and single GPU.\n",
    "    strategy = tf.distribute.get_strategy()"
   ]
  },
  {
   "cell_type": "code",
   "execution_count": 23,
   "metadata": {
    "colab": {},
    "colab_type": "code",
    "id": "ugBMZX4wWk-U"
   },
   "outputs": [],
   "source": [
    "def fast_tokenization(text,encode_plus=False):\n",
    "  attention_mask=[]\n",
    "  input_ids=[]\n",
    "  for instance in tqdm(text,desc='Tokenization Process'):\n",
    "    if encode_plus:\n",
    "      token_out=fast_tokenizer.encode_plus(instance,return_attention_mask=True,padding='max_length',truncation=True,max_length=MAX_LEN)\n",
    "      input_ids.append(token_out['input_ids'])\n",
    "      attention_mask.append(token_out['attention_mask'])\n",
    "    else:\n",
    "      token_out=fast_tokenizer.encode(instance)\n",
    "      input_ids.append(token_out.ids)\n",
    "      attention_mask.append(token_out.attention_mask)\n",
    "  return input_ids,attention_mask"
   ]
  },
  {
   "cell_type": "code",
   "execution_count": 24,
   "metadata": {
    "colab": {},
    "colab_type": "code",
    "id": "r6t3AFC7WmVV"
   },
   "outputs": [],
   "source": [
    "X_train={}\n",
    "X_valid={}\n",
    "X_test={}"
   ]
  },
  {
   "cell_type": "code",
   "execution_count": 25,
   "metadata": {
    "colab": {},
    "colab_type": "code",
    "id": "NFvGNbHtWnej"
   },
   "outputs": [],
   "source": [
    "def stop_word_removal(text):\n",
    "  stop_word=['The','the','a','A','An','an']\n",
    "  tokenized_sentence=word_tokenize(text)\n",
    "  final_tokenized_sentence=[]\n",
    "  for word in tokenized_sentence:\n",
    "    if word not in stop_word:\n",
    "        final_tokenized_sentence.append(word)\n",
    "  final_tokenized_sentence=' '.join(final_tokenized_sentence)\n",
    "  return final_tokenized_sentence"
   ]
  },
  {
   "cell_type": "code",
   "execution_count": 26,
   "metadata": {
    "colab": {
     "base_uri": "https://localhost:8080/",
     "height": 85
    },
    "colab_type": "code",
    "executionInfo": {
     "elapsed": 129882,
     "status": "ok",
     "timestamp": 1599525675634,
     "user": {
      "displayName": "Ur Tech Guide",
      "photoUrl": "https://lh3.googleusercontent.com/a-/AOh14GhBjMoWnc1KwT73B6hzAbvnSIxnZAl5PY9n_RGJ0w=s64",
      "userId": "03152431167485721857"
     },
     "user_tz": -300
    },
    "id": "xqmuRTZMWsdd",
    "outputId": "680b29f0-3435-401a-d0d3-1bfae6e1f31e"
   },
   "outputs": [
    {
     "data": {
      "text/plain": [
       "title1_en    0\n",
       "title2_en    0\n",
       "label        0\n",
       "dtype: int64"
      ]
     },
     "execution_count": 26,
     "metadata": {},
     "output_type": "execute_result"
    }
   ],
   "source": [
    "df_train.isnull().sum()"
   ]
  },
  {
   "cell_type": "code",
   "execution_count": 27,
   "metadata": {
    "colab": {
     "base_uri": "https://localhost:8080/",
     "height": 85
    },
    "colab_type": "code",
    "executionInfo": {
     "elapsed": 129858,
     "status": "ok",
     "timestamp": 1599525675636,
     "user": {
      "displayName": "Ur Tech Guide",
      "photoUrl": "https://lh3.googleusercontent.com/a-/AOh14GhBjMoWnc1KwT73B6hzAbvnSIxnZAl5PY9n_RGJ0w=s64",
      "userId": "03152431167485721857"
     },
     "user_tz": -300
    },
    "id": "nLuPRqFPewoI",
    "outputId": "6116d567-7c0c-4883-ee96-1662e929e0ba"
   },
   "outputs": [
    {
     "data": {
      "text/plain": [
       "title1_en    0\n",
       "title2_en    0\n",
       "label        0\n",
       "dtype: int64"
      ]
     },
     "execution_count": 27,
     "metadata": {},
     "output_type": "execute_result"
    }
   ],
   "source": [
    "df_valid.isnull().sum()"
   ]
  },
  {
   "cell_type": "code",
   "execution_count": 28,
   "metadata": {
    "colab": {
     "base_uri": "https://localhost:8080/",
     "height": 204
    },
    "colab_type": "code",
    "executionInfo": {
     "elapsed": 129836,
     "status": "ok",
     "timestamp": 1599525675638,
     "user": {
      "displayName": "Ur Tech Guide",
      "photoUrl": "https://lh3.googleusercontent.com/a-/AOh14GhBjMoWnc1KwT73B6hzAbvnSIxnZAl5PY9n_RGJ0w=s64",
      "userId": "03152431167485721857"
     },
     "user_tz": -300
    },
    "id": "1r0z-G7He5ug",
    "outputId": "a3d6d5ac-16d1-43ad-ef55-3b559ce904cf"
   },
   "outputs": [
    {
     "data": {
      "text/html": [
       "<div>\n",
       "<style scoped>\n",
       "    .dataframe tbody tr th:only-of-type {\n",
       "        vertical-align: middle;\n",
       "    }\n",
       "\n",
       "    .dataframe tbody tr th {\n",
       "        vertical-align: top;\n",
       "    }\n",
       "\n",
       "    .dataframe thead th {\n",
       "        text-align: right;\n",
       "    }\n",
       "</style>\n",
       "<table border=\"1\" class=\"dataframe\">\n",
       "  <thead>\n",
       "    <tr style=\"text-align: right;\">\n",
       "      <th></th>\n",
       "      <th>title1_en</th>\n",
       "      <th>title2_en</th>\n",
       "      <th>label</th>\n",
       "    </tr>\n",
       "  </thead>\n",
       "  <tbody>\n",
       "    <tr>\n",
       "      <th>236411</th>\n",
       "      <td>Keep a bowl of black sesame every day, make yo...</td>\n",
       "      <td>Can let hair black, change more black sesame, ...</td>\n",
       "      <td>unrelated</td>\n",
       "    </tr>\n",
       "    <tr>\n",
       "      <th>272649</th>\n",
       "      <td>Boys kiss girls at school assemblies, can you ...</td>\n",
       "      <td>A schoolboy trips a girl to his death?</td>\n",
       "      <td>unrelated</td>\n",
       "    </tr>\n",
       "    <tr>\n",
       "      <th>115896</th>\n",
       "      <td>In a pity mine accident, do not buy the card o...</td>\n",
       "      <td>The official denial of the main chain of bifur...</td>\n",
       "      <td>unrelated</td>\n",
       "    </tr>\n",
       "    <tr>\n",
       "      <th>119247</th>\n",
       "      <td>Eating eggs is smoking.</td>\n",
       "      <td>Eating eggs like this is equivalent to swallow...</td>\n",
       "      <td>unrelated</td>\n",
       "    </tr>\n",
       "    <tr>\n",
       "      <th>134789</th>\n",
       "      <td>in summer, i 'll get a tan. how can i come bac...</td>\n",
       "      <td>Whitening tips, learn three days than toilet p...</td>\n",
       "      <td>agreed</td>\n",
       "    </tr>\n",
       "  </tbody>\n",
       "</table>\n",
       "</div>"
      ],
      "text/plain": [
       "                                                title1_en  \\\n",
       "236411  Keep a bowl of black sesame every day, make yo...   \n",
       "272649  Boys kiss girls at school assemblies, can you ...   \n",
       "115896  In a pity mine accident, do not buy the card o...   \n",
       "119247                            Eating eggs is smoking.   \n",
       "134789  in summer, i 'll get a tan. how can i come bac...   \n",
       "\n",
       "                                                title2_en      label  \n",
       "236411  Can let hair black, change more black sesame, ...  unrelated  \n",
       "272649             A schoolboy trips a girl to his death?  unrelated  \n",
       "115896  The official denial of the main chain of bifur...  unrelated  \n",
       "119247  Eating eggs like this is equivalent to swallow...  unrelated  \n",
       "134789  Whitening tips, learn three days than toilet p...     agreed  "
      ]
     },
     "execution_count": 28,
     "metadata": {},
     "output_type": "execute_result"
    }
   ],
   "source": [
    "df_train.head()"
   ]
  },
  {
   "cell_type": "code",
   "execution_count": 29,
   "metadata": {
    "colab": {},
    "colab_type": "code",
    "id": "LwXxPIzsW3hy"
   },
   "outputs": [],
   "source": [
    "df_train['combine_text_tokenize']=df_train['title1_en']+' '+df_train['title2_en']\n",
    "df_valid['combine_text_tokenize']=df_valid['title1_en']+' '+df_valid['title2_en']\n",
    "df_test['combine_text_tokenize']=df_test['title1_en']+' '+df_test['title2_en']"
   ]
  },
  {
   "cell_type": "code",
   "execution_count": 30,
   "metadata": {
    "colab": {
     "base_uri": "https://localhost:8080/",
     "height": 52
    },
    "colab_type": "code",
    "executionInfo": {
     "elapsed": 130425,
     "status": "ok",
     "timestamp": 1599525676258,
     "user": {
      "displayName": "Ur Tech Guide",
      "photoUrl": "https://lh3.googleusercontent.com/a-/AOh14GhBjMoWnc1KwT73B6hzAbvnSIxnZAl5PY9n_RGJ0w=s64",
      "userId": "03152431167485721857"
     },
     "user_tz": -300
    },
    "id": "6Cw_YDg2Xlw1",
    "outputId": "8c503e37-d9d4-4ba7-eaf8-f2c35721e13b"
   },
   "outputs": [
    {
     "data": {
      "text/plain": [
       "\"female anchorwoman spends the night at the national palace museum to make a live show, the national palace museum official issued a statement on the investigation. Usho's second-hand vehicle issued a statement to clarify rumors about the source of the car.\""
      ]
     },
     "execution_count": 30,
     "metadata": {},
     "output_type": "execute_result"
    }
   ],
   "source": [
    "df_train.iloc[11500,-1]"
   ]
  },
  {
   "cell_type": "code",
   "execution_count": 31,
   "metadata": {
    "colab": {},
    "colab_type": "code",
    "id": "DOtO6uHzZwgk"
   },
   "outputs": [],
   "source": [
    "df_train['combine_text_tokenize']=df_train['combine_text_tokenize'].map(stop_word_removal)\n",
    "df_valid['combine_text_tokenize']=df_valid['combine_text_tokenize'].map(stop_word_removal)\n",
    "df_test['combine_text_tokenize']=df_test['combine_text_tokenize'].map(stop_word_removal)"
   ]
  },
  {
   "cell_type": "code",
   "execution_count": 32,
   "metadata": {
    "colab": {},
    "colab_type": "code",
    "id": "W8lnMm3waB5t"
   },
   "outputs": [],
   "source": [
    "class WarmUp(tf.keras.optimizers.schedules.LearningRateSchedule):\n",
    "    \"\"\"\n",
    "    Applies a warmup schedule on a given learning rate decay schedule.\n",
    "\n",
    "    Args:\n",
    "        initial_learning_rate (:obj:`float`):\n",
    "            The initial learning rate for the schedule after the warmup (so this will be the learning rate at the end\n",
    "            of the warmup).\n",
    "        decay_schedule_fn (:obj:`Callable`):\n",
    "            The schedule function to apply after the warmup for the rest of training.\n",
    "        warmup_steps (:obj:`int`):\n",
    "            The number of steps for the warmup part of training.\n",
    "        power (:obj:`float`, `optional`, defaults to 1):\n",
    "            The power to use for the polynomial warmup (defaults is a linear warmup).\n",
    "        name (:obj:`str`, `optional`):\n",
    "            Optional name prefix for the returned tensors during the schedule.\n",
    "    \"\"\"\n",
    "\n",
    "    def __init__(\n",
    "        self,\n",
    "        initial_learning_rate: float,\n",
    "        decay_schedule_fn: Callable,\n",
    "        warmup_steps: int,\n",
    "        power: float = 1.0,\n",
    "        name: str = None,\n",
    "    ):\n",
    "        super().__init__()\n",
    "        self.initial_learning_rate = initial_learning_rate\n",
    "        self.warmup_steps = warmup_steps\n",
    "        self.power = power\n",
    "        self.decay_schedule_fn = decay_schedule_fn\n",
    "        self.name = name\n",
    "\n",
    "    def __call__(self, step):\n",
    "        with tf.name_scope(self.name or \"WarmUp\") as name:\n",
    "\n",
    "            global_step_float = tf.cast(step, tf.float32)\n",
    "            warmup_steps_float = tf.cast(self.warmup_steps, tf.float32)\n",
    "            warmup_percent_done = global_step_float / warmup_steps_float\n",
    "            warmup_learning_rate = self.initial_learning_rate * tf.math.pow(warmup_percent_done, self.power)\n",
    "            return tf.cond(\n",
    "                global_step_float < warmup_steps_float,\n",
    "                lambda: warmup_learning_rate,\n",
    "                lambda: self.decay_schedule_fn(step - self.warmup_steps),\n",
    "                name=name,\n",
    "            )\n",
    "\n",
    "    def get_config(self):\n",
    "        return {\n",
    "            \"initial_learning_rate\": self.initial_learning_rate,\n",
    "            \"decay_schedule_fn\": self.decay_schedule_fn,\n",
    "            \"warmup_steps\": self.warmup_steps,\n",
    "            \"power\": self.power,\n",
    "            \"name\": self.name,\n",
    "        }\n",
    "\n",
    "\n",
    "\n",
    "def create_optimizer(\n",
    "    init_lr: float,\n",
    "    num_train_steps: int,\n",
    "    num_warmup_steps: int,\n",
    "    min_lr_ratio: float = 0.0,\n",
    "    adam_epsilon: float = 1e-8,\n",
    "    weight_decay_rate: float = 0.0,\n",
    "    include_in_weight_decay: Optional[List[str]] = None,schedule='linear',\n",
    "):\n",
    "    \"\"\"\n",
    "    Creates an optimizer with a learning rate schedule using a warmup phase followed by a linear decay.\n",
    "\n",
    "    Args:\n",
    "        init_lr (:obj:`float`):\n",
    "            The desired learning rate at the end of the warmup phase.\n",
    "        num_train_step (:obj:`int`):\n",
    "            The total number of training steps.\n",
    "        num_warmup_steps (:obj:`int`):\n",
    "            The number of warmup steps.\n",
    "        min_lr_ratio (:obj:`float`, `optional`, defaults to 0):\n",
    "            The final learning rate at the end of the linear decay will be :obj:`init_lr * min_lr_ratio`.\n",
    "        adam_epsilon (:obj:`float`, `optional`, defaults to 1e-8):\n",
    "            The epsilon to use in Adam.\n",
    "        weight_decay_rate (:obj:`float`, `optional`, defaults to 0):\n",
    "            The weight decay to use.\n",
    "        include_in_weight_decay (:obj:`List[str]`, `optional`):\n",
    "            List of the parameter names (or re patterns) to apply weight decay to. If none is passed, weight decay is\n",
    "            applied to all parameters except bias and layer norm parameters.\n",
    "    \"\"\"\n",
    "    # Implements linear decay of the learning rate.\n",
    "    if schedule=='linear':\n",
    "      lr_schedule = tf.keras.optimizers.schedules.PolynomialDecay(\n",
    "          initial_learning_rate=init_lr,\n",
    "          decay_steps=num_train_steps - num_warmup_steps,\n",
    "          end_learning_rate=init_lr * min_lr_ratio,\n",
    "      )\n",
    "    else:\n",
    "      lr_schedule=tf.keras.experimental.CosineDecay(\n",
    "      initial_learning_rate=init_lr, decay_steps=num_train_steps - num_warmup_steps, alpha=0.0, name=None)\n",
    "      \n",
    "    if num_warmup_steps:\n",
    "        lr_schedule = WarmUp(\n",
    "            initial_learning_rate=init_lr, decay_schedule_fn=lr_schedule, warmup_steps=num_warmup_steps,\n",
    "        )\n",
    "    if weight_decay_rate > 0.0:\n",
    "        optimizer = AdamWeightDecay(\n",
    "            learning_rate=lr_schedule,\n",
    "            weight_decay_rate=weight_decay_rate,\n",
    "            beta_1=0.9,\n",
    "            beta_2=0.999,\n",
    "            epsilon=adam_epsilon,\n",
    "            exclude_from_weight_decay=[\"LayerNorm\", \"layer_norm\", \"bias\"],\n",
    "            include_in_weight_decay=include_in_weight_decay,\n",
    "        )\n",
    "    else:\n",
    "        optimizer = tf.keras.optimizers.Adam(learning_rate=lr_schedule, epsilon=adam_epsilon)\n",
    "    # We return the optimizer and the LR scheduler in order to better track the\n",
    "    # evolution of the LR independently of the optimizer.\n",
    "    return optimizer, lr_schedule"
   ]
  },
  {
   "cell_type": "code",
   "execution_count": 33,
   "metadata": {
    "colab": {},
    "colab_type": "code",
    "id": "HPm9D1vxaHcB"
   },
   "outputs": [],
   "source": [
    "class LossHistory(tf.keras.callbacks.Callback):\n",
    "    def on_train_begin(self, logs={}):\n",
    "        self.losses = []\n",
    "    def on_batch_end(self, batch, logs={}):\n",
    "        self.losses.append(logs.get('loss'))"
   ]
  },
  {
   "cell_type": "code",
   "execution_count": 34,
   "metadata": {
    "colab": {},
    "colab_type": "code",
    "id": "E0RdTLzwaJ_h"
   },
   "outputs": [],
   "source": [
    "def accuracy(y_true,y_pred,name):\n",
    "  y_true=np.argmax(y_true,axis=1)\n",
    "  y_pred=np.argmax(y_pred,axis=1)\n",
    "  accuracy=accuracy_score(y_true,y_pred)\n",
    "  print('The accuracy of the model {} is Accuracy: {:.3%}'.format(name,accuracy))\n",
    "  print(classification_report(y_true, y_pred, target_names=['unrelated','agreed','disagreed']))"
   ]
  },
  {
   "cell_type": "code",
   "execution_count": 35,
   "metadata": {
    "colab": {},
    "colab_type": "code",
    "id": "JPEIsmOLaLnh"
   },
   "outputs": [],
   "source": [
    "def f1_score_m(y_true,y_pred,name):\n",
    "  y_true=np.argmax(y_true,axis=1)\n",
    "  y_pred=np.argmax(y_pred,axis=1)\n",
    "  f1_m=f1_score(y_true,y_pred,average='macro')\n",
    "  print('The F1-M Score of the model {} is F-1-Score: {:.3%}'.format(name,f1_m))"
   ]
  },
  {
   "cell_type": "code",
   "execution_count": 36,
   "metadata": {
    "colab": {},
    "colab_type": "code",
    "id": "3HC-GfotaNWg"
   },
   "outputs": [],
   "source": [
    "colors = plt.rcParams['axes.prop_cycle'].by_key()['color']\n",
    "\n",
    "def plot_loss(history,main_title):\n",
    "# Use a log scale to show the wide range of values.\n",
    "    plt.figure(figsize=(12,10))\n",
    "    plt.semilogy(list(range(len(history))),  history,\n",
    "               color='blue', label='Training')\n",
    "    plt.title(main_title)\n",
    "    plt.xlabel('Logging Step')\n",
    "    plt.ylabel('Loss')\n",
    "  \n",
    "    plt.legend(title=\"Log Loss\")\n",
    "    \n",
    "    \n",
    "def plot_cm(y_true, y_pred, title):\n",
    "    ''''\n",
    "    input y_true-Ground Truth Labels\n",
    "          y_pred-Predicted Value of Model\n",
    "          title-What Title to give to the confusion matrix\n",
    "    \n",
    "    Draws a Confusion Matrix for better understanding of how the model is working\n",
    "    \n",
    "    return None\n",
    "    \n",
    "    '''\n",
    "    \n",
    "    figsize=(10,10)\n",
    "    y_true=np.argmax(y_true,axis=1)\n",
    "    y_pred=np.argmax(y_pred,axis=1)\n",
    "    cm = confusion_matrix(y_true, y_pred, labels=np.unique(y_true))\n",
    "    cm_sum = np.sum(cm, axis=1, keepdims=True)\n",
    "    cm_perc = cm / cm_sum.astype(float) * 100\n",
    "    annot = np.empty_like(cm).astype(str)\n",
    "    nrows, ncols = cm.shape\n",
    "    for i in range(nrows):\n",
    "        for j in range(ncols):\n",
    "            c = cm[i, j]\n",
    "            p = cm_perc[i, j]\n",
    "            if i == j:\n",
    "                s = cm_sum[i]\n",
    "                annot[i, j] = '%.1f%%\\n%d/%d' % (p, c, s)\n",
    "            elif c == 0:\n",
    "                annot[i, j] = ''\n",
    "            else:\n",
    "                annot[i, j] = '%.1f%%\\n%d' % (p, c)\n",
    "    cm = pd.DataFrame(cm, index=np.unique(y_true), columns=np.unique(y_true))\n",
    "    cm.index.name = 'Actual'\n",
    "    cm.columns.name = 'Predicted'\n",
    "    fig, ax = plt.subplots(figsize=figsize)\n",
    "    plt.title(title)\n",
    "    sns.heatmap(cm, cmap= \"YlGnBu\", annot=annot, fmt='', ax=ax)"
   ]
  },
  {
   "cell_type": "code",
   "execution_count": 37,
   "metadata": {
    "colab": {},
    "colab_type": "code",
    "id": "ImD1qOJdaPeA"
   },
   "outputs": [],
   "source": [
    "true_labels=['true','half-true','barely-true','mostly-true']\n",
    "false_labels=['false','pants-fire']\n",
    "high_score_labels=[]\n",
    "\n",
    "def score_submission(gold_labels, test_labels):\n",
    "    score = 0.0\n",
    "    for i, (g, t) in enumerate(zip(gold_labels, test_labels)):\n",
    "        g_stance, t_stance = g, t\n",
    "        if g_stance == t_stance:\n",
    "            score += 0.25\n",
    "            if g_stance in high_score_labels:\n",
    "                score += 0.50\n",
    "        if g_stance in true_labels and t_stance in true_labels:\n",
    "            score += 0.1\n",
    "        elif g_stance in false_labels and t_stance in false_labels:\n",
    "            score += 0.1\n",
    "        \n",
    "\n",
    "    return score\n",
    "\n",
    "def report_score(actual,predicted,name):\n",
    "    actual=np.argmax(actual,axis=1)\n",
    "    predicted=np.argmax(predicted,axis=1)\n",
    "    score = score_submission(actual,predicted)\n",
    "    best_score = score_submission(actual,actual)\n",
    "    print('For Model {}'.format(name))\n",
    "    print(\"Score: \" +str(score) + \" out of \" + str(best_score) + \"\\t(\"+str(score*100/best_score) + \"%)\")\n",
    "    return score*100/best_score"
   ]
  },
  {
   "cell_type": "code",
   "execution_count": 38,
   "metadata": {
    "colab": {},
    "colab_type": "code",
    "id": "o6SDnBgRaRZQ"
   },
   "outputs": [],
   "source": [
    "def tensorflow_make_train_valid_data(X_train,y_train,X_valid,y_valid,test=False):\n",
    "\n",
    "      train = (\n",
    "          tf.data.Dataset\n",
    "          .from_tensor_slices((X_train, y_train))\n",
    "          .repeat()\n",
    "          .shuffle(1024)\n",
    "          .batch(BATCH_SIZE)\n",
    "          .prefetch(AUTO))\n",
    "\n",
    "      valid = (\n",
    "          tf.data.Dataset\n",
    "          .from_tensor_slices((X_valid, y_valid))\n",
    "          .batch(BATCH_SIZE)\n",
    "          .cache()\n",
    "          .prefetch(AUTO)\n",
    "      )\n",
    "      return train,valid"
   ]
  },
  {
   "cell_type": "code",
   "execution_count": 39,
   "metadata": {
    "colab": {},
    "colab_type": "code",
    "id": "KPjhBBKNaTGA"
   },
   "outputs": [],
   "source": [
    "def make_test_data(X_test):\n",
    "    test = (\n",
    "          tf.data.Dataset\n",
    "          .from_tensor_slices(X_test)\n",
    "          .batch(BATCH_SIZE)\n",
    "      )\n",
    "    return test"
   ]
  },
  {
   "cell_type": "code",
   "execution_count": 40,
   "metadata": {
    "colab": {
     "base_uri": "https://localhost:8080/",
     "height": 134,
     "referenced_widgets": [
      "2902b1bf03a74af5a4470aafa53a17f2",
      "de1387845576497f805e62b1fc0fee50",
      "036f7831c34f4927a58aaac58fc7f6f7",
      "9ed197441274458a8ce7a15188d91753",
      "feeb62147f6c40a89aeeae45e853842e",
      "2ced7793d09446dd8c32cc41568cfd06",
      "5dc5399a8cd5478c84311a9b7c886dd3",
      "077d28f660684d6086cc37a6c4afae65"
     ]
    },
    "colab_type": "code",
    "executionInfo": {
     "elapsed": 341887,
     "status": "ok",
     "timestamp": 1599525887805,
     "user": {
      "displayName": "Ur Tech Guide",
      "photoUrl": "https://lh3.googleusercontent.com/a-/AOh14GhBjMoWnc1KwT73B6hzAbvnSIxnZAl5PY9n_RGJ0w=s64",
      "userId": "03152431167485721857"
     },
     "user_tz": -300
    },
    "id": "DzUXFJ8WaUnR",
    "outputId": "d8afdb94-73a0-4c6e-8b77-427c656f353f"
   },
   "outputs": [
    {
     "name": "stderr",
     "output_type": "stream",
     "text": [
      "Tokenization Process: 100%|██████████| 256441/256441 [00:44<00:00, 5746.59it/s]\n",
      "Tokenization Process: 100%|██████████| 64111/64111 [00:11<00:00, 5750.66it/s]\n",
      "Tokenization Process: 100%|██████████| 80126/80126 [00:13<00:00, 5740.13it/s]\n"
     ]
    },
    {
     "data": {
      "text/plain": [
       "26"
      ]
     },
     "execution_count": 40,
     "metadata": {},
     "output_type": "execute_result"
    }
   ],
   "source": [
    "fast_tokenizer = DistilBertTokenizerFast.from_pretrained(\"distilbert-base-uncased\")._tokenizer\n",
    "fast_tokenizer.enable_padding(length=MAX_LEN)\n",
    "fast_tokenizer.enable_truncation(max_length=MAX_LEN)\n",
    "\n",
    "\n",
    "input_ids_distill_bert,attention_mask_distill_bert=fast_tokenization(df_train['combine_text_tokenize'].values)\n",
    "X_train['input_ids_distill_bert'],X_train['attention_mask_distill_bert']=input_ids_distill_bert,attention_mask_distill_bert\n",
    "del input_ids_distill_bert\n",
    "del attention_mask_distill_bert\n",
    "gc.collect()\n",
    "input_ids_distill_bert,attention_mask_distill_bert=fast_tokenization(df_valid['combine_text_tokenize'].values)\n",
    "X_valid['input_ids_distill_bert'],X_valid['attention_mask_distill_bert']=input_ids_distill_bert,attention_mask_distill_bert\n",
    "del input_ids_distill_bert\n",
    "del attention_mask_distill_bert\n",
    "gc.collect()\n",
    "input_ids_distill_bert,attention_mask_distill_bert=fast_tokenization(df_test['combine_text_tokenize'].values)\n",
    "\n",
    "X_test['input_ids_distill_bert'],X_test['attention_mask_distill_bert']=input_ids_distill_bert,attention_mask_distill_bert\n",
    "del input_ids_distill_bert\n",
    "del attention_mask_distill_bert\n",
    "gc.collect()"
   ]
  },
  {
   "cell_type": "code",
   "execution_count": 41,
   "metadata": {
    "colab": {
     "base_uri": "https://localhost:8080/",
     "height": 183,
     "referenced_widgets": [
      "0d3547e5178f4f159e71f5d1e31c6249",
      "f643c94a7d2d4954ba2d5693cb9453b6",
      "f631f7efa836478c83a8feb63ba6493e",
      "d24dd2fcd7bb4d2aa064071e1d435380",
      "d9fe52bfb1e94fa5bac29a27ae2e9389",
      "6825a8fb0aac40769dcc890bd9b2cd2f",
      "1806b4972201421cae414b85594e5755",
      "9efb7459cbc34a7792d72d272a998a08",
      "291f05093727459e80c871c446279b36",
      "057022f008c147c0b57d8d84afb5f805",
      "ddcc2b87786c4d419acd2a004b2ad8c2",
      "8f8c24f82fcb451982febf7378b2edd8",
      "71a345be5ea74b4988fe15cd33249ef6",
      "2cd7daabba304379abbb899c11405401",
      "ea9e1bd94ce8478f8f6afe834afb913e",
      "f3bf07a271e24749a02029b69fa3c09e"
     ]
    },
    "colab_type": "code",
    "executionInfo": {
     "elapsed": 438462,
     "status": "ok",
     "timestamp": 1599525984405,
     "user": {
      "displayName": "Ur Tech Guide",
      "photoUrl": "https://lh3.googleusercontent.com/a-/AOh14GhBjMoWnc1KwT73B6hzAbvnSIxnZAl5PY9n_RGJ0w=s64",
      "userId": "03152431167485721857"
     },
     "user_tz": -300
    },
    "id": "Q9GgMb5qaW03",
    "outputId": "68d845b2-f557-4529-e27a-df0725614408"
   },
   "outputs": [
    {
     "name": "stderr",
     "output_type": "stream",
     "text": [
      "Tokenization Process: 100%|██████████| 256441/256441 [00:46<00:00, 5545.16it/s]\n",
      "Tokenization Process: 100%|██████████| 64111/64111 [00:11<00:00, 5407.15it/s]\n",
      "Tokenization Process: 100%|██████████| 80126/80126 [00:14<00:00, 5433.34it/s]\n"
     ]
    },
    {
     "data": {
      "text/plain": [
       "26"
      ]
     },
     "execution_count": 41,
     "metadata": {},
     "output_type": "execute_result"
    }
   ],
   "source": [
    "fast_tokenizer = GPT2TokenizerFast.from_pretrained(\"distilgpt2\")._tokenizer\n",
    "fast_tokenizer.enable_padding(length=MAX_LEN)\n",
    "fast_tokenizer.enable_truncation(max_length=MAX_LEN)\n",
    "\n",
    "input_ids_gpt_2,attention_mask_gpt_2=fast_tokenization(df_train['combine_text_tokenize'].values)\n",
    "\n",
    "\n",
    "X_train['input_ids_gpt_2'],X_train['attention_mask_gpt_2']=input_ids_gpt_2,attention_mask_gpt_2\n",
    "del input_ids_gpt_2\n",
    "del attention_mask_gpt_2\n",
    "gc.collect()\n",
    "input_ids_gpt_2,attention_mask_gpt_2=fast_tokenization(df_valid['combine_text_tokenize'].values)\n",
    "X_valid['input_ids_gpt_2'],X_valid['attention_mask_gpt_2']=input_ids_gpt_2,attention_mask_gpt_2\n",
    "del input_ids_gpt_2\n",
    "del attention_mask_gpt_2\n",
    "gc.collect()\n",
    "input_ids_gpt_2,attention_mask_gpt_2=fast_tokenization(df_test['combine_text_tokenize'].values)\n",
    "X_test['input_ids_gpt_2'],X_test['attention_mask_gpt_2']=input_ids_gpt_2,attention_mask_gpt_2\n",
    "del input_ids_gpt_2\n",
    "del attention_mask_gpt_2\n",
    "gc.collect()"
   ]
  },
  {
   "cell_type": "code",
   "execution_count": 42,
   "metadata": {
    "colab": {
     "base_uri": "https://localhost:8080/",
     "height": 232,
     "referenced_widgets": [
      "464cdc4eb6d5465092cfb870875723f4",
      "2c3cd3f7545c4768a34b422e038b55da",
      "b210d371fd4d445dbb6c2c4af177aa2d",
      "1707560824944e41ad7aecbefcce68ac",
      "28dd49cee6834fe6969d79d1a096a501",
      "948c3d686c4c4a4da7290fe316cc7099",
      "2a20a7182056493d9c09c9caeb061fd4",
      "9336c18ca3a842a4b28dd81ac00b704f",
      "b015b02fb80b4b60b6f04aac3dc2db7f",
      "10e1849df6f84739beb0d0eb2dd7c6cd",
      "f5d5525fbf844bb2b30386bbcb645a34",
      "5b6654509a614caca577cde28fa8dc59",
      "9b25173dd30944d4b41c6c771f34650e",
      "818450b2bf7d44baba40ca16b4860f4a",
      "38d7ad130f5d4fba90e2136c01eb13f2",
      "b1dce35ab82949ea86e6fc099c9362a9",
      "ec0bce1138c44ac9a1fbb6ebd3caa9f2",
      "4b02fe3f487a4a6abb9f87c81e291dd1",
      "bfa79c1423064a1a93cdd2fa45dcb74d",
      "948eaa44200143a49e778d4d81eff6b2",
      "5627c40c83a14eff8628ac072ae10ab8",
      "900614721e2a490299bbe216a90d6fbb",
      "da353cf88a5f4a878b4e5dbdbbe790b7",
      "85989aaf90a44025ac3d09dba5d32760"
     ]
    },
    "colab_type": "code",
    "executionInfo": {
     "elapsed": 617521,
     "status": "ok",
     "timestamp": 1599526163490,
     "user": {
      "displayName": "Ur Tech Guide",
      "photoUrl": "https://lh3.googleusercontent.com/a-/AOh14GhBjMoWnc1KwT73B6hzAbvnSIxnZAl5PY9n_RGJ0w=s64",
      "userId": "03152431167485721857"
     },
     "user_tz": -300
    },
    "id": "j_gfbLOmaYLQ",
    "outputId": "3ee1778c-1eb2-4d6f-825f-c4ea9e7f7a08"
   },
   "outputs": [
    {
     "name": "stderr",
     "output_type": "stream",
     "text": [
      "Tokenization Process: 100%|██████████| 256441/256441 [01:19<00:00, 3217.23it/s]\n",
      "Tokenization Process: 100%|██████████| 64111/64111 [00:25<00:00, 2466.24it/s]\n",
      "Tokenization Process: 100%|██████████| 80126/80126 [00:23<00:00, 3391.84it/s]\n"
     ]
    },
    {
     "data": {
      "text/plain": [
       "26"
      ]
     },
     "execution_count": 42,
     "metadata": {},
     "output_type": "execute_result"
    }
   ],
   "source": [
    "model_type = 'distilroberta-base'\n",
    "fast_tokenizer =AutoTokenizer.from_pretrained(model_type)\n",
    "roberta_model_base_input_id,roberta_model_attention_mask=fast_tokenization(df_train['combine_text_tokenize'].values,encode_plus=True)\n",
    "X_train['input_ids_roberta'],X_train['attention_mask_roberta']=roberta_model_base_input_id,roberta_model_attention_mask\n",
    "del roberta_model_base_input_id\n",
    "del roberta_model_attention_mask\n",
    "gc.collect()\n",
    "roberta_model_base_input_id,roberta_model_attention_mask=fast_tokenization(df_valid['combine_text_tokenize'].values,encode_plus=True)\n",
    "X_valid['input_ids_roberta'],X_valid['attention_mask_roberta']=roberta_model_base_input_id,roberta_model_attention_mask\n",
    "del roberta_model_base_input_id\n",
    "del roberta_model_attention_mask\n",
    "gc.collect()\n",
    "roberta_model_base_input_id,roberta_model_attention_mask=fast_tokenization(df_test['combine_text_tokenize'].values,encode_plus=True)\n",
    "X_test['input_ids_roberta'],X_test['attention_mask_roberta']=roberta_model_base_input_id,roberta_model_attention_mask\n",
    "del roberta_model_base_input_id\n",
    "del roberta_model_attention_mask\n",
    "gc.collect()"
   ]
  },
  {
   "cell_type": "code",
   "execution_count": 43,
   "metadata": {
    "colab": {},
    "colab_type": "code",
    "id": "QE27fgCSh4ZJ"
   },
   "outputs": [],
   "source": [
    "y_train=tf.keras.utils.to_categorical(df_train['label'].map({'unrelated':0,'agreed':1,'disagreed':2}).values)\n",
    "y_valid=tf.keras.utils.to_categorical(df_valid['label'].map({'unrelated':0,'agreed':1,'disagreed':2}).values)"
   ]
  },
  {
   "cell_type": "code",
   "execution_count": 44,
   "metadata": {
    "colab": {
     "base_uri": "https://localhost:8080/",
     "height": 71
    },
    "colab_type": "code",
    "executionInfo": {
     "elapsed": 617494,
     "status": "ok",
     "timestamp": 1599526163496,
     "user": {
      "displayName": "Ur Tech Guide",
      "photoUrl": "https://lh3.googleusercontent.com/a-/AOh14GhBjMoWnc1KwT73B6hzAbvnSIxnZAl5PY9n_RGJ0w=s64",
      "userId": "03152431167485721857"
     },
     "user_tz": -300
    },
    "id": "FaiT3AWma61W",
    "outputId": "5eb89a7a-189d-405a-d540-4d11389af4a6"
   },
   "outputs": [
    {
     "name": "stdout",
     "output_type": "stream",
     "text": [
      "dict_keys(['input_ids_distill_bert', 'attention_mask_distill_bert', 'input_ids_gpt_2', 'attention_mask_gpt_2', 'input_ids_roberta', 'attention_mask_roberta'])\n",
      "dict_keys(['input_ids_distill_bert', 'attention_mask_distill_bert', 'input_ids_gpt_2', 'attention_mask_gpt_2', 'input_ids_roberta', 'attention_mask_roberta'])\n"
     ]
    }
   ],
   "source": [
    "print(X_train.keys())\n",
    "print(X_valid.keys())"
   ]
  },
  {
   "cell_type": "code",
   "execution_count": 45,
   "metadata": {
    "colab": {
     "base_uri": "https://localhost:8080/",
     "height": 34
    },
    "colab_type": "code",
    "executionInfo": {
     "elapsed": 622373,
     "status": "ok",
     "timestamp": 1599526168399,
     "user": {
      "displayName": "Ur Tech Guide",
      "photoUrl": "https://lh3.googleusercontent.com/a-/AOh14GhBjMoWnc1KwT73B6hzAbvnSIxnZAl5PY9n_RGJ0w=s64",
      "userId": "03152431167485721857"
     },
     "user_tz": -300
    },
    "id": "s0PDnW80bPJN",
    "outputId": "224f11f8-f9dc-48f2-d578-66493ac4c15e"
   },
   "outputs": [
    {
     "data": {
      "text/plain": [
       "0"
      ]
     },
     "execution_count": 45,
     "metadata": {},
     "output_type": "execute_result"
    }
   ],
   "source": [
    "BATCH_SIZE = 64\n",
    "EPOCHS=20\n",
    "LEARNING_RATE=1e-5\n",
    "BETA_1=0.9\n",
    "BETA_2=0.999\n",
    "AUTO = tf.data.experimental.AUTOTUNE\n",
    "steps_per_epoch=df_train.shape[0]//BATCH_SIZE\n",
    "total_optimization_steps=int(steps_per_epoch*EPOCHS)\n",
    "WARM_UP_STEPS=int(0.06*total_optimization_steps)\n",
    "optimizer_with_schedule,lr_schedule=create_optimizer(init_lr=LEARNING_RATE,num_train_steps=total_optimization_steps,num_warmup_steps=WARM_UP_STEPS,schedule='cosine')\n",
    "EARLY_STOP=tf.keras.callbacks.EarlyStopping(patience=5)\n",
    "MAX_LEN=MAX_LEN\n",
    "LOSS=tf.keras.losses.CategoricalCrossentropy()\n",
    "OPTIMIZER=tf.keras.optimizers.Adam(learning_rate=LEARNING_RATE,beta_1=BETA_1,beta_2=BETA_2)\n",
    "del df_train\n",
    "del df_valid\n",
    "gc.collect()"
   ]
  },
  {
   "cell_type": "code",
   "execution_count": null,
   "metadata": {
    "colab": {},
    "colab_type": "code",
    "id": "h6YrawRgyPUi"
   },
   "outputs": [],
   "source": [
    "test=make_test_data(X_test)"
   ]
  },
  {
   "cell_type": "code",
   "execution_count": null,
   "metadata": {
    "colab": {},
    "colab_type": "code",
    "id": "rm4yFzpmbPx5"
   },
   "outputs": [],
   "source": [
    "def gbx_layers():\n",
    "    distill_bert = (\n",
    "                TFDistilBertModel.from_pretrained('distilbert-base-uncased')\n",
    "            )\n",
    "    \n",
    "\n",
    "    gpt_layer=(\n",
    "        TFGPT2Model.from_pretrained('distilgpt2')\n",
    "    )\n",
    "\n",
    "\n",
    "    roberta_model=(\n",
    "        TFXLMRobertaModel.from_pretrained('distilroberta-base')\n",
    "    )\n",
    "\n",
    "\n",
    "\n",
    "\n",
    "    input_ids_distill_bert = tf.keras.layers.Input(shape=(MAX_LEN,), dtype=tf.int32, name=\"input_ids_distill_bert\")\n",
    "    attention_mask_distill_bert=tf.keras.layers.Input(shape=(MAX_LEN,), dtype=tf.int32, name=\"attention_mask_distill_bert\")\n",
    "\n",
    "    input_ids_gpt_2 = tf.keras.layers.Input(shape=(MAX_LEN,), dtype=tf.int32, name=\"input_ids_gpt_2\")\n",
    "    attention_mask_gpt_2=tf.keras.layers.Input(shape=(MAX_LEN,), dtype=tf.int32, name=\"attention_mask_gpt_2\")\n",
    "\n",
    "    input_ids_roberta = tf.keras.layers.Input(shape=(MAX_LEN,), dtype=tf.int32, name=\"input_ids_roberta\")\n",
    "    attention_mask_roberta=tf.keras.layers.Input(shape=(MAX_LEN,), dtype=tf.int32, name=\"attention_mask_roberta\")\n",
    "        \n",
    "    \n",
    "    hidden_state_output_dbert=distill_bert([input_ids_distill_bert,attention_mask_distill_bert])[0]\n",
    "    hidden_state_output_gpt_2,_=gpt_layer({'input_ids': input_ids_gpt_2, 'attention_mask': attention_mask_gpt_2},past=None)\n",
    "    hidden_state_output_roberta,_=roberta_model([input_ids_roberta,attention_mask_roberta])\n",
    "    \n",
    "    \n",
    "    \n",
    "    combine_input_1=tf.keras.layers.concatenate([hidden_state_output_dbert,hidden_state_output_gpt_2,hidden_state_output_roberta],axis=2,name='Concatenate_layer')\n",
    "    \n",
    "    final_input=tf.keras.layers.Conv1D(filters=768,kernel_size=3,padding='same',name='Conv_1d_layer')(combine_input_1)\n",
    "    final_input_1=tf.keras.layers.GlobalAveragePooling1D(name='Average_Pooling_layer')(final_input)\n",
    "    out = tf.keras.layers.Dense(3, activation='softmax',name='Softmax_Layer')(final_input_1)\n",
    "\n",
    "\n",
    "    model = tf.keras.Model(inputs=[input_ids_distill_bert,attention_mask_distill_bert,input_ids_gpt_2,attention_mask_gpt_2,input_ids_roberta,attention_mask_roberta], outputs=out)\n",
    "   \n",
    "    return model"
   ]
  },
  {
   "cell_type": "code",
   "execution_count": null,
   "metadata": {
    "colab": {
     "base_uri": "https://localhost:8080/",
     "height": 1000,
     "referenced_widgets": [
      "50063ae40bde4a82bdd42287d8a957c3",
      "d942288a0f5744799114001f530c1603",
      "073158f35c6d4f4790755ee518b486ec",
      "a776987a4fdb47ef995d5a7e1854cb2e",
      "01dd3a7cd96545b1b325b8cd5e680b96",
      "26ebaddaa32846ee8316e2711286ca27",
      "56b155d8385d4f7b95f6c448ef966acd",
      "7a0ccda5ae584c4cafd8fea2632b23bb",
      "88ff3664508d425ba240d53d93c21e7b",
      "5b8251d04ced4b1b98c2d6b41e62a6f4",
      "2aebbd8de8dd4f208de86b0160bd4030",
      "59779bedf0d14ac0a67b500c22a10b32",
      "7296922755f44278b35f94fdb85ceac2",
      "237537ca26294fa2bc8be4fe28bcda61",
      "7344e7efe4eb4d9ebcba65aae807f50a",
      "8b09b27b8cac44a19083c567deff54d9",
      "49d6df495e10443c995883d9420d8e18",
      "59805267f73e4867b0b4b85ee217e793",
      "ee83ebef73824dbcafb3c74c9617eeb2",
      "097cb7752427421e9ddd7664a5b78df8",
      "1f8ebe09196f4b858af0c3242b079074",
      "a4ee64804af346ed800d14141e15243e",
      "44bfe0b3e3eb4ddeb0756989cbb8a00b",
      "f5084eaeae19432e967656d38ee75361",
      "965a0354192e4b9aab8bef6a3598a6f0",
      "09182e846bf34c7daaaf38b1e0f1b8f5",
      "a6571382f710442fb791367b0eb4ca00",
      "5b461c94a45c4227bf5c427c42048620",
      "c2b943aefd624f13869bed36568d81bb",
      "9ad736d0f6dd4ca1919ea59487cd33ad",
      "6fd5380a6eae4024a89879fd200b0067",
      "ae1df12a3a9f455e9fd54c3b682f2762",
      "e3fa5214f1bf4b70bbdea8d0ae30f7ab",
      "9e3523e33f4240d68dbf0b68ca89ca35",
      "4f3d7a0ff52141c6bc52fa5cd04c178e",
      "d4a4620c80c345a1a98fac3a623bf660",
      "e35d643945e247b69359c76155407b7a",
      "85f6aa3fccfb44e497a8c24452413045",
      "8c632b9566cf469080baa487cae567da",
      "54a034e1e1a44d2095e5497b0875f06b"
     ]
    },
    "colab_type": "code",
    "executionInfo": {
     "elapsed": 2725666,
     "status": "ok",
     "timestamp": 1599528271735,
     "user": {
      "displayName": "Ur Tech Guide",
      "photoUrl": "https://lh3.googleusercontent.com/a-/AOh14GhBjMoWnc1KwT73B6hzAbvnSIxnZAl5PY9n_RGJ0w=s64",
      "userId": "03152431167485721857"
     },
     "user_tz": -300
    },
    "id": "3zE8_NLNa8YR",
    "outputId": "9b67d403-b476-489d-e7c5-18d4fa25d49d"
   },
   "outputs": [
    {
     "data": {
      "application/vnd.jupyter.widget-view+json": {
       "model_id": "50063ae40bde4a82bdd42287d8a957c3",
       "version_major": 2,
       "version_minor": 0
      },
      "text/plain": [
       "HBox(children=(FloatProgress(value=0.0, description='Downloading', max=442.0, style=ProgressStyle(description_…"
      ]
     },
     "metadata": {
      "tags": []
     },
     "output_type": "display_data"
    },
    {
     "name": "stdout",
     "output_type": "stream",
     "text": [
      "\n"
     ]
    },
    {
     "data": {
      "application/vnd.jupyter.widget-view+json": {
       "model_id": "88ff3664508d425ba240d53d93c21e7b",
       "version_major": 2,
       "version_minor": 0
      },
      "text/plain": [
       "HBox(children=(FloatProgress(value=0.0, description='Downloading', max=363423424.0, style=ProgressStyle(descri…"
      ]
     },
     "metadata": {
      "tags": []
     },
     "output_type": "display_data"
    },
    {
     "name": "stdout",
     "output_type": "stream",
     "text": [
      "\n"
     ]
    },
    {
     "name": "stderr",
     "output_type": "stream",
     "text": [
      "Some weights of the model checkpoint at distilbert-base-uncased were not used when initializing TFDistilBertModel: ['vocab_projector', 'vocab_transform', 'vocab_layer_norm', 'activation_13']\n",
      "- This IS expected if you are initializing TFDistilBertModel from the checkpoint of a model trained on another task or with another architecture (e.g. initializing a BertForSequenceClassification model from a BertForPretraining model).\n",
      "- This IS NOT expected if you are initializing TFDistilBertModel from the checkpoint of a model that you expect to be exactly identical (initializing a BertForSequenceClassification model from a BertForSequenceClassification model).\n",
      "All the weights of TFDistilBertModel were initialized from the model checkpoint at distilbert-base-uncased.\n",
      "If your task is similar to the task the model of the checkpoint was trained on, you can already use TFDistilBertModel for predictions without further training.\n"
     ]
    },
    {
     "data": {
      "application/vnd.jupyter.widget-view+json": {
       "model_id": "49d6df495e10443c995883d9420d8e18",
       "version_major": 2,
       "version_minor": 0
      },
      "text/plain": [
       "HBox(children=(FloatProgress(value=0.0, description='Downloading', max=762.0, style=ProgressStyle(description_…"
      ]
     },
     "metadata": {
      "tags": []
     },
     "output_type": "display_data"
    },
    {
     "name": "stdout",
     "output_type": "stream",
     "text": [
      "\n"
     ]
    },
    {
     "data": {
      "application/vnd.jupyter.widget-view+json": {
       "model_id": "965a0354192e4b9aab8bef6a3598a6f0",
       "version_major": 2,
       "version_minor": 0
      },
      "text/plain": [
       "HBox(children=(FloatProgress(value=0.0, description='Downloading', max=327744160.0, style=ProgressStyle(descri…"
      ]
     },
     "metadata": {
      "tags": []
     },
     "output_type": "display_data"
    },
    {
     "name": "stdout",
     "output_type": "stream",
     "text": [
      "\n"
     ]
    },
    {
     "name": "stderr",
     "output_type": "stream",
     "text": [
      "All model checkpoint weights were used when initializing TFGPT2Model.\n",
      "\n",
      "All the weights of TFGPT2Model were initialized from the model checkpoint at distilgpt2.\n",
      "If your task is similar to the task the model of the checkpoint was trained on, you can already use TFGPT2Model for predictions without further training.\n"
     ]
    },
    {
     "data": {
      "application/vnd.jupyter.widget-view+json": {
       "model_id": "e3fa5214f1bf4b70bbdea8d0ae30f7ab",
       "version_major": 2,
       "version_minor": 0
      },
      "text/plain": [
       "HBox(children=(FloatProgress(value=0.0, description='Downloading', max=487203636.0, style=ProgressStyle(descri…"
      ]
     },
     "metadata": {
      "tags": []
     },
     "output_type": "display_data"
    },
    {
     "name": "stdout",
     "output_type": "stream",
     "text": [
      "\n"
     ]
    },
    {
     "name": "stderr",
     "output_type": "stream",
     "text": [
      "Some weights of the model checkpoint at distilroberta-base were not used when initializing TFXLMRobertaModel: ['lm_head']\n",
      "- This IS expected if you are initializing TFXLMRobertaModel from the checkpoint of a model trained on another task or with another architecture (e.g. initializing a BertForSequenceClassification model from a BertForPretraining model).\n",
      "- This IS NOT expected if you are initializing TFXLMRobertaModel from the checkpoint of a model that you expect to be exactly identical (initializing a BertForSequenceClassification model from a BertForSequenceClassification model).\n",
      "All the weights of TFXLMRobertaModel were initialized from the model checkpoint at distilroberta-base.\n",
      "If your task is similar to the task the model of the checkpoint was trained on, you can already use TFXLMRobertaModel for predictions without further training.\n"
     ]
    },
    {
     "name": "stdout",
     "output_type": "stream",
     "text": [
      "Model: \"functional_1\"\n",
      "__________________________________________________________________________________________________\n",
      "Layer (type)                    Output Shape         Param #     Connected to                     \n",
      "==================================================================================================\n",
      "input_ids_distill_bert (InputLa [(None, 256)]        0                                            \n",
      "__________________________________________________________________________________________________\n",
      "attention_mask_distill_bert (In [(None, 256)]        0                                            \n",
      "__________________________________________________________________________________________________\n",
      "attention_mask_gpt_2 (InputLaye [(None, 256)]        0                                            \n",
      "__________________________________________________________________________________________________\n",
      "input_ids_gpt_2 (InputLayer)    [(None, 256)]        0                                            \n",
      "__________________________________________________________________________________________________\n",
      "input_ids_roberta (InputLayer)  [(None, 256)]        0                                            \n",
      "__________________________________________________________________________________________________\n",
      "attention_mask_roberta (InputLa [(None, 256)]        0                                            \n",
      "__________________________________________________________________________________________________\n",
      "tf_distil_bert_model (TFDistilB ((None, 256, 768),)  66362880    input_ids_distill_bert[0][0]     \n",
      "                                                                 attention_mask_distill_bert[0][0]\n",
      "__________________________________________________________________________________________________\n",
      "tfgp_t2model (TFGPT2Model)      ((None, 256, 768), ( 81912576    attention_mask_gpt_2[0][0]       \n",
      "                                                                 input_ids_gpt_2[0][0]            \n",
      "__________________________________________________________________________________________________\n",
      "tfxlm_roberta_model (TFXLMRober ((None, 256, 768), ( 82118400    input_ids_roberta[0][0]          \n",
      "                                                                 attention_mask_roberta[0][0]     \n",
      "__________________________________________________________________________________________________\n",
      "Concatenate_layer (Concatenate) (None, 256, 2304)    0           tf_distil_bert_model[0][0]       \n",
      "                                                                 tfgp_t2model[0][0]               \n",
      "                                                                 tfxlm_roberta_model[0][0]        \n",
      "__________________________________________________________________________________________________\n",
      "Conv_1d_layer (Conv1D)          (None, 256, 768)     5309184     Concatenate_layer[0][0]          \n",
      "__________________________________________________________________________________________________\n",
      "Average_Pooling_layer (GlobalAv (None, 768)          0           Conv_1d_layer[0][0]              \n",
      "__________________________________________________________________________________________________\n",
      "Softmax_Layer (Dense)           (None, 3)            2307        Average_Pooling_layer[0][0]      \n",
      "==================================================================================================\n",
      "Total params: 235,705,347\n",
      "Trainable params: 235,705,347\n",
      "Non-trainable params: 0\n",
      "__________________________________________________________________________________________________\n",
      "None\n"
     ]
    }
   ],
   "source": [
    "def compile_gbx(optim):\n",
    "  model=gbx_layers()\n",
    "  model.compile(optimizer=optim,loss=LOSS,metrics='accuracy')\n",
    "  print(model.summary())\n",
    "  return model\n",
    "\n",
    "\n",
    "train,valid=tensorflow_make_train_valid_data(X_train,y_train,X_valid,y_valid)\n",
    "del X_train,X_valid\n",
    "gc.collect()\n",
    "with strategy.scope():\n",
    "  model=compile_gbx(optimizer_with_schedule)"
   ]
  },
  {
   "cell_type": "markdown",
   "metadata": {
    "colab_type": "text",
    "id": "nsNXbOK3a9HU"
   },
   "source": [
    "## GBX Model Run\n",
    "\n",
    "Following Parameters were used-Run(1)\n",
    "\n",
    "\n",
    "1.   BATCH_SIZE = 64\n",
    "2.   EPOCHS=20(with early callback)\n",
    "3.   LEARNING_RATE=1e-5\n",
    "4.   BETA_1=0.9-BETA_2=0.999\n",
    "5.   Scheduler=Cosine with Intial Learning Rate of 1e-5\n",
    "6.   Freezing=No Layer was Freezed\n",
    "7.   MAX_LEN=256\n",
    "8.   Trained on TPU(Google Colab)\n",
    "9.   Balanced Wieghts were Used"
   ]
  },
  {
   "cell_type": "code",
   "execution_count": null,
   "metadata": {
    "colab": {
     "base_uri": "https://localhost:8080/",
     "height": 734
    },
    "colab_type": "code",
    "executionInfo": {
     "elapsed": 15049958,
     "status": "ok",
     "timestamp": 1599540596056,
     "user": {
      "displayName": "Ur Tech Guide",
      "photoUrl": "https://lh3.googleusercontent.com/a-/AOh14GhBjMoWnc1KwT73B6hzAbvnSIxnZAl5PY9n_RGJ0w=s64",
      "userId": "03152431167485721857"
     },
     "user_tz": -300
    },
    "id": "XII_hikfblCB",
    "outputId": "646a6c49-ed49-447b-dc46-037d3a45531b"
   },
   "outputs": [
    {
     "name": "stdout",
     "output_type": "stream",
     "text": [
      "Epoch 1/20\n",
      "WARNING:tensorflow:From /usr/local/lib/python3.6/dist-packages/tensorflow/python/data/ops/multi_device_iterator_ops.py:601: get_next_as_optional (from tensorflow.python.data.ops.iterator_ops) is deprecated and will be removed in a future version.\n",
      "Instructions for updating:\n",
      "Use `tf.data.Iterator.get_next_as_optional()` instead.\n"
     ]
    },
    {
     "name": "stderr",
     "output_type": "stream",
     "text": [
      "WARNING:tensorflow:From /usr/local/lib/python3.6/dist-packages/tensorflow/python/data/ops/multi_device_iterator_ops.py:601: get_next_as_optional (from tensorflow.python.data.ops.iterator_ops) is deprecated and will be removed in a future version.\n",
      "Instructions for updating:\n",
      "Use `tf.data.Iterator.get_next_as_optional()` instead.\n"
     ]
    },
    {
     "name": "stdout",
     "output_type": "stream",
     "text": [
      "WARNING:tensorflow:Gradients do not exist for variables ['tfxlm_roberta_model/roberta/pooler/dense/kernel:0', 'tfxlm_roberta_model/roberta/pooler/dense/bias:0'] when minimizing the loss.\n"
     ]
    },
    {
     "name": "stderr",
     "output_type": "stream",
     "text": [
      "WARNING:tensorflow:Gradients do not exist for variables ['tfxlm_roberta_model/roberta/pooler/dense/kernel:0', 'tfxlm_roberta_model/roberta/pooler/dense/bias:0'] when minimizing the loss.\n"
     ]
    },
    {
     "name": "stdout",
     "output_type": "stream",
     "text": [
      "WARNING:tensorflow:Gradients do not exist for variables ['tfxlm_roberta_model/roberta/pooler/dense/kernel:0', 'tfxlm_roberta_model/roberta/pooler/dense/bias:0'] when minimizing the loss.\n"
     ]
    },
    {
     "name": "stderr",
     "output_type": "stream",
     "text": [
      "WARNING:tensorflow:Gradients do not exist for variables ['tfxlm_roberta_model/roberta/pooler/dense/kernel:0', 'tfxlm_roberta_model/roberta/pooler/dense/bias:0'] when minimizing the loss.\n"
     ]
    },
    {
     "name": "stdout",
     "output_type": "stream",
     "text": [
      "WARNING:tensorflow:Gradients do not exist for variables ['tfxlm_roberta_model/roberta/pooler/dense/kernel:0', 'tfxlm_roberta_model/roberta/pooler/dense/bias:0'] when minimizing the loss.\n"
     ]
    },
    {
     "name": "stderr",
     "output_type": "stream",
     "text": [
      "WARNING:tensorflow:Gradients do not exist for variables ['tfxlm_roberta_model/roberta/pooler/dense/kernel:0', 'tfxlm_roberta_model/roberta/pooler/dense/bias:0'] when minimizing the loss.\n"
     ]
    },
    {
     "name": "stdout",
     "output_type": "stream",
     "text": [
      "WARNING:tensorflow:Gradients do not exist for variables ['tfxlm_roberta_model/roberta/pooler/dense/kernel:0', 'tfxlm_roberta_model/roberta/pooler/dense/bias:0'] when minimizing the loss.\n"
     ]
    },
    {
     "name": "stderr",
     "output_type": "stream",
     "text": [
      "WARNING:tensorflow:Gradients do not exist for variables ['tfxlm_roberta_model/roberta/pooler/dense/kernel:0', 'tfxlm_roberta_model/roberta/pooler/dense/bias:0'] when minimizing the loss.\n"
     ]
    },
    {
     "name": "stdout",
     "output_type": "stream",
     "text": [
      "   2/4006 [..............................] - ETA: 8:53 - loss: 1.8326 - accuracy: 0.0234   WARNING:tensorflow:Callbacks method `on_train_batch_end` is slow compared to the batch time (batch time: 0.0142s vs `on_train_batch_end` time: 0.2481s). Check your callbacks.\n"
     ]
    },
    {
     "name": "stderr",
     "output_type": "stream",
     "text": [
      "WARNING:tensorflow:Callbacks method `on_train_batch_end` is slow compared to the batch time (batch time: 0.0142s vs `on_train_batch_end` time: 0.2481s). Check your callbacks.\n"
     ]
    },
    {
     "name": "stdout",
     "output_type": "stream",
     "text": [
      "4006/4006 [==============================] - ETA: 0s - loss: 0.6567 - accuracy: 0.6247WARNING:tensorflow:Callbacks method `on_test_batch_end` is slow compared to the batch time (batch time: 0.0045s vs `on_test_batch_end` time: 0.0665s). Check your callbacks.\n"
     ]
    },
    {
     "name": "stderr",
     "output_type": "stream",
     "text": [
      "WARNING:tensorflow:Callbacks method `on_test_batch_end` is slow compared to the batch time (batch time: 0.0045s vs `on_test_batch_end` time: 0.0665s). Check your callbacks.\n"
     ]
    },
    {
     "name": "stdout",
     "output_type": "stream",
     "text": [
      "\b\b\b\b\b\b\b\b\b\b\b\b\b\b\b\b\b\b\b\b\b\b\b\b\b\b\b\b\b\b\b\b\b\b\b\b\b\b\b\b\b\b\b\b\b\b\b\b\b\b\b\b\b\b\b\b\b\b\b\b\b\b\b\b\b\b\b\b\b\b\b\b\b\b\b\b\b\b\b\b\b\b\b\b\b\b\r",
      "4006/4006 [==============================] - 1124s 280ms/step - loss: 0.6567 - accuracy: 0.6247 - val_loss: 0.5477 - val_accuracy: 0.7515\n",
      "Epoch 2/20\n",
      "4006/4006 [==============================] - 1103s 275ms/step - loss: 0.4363 - accuracy: 0.7520 - val_loss: 0.4209 - val_accuracy: 0.8095\n",
      "Epoch 3/20\n",
      "4006/4006 [==============================] - 1107s 276ms/step - loss: 0.3270 - accuracy: 0.8030 - val_loss: 0.3997 - val_accuracy: 0.8256\n",
      "Epoch 4/20\n",
      "4006/4006 [==============================] - 1105s 276ms/step - loss: 0.2642 - accuracy: 0.8389 - val_loss: 0.4367 - val_accuracy: 0.8283\n",
      "Epoch 5/20\n",
      "4006/4006 [==============================] - 1106s 276ms/step - loss: 0.2235 - accuracy: 0.8644 - val_loss: 0.4892 - val_accuracy: 0.8202\n",
      "Epoch 6/20\n",
      "4006/4006 [==============================] - 1103s 275ms/step - loss: 0.1932 - accuracy: 0.8839 - val_loss: 0.3609 - val_accuracy: 0.8625\n",
      "Epoch 7/20\n",
      "4006/4006 [==============================] - 1105s 276ms/step - loss: 0.1666 - accuracy: 0.9014 - val_loss: 0.3897 - val_accuracy: 0.8624\n",
      "Epoch 8/20\n",
      "4006/4006 [==============================] - 1104s 276ms/step - loss: 0.1429 - accuracy: 0.9163 - val_loss: 0.4093 - val_accuracy: 0.8589\n",
      "Epoch 9/20\n",
      "4006/4006 [==============================] - 1103s 275ms/step - loss: 0.1188 - accuracy: 0.9305 - val_loss: 0.4266 - val_accuracy: 0.8647\n",
      "Epoch 10/20\n",
      "4006/4006 [==============================] - 1106s 276ms/step - loss: 0.1028 - accuracy: 0.9408 - val_loss: 0.4639 - val_accuracy: 0.8697\n",
      "Epoch 11/20\n",
      "4006/4006 [==============================] - 1106s 276ms/step - loss: 0.0872 - accuracy: 0.9505 - val_loss: 0.4751 - val_accuracy: 0.8706\n"
     ]
    },
    {
     "data": {
      "text/plain": [
       "<tensorflow.python.keras.callbacks.History at 0x7f9931445978>"
      ]
     },
     "execution_count": 44,
     "metadata": {
      "tags": []
     },
     "output_type": "execute_result"
    }
   ],
   "source": [
    "history = LossHistory()\n",
    "y_integers = np.argmax(y_train, axis=1)\n",
    "class_weights = compute_class_weight('balanced', np.unique(y_integers), y_integers)\n",
    "d_class_weights = dict(enumerate(class_weights))\n",
    "\n",
    "model.fit(\n",
    "      train,steps_per_epoch=steps_per_epoch,\n",
    "      epochs=EPOCHS,callbacks=[history,EARLY_STOP], validation_data=valid,class_weight=d_class_weights\n",
    ")"
   ]
  },
  {
   "cell_type": "markdown",
   "metadata": {
    "colab_type": "text",
    "id": "NwWh61iLg7di"
   },
   "source": [
    "## Note\n",
    "Due to un-availibility of test labels for this latest compeition I had to check metrics performance on validation data but test predicted label were tested on kaggle leaderboard and screen shot is attached for each run"
   ]
  },
  {
   "cell_type": "markdown",
   "metadata": {
    "colab_type": "text",
    "id": "9YIodOJqhHiv"
   },
   "source": [
    "### Kaggle Performance Test Set"
   ]
  },
  {
   "cell_type": "code",
   "execution_count": null,
   "metadata": {
    "colab": {
     "base_uri": "https://localhost:8080/",
     "height": 88
    },
    "colab_type": "code",
    "executionInfo": {
     "elapsed": 105961,
     "status": "ok",
     "timestamp": 1599540739534,
     "user": {
      "displayName": "Ur Tech Guide",
      "photoUrl": "https://lh3.googleusercontent.com/a-/AOh14GhBjMoWnc1KwT73B6hzAbvnSIxnZAl5PY9n_RGJ0w=s64",
      "userId": "03152431167485721857"
     },
     "user_tz": -300
    },
    "id": "Hki4ZeLlhKdK",
    "outputId": "6df8bdbf-b17a-447d-d398-e1683775ceb2"
   },
   "outputs": [
    {
     "name": "stdout",
     "output_type": "stream",
     "text": [
      "   2/1252 [..............................] - ETA: 1:46:11WARNING:tensorflow:Callbacks method `on_predict_batch_end` is slow compared to the batch time (batch time: 0.0046s vs `on_predict_batch_end` time: 0.0631s). Check your callbacks.\n"
     ]
    },
    {
     "name": "stderr",
     "output_type": "stream",
     "text": [
      "WARNING:tensorflow:Callbacks method `on_predict_batch_end` is slow compared to the batch time (batch time: 0.0046s vs `on_predict_batch_end` time: 0.0631s). Check your callbacks.\n"
     ]
    },
    {
     "name": "stdout",
     "output_type": "stream",
     "text": [
      "1252/1252 [==============================] - 97s 77ms/step\n"
     ]
    }
   ],
   "source": [
    "y_pred=model.predict(test,verbose=1)\n",
    "y_pred=tf.argmax(y_pred,axis=1)\n",
    "y_pred=pd.Series(y_pred).map({0:'unrelated',1:'agreed',2:'disagreed'})\n",
    "submission=pd.DataFrame()\n",
    "submission['category']=y_pred\n",
    "submission['id']=df_test['id']\n",
    "submission.to_csv('WSDM_kaggle_test.csv')"
   ]
  },
  {
   "cell_type": "code",
   "execution_count": null,
   "metadata": {
    "colab": {
     "base_uri": "https://localhost:8080/",
     "height": 88
    },
    "colab_type": "code",
    "executionInfo": {
     "elapsed": 197001,
     "status": "ok",
     "timestamp": 1599540841015,
     "user": {
      "displayName": "Ur Tech Guide",
      "photoUrl": "https://lh3.googleusercontent.com/a-/AOh14GhBjMoWnc1KwT73B6hzAbvnSIxnZAl5PY9n_RGJ0w=s64",
      "userId": "03152431167485721857"
     },
     "user_tz": -300
    },
    "id": "0GM419HDbnJn",
    "outputId": "f2ef4399-5c16-49a8-8d0b-573d5f63b155"
   },
   "outputs": [
    {
     "name": "stdout",
     "output_type": "stream",
     "text": [
      "   2/1002 [..............................] - ETA: 1:27:20WARNING:tensorflow:Callbacks method `on_predict_batch_end` is slow compared to the batch time (batch time: 0.0090s vs `on_predict_batch_end` time: 0.0665s). Check your callbacks.\n"
     ]
    },
    {
     "name": "stderr",
     "output_type": "stream",
     "text": [
      "WARNING:tensorflow:Callbacks method `on_predict_batch_end` is slow compared to the batch time (batch time: 0.0090s vs `on_predict_batch_end` time: 0.0665s). Check your callbacks.\n"
     ]
    },
    {
     "name": "stdout",
     "output_type": "stream",
     "text": [
      "1002/1002 [==============================] - 94s 94ms/step\n"
     ]
    }
   ],
   "source": [
    "y_pred=model.predict(valid,verbose=1)\n",
    "y_true=y_valid"
   ]
  },
  {
   "cell_type": "code",
   "execution_count": null,
   "metadata": {
    "colab": {},
    "colab_type": "code",
    "id": "tc0RJ_Xybouj"
   },
   "outputs": [],
   "source": [
    "saved_history=np.array(history.losses)\n",
    "np.save('y_pred_WSDM_run(1).npy',y_pred,allow_pickle=True)\n",
    "np.save('saved_history_WSDM_run(1).npy',saved_history)"
   ]
  },
  {
   "cell_type": "code",
   "execution_count": null,
   "metadata": {
    "colab": {
     "base_uri": "https://localhost:8080/",
     "height": 626
    },
    "colab_type": "code",
    "executionInfo": {
     "elapsed": 195102,
     "status": "ok",
     "timestamp": 1599540842220,
     "user": {
      "displayName": "Ur Tech Guide",
      "photoUrl": "https://lh3.googleusercontent.com/a-/AOh14GhBjMoWnc1KwT73B6hzAbvnSIxnZAl5PY9n_RGJ0w=s64",
      "userId": "03152431167485721857"
     },
     "user_tz": -300
    },
    "id": "lSakenfw73w1",
    "outputId": "ddd67716-19fb-47a3-bfce-77c3c56df5b9"
   },
   "outputs": [
    {
     "data": {
      "image/png": "[encoded data removed]",
      "text/plain": [
       "<Figure size 864x720 with 1 Axes>"
      ]
     },
     "metadata": {
      "tags": []
     },
     "output_type": "display_data"
    }
   ],
   "source": [
    "history=np.load('/content/drive/My Drive/Final Research Project/saved_history_WSDM_run(1).npy',allow_pickle=True)\n",
    "plot_loss(history,'GBX on WSDM Dataset-Run(1)')"
   ]
  },
  {
   "cell_type": "code",
   "execution_count": null,
   "metadata": {
    "colab": {
     "base_uri": "https://localhost:8080/",
     "height": 626
    },
    "colab_type": "code",
    "executionInfo": {
     "elapsed": 194380,
     "status": "ok",
     "timestamp": 1599540842222,
     "user": {
      "displayName": "Ur Tech Guide",
      "photoUrl": "https://lh3.googleusercontent.com/a-/AOh14GhBjMoWnc1KwT73B6hzAbvnSIxnZAl5PY9n_RGJ0w=s64",
      "userId": "03152431167485721857"
     },
     "user_tz": -300
    },
    "id": "yLZRWgQjbtHw",
    "outputId": "e9de9224-a5f9-48bd-9a84-39d4b6d25b0e"
   },
   "outputs": [
    {
     "data": {
      "image/png": "[encoded data removed]",
      "text/plain": [
       "<Figure size 720x720 with 2 Axes>"
      ]
     },
     "metadata": {
      "tags": []
     },
     "output_type": "display_data"
    }
   ],
   "source": [
    "plot_cm(y_true, y_pred, 'GBX on WSDM Dataset-Run(1)')"
   ]
  },
  {
   "cell_type": "code",
   "execution_count": null,
   "metadata": {
    "colab": {
     "base_uri": "https://localhost:8080/",
     "height": 204
    },
    "colab_type": "code",
    "executionInfo": {
     "elapsed": 1435,
     "status": "ok",
     "timestamp": 1599540925869,
     "user": {
      "displayName": "Ur Tech Guide",
      "photoUrl": "https://lh3.googleusercontent.com/a-/AOh14GhBjMoWnc1KwT73B6hzAbvnSIxnZAl5PY9n_RGJ0w=s64",
      "userId": "03152431167485721857"
     },
     "user_tz": -300
    },
    "id": "oQAk55xabug8",
    "outputId": "6cbdce4d-db31-4ce0-f7b2-91c60c14369f"
   },
   "outputs": [
    {
     "name": "stdout",
     "output_type": "stream",
     "text": [
      "The accuracy of the model GBX on WSDM Dataset-Run(1) is Accuracy: 87.063%\n",
      "              precision    recall  f1-score   support\n",
      "\n",
      "   unrelated       0.93      0.88      0.90     43863\n",
      "      agreed       0.80      0.86      0.83     18595\n",
      "   disagreed       0.48      0.75      0.58      1653\n",
      "\n",
      "    accuracy                           0.87     64111\n",
      "   macro avg       0.74      0.83      0.77     64111\n",
      "weighted avg       0.88      0.87      0.87     64111\n",
      "\n"
     ]
    }
   ],
   "source": [
    "accuracy(y_true,y_pred,'GBX on WSDM Dataset-Run(1)')"
   ]
  },
  {
   "cell_type": "code",
   "execution_count": null,
   "metadata": {
    "colab": {},
    "colab_type": "code",
    "id": "KJcHCsYDDVlK"
   },
   "outputs": [],
   "source": []
  }
 ],
 "metadata": {
  "accelerator": "TPU",
  "colab": {
   "authorship_tag": "ABX9TyOjS7VnInM2btPdhMfE4EMJ",
   "collapsed_sections": [],
   "mount_file_id": "11zA7sTTCZQrJF3bzlwgICstXn2xk2Syf",
   "name": " GBX model on WSDM Challenge.ipynb",
   "provenance": [
    {
     "file_id": "19vgmJmrDaYQJ1L2-IhGJt92dLLlsYVhr",
     "timestamp": 1599260955152
    }
   ],
   "toc_visible": true
  },
  "kernelspec": {
   "display_name": "Python 3",
   "language": "python",
   "name": "python3"
  },
  "language_info": {
   "codemirror_mode": {
    "name": "ipython",
    "version": 3
   },
   "file_extension": ".py",
   "mimetype": "text/x-python",
   "name": "python",
   "nbconvert_exporter": "python",
   "pygments_lexer": "ipython3",
   "version": "3.8.10"
  },
  "widgets": {
   "application/vnd.jupyter.widget-state+json": {
    "01dd3a7cd96545b1b325b8cd5e680b96": {
     "model_module": "@jupyter-widgets/controls",
     "model_name": "ProgressStyleModel",
     "state": {
      "_model_module": "@jupyter-widgets/controls",
      "_model_module_version": "1.5.0",
      "_model_name": "ProgressStyleModel",
      "_view_count": null,
      "_view_module": "@jupyter-widgets/base",
      "_view_module_version": "1.2.0",
      "_view_name": "StyleView",
      "bar_color": null,
      "description_width": "initial"
     }
    },
    "036f7831c34f4927a58aaac58fc7f6f7": {
     "model_module": "@jupyter-widgets/controls",
     "model_name": "FloatProgressModel",
     "state": {
      "_dom_classes": [],
      "_model_module": "@jupyter-widgets/controls",
      "_model_module_version": "1.5.0",
      "_model_name": "FloatProgressModel",
      "_view_count": null,
      "_view_module": "@jupyter-widgets/controls",
      "_view_module_version": "1.5.0",
      "_view_name": "ProgressView",
      "bar_style": "success",
      "description": "Downloading: 100%",
      "description_tooltip": null,
      "layout": "IPY_MODEL_2ced7793d09446dd8c32cc41568cfd06",
      "max": 231508,
      "min": 0,
      "orientation": "horizontal",
      "style": "IPY_MODEL_feeb62147f6c40a89aeeae45e853842e",
      "value": 231508
     }
    },
    "057022f008c147c0b57d8d84afb5f805": {
     "model_module": "@jupyter-widgets/base",
     "model_name": "LayoutModel",
     "state": {
      "_model_module": "@jupyter-widgets/base",
      "_model_module_version": "1.2.0",
      "_model_name": "LayoutModel",
      "_view_count": null,
      "_view_module": "@jupyter-widgets/base",
      "_view_module_version": "1.2.0",
      "_view_name": "LayoutView",
      "align_content": null,
      "align_items": null,
      "align_self": null,
      "border": null,
      "bottom": null,
      "display": null,
      "flex": null,
      "flex_flow": null,
      "grid_area": null,
      "grid_auto_columns": null,
      "grid_auto_flow": null,
      "grid_auto_rows": null,
      "grid_column": null,
      "grid_gap": null,
      "grid_row": null,
      "grid_template_areas": null,
      "grid_template_columns": null,
      "grid_template_rows": null,
      "height": null,
      "justify_content": null,
      "justify_items": null,
      "left": null,
      "margin": null,
      "max_height": null,
      "max_width": null,
      "min_height": null,
      "min_width": null,
      "object_fit": null,
      "object_position": null,
      "order": null,
      "overflow": null,
      "overflow_x": null,
      "overflow_y": null,
      "padding": null,
      "right": null,
      "top": null,
      "visibility": null,
      "width": null
     }
    },
    "073158f35c6d4f4790755ee518b486ec": {
     "model_module": "@jupyter-widgets/controls",
     "model_name": "FloatProgressModel",
     "state": {
      "_dom_classes": [],
      "_model_module": "@jupyter-widgets/controls",
      "_model_module_version": "1.5.0",
      "_model_name": "FloatProgressModel",
      "_view_count": null,
      "_view_module": "@jupyter-widgets/controls",
      "_view_module_version": "1.5.0",
      "_view_name": "ProgressView",
      "bar_style": "success",
      "description": "Downloading: 100%",
      "description_tooltip": null,
      "layout": "IPY_MODEL_26ebaddaa32846ee8316e2711286ca27",
      "max": 442,
      "min": 0,
      "orientation": "horizontal",
      "style": "IPY_MODEL_01dd3a7cd96545b1b325b8cd5e680b96",
      "value": 442
     }
    },
    "077d28f660684d6086cc37a6c4afae65": {
     "model_module": "@jupyter-widgets/base",
     "model_name": "LayoutModel",
     "state": {
      "_model_module": "@jupyter-widgets/base",
      "_model_module_version": "1.2.0",
      "_model_name": "LayoutModel",
      "_view_count": null,
      "_view_module": "@jupyter-widgets/base",
      "_view_module_version": "1.2.0",
      "_view_name": "LayoutView",
      "align_content": null,
      "align_items": null,
      "align_self": null,
      "border": null,
      "bottom": null,
      "display": null,
      "flex": null,
      "flex_flow": null,
      "grid_area": null,
      "grid_auto_columns": null,
      "grid_auto_flow": null,
      "grid_auto_rows": null,
      "grid_column": null,
      "grid_gap": null,
      "grid_row": null,
      "grid_template_areas": null,
      "grid_template_columns": null,
      "grid_template_rows": null,
      "height": null,
      "justify_content": null,
      "justify_items": null,
      "left": null,
      "margin": null,
      "max_height": null,
      "max_width": null,
      "min_height": null,
      "min_width": null,
      "object_fit": null,
      "object_position": null,
      "order": null,
      "overflow": null,
      "overflow_x": null,
      "overflow_y": null,
      "padding": null,
      "right": null,
      "top": null,
      "visibility": null,
      "width": null
     }
    },
    "09182e846bf34c7daaaf38b1e0f1b8f5": {
     "model_module": "@jupyter-widgets/base",
     "model_name": "LayoutModel",
     "state": {
      "_model_module": "@jupyter-widgets/base",
      "_model_module_version": "1.2.0",
      "_model_name": "LayoutModel",
      "_view_count": null,
      "_view_module": "@jupyter-widgets/base",
      "_view_module_version": "1.2.0",
      "_view_name": "LayoutView",
      "align_content": null,
      "align_items": null,
      "align_self": null,
      "border": null,
      "bottom": null,
      "display": null,
      "flex": null,
      "flex_flow": null,
      "grid_area": null,
      "grid_auto_columns": null,
      "grid_auto_flow": null,
      "grid_auto_rows": null,
      "grid_column": null,
      "grid_gap": null,
      "grid_row": null,
      "grid_template_areas": null,
      "grid_template_columns": null,
      "grid_template_rows": null,
      "height": null,
      "justify_content": null,
      "justify_items": null,
      "left": null,
      "margin": null,
      "max_height": null,
      "max_width": null,
      "min_height": null,
      "min_width": null,
      "object_fit": null,
      "object_position": null,
      "order": null,
      "overflow": null,
      "overflow_x": null,
      "overflow_y": null,
      "padding": null,
      "right": null,
      "top": null,
      "visibility": null,
      "width": null
     }
    },
    "097cb7752427421e9ddd7664a5b78df8": {
     "model_module": "@jupyter-widgets/controls",
     "model_name": "HTMLModel",
     "state": {
      "_dom_classes": [],
      "_model_module": "@jupyter-widgets/controls",
      "_model_module_version": "1.5.0",
      "_model_name": "HTMLModel",
      "_view_count": null,
      "_view_module": "@jupyter-widgets/controls",
      "_view_module_version": "1.5.0",
      "_view_name": "HTMLView",
      "description": "",
      "description_tooltip": null,
      "layout": "IPY_MODEL_f5084eaeae19432e967656d38ee75361",
      "placeholder": "​",
      "style": "IPY_MODEL_44bfe0b3e3eb4ddeb0756989cbb8a00b",
      "value": " 762/762 [00:00&lt;00:00, 2.27kB/s]"
     }
    },
    "0d3547e5178f4f159e71f5d1e31c6249": {
     "model_module": "@jupyter-widgets/controls",
     "model_name": "HBoxModel",
     "state": {
      "_dom_classes": [],
      "_model_module": "@jupyter-widgets/controls",
      "_model_module_version": "1.5.0",
      "_model_name": "HBoxModel",
      "_view_count": null,
      "_view_module": "@jupyter-widgets/controls",
      "_view_module_version": "1.5.0",
      "_view_name": "HBoxView",
      "box_style": "",
      "children": [
       "IPY_MODEL_f631f7efa836478c83a8feb63ba6493e",
       "IPY_MODEL_d24dd2fcd7bb4d2aa064071e1d435380"
      ],
      "layout": "IPY_MODEL_f643c94a7d2d4954ba2d5693cb9453b6"
     }
    },
    "10e1849df6f84739beb0d0eb2dd7c6cd": {
     "model_module": "@jupyter-widgets/base",
     "model_name": "LayoutModel",
     "state": {
      "_model_module": "@jupyter-widgets/base",
      "_model_module_version": "1.2.0",
      "_model_name": "LayoutModel",
      "_view_count": null,
      "_view_module": "@jupyter-widgets/base",
      "_view_module_version": "1.2.0",
      "_view_name": "LayoutView",
      "align_content": null,
      "align_items": null,
      "align_self": null,
      "border": null,
      "bottom": null,
      "display": null,
      "flex": null,
      "flex_flow": null,
      "grid_area": null,
      "grid_auto_columns": null,
      "grid_auto_flow": null,
      "grid_auto_rows": null,
      "grid_column": null,
      "grid_gap": null,
      "grid_row": null,
      "grid_template_areas": null,
      "grid_template_columns": null,
      "grid_template_rows": null,
      "height": null,
      "justify_content": null,
      "justify_items": null,
      "left": null,
      "margin": null,
      "max_height": null,
      "max_width": null,
      "min_height": null,
      "min_width": null,
      "object_fit": null,
      "object_position": null,
      "order": null,
      "overflow": null,
      "overflow_x": null,
      "overflow_y": null,
      "padding": null,
      "right": null,
      "top": null,
      "visibility": null,
      "width": null
     }
    },
    "1707560824944e41ad7aecbefcce68ac": {
     "model_module": "@jupyter-widgets/controls",
     "model_name": "HTMLModel",
     "state": {
      "_dom_classes": [],
      "_model_module": "@jupyter-widgets/controls",
      "_model_module_version": "1.5.0",
      "_model_name": "HTMLModel",
      "_view_count": null,
      "_view_module": "@jupyter-widgets/controls",
      "_view_module_version": "1.5.0",
      "_view_name": "HTMLView",
      "description": "",
      "description_tooltip": null,
      "layout": "IPY_MODEL_9336c18ca3a842a4b28dd81ac00b704f",
      "placeholder": "​",
      "style": "IPY_MODEL_2a20a7182056493d9c09c9caeb061fd4",
      "value": " 480/480 [00:01&lt;00:00, 423B/s]"
     }
    },
    "1806b4972201421cae414b85594e5755": {
     "model_module": "@jupyter-widgets/controls",
     "model_name": "DescriptionStyleModel",
     "state": {
      "_model_module": "@jupyter-widgets/controls",
      "_model_module_version": "1.5.0",
      "_model_name": "DescriptionStyleModel",
      "_view_count": null,
      "_view_module": "@jupyter-widgets/base",
      "_view_module_version": "1.2.0",
      "_view_name": "StyleView",
      "description_width": ""
     }
    },
    "1f8ebe09196f4b858af0c3242b079074": {
     "model_module": "@jupyter-widgets/controls",
     "model_name": "ProgressStyleModel",
     "state": {
      "_model_module": "@jupyter-widgets/controls",
      "_model_module_version": "1.5.0",
      "_model_name": "ProgressStyleModel",
      "_view_count": null,
      "_view_module": "@jupyter-widgets/base",
      "_view_module_version": "1.2.0",
      "_view_name": "StyleView",
      "bar_color": null,
      "description_width": "initial"
     }
    },
    "237537ca26294fa2bc8be4fe28bcda61": {
     "model_module": "@jupyter-widgets/base",
     "model_name": "LayoutModel",
     "state": {
      "_model_module": "@jupyter-widgets/base",
      "_model_module_version": "1.2.0",
      "_model_name": "LayoutModel",
      "_view_count": null,
      "_view_module": "@jupyter-widgets/base",
      "_view_module_version": "1.2.0",
      "_view_name": "LayoutView",
      "align_content": null,
      "align_items": null,
      "align_self": null,
      "border": null,
      "bottom": null,
      "display": null,
      "flex": null,
      "flex_flow": null,
      "grid_area": null,
      "grid_auto_columns": null,
      "grid_auto_flow": null,
      "grid_auto_rows": null,
      "grid_column": null,
      "grid_gap": null,
      "grid_row": null,
      "grid_template_areas": null,
      "grid_template_columns": null,
      "grid_template_rows": null,
      "height": null,
      "justify_content": null,
      "justify_items": null,
      "left": null,
      "margin": null,
      "max_height": null,
      "max_width": null,
      "min_height": null,
      "min_width": null,
      "object_fit": null,
      "object_position": null,
      "order": null,
      "overflow": null,
      "overflow_x": null,
      "overflow_y": null,
      "padding": null,
      "right": null,
      "top": null,
      "visibility": null,
      "width": null
     }
    },
    "26ebaddaa32846ee8316e2711286ca27": {
     "model_module": "@jupyter-widgets/base",
     "model_name": "LayoutModel",
     "state": {
      "_model_module": "@jupyter-widgets/base",
      "_model_module_version": "1.2.0",
      "_model_name": "LayoutModel",
      "_view_count": null,
      "_view_module": "@jupyter-widgets/base",
      "_view_module_version": "1.2.0",
      "_view_name": "LayoutView",
      "align_content": null,
      "align_items": null,
      "align_self": null,
      "border": null,
      "bottom": null,
      "display": null,
      "flex": null,
      "flex_flow": null,
      "grid_area": null,
      "grid_auto_columns": null,
      "grid_auto_flow": null,
      "grid_auto_rows": null,
      "grid_column": null,
      "grid_gap": null,
      "grid_row": null,
      "grid_template_areas": null,
      "grid_template_columns": null,
      "grid_template_rows": null,
      "height": null,
      "justify_content": null,
      "justify_items": null,
      "left": null,
      "margin": null,
      "max_height": null,
      "max_width": null,
      "min_height": null,
      "min_width": null,
      "object_fit": null,
      "object_position": null,
      "order": null,
      "overflow": null,
      "overflow_x": null,
      "overflow_y": null,
      "padding": null,
      "right": null,
      "top": null,
      "visibility": null,
      "width": null
     }
    },
    "28dd49cee6834fe6969d79d1a096a501": {
     "model_module": "@jupyter-widgets/controls",
     "model_name": "ProgressStyleModel",
     "state": {
      "_model_module": "@jupyter-widgets/controls",
      "_model_module_version": "1.5.0",
      "_model_name": "ProgressStyleModel",
      "_view_count": null,
      "_view_module": "@jupyter-widgets/base",
      "_view_module_version": "1.2.0",
      "_view_name": "StyleView",
      "bar_color": null,
      "description_width": "initial"
     }
    },
    "2902b1bf03a74af5a4470aafa53a17f2": {
     "model_module": "@jupyter-widgets/controls",
     "model_name": "HBoxModel",
     "state": {
      "_dom_classes": [],
      "_model_module": "@jupyter-widgets/controls",
      "_model_module_version": "1.5.0",
      "_model_name": "HBoxModel",
      "_view_count": null,
      "_view_module": "@jupyter-widgets/controls",
      "_view_module_version": "1.5.0",
      "_view_name": "HBoxView",
      "box_style": "",
      "children": [
       "IPY_MODEL_036f7831c34f4927a58aaac58fc7f6f7",
       "IPY_MODEL_9ed197441274458a8ce7a15188d91753"
      ],
      "layout": "IPY_MODEL_de1387845576497f805e62b1fc0fee50"
     }
    },
    "291f05093727459e80c871c446279b36": {
     "model_module": "@jupyter-widgets/controls",
     "model_name": "HBoxModel",
     "state": {
      "_dom_classes": [],
      "_model_module": "@jupyter-widgets/controls",
      "_model_module_version": "1.5.0",
      "_model_name": "HBoxModel",
      "_view_count": null,
      "_view_module": "@jupyter-widgets/controls",
      "_view_module_version": "1.5.0",
      "_view_name": "HBoxView",
      "box_style": "",
      "children": [
       "IPY_MODEL_ddcc2b87786c4d419acd2a004b2ad8c2",
       "IPY_MODEL_8f8c24f82fcb451982febf7378b2edd8"
      ],
      "layout": "IPY_MODEL_057022f008c147c0b57d8d84afb5f805"
     }
    },
    "2a20a7182056493d9c09c9caeb061fd4": {
     "model_module": "@jupyter-widgets/controls",
     "model_name": "DescriptionStyleModel",
     "state": {
      "_model_module": "@jupyter-widgets/controls",
      "_model_module_version": "1.5.0",
      "_model_name": "DescriptionStyleModel",
      "_view_count": null,
      "_view_module": "@jupyter-widgets/base",
      "_view_module_version": "1.2.0",
      "_view_name": "StyleView",
      "description_width": ""
     }
    },
    "2aebbd8de8dd4f208de86b0160bd4030": {
     "model_module": "@jupyter-widgets/controls",
     "model_name": "FloatProgressModel",
     "state": {
      "_dom_classes": [],
      "_model_module": "@jupyter-widgets/controls",
      "_model_module_version": "1.5.0",
      "_model_name": "FloatProgressModel",
      "_view_count": null,
      "_view_module": "@jupyter-widgets/controls",
      "_view_module_version": "1.5.0",
      "_view_name": "ProgressView",
      "bar_style": "success",
      "description": "Downloading: 100%",
      "description_tooltip": null,
      "layout": "IPY_MODEL_237537ca26294fa2bc8be4fe28bcda61",
      "max": 363423424,
      "min": 0,
      "orientation": "horizontal",
      "style": "IPY_MODEL_7296922755f44278b35f94fdb85ceac2",
      "value": 363423424
     }
    },
    "2c3cd3f7545c4768a34b422e038b55da": {
     "model_module": "@jupyter-widgets/base",
     "model_name": "LayoutModel",
     "state": {
      "_model_module": "@jupyter-widgets/base",
      "_model_module_version": "1.2.0",
      "_model_name": "LayoutModel",
      "_view_count": null,
      "_view_module": "@jupyter-widgets/base",
      "_view_module_version": "1.2.0",
      "_view_name": "LayoutView",
      "align_content": null,
      "align_items": null,
      "align_self": null,
      "border": null,
      "bottom": null,
      "display": null,
      "flex": null,
      "flex_flow": null,
      "grid_area": null,
      "grid_auto_columns": null,
      "grid_auto_flow": null,
      "grid_auto_rows": null,
      "grid_column": null,
      "grid_gap": null,
      "grid_row": null,
      "grid_template_areas": null,
      "grid_template_columns": null,
      "grid_template_rows": null,
      "height": null,
      "justify_content": null,
      "justify_items": null,
      "left": null,
      "margin": null,
      "max_height": null,
      "max_width": null,
      "min_height": null,
      "min_width": null,
      "object_fit": null,
      "object_position": null,
      "order": null,
      "overflow": null,
      "overflow_x": null,
      "overflow_y": null,
      "padding": null,
      "right": null,
      "top": null,
      "visibility": null,
      "width": null
     }
    },
    "2cd7daabba304379abbb899c11405401": {
     "model_module": "@jupyter-widgets/base",
     "model_name": "LayoutModel",
     "state": {
      "_model_module": "@jupyter-widgets/base",
      "_model_module_version": "1.2.0",
      "_model_name": "LayoutModel",
      "_view_count": null,
      "_view_module": "@jupyter-widgets/base",
      "_view_module_version": "1.2.0",
      "_view_name": "LayoutView",
      "align_content": null,
      "align_items": null,
      "align_self": null,
      "border": null,
      "bottom": null,
      "display": null,
      "flex": null,
      "flex_flow": null,
      "grid_area": null,
      "grid_auto_columns": null,
      "grid_auto_flow": null,
      "grid_auto_rows": null,
      "grid_column": null,
      "grid_gap": null,
      "grid_row": null,
      "grid_template_areas": null,
      "grid_template_columns": null,
      "grid_template_rows": null,
      "height": null,
      "justify_content": null,
      "justify_items": null,
      "left": null,
      "margin": null,
      "max_height": null,
      "max_width": null,
      "min_height": null,
      "min_width": null,
      "object_fit": null,
      "object_position": null,
      "order": null,
      "overflow": null,
      "overflow_x": null,
      "overflow_y": null,
      "padding": null,
      "right": null,
      "top": null,
      "visibility": null,
      "width": null
     }
    },
    "2ced7793d09446dd8c32cc41568cfd06": {
     "model_module": "@jupyter-widgets/base",
     "model_name": "LayoutModel",
     "state": {
      "_model_module": "@jupyter-widgets/base",
      "_model_module_version": "1.2.0",
      "_model_name": "LayoutModel",
      "_view_count": null,
      "_view_module": "@jupyter-widgets/base",
      "_view_module_version": "1.2.0",
      "_view_name": "LayoutView",
      "align_content": null,
      "align_items": null,
      "align_self": null,
      "border": null,
      "bottom": null,
      "display": null,
      "flex": null,
      "flex_flow": null,
      "grid_area": null,
      "grid_auto_columns": null,
      "grid_auto_flow": null,
      "grid_auto_rows": null,
      "grid_column": null,
      "grid_gap": null,
      "grid_row": null,
      "grid_template_areas": null,
      "grid_template_columns": null,
      "grid_template_rows": null,
      "height": null,
      "justify_content": null,
      "justify_items": null,
      "left": null,
      "margin": null,
      "max_height": null,
      "max_width": null,
      "min_height": null,
      "min_width": null,
      "object_fit": null,
      "object_position": null,
      "order": null,
      "overflow": null,
      "overflow_x": null,
      "overflow_y": null,
      "padding": null,
      "right": null,
      "top": null,
      "visibility": null,
      "width": null
     }
    },
    "38d7ad130f5d4fba90e2136c01eb13f2": {
     "model_module": "@jupyter-widgets/controls",
     "model_name": "DescriptionStyleModel",
     "state": {
      "_model_module": "@jupyter-widgets/controls",
      "_model_module_version": "1.5.0",
      "_model_name": "DescriptionStyleModel",
      "_view_count": null,
      "_view_module": "@jupyter-widgets/base",
      "_view_module_version": "1.2.0",
      "_view_name": "StyleView",
      "description_width": ""
     }
    },
    "44bfe0b3e3eb4ddeb0756989cbb8a00b": {
     "model_module": "@jupyter-widgets/controls",
     "model_name": "DescriptionStyleModel",
     "state": {
      "_model_module": "@jupyter-widgets/controls",
      "_model_module_version": "1.5.0",
      "_model_name": "DescriptionStyleModel",
      "_view_count": null,
      "_view_module": "@jupyter-widgets/base",
      "_view_module_version": "1.2.0",
      "_view_name": "StyleView",
      "description_width": ""
     }
    },
    "464cdc4eb6d5465092cfb870875723f4": {
     "model_module": "@jupyter-widgets/controls",
     "model_name": "HBoxModel",
     "state": {
      "_dom_classes": [],
      "_model_module": "@jupyter-widgets/controls",
      "_model_module_version": "1.5.0",
      "_model_name": "HBoxModel",
      "_view_count": null,
      "_view_module": "@jupyter-widgets/controls",
      "_view_module_version": "1.5.0",
      "_view_name": "HBoxView",
      "box_style": "",
      "children": [
       "IPY_MODEL_b210d371fd4d445dbb6c2c4af177aa2d",
       "IPY_MODEL_1707560824944e41ad7aecbefcce68ac"
      ],
      "layout": "IPY_MODEL_2c3cd3f7545c4768a34b422e038b55da"
     }
    },
    "49d6df495e10443c995883d9420d8e18": {
     "model_module": "@jupyter-widgets/controls",
     "model_name": "HBoxModel",
     "state": {
      "_dom_classes": [],
      "_model_module": "@jupyter-widgets/controls",
      "_model_module_version": "1.5.0",
      "_model_name": "HBoxModel",
      "_view_count": null,
      "_view_module": "@jupyter-widgets/controls",
      "_view_module_version": "1.5.0",
      "_view_name": "HBoxView",
      "box_style": "",
      "children": [
       "IPY_MODEL_ee83ebef73824dbcafb3c74c9617eeb2",
       "IPY_MODEL_097cb7752427421e9ddd7664a5b78df8"
      ],
      "layout": "IPY_MODEL_59805267f73e4867b0b4b85ee217e793"
     }
    },
    "4b02fe3f487a4a6abb9f87c81e291dd1": {
     "model_module": "@jupyter-widgets/base",
     "model_name": "LayoutModel",
     "state": {
      "_model_module": "@jupyter-widgets/base",
      "_model_module_version": "1.2.0",
      "_model_name": "LayoutModel",
      "_view_count": null,
      "_view_module": "@jupyter-widgets/base",
      "_view_module_version": "1.2.0",
      "_view_name": "LayoutView",
      "align_content": null,
      "align_items": null,
      "align_self": null,
      "border": null,
      "bottom": null,
      "display": null,
      "flex": null,
      "flex_flow": null,
      "grid_area": null,
      "grid_auto_columns": null,
      "grid_auto_flow": null,
      "grid_auto_rows": null,
      "grid_column": null,
      "grid_gap": null,
      "grid_row": null,
      "grid_template_areas": null,
      "grid_template_columns": null,
      "grid_template_rows": null,
      "height": null,
      "justify_content": null,
      "justify_items": null,
      "left": null,
      "margin": null,
      "max_height": null,
      "max_width": null,
      "min_height": null,
      "min_width": null,
      "object_fit": null,
      "object_position": null,
      "order": null,
      "overflow": null,
      "overflow_x": null,
      "overflow_y": null,
      "padding": null,
      "right": null,
      "top": null,
      "visibility": null,
      "width": null
     }
    },
    "4f3d7a0ff52141c6bc52fa5cd04c178e": {
     "model_module": "@jupyter-widgets/controls",
     "model_name": "FloatProgressModel",
     "state": {
      "_dom_classes": [],
      "_model_module": "@jupyter-widgets/controls",
      "_model_module_version": "1.5.0",
      "_model_name": "FloatProgressModel",
      "_view_count": null,
      "_view_module": "@jupyter-widgets/controls",
      "_view_module_version": "1.5.0",
      "_view_name": "ProgressView",
      "bar_style": "success",
      "description": "Downloading: 100%",
      "description_tooltip": null,
      "layout": "IPY_MODEL_85f6aa3fccfb44e497a8c24452413045",
      "max": 487203636,
      "min": 0,
      "orientation": "horizontal",
      "style": "IPY_MODEL_e35d643945e247b69359c76155407b7a",
      "value": 487203636
     }
    },
    "50063ae40bde4a82bdd42287d8a957c3": {
     "model_module": "@jupyter-widgets/controls",
     "model_name": "HBoxModel",
     "state": {
      "_dom_classes": [],
      "_model_module": "@jupyter-widgets/controls",
      "_model_module_version": "1.5.0",
      "_model_name": "HBoxModel",
      "_view_count": null,
      "_view_module": "@jupyter-widgets/controls",
      "_view_module_version": "1.5.0",
      "_view_name": "HBoxView",
      "box_style": "",
      "children": [
       "IPY_MODEL_073158f35c6d4f4790755ee518b486ec",
       "IPY_MODEL_a776987a4fdb47ef995d5a7e1854cb2e"
      ],
      "layout": "IPY_MODEL_d942288a0f5744799114001f530c1603"
     }
    },
    "54a034e1e1a44d2095e5497b0875f06b": {
     "model_module": "@jupyter-widgets/base",
     "model_name": "LayoutModel",
     "state": {
      "_model_module": "@jupyter-widgets/base",
      "_model_module_version": "1.2.0",
      "_model_name": "LayoutModel",
      "_view_count": null,
      "_view_module": "@jupyter-widgets/base",
      "_view_module_version": "1.2.0",
      "_view_name": "LayoutView",
      "align_content": null,
      "align_items": null,
      "align_self": null,
      "border": null,
      "bottom": null,
      "display": null,
      "flex": null,
      "flex_flow": null,
      "grid_area": null,
      "grid_auto_columns": null,
      "grid_auto_flow": null,
      "grid_auto_rows": null,
      "grid_column": null,
      "grid_gap": null,
      "grid_row": null,
      "grid_template_areas": null,
      "grid_template_columns": null,
      "grid_template_rows": null,
      "height": null,
      "justify_content": null,
      "justify_items": null,
      "left": null,
      "margin": null,
      "max_height": null,
      "max_width": null,
      "min_height": null,
      "min_width": null,
      "object_fit": null,
      "object_position": null,
      "order": null,
      "overflow": null,
      "overflow_x": null,
      "overflow_y": null,
      "padding": null,
      "right": null,
      "top": null,
      "visibility": null,
      "width": null
     }
    },
    "5627c40c83a14eff8628ac072ae10ab8": {
     "model_module": "@jupyter-widgets/controls",
     "model_name": "ProgressStyleModel",
     "state": {
      "_model_module": "@jupyter-widgets/controls",
      "_model_module_version": "1.5.0",
      "_model_name": "ProgressStyleModel",
      "_view_count": null,
      "_view_module": "@jupyter-widgets/base",
      "_view_module_version": "1.2.0",
      "_view_name": "StyleView",
      "bar_color": null,
      "description_width": "initial"
     }
    },
    "56b155d8385d4f7b95f6c448ef966acd": {
     "model_module": "@jupyter-widgets/controls",
     "model_name": "DescriptionStyleModel",
     "state": {
      "_model_module": "@jupyter-widgets/controls",
      "_model_module_version": "1.5.0",
      "_model_name": "DescriptionStyleModel",
      "_view_count": null,
      "_view_module": "@jupyter-widgets/base",
      "_view_module_version": "1.2.0",
      "_view_name": "StyleView",
      "description_width": ""
     }
    },
    "59779bedf0d14ac0a67b500c22a10b32": {
     "model_module": "@jupyter-widgets/controls",
     "model_name": "HTMLModel",
     "state": {
      "_dom_classes": [],
      "_model_module": "@jupyter-widgets/controls",
      "_model_module_version": "1.5.0",
      "_model_name": "HTMLModel",
      "_view_count": null,
      "_view_module": "@jupyter-widgets/controls",
      "_view_module_version": "1.5.0",
      "_view_name": "HTMLView",
      "description": "",
      "description_tooltip": null,
      "layout": "IPY_MODEL_8b09b27b8cac44a19083c567deff54d9",
      "placeholder": "​",
      "style": "IPY_MODEL_7344e7efe4eb4d9ebcba65aae807f50a",
      "value": " 363M/363M [00:06&lt;00:00, 55.5MB/s]"
     }
    },
    "59805267f73e4867b0b4b85ee217e793": {
     "model_module": "@jupyter-widgets/base",
     "model_name": "LayoutModel",
     "state": {
      "_model_module": "@jupyter-widgets/base",
      "_model_module_version": "1.2.0",
      "_model_name": "LayoutModel",
      "_view_count": null,
      "_view_module": "@jupyter-widgets/base",
      "_view_module_version": "1.2.0",
      "_view_name": "LayoutView",
      "align_content": null,
      "align_items": null,
      "align_self": null,
      "border": null,
      "bottom": null,
      "display": null,
      "flex": null,
      "flex_flow": null,
      "grid_area": null,
      "grid_auto_columns": null,
      "grid_auto_flow": null,
      "grid_auto_rows": null,
      "grid_column": null,
      "grid_gap": null,
      "grid_row": null,
      "grid_template_areas": null,
      "grid_template_columns": null,
      "grid_template_rows": null,
      "height": null,
      "justify_content": null,
      "justify_items": null,
      "left": null,
      "margin": null,
      "max_height": null,
      "max_width": null,
      "min_height": null,
      "min_width": null,
      "object_fit": null,
      "object_position": null,
      "order": null,
      "overflow": null,
      "overflow_x": null,
      "overflow_y": null,
      "padding": null,
      "right": null,
      "top": null,
      "visibility": null,
      "width": null
     }
    },
    "5b461c94a45c4227bf5c427c42048620": {
     "model_module": "@jupyter-widgets/controls",
     "model_name": "HTMLModel",
     "state": {
      "_dom_classes": [],
      "_model_module": "@jupyter-widgets/controls",
      "_model_module_version": "1.5.0",
      "_model_name": "HTMLModel",
      "_view_count": null,
      "_view_module": "@jupyter-widgets/controls",
      "_view_module_version": "1.5.0",
      "_view_name": "HTMLView",
      "description": "",
      "description_tooltip": null,
      "layout": "IPY_MODEL_ae1df12a3a9f455e9fd54c3b682f2762",
      "placeholder": "​",
      "style": "IPY_MODEL_6fd5380a6eae4024a89879fd200b0067",
      "value": " 328M/328M [00:05&lt;00:00, 54.9MB/s]"
     }
    },
    "5b6654509a614caca577cde28fa8dc59": {
     "model_module": "@jupyter-widgets/controls",
     "model_name": "HTMLModel",
     "state": {
      "_dom_classes": [],
      "_model_module": "@jupyter-widgets/controls",
      "_model_module_version": "1.5.0",
      "_model_name": "HTMLModel",
      "_view_count": null,
      "_view_module": "@jupyter-widgets/controls",
      "_view_module_version": "1.5.0",
      "_view_name": "HTMLView",
      "description": "",
      "description_tooltip": null,
      "layout": "IPY_MODEL_b1dce35ab82949ea86e6fc099c9362a9",
      "placeholder": "​",
      "style": "IPY_MODEL_38d7ad130f5d4fba90e2136c01eb13f2",
      "value": " 899k/899k [00:00&lt;00:00, 1.20MB/s]"
     }
    },
    "5b8251d04ced4b1b98c2d6b41e62a6f4": {
     "model_module": "@jupyter-widgets/base",
     "model_name": "LayoutModel",
     "state": {
      "_model_module": "@jupyter-widgets/base",
      "_model_module_version": "1.2.0",
      "_model_name": "LayoutModel",
      "_view_count": null,
      "_view_module": "@jupyter-widgets/base",
      "_view_module_version": "1.2.0",
      "_view_name": "LayoutView",
      "align_content": null,
      "align_items": null,
      "align_self": null,
      "border": null,
      "bottom": null,
      "display": null,
      "flex": null,
      "flex_flow": null,
      "grid_area": null,
      "grid_auto_columns": null,
      "grid_auto_flow": null,
      "grid_auto_rows": null,
      "grid_column": null,
      "grid_gap": null,
      "grid_row": null,
      "grid_template_areas": null,
      "grid_template_columns": null,
      "grid_template_rows": null,
      "height": null,
      "justify_content": null,
      "justify_items": null,
      "left": null,
      "margin": null,
      "max_height": null,
      "max_width": null,
      "min_height": null,
      "min_width": null,
      "object_fit": null,
      "object_position": null,
      "order": null,
      "overflow": null,
      "overflow_x": null,
      "overflow_y": null,
      "padding": null,
      "right": null,
      "top": null,
      "visibility": null,
      "width": null
     }
    },
    "5dc5399a8cd5478c84311a9b7c886dd3": {
     "model_module": "@jupyter-widgets/controls",
     "model_name": "DescriptionStyleModel",
     "state": {
      "_model_module": "@jupyter-widgets/controls",
      "_model_module_version": "1.5.0",
      "_model_name": "DescriptionStyleModel",
      "_view_count": null,
      "_view_module": "@jupyter-widgets/base",
      "_view_module_version": "1.2.0",
      "_view_name": "StyleView",
      "description_width": ""
     }
    },
    "6825a8fb0aac40769dcc890bd9b2cd2f": {
     "model_module": "@jupyter-widgets/base",
     "model_name": "LayoutModel",
     "state": {
      "_model_module": "@jupyter-widgets/base",
      "_model_module_version": "1.2.0",
      "_model_name": "LayoutModel",
      "_view_count": null,
      "_view_module": "@jupyter-widgets/base",
      "_view_module_version": "1.2.0",
      "_view_name": "LayoutView",
      "align_content": null,
      "align_items": null,
      "align_self": null,
      "border": null,
      "bottom": null,
      "display": null,
      "flex": null,
      "flex_flow": null,
      "grid_area": null,
      "grid_auto_columns": null,
      "grid_auto_flow": null,
      "grid_auto_rows": null,
      "grid_column": null,
      "grid_gap": null,
      "grid_row": null,
      "grid_template_areas": null,
      "grid_template_columns": null,
      "grid_template_rows": null,
      "height": null,
      "justify_content": null,
      "justify_items": null,
      "left": null,
      "margin": null,
      "max_height": null,
      "max_width": null,
      "min_height": null,
      "min_width": null,
      "object_fit": null,
      "object_position": null,
      "order": null,
      "overflow": null,
      "overflow_x": null,
      "overflow_y": null,
      "padding": null,
      "right": null,
      "top": null,
      "visibility": null,
      "width": null
     }
    },
    "6fd5380a6eae4024a89879fd200b0067": {
     "model_module": "@jupyter-widgets/controls",
     "model_name": "DescriptionStyleModel",
     "state": {
      "_model_module": "@jupyter-widgets/controls",
      "_model_module_version": "1.5.0",
      "_model_name": "DescriptionStyleModel",
      "_view_count": null,
      "_view_module": "@jupyter-widgets/base",
      "_view_module_version": "1.2.0",
      "_view_name": "StyleView",
      "description_width": ""
     }
    },
    "71a345be5ea74b4988fe15cd33249ef6": {
     "model_module": "@jupyter-widgets/controls",
     "model_name": "ProgressStyleModel",
     "state": {
      "_model_module": "@jupyter-widgets/controls",
      "_model_module_version": "1.5.0",
      "_model_name": "ProgressStyleModel",
      "_view_count": null,
      "_view_module": "@jupyter-widgets/base",
      "_view_module_version": "1.2.0",
      "_view_name": "StyleView",
      "bar_color": null,
      "description_width": "initial"
     }
    },
    "7296922755f44278b35f94fdb85ceac2": {
     "model_module": "@jupyter-widgets/controls",
     "model_name": "ProgressStyleModel",
     "state": {
      "_model_module": "@jupyter-widgets/controls",
      "_model_module_version": "1.5.0",
      "_model_name": "ProgressStyleModel",
      "_view_count": null,
      "_view_module": "@jupyter-widgets/base",
      "_view_module_version": "1.2.0",
      "_view_name": "StyleView",
      "bar_color": null,
      "description_width": "initial"
     }
    },
    "7344e7efe4eb4d9ebcba65aae807f50a": {
     "model_module": "@jupyter-widgets/controls",
     "model_name": "DescriptionStyleModel",
     "state": {
      "_model_module": "@jupyter-widgets/controls",
      "_model_module_version": "1.5.0",
      "_model_name": "DescriptionStyleModel",
      "_view_count": null,
      "_view_module": "@jupyter-widgets/base",
      "_view_module_version": "1.2.0",
      "_view_name": "StyleView",
      "description_width": ""
     }
    },
    "7a0ccda5ae584c4cafd8fea2632b23bb": {
     "model_module": "@jupyter-widgets/base",
     "model_name": "LayoutModel",
     "state": {
      "_model_module": "@jupyter-widgets/base",
      "_model_module_version": "1.2.0",
      "_model_name": "LayoutModel",
      "_view_count": null,
      "_view_module": "@jupyter-widgets/base",
      "_view_module_version": "1.2.0",
      "_view_name": "LayoutView",
      "align_content": null,
      "align_items": null,
      "align_self": null,
      "border": null,
      "bottom": null,
      "display": null,
      "flex": null,
      "flex_flow": null,
      "grid_area": null,
      "grid_auto_columns": null,
      "grid_auto_flow": null,
      "grid_auto_rows": null,
      "grid_column": null,
      "grid_gap": null,
      "grid_row": null,
      "grid_template_areas": null,
      "grid_template_columns": null,
      "grid_template_rows": null,
      "height": null,
      "justify_content": null,
      "justify_items": null,
      "left": null,
      "margin": null,
      "max_height": null,
      "max_width": null,
      "min_height": null,
      "min_width": null,
      "object_fit": null,
      "object_position": null,
      "order": null,
      "overflow": null,
      "overflow_x": null,
      "overflow_y": null,
      "padding": null,
      "right": null,
      "top": null,
      "visibility": null,
      "width": null
     }
    },
    "818450b2bf7d44baba40ca16b4860f4a": {
     "model_module": "@jupyter-widgets/base",
     "model_name": "LayoutModel",
     "state": {
      "_model_module": "@jupyter-widgets/base",
      "_model_module_version": "1.2.0",
      "_model_name": "LayoutModel",
      "_view_count": null,
      "_view_module": "@jupyter-widgets/base",
      "_view_module_version": "1.2.0",
      "_view_name": "LayoutView",
      "align_content": null,
      "align_items": null,
      "align_self": null,
      "border": null,
      "bottom": null,
      "display": null,
      "flex": null,
      "flex_flow": null,
      "grid_area": null,
      "grid_auto_columns": null,
      "grid_auto_flow": null,
      "grid_auto_rows": null,
      "grid_column": null,
      "grid_gap": null,
      "grid_row": null,
      "grid_template_areas": null,
      "grid_template_columns": null,
      "grid_template_rows": null,
      "height": null,
      "justify_content": null,
      "justify_items": null,
      "left": null,
      "margin": null,
      "max_height": null,
      "max_width": null,
      "min_height": null,
      "min_width": null,
      "object_fit": null,
      "object_position": null,
      "order": null,
      "overflow": null,
      "overflow_x": null,
      "overflow_y": null,
      "padding": null,
      "right": null,
      "top": null,
      "visibility": null,
      "width": null
     }
    },
    "85989aaf90a44025ac3d09dba5d32760": {
     "model_module": "@jupyter-widgets/base",
     "model_name": "LayoutModel",
     "state": {
      "_model_module": "@jupyter-widgets/base",
      "_model_module_version": "1.2.0",
      "_model_name": "LayoutModel",
      "_view_count": null,
      "_view_module": "@jupyter-widgets/base",
      "_view_module_version": "1.2.0",
      "_view_name": "LayoutView",
      "align_content": null,
      "align_items": null,
      "align_self": null,
      "border": null,
      "bottom": null,
      "display": null,
      "flex": null,
      "flex_flow": null,
      "grid_area": null,
      "grid_auto_columns": null,
      "grid_auto_flow": null,
      "grid_auto_rows": null,
      "grid_column": null,
      "grid_gap": null,
      "grid_row": null,
      "grid_template_areas": null,
      "grid_template_columns": null,
      "grid_template_rows": null,
      "height": null,
      "justify_content": null,
      "justify_items": null,
      "left": null,
      "margin": null,
      "max_height": null,
      "max_width": null,
      "min_height": null,
      "min_width": null,
      "object_fit": null,
      "object_position": null,
      "order": null,
      "overflow": null,
      "overflow_x": null,
      "overflow_y": null,
      "padding": null,
      "right": null,
      "top": null,
      "visibility": null,
      "width": null
     }
    },
    "85f6aa3fccfb44e497a8c24452413045": {
     "model_module": "@jupyter-widgets/base",
     "model_name": "LayoutModel",
     "state": {
      "_model_module": "@jupyter-widgets/base",
      "_model_module_version": "1.2.0",
      "_model_name": "LayoutModel",
      "_view_count": null,
      "_view_module": "@jupyter-widgets/base",
      "_view_module_version": "1.2.0",
      "_view_name": "LayoutView",
      "align_content": null,
      "align_items": null,
      "align_self": null,
      "border": null,
      "bottom": null,
      "display": null,
      "flex": null,
      "flex_flow": null,
      "grid_area": null,
      "grid_auto_columns": null,
      "grid_auto_flow": null,
      "grid_auto_rows": null,
      "grid_column": null,
      "grid_gap": null,
      "grid_row": null,
      "grid_template_areas": null,
      "grid_template_columns": null,
      "grid_template_rows": null,
      "height": null,
      "justify_content": null,
      "justify_items": null,
      "left": null,
      "margin": null,
      "max_height": null,
      "max_width": null,
      "min_height": null,
      "min_width": null,
      "object_fit": null,
      "object_position": null,
      "order": null,
      "overflow": null,
      "overflow_x": null,
      "overflow_y": null,
      "padding": null,
      "right": null,
      "top": null,
      "visibility": null,
      "width": null
     }
    },
    "88ff3664508d425ba240d53d93c21e7b": {
     "model_module": "@jupyter-widgets/controls",
     "model_name": "HBoxModel",
     "state": {
      "_dom_classes": [],
      "_model_module": "@jupyter-widgets/controls",
      "_model_module_version": "1.5.0",
      "_model_name": "HBoxModel",
      "_view_count": null,
      "_view_module": "@jupyter-widgets/controls",
      "_view_module_version": "1.5.0",
      "_view_name": "HBoxView",
      "box_style": "",
      "children": [
       "IPY_MODEL_2aebbd8de8dd4f208de86b0160bd4030",
       "IPY_MODEL_59779bedf0d14ac0a67b500c22a10b32"
      ],
      "layout": "IPY_MODEL_5b8251d04ced4b1b98c2d6b41e62a6f4"
     }
    },
    "8b09b27b8cac44a19083c567deff54d9": {
     "model_module": "@jupyter-widgets/base",
     "model_name": "LayoutModel",
     "state": {
      "_model_module": "@jupyter-widgets/base",
      "_model_module_version": "1.2.0",
      "_model_name": "LayoutModel",
      "_view_count": null,
      "_view_module": "@jupyter-widgets/base",
      "_view_module_version": "1.2.0",
      "_view_name": "LayoutView",
      "align_content": null,
      "align_items": null,
      "align_self": null,
      "border": null,
      "bottom": null,
      "display": null,
      "flex": null,
      "flex_flow": null,
      "grid_area": null,
      "grid_auto_columns": null,
      "grid_auto_flow": null,
      "grid_auto_rows": null,
      "grid_column": null,
      "grid_gap": null,
      "grid_row": null,
      "grid_template_areas": null,
      "grid_template_columns": null,
      "grid_template_rows": null,
      "height": null,
      "justify_content": null,
      "justify_items": null,
      "left": null,
      "margin": null,
      "max_height": null,
      "max_width": null,
      "min_height": null,
      "min_width": null,
      "object_fit": null,
      "object_position": null,
      "order": null,
      "overflow": null,
      "overflow_x": null,
      "overflow_y": null,
      "padding": null,
      "right": null,
      "top": null,
      "visibility": null,
      "width": null
     }
    },
    "8c632b9566cf469080baa487cae567da": {
     "model_module": "@jupyter-widgets/controls",
     "model_name": "DescriptionStyleModel",
     "state": {
      "_model_module": "@jupyter-widgets/controls",
      "_model_module_version": "1.5.0",
      "_model_name": "DescriptionStyleModel",
      "_view_count": null,
      "_view_module": "@jupyter-widgets/base",
      "_view_module_version": "1.2.0",
      "_view_name": "StyleView",
      "description_width": ""
     }
    },
    "8f8c24f82fcb451982febf7378b2edd8": {
     "model_module": "@jupyter-widgets/controls",
     "model_name": "HTMLModel",
     "state": {
      "_dom_classes": [],
      "_model_module": "@jupyter-widgets/controls",
      "_model_module_version": "1.5.0",
      "_model_name": "HTMLModel",
      "_view_count": null,
      "_view_module": "@jupyter-widgets/controls",
      "_view_module_version": "1.5.0",
      "_view_name": "HTMLView",
      "description": "",
      "description_tooltip": null,
      "layout": "IPY_MODEL_f3bf07a271e24749a02029b69fa3c09e",
      "placeholder": "​",
      "style": "IPY_MODEL_ea9e1bd94ce8478f8f6afe834afb913e",
      "value": " 456k/456k [00:00&lt;00:00, 1.33MB/s]"
     }
    },
    "900614721e2a490299bbe216a90d6fbb": {
     "model_module": "@jupyter-widgets/base",
     "model_name": "LayoutModel",
     "state": {
      "_model_module": "@jupyter-widgets/base",
      "_model_module_version": "1.2.0",
      "_model_name": "LayoutModel",
      "_view_count": null,
      "_view_module": "@jupyter-widgets/base",
      "_view_module_version": "1.2.0",
      "_view_name": "LayoutView",
      "align_content": null,
      "align_items": null,
      "align_self": null,
      "border": null,
      "bottom": null,
      "display": null,
      "flex": null,
      "flex_flow": null,
      "grid_area": null,
      "grid_auto_columns": null,
      "grid_auto_flow": null,
      "grid_auto_rows": null,
      "grid_column": null,
      "grid_gap": null,
      "grid_row": null,
      "grid_template_areas": null,
      "grid_template_columns": null,
      "grid_template_rows": null,
      "height": null,
      "justify_content": null,
      "justify_items": null,
      "left": null,
      "margin": null,
      "max_height": null,
      "max_width": null,
      "min_height": null,
      "min_width": null,
      "object_fit": null,
      "object_position": null,
      "order": null,
      "overflow": null,
      "overflow_x": null,
      "overflow_y": null,
      "padding": null,
      "right": null,
      "top": null,
      "visibility": null,
      "width": null
     }
    },
    "9336c18ca3a842a4b28dd81ac00b704f": {
     "model_module": "@jupyter-widgets/base",
     "model_name": "LayoutModel",
     "state": {
      "_model_module": "@jupyter-widgets/base",
      "_model_module_version": "1.2.0",
      "_model_name": "LayoutModel",
      "_view_count": null,
      "_view_module": "@jupyter-widgets/base",
      "_view_module_version": "1.2.0",
      "_view_name": "LayoutView",
      "align_content": null,
      "align_items": null,
      "align_self": null,
      "border": null,
      "bottom": null,
      "display": null,
      "flex": null,
      "flex_flow": null,
      "grid_area": null,
      "grid_auto_columns": null,
      "grid_auto_flow": null,
      "grid_auto_rows": null,
      "grid_column": null,
      "grid_gap": null,
      "grid_row": null,
      "grid_template_areas": null,
      "grid_template_columns": null,
      "grid_template_rows": null,
      "height": null,
      "justify_content": null,
      "justify_items": null,
      "left": null,
      "margin": null,
      "max_height": null,
      "max_width": null,
      "min_height": null,
      "min_width": null,
      "object_fit": null,
      "object_position": null,
      "order": null,
      "overflow": null,
      "overflow_x": null,
      "overflow_y": null,
      "padding": null,
      "right": null,
      "top": null,
      "visibility": null,
      "width": null
     }
    },
    "948c3d686c4c4a4da7290fe316cc7099": {
     "model_module": "@jupyter-widgets/base",
     "model_name": "LayoutModel",
     "state": {
      "_model_module": "@jupyter-widgets/base",
      "_model_module_version": "1.2.0",
      "_model_name": "LayoutModel",
      "_view_count": null,
      "_view_module": "@jupyter-widgets/base",
      "_view_module_version": "1.2.0",
      "_view_name": "LayoutView",
      "align_content": null,
      "align_items": null,
      "align_self": null,
      "border": null,
      "bottom": null,
      "display": null,
      "flex": null,
      "flex_flow": null,
      "grid_area": null,
      "grid_auto_columns": null,
      "grid_auto_flow": null,
      "grid_auto_rows": null,
      "grid_column": null,
      "grid_gap": null,
      "grid_row": null,
      "grid_template_areas": null,
      "grid_template_columns": null,
      "grid_template_rows": null,
      "height": null,
      "justify_content": null,
      "justify_items": null,
      "left": null,
      "margin": null,
      "max_height": null,
      "max_width": null,
      "min_height": null,
      "min_width": null,
      "object_fit": null,
      "object_position": null,
      "order": null,
      "overflow": null,
      "overflow_x": null,
      "overflow_y": null,
      "padding": null,
      "right": null,
      "top": null,
      "visibility": null,
      "width": null
     }
    },
    "948eaa44200143a49e778d4d81eff6b2": {
     "model_module": "@jupyter-widgets/controls",
     "model_name": "HTMLModel",
     "state": {
      "_dom_classes": [],
      "_model_module": "@jupyter-widgets/controls",
      "_model_module_version": "1.5.0",
      "_model_name": "HTMLModel",
      "_view_count": null,
      "_view_module": "@jupyter-widgets/controls",
      "_view_module_version": "1.5.0",
      "_view_name": "HTMLView",
      "description": "",
      "description_tooltip": null,
      "layout": "IPY_MODEL_85989aaf90a44025ac3d09dba5d32760",
      "placeholder": "​",
      "style": "IPY_MODEL_da353cf88a5f4a878b4e5dbdbbe790b7",
      "value": " 456k/456k [00:00&lt;00:00, 2.25MB/s]"
     }
    },
    "965a0354192e4b9aab8bef6a3598a6f0": {
     "model_module": "@jupyter-widgets/controls",
     "model_name": "HBoxModel",
     "state": {
      "_dom_classes": [],
      "_model_module": "@jupyter-widgets/controls",
      "_model_module_version": "1.5.0",
      "_model_name": "HBoxModel",
      "_view_count": null,
      "_view_module": "@jupyter-widgets/controls",
      "_view_module_version": "1.5.0",
      "_view_name": "HBoxView",
      "box_style": "",
      "children": [
       "IPY_MODEL_a6571382f710442fb791367b0eb4ca00",
       "IPY_MODEL_5b461c94a45c4227bf5c427c42048620"
      ],
      "layout": "IPY_MODEL_09182e846bf34c7daaaf38b1e0f1b8f5"
     }
    },
    "9ad736d0f6dd4ca1919ea59487cd33ad": {
     "model_module": "@jupyter-widgets/base",
     "model_name": "LayoutModel",
     "state": {
      "_model_module": "@jupyter-widgets/base",
      "_model_module_version": "1.2.0",
      "_model_name": "LayoutModel",
      "_view_count": null,
      "_view_module": "@jupyter-widgets/base",
      "_view_module_version": "1.2.0",
      "_view_name": "LayoutView",
      "align_content": null,
      "align_items": null,
      "align_self": null,
      "border": null,
      "bottom": null,
      "display": null,
      "flex": null,
      "flex_flow": null,
      "grid_area": null,
      "grid_auto_columns": null,
      "grid_auto_flow": null,
      "grid_auto_rows": null,
      "grid_column": null,
      "grid_gap": null,
      "grid_row": null,
      "grid_template_areas": null,
      "grid_template_columns": null,
      "grid_template_rows": null,
      "height": null,
      "justify_content": null,
      "justify_items": null,
      "left": null,
      "margin": null,
      "max_height": null,
      "max_width": null,
      "min_height": null,
      "min_width": null,
      "object_fit": null,
      "object_position": null,
      "order": null,
      "overflow": null,
      "overflow_x": null,
      "overflow_y": null,
      "padding": null,
      "right": null,
      "top": null,
      "visibility": null,
      "width": null
     }
    },
    "9b25173dd30944d4b41c6c771f34650e": {
     "model_module": "@jupyter-widgets/controls",
     "model_name": "ProgressStyleModel",
     "state": {
      "_model_module": "@jupyter-widgets/controls",
      "_model_module_version": "1.5.0",
      "_model_name": "ProgressStyleModel",
      "_view_count": null,
      "_view_module": "@jupyter-widgets/base",
      "_view_module_version": "1.2.0",
      "_view_name": "StyleView",
      "bar_color": null,
      "description_width": "initial"
     }
    },
    "9e3523e33f4240d68dbf0b68ca89ca35": {
     "model_module": "@jupyter-widgets/base",
     "model_name": "LayoutModel",
     "state": {
      "_model_module": "@jupyter-widgets/base",
      "_model_module_version": "1.2.0",
      "_model_name": "LayoutModel",
      "_view_count": null,
      "_view_module": "@jupyter-widgets/base",
      "_view_module_version": "1.2.0",
      "_view_name": "LayoutView",
      "align_content": null,
      "align_items": null,
      "align_self": null,
      "border": null,
      "bottom": null,
      "display": null,
      "flex": null,
      "flex_flow": null,
      "grid_area": null,
      "grid_auto_columns": null,
      "grid_auto_flow": null,
      "grid_auto_rows": null,
      "grid_column": null,
      "grid_gap": null,
      "grid_row": null,
      "grid_template_areas": null,
      "grid_template_columns": null,
      "grid_template_rows": null,
      "height": null,
      "justify_content": null,
      "justify_items": null,
      "left": null,
      "margin": null,
      "max_height": null,
      "max_width": null,
      "min_height": null,
      "min_width": null,
      "object_fit": null,
      "object_position": null,
      "order": null,
      "overflow": null,
      "overflow_x": null,
      "overflow_y": null,
      "padding": null,
      "right": null,
      "top": null,
      "visibility": null,
      "width": null
     }
    },
    "9ed197441274458a8ce7a15188d91753": {
     "model_module": "@jupyter-widgets/controls",
     "model_name": "HTMLModel",
     "state": {
      "_dom_classes": [],
      "_model_module": "@jupyter-widgets/controls",
      "_model_module_version": "1.5.0",
      "_model_name": "HTMLModel",
      "_view_count": null,
      "_view_module": "@jupyter-widgets/controls",
      "_view_module_version": "1.5.0",
      "_view_name": "HTMLView",
      "description": "",
      "description_tooltip": null,
      "layout": "IPY_MODEL_077d28f660684d6086cc37a6c4afae65",
      "placeholder": "​",
      "style": "IPY_MODEL_5dc5399a8cd5478c84311a9b7c886dd3",
      "value": " 232k/232k [00:00&lt;00:00, 402kB/s]"
     }
    },
    "9efb7459cbc34a7792d72d272a998a08": {
     "model_module": "@jupyter-widgets/base",
     "model_name": "LayoutModel",
     "state": {
      "_model_module": "@jupyter-widgets/base",
      "_model_module_version": "1.2.0",
      "_model_name": "LayoutModel",
      "_view_count": null,
      "_view_module": "@jupyter-widgets/base",
      "_view_module_version": "1.2.0",
      "_view_name": "LayoutView",
      "align_content": null,
      "align_items": null,
      "align_self": null,
      "border": null,
      "bottom": null,
      "display": null,
      "flex": null,
      "flex_flow": null,
      "grid_area": null,
      "grid_auto_columns": null,
      "grid_auto_flow": null,
      "grid_auto_rows": null,
      "grid_column": null,
      "grid_gap": null,
      "grid_row": null,
      "grid_template_areas": null,
      "grid_template_columns": null,
      "grid_template_rows": null,
      "height": null,
      "justify_content": null,
      "justify_items": null,
      "left": null,
      "margin": null,
      "max_height": null,
      "max_width": null,
      "min_height": null,
      "min_width": null,
      "object_fit": null,
      "object_position": null,
      "order": null,
      "overflow": null,
      "overflow_x": null,
      "overflow_y": null,
      "padding": null,
      "right": null,
      "top": null,
      "visibility": null,
      "width": null
     }
    },
    "a4ee64804af346ed800d14141e15243e": {
     "model_module": "@jupyter-widgets/base",
     "model_name": "LayoutModel",
     "state": {
      "_model_module": "@jupyter-widgets/base",
      "_model_module_version": "1.2.0",
      "_model_name": "LayoutModel",
      "_view_count": null,
      "_view_module": "@jupyter-widgets/base",
      "_view_module_version": "1.2.0",
      "_view_name": "LayoutView",
      "align_content": null,
      "align_items": null,
      "align_self": null,
      "border": null,
      "bottom": null,
      "display": null,
      "flex": null,
      "flex_flow": null,
      "grid_area": null,
      "grid_auto_columns": null,
      "grid_auto_flow": null,
      "grid_auto_rows": null,
      "grid_column": null,
      "grid_gap": null,
      "grid_row": null,
      "grid_template_areas": null,
      "grid_template_columns": null,
      "grid_template_rows": null,
      "height": null,
      "justify_content": null,
      "justify_items": null,
      "left": null,
      "margin": null,
      "max_height": null,
      "max_width": null,
      "min_height": null,
      "min_width": null,
      "object_fit": null,
      "object_position": null,
      "order": null,
      "overflow": null,
      "overflow_x": null,
      "overflow_y": null,
      "padding": null,
      "right": null,
      "top": null,
      "visibility": null,
      "width": null
     }
    },
    "a6571382f710442fb791367b0eb4ca00": {
     "model_module": "@jupyter-widgets/controls",
     "model_name": "FloatProgressModel",
     "state": {
      "_dom_classes": [],
      "_model_module": "@jupyter-widgets/controls",
      "_model_module_version": "1.5.0",
      "_model_name": "FloatProgressModel",
      "_view_count": null,
      "_view_module": "@jupyter-widgets/controls",
      "_view_module_version": "1.5.0",
      "_view_name": "ProgressView",
      "bar_style": "success",
      "description": "Downloading: 100%",
      "description_tooltip": null,
      "layout": "IPY_MODEL_9ad736d0f6dd4ca1919ea59487cd33ad",
      "max": 327744160,
      "min": 0,
      "orientation": "horizontal",
      "style": "IPY_MODEL_c2b943aefd624f13869bed36568d81bb",
      "value": 327744160
     }
    },
    "a776987a4fdb47ef995d5a7e1854cb2e": {
     "model_module": "@jupyter-widgets/controls",
     "model_name": "HTMLModel",
     "state": {
      "_dom_classes": [],
      "_model_module": "@jupyter-widgets/controls",
      "_model_module_version": "1.5.0",
      "_model_name": "HTMLModel",
      "_view_count": null,
      "_view_module": "@jupyter-widgets/controls",
      "_view_module_version": "1.5.0",
      "_view_name": "HTMLView",
      "description": "",
      "description_tooltip": null,
      "layout": "IPY_MODEL_7a0ccda5ae584c4cafd8fea2632b23bb",
      "placeholder": "​",
      "style": "IPY_MODEL_56b155d8385d4f7b95f6c448ef966acd",
      "value": " 442/442 [00:06&lt;00:00, 63.6B/s]"
     }
    },
    "ae1df12a3a9f455e9fd54c3b682f2762": {
     "model_module": "@jupyter-widgets/base",
     "model_name": "LayoutModel",
     "state": {
      "_model_module": "@jupyter-widgets/base",
      "_model_module_version": "1.2.0",
      "_model_name": "LayoutModel",
      "_view_count": null,
      "_view_module": "@jupyter-widgets/base",
      "_view_module_version": "1.2.0",
      "_view_name": "LayoutView",
      "align_content": null,
      "align_items": null,
      "align_self": null,
      "border": null,
      "bottom": null,
      "display": null,
      "flex": null,
      "flex_flow": null,
      "grid_area": null,
      "grid_auto_columns": null,
      "grid_auto_flow": null,
      "grid_auto_rows": null,
      "grid_column": null,
      "grid_gap": null,
      "grid_row": null,
      "grid_template_areas": null,
      "grid_template_columns": null,
      "grid_template_rows": null,
      "height": null,
      "justify_content": null,
      "justify_items": null,
      "left": null,
      "margin": null,
      "max_height": null,
      "max_width": null,
      "min_height": null,
      "min_width": null,
      "object_fit": null,
      "object_position": null,
      "order": null,
      "overflow": null,
      "overflow_x": null,
      "overflow_y": null,
      "padding": null,
      "right": null,
      "top": null,
      "visibility": null,
      "width": null
     }
    },
    "b015b02fb80b4b60b6f04aac3dc2db7f": {
     "model_module": "@jupyter-widgets/controls",
     "model_name": "HBoxModel",
     "state": {
      "_dom_classes": [],
      "_model_module": "@jupyter-widgets/controls",
      "_model_module_version": "1.5.0",
      "_model_name": "HBoxModel",
      "_view_count": null,
      "_view_module": "@jupyter-widgets/controls",
      "_view_module_version": "1.5.0",
      "_view_name": "HBoxView",
      "box_style": "",
      "children": [
       "IPY_MODEL_f5d5525fbf844bb2b30386bbcb645a34",
       "IPY_MODEL_5b6654509a614caca577cde28fa8dc59"
      ],
      "layout": "IPY_MODEL_10e1849df6f84739beb0d0eb2dd7c6cd"
     }
    },
    "b1dce35ab82949ea86e6fc099c9362a9": {
     "model_module": "@jupyter-widgets/base",
     "model_name": "LayoutModel",
     "state": {
      "_model_module": "@jupyter-widgets/base",
      "_model_module_version": "1.2.0",
      "_model_name": "LayoutModel",
      "_view_count": null,
      "_view_module": "@jupyter-widgets/base",
      "_view_module_version": "1.2.0",
      "_view_name": "LayoutView",
      "align_content": null,
      "align_items": null,
      "align_self": null,
      "border": null,
      "bottom": null,
      "display": null,
      "flex": null,
      "flex_flow": null,
      "grid_area": null,
      "grid_auto_columns": null,
      "grid_auto_flow": null,
      "grid_auto_rows": null,
      "grid_column": null,
      "grid_gap": null,
      "grid_row": null,
      "grid_template_areas": null,
      "grid_template_columns": null,
      "grid_template_rows": null,
      "height": null,
      "justify_content": null,
      "justify_items": null,
      "left": null,
      "margin": null,
      "max_height": null,
      "max_width": null,
      "min_height": null,
      "min_width": null,
      "object_fit": null,
      "object_position": null,
      "order": null,
      "overflow": null,
      "overflow_x": null,
      "overflow_y": null,
      "padding": null,
      "right": null,
      "top": null,
      "visibility": null,
      "width": null
     }
    },
    "b210d371fd4d445dbb6c2c4af177aa2d": {
     "model_module": "@jupyter-widgets/controls",
     "model_name": "FloatProgressModel",
     "state": {
      "_dom_classes": [],
      "_model_module": "@jupyter-widgets/controls",
      "_model_module_version": "1.5.0",
      "_model_name": "FloatProgressModel",
      "_view_count": null,
      "_view_module": "@jupyter-widgets/controls",
      "_view_module_version": "1.5.0",
      "_view_name": "ProgressView",
      "bar_style": "success",
      "description": "Downloading: 100%",
      "description_tooltip": null,
      "layout": "IPY_MODEL_948c3d686c4c4a4da7290fe316cc7099",
      "max": 480,
      "min": 0,
      "orientation": "horizontal",
      "style": "IPY_MODEL_28dd49cee6834fe6969d79d1a096a501",
      "value": 480
     }
    },
    "bfa79c1423064a1a93cdd2fa45dcb74d": {
     "model_module": "@jupyter-widgets/controls",
     "model_name": "FloatProgressModel",
     "state": {
      "_dom_classes": [],
      "_model_module": "@jupyter-widgets/controls",
      "_model_module_version": "1.5.0",
      "_model_name": "FloatProgressModel",
      "_view_count": null,
      "_view_module": "@jupyter-widgets/controls",
      "_view_module_version": "1.5.0",
      "_view_name": "ProgressView",
      "bar_style": "success",
      "description": "Downloading: 100%",
      "description_tooltip": null,
      "layout": "IPY_MODEL_900614721e2a490299bbe216a90d6fbb",
      "max": 456318,
      "min": 0,
      "orientation": "horizontal",
      "style": "IPY_MODEL_5627c40c83a14eff8628ac072ae10ab8",
      "value": 456318
     }
    },
    "c2b943aefd624f13869bed36568d81bb": {
     "model_module": "@jupyter-widgets/controls",
     "model_name": "ProgressStyleModel",
     "state": {
      "_model_module": "@jupyter-widgets/controls",
      "_model_module_version": "1.5.0",
      "_model_name": "ProgressStyleModel",
      "_view_count": null,
      "_view_module": "@jupyter-widgets/base",
      "_view_module_version": "1.2.0",
      "_view_name": "StyleView",
      "bar_color": null,
      "description_width": "initial"
     }
    },
    "d24dd2fcd7bb4d2aa064071e1d435380": {
     "model_module": "@jupyter-widgets/controls",
     "model_name": "HTMLModel",
     "state": {
      "_dom_classes": [],
      "_model_module": "@jupyter-widgets/controls",
      "_model_module_version": "1.5.0",
      "_model_name": "HTMLModel",
      "_view_count": null,
      "_view_module": "@jupyter-widgets/controls",
      "_view_module_version": "1.5.0",
      "_view_name": "HTMLView",
      "description": "",
      "description_tooltip": null,
      "layout": "IPY_MODEL_9efb7459cbc34a7792d72d272a998a08",
      "placeholder": "​",
      "style": "IPY_MODEL_1806b4972201421cae414b85594e5755",
      "value": " 1.04M/1.04M [00:01&lt;00:00, 640kB/s]"
     }
    },
    "d4a4620c80c345a1a98fac3a623bf660": {
     "model_module": "@jupyter-widgets/controls",
     "model_name": "HTMLModel",
     "state": {
      "_dom_classes": [],
      "_model_module": "@jupyter-widgets/controls",
      "_model_module_version": "1.5.0",
      "_model_name": "HTMLModel",
      "_view_count": null,
      "_view_module": "@jupyter-widgets/controls",
      "_view_module_version": "1.5.0",
      "_view_name": "HTMLView",
      "description": "",
      "description_tooltip": null,
      "layout": "IPY_MODEL_54a034e1e1a44d2095e5497b0875f06b",
      "placeholder": "​",
      "style": "IPY_MODEL_8c632b9566cf469080baa487cae567da",
      "value": " 487M/487M [00:10&lt;00:00, 48.6MB/s]"
     }
    },
    "d942288a0f5744799114001f530c1603": {
     "model_module": "@jupyter-widgets/base",
     "model_name": "LayoutModel",
     "state": {
      "_model_module": "@jupyter-widgets/base",
      "_model_module_version": "1.2.0",
      "_model_name": "LayoutModel",
      "_view_count": null,
      "_view_module": "@jupyter-widgets/base",
      "_view_module_version": "1.2.0",
      "_view_name": "LayoutView",
      "align_content": null,
      "align_items": null,
      "align_self": null,
      "border": null,
      "bottom": null,
      "display": null,
      "flex": null,
      "flex_flow": null,
      "grid_area": null,
      "grid_auto_columns": null,
      "grid_auto_flow": null,
      "grid_auto_rows": null,
      "grid_column": null,
      "grid_gap": null,
      "grid_row": null,
      "grid_template_areas": null,
      "grid_template_columns": null,
      "grid_template_rows": null,
      "height": null,
      "justify_content": null,
      "justify_items": null,
      "left": null,
      "margin": null,
      "max_height": null,
      "max_width": null,
      "min_height": null,
      "min_width": null,
      "object_fit": null,
      "object_position": null,
      "order": null,
      "overflow": null,
      "overflow_x": null,
      "overflow_y": null,
      "padding": null,
      "right": null,
      "top": null,
      "visibility": null,
      "width": null
     }
    },
    "d9fe52bfb1e94fa5bac29a27ae2e9389": {
     "model_module": "@jupyter-widgets/controls",
     "model_name": "ProgressStyleModel",
     "state": {
      "_model_module": "@jupyter-widgets/controls",
      "_model_module_version": "1.5.0",
      "_model_name": "ProgressStyleModel",
      "_view_count": null,
      "_view_module": "@jupyter-widgets/base",
      "_view_module_version": "1.2.0",
      "_view_name": "StyleView",
      "bar_color": null,
      "description_width": "initial"
     }
    },
    "da353cf88a5f4a878b4e5dbdbbe790b7": {
     "model_module": "@jupyter-widgets/controls",
     "model_name": "DescriptionStyleModel",
     "state": {
      "_model_module": "@jupyter-widgets/controls",
      "_model_module_version": "1.5.0",
      "_model_name": "DescriptionStyleModel",
      "_view_count": null,
      "_view_module": "@jupyter-widgets/base",
      "_view_module_version": "1.2.0",
      "_view_name": "StyleView",
      "description_width": ""
     }
    },
    "ddcc2b87786c4d419acd2a004b2ad8c2": {
     "model_module": "@jupyter-widgets/controls",
     "model_name": "FloatProgressModel",
     "state": {
      "_dom_classes": [],
      "_model_module": "@jupyter-widgets/controls",
      "_model_module_version": "1.5.0",
      "_model_name": "FloatProgressModel",
      "_view_count": null,
      "_view_module": "@jupyter-widgets/controls",
      "_view_module_version": "1.5.0",
      "_view_name": "ProgressView",
      "bar_style": "success",
      "description": "Downloading: 100%",
      "description_tooltip": null,
      "layout": "IPY_MODEL_2cd7daabba304379abbb899c11405401",
      "max": 456318,
      "min": 0,
      "orientation": "horizontal",
      "style": "IPY_MODEL_71a345be5ea74b4988fe15cd33249ef6",
      "value": 456318
     }
    },
    "de1387845576497f805e62b1fc0fee50": {
     "model_module": "@jupyter-widgets/base",
     "model_name": "LayoutModel",
     "state": {
      "_model_module": "@jupyter-widgets/base",
      "_model_module_version": "1.2.0",
      "_model_name": "LayoutModel",
      "_view_count": null,
      "_view_module": "@jupyter-widgets/base",
      "_view_module_version": "1.2.0",
      "_view_name": "LayoutView",
      "align_content": null,
      "align_items": null,
      "align_self": null,
      "border": null,
      "bottom": null,
      "display": null,
      "flex": null,
      "flex_flow": null,
      "grid_area": null,
      "grid_auto_columns": null,
      "grid_auto_flow": null,
      "grid_auto_rows": null,
      "grid_column": null,
      "grid_gap": null,
      "grid_row": null,
      "grid_template_areas": null,
      "grid_template_columns": null,
      "grid_template_rows": null,
      "height": null,
      "justify_content": null,
      "justify_items": null,
      "left": null,
      "margin": null,
      "max_height": null,
      "max_width": null,
      "min_height": null,
      "min_width": null,
      "object_fit": null,
      "object_position": null,
      "order": null,
      "overflow": null,
      "overflow_x": null,
      "overflow_y": null,
      "padding": null,
      "right": null,
      "top": null,
      "visibility": null,
      "width": null
     }
    },
    "e35d643945e247b69359c76155407b7a": {
     "model_module": "@jupyter-widgets/controls",
     "model_name": "ProgressStyleModel",
     "state": {
      "_model_module": "@jupyter-widgets/controls",
      "_model_module_version": "1.5.0",
      "_model_name": "ProgressStyleModel",
      "_view_count": null,
      "_view_module": "@jupyter-widgets/base",
      "_view_module_version": "1.2.0",
      "_view_name": "StyleView",
      "bar_color": null,
      "description_width": "initial"
     }
    },
    "e3fa5214f1bf4b70bbdea8d0ae30f7ab": {
     "model_module": "@jupyter-widgets/controls",
     "model_name": "HBoxModel",
     "state": {
      "_dom_classes": [],
      "_model_module": "@jupyter-widgets/controls",
      "_model_module_version": "1.5.0",
      "_model_name": "HBoxModel",
      "_view_count": null,
      "_view_module": "@jupyter-widgets/controls",
      "_view_module_version": "1.5.0",
      "_view_name": "HBoxView",
      "box_style": "",
      "children": [
       "IPY_MODEL_4f3d7a0ff52141c6bc52fa5cd04c178e",
       "IPY_MODEL_d4a4620c80c345a1a98fac3a623bf660"
      ],
      "layout": "IPY_MODEL_9e3523e33f4240d68dbf0b68ca89ca35"
     }
    },
    "ea9e1bd94ce8478f8f6afe834afb913e": {
     "model_module": "@jupyter-widgets/controls",
     "model_name": "DescriptionStyleModel",
     "state": {
      "_model_module": "@jupyter-widgets/controls",
      "_model_module_version": "1.5.0",
      "_model_name": "DescriptionStyleModel",
      "_view_count": null,
      "_view_module": "@jupyter-widgets/base",
      "_view_module_version": "1.2.0",
      "_view_name": "StyleView",
      "description_width": ""
     }
    },
    "ec0bce1138c44ac9a1fbb6ebd3caa9f2": {
     "model_module": "@jupyter-widgets/controls",
     "model_name": "HBoxModel",
     "state": {
      "_dom_classes": [],
      "_model_module": "@jupyter-widgets/controls",
      "_model_module_version": "1.5.0",
      "_model_name": "HBoxModel",
      "_view_count": null,
      "_view_module": "@jupyter-widgets/controls",
      "_view_module_version": "1.5.0",
      "_view_name": "HBoxView",
      "box_style": "",
      "children": [
       "IPY_MODEL_bfa79c1423064a1a93cdd2fa45dcb74d",
       "IPY_MODEL_948eaa44200143a49e778d4d81eff6b2"
      ],
      "layout": "IPY_MODEL_4b02fe3f487a4a6abb9f87c81e291dd1"
     }
    },
    "ee83ebef73824dbcafb3c74c9617eeb2": {
     "model_module": "@jupyter-widgets/controls",
     "model_name": "FloatProgressModel",
     "state": {
      "_dom_classes": [],
      "_model_module": "@jupyter-widgets/controls",
      "_model_module_version": "1.5.0",
      "_model_name": "FloatProgressModel",
      "_view_count": null,
      "_view_module": "@jupyter-widgets/controls",
      "_view_module_version": "1.5.0",
      "_view_name": "ProgressView",
      "bar_style": "success",
      "description": "Downloading: 100%",
      "description_tooltip": null,
      "layout": "IPY_MODEL_a4ee64804af346ed800d14141e15243e",
      "max": 762,
      "min": 0,
      "orientation": "horizontal",
      "style": "IPY_MODEL_1f8ebe09196f4b858af0c3242b079074",
      "value": 762
     }
    },
    "f3bf07a271e24749a02029b69fa3c09e": {
     "model_module": "@jupyter-widgets/base",
     "model_name": "LayoutModel",
     "state": {
      "_model_module": "@jupyter-widgets/base",
      "_model_module_version": "1.2.0",
      "_model_name": "LayoutModel",
      "_view_count": null,
      "_view_module": "@jupyter-widgets/base",
      "_view_module_version": "1.2.0",
      "_view_name": "LayoutView",
      "align_content": null,
      "align_items": null,
      "align_self": null,
      "border": null,
      "bottom": null,
      "display": null,
      "flex": null,
      "flex_flow": null,
      "grid_area": null,
      "grid_auto_columns": null,
      "grid_auto_flow": null,
      "grid_auto_rows": null,
      "grid_column": null,
      "grid_gap": null,
      "grid_row": null,
      "grid_template_areas": null,
      "grid_template_columns": null,
      "grid_template_rows": null,
      "height": null,
      "justify_content": null,
      "justify_items": null,
      "left": null,
      "margin": null,
      "max_height": null,
      "max_width": null,
      "min_height": null,
      "min_width": null,
      "object_fit": null,
      "object_position": null,
      "order": null,
      "overflow": null,
      "overflow_x": null,
      "overflow_y": null,
      "padding": null,
      "right": null,
      "top": null,
      "visibility": null,
      "width": null
     }
    },
    "f5084eaeae19432e967656d38ee75361": {
     "model_module": "@jupyter-widgets/base",
     "model_name": "LayoutModel",
     "state": {
      "_model_module": "@jupyter-widgets/base",
      "_model_module_version": "1.2.0",
      "_model_name": "LayoutModel",
      "_view_count": null,
      "_view_module": "@jupyter-widgets/base",
      "_view_module_version": "1.2.0",
      "_view_name": "LayoutView",
      "align_content": null,
      "align_items": null,
      "align_self": null,
      "border": null,
      "bottom": null,
      "display": null,
      "flex": null,
      "flex_flow": null,
      "grid_area": null,
      "grid_auto_columns": null,
      "grid_auto_flow": null,
      "grid_auto_rows": null,
      "grid_column": null,
      "grid_gap": null,
      "grid_row": null,
      "grid_template_areas": null,
      "grid_template_columns": null,
      "grid_template_rows": null,
      "height": null,
      "justify_content": null,
      "justify_items": null,
      "left": null,
      "margin": null,
      "max_height": null,
      "max_width": null,
      "min_height": null,
      "min_width": null,
      "object_fit": null,
      "object_position": null,
      "order": null,
      "overflow": null,
      "overflow_x": null,
      "overflow_y": null,
      "padding": null,
      "right": null,
      "top": null,
      "visibility": null,
      "width": null
     }
    },
    "f5d5525fbf844bb2b30386bbcb645a34": {
     "model_module": "@jupyter-widgets/controls",
     "model_name": "FloatProgressModel",
     "state": {
      "_dom_classes": [],
      "_model_module": "@jupyter-widgets/controls",
      "_model_module_version": "1.5.0",
      "_model_name": "FloatProgressModel",
      "_view_count": null,
      "_view_module": "@jupyter-widgets/controls",
      "_view_module_version": "1.5.0",
      "_view_name": "ProgressView",
      "bar_style": "success",
      "description": "Downloading: 100%",
      "description_tooltip": null,
      "layout": "IPY_MODEL_818450b2bf7d44baba40ca16b4860f4a",
      "max": 898823,
      "min": 0,
      "orientation": "horizontal",
      "style": "IPY_MODEL_9b25173dd30944d4b41c6c771f34650e",
      "value": 898823
     }
    },
    "f631f7efa836478c83a8feb63ba6493e": {
     "model_module": "@jupyter-widgets/controls",
     "model_name": "FloatProgressModel",
     "state": {
      "_dom_classes": [],
      "_model_module": "@jupyter-widgets/controls",
      "_model_module_version": "1.5.0",
      "_model_name": "FloatProgressModel",
      "_view_count": null,
      "_view_module": "@jupyter-widgets/controls",
      "_view_module_version": "1.5.0",
      "_view_name": "ProgressView",
      "bar_style": "success",
      "description": "Downloading: 100%",
      "description_tooltip": null,
      "layout": "IPY_MODEL_6825a8fb0aac40769dcc890bd9b2cd2f",
      "max": 1042301,
      "min": 0,
      "orientation": "horizontal",
      "style": "IPY_MODEL_d9fe52bfb1e94fa5bac29a27ae2e9389",
      "value": 1042301
     }
    },
    "f643c94a7d2d4954ba2d5693cb9453b6": {
     "model_module": "@jupyter-widgets/base",
     "model_name": "LayoutModel",
     "state": {
      "_model_module": "@jupyter-widgets/base",
      "_model_module_version": "1.2.0",
      "_model_name": "LayoutModel",
      "_view_count": null,
      "_view_module": "@jupyter-widgets/base",
      "_view_module_version": "1.2.0",
      "_view_name": "LayoutView",
      "align_content": null,
      "align_items": null,
      "align_self": null,
      "border": null,
      "bottom": null,
      "display": null,
      "flex": null,
      "flex_flow": null,
      "grid_area": null,
      "grid_auto_columns": null,
      "grid_auto_flow": null,
      "grid_auto_rows": null,
      "grid_column": null,
      "grid_gap": null,
      "grid_row": null,
      "grid_template_areas": null,
      "grid_template_columns": null,
      "grid_template_rows": null,
      "height": null,
      "justify_content": null,
      "justify_items": null,
      "left": null,
      "margin": null,
      "max_height": null,
      "max_width": null,
      "min_height": null,
      "min_width": null,
      "object_fit": null,
      "object_position": null,
      "order": null,
      "overflow": null,
      "overflow_x": null,
      "overflow_y": null,
      "padding": null,
      "right": null,
      "top": null,
      "visibility": null,
      "width": null
     }
    },
    "feeb62147f6c40a89aeeae45e853842e": {
     "model_module": "@jupyter-widgets/controls",
     "model_name": "ProgressStyleModel",
     "state": {
      "_model_module": "@jupyter-widgets/controls",
      "_model_module_version": "1.5.0",
      "_model_name": "ProgressStyleModel",
      "_view_count": null,
      "_view_module": "@jupyter-widgets/base",
      "_view_module_version": "1.2.0",
      "_view_name": "StyleView",
      "bar_color": null,
      "description_width": "initial"
     }
    }
   }
  }
 },
 "nbformat": 4,
 "nbformat_minor": 1
}
